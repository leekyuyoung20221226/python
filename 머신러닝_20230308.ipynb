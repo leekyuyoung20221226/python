{
  "nbformat": 4,
  "nbformat_minor": 0,
  "metadata": {
    "colab": {
      "provenance": []
    },
    "kernelspec": {
      "name": "python3",
      "display_name": "Python 3"
    },
    "language_info": {
      "name": "python"
    }
  },
  "cells": [
    {
      "cell_type": "code",
      "execution_count": 206,
      "metadata": {
        "colab": {
          "base_uri": "https://localhost:8080/"
        },
        "id": "iblaCAPAEjXz",
        "outputId": "c6d34130-ab45-4b9b-800b-3fa66f9e0f64"
      },
      "outputs": [
        {
          "output_type": "stream",
          "name": "stdout",
          "text": [
            " 데이터가져오기\n",
            "데이터 결측치 확인 - 처리\n",
            "데이터 이상치 확인 - 처리\n",
            "데이터 정규화 ( x - mean) / std\n",
            "아달린모델 적용\n",
            "확인하기 - 시각화\n",
            "\n"
          ]
        }
      ],
      "source": [
        "print(''' 데이터가져오기\n",
        "데이터 결측치 확인 - 처리\n",
        "데이터 이상치 확인 - 처리\n",
        "데이터 정규화 ( x - mean) / std\n",
        "아달린모델 적용\n",
        "확인하기 - 시각화\n",
        "''')"
      ]
    },
    {
      "cell_type": "code",
      "source": [
        "import pandas as pd\n",
        "import numpy as np\n",
        "import seaborn as sns"
      ],
      "metadata": {
        "id": "QSEDxB7QEkae"
      },
      "execution_count": 207,
      "outputs": []
    },
    {
      "cell_type": "code",
      "source": [
        "df = pd.read_csv('https://raw.githubusercontent.com/leekyuyoung20221226/python/main/data/train.csv')\n",
        "df.info()"
      ],
      "metadata": {
        "colab": {
          "base_uri": "https://localhost:8080/"
        },
        "id": "mhNdA_H0FOfd",
        "outputId": "6b15f5ab-e150-4f91-87c1-3c7ed75a1f75"
      },
      "execution_count": 208,
      "outputs": [
        {
          "output_type": "stream",
          "name": "stdout",
          "text": [
            "<class 'pandas.core.frame.DataFrame'>\n",
            "RangeIndex: 891 entries, 0 to 890\n",
            "Data columns (total 12 columns):\n",
            " #   Column       Non-Null Count  Dtype  \n",
            "---  ------       --------------  -----  \n",
            " 0   PassengerId  891 non-null    int64  \n",
            " 1   Survived     891 non-null    int64  \n",
            " 2   Pclass       891 non-null    int64  \n",
            " 3   Name         891 non-null    object \n",
            " 4   Sex          891 non-null    object \n",
            " 5   Age          714 non-null    float64\n",
            " 6   SibSp        891 non-null    int64  \n",
            " 7   Parch        891 non-null    int64  \n",
            " 8   Ticket       891 non-null    object \n",
            " 9   Fare         891 non-null    float64\n",
            " 10  Cabin        204 non-null    object \n",
            " 11  Embarked     889 non-null    object \n",
            "dtypes: float64(2), int64(5), object(5)\n",
            "memory usage: 83.7+ KB\n"
          ]
        }
      ]
    },
    {
      "cell_type": "code",
      "source": [
        "x = df[['Pclass', 'Sex','Age']]\n",
        "y = df['Survived'] "
      ],
      "metadata": {
        "id": "k_OT7APzFWCc"
      },
      "execution_count": 209,
      "outputs": []
    },
    {
      "cell_type": "code",
      "source": [
        "y[y == 0] = -1"
      ],
      "metadata": {
        "id": "OZJhrQH0FtVM",
        "colab": {
          "base_uri": "https://localhost:8080/"
        },
        "outputId": "6a052194-9417-4b46-e18e-e4cfde54060f"
      },
      "execution_count": 210,
      "outputs": [
        {
          "output_type": "stream",
          "name": "stderr",
          "text": [
            "<ipython-input-210-eee1c2f61a88>:1: SettingWithCopyWarning: \n",
            "A value is trying to be set on a copy of a slice from a DataFrame\n",
            "\n",
            "See the caveats in the documentation: https://pandas.pydata.org/pandas-docs/stable/user_guide/indexing.html#returning-a-view-versus-a-copy\n",
            "  y[y == 0] = -1\n"
          ]
        }
      ]
    },
    {
      "cell_type": "code",
      "source": [
        "np.unique(y)"
      ],
      "metadata": {
        "colab": {
          "base_uri": "https://localhost:8080/"
        },
        "id": "KBcpbBcpFuEM",
        "outputId": "821d7aee-aa28-44c4-ea09-f9818a49ad12"
      },
      "execution_count": 211,
      "outputs": [
        {
          "output_type": "execute_result",
          "data": {
            "text/plain": [
              "array([-1,  1])"
            ]
          },
          "metadata": {},
          "execution_count": 211
        }
      ]
    },
    {
      "cell_type": "code",
      "source": [
        "x.isnull().sum()"
      ],
      "metadata": {
        "colab": {
          "base_uri": "https://localhost:8080/"
        },
        "id": "f3JwvMzbF0SE",
        "outputId": "f12f1fad-80c4-4c31-db3a-c6b0edc289e2"
      },
      "execution_count": 212,
      "outputs": [
        {
          "output_type": "execute_result",
          "data": {
            "text/plain": [
              "Pclass      0\n",
              "Sex         0\n",
              "Age       177\n",
              "dtype: int64"
            ]
          },
          "metadata": {},
          "execution_count": 212
        }
      ]
    },
    {
      "cell_type": "code",
      "source": [
        "sns.boxplot(data=x['Age'])"
      ],
      "metadata": {
        "id": "QMl_f71eF4Yl",
        "colab": {
          "base_uri": "https://localhost:8080/",
          "height": 283
        },
        "outputId": "a4aaeb5f-9b4e-432b-c496-e5a5d207303a"
      },
      "execution_count": 213,
      "outputs": [
        {
          "output_type": "execute_result",
          "data": {
            "text/plain": [
              "<AxesSubplot:>"
            ]
          },
          "metadata": {},
          "execution_count": 213
        },
        {
          "output_type": "display_data",
          "data": {
            "text/plain": [
              "<Figure size 432x288 with 1 Axes>"
            ],
            "image/png": "[encoded data removed]"
          },
          "metadata": {
            "needs_background": "light"
          }
        }
      ]
    },
    {
      "cell_type": "code",
      "source": [
        "x.info()"
      ],
      "metadata": {
        "colab": {
          "base_uri": "https://localhost:8080/"
        },
        "id": "8Ln4vGtiGP1M",
        "outputId": "b1c0e65b-9f08-426c-f1ac-f4b21ce00f16"
      },
      "execution_count": 214,
      "outputs": [
        {
          "output_type": "stream",
          "name": "stdout",
          "text": [
            "<class 'pandas.core.frame.DataFrame'>\n",
            "RangeIndex: 891 entries, 0 to 890\n",
            "Data columns (total 3 columns):\n",
            " #   Column  Non-Null Count  Dtype  \n",
            "---  ------  --------------  -----  \n",
            " 0   Pclass  891 non-null    int64  \n",
            " 1   Sex     891 non-null    object \n",
            " 2   Age     714 non-null    float64\n",
            "dtypes: float64(1), int64(1), object(1)\n",
            "memory usage: 21.0+ KB\n"
          ]
        }
      ]
    },
    {
      "cell_type": "code",
      "source": [
        "x[x.isnull().any(axis = 1)]"
      ],
      "metadata": {
        "colab": {
          "base_uri": "https://localhost:8080/",
          "height": 423
        },
        "id": "vJXnLCRlojJ9",
        "outputId": "e62360de-0f87-4357-aaab-d9dccccf8067"
      },
      "execution_count": 215,
      "outputs": [
        {
          "output_type": "execute_result",
          "data": {
            "text/plain": [
              "     Pclass     Sex  Age\n",
              "5         3    male  NaN\n",
              "17        2    male  NaN\n",
              "19        3  female  NaN\n",
              "26        3    male  NaN\n",
              "28        3  female  NaN\n",
              "..      ...     ...  ...\n",
              "859       3    male  NaN\n",
              "863       3  female  NaN\n",
              "868       3    male  NaN\n",
              "878       3    male  NaN\n",
              "888       3  female  NaN\n",
              "\n",
              "[177 rows x 3 columns]"
            ],
            "text/html": [
              "\n",
              "  <div id=\"df-12556c4f-8eeb-4b1f-84d3-f20f93101814\">\n",
              "    <div class=\"colab-df-container\">\n",
              "      <div>\n",
              "<style scoped>\n",
              "    .dataframe tbody tr th:only-of-type {\n",
              "        vertical-align: middle;\n",
              "    }\n",
              "\n",
              "    .dataframe tbody tr th {\n",
              "        vertical-align: top;\n",
              "    }\n",
              "\n",
              "    .dataframe thead th {\n",
              "        text-align: right;\n",
              "    }\n",
              "</style>\n",
              "<table border=\"1\" class=\"dataframe\">\n",
              "  <thead>\n",
              "    <tr style=\"text-align: right;\">\n",
              "      <th></th>\n",
              "      <th>Pclass</th>\n",
              "      <th>Sex</th>\n",
              "      <th>Age</th>\n",
              "    </tr>\n",
              "  </thead>\n",
              "  <tbody>\n",
              "    <tr>\n",
              "      <th>5</th>\n",
              "      <td>3</td>\n",
              "      <td>male</td>\n",
              "      <td>NaN</td>\n",
              "    </tr>\n",
              "    <tr>\n",
              "      <th>17</th>\n",
              "      <td>2</td>\n",
              "      <td>male</td>\n",
              "      <td>NaN</td>\n",
              "    </tr>\n",
              "    <tr>\n",
              "      <th>19</th>\n",
              "      <td>3</td>\n",
              "      <td>female</td>\n",
              "      <td>NaN</td>\n",
              "    </tr>\n",
              "    <tr>\n",
              "      <th>26</th>\n",
              "      <td>3</td>\n",
              "      <td>male</td>\n",
              "      <td>NaN</td>\n",
              "    </tr>\n",
              "    <tr>\n",
              "      <th>28</th>\n",
              "      <td>3</td>\n",
              "      <td>female</td>\n",
              "      <td>NaN</td>\n",
              "    </tr>\n",
              "    <tr>\n",
              "      <th>...</th>\n",
              "      <td>...</td>\n",
              "      <td>...</td>\n",
              "      <td>...</td>\n",
              "    </tr>\n",
              "    <tr>\n",
              "      <th>859</th>\n",
              "      <td>3</td>\n",
              "      <td>male</td>\n",
              "      <td>NaN</td>\n",
              "    </tr>\n",
              "    <tr>\n",
              "      <th>863</th>\n",
              "      <td>3</td>\n",
              "      <td>female</td>\n",
              "      <td>NaN</td>\n",
              "    </tr>\n",
              "    <tr>\n",
              "      <th>868</th>\n",
              "      <td>3</td>\n",
              "      <td>male</td>\n",
              "      <td>NaN</td>\n",
              "    </tr>\n",
              "    <tr>\n",
              "      <th>878</th>\n",
              "      <td>3</td>\n",
              "      <td>male</td>\n",
              "      <td>NaN</td>\n",
              "    </tr>\n",
              "    <tr>\n",
              "      <th>888</th>\n",
              "      <td>3</td>\n",
              "      <td>female</td>\n",
              "      <td>NaN</td>\n",
              "    </tr>\n",
              "  </tbody>\n",
              "</table>\n",
              "<p>177 rows × 3 columns</p>\n",
              "</div>\n",
              "      <button class=\"colab-df-convert\" onclick=\"convertToInteractive('df-12556c4f-8eeb-4b1f-84d3-f20f93101814')\"\n",
              "              title=\"Convert this dataframe to an interactive table.\"\n",
              "              style=\"display:none;\">\n",
              "        \n",
              "  <svg xmlns=\"http://www.w3.org/2000/svg\" height=\"24px\"viewBox=\"0 0 24 24\"\n",
              "       width=\"24px\">\n",
              "    <path d=\"M0 0h24v24H0V0z\" fill=\"none\"/>\n",
              "    <path d=\"M18.56 5.44l.94 2.06.94-2.06 2.06-.94-2.06-.94-.94-2.06-.94 2.06-2.06.94zm-11 1L8.5 8.5l.94-2.06 2.06-.94-2.06-.94L8.5 2.5l-.94 2.06-2.06.94zm10 10l.94 2.06.94-2.06 2.06-.94-2.06-.94-.94-2.06-.94 2.06-2.06.94z\"/><path d=\"M17.41 7.96l-1.37-1.37c-.4-.4-.92-.59-1.43-.59-.52 0-1.04.2-1.43.59L10.3 9.45l-7.72 7.72c-.78.78-.78 2.05 0 2.83L4 21.41c.39.39.9.59 1.41.59.51 0 1.02-.2 1.41-.59l7.78-7.78 2.81-2.81c.8-.78.8-2.07 0-2.86zM5.41 20L4 18.59l7.72-7.72 1.47 1.35L5.41 20z\"/>\n",
              "  </svg>\n",
              "      </button>\n",
              "      \n",
              "  <style>\n",
              "    .colab-df-container {\n",
              "      display:flex;\n",
              "      flex-wrap:wrap;\n",
              "      gap: 12px;\n",
              "    }\n",
              "\n",
              "    .colab-df-convert {\n",
              "      background-color: #E8F0FE;\n",
              "      border: none;\n",
              "      border-radius: 50%;\n",
              "      cursor: pointer;\n",
              "      display: none;\n",
              "      fill: #1967D2;\n",
              "      height: 32px;\n",
              "      padding: 0 0 0 0;\n",
              "      width: 32px;\n",
              "    }\n",
              "\n",
              "    .colab-df-convert:hover {\n",
              "      background-color: #E2EBFA;\n",
              "      box-shadow: 0px 1px 2px rgba(60, 64, 67, 0.3), 0px 1px 3px 1px rgba(60, 64, 67, 0.15);\n",
              "      fill: #174EA6;\n",
              "    }\n",
              "\n",
              "    [theme=dark] .colab-df-convert {\n",
              "      background-color: #3B4455;\n",
              "      fill: #D2E3FC;\n",
              "    }\n",
              "\n",
              "    [theme=dark] .colab-df-convert:hover {\n",
              "      background-color: #434B5C;\n",
              "      box-shadow: 0px 1px 3px 1px rgba(0, 0, 0, 0.15);\n",
              "      filter: drop-shadow(0px 1px 2px rgba(0, 0, 0, 0.3));\n",
              "      fill: #FFFFFF;\n",
              "    }\n",
              "  </style>\n",
              "\n",
              "      <script>\n",
              "        const buttonEl =\n",
              "          document.querySelector('#df-12556c4f-8eeb-4b1f-84d3-f20f93101814 button.colab-df-convert');\n",
              "        buttonEl.style.display =\n",
              "          google.colab.kernel.accessAllowed ? 'block' : 'none';\n",
              "\n",
              "        async function convertToInteractive(key) {\n",
              "          const element = document.querySelector('#df-12556c4f-8eeb-4b1f-84d3-f20f93101814');\n",
              "          const dataTable =\n",
              "            await google.colab.kernel.invokeFunction('convertToInteractive',\n",
              "                                                     [key], {});\n",
              "          if (!dataTable) return;\n",
              "\n",
              "          const docLinkHtml = 'Like what you see? Visit the ' +\n",
              "            '<a target=\"_blank\" href=https://colab.research.google.com/notebooks/data_table.ipynb>data table notebook</a>'\n",
              "            + ' to learn more about interactive tables.';\n",
              "          element.innerHTML = '';\n",
              "          dataTable['output_type'] = 'display_data';\n",
              "          await google.colab.output.renderOutput(dataTable, element);\n",
              "          const docLink = document.createElement('div');\n",
              "          docLink.innerHTML = docLinkHtml;\n",
              "          element.appendChild(docLink);\n",
              "        }\n",
              "      </script>\n",
              "    </div>\n",
              "  </div>\n",
              "  "
            ]
          },
          "metadata": {},
          "execution_count": 215
        }
      ]
    },
    {
      "cell_type": "code",
      "source": [
        "# df[df['Sex']== 'male']['Sex'] = 0\n",
        "# df[df['Sex']== 'female']['Sex'] = 1\n",
        "x['Sex'] = x['Sex'].map({'male':0,'female':1})"
      ],
      "metadata": {
        "colab": {
          "base_uri": "https://localhost:8080/"
        },
        "id": "gvBqmEZ7GwZc",
        "outputId": "cc36c0e5-32a2-4f2e-9b64-bfd4d2255763"
      },
      "execution_count": 216,
      "outputs": [
        {
          "output_type": "stream",
          "name": "stderr",
          "text": [
            "<ipython-input-216-6bb6032f6e35>:3: SettingWithCopyWarning: \n",
            "A value is trying to be set on a copy of a slice from a DataFrame.\n",
            "Try using .loc[row_indexer,col_indexer] = value instead\n",
            "\n",
            "See the caveats in the documentation: https://pandas.pydata.org/pandas-docs/stable/user_guide/indexing.html#returning-a-view-versus-a-copy\n",
            "  x['Sex'] = x['Sex'].map({'male':0,'female':1})\n"
          ]
        }
      ]
    },
    {
      "cell_type": "code",
      "source": [
        "x.info()"
      ],
      "metadata": {
        "id": "ZqMDMv5bHCac",
        "colab": {
          "base_uri": "https://localhost:8080/"
        },
        "outputId": "69846fd3-088f-4e19-c0fb-e9b3f08e2375"
      },
      "execution_count": 217,
      "outputs": [
        {
          "output_type": "stream",
          "name": "stdout",
          "text": [
            "<class 'pandas.core.frame.DataFrame'>\n",
            "RangeIndex: 891 entries, 0 to 890\n",
            "Data columns (total 3 columns):\n",
            " #   Column  Non-Null Count  Dtype  \n",
            "---  ------  --------------  -----  \n",
            " 0   Pclass  891 non-null    int64  \n",
            " 1   Sex     891 non-null    int64  \n",
            " 2   Age     714 non-null    float64\n",
            "dtypes: float64(1), int64(2)\n",
            "memory usage: 21.0 KB\n"
          ]
        }
      ]
    },
    {
      "cell_type": "code",
      "source": [
        "# Pclass별 Sex별 Age에 대한 중위수를 구해서 해당 결측치를 치환한다.\n",
        "grouped = x.groupby(['Pclass','Sex'])"
      ],
      "metadata": {
        "id": "ybRhYTx0q9IM"
      },
      "execution_count": 218,
      "outputs": []
    },
    {
      "cell_type": "code",
      "source": [
        "grouped['Age'].median()"
      ],
      "metadata": {
        "colab": {
          "base_uri": "https://localhost:8080/"
        },
        "id": "33-O63oVrO78",
        "outputId": "21ddfdf5-29f7-421d-e8c5-bc7ab5881bf0"
      },
      "execution_count": 219,
      "outputs": [
        {
          "output_type": "execute_result",
          "data": {
            "text/plain": [
              "Pclass  Sex\n",
              "1       0      40.0\n",
              "        1      35.0\n",
              "2       0      30.0\n",
              "        1      28.0\n",
              "3       0      25.0\n",
              "        1      21.5\n",
              "Name: Age, dtype: float64"
            ]
          },
          "metadata": {},
          "execution_count": 219
        }
      ]
    },
    {
      "cell_type": "code",
      "source": [
        "x.fillna(grouped.transform('median'), inplace=True)"
      ],
      "metadata": {
        "colab": {
          "base_uri": "https://localhost:8080/"
        },
        "id": "TZJq8wBjrW_8",
        "outputId": "6787c428-f801-43cc-f025-178edb80a467"
      },
      "execution_count": 220,
      "outputs": [
        {
          "output_type": "stream",
          "name": "stderr",
          "text": [
            "/usr/local/lib/python3.8/dist-packages/pandas/core/frame.py:5176: SettingWithCopyWarning: \n",
            "A value is trying to be set on a copy of a slice from a DataFrame\n",
            "\n",
            "See the caveats in the documentation: https://pandas.pydata.org/pandas-docs/stable/user_guide/indexing.html#returning-a-view-versus-a-copy\n",
            "  return super().fillna(\n"
          ]
        }
      ]
    },
    {
      "cell_type": "code",
      "source": [
        "x.info()"
      ],
      "metadata": {
        "colab": {
          "base_uri": "https://localhost:8080/"
        },
        "id": "rVs3iCHvrg7M",
        "outputId": "a5d4c344-0029-4563-8bd9-d4f6269a20b2"
      },
      "execution_count": 221,
      "outputs": [
        {
          "output_type": "stream",
          "name": "stdout",
          "text": [
            "<class 'pandas.core.frame.DataFrame'>\n",
            "RangeIndex: 891 entries, 0 to 890\n",
            "Data columns (total 3 columns):\n",
            " #   Column  Non-Null Count  Dtype  \n",
            "---  ------  --------------  -----  \n",
            " 0   Pclass  891 non-null    int64  \n",
            " 1   Sex     891 non-null    int64  \n",
            " 2   Age     891 non-null    float64\n",
            "dtypes: float64(1), int64(2)\n",
            "memory usage: 21.0 KB\n"
          ]
        }
      ]
    },
    {
      "cell_type": "markdown",
      "source": [
        "데이터 정규화"
      ],
      "metadata": {
        "id": "pzKUBKx_rvPv"
      }
    },
    {
      "cell_type": "code",
      "source": [
        "x['Pclass'] = (x['Pclass'] - x['Pclass'].mean()) / x['Pclass'].std()\n",
        "x['Sex'] = (x['Sex'] - x['Sex'].mean()) / x['Sex'].std()\n",
        "x['Age'] = (x['Age'] - x['Age'].mean()) / x['Age'].std()\n",
        "# temp = x.apply(lambda x: (x-x.mean()) / x.std() , axis=1)"
      ],
      "metadata": {
        "id": "sA0UohnWroLu",
        "colab": {
          "base_uri": "https://localhost:8080/"
        },
        "outputId": "b82825b5-9520-4f20-f8c0-ea49b530870f"
      },
      "execution_count": 222,
      "outputs": [
        {
          "output_type": "stream",
          "name": "stderr",
          "text": [
            "<ipython-input-222-8cc0f7592b47>:1: SettingWithCopyWarning: \n",
            "A value is trying to be set on a copy of a slice from a DataFrame.\n",
            "Try using .loc[row_indexer,col_indexer] = value instead\n",
            "\n",
            "See the caveats in the documentation: https://pandas.pydata.org/pandas-docs/stable/user_guide/indexing.html#returning-a-view-versus-a-copy\n",
            "  x['Pclass'] = (x['Pclass'] - x['Pclass'].mean()) / x['Pclass'].std()\n",
            "<ipython-input-222-8cc0f7592b47>:2: SettingWithCopyWarning: \n",
            "A value is trying to be set on a copy of a slice from a DataFrame.\n",
            "Try using .loc[row_indexer,col_indexer] = value instead\n",
            "\n",
            "See the caveats in the documentation: https://pandas.pydata.org/pandas-docs/stable/user_guide/indexing.html#returning-a-view-versus-a-copy\n",
            "  x['Sex'] = (x['Sex'] - x['Sex'].mean()) / x['Sex'].std()\n",
            "<ipython-input-222-8cc0f7592b47>:3: SettingWithCopyWarning: \n",
            "A value is trying to be set on a copy of a slice from a DataFrame.\n",
            "Try using .loc[row_indexer,col_indexer] = value instead\n",
            "\n",
            "See the caveats in the documentation: https://pandas.pydata.org/pandas-docs/stable/user_guide/indexing.html#returning-a-view-versus-a-copy\n",
            "  x['Age'] = (x['Age'] - x['Age'].mean()) / x['Age'].std()\n"
          ]
        }
      ]
    },
    {
      "cell_type": "code",
      "source": [
        "rgen = np.random.RandomState(1)\n",
        "w =  rgen.normal(loc=0.0, scale=0.01,size=1+x.shape[1])"
      ],
      "metadata": {
        "id": "gCEWIbrf5Wu0"
      },
      "execution_count": 223,
      "outputs": []
    },
    {
      "cell_type": "code",
      "source": [
        "output = np.dot(x, w[1:]) + w[0]\n",
        "errors = (y - output)\n",
        "errors"
      ],
      "metadata": {
        "colab": {
          "base_uri": "https://localhost:8080/"
        },
        "id": "JUrEqCmC6EIq",
        "outputId": "2e1c9bc0-6626-4af1-d38b-4eff1c3d9d4d"
      },
      "execution_count": 224,
      "outputs": [
        {
          "output_type": "execute_result",
          "data": {
            "text/plain": [
              "0     -1.020815\n",
              "1      0.988505\n",
              "2      0.993461\n",
              "3      0.986085\n",
              "4     -1.010331\n",
              "         ...   \n",
              "886   -1.024100\n",
              "887    0.973181\n",
              "888   -1.010168\n",
              "889    0.967777\n",
              "890   -1.012750\n",
              "Name: Survived, Length: 891, dtype: float64"
            ]
          },
          "metadata": {},
          "execution_count": 224
        }
      ]
    },
    {
      "cell_type": "code",
      "source": [
        "# x.shape   (891, 3)\n",
        "# x.T.shape  (3, 891)\n",
        "# errors.shape  (891,)\n",
        "\n",
        "x.T.dot(errors)\n",
        "# x.dot(errors)"
      ],
      "metadata": {
        "colab": {
          "base_uri": "https://localhost:8080/"
        },
        "id": "mQxQOF8S6cL2",
        "outputId": "74697062-b65e-41e2-a2e2-823ca84e1197"
      },
      "execution_count": 225,
      "outputs": [
        {
          "output_type": "execute_result",
          "data": {
            "text/plain": [
              "Pclass   -292.295000\n",
              "Sex       473.617209\n",
              "Age       -44.788931\n",
              "dtype: float64"
            ]
          },
          "metadata": {},
          "execution_count": 225
        }
      ]
    },
    {
      "cell_type": "code",
      "source": [
        "class AdalineGD(object):\n",
        "  ''' 아달린\n",
        "  parameter : \n",
        "    eta : float (0.0~1.0)  학습률\n",
        "    n_iter : int  반복훈련 횟수\n",
        "    random_sate : int 랜덤시드값\n",
        "    w_ : 가중치(학습)\n",
        "    cost_ : list  에포크마다 누적된 비용함수의 제곱합\n",
        "  '''\n",
        "  def __init__(self,eta=0.01, n_iter=50, random_state = 1) -> None:\n",
        "    self.eta = eta\n",
        "    self.n_iter = n_iter\n",
        "    self.random_state = random_state\n",
        "  def fit(self, x,y):\n",
        "    ''' 훈련함수\n",
        "      x : array, shape = (samples, features )\n",
        "      y : array, shape = (samples )      \n",
        "    '''\n",
        "    rgen = np.random.RandomState(self.random_state)\n",
        "    self.w_ =  rgen.normal(loc=0.0, scale=0.01,size=1+x.shape[1])\n",
        "    self.cost_ = []\n",
        "    for i in range(self.n_iter):\n",
        "      net_input = self.net_input(x);\n",
        "      output = self.activation(net_input);\n",
        "      errors = (y - output)\n",
        "      # x 행렬, erros 벡터\n",
        "      # 행렬-벡터 곱셈  x.T.dot(erros)\n",
        "      self.w_[1:] += self.eta*x.T.dot(errors)\n",
        "      self.w_[0] += self.eta*errors.sum()\n",
        "      cost = (errors**2).sum() / 2.0\n",
        "      self.cost_.append(cost)\n",
        "    return self\n",
        "\n",
        "  def net_input(self, x):\n",
        "    '''최종입력 함수'''\n",
        "    return np.dot(x, self.w_[1:]) + self.w_[0]\n",
        "  def activation(self, x):\n",
        "    '''선형 활성화 계산\n",
        "    단순 항등 함수이기때문에 아무런 영향을 미치지 않음\n",
        "    '''\n",
        "    return x\n",
        "  def predict(self, x):\n",
        "    ''' 단위 계단함수를 사용해서 클래스 레이블을 반환'''\n",
        "    return np.where(self.activation(self.net_input(x)) >=0.0, 1, -1  )\n",
        "  \n"
      ],
      "metadata": {
        "id": "kWDQeDKjscRk"
      },
      "execution_count": 226,
      "outputs": []
    },
    {
      "cell_type": "code",
      "source": [
        "adal = AdalineGD(eta = 0.001, n_iter = 50).fit(x.to_numpy(),y.to_numpy())"
      ],
      "metadata": {
        "id": "bU3ywyNhurNk"
      },
      "execution_count": 227,
      "outputs": []
    },
    {
      "cell_type": "code",
      "source": [
        "import matplotlib.pyplot as plt"
      ],
      "metadata": {
        "id": "YRcNxqr_uwXU"
      },
      "execution_count": 228,
      "outputs": []
    },
    {
      "cell_type": "code",
      "source": [
        "plt.plot(range(1, len(adal.cost_)+1),adal.cost_)\n",
        "plt.show()"
      ],
      "metadata": {
        "colab": {
          "base_uri": "https://localhost:8080/",
          "height": 265
        },
        "id": "Nh_JzDspvK3k",
        "outputId": "16d9285a-273a-4d8b-db3b-f43296838206"
      },
      "execution_count": 229,
      "outputs": [
        {
          "output_type": "display_data",
          "data": {
            "text/plain": [
              "<Figure size 432x288 with 1 Axes>"
            ],
            "image/png": "[encoded data removed]"
          },
          "metadata": {
            "needs_background": "light"
          }
        }
      ]
    },
    {
      "cell_type": "code",
      "source": [
        "(adal.predict(x) == y).sum() / len(y)"
      ],
      "metadata": {
        "colab": {
          "base_uri": "https://localhost:8080/"
        },
        "id": "tz7Yw-2Nvl8M",
        "outputId": "d81ce4c0-1f8d-470f-ae86-599593b67710"
      },
      "execution_count": 230,
      "outputs": [
        {
          "output_type": "execute_result",
          "data": {
            "text/plain": [
              "0.7912457912457912"
            ]
          },
          "metadata": {},
          "execution_count": 230
        }
      ]
    },
    {
      "cell_type": "code",
      "source": [
        "from xgboost import XGBClassifier\n",
        "xgb = XGBClassifier()\n",
        "y[y == -1] = 0\n",
        "xgb.fit(x,y)\n",
        "xgb.score(x,y)"
      ],
      "metadata": {
        "id": "cybO8KePvvnL",
        "colab": {
          "base_uri": "https://localhost:8080/"
        },
        "outputId": "d755f7e2-6cd2-4469-e195-1a9a60aa7223"
      },
      "execution_count": 231,
      "outputs": [
        {
          "output_type": "stream",
          "name": "stderr",
          "text": [
            "<ipython-input-231-f805f045cb7d>:3: SettingWithCopyWarning: \n",
            "A value is trying to be set on a copy of a slice from a DataFrame\n",
            "\n",
            "See the caveats in the documentation: https://pandas.pydata.org/pandas-docs/stable/user_guide/indexing.html#returning-a-view-versus-a-copy\n",
            "  y[y == -1] = 0\n"
          ]
        },
        {
          "output_type": "execute_result",
          "data": {
            "text/plain": [
              "0.8698092031425365"
            ]
          },
          "metadata": {},
          "execution_count": 231
        }
      ]
    },
    {
      "cell_type": "markdown",
      "source": [
        "대규모 데이터를 사용한 적응형 선형 뉴런(아달린)\n",
        "  - 확률적 경사하강법 : 가중치가 자주 업데이트된다, 수렴 속도가 빠르다\n",
        "  - 훈련셈플을 무작위로 주입\n",
        "  - 매 에포크마다 훈련 데이터셋을 섞는다"
      ],
      "metadata": {
        "id": "phtuwXFUy4Q4"
      }
    },
    {
      "cell_type": "code",
      "source": [
        "class AdalineSGD(object):\n",
        "    \"\"\"ADAptive LInear NEuron 분류기\n",
        "\n",
        "    Parameters\n",
        "    ------------\n",
        "    eta : float\n",
        "      학습률 (0.0과 1.0 사이)\n",
        "    n_iter : int\n",
        "      훈련 데이터셋 반복 횟수\n",
        "    shuffle : bool (default: True)\n",
        "      True로 설정하면 같은 반복이 되지 않도록 에포크마다 훈련 데이터를 섞습니다\n",
        "    random_state : int\n",
        "      가중치 무작위 초기화를 위한 난수 생성기 시드\n",
        "\n",
        "    Attributes\n",
        "    -----------\n",
        "    w_ : 1d-array\n",
        "      학습된 가중치\n",
        "    cost_ : list\n",
        "      모든 훈련 샘플에 대해 에포크마다 누적된 평균 비용 함수의 제곱합\n",
        "\n",
        "    \"\"\"\n",
        "    def __init__(self, eta=0.01, n_iter=10, shuffle=True, random_state=None):\n",
        "        self.eta = eta\n",
        "        self.n_iter = n_iter\n",
        "        self.w_initialized = False\n",
        "        self.shuffle = shuffle\n",
        "        self.random_state = random_state\n",
        "        \n",
        "    def fit(self, X, y):\n",
        "        \"\"\"훈련 데이터 학습\n",
        "\n",
        "        Parameters\n",
        "        ----------\n",
        "        X : {array-like}, shape = [n_samples, n_features]\n",
        "          n_samples 개의 샘플과 n_features 개의 특성으로 이루어진 훈련 데이터\n",
        "        y : array-like, shape = [n_samples]\n",
        "          타깃 벡터\n",
        "\n",
        "        반환값\n",
        "        -------\n",
        "        self : object\n",
        "\n",
        "        \"\"\"\n",
        "        self._initialize_weights(X.shape[1])\n",
        "        self.cost_ = []        \n",
        "        for i in range(self.n_iter):\n",
        "            if self.shuffle:\n",
        "                X, y = self._shuffle(X, y)\n",
        "            cost = []\n",
        "            for xi, target in zip(X, y):\n",
        "                cost.append(self._update_weights(xi, target))\n",
        "            avg_cost = sum(cost) / len(y)\n",
        "            self.cost_.append(avg_cost)\n",
        "        return self\n",
        "\n",
        "    # 온라인 학습법.. 주어진 데이터로 학습한후. 추가데이터가 있을경우 해당 데이터만 추가로 학습\n",
        "    def partial_fit(self, X, y):\n",
        "        \"\"\"가중치를 다시 초기화하지 않고 훈련 데이터를 학습합니다\"\"\"\n",
        "        if not self.w_initialized:\n",
        "            self._initialize_weights(X.shape[1])\n",
        "        if y.ravel().shape[0] > 1:\n",
        "            for xi, target in zip(X, y):\n",
        "                self._update_weights(xi, target)\n",
        "        else:\n",
        "            self._update_weights(X, y)\n",
        "        return self\n",
        "\n",
        "    def _shuffle(self, X, y):\n",
        "        \"\"\"훈련 데이터를 섞습니다\"\"\"\n",
        "        r = self.rgen.permutation(len(y))\n",
        "        return X[r], y[r]\n",
        "    \n",
        "    def _initialize_weights(self, m):\n",
        "        \"\"\"랜덤한 작은 수로 가중치를 초기화합니다\"\"\"\n",
        "        self.rgen = np.random.RandomState(self.random_state)\n",
        "        self.w_ = self.rgen.normal(loc=0.0, scale=0.01, size=1 + m)\n",
        "        self.w_initialized = True\n",
        "        \n",
        "    def _update_weights(self, xi, target):\n",
        "        \"\"\"아달린 학습 규칙을 적용하여 가중치를 업데이트합니다\"\"\"\n",
        "        output = self.activation(self.net_input(xi))\n",
        "        error = (target - output)\n",
        "        self.w_[1:] += self.eta * xi.dot(error)\n",
        "        self.w_[0] += self.eta * error\n",
        "        cost = 0.5 * error**2\n",
        "        return cost\n",
        "    \n",
        "    def net_input(self, X):\n",
        "        \"\"\"입력 계산\"\"\"\n",
        "        return np.dot(X, self.w_[1:]) + self.w_[0]\n",
        "\n",
        "    def activation(self, X):\n",
        "        \"\"\"선형 활성화 계산\"\"\"\n",
        "        return X\n",
        "\n",
        "    def predict(self, X):\n",
        "        \"\"\"단위 계단 함수를 사용하여 클래스 레이블을 반환합니다\"\"\"\n",
        "        return np.where(self.activation(self.net_input(X)) >= 0.0, 1, -1)"
      ],
      "metadata": {
        "id": "22Dy9Z1-yfqL"
      },
      "execution_count": 232,
      "outputs": []
    },
    {
      "cell_type": "markdown",
      "source": [
        "데이터 확보"
      ],
      "metadata": {
        "id": "wOoqLY65-Pa0"
      }
    },
    {
      "cell_type": "code",
      "source": [
        "s = 'https://archive.ics.uci.edu/ml/machine-learning-databases/iris/iris.data'\n",
        "df =  pd.read_csv(s,header=None)\n",
        "df = df.iloc[:100]\n",
        "x = df.iloc[:,[0,2]]\n",
        "y = df.iloc[:,-1]\n",
        "y[:50] = -1\n",
        "y[50:] = 1\n",
        "y = y.astype(int)\n",
        "x = x.to_numpy()\n",
        "y = y.to_numpy()"
      ],
      "metadata": {
        "id": "gWFGydhb2DWD",
        "colab": {
          "base_uri": "https://localhost:8080/"
        },
        "outputId": "70be710f-b457-4ee9-eee9-8363f909cc94"
      },
      "execution_count": 233,
      "outputs": [
        {
          "output_type": "stream",
          "name": "stderr",
          "text": [
            "<ipython-input-233-7e7656e5ee18>:6: SettingWithCopyWarning: \n",
            "A value is trying to be set on a copy of a slice from a DataFrame\n",
            "\n",
            "See the caveats in the documentation: https://pandas.pydata.org/pandas-docs/stable/user_guide/indexing.html#returning-a-view-versus-a-copy\n",
            "  y[:50] = -1\n",
            "<ipython-input-233-7e7656e5ee18>:7: SettingWithCopyWarning: \n",
            "A value is trying to be set on a copy of a slice from a DataFrame\n",
            "\n",
            "See the caveats in the documentation: https://pandas.pydata.org/pandas-docs/stable/user_guide/indexing.html#returning-a-view-versus-a-copy\n",
            "  y[50:] = 1\n"
          ]
        }
      ]
    },
    {
      "cell_type": "code",
      "source": [
        "x_std = np.copy(x)\n",
        "x_std[:,0] = (x[:,0] - x[:,0].mean()) / x[:,0].std()\n",
        "x_std[:,1] = (x[:,1] - x[:,1].mean()) / x[:,1].std()"
      ],
      "metadata": {
        "id": "sRB81H9M_rA7"
      },
      "execution_count": 234,
      "outputs": []
    },
    {
      "cell_type": "code",
      "source": [
        "ada = AdalineSGD(n_iter=15, eta = 0.01, random_state=1)\n",
        "ada.fit(x_std, y)"
      ],
      "metadata": {
        "colab": {
          "base_uri": "https://localhost:8080/"
        },
        "id": "k9PyvW7V2DzM",
        "outputId": "26075a31-babf-4999-fdd7-1279f23a0469"
      },
      "execution_count": 235,
      "outputs": [
        {
          "output_type": "execute_result",
          "data": {
            "text/plain": [
              "<__main__.AdalineSGD at 0x7f23382cd400>"
            ]
          },
          "metadata": {},
          "execution_count": 235
        }
      ]
    },
    {
      "cell_type": "code",
      "source": [
        "plt.plot(range(1,len(ada.cost_)+1), ada.cost_)\n",
        "plt.show()"
      ],
      "metadata": {
        "colab": {
          "base_uri": "https://localhost:8080/",
          "height": 265
        },
        "id": "xynvrBBqAHjh",
        "outputId": "58ce2beb-fcce-443f-9eee-6bec85682934"
      },
      "execution_count": 236,
      "outputs": [
        {
          "output_type": "display_data",
          "data": {
            "text/plain": [
              "<Figure size 432x288 with 1 Axes>"
            ],
            "image/png": "[encoded data removed]"
          },
          "metadata": {
            "needs_background": "light"
          }
        }
      ]
    },
    {
      "cell_type": "markdown",
      "source": [
        "퍼셉트론 훈련"
      ],
      "metadata": {
        "id": "FdzPTxlOB6si"
      }
    },
    {
      "cell_type": "code",
      "source": [
        "from sklearn import datasets"
      ],
      "metadata": {
        "id": "kh2IyOBrAaEp"
      },
      "execution_count": 237,
      "outputs": []
    },
    {
      "cell_type": "code",
      "source": [
        "iris = datasets.load_iris()\n",
        "iris.keys()"
      ],
      "metadata": {
        "colab": {
          "base_uri": "https://localhost:8080/"
        },
        "id": "EeI17tG4Gdp3",
        "outputId": "cdba9c0e-cf76-4f09-af31-f7123ce88316"
      },
      "execution_count": 238,
      "outputs": [
        {
          "output_type": "execute_result",
          "data": {
            "text/plain": [
              "dict_keys(['data', 'target', 'frame', 'target_names', 'DESCR', 'feature_names', 'filename', 'data_module'])"
            ]
          },
          "metadata": {},
          "execution_count": 238
        }
      ]
    },
    {
      "cell_type": "code",
      "source": [
        "x = iris.data[:,[2,3]]\n",
        "y = iris.target"
      ],
      "metadata": {
        "id": "N1DYaHGaGk9g"
      },
      "execution_count": 239,
      "outputs": []
    },
    {
      "cell_type": "code",
      "source": [
        "from sklearn.model_selection import train_test_split"
      ],
      "metadata": {
        "id": "Xw6uO4cWGzq_"
      },
      "execution_count": 240,
      "outputs": []
    },
    {
      "cell_type": "code",
      "source": [
        "# 7: 3\n",
        "x_train,x_test,y_train,y_test =  train_test_split(x,y,random_state=1, test_size=0.3, stratify=y)"
      ],
      "metadata": {
        "id": "fZHOKGrQHgUn"
      },
      "execution_count": 241,
      "outputs": []
    },
    {
      "cell_type": "code",
      "source": [
        "np.bincount(y_train), np.bincount(y_test)"
      ],
      "metadata": {
        "colab": {
          "base_uri": "https://localhost:8080/"
        },
        "id": "q2SB20BCIBg3",
        "outputId": "d37d922b-1944-45d0-d845-69eaf753316c"
      },
      "execution_count": 242,
      "outputs": [
        {
          "output_type": "execute_result",
          "data": {
            "text/plain": [
              "(array([35, 35, 35]), array([15, 15, 15]))"
            ]
          },
          "metadata": {},
          "execution_count": 242
        }
      ]
    },
    {
      "cell_type": "code",
      "source": [
        "from sklearn.preprocessing import StandardScaler\n",
        "ss = StandardScaler()\n",
        "ss.fit(x_train)\n",
        "x_train_scaled = ss.transform(x_train)\n",
        "x_test_scaled = ss.transform(x_test)"
      ],
      "metadata": {
        "id": "I_7tA-e9JAYB"
      },
      "execution_count": 243,
      "outputs": []
    },
    {
      "cell_type": "code",
      "source": [
        "from sklearn.linear_model import Perceptron\n",
        "p = Perceptron(eta0 = 0.1, random_state=1)\n",
        "p.fit(x_train_scaled, y_train)"
      ],
      "metadata": {
        "id": "tHYkJ6DFKMTQ",
        "colab": {
          "base_uri": "https://localhost:8080/",
          "height": 74
        },
        "outputId": "9bdfd02d-875a-4e22-f914-d93fc4ade4b3"
      },
      "execution_count": 245,
      "outputs": [
        {
          "output_type": "execute_result",
          "data": {
            "text/plain": [
              "Perceptron(eta0=0.1, random_state=1)"
            ],
            "text/html": [
              "<style>#sk-container-id-2 {color: black;background-color: white;}#sk-container-id-2 pre{padding: 0;}#sk-container-id-2 div.sk-toggleable {background-color: white;}#sk-container-id-2 label.sk-toggleable__label {cursor: pointer;display: block;width: 100%;margin-bottom: 0;padding: 0.3em;box-sizing: border-box;text-align: center;}#sk-container-id-2 label.sk-toggleable__label-arrow:before {content: \"▸\";float: left;margin-right: 0.25em;color: #696969;}#sk-container-id-2 label.sk-toggleable__label-arrow:hover:before {color: black;}#sk-container-id-2 div.sk-estimator:hover label.sk-toggleable__label-arrow:before {color: black;}#sk-container-id-2 div.sk-toggleable__content {max-height: 0;max-width: 0;overflow: hidden;text-align: left;background-color: #f0f8ff;}#sk-container-id-2 div.sk-toggleable__content pre {margin: 0.2em;color: black;border-radius: 0.25em;background-color: #f0f8ff;}#sk-container-id-2 input.sk-toggleable__control:checked~div.sk-toggleable__content {max-height: 200px;max-width: 100%;overflow: auto;}#sk-container-id-2 input.sk-toggleable__control:checked~label.sk-toggleable__label-arrow:before {content: \"▾\";}#sk-container-id-2 div.sk-estimator input.sk-toggleable__control:checked~label.sk-toggleable__label {background-color: #d4ebff;}#sk-container-id-2 div.sk-label input.sk-toggleable__control:checked~label.sk-toggleable__label {background-color: #d4ebff;}#sk-container-id-2 input.sk-hidden--visually {border: 0;clip: rect(1px 1px 1px 1px);clip: rect(1px, 1px, 1px, 1px);height: 1px;margin: -1px;overflow: hidden;padding: 0;position: absolute;width: 1px;}#sk-container-id-2 div.sk-estimator {font-family: monospace;background-color: #f0f8ff;border: 1px dotted black;border-radius: 0.25em;box-sizing: border-box;margin-bottom: 0.5em;}#sk-container-id-2 div.sk-estimator:hover {background-color: #d4ebff;}#sk-container-id-2 div.sk-parallel-item::after {content: \"\";width: 100%;border-bottom: 1px solid gray;flex-grow: 1;}#sk-container-id-2 div.sk-label:hover label.sk-toggleable__label {background-color: #d4ebff;}#sk-container-id-2 div.sk-serial::before {content: \"\";position: absolute;border-left: 1px solid gray;box-sizing: border-box;top: 0;bottom: 0;left: 50%;z-index: 0;}#sk-container-id-2 div.sk-serial {display: flex;flex-direction: column;align-items: center;background-color: white;padding-right: 0.2em;padding-left: 0.2em;position: relative;}#sk-container-id-2 div.sk-item {position: relative;z-index: 1;}#sk-container-id-2 div.sk-parallel {display: flex;align-items: stretch;justify-content: center;background-color: white;position: relative;}#sk-container-id-2 div.sk-item::before, #sk-container-id-2 div.sk-parallel-item::before {content: \"\";position: absolute;border-left: 1px solid gray;box-sizing: border-box;top: 0;bottom: 0;left: 50%;z-index: -1;}#sk-container-id-2 div.sk-parallel-item {display: flex;flex-direction: column;z-index: 1;position: relative;background-color: white;}#sk-container-id-2 div.sk-parallel-item:first-child::after {align-self: flex-end;width: 50%;}#sk-container-id-2 div.sk-parallel-item:last-child::after {align-self: flex-start;width: 50%;}#sk-container-id-2 div.sk-parallel-item:only-child::after {width: 0;}#sk-container-id-2 div.sk-dashed-wrapped {border: 1px dashed gray;margin: 0 0.4em 0.5em 0.4em;box-sizing: border-box;padding-bottom: 0.4em;background-color: white;}#sk-container-id-2 div.sk-label label {font-family: monospace;font-weight: bold;display: inline-block;line-height: 1.2em;}#sk-container-id-2 div.sk-label-container {text-align: center;}#sk-container-id-2 div.sk-container {/* jupyter's `normalize.less` sets `[hidden] { display: none; }` but bootstrap.min.css set `[hidden] { display: none !important; }` so we also need the `!important` here to be able to override the default hidden behavior on the sphinx rendered scikit-learn.org. See: https://github.com/scikit-learn/scikit-learn/issues/21755 */display: inline-block !important;position: relative;}#sk-container-id-2 div.sk-text-repr-fallback {display: none;}</style><div id=\"sk-container-id-2\" class=\"sk-top-container\"><div class=\"sk-text-repr-fallback\"><pre>Perceptron(eta0=0.1, random_state=1)</pre><b>In a Jupyter environment, please rerun this cell to show the HTML representation or trust the notebook. <br />On GitHub, the HTML representation is unable to render, please try loading this page with nbviewer.org.</b></div><div class=\"sk-container\" hidden><div class=\"sk-item\"><div class=\"sk-estimator sk-toggleable\"><input class=\"sk-toggleable__control sk-hidden--visually\" id=\"sk-estimator-id-2\" type=\"checkbox\" checked><label for=\"sk-estimator-id-2\" class=\"sk-toggleable__label sk-toggleable__label-arrow\">Perceptron</label><div class=\"sk-toggleable__content\"><pre>Perceptron(eta0=0.1, random_state=1)</pre></div></div></div></div></div>"
            ]
          },
          "metadata": {},
          "execution_count": 245
        }
      ]
    },
    {
      "cell_type": "code",
      "source": [
        "# 예측\n",
        "y_pred = p.predict(x_test_scaled)"
      ],
      "metadata": {
        "id": "wNc6TGT7K8tC"
      },
      "execution_count": 246,
      "outputs": []
    },
    {
      "cell_type": "code",
      "source": [
        "# 성능 몇개 맞추고 몇개 틀렸는지.... 확률... 정확률.. accuracy"
      ],
      "metadata": {
        "id": "RJStM9g7LMQ2"
      },
      "execution_count": 247,
      "outputs": []
    },
    {
      "cell_type": "code",
      "source": [
        "from sklearn.metrics import accuracy_score\n",
        "np.round(accuracy_score(y_test, y_pred),3)"
      ],
      "metadata": {
        "colab": {
          "base_uri": "https://localhost:8080/"
        },
        "id": "w0ffR4ICLTt_",
        "outputId": "20b77694-45e4-46cf-e259-de42fbda0135"
      },
      "execution_count": 249,
      "outputs": [
        {
          "output_type": "execute_result",
          "data": {
            "text/plain": [
              "0.978"
            ]
          },
          "metadata": {},
          "execution_count": 249
        }
      ]
    },
    {
      "cell_type": "code",
      "source": [
        "class LogisticRegressionGD(object):\n",
        "  ''' 경사하강법을 사용한 로지스특 회귀\n",
        "  parameter : \n",
        "    eta : float (0.0~1.0)  학습률\n",
        "    n_iter : int  반복훈련 횟수\n",
        "    random_sate : int 랜덤시드값\n",
        "    w_ : 가중치(학습)\n",
        "    cost_ : list  에포크마다 누적된 비용함수의 제곱합\n",
        "  '''\n",
        "  def __init__(self,eta=0.01, n_iter=50, random_state = 1) -> None:\n",
        "    self.eta = eta\n",
        "    self.n_iter = n_iter\n",
        "    self.random_state = random_state\n",
        "  def fit(self, x,y):\n",
        "    ''' 훈련함수\n",
        "      x : array, shape = (samples, features )\n",
        "      y : array, shape = (samples )      \n",
        "    '''\n",
        "    rgen = np.random.RandomState(self.random_state)\n",
        "    self.w_ =  rgen.normal(loc=0.0, scale=0.01,size=1+x.shape[1])\n",
        "    self.cost_ = []\n",
        "    for i in range(self.n_iter):\n",
        "      net_input = self.net_input(x);\n",
        "      output = self.activation(net_input);\n",
        "      errors = (y - output)\n",
        "      # x 행렬, erros 벡터\n",
        "      # 행렬-벡터 곱셈  x.T.dot(erros)\n",
        "      self.w_[1:] += self.eta*x.T.dot(errors)\n",
        "      self.w_[0] += self.eta*errors.sum()\n",
        "      \n",
        "      # 오차 제곱합 대신 로지스틱 비용을 계산\n",
        "      cost = -y.dot(np.log(output)) - (1-y).dot(np.log(1-output))\n",
        "      self.cost_.append(cost)\n",
        "    return self\n",
        "\n",
        "  def net_input(self, x):\n",
        "    '''최종입력 함수'''\n",
        "    return np.dot(x, self.w_[1:]) + self.w_[0]\n",
        "  def activation(self, x):\n",
        "    '''선형 활성화 계산\n",
        "    단순 항등 함수이기때문에 아무런 영향을 미치지 않음\n",
        "    '''\n",
        "    return x\n",
        "  def predict(self, x):\n",
        "    ''' 단위 계단함수를 사용해서 클래스 레이블을 반환'''\n",
        "    return np.where(self.activation(self.net_input(x)) >=0.0, 1, -1  )\n",
        "  \n"
      ],
      "metadata": {
        "id": "wUftFkZ9LkkG"
      },
      "execution_count": null,
      "outputs": []
    }
  ]
}