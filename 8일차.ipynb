{
 "cells": [
  {
   "cell_type": "code",
   "execution_count": 1,
   "id": "a523538e-22b3-484e-9d14-425fccd28e3a",
   "metadata": {},
   "outputs": [],
   "source": [
    "# 클래스 생성"
   ]
  },
  {
   "cell_type": "code",
   "execution_count": 2,
   "id": "40d86c1e-b699-4323-b2cd-33f5b9e36f33",
   "metadata": {},
   "outputs": [],
   "source": [
    "# 객체\n",
    "# 클래스\n",
    "# 비지니스 로직 : 적합한 메소드(함수) 와 그 메소드에서 사용하는 변수"
   ]
  },
  {
   "cell_type": "code",
   "execution_count": 3,
   "id": "c661a991-cb11-4c27-8d86-2d32bf661710",
   "metadata": {},
   "outputs": [],
   "source": [
    "# 동물 클래스\n",
    "# 타입 : 개, 고양이...\n",
    "# 나이\n",
    "# 예방접종 여부"
   ]
  },
  {
   "cell_type": "code",
   "execution_count": 10,
   "id": "67565a31-49e8-40ed-af59-4a9bbfb397f0",
   "metadata": {},
   "outputs": [],
   "source": [
    "class Animal():\n",
    "    def __init__(self, type_, age, isPrevent):\n",
    "        self.type_ = type_\n",
    "        self.age = age\n",
    "        self.isPrevent = isPrevent        \n",
    "    def __str__(self):\n",
    "        return f\"type:{self.type_} age:{self.age} isPrevent : {self.isPrevent}\""
   ]
  },
  {
   "cell_type": "code",
   "execution_count": 11,
   "id": "59b61d54-1562-4d0b-9e2c-982ae545c43a",
   "metadata": {},
   "outputs": [],
   "source": [
    "animal1 = Animal('고양이',1,True)"
   ]
  },
  {
   "cell_type": "code",
   "execution_count": 12,
   "id": "25b977cf-fe11-4502-b8c7-4f33ac4dc70d",
   "metadata": {},
   "outputs": [
    {
     "name": "stdout",
     "output_type": "stream",
     "text": [
      "type:고양이 age:1 isPrevent : True\n"
     ]
    }
   ],
   "source": [
    "print(animal1)"
   ]
  },
  {
   "cell_type": "markdown",
   "id": "0274044c-5030-40bb-843a-fc489b39ac98",
   "metadata": {},
   "source": [
    "# 상속"
   ]
  },
  {
   "cell_type": "code",
   "execution_count": 14,
   "id": "197db19e-0fbb-483e-9be9-a184ba279dcd",
   "metadata": {},
   "outputs": [
    {
     "data": {
      "text/plain": [
       "str"
      ]
     },
     "execution_count": 14,
     "metadata": {},
     "output_type": "execute_result"
    }
   ],
   "source": [
    "class Person(object):\n",
    "    pass\n",
    "# object : 가장 기본이 되는 객체\n",
    "a = \"abc\"\n",
    "type(a)"
   ]
  },
  {
   "cell_type": "code",
   "execution_count": 16,
   "id": "ee7fbc10-5409-496a-a680-b17c236c1fc4",
   "metadata": {},
   "outputs": [],
   "source": [
    "class Person(object):\n",
    "    def __init__(self,name,age):\n",
    "        self.name = name\n",
    "        self.age = age"
   ]
  },
  {
   "cell_type": "code",
   "execution_count": 41,
   "id": "459ef9b9-77e4-41ed-a79e-77f59bf2fd4d",
   "metadata": {},
   "outputs": [],
   "source": [
    "class Korean(Person):\n",
    "    # def __init__(self,name,age):\n",
    "    #     super().__init__(name,age)    \n",
    "    pass"
   ]
  },
  {
   "cell_type": "code",
   "execution_count": 42,
   "id": "0416e1ca-4b78-4e0e-b8b7-9da55b5d1cad",
   "metadata": {},
   "outputs": [],
   "source": [
    "korean_1 = Korean('홍길동',100)"
   ]
  },
  {
   "cell_type": "code",
   "execution_count": 30,
   "id": "3543fa65-9a32-4e1e-8d46-34f08b697e27",
   "metadata": {},
   "outputs": [
    {
     "data": {
      "text/plain": [
       "100"
      ]
     },
     "execution_count": 30,
     "metadata": {},
     "output_type": "execute_result"
    }
   ],
   "source": [
    "#      Prson\n",
    "#         |\n",
    "#      Employee\n",
    "# -----------------------\n",
    "# |         |          |\n",
    "# Manager  Staff      Hourly"
   ]
  },
  {
   "cell_type": "code",
   "execution_count": 94,
   "id": "0aaec586-4a0b-4757-9183-c782e51d9b0b",
   "metadata": {},
   "outputs": [],
   "source": [
    "class Person():\n",
    "    def __init__(self):\n",
    "        self.name = ''    \n",
    "        self.age = 0   \n",
    "    def show1(self): pass\n",
    "    def show2(self): pass\n",
    "    def show3(self): pass\n",
    "class Employee(Person):   \n",
    "    def __init__(self):        \n",
    "        self.id = ''\n",
    "    pass\n",
    "class Manager(Employee):\n",
    "    pass\n",
    "class Staff(Employee):\n",
    "    pass\n",
    "class Hourly(Employee):\n",
    "    pass"
   ]
  },
  {
   "cell_type": "code",
   "execution_count": 96,
   "id": "aac95ccb-5b29-4a01-ad4a-386915d81914",
   "metadata": {},
   "outputs": [],
   "source": [
    "employee = Employee()\n",
    "employee.show1()"
   ]
  },
  {
   "cell_type": "code",
   "execution_count": 97,
   "id": "9635452b-04c3-4b91-ab49-83bbc8f69a7a",
   "metadata": {},
   "outputs": [],
   "source": [
    "# 상속은 클래스명(상속받을 클래스) 작성\n",
    "# 기본적으로(생성자 안건드렸을때) 부모의 기능 및 변수를 자식 클래스가 사용 가능\n",
    "# 만약 생성자를 만들었는데. 부모 생성자를 호출 안하면... 부모생성자에서 생성한 변수는 사용 못한다.\n",
    "# 하지만 메소드(함수)는 생성자 호출여부와 관계없이 사용 가능"
   ]
  },
  {
   "cell_type": "code",
   "execution_count": 106,
   "id": "f69db0d1-838e-4444-8d0a-0ff14457bfe3",
   "metadata": {},
   "outputs": [],
   "source": [
    "class Person():\n",
    "    def __init__(self,name):\n",
    "        self.name = name\n",
    "class Korean(Person):\n",
    "    pass"
   ]
  },
  {
   "cell_type": "code",
   "execution_count": 107,
   "id": "37ede94a-bf52-4709-b870-1591e76c307b",
   "metadata": {},
   "outputs": [
    {
     "ename": "TypeError",
     "evalue": "Person.__init__() missing 1 required positional argument: 'name'",
     "output_type": "error",
     "traceback": [
      "\u001b[1;31m---------------------------------------------------------------------------\u001b[0m",
      "\u001b[1;31mTypeError\u001b[0m                                 Traceback (most recent call last)",
      "Cell \u001b[1;32mIn[107], line 1\u001b[0m\n\u001b[1;32m----> 1\u001b[0m k \u001b[38;5;241m=\u001b[39m \u001b[43mKorean\u001b[49m\u001b[43m(\u001b[49m\u001b[43m)\u001b[49m\n",
      "\u001b[1;31mTypeError\u001b[0m: Person.__init__() missing 1 required positional argument: 'name'"
     ]
    }
   ],
   "source": [
    "k = Korean()"
   ]
  },
  {
   "cell_type": "code",
   "execution_count": 100,
   "id": "bca2a713-6794-4c0d-aec9-7cac9256996c",
   "metadata": {},
   "outputs": [],
   "source": [
    "# 자식 클래스인 korean은 생성자를 건들지 않았으므로 기본적인 부모 호출 생성자를 가지고 있다.\n",
    "# def __init__(self,name):\n",
    "#     super().__init__(name)"
   ]
  },
  {
   "cell_type": "code",
   "execution_count": 108,
   "id": "564935b7-850b-4bff-9400-868ba93746b3",
   "metadata": {},
   "outputs": [],
   "source": [
    "# 솔류션\n",
    "k = Korean('hong gil dong')\n",
    "    "
   ]
  },
  {
   "cell_type": "code",
   "execution_count": 109,
   "id": "8b1b9fa1-6ff2-4914-8906-1d378eac4c49",
   "metadata": {},
   "outputs": [],
   "source": [
    "class Person(object):  # 상속\n",
    "    def __init__(self, name,age,gender):  # Person 생성자\n",
    "        self.name = name\n",
    "        self.age = age\n",
    "        self.gender = gender\n",
    "    def about_me(self):                   # 메소드 선언\n",
    "        print(f\"이름은 {self.name} 이고 나이는 {self.age}살 입니다.\")"
   ]
  },
  {
   "cell_type": "code",
   "execution_count": 110,
   "id": "c7919870-4a42-42ad-bb20-a4803125c561",
   "metadata": {},
   "outputs": [],
   "source": [
    "class Employee(Person):\n",
    "    def __init__(self,name,age,gender,salary, hire_date):  # Employee 생성자\n",
    "        super().__init__(name,age,gender)                  # 부모생성자를 통해 name age gender 초기화\n",
    "        self.salary = salary\n",
    "        self.hire_date = hire_date\n",
    "    def do_work(self):                                     # 메소드 선언 \n",
    "        print(\"열심히\")\n",
    "    def about_me(self):                                    # 부모 메소드를 재 정의  override \n",
    "        super().about_me()\n",
    "        print(f\"급여는 {self.salary}이고 입사일은 {self.hire_date} 입니다.\")"
   ]
  },
  {
   "cell_type": "code",
   "execution_count": 113,
   "id": "863c853a-dfd5-4ec2-b897-71d9658901b8",
   "metadata": {},
   "outputs": [
    {
     "name": "stdout",
     "output_type": "stream",
     "text": [
      "이름은 홍길동 이고 나이는 100살 입니다.\n",
      "열심히\n",
      "이름은 홍길동 이고 나이는 100살 입니다.\n",
      "급여는 100000000이고 입사일은 1500-01-01 입니다.\n"
     ]
    }
   ],
   "source": [
    "# person 객체 만들고 사용\n",
    "p = Person('홍길동',100,'남자')\n",
    "p.about_me()\n",
    "\n",
    "# employee 객체 만들고 사용\n",
    "e = Employee('홍길동',100,'남자',100000000,'1500-01-01')\n",
    "e.do_work()\n",
    "e.about_me()"
   ]
  },
  {
   "cell_type": "markdown",
   "id": "484bb63b-288b-4b28-a7e5-7f332be3725d",
   "metadata": {},
   "source": [
    "# 다형성 - 파이썬에서는 특별한 기술없이 사용 가능"
   ]
  },
  {
   "cell_type": "raw",
   "id": "83100882-4f30-4fb3-a80c-b6b84bcb3b27",
   "metadata": {},
   "source": [
    "동물 = [고양이,개,소]\n",
    "for animal in 동물:\n",
    "    animal.talk()\n",
    "야용~~\n",
    "멍멍~~\n",
    "음~매"
   ]
  },
  {
   "cell_type": "code",
   "execution_count": 123,
   "id": "19d2bc23-1b60-4fec-92be-b956610e6b4e",
   "metadata": {},
   "outputs": [],
   "source": [
    "class Animal:\n",
    "    def __init__(self,name):\n",
    "        self.name = name\n",
    "    def talk(self):\n",
    "        pass\n",
    "    \n",
    "class Cat(Animal):\n",
    "    def talk(self):\n",
    "        return \"야용~~\"\n",
    "class Dog(Animal):\n",
    "    def talk(self):\n",
    "        return \"멍멍~~\"\n",
    "class Caw(Animal):\n",
    "    def talk(self):\n",
    "        return \"음~매\"\n",
    "animals = [Cat('야용이'), Dog('바둑이'), Caw('소')]"
   ]
  },
  {
   "cell_type": "code",
   "execution_count": 122,
   "id": "da8dceba-1c41-4c1d-911e-89e68485fe59",
   "metadata": {},
   "outputs": [
    {
     "name": "stdout",
     "output_type": "stream",
     "text": [
      "야용이 : 야용~~\n",
      "바둑이 : 멍멍~~\n",
      "소 : 음~매\n"
     ]
    }
   ],
   "source": [
    "for animal in animals:\n",
    "    print(f\"{animal.name} : {animal.talk()}\" )"
   ]
  },
  {
   "cell_type": "code",
   "execution_count": 126,
   "id": "6d0fbb40-c4b2-4125-accc-cd7c1d357a96",
   "metadata": {},
   "outputs": [
    {
     "name": "stdout",
     "output_type": "stream",
     "text": [
      "야용이\n"
     ]
    }
   ],
   "source": [
    "c1 = Cat('야용이')\n",
    "print(c1.name)\n",
    "c2 = c1"
   ]
  },
  {
   "cell_type": "code",
   "execution_count": 127,
   "id": "6b2f2eea-4f7e-4c81-9535-746fe46eb955",
   "metadata": {},
   "outputs": [
    {
     "data": {
      "text/plain": [
       "'야용'"
      ]
     },
     "execution_count": 127,
     "metadata": {},
     "output_type": "execute_result"
    }
   ],
   "source": [
    "c2.name = '야용'\n",
    "c2.name"
   ]
  },
  {
   "cell_type": "code",
   "execution_count": 128,
   "id": "89d67e10-563a-4fb1-bbcc-dbf54c04376c",
   "metadata": {},
   "outputs": [
    {
     "name": "stdout",
     "output_type": "stream",
     "text": [
      "야용\n"
     ]
    }
   ],
   "source": [
    "print(c1.name)"
   ]
  },
  {
   "cell_type": "markdown",
   "id": "f645dc89-2822-42b0-a6e7-8d8518a2b715",
   "metadata": {},
   "source": [
    "# 모듈 과 패키지"
   ]
  },
  {
   "cell_type": "code",
   "execution_count": 130,
   "id": "ace14800-7125-4f9f-82c5-cf64d8a4dfaf",
   "metadata": {},
   "outputs": [
    {
     "data": {
      "text/plain": [
       "5"
      ]
     },
     "execution_count": 130,
     "metadata": {},
     "output_type": "execute_result"
    }
   ],
   "source": [
    "import random\n",
    "random.randint(1,10)"
   ]
  },
  {
   "cell_type": "code",
   "execution_count": 7,
   "id": "da0cc256-53ac-4f24-8641-ab5c7769f07d",
   "metadata": {},
   "outputs": [],
   "source": [
    "import my_calc"
   ]
  },
  {
   "cell_type": "code",
   "execution_count": 8,
   "id": "2435945a-8285-4ebc-941b-6684f75bc578",
   "metadata": {},
   "outputs": [],
   "source": [
    "a, b = 10, 20 "
   ]
  },
  {
   "cell_type": "code",
   "execution_count": 9,
   "id": "4f233911-46ff-437f-a3d4-3f5b289b3671",
   "metadata": {},
   "outputs": [
    {
     "data": {
      "text/plain": [
       "30"
      ]
     },
     "execution_count": 9,
     "metadata": {},
     "output_type": "execute_result"
    }
   ],
   "source": [
    "my_calc.add(a,b)"
   ]
  },
  {
   "cell_type": "code",
   "execution_count": 10,
   "id": "b37ee4fa-31a6-4c1c-9087-e270b137d873",
   "metadata": {},
   "outputs": [
    {
     "data": {
      "text/plain": [
       "-10"
      ]
     },
     "execution_count": 10,
     "metadata": {},
     "output_type": "execute_result"
    }
   ],
   "source": [
    "my_calc.minus(a,b)"
   ]
  },
  {
   "cell_type": "code",
   "execution_count": 24,
   "id": "6eaae0da-c313-4fe2-8f6e-a3623604e2e8",
   "metadata": {},
   "outputs": [],
   "source": [
    "import my_calc as mc"
   ]
  },
  {
   "cell_type": "code",
   "execution_count": 12,
   "id": "7c6b452c-9225-48b4-b3a6-c234b3b4b9c2",
   "metadata": {},
   "outputs": [
    {
     "data": {
      "text/plain": [
       "30"
      ]
     },
     "execution_count": 12,
     "metadata": {},
     "output_type": "execute_result"
    }
   ],
   "source": [
    "mc.add(10,20)"
   ]
  },
  {
   "cell_type": "code",
   "execution_count": 15,
   "id": "f695455e-8f57-4275-8b3e-6bccafd95997",
   "metadata": {},
   "outputs": [],
   "source": [
    "from my_calc import add,minus"
   ]
  },
  {
   "cell_type": "code",
   "execution_count": 16,
   "id": "06bd26d5-30df-4927-af2f-0e8b10318ec7",
   "metadata": {},
   "outputs": [
    {
     "data": {
      "text/plain": [
       "30"
      ]
     },
     "execution_count": 16,
     "metadata": {},
     "output_type": "execute_result"
    }
   ],
   "source": [
    "add(10,20)"
   ]
  },
  {
   "cell_type": "code",
   "execution_count": 17,
   "id": "98c77e02-5336-4370-809a-25d515a1a420",
   "metadata": {},
   "outputs": [
    {
     "data": {
      "text/plain": [
       "-10"
      ]
     },
     "execution_count": 17,
     "metadata": {},
     "output_type": "execute_result"
    }
   ],
   "source": [
    "minus(10,20)"
   ]
  },
  {
   "cell_type": "code",
   "execution_count": 26,
   "id": "2ed843bb-c84d-4984-b9a9-3b700baade56",
   "metadata": {},
   "outputs": [],
   "source": [
    "from my_calc import *"
   ]
  },
  {
   "cell_type": "code",
   "execution_count": 27,
   "id": "e292c994-deb5-44aa-9eb3-87f66e6966b1",
   "metadata": {},
   "outputs": [
    {
     "data": {
      "text/plain": [
       "30"
      ]
     },
     "execution_count": 27,
     "metadata": {},
     "output_type": "execute_result"
    }
   ],
   "source": [
    "add(10,20)"
   ]
  },
  {
   "cell_type": "code",
   "execution_count": 31,
   "id": "9bab9146-238b-40f7-980c-140414a7c779",
   "metadata": {},
   "outputs": [],
   "source": [
    "# 내장 모듈\n",
    "import random as rd "
   ]
  },
  {
   "cell_type": "code",
   "execution_count": 32,
   "id": "0a0da7ea-7368-4204-a8ad-6de8f988f481",
   "metadata": {},
   "outputs": [
    {
     "data": {
      "text/plain": [
       "9"
      ]
     },
     "execution_count": 32,
     "metadata": {},
     "output_type": "execute_result"
    }
   ],
   "source": [
    "rd.randint(0,100)"
   ]
  },
  {
   "cell_type": "code",
   "execution_count": 33,
   "id": "ffff1172-66d9-460a-9ea4-8102be903cd1",
   "metadata": {},
   "outputs": [],
   "source": [
    "import time"
   ]
  },
  {
   "cell_type": "code",
   "execution_count": 34,
   "id": "9b837e86-aade-4d3f-aa0f-736a14c13c2f",
   "metadata": {},
   "outputs": [
    {
     "data": {
      "text/plain": [
       "time.struct_time(tm_year=2023, tm_mon=1, tm_mday=4, tm_hour=21, tm_min=38, tm_sec=57, tm_wday=2, tm_yday=4, tm_isdst=0)"
      ]
     },
     "execution_count": 34,
     "metadata": {},
     "output_type": "execute_result"
    }
   ],
   "source": [
    "time.localtime()"
   ]
  },
  {
   "cell_type": "code",
   "execution_count": 35,
   "id": "82e3ab7a-73ac-4cd4-99d9-ca500e6418bf",
   "metadata": {},
   "outputs": [
    {
     "data": {
      "text/plain": [
       "2023"
      ]
     },
     "execution_count": 35,
     "metadata": {},
     "output_type": "execute_result"
    }
   ],
   "source": [
    "time.localtime().tm_year"
   ]
  },
  {
   "cell_type": "code",
   "execution_count": 36,
   "id": "c07faaf2-f93c-45ea-986c-6de7df2523d6",
   "metadata": {},
   "outputs": [],
   "source": [
    "# 2023-01-04 21:38:57"
   ]
  },
  {
   "cell_type": "code",
   "execution_count": 48,
   "id": "aa7a8bd2-4084-47c3-b147-9e8a214b6484",
   "metadata": {},
   "outputs": [],
   "source": [
    "year, month, day = time.localtime().tm_year, time.localtime().tm_mon,time.localtime().tm_mday"
   ]
  },
  {
   "cell_type": "code",
   "execution_count": 49,
   "id": "40f378ff-0157-46db-ac9d-8500232c9678",
   "metadata": {},
   "outputs": [],
   "source": [
    "def convert_month_day(data):\n",
    "    if data < 10:\n",
    "        return '0'+str(data)\n",
    "    else:\n",
    "        return str(data)"
   ]
  },
  {
   "cell_type": "code",
   "execution_count": 50,
   "id": "fc292386-63e5-43ef-8979-31165b902e03",
   "metadata": {},
   "outputs": [
    {
     "data": {
      "text/plain": [
       "'2023-01-04'"
      ]
     },
     "execution_count": 50,
     "metadata": {},
     "output_type": "execute_result"
    }
   ],
   "source": [
    "'-'.join([str(year), convert_month_day(month) , convert_month_day(day)])"
   ]
  },
  {
   "cell_type": "code",
   "execution_count": null,
   "id": "02ec1175-fc62-40bb-971b-253ec46b1937",
   "metadata": {},
   "outputs": [],
   "source": [
    "# 파이썬 삼항 연산자"
   ]
  }
 ],
 "metadata": {
  "kernelspec": {
   "display_name": "Python 3 (ipykernel)",
   "language": "python",
   "name": "python3"
  },
  "language_info": {
   "codemirror_mode": {
    "name": "ipython",
    "version": 3
   },
   "file_extension": ".py",
   "mimetype": "text/x-python",
   "name": "python",
   "nbconvert_exporter": "python",
   "pygments_lexer": "ipython3",
   "version": "3.10.8"
  }
 },
 "nbformat": 4,
 "nbformat_minor": 5
}
