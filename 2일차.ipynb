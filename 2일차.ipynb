{
 "cells": [
  {
   "cell_type": "code",
   "execution_count": 1,
   "id": "6829b97f-f272-4c98-97b0-3c1e7e600440",
   "metadata": {},
   "outputs": [],
   "source": [
    "# 두 변수 간의 복사\n",
    "number1 = 10\n",
    "number2 = number1"
   ]
  },
  {
   "cell_type": "code",
   "execution_count": 5,
   "id": "0d2a15f4-d954-4beb-8858-8b21b67bf7eb",
   "metadata": {},
   "outputs": [
    {
     "data": {
      "text/plain": [
       "(100, 10)"
      ]
     },
     "execution_count": 5,
     "metadata": {},
     "output_type": "execute_result"
    }
   ],
   "source": [
    "number1 = 100\n",
    "number1, number2"
   ]
  },
  {
   "cell_type": "code",
   "execution_count": 3,
   "id": "91650c21-e508-4946-9c8a-edfd90145af4",
   "metadata": {},
   "outputs": [],
   "source": [
    "# 앝은 복사\n",
    "number3 = [1,2,3,4,5]\n",
    "number4 = number3\n"
   ]
  },
  {
   "cell_type": "code",
   "execution_count": 6,
   "id": "15d75c24-23f2-4b56-971f-5a625798c063",
   "metadata": {},
   "outputs": [
    {
     "data": {
      "text/plain": [
       "([100, 2, 3, 4, 5], [100, 2, 3, 4, 5])"
      ]
     },
     "execution_count": 6,
     "metadata": {},
     "output_type": "execute_result"
    }
   ],
   "source": [
    "# 객체지향 언어의 특징\n",
    "# 객체지향 언어에서 변수는 변수가 아니라... 객체고. .객체는 값을 저장하는데 그 값이\n",
    "# 바로 사용하는 데이터가 아닌 데이터가 저장된 주소\n",
    "number3[0] = 100\n",
    "number3, number4"
   ]
  },
  {
   "cell_type": "code",
   "execution_count": 7,
   "id": "43ada27c-b448-46ef-a005-d09f3c09b6bf",
   "metadata": {},
   "outputs": [],
   "source": [
    "# 깊은 복사"
   ]
  },
  {
   "cell_type": "code",
   "execution_count": 8,
   "id": "9ba57c4d-f9a3-49bd-8d76-3971e0a313e4",
   "metadata": {},
   "outputs": [],
   "source": [
    "# number3변수 초기화\n",
    "number3 = [1,2,3,4,5]\n",
    "# number3와 동일한 값을 가지는 독립적인 객체 number4\n",
    "# 라이브러리 사용\n",
    "import copy\n",
    "number4 =  copy.deepcopy(number3)"
   ]
  },
  {
   "cell_type": "code",
   "execution_count": 9,
   "id": "1bd6181e-ff54-4fab-bc81-efb1340279d3",
   "metadata": {},
   "outputs": [
    {
     "data": {
      "text/plain": [
       "([100, 2, 3, 4, 5], [1, 2, 3, 4, 5])"
      ]
     },
     "execution_count": 9,
     "metadata": {},
     "output_type": "execute_result"
    }
   ],
   "source": [
    "number3[0] = 100\n",
    "number3, number4"
   ]
  },
  {
   "cell_type": "markdown",
   "id": "1dd2db4f-cd63-4f3a-b1dd-34db96d78fd0",
   "metadata": {
    "tags": []
   },
   "source": [
    "# 조건문과 반복문"
   ]
  },
  {
   "cell_type": "markdown",
   "id": "a826f476-293b-4720-af55-959e7d5fa093",
   "metadata": {},
   "source": [
    "### 조건문"
   ]
  },
  {
   "cell_type": "code",
   "execution_count": null,
   "id": "8416e3b3-4f3e-4124-a3f7-e0db774e9a46",
   "metadata": {},
   "outputs": [],
   "source": [
    "# 성적이 다음과 같을때.. 학점을 부여하는 프로그램을 ??\n",
    "# 38,65,89,16 ...."
   ]
  },
  {
   "cell_type": "code",
   "execution_count": null,
   "id": "6a5523b4-8d89-4bc2-b7d7-d2b245694bd6",
   "metadata": {},
   "outputs": [],
   "source": [
    "# if else elif"
   ]
  },
  {
   "cell_type": "code",
   "execution_count": null,
   "id": "25b0a5af-70c7-4746-86ae-f7e5150d3a50",
   "metadata": {},
   "outputs": [],
   "source": [
    "# 들여쓰기\n",
    "# 목차\n",
    "#     1. 인공지능\n",
    "#         1-1 인공지능 개요\n",
    "#     2. "
   ]
  },
  {
   "cell_type": "code",
   "execution_count": 11,
   "id": "bc88a7f6-24e7-448f-9459-1f3189b095ee",
   "metadata": {},
   "outputs": [
    {
     "name": "stdout",
     "output_type": "stream",
     "text": [
      "------------------------------\n"
     ]
    }
   ],
   "source": [
    "age = 5\n",
    "if age > 20:\n",
    "    print(\"성인이군요\")\n",
    "    print(\"책임감 있게 행동하세요\")\n",
    "else:\n",
    "    print(\"미성년자 입니다.\")\n",
    "\n",
    "print(\"------------------------------\")  "
   ]
  },
  {
   "cell_type": "code",
   "execution_count": 13,
   "id": "ec7b621e-243e-489b-9b2b-a2719b74ae97",
   "metadata": {},
   "outputs": [
    {
     "name": "stdout",
     "output_type": "stream",
     "text": [
      "Enter you age\n"
     ]
    },
    {
     "name": "stdin",
     "output_type": "stream",
     "text": [
      " 32\n"
     ]
    },
    {
     "name": "stdout",
     "output_type": "stream",
     "text": [
      "You are not accepted\n"
     ]
    }
   ],
   "source": [
    "print(\"Enter you age\")\n",
    "myage =  int(input())\n",
    "if myage < 30:\n",
    "    print(\"Welcom to the club\")\n",
    "else:\n",
    "    print(\"You are not accepted\")"
   ]
  },
  {
   "cell_type": "markdown",
   "id": "c94bb062-8cc8-4956-9d2b-170acbe50caf",
   "metadata": {},
   "source": [
    "### 비교 연산자"
   ]
  },
  {
   "cell_type": "code",
   "execution_count": null,
   "id": "0304caaf-4550-4430-a68c-cee7bd22dd0e",
   "metadata": {},
   "outputs": [],
   "source": [
    "x < y\n",
    "x > y\n",
    "x <= y\n",
    "x >= y\n",
    "x = y\n",
    "x == y  # 값이 같은지 검사\n",
    "x is y  # 주소가 같은지 검사\n",
    "\n",
    "x != y\n",
    "x is not y\n"
   ]
  },
  {
   "cell_type": "code",
   "execution_count": 14,
   "id": "78fed88e-1dc4-4c1a-a3af-002a2521832f",
   "metadata": {},
   "outputs": [
    {
     "data": {
      "text/plain": [
       "True"
      ]
     },
     "execution_count": 14,
     "metadata": {},
     "output_type": "execute_result"
    }
   ],
   "source": [
    "7 == 7 "
   ]
  },
  {
   "cell_type": "code",
   "execution_count": 16,
   "id": "8e1f8310-da86-4c27-96f5-8895ef301b33",
   "metadata": {},
   "outputs": [
    {
     "data": {
      "text/plain": [
       "(True, True)"
      ]
     },
     "execution_count": 16,
     "metadata": {},
     "output_type": "execute_result"
    }
   ],
   "source": [
    "a = 100\n",
    "b = 100\n",
    "a == b,  a is b"
   ]
  },
  {
   "cell_type": "code",
   "execution_count": 18,
   "id": "80c59de0-10b5-4f4d-8e16-b2d3ccf0a2bf",
   "metadata": {},
   "outputs": [
    {
     "data": {
      "text/plain": [
       "(True, False)"
      ]
     },
     "execution_count": 18,
     "metadata": {},
     "output_type": "execute_result"
    }
   ],
   "source": [
    "a = 300\n",
    "b = 300\n",
    "a == b , a is b"
   ]
  },
  {
   "cell_type": "code",
   "execution_count": 19,
   "id": "ac8b00c0-dceb-454e-8a14-d1c3617756ed",
   "metadata": {},
   "outputs": [],
   "source": [
    "# 파이썬 처음 인터프리터가  시작될때  -5 ~ 256까지는 변하지 않는 정적 메모리 주소에 값을 할당"
   ]
  },
  {
   "cell_type": "code",
   "execution_count": 20,
   "id": "59152042-4cf6-445b-83cd-28e6060d85fc",
   "metadata": {},
   "outputs": [
    {
     "name": "stdout",
     "output_type": "stream",
     "text": [
      "True\n"
     ]
    }
   ],
   "source": [
    "# True 1 / False 0\n",
    "if 1:\n",
    "    print(\"True\")    "
   ]
  },
  {
   "cell_type": "code",
   "execution_count": 22,
   "id": "36f231ab-ca71-438e-9b2c-0730e757f53f",
   "metadata": {},
   "outputs": [
    {
     "name": "stdout",
     "output_type": "stream",
     "text": [
      "False\n"
     ]
    }
   ],
   "source": [
    "if 0:\n",
    "    print(\"True\")\n",
    "else:\n",
    "    print(\"False\")"
   ]
  },
  {
   "cell_type": "code",
   "execution_count": 23,
   "id": "81acc017-9b57-49f8-9c27-01dd2ba0c755",
   "metadata": {},
   "outputs": [
    {
     "data": {
      "text/plain": [
       "True"
      ]
     },
     "execution_count": 23,
     "metadata": {},
     "output_type": "execute_result"
    }
   ],
   "source": [
    "(3 > 5) < 10  # 0 < 10"
   ]
  },
  {
   "cell_type": "markdown",
   "id": "58170424-a1cc-419f-a979-1afe7b5771e8",
   "metadata": {},
   "source": [
    "### 논리 연산자"
   ]
  },
  {
   "cell_type": "markdown",
   "id": "9688f42d-9de2-4004-8bc5-d7b8ef2373d2",
   "metadata": {},
   "source": [
    "and or not"
   ]
  },
  {
   "cell_type": "code",
   "execution_count": 24,
   "id": "843705ac-4219-41cc-8886-590a463b3f6b",
   "metadata": {},
   "outputs": [
    {
     "data": {
      "text/plain": [
       "True"
      ]
     },
     "execution_count": 24,
     "metadata": {},
     "output_type": "execute_result"
    }
   ],
   "source": [
    "# 여러조건을 합쳐서 하나의 논리결과를 표현\n",
    "(7 > 5) and (10 > 5)"
   ]
  },
  {
   "cell_type": "code",
   "execution_count": 25,
   "id": "283133eb-ed5b-4221-aab7-9e353a55c4fb",
   "metadata": {},
   "outputs": [
    {
     "data": {
      "text/plain": [
       "False"
      ]
     },
     "execution_count": 25,
     "metadata": {},
     "output_type": "execute_result"
    }
   ],
   "source": [
    "(7 > 5) and (10 < 5)"
   ]
  },
  {
   "cell_type": "code",
   "execution_count": 26,
   "id": "d4475d31-4ce8-4587-80c4-2c74d6149232",
   "metadata": {},
   "outputs": [
    {
     "data": {
      "text/plain": [
       "True"
      ]
     },
     "execution_count": 26,
     "metadata": {},
     "output_type": "execute_result"
    }
   ],
   "source": [
    "(7 > 5) or (10 > 5)"
   ]
  },
  {
   "cell_type": "code",
   "execution_count": 27,
   "id": "57a46c01-b535-4597-88af-a12952946a25",
   "metadata": {},
   "outputs": [
    {
     "data": {
      "text/plain": [
       "True"
      ]
     },
     "execution_count": 27,
     "metadata": {},
     "output_type": "execute_result"
    }
   ],
   "source": [
    "(7 > 5) or (10 < 5)"
   ]
  },
  {
   "cell_type": "code",
   "execution_count": 29,
   "id": "ad815d25-6adb-4799-a372-dfdb8e81b5dc",
   "metadata": {},
   "outputs": [
    {
     "data": {
      "text/plain": [
       "(False, True, False)"
      ]
     },
     "execution_count": 29,
     "metadata": {},
     "output_type": "execute_result"
    }
   ],
   "source": [
    "# and : 두 값이 모두 참일때 참 그 외에는 모두 거짓  : ~이고 ~이다\n",
    "# or : 둘중에 하나만 참이면 참이고 그외는 모두 거짓 : ~이거나 또는 ~이다\n",
    "# not : 반대  not(7 < 5)\n",
    "(7 < 5),  not(7 < 5), not(not(7 < 5))"
   ]
  },
  {
   "cell_type": "code",
   "execution_count": 30,
   "id": "7faa38b9-900c-4111-a179-e7201e1b6996",
   "metadata": {},
   "outputs": [
    {
     "name": "stdout",
     "output_type": "stream",
     "text": [
      "점수를 입력하세요\n"
     ]
    },
    {
     "name": "stdin",
     "output_type": "stream",
     "text": [
      " 50\n"
     ]
    },
    {
     "name": "stdout",
     "output_type": "stream",
     "text": [
      "B,C,D,F\n"
     ]
    }
   ],
   "source": [
    "print(\"점수를 입력하세요\")\n",
    "score = int(input())\n",
    "if score >= 90:\n",
    "    print('A')\n",
    "else:  # ~ 89 \n",
    "    if score >=80:\n",
    "        print('B')  # 80 ~ 89\n",
    "    else:  # ~ 79        \n",
    "        print('C,D,F')    \n",
    "    "
   ]
  },
  {
   "cell_type": "code",
   "execution_count": 31,
   "id": "32ac63ca-9f36-4c6b-bd5b-5b4ca9033b3f",
   "metadata": {},
   "outputs": [
    {
     "name": "stdout",
     "output_type": "stream",
     "text": [
      "점수를 입력하세요\n"
     ]
    },
    {
     "name": "stdin",
     "output_type": "stream",
     "text": [
      " 80\n"
     ]
    },
    {
     "name": "stdout",
     "output_type": "stream",
     "text": [
      "B\n"
     ]
    }
   ],
   "source": [
    "print(\"점수를 입력하세요\")\n",
    "score = int(input())\n",
    "if score >= 90:\n",
    "    print('A')\n",
    "elif score >=80:\n",
    "    print('B')  # 80 ~ 89\n",
    "elif socre >=70:\n",
    "    print('B')  # 70 ~ 79"
   ]
  },
  {
   "cell_type": "code",
   "execution_count": 32,
   "id": "ebd8c641-cce6-4930-954a-b9e1a5f8a072",
   "metadata": {},
   "outputs": [],
   "source": [
    "# 조건문을 이용해서 어떤 종류의 학생인지 \n",
    "# 규칙\n",
    "# 1. 나이는 (2022 - 태어난 년도 +1) 로 계산\n",
    "# 2. 26세이하 20세 이상이면 대학생\n",
    "# 3. 20세미만 17세 이상이면 고등학생\n",
    "# 4. 17세미만 14세 이상이면 중학생\n",
    "# 5. 14세미만 14세 이상이면 초등학생\n",
    "# 그외는 학생이아닙니다."
   ]
  },
  {
   "cell_type": "code",
   "execution_count": 34,
   "id": "1791a379-3eb6-40ab-9f47-2cff8c1a4ae4",
   "metadata": {},
   "outputs": [
    {
     "name": "stdout",
     "output_type": "stream",
     "text": [
      "태어난 년도를 입력하세요\n"
     ]
    },
    {
     "name": "stdin",
     "output_type": "stream",
     "text": [
      " 2000\n"
     ]
    },
    {
     "name": "stdout",
     "output_type": "stream",
     "text": [
      "대학생\n"
     ]
    }
   ],
   "source": [
    "print(\"태어난 년도를 입력하세요\")\n",
    "year = int(input())\n",
    "age = 2022-year+1\n",
    "\n",
    "if age <= 26 and age >=20:\n",
    "    print('대학생')\n",
    "elif age < 20 and age >=20:     \n",
    "    print('고등학생')\n",
    "elif age < 17 and age >=14:     \n",
    "    print('중학생')    \n",
    "elif age < 14 and age >=8:     \n",
    "    print('초등생')    \n",
    "else:   # age 27을 포함해서 크고...... 또는 age 7을 포함해서 작으면\n",
    "    print('학생이 아닙니다.')    \n",
    "    "
   ]
  },
  {
   "cell_type": "markdown",
   "id": "c4e6a26d-7856-4df3-9128-9826bfcd6100",
   "metadata": {},
   "source": [
    "### 반복문"
   ]
  },
  {
   "cell_type": "code",
   "execution_count": 38,
   "id": "db105c87-deb1-4f60-a7ab-46794f3b8e62",
   "metadata": {},
   "outputs": [],
   "source": [
    "# for, while\n",
    "# 상황에 따라 쓰임새가 다르다."
   ]
  },
  {
   "cell_type": "code",
   "execution_count": 39,
   "id": "9be00c4f-41ef-41e0-b0fa-6e5feb2fc8d8",
   "metadata": {},
   "outputs": [],
   "source": [
    "# for loop : 반복 범위를 지정해서 반복\n",
    "# 범위를 지정하는 방법에는 두가지가 있음"
   ]
  },
  {
   "cell_type": "code",
   "execution_count": 40,
   "id": "cb8eb904-07f8-44f1-b205-784eaf2d7e98",
   "metadata": {},
   "outputs": [],
   "source": [
    "#1 리스트를 사용하는 방법"
   ]
  },
  {
   "cell_type": "code",
   "execution_count": 41,
   "id": "50421d9d-5571-4189-b358-8284cf1f459d",
   "metadata": {},
   "outputs": [
    {
     "data": {
      "text/plain": [
       "[1, 2, 3, 4, 5]"
      ]
     },
     "execution_count": 41,
     "metadata": {},
     "output_type": "execute_result"
    }
   ],
   "source": [
    "temp = [1,2,3,4,5]\n",
    "temp"
   ]
  },
  {
   "cell_type": "code",
   "execution_count": 43,
   "id": "c450fc9a-5fd3-49db-9fca-90089ccabc0a",
   "metadata": {},
   "outputs": [
    {
     "name": "stdout",
     "output_type": "stream",
     "text": [
      "하고자 하는 명령어들을 작성한다.\n",
      "하고자 하는 명령어들을 작성한다.\n",
      "하고자 하는 명령어들을 작성한다.\n",
      "하고자 하는 명령어들을 작성한다.\n",
      "하고자 하는 명령어들을 작성한다.\n"
     ]
    }
   ],
   "source": [
    "# for 변수명 in 반복할 리스트나 또는 iterator 성격의 집합들\n",
    "for i in temp:\n",
    "    print('하고자 하는 명령어들을 작성한다.')   \n",
    "    "
   ]
  },
  {
   "cell_type": "code",
   "execution_count": 44,
   "id": "08ececa6-4a3e-4455-b140-dce022c587c1",
   "metadata": {},
   "outputs": [
    {
     "name": "stdout",
     "output_type": "stream",
     "text": [
      "반복문\n",
      "반복문\n",
      "반복문\n",
      "반복문\n",
      "반복문\n"
     ]
    }
   ],
   "source": [
    "for i in [1,2,3,4,5]:\n",
    "    print(\"반복문\")"
   ]
  },
  {
   "cell_type": "code",
   "execution_count": 46,
   "id": "a05ce9b2-7515-44b1-b21a-267e190b0ca5",
   "metadata": {},
   "outputs": [
    {
     "name": "stdout",
     "output_type": "stream",
     "text": [
      "반복문  0\n",
      "반복문  1\n",
      "반복문  2\n",
      "반복문  3\n",
      "반복문  4\n"
     ]
    }
   ],
   "source": [
    "for i in range(5):\n",
    "    print('반복문 ',i)"
   ]
  },
  {
   "cell_type": "code",
   "execution_count": 47,
   "id": "f92290db-7dba-4dfd-b32c-0e451f1c3d46",
   "metadata": {},
   "outputs": [],
   "source": [
    "greeting = \"good morning\""
   ]
  },
  {
   "cell_type": "code",
   "execution_count": 49,
   "id": "31d50ff1-e955-453f-982c-3684ea7edda7",
   "metadata": {},
   "outputs": [
    {
     "name": "stdout",
     "output_type": "stream",
     "text": [
      "반복 가능한가요  g\n",
      "반복 가능한가요  o\n",
      "반복 가능한가요  o\n",
      "반복 가능한가요  d\n",
      "반복 가능한가요   \n",
      "반복 가능한가요  m\n",
      "반복 가능한가요  o\n",
      "반복 가능한가요  r\n",
      "반복 가능한가요  n\n",
      "반복 가능한가요  i\n",
      "반복 가능한가요  n\n",
      "반복 가능한가요  g\n"
     ]
    }
   ],
   "source": [
    "for i in greeting:\n",
    "    print(\"반복 가능한가요 \", i)"
   ]
  },
  {
   "cell_type": "code",
   "execution_count": 52,
   "id": "9828de4e-7d19-4d55-999f-6a6ced15678b",
   "metadata": {},
   "outputs": [
    {
     "name": "stdout",
     "output_type": "stream",
     "text": [
      "어떤 커피? americano\n",
      "어떤 커피? latte\n",
      "l\n",
      "a\n",
      "t\n",
      "t\n",
      "e\n",
      "어떤 커피? frappuccino\n"
     ]
    }
   ],
   "source": [
    "for i in ['americano','latte','frappuccino']:\n",
    "    print('어떤 커피?', i)\n",
    "    if i == 'latte':\n",
    "        for j in i:\n",
    "            print(j)"
   ]
  },
  {
   "cell_type": "code",
   "execution_count": 56,
   "id": "a621dea2-090d-4579-a218-87f68680f1b5",
   "metadata": {},
   "outputs": [
    {
     "data": {
      "text/plain": [
       "(range(0, 5), range(0, 5))"
      ]
     },
     "execution_count": 56,
     "metadata": {},
     "output_type": "execute_result"
    }
   ],
   "source": [
    "range(5), range(0,5)\n",
    "    "
   ]
  },
  {
   "cell_type": "code",
   "execution_count": 58,
   "id": "08689e45-7ebc-41c8-9a7d-140d63e00852",
   "metadata": {},
   "outputs": [
    {
     "data": {
      "text/plain": [
       "[0, 1, 2, 3, 4]"
      ]
     },
     "execution_count": 58,
     "metadata": {},
     "output_type": "execute_result"
    }
   ],
   "source": [
    "list(range(5))"
   ]
  },
  {
   "cell_type": "code",
   "execution_count": 60,
   "id": "a11536bc-223c-414a-a884-f7108b87a79b",
   "metadata": {},
   "outputs": [
    {
     "data": {
      "text/plain": [
       "([2, 3, 4], [2, 3, 4])"
      ]
     },
     "execution_count": 60,
     "metadata": {},
     "output_type": "execute_result"
    }
   ],
   "source": [
    "list(range(2,5)),  list(range(2,5,1))"
   ]
  },
  {
   "cell_type": "code",
   "execution_count": 62,
   "id": "110bcc8c-c90a-42b9-adfc-f4e7c00d2641",
   "metadata": {},
   "outputs": [
    {
     "data": {
      "text/plain": [
       "[]"
      ]
     },
     "execution_count": 62,
     "metadata": {},
     "output_type": "execute_result"
    }
   ],
   "source": [
    "list(range(12,10,2))"
   ]
  },
  {
   "cell_type": "code",
   "execution_count": 67,
   "id": "fe9a7999-f956-4a3a-8534-62ccfee278ab",
   "metadata": {},
   "outputs": [
    {
     "data": {
      "text/plain": [
       "[10, 9, 8, 7, 6, 5, 4, 3, 2, 1]"
      ]
     },
     "execution_count": 67,
     "metadata": {},
     "output_type": "execute_result"
    }
   ],
   "source": [
    "list(range(10,0,-1))"
   ]
  },
  {
   "cell_type": "code",
   "execution_count": 69,
   "id": "554be2db-04e5-4271-820b-13c7e1e5afd6",
   "metadata": {},
   "outputs": [
    {
     "data": {
      "text/plain": [
       "[]"
      ]
     },
     "execution_count": 69,
     "metadata": {},
     "output_type": "execute_result"
    }
   ],
   "source": [
    "list(range(10,0))"
   ]
  },
  {
   "cell_type": "code",
   "execution_count": 17,
   "id": "1761511d-1913-40c3-a91f-016ed7184822",
   "metadata": {},
   "outputs": [],
   "source": [
    "from random import sample"
   ]
  },
  {
   "cell_type": "code",
   "execution_count": 77,
   "id": "e9db286e-9220-4008-875b-f40937a90272",
   "metadata": {},
   "outputs": [
    {
     "data": {
      "text/plain": [
       "[2, 4]"
      ]
     },
     "execution_count": 77,
     "metadata": {},
     "output_type": "execute_result"
    }
   ],
   "source": [
    "sample([1,2,3,4,5],2)"
   ]
  },
  {
   "cell_type": "code",
   "execution_count": 78,
   "id": "c533466b-bc00-4cd3-a384-71f83f5366a8",
   "metadata": {},
   "outputs": [],
   "source": [
    "# 1 ~ 45  랜덤하게 6개를 추출\n",
    "# sample 함수를 이용"
   ]
  },
  {
   "cell_type": "code",
   "execution_count": 79,
   "id": "f19a0d85-8e84-4511-b32c-22354405c3be",
   "metadata": {},
   "outputs": [
    {
     "data": {
      "text/plain": [
       "[10, 4, 9, 12, 1, 8]"
      ]
     },
     "execution_count": 79,
     "metadata": {},
     "output_type": "execute_result"
    }
   ],
   "source": [
    "sample([1,2,3,4,5,6,7,8,9,10,11,12,45],6)"
   ]
  },
  {
   "cell_type": "code",
   "execution_count": 80,
   "id": "afee3740-7060-451e-86da-d46aa34e90f0",
   "metadata": {},
   "outputs": [
    {
     "data": {
      "text/plain": [
       "[29, 33, 28, 22, 36, 45]"
      ]
     },
     "execution_count": 80,
     "metadata": {},
     "output_type": "execute_result"
    }
   ],
   "source": [
    "sample( range(1,46)  ,6)"
   ]
  },
  {
   "cell_type": "code",
   "execution_count": 84,
   "id": "640c3cea-9ee4-4959-8df3-a5c2bad6dc89",
   "metadata": {},
   "outputs": [
    {
     "name": "stdout",
     "output_type": "stream",
     "text": [
      "[45, 20, 44, 34, 10, 17]\n",
      "[5, 19, 25, 15, 29, 17]\n",
      "[15, 22, 32, 45, 12, 6]\n",
      "[45, 42, 32, 22, 28, 8]\n",
      "[18, 20, 9, 27, 44, 24]\n"
     ]
    }
   ],
   "source": [
    "# 1set : 5game\n",
    "for _ in range(5):\n",
    "    # print(i,' ', sample( range(1,46)  ,6) )\n",
    "    print(sample( range(1,46)  ,6) )"
   ]
  },
  {
   "cell_type": "code",
   "execution_count": 3,
   "id": "595b73be-3710-49bf-a552-8f11fac708c1",
   "metadata": {
    "tags": []
   },
   "outputs": [
    {
     "name": "stdout",
     "output_type": "stream",
     "text": [
      "while loop\n",
      "while loop\n",
      "while loop\n",
      "while loop\n",
      "while loop\n"
     ]
    }
   ],
   "source": [
    "i = 0\n",
    "while i < 5:\n",
    "    print(\"while loop\")\n",
    "    i += 1"
   ]
  },
  {
   "cell_type": "code",
   "execution_count": null,
   "id": "23a9073b-e287-4b55-b504-95d7db9ef084",
   "metadata": {},
   "outputs": [],
   "source": [
    "# for loop : 반복횟수가 정해져 있음\n",
    "# while loop : 특정 조건을 만족할때 까지......."
   ]
  },
  {
   "cell_type": "code",
   "execution_count": 4,
   "id": "87044a0d-de67-4c0e-a8f8-3e5a18ade83f",
   "metadata": {},
   "outputs": [],
   "source": [
    "# 순환문을 정해진 횟수를 다 채우기 전에 빠져나갈수 있음\n",
    "# break"
   ]
  },
  {
   "cell_type": "code",
   "execution_count": 7,
   "id": "82830a7d-aaa9-41de-ae55-c9e031b50820",
   "metadata": {},
   "outputs": [
    {
     "name": "stdout",
     "output_type": "stream",
     "text": [
      "0\n",
      "1\n",
      "2\n",
      "3\n",
      "4\n"
     ]
    }
   ],
   "source": [
    "for i in range(10):\n",
    "    if i == 5:\n",
    "        break\n",
    "    print(i)"
   ]
  },
  {
   "cell_type": "code",
   "execution_count": 15,
   "id": "c6835d39-065c-442b-80ab-01a4d1563ffc",
   "metadata": {},
   "outputs": [
    {
     "name": "stdout",
     "output_type": "stream",
     "text": [
      "i = 0\n",
      "   j = 0\n",
      "   j = 1\n"
     ]
    }
   ],
   "source": [
    "for i in range(3):\n",
    "    print(f\"i = {i}\")\n",
    "    isEscape = False\n",
    "    for j in range(1000):\n",
    "        if j == 2:\n",
    "            isEscape = True\n",
    "            break\n",
    "        print(f\"   j = {j}\")\n",
    "    if isEscape:\n",
    "        break        "
   ]
  },
  {
   "cell_type": "code",
   "execution_count": 16,
   "id": "2a186bd4-7914-48f4-86c1-6cdcf1104136",
   "metadata": {},
   "outputs": [],
   "source": [
    "# 숫자가 0 부터 100까지 중에서\n",
    "# 그중에 랜덤하게 10개를 추출해서 가장 작은 값을 찾는다\n",
    "# 25,20,0,8,9,45,20,55,65,22"
   ]
  },
  {
   "cell_type": "code",
   "execution_count": 19,
   "id": "0640093b-32fd-412a-a6a4-84bed79536af",
   "metadata": {},
   "outputs": [
    {
     "data": {
      "text/plain": [
       "[37, 59, 66, 34, 88, 44, 36, 72, 48, 99]"
      ]
     },
     "execution_count": 19,
     "metadata": {},
     "output_type": "execute_result"
    }
   ],
   "source": [
    "sampleList = sample(range(101), 10)\n",
    "sampleList"
   ]
  },
  {
   "cell_type": "code",
   "execution_count": 26,
   "id": "d5e03aa8-8f24-418e-a427-6aa83a021c16",
   "metadata": {},
   "outputs": [
    {
     "name": "stdout",
     "output_type": "stream",
     "text": [
      "[37, 59, 0, 34, 88, 44, 36, 72, 48, 99]\n"
     ]
    },
    {
     "data": {
      "text/plain": [
       "(0, 3)"
      ]
     },
     "execution_count": 26,
     "metadata": {},
     "output_type": "execute_result"
    }
   ],
   "source": [
    "sampleList[2] = 0\n",
    "print(sampleList)\n",
    "minValue = 101\n",
    "\n",
    "count = 0\n",
    "for i in sampleList:\n",
    "    count += 1\n",
    "    if minValue > i:\n",
    "        minValue = i\n",
    "    if minValue == 0:\n",
    "        break\n",
    "    \n",
    "minValue, count        "
   ]
  },
  {
   "cell_type": "code",
   "execution_count": 29,
   "id": "4907bb7f-2530-4a6e-9b13-a90a4ceacb17",
   "metadata": {},
   "outputs": [
    {
     "name": "stdout",
     "output_type": "stream",
     "text": [
      "0\n",
      "1\n",
      "2\n",
      "3\n",
      "4\n",
      "6\n",
      "7\n",
      "8\n",
      "9\n"
     ]
    }
   ],
   "source": [
    "# continue\n",
    "#  to be continue\n",
    "# 남은 명령을 건너뛰고 다음 반복문을 수행한다.\n",
    "for i in range(10):    \n",
    "    if i ==5 :\n",
    "        continue\n",
    "    print(i)       "
   ]
  },
  {
   "cell_type": "code",
   "execution_count": 32,
   "id": "5201a204-4d71-4962-8fa4-7fa2e95c63f7",
   "metadata": {},
   "outputs": [
    {
     "name": "stdout",
     "output_type": "stream",
     "text": [
      "0\n",
      "2\n",
      "4\n",
      "6\n",
      "8\n"
     ]
    }
   ],
   "source": [
    "# 짝수만 출력 continue를 이용해서\n",
    "# range(10) 수정불가\n",
    "# 홀수일때는 건너뛴다... \n",
    "for i in range(10):    \n",
    "    if i % 2 != 0:\n",
    "        continue\n",
    "    print(i)"
   ]
  },
  {
   "cell_type": "code",
   "execution_count": 40,
   "id": "3e89b450-010d-4665-b8e5-f70feaf33b38",
   "metadata": {},
   "outputs": [
    {
     "name": "stdout",
     "output_type": "stream",
     "text": [
      "출력하려는 구구단의 단수를 입력하세요\n"
     ]
    },
    {
     "name": "stdin",
     "output_type": "stream",
     "text": [
      " 3\n"
     ]
    },
    {
     "name": "stdout",
     "output_type": "stream",
     "text": [
      "3 x 1 = 3\n",
      "3 x 2 = 6\n",
      "3 x 3 = 9\n",
      "3 x 4 = 12\n",
      "3 x 5 = 15\n",
      "3 x 6 = 18\n",
      "3 x 7 = 21\n",
      "3 x 8 = 24\n",
      "3 x 9 = 27\n"
     ]
    }
   ],
   "source": [
    "# 단수를 입력받으면 해당 단수를 출력\n",
    "# 예를들어서 구구단의 단수는 : 2\n",
    "print(\"출력하려는 구구단의 단수를 입력하세요\")\n",
    "dan = int(input())\n",
    "\n",
    "for num1 in range(1,10):\n",
    "    print(f\"{dan} x {num1} = {dan * num1}\")"
   ]
  },
  {
   "cell_type": "code",
   "execution_count": 42,
   "id": "c1a436b7-aaa6-4ccf-8599-cf7d4c8e0934",
   "metadata": {},
   "outputs": [
    {
     "name": "stdout",
     "output_type": "stream",
     "text": [
      "2 x 1 = 2\n",
      "2 x 2 = 4\n",
      "2 x 3 = 6\n",
      "2 x 4 = 8\n",
      "2 x 5 = 10\n",
      "2 x 6 = 12\n",
      "2 x 7 = 14\n",
      "2 x 8 = 16\n",
      "2 x 9 = 18\n",
      "\n",
      "3 x 1 = 3\n",
      "3 x 2 = 6\n",
      "3 x 3 = 9\n",
      "3 x 4 = 12\n",
      "3 x 5 = 15\n",
      "3 x 6 = 18\n",
      "3 x 7 = 21\n",
      "3 x 8 = 24\n",
      "3 x 9 = 27\n",
      "\n",
      "4 x 1 = 4\n",
      "4 x 2 = 8\n",
      "4 x 3 = 12\n",
      "4 x 4 = 16\n",
      "4 x 5 = 20\n",
      "4 x 6 = 24\n",
      "4 x 7 = 28\n",
      "4 x 8 = 32\n",
      "4 x 9 = 36\n",
      "\n",
      "5 x 1 = 5\n",
      "5 x 2 = 10\n",
      "5 x 3 = 15\n",
      "5 x 4 = 20\n",
      "5 x 5 = 25\n",
      "5 x 6 = 30\n",
      "5 x 7 = 35\n",
      "5 x 8 = 40\n",
      "5 x 9 = 45\n",
      "\n",
      "6 x 1 = 6\n",
      "6 x 2 = 12\n",
      "6 x 3 = 18\n",
      "6 x 4 = 24\n",
      "6 x 5 = 30\n",
      "6 x 6 = 36\n",
      "6 x 7 = 42\n",
      "6 x 8 = 48\n",
      "6 x 9 = 54\n",
      "\n",
      "7 x 1 = 7\n",
      "7 x 2 = 14\n",
      "7 x 3 = 21\n",
      "7 x 4 = 28\n",
      "7 x 5 = 35\n",
      "7 x 6 = 42\n",
      "7 x 7 = 49\n",
      "7 x 8 = 56\n",
      "7 x 9 = 63\n",
      "\n",
      "8 x 1 = 8\n",
      "8 x 2 = 16\n",
      "8 x 3 = 24\n",
      "8 x 4 = 32\n",
      "8 x 5 = 40\n",
      "8 x 6 = 48\n",
      "8 x 7 = 56\n",
      "8 x 8 = 64\n",
      "8 x 9 = 72\n",
      "\n",
      "9 x 1 = 9\n",
      "9 x 2 = 18\n",
      "9 x 3 = 27\n",
      "9 x 4 = 36\n",
      "9 x 5 = 45\n",
      "9 x 6 = 54\n",
      "9 x 7 = 63\n",
      "9 x 8 = 72\n",
      "9 x 9 = 81\n",
      "\n"
     ]
    }
   ],
   "source": [
    "# 위의 예제를 응용해서 전체 단수를 출력\n",
    "for i in range(2,10):\n",
    "    for j in range(1,10):\n",
    "        print(f\"{i} x {j} = {i*j}\")\n",
    "    print()"
   ]
  },
  {
   "cell_type": "code",
   "execution_count": null,
   "id": "657114ca-ee27-4e6e-83c5-a6964a5c98fd",
   "metadata": {},
   "outputs": [],
   "source": []
  }
 ],
 "metadata": {
  "kernelspec": {
   "display_name": "Python 3 (ipykernel)",
   "language": "python",
   "name": "python3"
  },
  "language_info": {
   "codemirror_mode": {
    "name": "ipython",
    "version": 3
   },
   "file_extension": ".py",
   "mimetype": "text/x-python",
   "name": "python",
   "nbconvert_exporter": "python",
   "pygments_lexer": "ipython3",
   "version": "3.10.8"
  }
 },
 "nbformat": 4,
 "nbformat_minor": 5
}
