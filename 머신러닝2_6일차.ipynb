{
 "cells": [
  {
   "cell_type": "code",
   "execution_count": 1,
   "id": "d760afeb-bdfe-4e90-a0ff-be5ba0ac2e66",
   "metadata": {},
   "outputs": [],
   "source": [
    "# 함수 설계\n",
    "import os\n",
    "import sys\n",
    "import urllib.request\n",
    "import json\n",
    "client_id = \"J2KwXxSxDGbKmuP9V6eE\"\n",
    "client_secret = \"NOtfPphkJY\"\n",
    "def getRequestUrl(url):\n",
    "    request = urllib.request.Request(url)\n",
    "    request.add_header(\"X-Naver-Client-Id\",client_id)\n",
    "    request.add_header(\"X-Naver-Client-Secret\",client_secret)\n",
    "    try:\n",
    "        response = urllib.request.urlopen(request)\n",
    "        rescode = response.getcode()\n",
    "        if(rescode==200): # 성공\n",
    "            response_body = response.read()\n",
    "            return response_body.decode('utf-8')\n",
    "        else:\n",
    "            print(\"Error Code:\" + rescode)  # 404(경로가 잘못), 500(내부에러)\n",
    "            return None\n",
    "    except Exception as e:\n",
    "        print(e)\n",
    "        return None\n",
    "        \n",
    "def getNeverSearch(srcText,searchType='news',display=10,start=1):\n",
    "    encText = urllib.parse.quote(srcText)\n",
    "    url = f\"https://openapi.naver.com/v1/search/{searchType}.json?query={encText}&display={display}&start={start}&sort=sim\"\n",
    "    jsonData =  getRequestUrl(url)\n",
    "    if jsonData == None:\n",
    "        return None\n",
    "    else:\n",
    "        return json.loads(jsonData)\n",
    "    "
   ]
  },
  {
   "cell_type": "code",
   "execution_count": 10,
   "id": "055bc5c6-d422-49f8-b06d-ab46c4240407",
   "metadata": {},
   "outputs": [],
   "source": [
    "# start 1000   display = 100\n",
    "searchRange = [i for i in range(1,1000,100)] + [1000]    \n",
    "# getNeverSearch('캠핑')"
   ]
  },
  {
   "cell_type": "code",
   "execution_count": 25,
   "id": "eb9bc7ea-23f0-4f18-9bfd-e0982687c678",
   "metadata": {},
   "outputs": [],
   "source": [
    "result = []\n",
    "for start in searchRange:\n",
    "    result += getNeverSearch('캠핑',searchType='blog',start=start, display=100)['items']"
   ]
  },
  {
   "cell_type": "code",
   "execution_count": 26,
   "id": "526f225a-6226-4438-9843-8166a55c7eea",
   "metadata": {},
   "outputs": [],
   "source": [
    "import pandas as pd\n",
    "df = pd.DataFrame(result)"
   ]
  },
  {
   "cell_type": "code",
   "execution_count": 27,
   "id": "7a0f1637-138a-446d-9003-6e0d34b1abd9",
   "metadata": {},
   "outputs": [
    {
     "name": "stdout",
     "output_type": "stream",
     "text": [
      "<class 'pandas.core.frame.DataFrame'>\n",
      "RangeIndex: 1100 entries, 0 to 1099\n",
      "Data columns (total 6 columns):\n",
      " #   Column       Non-Null Count  Dtype \n",
      "---  ------       --------------  ----- \n",
      " 0   title        1100 non-null   object\n",
      " 1   link         1100 non-null   object\n",
      " 2   description  1100 non-null   object\n",
      " 3   bloggername  1100 non-null   object\n",
      " 4   bloggerlink  1100 non-null   object\n",
      " 5   postdate     1100 non-null   object\n",
      "dtypes: object(6)\n",
      "memory usage: 51.7+ KB\n"
     ]
    }
   ],
   "source": [
    "df.info()"
   ]
  },
  {
   "cell_type": "code",
   "execution_count": 28,
   "id": "1108c080-4daa-4b48-965b-b77ae13a0ccf",
   "metadata": {},
   "outputs": [
    {
     "data": {
      "text/html": [
       "<div>\n",
       "<style scoped>\n",
       "    .dataframe tbody tr th:only-of-type {\n",
       "        vertical-align: middle;\n",
       "    }\n",
       "\n",
       "    .dataframe tbody tr th {\n",
       "        vertical-align: top;\n",
       "    }\n",
       "\n",
       "    .dataframe thead th {\n",
       "        text-align: right;\n",
       "    }\n",
       "</style>\n",
       "<table border=\"1\" class=\"dataframe\">\n",
       "  <thead>\n",
       "    <tr style=\"text-align: right;\">\n",
       "      <th></th>\n",
       "      <th>title</th>\n",
       "      <th>link</th>\n",
       "      <th>description</th>\n",
       "      <th>bloggername</th>\n",
       "      <th>bloggerlink</th>\n",
       "      <th>postdate</th>\n",
       "    </tr>\n",
       "  </thead>\n",
       "  <tbody>\n",
       "    <tr>\n",
       "      <th>0</th>\n",
       "      <td>레져 활동중 가장 유래가 깊은 ‘&lt;b&gt;캠핑&lt;/b&gt;’의 역사</td>\n",
       "      <td>https://blog.naver.com/rboder/223001312136</td>\n",
       "      <td>&lt;b&gt;캠핑&lt;/b&gt;(Camping)의 사전적 정의는 ‘텐트 또는 임시로 지은 초막 등...</td>\n",
       "      <td>구르는돌&amp;ThroughOut</td>\n",
       "      <td>blog.naver.com/rboder</td>\n",
       "      <td>20230201</td>\n",
       "    </tr>\n",
       "    <tr>\n",
       "      <th>1</th>\n",
       "      <td>&lt;b&gt;캠핑&lt;/b&gt;전기포트 유용하게 접이식으로!</td>\n",
       "      <td>https://blog.naver.com/yunheiro/222982232046</td>\n",
       "      <td>사계절 내내 &lt;b&gt;캠핑&lt;/b&gt; 다니는 저에게는 무엇보다도 불편한 게 따뜻한 물을 마...</td>\n",
       "      <td>곽진성,곽희주♡</td>\n",
       "      <td>blog.naver.com/yunheiro</td>\n",
       "      <td>20230113</td>\n",
       "    </tr>\n",
       "    <tr>\n",
       "      <th>2</th>\n",
       "      <td>&lt;b&gt;캠핑&lt;/b&gt;전기포트 접이식이라 여행용으로 딱!</td>\n",
       "      <td>https://blog.naver.com/hmy3555/222954430608</td>\n",
       "      <td>&lt;b&gt;캠핑&lt;/b&gt; 좋아하시는 분 계신가요? 저는 작년부터 푹 빠졌는데요. 이것저것 ...</td>\n",
       "      <td>Thanks, day by day</td>\n",
       "      <td>blog.naver.com/hmy3555</td>\n",
       "      <td>20221214</td>\n",
       "    </tr>\n",
       "    <tr>\n",
       "      <th>3</th>\n",
       "      <td>르노마스터(13인승) &lt;b&gt;캠핑&lt;/b&gt;카 변신 완료</td>\n",
       "      <td>https://blog.naver.com/jllk123/222998142446</td>\n",
       "      <td>드디어 완성된 르노마스터 &lt;b&gt;캠핑&lt;/b&gt;카. 정말 오래걸렸다.ㅎㅎ 사장님께 &lt;b&gt;...</td>\n",
       "      <td>광당의 세상(KD&amp;apos;s world)</td>\n",
       "      <td>blog.naver.com/jllk123</td>\n",
       "      <td>20230129</td>\n",
       "    </tr>\n",
       "    <tr>\n",
       "      <th>4</th>\n",
       "      <td>&lt;b&gt;캠핑&lt;/b&gt;장비 용품 미니 에어펌프 무선 충전식 &lt;b&gt;캠핑&lt;/b&gt; 랜턴</td>\n",
       "      <td>https://blog.naver.com/allaboutcanada/22299854...</td>\n",
       "      <td>햇지입니다 :) 추운 겨울에도 거침없이 &lt;b&gt;캠핑&lt;/b&gt;을 가야 하지만, 아주 매운...</td>\n",
       "      <td>오늘은 뭐햇지?</td>\n",
       "      <td>blog.naver.com/allaboutcanada</td>\n",
       "      <td>20230129</td>\n",
       "    </tr>\n",
       "  </tbody>\n",
       "</table>\n",
       "</div>"
      ],
      "text/plain": [
       "                                        title  \\\n",
       "0            레져 활동중 가장 유래가 깊은 ‘<b>캠핑</b>’의 역사   \n",
       "1                   <b>캠핑</b>전기포트 유용하게 접이식으로!   \n",
       "2                <b>캠핑</b>전기포트 접이식이라 여행용으로 딱!   \n",
       "3                르노마스터(13인승) <b>캠핑</b>카 변신 완료   \n",
       "4  <b>캠핑</b>장비 용품 미니 에어펌프 무선 충전식 <b>캠핑</b> 랜턴   \n",
       "\n",
       "                                                link  \\\n",
       "0         https://blog.naver.com/rboder/223001312136   \n",
       "1       https://blog.naver.com/yunheiro/222982232046   \n",
       "2        https://blog.naver.com/hmy3555/222954430608   \n",
       "3        https://blog.naver.com/jllk123/222998142446   \n",
       "4  https://blog.naver.com/allaboutcanada/22299854...   \n",
       "\n",
       "                                         description              bloggername  \\\n",
       "0  <b>캠핑</b>(Camping)의 사전적 정의는 ‘텐트 또는 임시로 지은 초막 등...          구르는돌&ThroughOut   \n",
       "1  사계절 내내 <b>캠핑</b> 다니는 저에게는 무엇보다도 불편한 게 따뜻한 물을 마...                 곽진성,곽희주♡   \n",
       "2  <b>캠핑</b> 좋아하시는 분 계신가요? 저는 작년부터 푹 빠졌는데요. 이것저것 ...       Thanks, day by day   \n",
       "3  드디어 완성된 르노마스터 <b>캠핑</b>카. 정말 오래걸렸다.ㅎㅎ 사장님께 <b>...  광당의 세상(KD&apos;s world)   \n",
       "4  햇지입니다 :) 추운 겨울에도 거침없이 <b>캠핑</b>을 가야 하지만, 아주 매운...                 오늘은 뭐햇지?   \n",
       "\n",
       "                     bloggerlink  postdate  \n",
       "0          blog.naver.com/rboder  20230201  \n",
       "1        blog.naver.com/yunheiro  20230113  \n",
       "2         blog.naver.com/hmy3555  20221214  \n",
       "3         blog.naver.com/jllk123  20230129  \n",
       "4  blog.naver.com/allaboutcanada  20230129  "
      ]
     },
     "execution_count": 28,
     "metadata": {},
     "output_type": "execute_result"
    }
   ],
   "source": [
    "df.head()"
   ]
  },
  {
   "cell_type": "code",
   "execution_count": 29,
   "id": "72e72e91-c45e-47ac-a9cb-2d8e0c4c3f15",
   "metadata": {},
   "outputs": [],
   "source": [
    "df.to_csv('./blog.csv')"
   ]
  },
  {
   "cell_type": "markdown",
   "id": "567679fa-e65b-44de-af03-ff8b99092a02",
   "metadata": {},
   "source": [
    "# 공공데이터 API "
   ]
  },
  {
   "cell_type": "code",
   "execution_count": 66,
   "id": "c8cb0d8e-3f1a-4510-b8fa-800c337739c4",
   "metadata": {},
   "outputs": [],
   "source": [
    "SERVICE_KEY = 'U5i63xpIWM48raIRQBYpUXbA/wKd0iO6n/n1+JISyoEW1gWcEiz2No2fHPeid5TZoQN0HV85WyGv6LPwaQ8n4w=='"
   ]
  },
  {
   "cell_type": "code",
   "execution_count": null,
   "id": "8383e211-aa3b-4ce8-a186-cf15b8cdc278",
   "metadata": {},
   "outputs": [],
   "source": [
    "# import urllib.request\n",
    "# url = 'http://apis.data.go.kr/1360000/TourStnInfoService/getTourStnVilageFcst'\n",
    "# url += f'?serviceKey={SERVICE_KEY}&numOfRows=10&pageNo=1'\n",
    "# url += '&CURRENT_DATE=2022010101&HOUR=24&COURSE_ID=1'\n",
    "# # print(response.url)\n",
    "# # print(url)\n",
    "# url = response.url\n",
    "# request = urllib.request.Request(url)\n",
    "# response = urllib.request.urlopen(request)\n",
    "# rescode = response.getcode()\n",
    "# if(rescode==200): # 성공\n",
    "#     response_body = response.read()\n",
    "#     print( response_body.decode('utf-8') )\n",
    "# else:\n",
    "#     print(\"Error Code:\" + rescode)  # 404(경로가 잘못), 500(내부에러)\n"
   ]
  },
  {
   "cell_type": "code",
   "execution_count": 89,
   "id": "f91805af-104e-41cc-b0a0-f93624c20114",
   "metadata": {
    "collapsed": true,
    "jupyter": {
     "outputs_hidden": true
    },
    "tags": []
   },
   "outputs": [
    {
     "name": "stdout",
     "output_type": "stream",
     "text": [
      "{\"response\":{\"header\":{\"resultCode\":\"00\",\"resultMsg\":\"NORMAL_SERVICE\"},\"body\":{\"dataType\":\"JSON\",\"items\":{\"item\":[{\"tm\":\"2022-01-03 00:00\",\"thema\":\"문화/예술\",\"courseId\":\"1\",\"courseAreaId\":\"4700000000\",\"courseAreaName\":\"경상북도\",\"courseName\":\"남호고택에서의 하룻밤\",\"spotAreaId\":102,\"spotAreaName\":\"봉화\",\"spotName\":\"(봉화)춘양목 송이마을\",\"th3\":-9,\"wd\":327,\"ws\":1,\"sky\":1,\"rhm\":60,\"pop\":0},{\"tm\":\"2022-01-03 00:00\",\"thema\":\"종교/역사/전통\",\"courseId\":\"1\",\"courseAreaId\":\"4700000000\",\"courseAreaName\":\"경상북도\",\"courseName\":\"남호고택에서의 하룻밤\",\"spotAreaId\":104,\"spotAreaName\":\"봉화\",\"spotName\":\"(봉화)계서당(성이성 생가)\",\"th3\":-7,\"wd\":341,\"ws\":1,\"sky\":1,\"rhm\":60,\"pop\":0},{\"tm\":\"2022-01-03 00:00\",\"thema\":\"자연/힐링\",\"courseId\":\"1\",\"courseAreaId\":\"4700000000\",\"courseAreaName\":\"경상북도\",\"courseName\":\"남호고택에서의 하룻밤\",\"spotAreaId\":104,\"spotAreaName\":\"봉화\",\"spotName\":\"(봉화)계서당(성이성 생가)\",\"th3\":-7,\"wd\":341,\"ws\":1,\"sky\":1,\"rhm\":60,\"pop\":0},{\"tm\":\"2022-01-03 00:00\",\"thema\":\"체험/학습/산업\",\"courseId\":\"1\",\"courseAreaId\":\"4700000000\",\"courseAreaName\":\"경상북도\",\"courseName\":\"남호고택에서의 하룻밤\",\"spotAreaId\":104,\"spotAreaName\":\"봉화\",\"spotName\":\"(봉화)계서당(성이성 생가)\",\"th3\":-7,\"wd\":341,\"ws\":1,\"sky\":1,\"rhm\":60,\"pop\":0},{\"tm\":\"2022-01-03 00:00\",\"thema\":\"문화/예술\",\"courseId\":\"1\",\"courseAreaId\":\"4700000000\",\"courseAreaName\":\"경상북도\",\"courseName\":\"남호고택에서의 하룻밤\",\"spotAreaId\":103,\"spotAreaName\":\"봉화\",\"spotName\":\"(봉화)지림사\",\"th3\":-7,\"wd\":336,\"ws\":1,\"sky\":1,\"rhm\":65,\"pop\":0},{\"tm\":\"2022-01-03 00:00\",\"thema\":\"종교/역사/전통\",\"courseId\":\"1\",\"courseAreaId\":\"4700000000\",\"courseAreaName\":\"경상북도\",\"courseName\":\"남호고택에서의 하룻밤\",\"spotAreaId\":103,\"spotAreaName\":\"봉화\",\"spotName\":\"(봉화)지림사\",\"th3\":-7,\"wd\":336,\"ws\":1,\"sky\":1,\"rhm\":65,\"pop\":0},{\"tm\":\"2022-01-03 00:00\",\"thema\":\"자연/힐링\",\"courseId\":\"1\",\"courseAreaId\":\"4700000000\",\"courseAreaName\":\"경상북도\",\"courseName\":\"남호고택에서의 하룻밤\",\"spotAreaId\":103,\"spotAreaName\":\"봉화\",\"spotName\":\"(봉화)지림사\",\"th3\":-7,\"wd\":336,\"ws\":1,\"sky\":1,\"rhm\":65,\"pop\":0},{\"tm\":\"2022-01-03 00:00\",\"thema\":\"체험/학습/산업\",\"courseId\":\"1\",\"courseAreaId\":\"4700000000\",\"courseAreaName\":\"경상북도\",\"courseName\":\"남호고택에서의 하룻밤\",\"spotAreaId\":103,\"spotAreaName\":\"봉화\",\"spotName\":\"(봉화)지림사\",\"th3\":-7,\"wd\":336,\"ws\":1,\"sky\":1,\"rhm\":65,\"pop\":0},{\"tm\":\"2022-01-03 00:00\",\"thema\":\"문화/예술\",\"courseId\":\"1\",\"courseAreaId\":\"4700000000\",\"courseAreaName\":\"경상북도\",\"courseName\":\"남호고택에서의 하룻밤\",\"spotAreaId\":104,\"spotAreaName\":\"봉화\",\"spotName\":\"(봉화)계서당(성이성 생가)\",\"th3\":-7,\"wd\":341,\"ws\":1,\"sky\":1,\"rhm\":60,\"pop\":0},{\"tm\":\"2022-01-03 00:00\",\"thema\":\"종교/역사/전통\",\"courseId\":\"1\",\"courseAreaId\":\"4700000000\",\"courseAreaName\":\"경상북도\",\"courseName\":\"남호고택에서의 하룻밤\",\"spotAreaId\":102,\"spotAreaName\":\"봉화\",\"spotName\":\"(봉화)춘양목 송이마을\",\"th3\":-9,\"wd\":327,\"ws\":1,\"sky\":1,\"rhm\":60,\"pop\":0}]},\"pageNo\":1,\"numOfRows\":10,\"totalCount\":256}}}\n"
     ]
    }
   ],
   "source": [
    "import requests\n",
    "url = 'http://apis.data.go.kr/1360000/TourStnInfoService/getTourStnVilageFcst'\n",
    "params ={'serviceKey' : SERVICE_KEY, 'pageNo' : '1', 'numOfRows' : '10', 'dataType' : 'JSON', \n",
    "         'CURRENT_DATE' : '2022010101', 'HOUR' : '24', 'COURSE_ID' : '1' }\n",
    "\n",
    "response = requests.get(url, params=params)\n",
    "response.encoding = 'UTF-8'\n",
    "print(response.text)"
   ]
  },
  {
   "cell_type": "code",
   "execution_count": 94,
   "id": "9d457085-3f20-4f45-b28b-b7f35837fa00",
   "metadata": {},
   "outputs": [
    {
     "data": {
      "text/plain": [
       "3"
      ]
     },
     "execution_count": 94,
     "metadata": {},
     "output_type": "execute_result"
    }
   ],
   "source": [
    "eval(\"1+2\")"
   ]
  },
  {
   "cell_type": "code",
   "execution_count": 98,
   "id": "6fc95057-f25d-44de-a073-a3cf706d2c1d",
   "metadata": {},
   "outputs": [],
   "source": [
    "result = eval(response.text)"
   ]
  },
  {
   "cell_type": "code",
   "execution_count": 104,
   "id": "7cc324aa-cae9-4faa-9849-df049a7b6580",
   "metadata": {},
   "outputs": [
    {
     "data": {
      "text/html": [
       "<div>\n",
       "<style scoped>\n",
       "    .dataframe tbody tr th:only-of-type {\n",
       "        vertical-align: middle;\n",
       "    }\n",
       "\n",
       "    .dataframe tbody tr th {\n",
       "        vertical-align: top;\n",
       "    }\n",
       "\n",
       "    .dataframe thead th {\n",
       "        text-align: right;\n",
       "    }\n",
       "</style>\n",
       "<table border=\"1\" class=\"dataframe\">\n",
       "  <thead>\n",
       "    <tr style=\"text-align: right;\">\n",
       "      <th></th>\n",
       "      <th>tm</th>\n",
       "      <th>thema</th>\n",
       "      <th>courseId</th>\n",
       "      <th>courseAreaId</th>\n",
       "      <th>courseAreaName</th>\n",
       "      <th>courseName</th>\n",
       "      <th>spotAreaId</th>\n",
       "      <th>spotAreaName</th>\n",
       "      <th>spotName</th>\n",
       "      <th>th3</th>\n",
       "      <th>wd</th>\n",
       "      <th>ws</th>\n",
       "      <th>sky</th>\n",
       "      <th>rhm</th>\n",
       "      <th>pop</th>\n",
       "    </tr>\n",
       "  </thead>\n",
       "  <tbody>\n",
       "    <tr>\n",
       "      <th>0</th>\n",
       "      <td>2022-01-03 00:00</td>\n",
       "      <td>문화/예술</td>\n",
       "      <td>1</td>\n",
       "      <td>4700000000</td>\n",
       "      <td>경상북도</td>\n",
       "      <td>남호고택에서의 하룻밤</td>\n",
       "      <td>102</td>\n",
       "      <td>봉화</td>\n",
       "      <td>(봉화)춘양목 송이마을</td>\n",
       "      <td>-9</td>\n",
       "      <td>327</td>\n",
       "      <td>1</td>\n",
       "      <td>1</td>\n",
       "      <td>60</td>\n",
       "      <td>0</td>\n",
       "    </tr>\n",
       "    <tr>\n",
       "      <th>1</th>\n",
       "      <td>2022-01-03 00:00</td>\n",
       "      <td>종교/역사/전통</td>\n",
       "      <td>1</td>\n",
       "      <td>4700000000</td>\n",
       "      <td>경상북도</td>\n",
       "      <td>남호고택에서의 하룻밤</td>\n",
       "      <td>104</td>\n",
       "      <td>봉화</td>\n",
       "      <td>(봉화)계서당(성이성 생가)</td>\n",
       "      <td>-7</td>\n",
       "      <td>341</td>\n",
       "      <td>1</td>\n",
       "      <td>1</td>\n",
       "      <td>60</td>\n",
       "      <td>0</td>\n",
       "    </tr>\n",
       "    <tr>\n",
       "      <th>2</th>\n",
       "      <td>2022-01-03 00:00</td>\n",
       "      <td>자연/힐링</td>\n",
       "      <td>1</td>\n",
       "      <td>4700000000</td>\n",
       "      <td>경상북도</td>\n",
       "      <td>남호고택에서의 하룻밤</td>\n",
       "      <td>104</td>\n",
       "      <td>봉화</td>\n",
       "      <td>(봉화)계서당(성이성 생가)</td>\n",
       "      <td>-7</td>\n",
       "      <td>341</td>\n",
       "      <td>1</td>\n",
       "      <td>1</td>\n",
       "      <td>60</td>\n",
       "      <td>0</td>\n",
       "    </tr>\n",
       "    <tr>\n",
       "      <th>3</th>\n",
       "      <td>2022-01-03 00:00</td>\n",
       "      <td>체험/학습/산업</td>\n",
       "      <td>1</td>\n",
       "      <td>4700000000</td>\n",
       "      <td>경상북도</td>\n",
       "      <td>남호고택에서의 하룻밤</td>\n",
       "      <td>104</td>\n",
       "      <td>봉화</td>\n",
       "      <td>(봉화)계서당(성이성 생가)</td>\n",
       "      <td>-7</td>\n",
       "      <td>341</td>\n",
       "      <td>1</td>\n",
       "      <td>1</td>\n",
       "      <td>60</td>\n",
       "      <td>0</td>\n",
       "    </tr>\n",
       "    <tr>\n",
       "      <th>4</th>\n",
       "      <td>2022-01-03 00:00</td>\n",
       "      <td>문화/예술</td>\n",
       "      <td>1</td>\n",
       "      <td>4700000000</td>\n",
       "      <td>경상북도</td>\n",
       "      <td>남호고택에서의 하룻밤</td>\n",
       "      <td>103</td>\n",
       "      <td>봉화</td>\n",
       "      <td>(봉화)지림사</td>\n",
       "      <td>-7</td>\n",
       "      <td>336</td>\n",
       "      <td>1</td>\n",
       "      <td>1</td>\n",
       "      <td>65</td>\n",
       "      <td>0</td>\n",
       "    </tr>\n",
       "  </tbody>\n",
       "</table>\n",
       "</div>"
      ],
      "text/plain": [
       "                 tm     thema courseId courseAreaId courseAreaName  \\\n",
       "0  2022-01-03 00:00     문화/예술        1   4700000000           경상북도   \n",
       "1  2022-01-03 00:00  종교/역사/전통        1   4700000000           경상북도   \n",
       "2  2022-01-03 00:00     자연/힐링        1   4700000000           경상북도   \n",
       "3  2022-01-03 00:00  체험/학습/산업        1   4700000000           경상북도   \n",
       "4  2022-01-03 00:00     문화/예술        1   4700000000           경상북도   \n",
       "\n",
       "    courseName  spotAreaId spotAreaName         spotName  th3   wd  ws  sky  \\\n",
       "0  남호고택에서의 하룻밤         102           봉화     (봉화)춘양목 송이마을   -9  327   1    1   \n",
       "1  남호고택에서의 하룻밤         104           봉화  (봉화)계서당(성이성 생가)   -7  341   1    1   \n",
       "2  남호고택에서의 하룻밤         104           봉화  (봉화)계서당(성이성 생가)   -7  341   1    1   \n",
       "3  남호고택에서의 하룻밤         104           봉화  (봉화)계서당(성이성 생가)   -7  341   1    1   \n",
       "4  남호고택에서의 하룻밤         103           봉화          (봉화)지림사   -7  336   1    1   \n",
       "\n",
       "   rhm  pop  \n",
       "0   60    0  \n",
       "1   60    0  \n",
       "2   60    0  \n",
       "3   60    0  \n",
       "4   65    0  "
      ]
     },
     "execution_count": 104,
     "metadata": {},
     "output_type": "execute_result"
    }
   ],
   "source": [
    "df = pd.DataFrame(result['response']['body']['items']['item'])\n",
    "df.head()"
   ]
  },
  {
   "cell_type": "code",
   "execution_count": 170,
   "id": "74c342b5-0e1a-4ad2-b919-4c3a4f0792c6",
   "metadata": {
    "collapsed": true,
    "jupyter": {
     "outputs_hidden": true
    },
    "tags": []
   },
   "outputs": [
    {
     "data": {
      "text/plain": [
       "'<?xml version=\"1.0\" encoding=\"UTF-8\"?><WORLDJOB>\\n<ERR_CD>99</ERR_CD>\\n<COUNT>64</COUNT>\\n<ITEM>\\n<NAME>일본</NAME>\\n<CNT>817</CNT>\\n<RANKING>1</RANKING>\\n<RATE>28.3</RATE>\\n</ITEM>\\n<ITEM>\\n<NAME>미국</NAME>\\n<CNT>601</CNT>\\n<RANKING>2</RANKING>\\n<RATE>20.8</RATE>\\n</ITEM>\\n<ITEM>\\n<NAME>중국</NAME>\\n<CNT>185</CNT>\\n<RANKING>3</RANKING>\\n<RATE>6.4</RATE>\\n</ITEM>\\n<ITEM>\\n<NAME>싱가포르</NAME>\\n<CNT>178</CNT>\\n<RANKING>4</RANKING>\\n<RATE>6.2</RATE>\\n</ITEM>\\n<ITEM>\\n<NAME>베트남</NAME>\\n<CNT>177</CNT>\\n<RANKING>5</RANKING>\\n<RATE>6.1</RATE>\\n</ITEM>\\n<ITEM>\\n<NAME>말레이시아</NAME>\\n<CNT>161</CNT>\\n<RANKING>6</RANKING>\\n<RATE>5.6</RATE>\\n</ITEM>\\n<ITEM>\\n<NAME>인도네시아</NAME>\\n<CNT>80</CNT>\\n<RANKING>7</RANKING>\\n<RATE>2.8</RATE>\\n</ITEM>\\n<ITEM>\\n<NAME>호주</NAME>\\n<CNT>75</CNT>\\n<RANKING>8</RANKING>\\n<RATE>2.6</RATE>\\n</ITEM>\\n<ITEM>\\n<NAME>태국</NAME>\\n<CNT>65</CNT>\\n<RANKING>9</RANKING>\\n<RATE>2.2</RATE>\\n</ITEM>\\n<ITEM>\\n<NAME>독일</NAME>\\n<CNT>63</CNT>\\n<RANKING>10</RANKING>\\n<RATE>2.2</RATE>\\n</ITEM>\\n<ITEM>\\n<NAME>아랍에미리트</NAME>\\n<CNT>60</CNT>\\n<RANKING>11</RANKING>\\n<RATE>2.1</RATE>\\n</ITEM>\\n<ITEM>\\n<NAME>캐나다</NAME>\\n<CNT>49</CNT>\\n<RANKING>12</RANKING>\\n<RATE>1.7</RATE>\\n</ITEM>\\n<ITEM>\\n<NAME>멕시코</NAME>\\n<CNT>49</CNT>\\n<RANKING>13</RANKING>\\n<RATE>1.7</RATE>\\n</ITEM>\\n<ITEM>\\n<NAME>필리핀</NAME>\\n<CNT>37</CNT>\\n<RANKING>14</RANKING>\\n<RATE>1.3</RATE>\\n</ITEM>\\n<ITEM>\\n<NAME>인도</NAME>\\n<CNT>31</CNT>\\n<RANKING>15</RANKING>\\n<RATE>1.1</RATE>\\n</ITEM>\\n<ITEM>\\n<NAME>뉴질랜드</NAME>\\n<CNT>26</CNT>\\n<RANKING>16</RANKING>\\n<RATE>0.9</RATE>\\n</ITEM>\\n<ITEM>\\n<NAME>캄보디아</NAME>\\n<CNT>26</CNT>\\n<RANKING>17</RANKING>\\n<RATE>0.9</RATE>\\n</ITEM>\\n<ITEM>\\n<NAME>홍콩</NAME>\\n<CNT>25</CNT>\\n<RANKING>18</RANKING>\\n<RATE>0.9</RATE>\\n</ITEM>\\n<ITEM>\\n<NAME>괌</NAME>\\n<CNT>16</CNT>\\n<RANKING>19</RANKING>\\n<RATE>0.6</RATE>\\n</ITEM>\\n<ITEM>\\n<NAME>러시아</NAME>\\n<CNT>15</CNT>\\n<RANKING>20</RANKING>\\n<RATE>0.5</RATE>\\n</ITEM>\\n<ITEM>\\n<NAME>마카오</NAME>\\n<CNT>12</CNT>\\n<RANKING>21</RANKING>\\n<RATE>0.4</RATE>\\n</ITEM>\\n<ITEM>\\n<NAME>쿠웨이트</NAME>\\n<CNT>11</CNT>\\n<RANKING>22</RANKING>\\n<RATE>0.4</RATE>\\n</ITEM>\\n<ITEM>\\n<NAME>카타르</NAME>\\n<CNT>11</CNT>\\n<RANKING>23</RANKING>\\n<RATE>0.4</RATE>\\n</ITEM>\\n<ITEM>\\n<NAME>영국</NAME>\\n<CNT>11</CNT>\\n<RANKING>24</RANKING>\\n<RATE>0.4</RATE>\\n</ITEM>\\n<ITEM>\\n<NAME>미얀마</NAME>\\n<CNT>8</CNT>\\n<RANKING>25</RANKING>\\n<RATE>0.3</RATE>\\n</ITEM>\\n<ITEM>\\n<NAME>체코</NAME>\\n<CNT>8</CNT>\\n<RANKING>26</RANKING>\\n<RATE>0.3</RATE>\\n</ITEM>\\n<ITEM>\\n<NAME>터키</NAME>\\n<CNT>6</CNT>\\n<RANKING>27</RANKING>\\n<RATE>0.2</RATE>\\n</ITEM>\\n<ITEM>\\n<NAME>라오스</NAME>\\n<CNT>6</CNT>\\n<RANKING>28</RANKING>\\n<RATE>0.2</RATE>\\n</ITEM>\\n<ITEM>\\n<NAME>브라질</NAME>\\n<CNT>6</CNT>\\n<RANKING>29</RANKING>\\n<RATE>0.2</RATE>\\n</ITEM>\\n<ITEM>\\n<NAME>콩고민주공화국</NAME>\\n<CNT>5</CNT>\\n<RANKING>30</RANKING>\\n<RATE>0.2</RATE>\\n</ITEM>\\n<ITEM>\\n<NAME>대만</NAME>\\n<CNT>5</CNT>\\n<RANKING>31</RANKING>\\n<RATE>0.2</RATE>\\n</ITEM>\\n<ITEM>\\n<NAME>북마리아나군도</NAME>\\n<CNT>5</CNT>\\n<RANKING>32</RANKING>\\n<RATE>0.2</RATE>\\n</ITEM>\\n<ITEM>\\n<NAME>파나마</NAME>\\n<CNT>5</CNT>\\n<RANKING>33</RANKING>\\n<RATE>0.2</RATE>\\n</ITEM>\\n<ITEM>\\n<NAME>폴란드</NAME>\\n<CNT>4</CNT>\\n<RANKING>34</RANKING>\\n<RATE>0.1</RATE>\\n</ITEM>\\n<ITEM>\\n<NAME>동티모르</NAME>\\n<CNT>4</CNT>\\n<RANKING>35</RANKING>\\n<RATE>0.1</RATE>\\n</ITEM>\\n<ITEM>\\n<NAME>스리랑카</NAME>\\n<CNT>4</CNT>\\n<RANKING>36</RANKING>\\n<RATE>0.1</RATE>\\n</ITEM>\\n<ITEM>\\n<NAME>스웨덴</NAME>\\n<CNT>3</CNT>\\n<RANKING>37</RANKING>\\n<RATE>0.1</RATE>\\n</ITEM>\\n<ITEM>\\n<NAME>네덜란드</NAME>\\n<CNT>3</CNT>\\n<RANKING>38</RANKING>\\n<RATE>0.1</RATE>\\n</ITEM>\\n<ITEM>\\n<NAME>앙골라</NAME>\\n<CNT>3</CNT>\\n<RANKING>39</RANKING>\\n<RATE>0.1</RATE>\\n</ITEM>\\n<ITEM>\\n<NAME>오스트리아</NAME>\\n<CNT>2</CNT>\\n<RANKING>40</RANKING>\\n<RATE>0.1</RATE>\\n</ITEM>\\n<ITEM>\\n<NAME>팔레스타인</NAME>\\n<CNT>2</CNT>\\n<RANKING>41</RANKING>\\n<RATE>0.1</RATE>\\n</ITEM>\\n<ITEM>\\n<NAME>파키스탄</NAME>\\n<CNT>2</CNT>\\n<RANKING>42</RANKING>\\n<RATE>0.1</RATE>\\n</ITEM>\\n<ITEM>\\n<NAME>몰디브</NAME>\\n<CNT>2</CNT>\\n<RANKING>43</RANKING>\\n<RATE>0.1</RATE>\\n</ITEM>\\n<ITEM>\\n<NAME>탄자니아</NAME>\\n<CNT>2</CNT>\\n<RANKING>44</RANKING>\\n<RATE>0.1</RATE>\\n</ITEM>\\n<ITEM>\\n<NAME>키르기스스탄</NAME>\\n<CNT>2</CNT>\\n<RANKING>45</RANKING>\\n<RATE>0.1</RATE>\\n</ITEM>\\n<ITEM>\\n<NAME>사우디아라비아</NAME>\\n<CNT>2</CNT>\\n<RANKING>46</RANKING>\\n<RATE>0.1</RATE>\\n</ITEM>\\n<ITEM>\\n<NAME>세네갈</NAME>\\n<CNT>2</CNT>\\n<RANKING>47</RANKING>\\n<RATE>0.1</RATE>\\n</ITEM>\\n<ITEM>\\n<NAME>헝가리</NAME>\\n<CNT>1</CNT>\\n<RANKING>48</RANKING>\\n<RATE>0</RATE>\\n</ITEM>\\n<ITEM>\\n<NAME>우크라이나</NAME>\\n<CNT>1</CNT>\\n<RANKING>49</RANKING>\\n<RATE>0</RATE>\\n</ITEM>\\n<ITEM>\\n<NAME>크로아티아</NAME>\\n<CNT>1</CNT>\\n<RANKING>50</RANKING>\\n<RATE>0</RATE>\\n</ITEM>\\n<ITEM>\\n<NAME>니카라과</NAME>\\n<CNT>1</CNT>\\n<RANKING>51</RANKING>\\n<RATE>0</RATE>\\n</ITEM>\\n<ITEM>\\n<NAME>핀란드</NAME>\\n<CNT>1</CNT>\\n<RANKING>52</RANKING>\\n<RATE>0</RATE>\\n</ITEM>\\n<ITEM>\\n<NAME>미국령 태평양군도</NAME>\\n<CNT>1</CNT>\\n<RANKING>53</RANKING>\\n<RATE>0</RATE>\\n</ITEM>\\n<ITEM>\\n<NAME>과테말라</NAME>\\n<CNT>1</CNT>\\n<RANKING>54</RANKING>\\n<RATE>0</RATE>\\n</ITEM>\\n<ITEM>\\n<NAME>토고</NAME>\\n<CNT>1</CNT>\\n<RANKING>55</RANKING>\\n<RATE>0</RATE>\\n</ITEM>\\n<ITEM>\\n<NAME>루마니아</NAME>\\n<CNT>1</CNT>\\n<RANKING>56</RANKING>\\n<RATE>0</RATE>\\n</ITEM>\\n<ITEM>\\n<NAME>슬로바키아</NAME>\\n<CNT>1</CNT>\\n<RANKING>57</RANKING>\\n<RATE>0</RATE>\\n</ITEM>\\n<ITEM>\\n<NAME>아르헨티나</NAME>\\n<CNT>1</CNT>\\n<RANKING>58</RANKING>\\n<RATE>0</RATE>\\n</ITEM>\\n<ITEM>\\n<NAME>아일랜드</NAME>\\n<CNT>1</CNT>\\n<RANKING>59</RANKING>\\n<RATE>0</RATE>\\n</ITEM>\\n<ITEM>\\n<NAME>카자흐스탄</NAME>\\n<CNT>1</CNT>\\n<RANKING>60</RANKING>\\n<RATE>0</RATE>\\n</ITEM>\\n<ITEM>\\n<NAME>에스토니아</NAME>\\n<CNT>1</CNT>\\n<RANKING>61</RANKING>\\n<RATE>0</RATE>\\n</ITEM>\\n<ITEM>\\n<NAME>오만</NAME>\\n<CNT>1</CNT>\\n<RANKING>62</RANKING>\\n<RATE>0</RATE>\\n</ITEM>\\n<ITEM>\\n<NAME>이란</NAME>\\n<CNT>1</CNT>\\n<RANKING>63</RANKING>\\n<RATE>0</RATE>\\n</ITEM>\\n<ITEM>\\n<NAME>가나</NAME>\\n<CNT>1</CNT>\\n<RANKING>64</RANKING>\\n<RATE>0</RATE>\\n</ITEM>\\n</WORLDJOB>'"
      ]
     },
     "execution_count": 170,
     "metadata": {},
     "output_type": "execute_result"
    }
   ],
   "source": [
    "url = 'http://www.worldjob.or.kr/openapi/overseasEmployment.do'\n",
    "params ={\n",
    "    'serviceKey' : SERVICE_KEY, 'gubun' : 'A', 'item' : 'N', 'year':'2017'\n",
    "        }\n",
    "\n",
    "response = requests.get(url, params=params)\n",
    "response.encoding = 'UTF-8'\n",
    "result = response.text\n",
    "result"
   ]
  },
  {
   "cell_type": "code",
   "execution_count": 171,
   "id": "9fc29577-e7ec-4a76-884f-4f20c88791ff",
   "metadata": {},
   "outputs": [
    {
     "name": "stdout",
     "output_type": "stream",
     "text": [
      "Requirement already satisfied: xmltodict in c:\\users\\user\\miniconda3\\envs\\py\\lib\\site-packages (0.13.0)\n"
     ]
    }
   ],
   "source": [
    "!pip install xmltodict"
   ]
  },
  {
   "cell_type": "code",
   "execution_count": 172,
   "id": "b9eed716-2bed-42b6-a49d-2644c103b1d3",
   "metadata": {},
   "outputs": [],
   "source": [
    "import xmltodict"
   ]
  },
  {
   "cell_type": "code",
   "execution_count": 173,
   "id": "ba20bdf3-8f0b-4617-9da2-8ce12ae54493",
   "metadata": {},
   "outputs": [],
   "source": [
    "xmldic = xmltodict.parse(result)"
   ]
  },
  {
   "cell_type": "code",
   "execution_count": 174,
   "id": "39bdb6bc-c4c9-4122-9608-160904d82774",
   "metadata": {},
   "outputs": [],
   "source": [
    "df = pd.DataFrame(xmldic['WORLDJOB']['ITEM'])"
   ]
  },
  {
   "cell_type": "code",
   "execution_count": 175,
   "id": "c41f24b2-cddc-49bb-b37b-fdf52692838a",
   "metadata": {},
   "outputs": [
    {
     "data": {
      "text/html": [
       "<div>\n",
       "<style scoped>\n",
       "    .dataframe tbody tr th:only-of-type {\n",
       "        vertical-align: middle;\n",
       "    }\n",
       "\n",
       "    .dataframe tbody tr th {\n",
       "        vertical-align: top;\n",
       "    }\n",
       "\n",
       "    .dataframe thead th {\n",
       "        text-align: right;\n",
       "    }\n",
       "</style>\n",
       "<table border=\"1\" class=\"dataframe\">\n",
       "  <thead>\n",
       "    <tr style=\"text-align: right;\">\n",
       "      <th></th>\n",
       "      <th>NAME</th>\n",
       "      <th>CNT</th>\n",
       "      <th>RANKING</th>\n",
       "      <th>RATE</th>\n",
       "    </tr>\n",
       "  </thead>\n",
       "  <tbody>\n",
       "    <tr>\n",
       "      <th>0</th>\n",
       "      <td>일본</td>\n",
       "      <td>817</td>\n",
       "      <td>1</td>\n",
       "      <td>28.3</td>\n",
       "    </tr>\n",
       "    <tr>\n",
       "      <th>1</th>\n",
       "      <td>미국</td>\n",
       "      <td>601</td>\n",
       "      <td>2</td>\n",
       "      <td>20.8</td>\n",
       "    </tr>\n",
       "    <tr>\n",
       "      <th>2</th>\n",
       "      <td>중국</td>\n",
       "      <td>185</td>\n",
       "      <td>3</td>\n",
       "      <td>6.4</td>\n",
       "    </tr>\n",
       "    <tr>\n",
       "      <th>3</th>\n",
       "      <td>싱가포르</td>\n",
       "      <td>178</td>\n",
       "      <td>4</td>\n",
       "      <td>6.2</td>\n",
       "    </tr>\n",
       "    <tr>\n",
       "      <th>4</th>\n",
       "      <td>베트남</td>\n",
       "      <td>177</td>\n",
       "      <td>5</td>\n",
       "      <td>6.1</td>\n",
       "    </tr>\n",
       "  </tbody>\n",
       "</table>\n",
       "</div>"
      ],
      "text/plain": [
       "   NAME  CNT RANKING  RATE\n",
       "0    일본  817       1  28.3\n",
       "1    미국  601       2  20.8\n",
       "2    중국  185       3   6.4\n",
       "3  싱가포르  178       4   6.2\n",
       "4   베트남  177       5   6.1"
      ]
     },
     "execution_count": 175,
     "metadata": {},
     "output_type": "execute_result"
    }
   ],
   "source": [
    "df.head()"
   ]
  },
  {
   "cell_type": "markdown",
   "id": "eac34e39-18d0-4834-be07-2513116c3594",
   "metadata": {},
   "source": [
    "# 영문 분석 + 워드클라우드"
   ]
  },
  {
   "cell_type": "markdown",
   "id": "9db920f5-7c1d-4d44-a714-4bbc80010fef",
   "metadata": {},
   "source": [
    "# 정제 - 정규화 - 토근화 - 불용어 제거 - 어간 추출 - 표제어 추출"
   ]
  },
  {
   "cell_type": "code",
   "execution_count": 177,
   "id": "45cc98b9-6250-468c-b252-7c8d17284d8e",
   "metadata": {},
   "outputs": [],
   "source": [
    "# http://www.riss.kr/index.do"
   ]
  },
  {
   "cell_type": "code",
   "execution_count": 178,
   "id": "af426e90-f416-48b5-95a5-37cb21ebcb9b",
   "metadata": {},
   "outputs": [
    {
     "name": "stdout",
     "output_type": "stream",
     "text": [
      "Collecting wordcloud\n",
      "  Downloading wordcloud-1.8.2.2-cp310-cp310-win_amd64.whl (153 kB)\n",
      "     -------------------------------------- 153.1/153.1 kB 8.9 MB/s eta 0:00:00\n",
      "Requirement already satisfied: matplotlib in c:\\users\\user\\miniconda3\\envs\\py\\lib\\site-packages (from wordcloud) (3.6.3)\n",
      "Requirement already satisfied: pillow in c:\\users\\user\\miniconda3\\envs\\py\\lib\\site-packages (from wordcloud) (9.4.0)\n",
      "Requirement already satisfied: numpy>=1.6.1 in c:\\users\\user\\miniconda3\\envs\\py\\lib\\site-packages (from wordcloud) (1.24.1)\n",
      "Requirement already satisfied: packaging>=20.0 in c:\\users\\user\\miniconda3\\envs\\py\\lib\\site-packages (from matplotlib->wordcloud) (22.0)\n",
      "Requirement already satisfied: pyparsing>=2.2.1 in c:\\users\\user\\miniconda3\\envs\\py\\lib\\site-packages (from matplotlib->wordcloud) (3.0.9)\n",
      "Requirement already satisfied: python-dateutil>=2.7 in c:\\users\\user\\miniconda3\\envs\\py\\lib\\site-packages (from matplotlib->wordcloud) (2.8.2)\n",
      "Requirement already satisfied: cycler>=0.10 in c:\\users\\user\\miniconda3\\envs\\py\\lib\\site-packages (from matplotlib->wordcloud) (0.11.0)\n",
      "Requirement already satisfied: fonttools>=4.22.0 in c:\\users\\user\\miniconda3\\envs\\py\\lib\\site-packages (from matplotlib->wordcloud) (4.38.0)\n",
      "Requirement already satisfied: contourpy>=1.0.1 in c:\\users\\user\\miniconda3\\envs\\py\\lib\\site-packages (from matplotlib->wordcloud) (1.0.6)\n",
      "Requirement already satisfied: kiwisolver>=1.0.1 in c:\\users\\user\\miniconda3\\envs\\py\\lib\\site-packages (from matplotlib->wordcloud) (1.4.4)\n",
      "Requirement already satisfied: six>=1.5 in c:\\users\\user\\miniconda3\\envs\\py\\lib\\site-packages (from python-dateutil>=2.7->matplotlib->wordcloud) (1.16.0)\n",
      "Installing collected packages: wordcloud\n",
      "Successfully installed wordcloud-1.8.2.2\n"
     ]
    }
   ],
   "source": [
    "!pip install wordcloud"
   ]
  },
  {
   "cell_type": "code",
   "execution_count": 179,
   "id": "3d2d725a-e63a-4e7e-84c8-303ef42eba08",
   "metadata": {},
   "outputs": [],
   "source": [
    "import glob\n",
    "import re  # 정규식\n",
    "from functools import reduce   # 2차원리스트를 1차원 리스트로 차원을 줄이는 모듈"
   ]
  },
  {
   "cell_type": "code",
   "execution_count": 180,
   "id": "3f018934-eb4a-467d-bed3-1f2deeb73127",
   "metadata": {
    "collapsed": true,
    "jupyter": {
     "outputs_hidden": true
    },
    "tags": []
   },
   "outputs": [
    {
     "name": "stdout",
     "output_type": "stream",
     "text": [
      "Collecting nltk\n",
      "  Downloading nltk-3.8.1-py3-none-any.whl (1.5 MB)\n",
      "     ---------------------------------------- 1.5/1.5 MB 23.8 MB/s eta 0:00:00\n",
      "Collecting click\n",
      "  Using cached click-8.1.3-py3-none-any.whl (96 kB)\n",
      "Requirement already satisfied: tqdm in c:\\users\\user\\miniconda3\\envs\\py\\lib\\site-packages (from nltk) (4.64.1)\n",
      "Collecting regex>=2021.8.3\n",
      "  Downloading regex-2022.10.31-cp310-cp310-win_amd64.whl (267 kB)\n",
      "     ---------------------------------------- 267.7/267.7 kB ? eta 0:00:00\n",
      "Requirement already satisfied: joblib in c:\\users\\user\\miniconda3\\envs\\py\\lib\\site-packages (from nltk) (1.2.0)\n",
      "Requirement already satisfied: colorama in c:\\users\\user\\miniconda3\\envs\\py\\lib\\site-packages (from click->nltk) (0.4.5)\n",
      "Installing collected packages: regex, click, nltk\n",
      "Successfully installed click-8.1.3 nltk-3.8.1 regex-2022.10.31\n"
     ]
    }
   ],
   "source": [
    "!pip install nltk"
   ]
  },
  {
   "cell_type": "code",
   "execution_count": 182,
   "id": "2b53ca68-d6ae-4c45-aeda-59561a87ec8e",
   "metadata": {},
   "outputs": [],
   "source": [
    "# nltk 자연어 처리 패키지\n",
    "from nltk.tokenize import word_tokenize   # 토큰화(문장을 최소 단위로 분리.. 단어)\n",
    "from nltk.corpus import stopwords        # 불용어  단어가 아닌 접두사 전치사 기타..\n",
    "from nltk.stem import WordNetLemmatizer  # 표제어 추출 - 단어를 일반화 시제 등...\n",
    "from collections import Counter          # 데이터 집합에서 개수를 자동으로 계산\n",
    "import matplotlib.pylab as plt\n",
    "from wordcloud import STOPWORDS, WordCloud    # 워드클라우를 그리기위해 사용하는 불용어, "
   ]
  },
  {
   "cell_type": "code",
   "execution_count": 226,
   "id": "060fadfe-b82f-4c33-bc09-1fa492a68503",
   "metadata": {},
   "outputs": [],
   "source": [
    "files = glob.glob(\"./data/*.xls\")"
   ]
  },
  {
   "cell_type": "code",
   "execution_count": 227,
   "id": "1385d201-00d4-49da-866b-f7dc33fd4ac2",
   "metadata": {},
   "outputs": [
    {
     "name": "stdout",
     "output_type": "stream",
     "text": [
      "Requirement already satisfied: xlrd in c:\\users\\user\\miniconda3\\envs\\py\\lib\\site-packages (2.0.1)\n"
     ]
    }
   ],
   "source": [
    "!pip install xlrd"
   ]
  },
  {
   "cell_type": "code",
   "execution_count": 228,
   "id": "132a4b21-3ff3-43aa-82e1-ee966185f695",
   "metadata": {},
   "outputs": [],
   "source": [
    "result = []\n",
    "for file in files:\n",
    "    df = pd.read_excel(file,index_col=1)\n",
    "    result.append(df.iloc[:,1:])"
   ]
  },
  {
   "cell_type": "code",
   "execution_count": 229,
   "id": "92487278-a949-4656-8c96-2a376e73f93e",
   "metadata": {},
   "outputs": [
    {
     "name": "stdout",
     "output_type": "stream",
     "text": [
      "100\n",
      "100\n",
      "100\n"
     ]
    }
   ],
   "source": [
    "for i in result:\n",
    "    print(len(i))"
   ]
  },
  {
   "cell_type": "code",
   "execution_count": 230,
   "id": "66a5e91b-799b-4a7c-bab8-4e04cac47aa7",
   "metadata": {},
   "outputs": [],
   "source": [
    "# result에 있는 Dataframe을 합친다."
   ]
  },
  {
   "cell_type": "code",
   "execution_count": 238,
   "id": "db6f1898-ca35-4539-b663-8c5e95c8d032",
   "metadata": {},
   "outputs": [],
   "source": [
    "df = pd.concat(result,axis=0)"
   ]
  },
  {
   "cell_type": "code",
   "execution_count": 239,
   "id": "37176db6-140c-46ba-bcd2-38267fc691e3",
   "metadata": {},
   "outputs": [
    {
     "data": {
      "text/html": [
       "<div>\n",
       "<style scoped>\n",
       "    .dataframe tbody tr th:only-of-type {\n",
       "        vertical-align: middle;\n",
       "    }\n",
       "\n",
       "    .dataframe tbody tr th {\n",
       "        vertical-align: top;\n",
       "    }\n",
       "\n",
       "    .dataframe thead th {\n",
       "        text-align: right;\n",
       "    }\n",
       "</style>\n",
       "<table border=\"1\" class=\"dataframe\">\n",
       "  <thead>\n",
       "    <tr style=\"text-align: right;\">\n",
       "      <th></th>\n",
       "      <th>제목</th>\n",
       "      <th>저자</th>\n",
       "      <th>출판사</th>\n",
       "      <th>출판일</th>\n",
       "    </tr>\n",
       "    <tr>\n",
       "      <th>번호</th>\n",
       "      <th></th>\n",
       "      <th></th>\n",
       "      <th></th>\n",
       "      <th></th>\n",
       "    </tr>\n",
       "  </thead>\n",
       "  <tbody>\n",
       "    <tr>\n",
       "      <th>1</th>\n",
       "      <td>Future Trends of AI-based Smart Systems and Se...</td>\n",
       "      <td>이대원</td>\n",
       "      <td>한국정보처리학회</td>\n",
       "      <td>2019</td>\n",
       "    </tr>\n",
       "    <tr>\n",
       "      <th>2</th>\n",
       "      <td>Future Trends of AI-Based Smart Systems and Se...</td>\n",
       "      <td>Lee, Daewon</td>\n",
       "      <td>Korea Information Processing Society</td>\n",
       "      <td>2019</td>\n",
       "    </tr>\n",
       "    <tr>\n",
       "      <th>3</th>\n",
       "      <td>Consciousness and Intentionality in AI and the...</td>\n",
       "      <td>Michael Jin Choi(최진)</td>\n",
       "      <td>한국신학정보연구원</td>\n",
       "      <td>2016</td>\n",
       "    </tr>\n",
       "    <tr>\n",
       "      <th>4</th>\n",
       "      <td>A Study on the Use of AI-based Learning Progra...</td>\n",
       "      <td>김혜숙</td>\n",
       "      <td>한국영어학회</td>\n",
       "      <td>2022</td>\n",
       "    </tr>\n",
       "    <tr>\n",
       "      <th>5</th>\n",
       "      <td>Influence of hCG Administration after AI on Co...</td>\n",
       "      <td>Hyun-Joo Lim</td>\n",
       "      <td>한국동물생명공학회(구 한국동물번식학회)</td>\n",
       "      <td>2018</td>\n",
       "    </tr>\n",
       "  </tbody>\n",
       "</table>\n",
       "</div>"
      ],
      "text/plain": [
       "                                                   제목                    저자  \\\n",
       "번호                                                                            \n",
       "1   Future Trends of AI-based Smart Systems and Se...                   이대원   \n",
       "2   Future Trends of AI-Based Smart Systems and Se...           Lee, Daewon   \n",
       "3   Consciousness and Intentionality in AI and the...  Michael Jin Choi(최진)   \n",
       "4   A Study on the Use of AI-based Learning Progra...                   김혜숙   \n",
       "5   Influence of hCG Administration after AI on Co...          Hyun-Joo Lim   \n",
       "\n",
       "                                     출판사   출판일  \n",
       "번호                                              \n",
       "1                               한국정보처리학회  2019  \n",
       "2   Korea Information Processing Society  2019  \n",
       "3                              한국신학정보연구원  2016  \n",
       "4                                 한국영어학회  2022  \n",
       "5                  한국동물생명공학회(구 한국동물번식학회)  2018  "
      ]
     },
     "execution_count": 239,
     "metadata": {},
     "output_type": "execute_result"
    }
   ],
   "source": [
    "df.head()"
   ]
  },
  {
   "cell_type": "code",
   "execution_count": 240,
   "id": "55c4d267-9296-409c-b702-313f48e25864",
   "metadata": {},
   "outputs": [],
   "source": [
    "df.reset_index(drop=1,inplace=True)"
   ]
  },
  {
   "cell_type": "code",
   "execution_count": 241,
   "id": "57749dd0-b38c-4cfa-87ea-6a964f142cc9",
   "metadata": {},
   "outputs": [
    {
     "name": "stdout",
     "output_type": "stream",
     "text": [
      "<class 'pandas.core.frame.DataFrame'>\n",
      "RangeIndex: 300 entries, 0 to 299\n",
      "Data columns (total 4 columns):\n",
      " #   Column  Non-Null Count  Dtype \n",
      "---  ------  --------------  ----- \n",
      " 0   제목      300 non-null    object\n",
      " 1   저자      300 non-null    object\n",
      " 2   출판사     300 non-null    object\n",
      " 3   출판일     300 non-null    int64 \n",
      "dtypes: int64(1), object(3)\n",
      "memory usage: 9.5+ KB\n"
     ]
    }
   ],
   "source": [
    "df.info()"
   ]
  },
  {
   "cell_type": "code",
   "execution_count": 242,
   "id": "764bd38d-5e2e-4b8d-a3fa-d34d3a065cc7",
   "metadata": {},
   "outputs": [
    {
     "data": {
      "text/html": [
       "<div>\n",
       "<style scoped>\n",
       "    .dataframe tbody tr th:only-of-type {\n",
       "        vertical-align: middle;\n",
       "    }\n",
       "\n",
       "    .dataframe tbody tr th {\n",
       "        vertical-align: top;\n",
       "    }\n",
       "\n",
       "    .dataframe thead th {\n",
       "        text-align: right;\n",
       "    }\n",
       "</style>\n",
       "<table border=\"1\" class=\"dataframe\">\n",
       "  <thead>\n",
       "    <tr style=\"text-align: right;\">\n",
       "      <th></th>\n",
       "      <th>제목</th>\n",
       "      <th>저자</th>\n",
       "      <th>출판사</th>\n",
       "      <th>출판일</th>\n",
       "    </tr>\n",
       "  </thead>\n",
       "  <tbody>\n",
       "    <tr>\n",
       "      <th>0</th>\n",
       "      <td>Future Trends of AI-based Smart Systems and Se...</td>\n",
       "      <td>이대원</td>\n",
       "      <td>한국정보처리학회</td>\n",
       "      <td>2019</td>\n",
       "    </tr>\n",
       "    <tr>\n",
       "      <th>1</th>\n",
       "      <td>Future Trends of AI-Based Smart Systems and Se...</td>\n",
       "      <td>Lee, Daewon</td>\n",
       "      <td>Korea Information Processing Society</td>\n",
       "      <td>2019</td>\n",
       "    </tr>\n",
       "    <tr>\n",
       "      <th>2</th>\n",
       "      <td>Consciousness and Intentionality in AI and the...</td>\n",
       "      <td>Michael Jin Choi(최진)</td>\n",
       "      <td>한국신학정보연구원</td>\n",
       "      <td>2016</td>\n",
       "    </tr>\n",
       "    <tr>\n",
       "      <th>3</th>\n",
       "      <td>A Study on the Use of AI-based Learning Progra...</td>\n",
       "      <td>김혜숙</td>\n",
       "      <td>한국영어학회</td>\n",
       "      <td>2022</td>\n",
       "    </tr>\n",
       "    <tr>\n",
       "      <th>4</th>\n",
       "      <td>Influence of hCG Administration after AI on Co...</td>\n",
       "      <td>Hyun-Joo Lim</td>\n",
       "      <td>한국동물생명공학회(구 한국동물번식학회)</td>\n",
       "      <td>2018</td>\n",
       "    </tr>\n",
       "  </tbody>\n",
       "</table>\n",
       "</div>"
      ],
      "text/plain": [
       "                                                  제목                    저자  \\\n",
       "0  Future Trends of AI-based Smart Systems and Se...                   이대원   \n",
       "1  Future Trends of AI-Based Smart Systems and Se...           Lee, Daewon   \n",
       "2  Consciousness and Intentionality in AI and the...  Michael Jin Choi(최진)   \n",
       "3  A Study on the Use of AI-based Learning Progra...                   김혜숙   \n",
       "4  Influence of hCG Administration after AI on Co...          Hyun-Joo Lim   \n",
       "\n",
       "                                    출판사   출판일  \n",
       "0                              한국정보처리학회  2019  \n",
       "1  Korea Information Processing Society  2019  \n",
       "2                             한국신학정보연구원  2016  \n",
       "3                                한국영어학회  2022  \n",
       "4                 한국동물생명공학회(구 한국동물번식학회)  2018  "
      ]
     },
     "execution_count": 242,
     "metadata": {},
     "output_type": "execute_result"
    }
   ],
   "source": [
    "df.head()"
   ]
  },
  {
   "cell_type": "code",
   "execution_count": 243,
   "id": "2c8911c5-5ca7-4ef1-a08a-5c8457281069",
   "metadata": {},
   "outputs": [],
   "source": [
    "df.to_csv(\"ai.csv\")"
   ]
  },
  {
   "cell_type": "code",
   "execution_count": 244,
   "id": "8a16383f-4886-4541-9258-942ef20f09ba",
   "metadata": {},
   "outputs": [],
   "source": [
    "titles = df['제목']"
   ]
  },
  {
   "cell_type": "code",
   "execution_count": 245,
   "id": "42a27e9d-0357-464c-8d40-5e01918aad11",
   "metadata": {},
   "outputs": [
    {
     "data": {
      "text/plain": [
       "0      Future Trends of AI-based Smart Systems and Se...\n",
       "1      Future Trends of AI-Based Smart Systems and Se...\n",
       "2      Consciousness and Intentionality in AI and the...\n",
       "3      A Study on the Use of AI-based Learning Progra...\n",
       "4      Influence of hCG Administration after AI on Co...\n",
       "                             ...                        \n",
       "295    Application of AI-based Customer Segmentation ...\n",
       "296    A Proposed AI-based Library Usage Management i...\n",
       "297    Comparison of AI-algorithm Performance for Pre...\n",
       "298    Understanding Passengers’ Perceived Safety and...\n",
       "299    Design of 2 Wheels Driving Robot Direction Con...\n",
       "Name: 제목, Length: 300, dtype: object"
      ]
     },
     "execution_count": 245,
     "metadata": {},
     "output_type": "execute_result"
    }
   ],
   "source": [
    "titles"
   ]
  },
  {
   "cell_type": "code",
   "execution_count": 247,
   "id": "0fafb1ef-fe1e-46d9-b0ce-8e761a0ca529",
   "metadata": {},
   "outputs": [
    {
     "data": {
      "text/html": [
       "<div>\n",
       "<style scoped>\n",
       "    .dataframe tbody tr th:only-of-type {\n",
       "        vertical-align: middle;\n",
       "    }\n",
       "\n",
       "    .dataframe tbody tr th {\n",
       "        vertical-align: top;\n",
       "    }\n",
       "\n",
       "    .dataframe thead th {\n",
       "        text-align: right;\n",
       "    }\n",
       "</style>\n",
       "<table border=\"1\" class=\"dataframe\">\n",
       "  <thead>\n",
       "    <tr style=\"text-align: right;\">\n",
       "      <th></th>\n",
       "      <th>제목</th>\n",
       "      <th>저자</th>\n",
       "      <th>출판사</th>\n",
       "      <th>출판일</th>\n",
       "    </tr>\n",
       "  </thead>\n",
       "  <tbody>\n",
       "    <tr>\n",
       "      <th>0</th>\n",
       "      <td>Future Trends of AI-based Smart Systems and Se...</td>\n",
       "      <td>이대원</td>\n",
       "      <td>한국정보처리학회</td>\n",
       "      <td>2019</td>\n",
       "    </tr>\n",
       "    <tr>\n",
       "      <th>1</th>\n",
       "      <td>Future Trends of AI-Based Smart Systems and Se...</td>\n",
       "      <td>Lee, Daewon</td>\n",
       "      <td>Korea Information Processing Society</td>\n",
       "      <td>2019</td>\n",
       "    </tr>\n",
       "    <tr>\n",
       "      <th>2</th>\n",
       "      <td>Consciousness and Intentionality in AI and the...</td>\n",
       "      <td>Michael Jin Choi(최진)</td>\n",
       "      <td>한국신학정보연구원</td>\n",
       "      <td>2016</td>\n",
       "    </tr>\n",
       "  </tbody>\n",
       "</table>\n",
       "</div>"
      ],
      "text/plain": [
       "                                                  제목                    저자  \\\n",
       "0  Future Trends of AI-based Smart Systems and Se...                   이대원   \n",
       "1  Future Trends of AI-Based Smart Systems and Se...           Lee, Daewon   \n",
       "2  Consciousness and Intentionality in AI and the...  Michael Jin Choi(최진)   \n",
       "\n",
       "                                    출판사   출판일  \n",
       "0                              한국정보처리학회  2019  \n",
       "1  Korea Information Processing Society  2019  \n",
       "2                             한국신학정보연구원  2016  "
      ]
     },
     "execution_count": 247,
     "metadata": {},
     "output_type": "execute_result"
    }
   ],
   "source": [
    "df.loc[:2]"
   ]
  },
  {
   "cell_type": "code",
   "execution_count": 248,
   "id": "d79a0d2e-d08d-4379-843f-e7d22be35640",
   "metadata": {},
   "outputs": [
    {
     "data": {
      "text/html": [
       "<div>\n",
       "<style scoped>\n",
       "    .dataframe tbody tr th:only-of-type {\n",
       "        vertical-align: middle;\n",
       "    }\n",
       "\n",
       "    .dataframe tbody tr th {\n",
       "        vertical-align: top;\n",
       "    }\n",
       "\n",
       "    .dataframe thead th {\n",
       "        text-align: right;\n",
       "    }\n",
       "</style>\n",
       "<table border=\"1\" class=\"dataframe\">\n",
       "  <thead>\n",
       "    <tr style=\"text-align: right;\">\n",
       "      <th></th>\n",
       "      <th>제목</th>\n",
       "      <th>저자</th>\n",
       "      <th>출판사</th>\n",
       "      <th>출판일</th>\n",
       "    </tr>\n",
       "  </thead>\n",
       "  <tbody>\n",
       "    <tr>\n",
       "      <th>0</th>\n",
       "      <td>Future Trends of AI-based Smart Systems and Se...</td>\n",
       "      <td>이대원</td>\n",
       "      <td>한국정보처리학회</td>\n",
       "      <td>2019</td>\n",
       "    </tr>\n",
       "    <tr>\n",
       "      <th>1</th>\n",
       "      <td>Future Trends of AI-Based Smart Systems and Se...</td>\n",
       "      <td>Lee, Daewon</td>\n",
       "      <td>Korea Information Processing Society</td>\n",
       "      <td>2019</td>\n",
       "    </tr>\n",
       "  </tbody>\n",
       "</table>\n",
       "</div>"
      ],
      "text/plain": [
       "                                                  제목           저자  \\\n",
       "0  Future Trends of AI-based Smart Systems and Se...          이대원   \n",
       "1  Future Trends of AI-Based Smart Systems and Se...  Lee, Daewon   \n",
       "\n",
       "                                    출판사   출판일  \n",
       "0                              한국정보처리학회  2019  \n",
       "1  Korea Information Processing Society  2019  "
      ]
     },
     "execution_count": 248,
     "metadata": {},
     "output_type": "execute_result"
    }
   ],
   "source": [
    "df.iloc[:2]"
   ]
  },
  {
   "cell_type": "code",
   "execution_count": 253,
   "id": "d314b236-4e98-4fed-a1af-7f22a50299d1",
   "metadata": {},
   "outputs": [],
   "source": [
    "stopword = set(stopwords.words(\"english\"))"
   ]
  },
  {
   "cell_type": "code",
   "execution_count": null,
   "id": "4adb11bc-10c4-4815-bc4f-2b616a94697f",
   "metadata": {},
   "outputs": [],
   "source": []
  }
 ],
 "metadata": {
  "kernelspec": {
   "display_name": "Python 3 (ipykernel)",
   "language": "python",
   "name": "python3"
  },
  "language_info": {
   "codemirror_mode": {
    "name": "ipython",
    "version": 3
   },
   "file_extension": ".py",
   "mimetype": "text/x-python",
   "name": "python",
   "nbconvert_exporter": "python",
   "pygments_lexer": "ipython3",
   "version": "3.10.8"
  }
 },
 "nbformat": 4,
 "nbformat_minor": 5
}
