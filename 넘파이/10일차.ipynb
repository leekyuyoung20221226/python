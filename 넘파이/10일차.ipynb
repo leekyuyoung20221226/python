{
 "cells": [
  {
   "cell_type": "code",
   "execution_count": 1,
   "id": "71ddcfe7-f90f-470a-8687-83101b478da2",
   "metadata": {},
   "outputs": [],
   "source": [
    "# file open -> file hander return\n",
    "f = open('./test.txt', 'r')"
   ]
  },
  {
   "cell_type": "code",
   "execution_count": 2,
   "id": "8069ff5c-4dae-498f-956d-77467cb4c2ce",
   "metadata": {},
   "outputs": [],
   "source": [
    "contents = f.read()"
   ]
  },
  {
   "cell_type": "code",
   "execution_count": 4,
   "id": "2501eb9d-7cda-4d4d-bc8c-4c327a1efd39",
   "metadata": {},
   "outputs": [
    {
     "data": {
      "text/plain": [
       "'HIGHLIGHTS: The Hilltoppers were defeated by Middleboro on the road. \\nWinners for Durfee includes Michael Harrington in the 200 free (2:17.53) \\nand Yasin Mahmoud in the 100 breaststroke (1:30.65). Harrington was part of the winning 200 \\nfree relay with Cooper Long, Jack Fitzgerald, and William Rumsey (1:52.65). \"All athletes stepped up at varying degrees, but special performances were had by Tim Archambault in the 200 IM and William Pierce,\" Hilltopper head coach Christopher Poliseno said.'"
      ]
     },
     "execution_count": 4,
     "metadata": {},
     "output_type": "execute_result"
    }
   ],
   "source": [
    "contents"
   ]
  },
  {
   "cell_type": "code",
   "execution_count": 5,
   "id": "6512552e-7fa8-4f43-9109-54312c274093",
   "metadata": {},
   "outputs": [
    {
     "name": "stdout",
     "output_type": "stream",
     "text": [
      "HIGHLIGHTS: The Hilltoppers were defeated by Middleboro on the road. \n",
      "Winners for Durfee includes Michael Harrington in the 200 free (2:17.53) \n",
      "and Yasin Mahmoud in the 100 breaststroke (1:30.65). Harrington was part of the winning 200 \n",
      "free relay with Cooper Long, Jack Fitzgerald, and William Rumsey (1:52.65). \"All athletes stepped up at varying degrees, but special performances were had by Tim Archambault in the 200 IM and William Pierce,\" Hilltopper head coach Christopher Poliseno said.\n"
     ]
    }
   ],
   "source": [
    "print(contents)"
   ]
  },
  {
   "cell_type": "code",
   "execution_count": 6,
   "id": "ef42c050-4238-4c5b-8304-f672e1d489aa",
   "metadata": {},
   "outputs": [],
   "source": [
    "# 파일 사용이 끝나면 close() --> 자원 반납\n",
    "f.close()"
   ]
  },
  {
   "cell_type": "code",
   "execution_count": 7,
   "id": "8264a79b-34e3-425b-a033-50869577f426",
   "metadata": {},
   "outputs": [
    {
     "name": "stdout",
     "output_type": "stream",
     "text": [
      "HIGHLIGHTS: The Hilltoppers were defeated by Middleboro on the road. \n",
      "Winners for Durfee includes Michael Harrington in the 200 free (2:17.53) \n",
      "and Yasin Mahmoud in the 100 breaststroke (1:30.65). Harrington was part of the winning 200 \n",
      "free relay with Cooper Long, Jack Fitzgerald, and William Rumsey (1:52.65). \"All athletes stepped up at varying degrees, but special performances were had by Tim Archambault in the 200 IM and William Pierce,\" Hilltopper head coach Christopher Poliseno said.\n"
     ]
    }
   ],
   "source": [
    "# 파일은 open ~ close 한쌍으로 동작\n",
    "# 번거럽고 잊기 쉬워서 ... 개선\n",
    "with open('test.txt', 'r') as f:\n",
    "    content = f.read()\n",
    "    print(content)"
   ]
  },
  {
   "cell_type": "code",
   "execution_count": 11,
   "id": "a1b1102c-2b0b-4af6-905f-417c935af971",
   "metadata": {},
   "outputs": [
    {
     "name": "stdout",
     "output_type": "stream",
     "text": [
      "['HIGHLIGHTS: The Hilltoppers were defeated by Middleboro on the road. \\n', 'Winners for Durfee includes Michael Harrington in the 200 free (2:17.53) \\n', 'and Yasin Mahmoud in the 100 breaststroke (1:30.65). Harrington was part of the winning 200 \\n', 'free relay with Cooper Long, Jack Fitzgerald, and William Rumsey (1:52.65). \"All athletes stepped up at varying degrees, but special performances were had by Tim Archambault in the 200 IM and William Pierce,\" Hilltopper head coach Christopher Poliseno said.']\n"
     ]
    }
   ],
   "source": [
    "with open('test.txt', 'r') as f:\n",
    "    content_list = f.readlines()  # 파일 전체 내용을 리스트로 반환\n",
    "    print(content_list)"
   ]
  },
  {
   "cell_type": "code",
   "execution_count": 17,
   "id": "381d07d7-f768-4dc0-b301-62c8f06b2956",
   "metadata": {},
   "outputs": [
    {
     "name": "stdout",
     "output_type": "stream",
     "text": [
      "HIGHLIGHTS: The Hilltoppers were defeated by Middleboro on the road. \n",
      "Winners for Durfee includes Michael Harrington in the 200 free (2:17.53) \n",
      "and Yasin Mahmoud in the 100 breaststroke (1:30.65). Harrington was part of the winning 200 \n",
      "free relay with Cooper Long, Jack Fitzgerald, and William Rumsey (1:52.65). \"All athletes stepped up at varying degrees, but special performances were had by Tim Archambault in the 200 IM and William Pierce,\" Hilltopper head coach Christopher Poliseno said.\n"
     ]
    }
   ],
   "source": [
    "# 라인단위로 읽는 경우\n",
    "with open('./test.txt', 'r') as f:\n",
    "    # f.readline()으로 읽어서 값이 없을때 까지 f.readline()\n",
    "    while True:\n",
    "        content = f.readline()\n",
    "        if not content: break\n",
    "        content = content.replace('\\n','')  # \\n 이 출력되서 한줄씩 밀리는 현상 제거\n",
    "        print(content)    "
   ]
  },
  {
   "cell_type": "code",
   "execution_count": 45,
   "id": "585673fb-e5ee-49ba-b420-fab8568f07a7",
   "metadata": {},
   "outputs": [
    {
     "name": "stdout",
     "output_type": "stream",
     "text": [
      "라인수:4, 단어수 : 75, 글자수 : 491\n"
     ]
    }
   ],
   "source": [
    "# 글자수(특수문자포함) count\n",
    "# 공백을 기준으로 분리한 단어들의 count\n",
    "# 라인수 count\n",
    "\n",
    "with open('./test.txt', 'r') as f:\n",
    "    content_list =  f.readlines()\n",
    "    line_count = len(content_list)\n",
    "    word_count = sum([len(line.split()) for line in content_list])        \n",
    "    spel_count = sum([len(j) for j in [i.replace('\\n','') for i in content_list]])\n",
    "    print(f\"라인수:{line_count}, 단어수 : {word_count}, 글자수 : {spel_count}\")\n",
    "    "
   ]
  },
  {
   "cell_type": "code",
   "execution_count": 47,
   "id": "7b510f12-8b6a-40e3-9751-2fd930d72b17",
   "metadata": {},
   "outputs": [
    {
     "name": "stdout",
     "output_type": "stream",
     "text": [
      "서울=연합뉴스) 정아란 이동환 기자 = 대통령실은 군 당국의 북한 무인기 '부실 대응' 논란이 커지는 것과 관련, 군의 자체 감찰이 불가피하다는 기류다.\n",
      "\n",
      "다만 일각에서 안보라인 수뇌부의 즉각 문책을 요구하는 데 대해선 신중한 태도를 보이는 모습이다.\n",
      "\n",
      "대통령실 고위 관계자는 6일 연합뉴스와의 통화에서 \"군이 북한 무인기 사태에 대한 내부 조사와 감찰을 진행할 것\"이라면서 \"어떻게 책임을 물어야 하는지는 군 내부적으로 판단하지 않겠느냐\"고 말했다.\n",
      "\n",
      "군 당국은 현재 자체 감찰이 진행되지 않고 있다고 밝혔지만, 감찰을 포함한 군 당국의 후속 조치가 있어야 한다는 게 대통령실의 전반적인 인식이다.\n"
     ]
    }
   ],
   "source": [
    "with open('./hangule.txt', 'r', encoding='utf-8') as f:\n",
    "    print(f.read())"
   ]
  },
  {
   "cell_type": "code",
   "execution_count": 48,
   "id": "ad4dd552-8673-4f7d-876c-7428ab2f18a8",
   "metadata": {},
   "outputs": [],
   "source": [
    "# word counter \n",
    "# 영문이든 한글이든. 텍스트 파일을 만들고 저장한다음 - non programming\n",
    "# 각 단어가 몇번 출현(쓰였는지) 횟수\n",
    "#    ex)  다만 : 2,  군 : 3"
   ]
  },
  {
   "cell_type": "code",
   "execution_count": 49,
   "id": "4cd110d8-0d66-4364-9e6b-18d7eb6fe77d",
   "metadata": {},
   "outputs": [],
   "source": [
    "temp_list = ['the','abc', 'a','the', 'b','c']"
   ]
  },
  {
   "cell_type": "code",
   "execution_count": 52,
   "id": "6f1f716d-652f-48ae-87ff-84258a12364e",
   "metadata": {},
   "outputs": [],
   "source": [
    "word_count = {}\n",
    "word_count['the']=1"
   ]
  },
  {
   "cell_type": "code",
   "execution_count": 54,
   "id": "c103a833-b6ba-425e-a86a-dbbc1eb812f7",
   "metadata": {},
   "outputs": [],
   "source": [
    "word_count['the'] += 1"
   ]
  },
  {
   "cell_type": "code",
   "execution_count": 55,
   "id": "84f65505-b65e-4011-8b3f-3c997badeffb",
   "metadata": {},
   "outputs": [
    {
     "data": {
      "text/plain": [
       "{'the': 2}"
      ]
     },
     "execution_count": 55,
     "metadata": {},
     "output_type": "execute_result"
    }
   ],
   "source": [
    "word_count"
   ]
  },
  {
   "cell_type": "code",
   "execution_count": 56,
   "id": "585169b5-a987-4776-b409-0b4c453d3003",
   "metadata": {},
   "outputs": [],
   "source": [
    "# 딕셔너리에서 키 값이 없으면 1로 만들어주고\n",
    "# 다음에 또 같은 키가 들어오면 해당 키값을 += 1 로 증가한다"
   ]
  },
  {
   "cell_type": "code",
   "execution_count": 60,
   "id": "c3cb58ad-cf78-411e-9649-f0e1d550f177",
   "metadata": {},
   "outputs": [
    {
     "data": {
      "text/plain": [
       "{'the': 2, 'abc': 1, 'a': 1, 'b': 1, 'c': 1}"
      ]
     },
     "execution_count": 60,
     "metadata": {},
     "output_type": "execute_result"
    }
   ],
   "source": [
    "temp_list = ['the','abc', 'a','the', 'b','c']\n",
    "word_count = {}\n",
    "for word in temp_list:\n",
    "    if word not in word_count.keys():\n",
    "        word_count[word] = 1\n",
    "    else:\n",
    "        word_count[word] += 1\n",
    "word_count        "
   ]
  },
  {
   "cell_type": "code",
   "execution_count": 80,
   "id": "cd0f6d95-cf9a-42cd-bb5e-031685a59a49",
   "metadata": {},
   "outputs": [],
   "source": [
    "def makeWordCount(temp_list):\n",
    "    word_count = {}\n",
    "    for word in temp_list:\n",
    "        if word not in word_count.keys():\n",
    "            word_count[word] = 1\n",
    "        else:\n",
    "            word_count[word] += 1\n",
    "    return word_count "
   ]
  },
  {
   "cell_type": "code",
   "execution_count": 86,
   "id": "d0fae9fd-8861-4e0f-8411-750dc521166c",
   "metadata": {},
   "outputs": [],
   "source": [
    "with open('./hangule.txt', 'r', encoding='utf-8') as f:\n",
    "    temp = f.read().split()    \n",
    "    result = makeWordCount(temp)    "
   ]
  },
  {
   "cell_type": "code",
   "execution_count": 88,
   "id": "bfbb2618-c89f-40fc-8ff1-8aa19455fecd",
   "metadata": {},
   "outputs": [
    {
     "data": {
      "text/plain": [
       "['군', '당국의', '북한', '무인기', '자체', '감찰이', '감찰을']"
      ]
     },
     "execution_count": 88,
     "metadata": {},
     "output_type": "execute_result"
    }
   ],
   "source": [
    "# 2개이상 반복되서 나온 단어\n",
    "[key for key,value in result.items() if value >=2]"
   ]
  },
  {
   "cell_type": "markdown",
   "id": "71e92bd0-8b78-40a0-8f90-85375311cc10",
   "metadata": {},
   "source": [
    "# 넘파이\n",
    "    외부모듈\n",
    "    행렬, 선형대수, 통계"
   ]
  },
  {
   "cell_type": "code",
   "execution_count": 90,
   "id": "c5e14a02-27c6-4063-be89-e27c60a890d3",
   "metadata": {},
   "outputs": [
    {
     "name": "stdout",
     "output_type": "stream",
     "text": [
      "Collecting numpy\n",
      "  Downloading numpy-1.24.1-cp310-cp310-win_amd64.whl (14.8 MB)\n",
      "     --------------------------------------- 14.8/14.8 MB 31.2 MB/s eta 0:00:00\n",
      "Installing collected packages: numpy\n",
      "Successfully installed numpy-1.24.1\n"
     ]
    }
   ],
   "source": [
    "!pip install numpy"
   ]
  },
  {
   "cell_type": "code",
   "execution_count": 91,
   "id": "69ae53bd-cf4d-4a98-aaad-5b6f6967942b",
   "metadata": {},
   "outputs": [],
   "source": [
    "import numpy as np"
   ]
  },
  {
   "cell_type": "markdown",
   "id": "853f1c67-cdda-49d4-9058-c246b72ce9e8",
   "metadata": {},
   "source": [
    "    넘파이 배열 ndarray "
   ]
  },
  {
   "cell_type": "code",
   "execution_count": 92,
   "id": "2010ff1e-091f-493a-8339-c2b714f31538",
   "metadata": {},
   "outputs": [
    {
     "data": {
      "text/plain": [
       "[1, 2, 3, 4, 5]"
      ]
     },
     "execution_count": 92,
     "metadata": {},
     "output_type": "execute_result"
    }
   ],
   "source": [
    "# 1차원 데이터 / 벡터(vector)\n",
    "data_1 = [1, 2, 3, 4, 5]\n",
    "data_1"
   ]
  },
  {
   "cell_type": "code",
   "execution_count": 93,
   "id": "945beab0-6218-4551-8038-4028cff26dc2",
   "metadata": {},
   "outputs": [
    {
     "data": {
      "text/plain": [
       "[[1, 2, 3], [4, 5, 6]]"
      ]
     },
     "execution_count": 93,
     "metadata": {},
     "output_type": "execute_result"
    }
   ],
   "source": [
    "# 2차원 데이터 / 행렬(Matrix)\n",
    "data_2 = [\n",
    "    [1,2,3],\n",
    "    [4,5,6]\n",
    "]\n",
    "data_2"
   ]
  },
  {
   "cell_type": "code",
   "execution_count": 94,
   "id": "5f28d69c-293d-4b66-8623-31ae15ce26eb",
   "metadata": {},
   "outputs": [
    {
     "data": {
      "text/plain": [
       "[[[1, 2, 3], [4, 5, 6]], [[7, 8, 9], [10, 11, 12]]]"
      ]
     },
     "execution_count": 94,
     "metadata": {},
     "output_type": "execute_result"
    }
   ],
   "source": [
    "data_3 = [\n",
    "    [\n",
    "        [1,2,3],\n",
    "        [4,5,6]\n",
    "    ],\n",
    "    [\n",
    "        [7,8,9],\n",
    "        [10,11,12]\n",
    "    ]\n",
    "]    \n",
    "data_3"
   ]
  },
  {
   "cell_type": "markdown",
   "id": "272c44cc-a7c4-4a4d-b09e-4370c6e262ef",
   "metadata": {},
   "source": [
    "    리스트 <--> 넘파이"
   ]
  },
  {
   "cell_type": "code",
   "execution_count": 97,
   "id": "7e4a9ffa-fcc2-4f18-9d6c-029e50940221",
   "metadata": {},
   "outputs": [
    {
     "data": {
      "text/plain": [
       "([1, 2, 3, 4, 5], array([1, 2, 3, 4, 5]))"
      ]
     },
     "execution_count": 97,
     "metadata": {},
     "output_type": "execute_result"
    }
   ],
   "source": [
    "vector_1 = np.array(data_1)\n",
    "data_1, vector_1"
   ]
  },
  {
   "cell_type": "code",
   "execution_count": 98,
   "id": "80d306ed-7c25-41ec-9a0e-beeb0804d24d",
   "metadata": {},
   "outputs": [],
   "source": [
    "# 2차원 \n",
    "matrix_1 = np.array(data_2)\n",
    "# 3차원\n",
    "matrix_2 = np.array(data_3)"
   ]
  },
  {
   "cell_type": "code",
   "execution_count": 99,
   "id": "5f0eb274-fefa-4f7c-bb1a-2e856409ded0",
   "metadata": {},
   "outputs": [
    {
     "data": {
      "text/plain": [
       "(array([[1, 2, 3],\n",
       "        [4, 5, 6]]),\n",
       " array([[[ 1,  2,  3],\n",
       "         [ 4,  5,  6]],\n",
       " \n",
       "        [[ 7,  8,  9],\n",
       "         [10, 11, 12]]]))"
      ]
     },
     "execution_count": 99,
     "metadata": {},
     "output_type": "execute_result"
    }
   ],
   "source": [
    "matrix_1,  matrix_2"
   ]
  },
  {
   "cell_type": "code",
   "execution_count": 100,
   "id": "d7be7ed1-160d-45f2-85ce-7bf6dc22bc08",
   "metadata": {},
   "outputs": [
    {
     "data": {
      "text/plain": [
       "array([0., 0., 0., 0., 0.])"
      ]
     },
     "execution_count": 100,
     "metadata": {},
     "output_type": "execute_result"
    }
   ],
   "source": [
    "np.zeros(5)"
   ]
  },
  {
   "cell_type": "code",
   "execution_count": 101,
   "id": "d977d262-9349-4998-be39-e02fbb611ff7",
   "metadata": {},
   "outputs": [
    {
     "data": {
      "text/plain": [
       "array([[0., 0.],\n",
       "       [0., 0.]])"
      ]
     },
     "execution_count": 101,
     "metadata": {},
     "output_type": "execute_result"
    }
   ],
   "source": [
    "np.zeros( (2,2) )"
   ]
  },
  {
   "cell_type": "code",
   "execution_count": 102,
   "id": "c2c83f60-6fcf-4d67-b262-17c27a25d84f",
   "metadata": {},
   "outputs": [
    {
     "data": {
      "text/plain": [
       "array([[1., 1.],\n",
       "       [1., 1.]])"
      ]
     },
     "execution_count": 102,
     "metadata": {},
     "output_type": "execute_result"
    }
   ],
   "source": [
    "np.ones( (2,2) )"
   ]
  },
  {
   "cell_type": "code",
   "execution_count": 103,
   "id": "c182103c-d46f-4f55-b804-571a44fbc6b6",
   "metadata": {},
   "outputs": [
    {
     "data": {
      "text/plain": [
       "array([[[1., 1.],\n",
       "        [1., 1.]],\n",
       "\n",
       "       [[1., 1.],\n",
       "        [1., 1.]]])"
      ]
     },
     "execution_count": 103,
     "metadata": {},
     "output_type": "execute_result"
    }
   ],
   "source": [
    "np.ones( (2,2,2) )"
   ]
  },
  {
   "cell_type": "code",
   "execution_count": 107,
   "id": "a1e8d0a6-63e3-47c2-89a6-3b8160aca337",
   "metadata": {},
   "outputs": [
    {
     "data": {
      "text/plain": [
       "array([[1., 1.],\n",
       "       [1., 1.]])"
      ]
     },
     "execution_count": 107,
     "metadata": {},
     "output_type": "execute_result"
    }
   ],
   "source": [
    "# 크기만 지정하고 데이터는 임의의 데이터로 채워짐\n",
    "np.empty( (2,2))"
   ]
  },
  {
   "cell_type": "code",
   "execution_count": 109,
   "id": "09682005-0858-41bf-a1ff-7e7edd76e13c",
   "metadata": {},
   "outputs": [
    {
     "data": {
      "text/plain": [
       "array([0, 1, 2, 3, 4])"
      ]
     },
     "execution_count": 109,
     "metadata": {},
     "output_type": "execute_result"
    }
   ],
   "source": [
    "np.arange(5)"
   ]
  },
  {
   "cell_type": "code",
   "execution_count": 110,
   "id": "3c946843-3592-4649-a1fd-2251ef873499",
   "metadata": {},
   "outputs": [
    {
     "data": {
      "text/plain": [
       "array([3, 3, 3, 3, 3])"
      ]
     },
     "execution_count": 110,
     "metadata": {},
     "output_type": "execute_result"
    }
   ],
   "source": [
    "np.full(5,3)"
   ]
  },
  {
   "cell_type": "code",
   "execution_count": 111,
   "id": "f84b57a5-b640-4fc6-a24b-5e8b426dcdca",
   "metadata": {},
   "outputs": [
    {
     "data": {
      "text/plain": [
       "array([[10, 10],\n",
       "       [10, 10]])"
      ]
     },
     "execution_count": 111,
     "metadata": {},
     "output_type": "execute_result"
    }
   ],
   "source": [
    "np.full( (2,2), 10)"
   ]
  },
  {
   "cell_type": "code",
   "execution_count": 112,
   "id": "90da7084-544c-48bc-8c14-cd3cb36feac5",
   "metadata": {},
   "outputs": [
    {
     "data": {
      "text/plain": [
       "numpy.ndarray"
      ]
     },
     "execution_count": 112,
     "metadata": {},
     "output_type": "execute_result"
    }
   ],
   "source": [
    "type(vector_1)"
   ]
  },
  {
   "cell_type": "code",
   "execution_count": 113,
   "id": "1756831f-48d7-4aad-9844-d98033f40aa8",
   "metadata": {},
   "outputs": [
    {
     "data": {
      "text/plain": [
       "dtype('int32')"
      ]
     },
     "execution_count": 113,
     "metadata": {},
     "output_type": "execute_result"
    }
   ],
   "source": [
    "# dtype : 자료형 안에 들어 있는 데이터의 타입\n",
    "vector_1.dtype"
   ]
  },
  {
   "cell_type": "code",
   "execution_count": 115,
   "id": "f906464d-ff85-491c-b70d-07efa60f1f38",
   "metadata": {},
   "outputs": [
    {
     "data": {
      "text/plain": [
       "1"
      ]
     },
     "execution_count": 115,
     "metadata": {},
     "output_type": "execute_result"
    }
   ],
   "source": [
    "# 자료형의 차수\n",
    "vector_1.ndim"
   ]
  },
  {
   "cell_type": "code",
   "execution_count": 116,
   "id": "b12dfc6f-06c1-41c1-a772-e9134f16ace3",
   "metadata": {},
   "outputs": [
    {
     "data": {
      "text/plain": [
       "(2, 3)"
      ]
     },
     "execution_count": 116,
     "metadata": {},
     "output_type": "execute_result"
    }
   ],
   "source": [
    "matrix_1.ndim,  matrix_2.ndim"
   ]
  },
  {
   "cell_type": "code",
   "execution_count": 120,
   "id": "3b9497ce-ad4e-4d62-9c2e-24a7f81b687c",
   "metadata": {},
   "outputs": [
    {
     "data": {
      "text/plain": [
       "(5,)"
      ]
     },
     "execution_count": 120,
     "metadata": {},
     "output_type": "execute_result"
    }
   ],
   "source": [
    "vector_1.shape"
   ]
  },
  {
   "cell_type": "code",
   "execution_count": 118,
   "id": "7ca9f05d-3485-424c-8f33-aac1a64f8685",
   "metadata": {},
   "outputs": [
    {
     "data": {
      "text/plain": [
       "(2, 3)"
      ]
     },
     "execution_count": 118,
     "metadata": {},
     "output_type": "execute_result"
    }
   ],
   "source": [
    "# 행렬의 크기를 알려준다. \n",
    "# 1차원이면 갯수,\n",
    "matrix_1.shape"
   ]
  },
  {
   "cell_type": "code",
   "execution_count": 121,
   "id": "23925267-1118-4797-8f2e-7b406540eb18",
   "metadata": {},
   "outputs": [
    {
     "data": {
      "text/plain": [
       "array([[1, 2, 3],\n",
       "       [4, 5, 6]])"
      ]
     },
     "execution_count": 121,
     "metadata": {},
     "output_type": "execute_result"
    }
   ],
   "source": [
    "matrix_1"
   ]
  },
  {
   "cell_type": "code",
   "execution_count": 122,
   "id": "106ad0e8-5afe-4344-9b66-82a705397252",
   "metadata": {},
   "outputs": [
    {
     "data": {
      "text/plain": [
       "(2, 2, 3)"
      ]
     },
     "execution_count": 122,
     "metadata": {},
     "output_type": "execute_result"
    }
   ],
   "source": [
    "matrix_2.shape"
   ]
  },
  {
   "cell_type": "code",
   "execution_count": 123,
   "id": "5ab15ebb-f423-46ff-a806-c5e100cae7a0",
   "metadata": {},
   "outputs": [
    {
     "data": {
      "text/plain": [
       "array([[[ 1,  2,  3],\n",
       "        [ 4,  5,  6]],\n",
       "\n",
       "       [[ 7,  8,  9],\n",
       "        [10, 11, 12]]])"
      ]
     },
     "execution_count": 123,
     "metadata": {},
     "output_type": "execute_result"
    }
   ],
   "source": [
    "matrix_2"
   ]
  },
  {
   "cell_type": "code",
   "execution_count": 125,
   "id": "64ab4cab-6907-4e5c-bfe9-5692d4279e82",
   "metadata": {},
   "outputs": [
    {
     "data": {
      "text/plain": [
       "5"
      ]
     },
     "execution_count": 125,
     "metadata": {},
     "output_type": "execute_result"
    }
   ],
   "source": [
    "# 행렬의 개수\n",
    "vector_1.size"
   ]
  },
  {
   "cell_type": "code",
   "execution_count": 126,
   "id": "87bc376a-0345-46ba-9469-26e02ed64017",
   "metadata": {},
   "outputs": [
    {
     "data": {
      "text/plain": [
       "6"
      ]
     },
     "execution_count": 126,
     "metadata": {},
     "output_type": "execute_result"
    }
   ],
   "source": [
    "matrix_1.size"
   ]
  },
  {
   "cell_type": "code",
   "execution_count": 127,
   "id": "a7779e9f-7632-4569-a0ec-1566351c7478",
   "metadata": {},
   "outputs": [
    {
     "data": {
      "text/plain": [
       "12"
      ]
     },
     "execution_count": 127,
     "metadata": {},
     "output_type": "execute_result"
    }
   ],
   "source": [
    "matrix_2.size"
   ]
  },
  {
   "cell_type": "markdown",
   "id": "412e55b1-3b21-49fa-863d-442032786abd",
   "metadata": {},
   "source": [
    "    dtype\n",
    "    다차원 배열을 생성할때 데이터 값을 지정할 수 있다"
   ]
  },
  {
   "cell_type": "code",
   "execution_count": 128,
   "id": "7e70e791-2ca7-4ad3-bf7e-a604ac6ca5a4",
   "metadata": {},
   "outputs": [],
   "source": [
    "vec_dtype = np.array([1,2,3,4,5], dtype = np.int64)\n",
    "matrix_dtype = np.array(\n",
    "    [\n",
    "        [1,2,3],\n",
    "        [4,5,3]\n",
    "    ],\n",
    "    dtype = np.float64\n",
    ")"
   ]
  },
  {
   "cell_type": "code",
   "execution_count": null,
   "id": "109826b5-8db2-498e-ad43-3157e5824658",
   "metadata": {},
   "outputs": [],
   "source": [
    "# 데이터 타입, 차수, 쉐이프"
   ]
  }
 ],
 "metadata": {
  "kernelspec": {
   "display_name": "Python 3 (ipykernel)",
   "language": "python",
   "name": "python3"
  },
  "language_info": {
   "codemirror_mode": {
    "name": "ipython",
    "version": 3
   },
   "file_extension": ".py",
   "mimetype": "text/x-python",
   "name": "python",
   "nbconvert_exporter": "python",
   "pygments_lexer": "ipython3",
   "version": "3.10.8"
  }
 },
 "nbformat": 4,
 "nbformat_minor": 5
}
