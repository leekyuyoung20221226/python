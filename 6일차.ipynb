{
 "cells": [
  {
   "cell_type": "code",
   "execution_count": 5,
   "id": "c5f66c14-c69e-470d-8912-bdaaf94ad4ee",
   "metadata": {},
   "outputs": [
    {
     "name": "stdout",
     "output_type": "stream",
     "text": [
      "0\n",
      "1\n",
      "2\n",
      "3\n",
      "4\n"
     ]
    }
   ],
   "source": [
    "for idx,value in enumerate([10,15,20,25,30]):\n",
    "    print(idx)"
   ]
  },
  {
   "cell_type": "code",
   "execution_count": 8,
   "id": "63941ea5-873c-432a-bd5c-de29d038bf9c",
   "metadata": {},
   "outputs": [
    {
     "name": "stdout",
     "output_type": "stream",
     "text": [
      "0 동해\n",
      "1 물과\n",
      "2 백두\n",
      "3 산이\n",
      "4 마르고\n",
      "5 닳도록\n"
     ]
    }
   ],
   "source": [
    "for idx, value in enumerate('동해 물과 백두 산이 마르고 닳도록'.split()):\n",
    "    print(idx, value)"
   ]
  },
  {
   "cell_type": "code",
   "execution_count": 9,
   "id": "f0c3b5ac-e4f0-4643-8fb3-ed41accb3bbe",
   "metadata": {},
   "outputs": [
    {
     "data": {
      "text/plain": [
       "{0: '동해', 1: '물과', 2: '백두', 3: '산이', 4: '마르고', 5: '닳도록'}"
      ]
     },
     "execution_count": 9,
     "metadata": {},
     "output_type": "execute_result"
    }
   ],
   "source": [
    "{idx:value for idx, value in enumerate('동해 물과 백두 산이 마르고 닳도록'.split()) }"
   ]
  },
  {
   "cell_type": "code",
   "execution_count": 10,
   "id": "83e6a0be-bc8f-4f9f-8419-df9dbf6ada5b",
   "metadata": {},
   "outputs": [],
   "source": [
    "# zip 함수  : 두개의 리스트를 한개의 쌍으로 묶어주는 기능"
   ]
  },
  {
   "cell_type": "code",
   "execution_count": 12,
   "id": "0d6f44f0-49d5-43af-bd4f-06ab05bc283b",
   "metadata": {},
   "outputs": [
    {
     "name": "stdout",
     "output_type": "stream",
     "text": [
      "a1 b1\n",
      "a2 b2\n",
      "a3 b3\n"
     ]
    }
   ],
   "source": [
    "list_1 = ['a1','a2','a3']\n",
    "list_2 = ['b1','b2','b3']\n",
    "for a,b in zip(list_1,list_2):\n",
    "    print(a,b)"
   ]
  },
  {
   "cell_type": "code",
   "execution_count": 13,
   "id": "e353f8a3-7bff-48a4-9965-4852abd8aeb5",
   "metadata": {},
   "outputs": [],
   "source": [
    "# 0 a1 b1\n",
    "# 1 a2 b2\n",
    "# 2 a3 b3"
   ]
  },
  {
   "cell_type": "code",
   "execution_count": 16,
   "id": "0191fd9d-825b-48cd-89ed-9d3a99463294",
   "metadata": {},
   "outputs": [
    {
     "name": "stdout",
     "output_type": "stream",
     "text": [
      "0 a1 b1\n",
      "1 a2 b2\n",
      "2 a3 b3\n"
     ]
    }
   ],
   "source": [
    "for idx,(a,b) in enumerate(zip(list_1,list_2)):\n",
    "    print(idx,a,b)"
   ]
  },
  {
   "cell_type": "code",
   "execution_count": 17,
   "id": "8f4bb18f-4b24-405a-91e5-8251401ccafd",
   "metadata": {},
   "outputs": [
    {
     "data": {
      "text/plain": [
       "30"
      ]
     },
     "execution_count": 17,
     "metadata": {},
     "output_type": "execute_result"
    }
   ],
   "source": [
    "# 람다 함수 : 함수를 이름없이 사용하는 익명함수\n",
    "# 함수... def 함수명():\n",
    "def addF(x, y):\n",
    "    return x + y\n",
    "addF(10,20)"
   ]
  },
  {
   "cell_type": "code",
   "execution_count": 18,
   "id": "b61f97fa-b89c-4806-a14a-fc2a57a96258",
   "metadata": {},
   "outputs": [],
   "source": [
    "f = lambda x,y : x + y"
   ]
  },
  {
   "cell_type": "code",
   "execution_count": 19,
   "id": "fbfe6339-3b1e-426e-8eb5-0c146c7e2df9",
   "metadata": {},
   "outputs": [
    {
     "data": {
      "text/plain": [
       "30"
      ]
     },
     "execution_count": 19,
     "metadata": {},
     "output_type": "execute_result"
    }
   ],
   "source": [
    "f(10,20)"
   ]
  },
  {
   "cell_type": "code",
   "execution_count": 23,
   "id": "0cf213a9-bdc4-47b5-b447-782cfe3f4e9a",
   "metadata": {},
   "outputs": [
    {
     "data": {
      "text/plain": [
       "21"
      ]
     },
     "execution_count": 23,
     "metadata": {},
     "output_type": "execute_result"
    }
   ],
   "source": [
    "(lambda x: x+1)(20)"
   ]
  },
  {
   "cell_type": "code",
   "execution_count": 35,
   "id": "2b3383ed-5c79-4b2f-bb11-b5630dec177b",
   "metadata": {},
   "outputs": [],
   "source": [
    "def calculate(f, a,b):\n",
    "    # print('람다에서 함수를 매개변수로 받아서 사용')\n",
    "    return f(a,b)"
   ]
  },
  {
   "cell_type": "code",
   "execution_count": 36,
   "id": "c0a9e42b-bfe3-4aaf-a781-da210558c6bd",
   "metadata": {},
   "outputs": [],
   "source": [
    "def addf(x,y):\n",
    "    return x+y\n"
   ]
  },
  {
   "cell_type": "code",
   "execution_count": 37,
   "id": "58d7a567-bedf-4f55-8a18-c8178d5335d0",
   "metadata": {},
   "outputs": [
    {
     "data": {
      "text/plain": [
       "30"
      ]
     },
     "execution_count": 37,
     "metadata": {},
     "output_type": "execute_result"
    }
   ],
   "source": [
    "# 4칙연산중에 하나를 수행한다\n",
    "\n",
    "calculate( addf, 10,20)"
   ]
  },
  {
   "cell_type": "code",
   "execution_count": 38,
   "id": "f95b0481-b1be-4a30-8b23-14642241e333",
   "metadata": {},
   "outputs": [
    {
     "data": {
      "text/plain": [
       "-10"
      ]
     },
     "execution_count": 38,
     "metadata": {},
     "output_type": "execute_result"
    }
   ],
   "source": [
    "calculate(lambda x,y : x-y, 10,20 )"
   ]
  },
  {
   "cell_type": "code",
   "execution_count": 39,
   "id": "07e00996-d897-4d34-b4f4-07e8bf4a477f",
   "metadata": {},
   "outputs": [
    {
     "data": {
      "text/plain": [
       "200"
      ]
     },
     "execution_count": 39,
     "metadata": {},
     "output_type": "execute_result"
    }
   ],
   "source": [
    "calculate(lambda x,y: x*y, 10,20)"
   ]
  },
  {
   "cell_type": "markdown",
   "id": "71b12150-d796-4427-be80-5cf8c9637fd3",
   "metadata": {},
   "source": [
    "# 맵리듀스 : 빅데이터를 처리하기위한 기본 알고리즘\n",
    "    map()  reduce()"
   ]
  },
  {
   "cell_type": "code",
   "execution_count": 41,
   "id": "aa897c6f-e894-47f5-bcc2-6b1377fca838",
   "metadata": {},
   "outputs": [],
   "source": [
    "# map : 연속된 데이터의 각 요소에 같은 기능을 적용할때 사용"
   ]
  },
  {
   "cell_type": "code",
   "execution_count": 42,
   "id": "a87a4c8c-ee6c-4fbd-a390-a345dfc0305b",
   "metadata": {},
   "outputs": [
    {
     "data": {
      "text/plain": [
       "[1, 2, 3, 4, 5]"
      ]
     },
     "execution_count": 42,
     "metadata": {},
     "output_type": "execute_result"
    }
   ],
   "source": [
    "ex = [1,2,3,4,5]\n",
    "ex"
   ]
  },
  {
   "cell_type": "code",
   "execution_count": 43,
   "id": "92c3d419-5064-4f43-ae8e-f4105b086619",
   "metadata": {},
   "outputs": [],
   "source": [
    "# 각 요소의 값에 제곱을한 값을 요소로 갖는 리스트\n",
    "# [1,4,9,16,25]"
   ]
  },
  {
   "cell_type": "code",
   "execution_count": 44,
   "id": "c11692f6-fb77-4039-b240-e6d223b7b40e",
   "metadata": {},
   "outputs": [],
   "source": [
    "# 시퀀스형 : 리스트나 튜플과같은 집합\n",
    "# map( 적용할 함수, 적용할 시쿼스형데이터)"
   ]
  },
  {
   "cell_type": "code",
   "execution_count": 45,
   "id": "d45f210e-a1c6-48a9-ac6f-94ad8c9ef1e3",
   "metadata": {},
   "outputs": [],
   "source": [
    "def tempf(x):\n",
    "    return x**2"
   ]
  },
  {
   "cell_type": "code",
   "execution_count": 47,
   "id": "8fad9c92-5931-4960-b56b-27972bd80486",
   "metadata": {},
   "outputs": [
    {
     "data": {
      "text/plain": [
       "[1, 4, 9, 16, 25]"
      ]
     },
     "execution_count": 47,
     "metadata": {},
     "output_type": "execute_result"
    }
   ],
   "source": [
    "list(map( tempf , ex))"
   ]
  },
  {
   "cell_type": "code",
   "execution_count": 49,
   "id": "0f5c7b8f-dceb-4236-81c5-9886be439d82",
   "metadata": {},
   "outputs": [
    {
     "data": {
      "text/plain": [
       "[1, 4, 9, 16, 25, 36, 49, 64, 81]"
      ]
     },
     "execution_count": 49,
     "metadata": {},
     "output_type": "execute_result"
    }
   ],
   "source": [
    "list(map(lambda x: x**2  , [1,2,3,4,5,6,7,8,9]))"
   ]
  },
  {
   "cell_type": "markdown",
   "id": "877637ef-5466-4d6e-acb3-42d4ec3ccac4",
   "metadata": {},
   "source": [
    "# map()함수 vs 리스트 컴프리핸션"
   ]
  },
  {
   "cell_type": "code",
   "execution_count": 54,
   "id": "2db1c107-b093-435d-b84b-a7fce33a6344",
   "metadata": {},
   "outputs": [
    {
     "name": "stdout",
     "output_type": "stream",
     "text": [
      "[1, 4, 9, 16, 25]\n",
      "[1, 4, 9, 16, 25]\n"
     ]
    }
   ],
   "source": [
    "# 한개의 시퀀스\n",
    "ex = [1,2,3,4,5]\n",
    "print([i**2 for i in ex])\n",
    "print(list(map(lambda x: x**2, ex)))"
   ]
  },
  {
   "cell_type": "code",
   "execution_count": 55,
   "id": "d305d7fb-c819-46fe-9b25-58706466a309",
   "metadata": {},
   "outputs": [],
   "source": [
    "# 최근 트랜드는 람다나 맵함수를 사용을 자재하고 리스트컴프리핸선으로 대체 가능하면 사용하도록 권장"
   ]
  },
  {
   "cell_type": "code",
   "execution_count": 59,
   "id": "ad84e5ee-568a-4772-ac8c-4f77bec84bdf",
   "metadata": {},
   "outputs": [
    {
     "name": "stdout",
     "output_type": "stream",
     "text": [
      "[2, 4, 6, 8, 10]\n",
      "[2, 4, 6, 8, 10]\n"
     ]
    }
   ],
   "source": [
    "# 두개의 시퀀스\n",
    "ex = [1,2,3,4,5]\n",
    "print(list(map(lambda x,y : x+y , ex,ex)))\n",
    "print([x+y for x,y in zip(ex,ex)])"
   ]
  },
  {
   "cell_type": "code",
   "execution_count": 60,
   "id": "10b17e53-8a64-4347-956f-de7bda3af404",
   "metadata": {},
   "outputs": [
    {
     "name": "stdout",
     "output_type": "stream",
     "text": [
      "2\n",
      "4\n",
      "6\n",
      "8\n",
      "10\n"
     ]
    }
   ],
   "source": [
    "# map()함수를 필터링 기능을 적용\n",
    "ex = [1,2,3,4,5,6,7,8,9,10]\n",
    "for i in ex:\n",
    "    if i%2 ==0 :\n",
    "        print(i)"
   ]
  },
  {
   "cell_type": "code",
   "execution_count": 61,
   "id": "8c1f8373-0162-46cf-b90c-aed1a91d6532",
   "metadata": {},
   "outputs": [
    {
     "data": {
      "text/plain": [
       "[2, 4, 6, 8, 10]"
      ]
     },
     "execution_count": 61,
     "metadata": {},
     "output_type": "execute_result"
    }
   ],
   "source": [
    "[i for i in ex if i % 2 == 0] "
   ]
  },
  {
   "cell_type": "code",
   "execution_count": 67,
   "id": "9e39f2e2-027d-4569-b4ab-2053e0152348",
   "metadata": {},
   "outputs": [
    {
     "data": {
      "text/plain": [
       "[1, 4, 3, 16, 5, 36, 7, 64, 9, 100]"
      ]
     },
     "execution_count": 67,
     "metadata": {},
     "output_type": "execute_result"
    }
   ],
   "source": [
    "# map 함수를 필터처럼 사용하려면 if ~ else 구문이 존재해야 함\n",
    "# 짝수면 제곱을 하고 홀수면 그대로 출력\n",
    "list(map(lambda x: x**2 if x%2==0 else x, ex))"
   ]
  },
  {
   "cell_type": "code",
   "execution_count": 69,
   "id": "f95fa2c5-bd26-4215-9c1e-d283fa006c17",
   "metadata": {},
   "outputs": [
    {
     "data": {
      "text/plain": [
       "[1, 4, 3, 16, 5, 36, 7, 64, 9, 100]"
      ]
     },
     "execution_count": 69,
     "metadata": {},
     "output_type": "execute_result"
    }
   ],
   "source": [
    "# 리스트 컴프리 핸션\n",
    "[x**2 if x%2==0 else x  for x in ex ]"
   ]
  },
  {
   "cell_type": "code",
   "execution_count": 71,
   "id": "01efa939-05fb-490d-921c-19ed028411e0",
   "metadata": {},
   "outputs": [
    {
     "data": {
      "text/plain": [
       "[2, 4, 6, 8, 10]"
      ]
     },
     "execution_count": 71,
     "metadata": {},
     "output_type": "execute_result"
    }
   ],
   "source": [
    "list(filter(lambda x : x%2==0, ex))"
   ]
  },
  {
   "cell_type": "code",
   "execution_count": 72,
   "id": "41617b71-bc72-4809-a6ab-fee5ff618224",
   "metadata": {},
   "outputs": [
    {
     "data": {
      "text/plain": [
       "[2, 4, 6, 8, 10]"
      ]
     },
     "execution_count": 72,
     "metadata": {},
     "output_type": "execute_result"
    }
   ],
   "source": [
    "[ x for x in ex if x%2==0 ]"
   ]
  },
  {
   "cell_type": "markdown",
   "id": "a2c56d09-ac46-4d8c-afff-dd749c6a4930",
   "metadata": {},
   "source": [
    "# reduce 함수"
   ]
  },
  {
   "cell_type": "code",
   "execution_count": 75,
   "id": "195f0c92-7597-4f9c-bdd7-f8efada2254d",
   "metadata": {},
   "outputs": [
    {
     "data": {
      "text/plain": [
       "[2, 4, 6, 8, 10]"
      ]
     },
     "execution_count": 75,
     "metadata": {},
     "output_type": "execute_result"
    }
   ],
   "source": [
    "ex = [1,2,3,4,5]\n",
    "list(map(lambda x,y : x+y, ex,ex))"
   ]
  },
  {
   "cell_type": "code",
   "execution_count": 79,
   "id": "3bf28d12-22d6-4d37-8ec9-bd194b32249f",
   "metadata": {},
   "outputs": [
    {
     "data": {
      "text/plain": [
       "15"
      ]
     },
     "execution_count": 79,
     "metadata": {},
     "output_type": "execute_result"
    }
   ],
   "source": [
    "from functools import reduce\n",
    "reduce(lambda x, y : x+y, ex)"
   ]
  },
  {
   "cell_type": "code",
   "execution_count": 80,
   "id": "b7ccdb20-85b5-4e29-a2a3-f789ac3582e2",
   "metadata": {},
   "outputs": [
    {
     "data": {
      "text/plain": [
       "15"
      ]
     },
     "execution_count": 80,
     "metadata": {},
     "output_type": "execute_result"
    }
   ],
   "source": [
    "x = 0\n",
    "for y in ex:\n",
    "    x += y\n",
    "x   "
   ]
  },
  {
   "cell_type": "code",
   "execution_count": 81,
   "id": "e19d0205-f458-4d86-b60d-d3b6edb8fbfb",
   "metadata": {},
   "outputs": [],
   "source": [
    "# 맵과 리듀스 함수는 과거에 많이쓰던 문법.... 최근에는 잘 사용 안합니다. \n",
    "# 리스트 컴프리 핸션으로 대체"
   ]
  },
  {
   "cell_type": "markdown",
   "id": "102bab9d-ff38-4b9c-8195-86d6ef2b8ed0",
   "metadata": {},
   "source": [
    "# 선형대수학\n",
    "    벡터 : 크기와 방향을 모두 가지고 있음\n",
    "    스칼라 : 크기만 가지고 있음"
   ]
  },
  {
   "cell_type": "code",
   "execution_count": 83,
   "id": "507ec711-48fa-4f99-b148-06a494d15641",
   "metadata": {},
   "outputs": [],
   "source": [
    "# 벡    터    : 리스트형태로 구조, 튜플 / 딕셔너리\n",
    "# 스 칼 라    : 단일 값\n",
    "# 행   렬 (matrix) : 이중 리스트"
   ]
  },
  {
   "cell_type": "code",
   "execution_count": 84,
   "id": "b0b8c1f0-8c9c-4e5a-af87-64a93da22883",
   "metadata": {},
   "outputs": [],
   "source": [
    "# 벡터의 연산  : 크기가 같아야하고 각 원소끼리 연산\n",
    "a = [2,2]\n",
    "b = [2,3]\n",
    "c = [3,5]\n",
    "result = []"
   ]
  },
  {
   "cell_type": "code",
   "execution_count": 85,
   "id": "2042871a-5885-4edf-8f0d-fc679c195500",
   "metadata": {},
   "outputs": [
    {
     "data": {
      "text/plain": [
       "[2, 2, 2, 3, 3, 5]"
      ]
     },
     "execution_count": 85,
     "metadata": {},
     "output_type": "execute_result"
    }
   ],
   "source": [
    "a+b+c  # 리스트 연산   "
   ]
  },
  {
   "cell_type": "code",
   "execution_count": 86,
   "id": "b27193f8-17e4-4665-8a7f-e2645c6c5e7d",
   "metadata": {},
   "outputs": [
    {
     "name": "stdout",
     "output_type": "stream",
     "text": [
      "[]\n"
     ]
    }
   ],
   "source": [
    "# print(result) --> [7, 10]"
   ]
  },
  {
   "cell_type": "code",
   "execution_count": 90,
   "id": "140c3c60-8556-40e7-afed-84a4e795b22f",
   "metadata": {},
   "outputs": [
    {
     "data": {
      "text/plain": [
       "[7, 10]"
      ]
     },
     "execution_count": 90,
     "metadata": {},
     "output_type": "execute_result"
    }
   ],
   "source": [
    "result = []\n",
    "for i in range(len(a)):\n",
    "    result.append(a[i]+b[i]+c[i])\n",
    "result    "
   ]
  },
  {
   "cell_type": "code",
   "execution_count": 93,
   "id": "f4b97ec4-5d54-423a-9512-1c7199abf118",
   "metadata": {},
   "outputs": [
    {
     "data": {
      "text/plain": [
       "[7, 10]"
      ]
     },
     "execution_count": 93,
     "metadata": {},
     "output_type": "execute_result"
    }
   ],
   "source": [
    "result = [sum(i) for i in zip(a,b,c)]\n",
    "result"
   ]
  },
  {
   "cell_type": "code",
   "execution_count": 94,
   "id": "4a211140-7bda-4a38-830a-4b1d1ee764f7",
   "metadata": {},
   "outputs": [],
   "source": [
    "# 데이터가 여러개인 경우 함수로 만들어서 사용\n",
    "from random import sample\n",
    "a,b,c,d,e= sample(range(100),3),sample(range(100),3),sample(range(100),3),sample(range(100),3),sample(range(100),3)"
   ]
  },
  {
   "cell_type": "code",
   "execution_count": 95,
   "id": "e62fd611-de8e-4dd9-977a-d3bcbaf60951",
   "metadata": {},
   "outputs": [
    {
     "data": {
      "text/plain": [
       "([44, 82, 61], [48, 30, 90], [69, 49, 34], [1, 23, 68], [63, 16, 79])"
      ]
     },
     "execution_count": 95,
     "metadata": {},
     "output_type": "execute_result"
    }
   ],
   "source": [
    "a,b,c,d,e"
   ]
  },
  {
   "cell_type": "code",
   "execution_count": 96,
   "id": "e4e8871b-e540-4873-938c-4123500ce9f6",
   "metadata": {},
   "outputs": [
    {
     "data": {
      "text/plain": [
       "[225, 200, 332]"
      ]
     },
     "execution_count": 96,
     "metadata": {},
     "output_type": "execute_result"
    }
   ],
   "source": [
    "[sum(i) for i in zip(a,b,c,d,e)]"
   ]
  },
  {
   "cell_type": "code",
   "execution_count": 97,
   "id": "601d8073-5eea-475b-8ae8-4767478124ee",
   "metadata": {},
   "outputs": [
    {
     "data": {
      "text/plain": [
       "[225, 200, 332]"
      ]
     },
     "execution_count": 97,
     "metadata": {},
     "output_type": "execute_result"
    }
   ],
   "source": [
    "def vector_add(*args):\n",
    "    return [sum(i) for i in zip(*args)]\n",
    "vector_add(a,b,c,d,e)"
   ]
  },
  {
   "cell_type": "code",
   "execution_count": 99,
   "id": "d4e88560-52d3-44ef-9bcd-8ea9a6abfc3e",
   "metadata": {},
   "outputs": [],
   "source": [
    "# 스칼라 - 벡터 연산\n",
    "# a(x + y) = ax + ay\n",
    "# 2([1,2,3]+[4,4,4]) = 2(5,6,7) = [10,12,14]"
   ]
  },
  {
   "cell_type": "code",
   "execution_count": 100,
   "id": "2aba236e-f05a-40da-982d-f0857bf1cfa2",
   "metadata": {},
   "outputs": [],
   "source": [
    "a = [1,2,3]\n",
    "b = [4,4,4]\n",
    "scalar = 2"
   ]
  },
  {
   "cell_type": "code",
   "execution_count": 102,
   "id": "d0bd4af4-2b7a-4e94-90f2-3926572a5984",
   "metadata": {},
   "outputs": [
    {
     "data": {
      "text/plain": [
       "[10, 12, 14]"
      ]
     },
     "execution_count": 102,
     "metadata": {},
     "output_type": "execute_result"
    }
   ],
   "source": [
    "[2*sum(i) for i in zip(a,b)]"
   ]
  },
  {
   "cell_type": "code",
   "execution_count": 103,
   "id": "e4cd25a5-49e3-4c5d-88f9-3085be55fef4",
   "metadata": {},
   "outputs": [],
   "source": [
    "# 행렬의 연산\n",
    "metrix_a = [\n",
    "    [3,6],\n",
    "    [4,5]\n",
    "]\n",
    "metrix_b = [\n",
    "    [5,8],\n",
    "    [6,7]\n",
    "]"
   ]
  },
  {
   "cell_type": "code",
   "execution_count": 110,
   "id": "d386eeb6-20f4-4536-a334-277789aac5ab",
   "metadata": {},
   "outputs": [
    {
     "name": "stdout",
     "output_type": "stream",
     "text": [
      "[[3, 6], [4, 5]]\n",
      "[[5, 8], [6, 7]]\n"
     ]
    }
   ],
   "source": [
    "print(metrix_a) \n",
    "print(metrix_b)"
   ]
  },
  {
   "cell_type": "code",
   "execution_count": 107,
   "id": "6f299d44-e2a6-43f0-b026-f010e6f2db6f",
   "metadata": {},
   "outputs": [
    {
     "data": {
      "text/plain": [
       "[[3, 6], [4, 5], [5, 8], [6, 7]]"
      ]
     },
     "execution_count": 107,
     "metadata": {},
     "output_type": "execute_result"
    }
   ],
   "source": [
    "# 넘파이..."
   ]
  },
  {
   "cell_type": "code",
   "execution_count": 111,
   "id": "01c97d7f-3772-4478-9e25-fbe15c292627",
   "metadata": {},
   "outputs": [
    {
     "data": {
      "text/plain": [
       "[([3, 6], [5, 8]), ([4, 5], [6, 7])]"
      ]
     },
     "execution_count": 111,
     "metadata": {},
     "output_type": "execute_result"
    }
   ],
   "source": [
    "[t for t in zip(metrix_a, metrix_b)]"
   ]
  },
  {
   "cell_type": "code",
   "execution_count": 115,
   "id": "879aebed-644c-40f7-b3e5-418dcdb271cd",
   "metadata": {},
   "outputs": [
    {
     "data": {
      "text/plain": [
       "[[(3, 5), (6, 8)], [(4, 6), (5, 7)]]"
      ]
     },
     "execution_count": 115,
     "metadata": {},
     "output_type": "execute_result"
    }
   ],
   "source": [
    "[ [row for row in zip(*t)] for t in zip(metrix_a, metrix_b) ]"
   ]
  },
  {
   "cell_type": "code",
   "execution_count": 116,
   "id": "1461b595-ae78-4d9b-b77e-40a75e860d5a",
   "metadata": {},
   "outputs": [
    {
     "data": {
      "text/plain": [
       "[[8, 14], [10, 12]]"
      ]
     },
     "execution_count": 116,
     "metadata": {},
     "output_type": "execute_result"
    }
   ],
   "source": [
    "[ [sum(row) for row in zip(*t)] for t in zip(metrix_a, metrix_b) ]"
   ]
  },
  {
   "cell_type": "code",
   "execution_count": 117,
   "id": "749e2d3c-c769-4419-86f8-f30c9b8e6d93",
   "metadata": {},
   "outputs": [
    {
     "data": {
      "text/plain": [
       "(False, True)"
      ]
     },
     "execution_count": 117,
     "metadata": {},
     "output_type": "execute_result"
    }
   ],
   "source": [
    "# 행렬의 동치 두개의 행렬이 같은지 판단\n",
    "temp = [True, False,True,False]\n",
    "all(temp),  any(temp)\n",
    "# all(temp)  and\n",
    "#  any(temp) or\n"
   ]
  },
  {
   "cell_type": "code",
   "execution_count": 124,
   "id": "25b0532a-81e5-4e6b-a831-6ffb8f80b252",
   "metadata": {},
   "outputs": [],
   "source": [
    "metirx_a = [[1,2],[3,4]]\n",
    "metirx_b = [[10,20],[30,40]]"
   ]
  },
  {
   "cell_type": "code",
   "execution_count": 129,
   "id": "c56bd8c7-759a-4d79-ac69-bd6a122b2f76",
   "metadata": {},
   "outputs": [
    {
     "data": {
      "text/plain": [
       "[[(1, 10), (2, 20)], [(3, 30), (4, 40)]]"
      ]
     },
     "execution_count": 129,
     "metadata": {},
     "output_type": "execute_result"
    }
   ],
   "source": [
    " [ [ i for i in zip(*t)] for t in zip(metirx_a,metirx_b)]"
   ]
  },
  {
   "cell_type": "code",
   "execution_count": null,
   "id": "980c6baf-6b71-4358-8765-88ce1b2b1d1f",
   "metadata": {},
   "outputs": [],
   "source": []
  }
 ],
 "metadata": {
  "kernelspec": {
   "display_name": "Python 3 (ipykernel)",
   "language": "python",
   "name": "python3"
  },
  "language_info": {
   "codemirror_mode": {
    "name": "ipython",
    "version": 3
   },
   "file_extension": ".py",
   "mimetype": "text/x-python",
   "name": "python",
   "nbconvert_exporter": "python",
   "pygments_lexer": "ipython3",
   "version": "3.10.8"
  }
 },
 "nbformat": 4,
 "nbformat_minor": 5
}
