{
 "cells": [
  {
   "cell_type": "markdown",
   "id": "d81ebff3-b912-485f-b426-b2738410c49e",
   "metadata": {},
   "source": [
    "# k-평균 군집화분석 + 그래프 : 타깃마케팅을 위한 소비자 군집 분석"
   ]
  },
  {
   "attachments": {
    "04cf0ae1-258d-42dc-996d-5a1144f542de.png": {
     "image/png": "[encoded data removed]"
    }
   },
   "cell_type": "markdown",
   "id": "624aafee-dcf6-498b-9727-01988cb6ec65",
   "metadata": {},
   "source": [
    "### 핵심 개념\n",
    "    비지도학습\n",
    "        정답이 없다 - 타깃이 없다\n",
    "    군집화\n",
    "        데이터를 클러스터(군집)로 구성하는 작업\n",
    "    K-평균 알고리즘\n",
    "        K개의 중심점을 임의로 위치로 잡고 중심점을 기준으로 가까이 있는 데이터를 확인 거리(유클리디안 거리) 평균 지점으로 이동\n",
    "    엘보 방법\n",
    "        왜곡 : 클러스터 중심점 클러스터내의 데이터의 거리 차이의 제곱의 합\n",
    "        왜곡의 변화를 그래프로 그려보면 엘보 형태로 나타나고 그 지점이 최적의 K 개수\n",
    "    실루엣 분석\n",
    "        클러스터내에서 데이터가 얼마나 조밀하게 모여 있는지 측정하는 도구\n",
    "        데이터 : i\n",
    "        응집력 a(i) : 데이터 i가 해당 클러스터내에서 데이터와 얼마나 가까운가를 나타냄\n",
    "        분리도 b(i) : 가장 가까운 다른 클러스터내의 데이터와 얼마나 떨어져 있는지를 나타내는 지수\n",
    "        실루엣 계수 s(i) : -1 ~ 1 가지고 1에 가까울 수록 좋은 군집화\n",
    "![image.png](attachment:04cf0ae1-258d-42dc-996d-5a1144f542de.png)        "
   ]
  },
  {
   "cell_type": "code",
   "execution_count": 4,
   "id": "a0de6d09-b8ef-40ab-abcf-c77e3a5d51f1",
   "metadata": {},
   "outputs": [],
   "source": [
    "filepath = './Online Retail.xlsx'\n",
    "import pandas as pd\n",
    "import numpy as np"
   ]
  },
  {
   "cell_type": "code",
   "execution_count": 5,
   "id": "fce6c648-7d15-4a84-a618-4eec2e4780b5",
   "metadata": {},
   "outputs": [
    {
     "data": {
      "text/html": [
       "<div>\n",
       "<style scoped>\n",
       "    .dataframe tbody tr th:only-of-type {\n",
       "        vertical-align: middle;\n",
       "    }\n",
       "\n",
       "    .dataframe tbody tr th {\n",
       "        vertical-align: top;\n",
       "    }\n",
       "\n",
       "    .dataframe thead th {\n",
       "        text-align: right;\n",
       "    }\n",
       "</style>\n",
       "<table border=\"1\" class=\"dataframe\">\n",
       "  <thead>\n",
       "    <tr style=\"text-align: right;\">\n",
       "      <th></th>\n",
       "      <th>InvoiceNo</th>\n",
       "      <th>StockCode</th>\n",
       "      <th>Description</th>\n",
       "      <th>Quantity</th>\n",
       "      <th>InvoiceDate</th>\n",
       "      <th>UnitPrice</th>\n",
       "      <th>CustomerID</th>\n",
       "      <th>Country</th>\n",
       "    </tr>\n",
       "  </thead>\n",
       "  <tbody>\n",
       "    <tr>\n",
       "      <th>0</th>\n",
       "      <td>536365</td>\n",
       "      <td>85123A</td>\n",
       "      <td>WHITE HANGING HEART T-LIGHT HOLDER</td>\n",
       "      <td>6</td>\n",
       "      <td>2010-12-01 08:26:00</td>\n",
       "      <td>2.55</td>\n",
       "      <td>17850.0</td>\n",
       "      <td>United Kingdom</td>\n",
       "    </tr>\n",
       "    <tr>\n",
       "      <th>1</th>\n",
       "      <td>536365</td>\n",
       "      <td>71053</td>\n",
       "      <td>WHITE METAL LANTERN</td>\n",
       "      <td>6</td>\n",
       "      <td>2010-12-01 08:26:00</td>\n",
       "      <td>3.39</td>\n",
       "      <td>17850.0</td>\n",
       "      <td>United Kingdom</td>\n",
       "    </tr>\n",
       "    <tr>\n",
       "      <th>2</th>\n",
       "      <td>536365</td>\n",
       "      <td>84406B</td>\n",
       "      <td>CREAM CUPID HEARTS COAT HANGER</td>\n",
       "      <td>8</td>\n",
       "      <td>2010-12-01 08:26:00</td>\n",
       "      <td>2.75</td>\n",
       "      <td>17850.0</td>\n",
       "      <td>United Kingdom</td>\n",
       "    </tr>\n",
       "    <tr>\n",
       "      <th>3</th>\n",
       "      <td>536365</td>\n",
       "      <td>84029G</td>\n",
       "      <td>KNITTED UNION FLAG HOT WATER BOTTLE</td>\n",
       "      <td>6</td>\n",
       "      <td>2010-12-01 08:26:00</td>\n",
       "      <td>3.39</td>\n",
       "      <td>17850.0</td>\n",
       "      <td>United Kingdom</td>\n",
       "    </tr>\n",
       "    <tr>\n",
       "      <th>4</th>\n",
       "      <td>536365</td>\n",
       "      <td>84029E</td>\n",
       "      <td>RED WOOLLY HOTTIE WHITE HEART.</td>\n",
       "      <td>6</td>\n",
       "      <td>2010-12-01 08:26:00</td>\n",
       "      <td>3.39</td>\n",
       "      <td>17850.0</td>\n",
       "      <td>United Kingdom</td>\n",
       "    </tr>\n",
       "  </tbody>\n",
       "</table>\n",
       "</div>"
      ],
      "text/plain": [
       "  InvoiceNo StockCode                          Description  Quantity  \\\n",
       "0    536365    85123A   WHITE HANGING HEART T-LIGHT HOLDER         6   \n",
       "1    536365     71053                  WHITE METAL LANTERN         6   \n",
       "2    536365    84406B       CREAM CUPID HEARTS COAT HANGER         8   \n",
       "3    536365    84029G  KNITTED UNION FLAG HOT WATER BOTTLE         6   \n",
       "4    536365    84029E       RED WOOLLY HOTTIE WHITE HEART.         6   \n",
       "\n",
       "          InvoiceDate  UnitPrice  CustomerID         Country  \n",
       "0 2010-12-01 08:26:00       2.55     17850.0  United Kingdom  \n",
       "1 2010-12-01 08:26:00       3.39     17850.0  United Kingdom  \n",
       "2 2010-12-01 08:26:00       2.75     17850.0  United Kingdom  \n",
       "3 2010-12-01 08:26:00       3.39     17850.0  United Kingdom  \n",
       "4 2010-12-01 08:26:00       3.39     17850.0  United Kingdom  "
      ]
     },
     "execution_count": 5,
     "metadata": {},
     "output_type": "execute_result"
    }
   ],
   "source": [
    "retail_df = pd.read_excel(filepath)\n",
    "retail_df.head()"
   ]
  },
  {
   "cell_type": "code",
   "execution_count": 6,
   "id": "984ad2fc-d618-4ee3-aff6-12eab9b38f0d",
   "metadata": {},
   "outputs": [
    {
     "name": "stdout",
     "output_type": "stream",
     "text": [
      "<class 'pandas.core.frame.DataFrame'>\n",
      "RangeIndex: 541909 entries, 0 to 541908\n",
      "Data columns (total 8 columns):\n",
      " #   Column       Non-Null Count   Dtype         \n",
      "---  ------       --------------   -----         \n",
      " 0   InvoiceNo    541909 non-null  object        \n",
      " 1   StockCode    541909 non-null  object        \n",
      " 2   Description  540455 non-null  object        \n",
      " 3   Quantity     541909 non-null  int64         \n",
      " 4   InvoiceDate  541909 non-null  datetime64[ns]\n",
      " 5   UnitPrice    541909 non-null  float64       \n",
      " 6   CustomerID   406829 non-null  float64       \n",
      " 7   Country      541909 non-null  object        \n",
      "dtypes: datetime64[ns](1), float64(2), int64(1), object(4)\n",
      "memory usage: 33.1+ MB\n"
     ]
    }
   ],
   "source": [
    "retail_df.info()"
   ]
  },
  {
   "cell_type": "code",
   "execution_count": 14,
   "id": "842d61f7-787b-41c0-871a-91b788846eef",
   "metadata": {},
   "outputs": [
    {
     "name": "stdout",
     "output_type": "stream",
     "text": [
      "C536379\n"
     ]
    }
   ],
   "source": [
    "# retail_df['InvoiceNo'] 에서 숫자가 아닌 항목들 찾기\n",
    "for i in retail_df['InvoiceNo']:\n",
    "    if(not type(i) == int):\n",
    "        print(i)\n",
    "        break"
   ]
  },
  {
   "cell_type": "code",
   "execution_count": 15,
   "id": "234dc592-295b-4e01-bfc4-6a4f44424a6b",
   "metadata": {},
   "outputs": [],
   "source": [
    "#  InvoiceNo  C가 붙어 있으면 주문 취소"
   ]
  },
  {
   "cell_type": "markdown",
   "id": "486f0f79-aa55-4a61-8cf1-a065ec48ee8d",
   "metadata": {},
   "source": [
    "# 데이터 전처리\n",
    "    결측치 처리\n",
    "    이상치 처리\n",
    "    타입을 통일\n",
    "    스케일 조정\n",
    "    중복데이터 제거\n",
    "    - CustomerID는 정수형태  자료형을 정수형 \n",
    "    - CustomerID가 없으면 제거,  Quantity UnitPrice 수량과 가격은 양수만 존재해야 함 그래서 혹시 음수가 있으면 제거"
   ]
  },
  {
   "cell_type": "code",
   "execution_count": 19,
   "id": "4f5e1d63-0c5e-4dcf-a29a-db1a9b6c9718",
   "metadata": {},
   "outputs": [],
   "source": [
    "retail_df =  retail_df[retail_df['Quantity'] > 0]\n",
    "retail_df =  retail_df[retail_df['UnitPrice'] > 0]"
   ]
  },
  {
   "cell_type": "code",
   "execution_count": 23,
   "id": "a816f3a4-d48a-4386-ae7c-0eff28385f54",
   "metadata": {},
   "outputs": [
    {
     "data": {
      "text/plain": [
       "InvoiceNo      0.000000\n",
       "StockCode      0.000000\n",
       "Description    0.000000\n",
       "Quantity       0.000000\n",
       "InvoiceDate    0.000000\n",
       "UnitPrice      0.000000\n",
       "CustomerID     0.249423\n",
       "Country        0.000000\n",
       "dtype: float64"
      ]
     },
     "execution_count": 23,
     "metadata": {},
     "output_type": "execute_result"
    }
   ],
   "source": [
    "retail_df.isnull().mean()"
   ]
  },
  {
   "cell_type": "code",
   "execution_count": 29,
   "id": "95118901-334d-45f6-ac1f-6b26ad6e4235",
   "metadata": {},
   "outputs": [],
   "source": [
    "retail_df.dropna(inplace=True)"
   ]
  },
  {
   "cell_type": "code",
   "execution_count": 30,
   "id": "35883b56-4491-4dd9-b4bd-1b3fcceee771",
   "metadata": {},
   "outputs": [
    {
     "data": {
      "text/plain": [
       "InvoiceNo      0.0\n",
       "StockCode      0.0\n",
       "Description    0.0\n",
       "Quantity       0.0\n",
       "InvoiceDate    0.0\n",
       "UnitPrice      0.0\n",
       "CustomerID     0.0\n",
       "Country        0.0\n",
       "dtype: float64"
      ]
     },
     "execution_count": 30,
     "metadata": {},
     "output_type": "execute_result"
    }
   ],
   "source": [
    "retail_df.isnull().mean()"
   ]
  },
  {
   "cell_type": "code",
   "execution_count": 32,
   "id": "2fbeb68c-a60a-430d-aeef-e6e715bd6773",
   "metadata": {},
   "outputs": [
    {
     "data": {
      "text/plain": [
       "(397884, 8)"
      ]
     },
     "execution_count": 32,
     "metadata": {},
     "output_type": "execute_result"
    }
   ],
   "source": [
    "retail_df.shape"
   ]
  },
  {
   "cell_type": "code",
   "execution_count": 35,
   "id": "4af35650-27f3-4e5c-b246-c7440cd68634",
   "metadata": {},
   "outputs": [
    {
     "data": {
      "text/html": [
       "<div>\n",
       "<style scoped>\n",
       "    .dataframe tbody tr th:only-of-type {\n",
       "        vertical-align: middle;\n",
       "    }\n",
       "\n",
       "    .dataframe tbody tr th {\n",
       "        vertical-align: top;\n",
       "    }\n",
       "\n",
       "    .dataframe thead th {\n",
       "        text-align: right;\n",
       "    }\n",
       "</style>\n",
       "<table border=\"1\" class=\"dataframe\">\n",
       "  <thead>\n",
       "    <tr style=\"text-align: right;\">\n",
       "      <th></th>\n",
       "      <th>InvoiceNo</th>\n",
       "      <th>StockCode</th>\n",
       "      <th>Description</th>\n",
       "      <th>Quantity</th>\n",
       "      <th>InvoiceDate</th>\n",
       "      <th>UnitPrice</th>\n",
       "      <th>CustomerID</th>\n",
       "      <th>Country</th>\n",
       "    </tr>\n",
       "  </thead>\n",
       "  <tbody>\n",
       "    <tr>\n",
       "      <th>517</th>\n",
       "      <td>536409</td>\n",
       "      <td>21866</td>\n",
       "      <td>UNION JACK FLAG LUGGAGE TAG</td>\n",
       "      <td>1</td>\n",
       "      <td>2010-12-01 11:45:00</td>\n",
       "      <td>1.25</td>\n",
       "      <td>17908.0</td>\n",
       "      <td>United Kingdom</td>\n",
       "    </tr>\n",
       "  </tbody>\n",
       "</table>\n",
       "</div>"
      ],
      "text/plain": [
       "    InvoiceNo StockCode                  Description  Quantity  \\\n",
       "517    536409     21866  UNION JACK FLAG LUGGAGE TAG         1   \n",
       "\n",
       "            InvoiceDate  UnitPrice  CustomerID         Country  \n",
       "517 2010-12-01 11:45:00       1.25     17908.0  United Kingdom  "
      ]
     },
     "execution_count": 35,
     "metadata": {},
     "output_type": "execute_result"
    }
   ],
   "source": [
    "# 중복데이터 확인\n",
    "retail_df[retail_df.duplicated()].head(1)"
   ]
  },
  {
   "cell_type": "code",
   "execution_count": 36,
   "id": "aabf583b-7593-4a58-8c7a-a0197156649b",
   "metadata": {},
   "outputs": [
    {
     "data": {
      "text/plain": [
       "5192"
      ]
     },
     "execution_count": 36,
     "metadata": {},
     "output_type": "execute_result"
    }
   ],
   "source": [
    "retail_df.duplicated().sum()"
   ]
  },
  {
   "cell_type": "code",
   "execution_count": 37,
   "id": "ba264267-2ce2-4aa4-b7ac-50cded2a0384",
   "metadata": {},
   "outputs": [],
   "source": [
    "# 중복데이터 제거\n",
    "retail_df.drop_duplicates(inplace=True)"
   ]
  },
  {
   "cell_type": "code",
   "execution_count": 38,
   "id": "6dc10833-5600-4b9c-a5f4-cbb6cbe30ad2",
   "metadata": {},
   "outputs": [
    {
     "data": {
      "text/plain": [
       "0"
      ]
     },
     "execution_count": 38,
     "metadata": {},
     "output_type": "execute_result"
    }
   ],
   "source": [
    "retail_df.duplicated().sum()"
   ]
  },
  {
   "cell_type": "code",
   "execution_count": 39,
   "id": "3ccdd4b0-f68e-4162-91b9-a386c58e54db",
   "metadata": {},
   "outputs": [
    {
     "data": {
      "text/plain": [
       "(392692, 8)"
      ]
     },
     "execution_count": 39,
     "metadata": {},
     "output_type": "execute_result"
    }
   ],
   "source": [
    "retail_df.shape"
   ]
  },
  {
   "cell_type": "markdown",
   "id": "6fb25ec9-6f6a-4875-8a3d-f15611538267",
   "metadata": {},
   "source": [
    "# 분석용 데이터 추출\n",
    "    제품 수, 거래건수, 고객 수 , 추가로 국적도 확인"
   ]
  },
  {
   "cell_type": "code",
   "execution_count": null,
   "id": "75dccb15-5cf9-44f2-8285-dfefa3043ecb",
   "metadata": {},
   "outputs": [],
   "source": [
    "# 제품 수, 거래건수, 고객 수 항목에 대한 데이터 프레임 생성해서 확인\n"
   ]
  }
 ],
 "metadata": {
  "kernelspec": {
   "display_name": "Python 3 (ipykernel)",
   "language": "python",
   "name": "python3"
  },
  "language_info": {
   "codemirror_mode": {
    "name": "ipython",
    "version": 3
   },
   "file_extension": ".py",
   "mimetype": "text/x-python",
   "name": "python",
   "nbconvert_exporter": "python",
   "pygments_lexer": "ipython3",
   "version": "3.10.8"
  }
 },
 "nbformat": 4,
 "nbformat_minor": 5
}
