{
 "cells": [
  {
   "cell_type": "code",
   "execution_count": 1,
   "id": "f5d91900-22cf-4d88-9782-002cba2686b8",
   "metadata": {},
   "outputs": [],
   "source": [
    "# 데이터 : fruits_300.npy   과일데이터  사과 파일애플 바나나\n",
    "# 훈련용과 테스트용으로 데이터를 나눔\n",
    "# 훈련용 1. 스케일, 2. 3dim -> 2dim\n",
    "# dense\n",
    "# Sequential\n",
    "# compile\n",
    "# fit\n",
    "# evaluate"
   ]
  },
  {
   "cell_type": "code",
   "execution_count": 3,
   "id": "9b10e01a-ac6c-47c6-ba46-226206a730d3",
   "metadata": {},
   "outputs": [],
   "source": [
    "import numpy as np\n",
    "import pandas as pd"
   ]
  },
  {
   "cell_type": "code",
   "execution_count": 4,
   "id": "1db42197-0ce6-42e7-a659-eb0cdd068dab",
   "metadata": {},
   "outputs": [
    {
     "data": {
      "text/plain": [
       "(300, 100, 100)"
      ]
     },
     "execution_count": 4,
     "metadata": {},
     "output_type": "execute_result"
    }
   ],
   "source": [
    "fruits =  np.load('fruits_300.npy')\n",
    "fruits.shape"
   ]
  },
  {
   "cell_type": "code",
   "execution_count": 6,
   "id": "5cd00cc2-ef1f-4786-9095-4fc0c6c99be0",
   "metadata": {},
   "outputs": [],
   "source": [
    "target = [0]*100 + [1]*100 + [2]*100"
   ]
  },
  {
   "cell_type": "code",
   "execution_count": 7,
   "id": "50787617-65e4-4244-aaa6-37d35c4258c9",
   "metadata": {},
   "outputs": [],
   "source": [
    "from sklearn.model_selection import train_test_split\n",
    "x_train,x_test,y_train,y_test =  train_test_split(fruits, target, test_size=0.2, random_state=0)"
   ]
  },
  {
   "cell_type": "code",
   "execution_count": 8,
   "id": "c08ee911-72f2-4dc3-a445-577f66373e56",
   "metadata": {},
   "outputs": [],
   "source": [
    "x_train_scaled = x_train / 255.0\n",
    "x_test_scaled = x_test / 255.0"
   ]
  },
  {
   "cell_type": "code",
   "execution_count": 9,
   "id": "c66271a4-dd4c-4757-a167-a8ccd31839cd",
   "metadata": {},
   "outputs": [],
   "source": [
    "x_train_scaled_reshape = x_train_scaled.reshape(-1,100*100)\n",
    "x_test_scaled_reshape = x_test_scaled.reshape(-1,100*100)"
   ]
  },
  {
   "cell_type": "code",
   "execution_count": 12,
   "id": "97134feb-bfac-4027-be41-cbe18fee5b17",
   "metadata": {},
   "outputs": [
    {
     "data": {
      "text/plain": [
       "((240, 10000), 240)"
      ]
     },
     "execution_count": 12,
     "metadata": {},
     "output_type": "execute_result"
    }
   ],
   "source": [
    "x_train_scaled_reshape.shape, len(y_train)"
   ]
  },
  {
   "cell_type": "code",
   "execution_count": 22,
   "id": "7c0d4dfc-24d4-4510-9f31-64d819faf97a",
   "metadata": {},
   "outputs": [],
   "source": [
    "from tensorflow.keras.losses import sparse_categorical_crossentropy\n",
    "from tensorflow.keras import Sequential\n",
    "from tensorflow.keras.layers import Dense"
   ]
  },
  {
   "cell_type": "code",
   "execution_count": 23,
   "id": "09142ecc-e565-4a43-9310-2417b7fb9108",
   "metadata": {},
   "outputs": [],
   "source": [
    "dense = Dense(3,activation = 'softmax', input_shape=(10000,) )"
   ]
  },
  {
   "cell_type": "code",
   "execution_count": 24,
   "id": "b13a58b7-0d33-41a5-bcb8-2bca701c545e",
   "metadata": {},
   "outputs": [],
   "source": [
    "model = Sequential(dense)"
   ]
  },
  {
   "cell_type": "code",
   "execution_count": 25,
   "id": "4f1a18d9-a496-4ea3-85ff-83251078ce15",
   "metadata": {},
   "outputs": [],
   "source": [
    "model.compile(loss=sparse_categorical_crossentropy, metrics='accuracy')"
   ]
  },
  {
   "cell_type": "code",
   "execution_count": 30,
   "id": "007c2d8c-ec83-4d48-865a-2de940a5987a",
   "metadata": {},
   "outputs": [],
   "source": [
    "y_train = np.array(y_train)"
   ]
  },
  {
   "cell_type": "code",
   "execution_count": 31,
   "id": "a8e6cc39-bc6c-4aa5-90da-c484c2753978",
   "metadata": {
    "tags": []
   },
   "outputs": [
    {
     "name": "stdout",
     "output_type": "stream",
     "text": [
      "Epoch 1/5\n",
      "8/8 [==============================] - 0s 4ms/step - loss: 1.7015 - accuracy: 0.5958\n",
      "Epoch 2/5\n",
      "8/8 [==============================] - 0s 3ms/step - loss: 0.4359 - accuracy: 0.8625\n",
      "Epoch 3/5\n",
      "8/8 [==============================] - 0s 5ms/step - loss: 0.0790 - accuracy: 0.9917\n",
      "Epoch 4/5\n",
      "8/8 [==============================] - 0s 5ms/step - loss: 0.0553 - accuracy: 1.0000\n",
      "Epoch 5/5\n",
      "8/8 [==============================] - 0s 4ms/step - loss: 0.0404 - accuracy: 1.0000\n"
     ]
    },
    {
     "data": {
      "text/plain": [
       "<keras.callbacks.History at 0x26b2f9a7d60>"
      ]
     },
     "execution_count": 31,
     "metadata": {},
     "output_type": "execute_result"
    }
   ],
   "source": [
    "model.fit(x_train_scaled_reshape,y_train, epochs=5)"
   ]
  },
  {
   "cell_type": "code",
   "execution_count": 32,
   "id": "537fa1e6-aad5-426f-83b9-b833f717da57",
   "metadata": {},
   "outputs": [],
   "source": [
    "y_test = np.array(y_test)"
   ]
  },
  {
   "cell_type": "code",
   "execution_count": 35,
   "id": "f53e5a8f-c07f-447e-91f6-919c815bce65",
   "metadata": {
    "tags": []
   },
   "outputs": [
    {
     "name": "stdout",
     "output_type": "stream",
     "text": [
      "2/2 [==============================] - 0s 5ms/step - loss: 0.0382 - accuracy: 1.0000\n"
     ]
    },
    {
     "data": {
      "text/plain": [
       "[0.03816811367869377, 1.0]"
      ]
     },
     "execution_count": 35,
     "metadata": {},
     "output_type": "execute_result"
    }
   ],
   "source": [
    "model.evaluate(x_test_scaled_reshape,y_test)"
   ]
  },
  {
   "cell_type": "code",
   "execution_count": 43,
   "id": "5c9e58c4-879d-413c-aff5-2154523e8534",
   "metadata": {},
   "outputs": [
    {
     "data": {
      "text/plain": [
       "array([2, 1, 0, 2, 2, 1, 2, 2, 0, 1, 2, 0, 1, 2, 0, 0, 2, 0, 2, 1, 1, 1,\n",
       "       1, 1, 2, 1, 1, 2, 2, 2, 0, 0, 0, 1, 2, 1, 1, 1, 2, 0, 2, 0, 0, 0,\n",
       "       0, 1, 2, 0, 0, 0, 0, 2, 1, 1, 0, 2, 1, 0, 2, 1])"
      ]
     },
     "execution_count": 43,
     "metadata": {},
     "output_type": "execute_result"
    }
   ],
   "source": [
    "y_test"
   ]
  },
  {
   "cell_type": "code",
   "execution_count": 37,
   "id": "9f61e36a-644c-4c78-9abf-f303ce08f623",
   "metadata": {},
   "outputs": [
    {
     "name": "stdout",
     "output_type": "stream",
     "text": [
      "2/2 [==============================] - 0s 2ms/step\n"
     ]
    }
   ],
   "source": [
    "predict_score = model.predict(x_test_scaled_reshape)"
   ]
  },
  {
   "cell_type": "code",
   "execution_count": 44,
   "id": "18360b7e-33b4-4f3f-b951-d67e5e6b67c6",
   "metadata": {},
   "outputs": [
    {
     "data": {
      "text/plain": [
       "array([2, 1, 0, 2, 2, 1, 2, 2, 0, 1, 2, 0, 1, 2, 0, 0, 2, 0, 2, 1, 1, 1,\n",
       "       1, 1, 2, 1, 1, 2, 2, 2, 0, 0, 0, 1, 2, 1, 1, 1, 2, 0, 2, 0, 0, 0,\n",
       "       0, 1, 2, 0, 0, 0, 0, 2, 1, 1, 0, 2, 1, 0, 2, 1], dtype=int64)"
      ]
     },
     "execution_count": 44,
     "metadata": {},
     "output_type": "execute_result"
    }
   ],
   "source": [
    "np.argmax(predict_score,axis=1)"
   ]
  },
  {
   "cell_type": "code",
   "execution_count": 47,
   "id": "c4b5e831-bf7a-4005-801c-c2c4257da50f",
   "metadata": {},
   "outputs": [],
   "source": [
    "fruits_reshape = fruits.reshape(-1,100*100)\n",
    "fruits_reshape_scaled = fruits_reshape / 255.0"
   ]
  },
  {
   "cell_type": "code",
   "execution_count": 49,
   "id": "d862aba1-14ad-443f-9ec2-8f6499b1b2f3",
   "metadata": {},
   "outputs": [
    {
     "name": "stdout",
     "output_type": "stream",
     "text": [
      "10/10 [==============================] - 0s 2ms/step\n"
     ]
    }
   ],
   "source": [
    "total_score = model.predict(fruits_reshape_scaled)"
   ]
  },
  {
   "cell_type": "code",
   "execution_count": 50,
   "id": "9744e369-2482-4b2a-8a2d-83aeccfc89a9",
   "metadata": {},
   "outputs": [
    {
     "data": {
      "text/plain": [
       "array([0, 0, 0, 0, 0, 0, 0, 0, 0, 0, 0, 0, 0, 0, 0, 0, 0, 0, 0, 0, 0, 0,\n",
       "       0, 0, 0, 0, 0, 0, 0, 0, 0, 0, 0, 0, 0, 0, 0, 0, 0, 0, 0, 0, 0, 0,\n",
       "       0, 0, 0, 0, 0, 0, 0, 0, 0, 0, 0, 0, 0, 0, 0, 0, 0, 0, 0, 0, 0, 0,\n",
       "       0, 0, 0, 0, 0, 0, 0, 0, 0, 0, 0, 0, 0, 0, 0, 0, 0, 0, 0, 0, 0, 0,\n",
       "       0, 0, 0, 0, 0, 0, 0, 0, 0, 0, 0, 0, 1, 1, 1, 1, 1, 1, 1, 1, 1, 1,\n",
       "       1, 1, 1, 1, 1, 1, 1, 1, 1, 1, 1, 1, 1, 1, 1, 1, 1, 1, 1, 1, 1, 1,\n",
       "       1, 1, 1, 1, 1, 1, 1, 1, 1, 1, 1, 1, 1, 1, 1, 1, 1, 1, 1, 1, 1, 1,\n",
       "       1, 1, 1, 1, 1, 1, 1, 1, 1, 1, 1, 1, 1, 1, 1, 1, 1, 1, 1, 1, 1, 1,\n",
       "       1, 1, 1, 1, 1, 1, 1, 1, 1, 1, 1, 1, 1, 1, 1, 1, 1, 1, 1, 1, 1, 1,\n",
       "       1, 1, 2, 2, 2, 2, 2, 2, 2, 2, 2, 2, 2, 2, 2, 2, 2, 2, 2, 2, 2, 2,\n",
       "       2, 2, 2, 2, 2, 2, 2, 2, 2, 2, 2, 2, 2, 2, 2, 2, 2, 2, 2, 2, 2, 2,\n",
       "       2, 2, 2, 2, 2, 2, 2, 2, 2, 2, 2, 2, 2, 2, 2, 2, 2, 2, 2, 2, 2, 2,\n",
       "       2, 2, 2, 2, 2, 2, 2, 2, 2, 2, 2, 2, 2, 2, 2, 2, 2, 2, 2, 2, 2, 2,\n",
       "       2, 2, 2, 2, 2, 2, 2, 2, 2, 2, 2, 2, 2, 2], dtype=int64)"
      ]
     },
     "execution_count": 50,
     "metadata": {},
     "output_type": "execute_result"
    }
   ],
   "source": [
    "np.argmax(total_score,axis=1)"
   ]
  },
  {
   "cell_type": "code",
   "execution_count": 52,
   "id": "9bfd813b-96f4-4f79-b378-4b49b7fa2c6c",
   "metadata": {},
   "outputs": [
    {
     "data": {
      "text/plain": [
       "array([0, 0, 0, 0, 0, 0, 0, 0, 0, 0, 0, 0, 0, 0, 0, 0, 0, 0, 0, 0, 0, 0,\n",
       "       0, 0, 0, 0, 0, 0, 0, 0, 0, 0, 0, 0, 0, 0, 0, 0, 0, 0, 0, 0, 0, 0,\n",
       "       0, 0, 0, 0, 0, 0, 0, 0, 0, 0, 0, 0, 0, 0, 0, 0, 0, 0, 0, 0, 0, 0,\n",
       "       0, 0, 0, 0, 0, 0, 0, 0, 0, 0, 0, 0, 0, 0, 0, 0, 0, 0, 0, 0, 0, 0,\n",
       "       0, 0, 0, 0, 0, 0, 0, 0, 0, 0, 0, 0, 1, 1, 1, 1, 1, 1, 1, 1, 1, 1,\n",
       "       1, 1, 1, 1, 1, 1, 1, 1, 1, 1, 1, 1, 1, 1, 1, 1, 1, 1, 1, 1, 1, 1,\n",
       "       1, 1, 1, 1, 1, 1, 1, 1, 1, 1, 1, 1, 1, 1, 1, 1, 1, 1, 1, 1, 1, 1,\n",
       "       1, 1, 1, 1, 1, 1, 1, 1, 1, 1, 1, 1, 1, 1, 1, 1, 1, 1, 1, 1, 1, 1,\n",
       "       1, 1, 1, 1, 1, 1, 1, 1, 1, 1, 1, 1, 1, 1, 1, 1, 1, 1, 1, 1, 1, 1,\n",
       "       1, 1, 2, 2, 2, 2, 2, 2, 2, 2, 2, 2, 2, 2, 2, 2, 2, 2, 2, 2, 2, 2,\n",
       "       2, 2, 2, 2, 2, 2, 2, 2, 2, 2, 2, 2, 2, 2, 2, 2, 2, 2, 2, 2, 2, 2,\n",
       "       2, 2, 2, 2, 2, 2, 2, 2, 2, 2, 2, 2, 2, 2, 2, 2, 2, 2, 2, 2, 2, 2,\n",
       "       2, 2, 2, 2, 2, 2, 2, 2, 2, 2, 2, 2, 2, 2, 2, 2, 2, 2, 2, 2, 2, 2,\n",
       "       2, 2, 2, 2, 2, 2, 2, 2, 2, 2, 2, 2, 2, 2])"
      ]
     },
     "execution_count": 52,
     "metadata": {},
     "output_type": "execute_result"
    }
   ],
   "source": [
    "np.array(target)"
   ]
  },
  {
   "cell_type": "code",
   "execution_count": 53,
   "id": "298fa7b9-da27-41e9-babe-76887026a91b",
   "metadata": {},
   "outputs": [
    {
     "data": {
      "text/plain": [
       "0.012"
      ]
     },
     "execution_count": 53,
     "metadata": {},
     "output_type": "execute_result"
    }
   ],
   "source": [
    "1.2e-02"
   ]
  },
  {
   "cell_type": "code",
   "execution_count": 54,
   "id": "81053587-e40e-4649-a570-841c8e8fc98c",
   "metadata": {},
   "outputs": [
    {
     "data": {
      "text/plain": [
       "120.0"
      ]
     },
     "execution_count": 54,
     "metadata": {},
     "output_type": "execute_result"
    }
   ],
   "source": [
    "1.2e+02"
   ]
  },
  {
   "cell_type": "code",
   "execution_count": null,
   "id": "8300ee7b-fcf7-49af-8f38-127ccadfaa54",
   "metadata": {},
   "outputs": [],
   "source": []
  },
  {
   "cell_type": "code",
   "execution_count": 56,
   "id": "06d8bc35-586e-4801-9a41-2ab18aece3f3",
   "metadata": {},
   "outputs": [
    {
     "data": {
      "text/html": [
       "<div>\n",
       "<style scoped>\n",
       "    .dataframe tbody tr th:only-of-type {\n",
       "        vertical-align: middle;\n",
       "    }\n",
       "\n",
       "    .dataframe tbody tr th {\n",
       "        vertical-align: top;\n",
       "    }\n",
       "\n",
       "    .dataframe thead th {\n",
       "        text-align: right;\n",
       "    }\n",
       "</style>\n",
       "<table border=\"1\" class=\"dataframe\">\n",
       "  <thead>\n",
       "    <tr style=\"text-align: right;\">\n",
       "      <th></th>\n",
       "      <th>PassengerId</th>\n",
       "      <th>Survived</th>\n",
       "      <th>Pclass</th>\n",
       "      <th>Name</th>\n",
       "      <th>Sex</th>\n",
       "      <th>Age</th>\n",
       "      <th>SibSp</th>\n",
       "      <th>Parch</th>\n",
       "      <th>Ticket</th>\n",
       "      <th>Fare</th>\n",
       "      <th>Cabin</th>\n",
       "      <th>Embarked</th>\n",
       "    </tr>\n",
       "  </thead>\n",
       "  <tbody>\n",
       "    <tr>\n",
       "      <th>0</th>\n",
       "      <td>1</td>\n",
       "      <td>0</td>\n",
       "      <td>3</td>\n",
       "      <td>Braund, Mr. Owen Harris</td>\n",
       "      <td>male</td>\n",
       "      <td>22.0</td>\n",
       "      <td>1</td>\n",
       "      <td>0</td>\n",
       "      <td>A/5 21171</td>\n",
       "      <td>7.25</td>\n",
       "      <td>NaN</td>\n",
       "      <td>S</td>\n",
       "    </tr>\n",
       "  </tbody>\n",
       "</table>\n",
       "</div>"
      ],
      "text/plain": [
       "   PassengerId  Survived  Pclass                     Name   Sex   Age  SibSp  \\\n",
       "0            1         0       3  Braund, Mr. Owen Harris  male  22.0      1   \n",
       "\n",
       "   Parch     Ticket  Fare Cabin Embarked  \n",
       "0      0  A/5 21171  7.25   NaN        S  "
      ]
     },
     "execution_count": 56,
     "metadata": {},
     "output_type": "execute_result"
    }
   ],
   "source": [
    "# 타이타닉 머신러닝 VS 딥러닝\n",
    "url = 'https://raw.githubusercontent.com/leekyuyoung20221226/python/main/data/train.csv'\n",
    "titanic = pd.read_csv(url)\n",
    "titanic.head(1)"
   ]
  },
  {
   "cell_type": "code",
   "execution_count": 80,
   "id": "d4416e4e-051d-45d9-a404-ba19574c3272",
   "metadata": {},
   "outputs": [],
   "source": [
    "X = titanic[['Survived', 'Pclass', 'Sex','Age']]"
   ]
  },
  {
   "cell_type": "code",
   "execution_count": 81,
   "id": "6f96f741-6d25-4d2f-8d55-6af12a78ab37",
   "metadata": {},
   "outputs": [],
   "source": [
    "# X['Sex'] = X['Sex'].map({'male':0,'female':1})\n",
    "tempindex = X[X['Sex'] == 'male'].index\n",
    "X.loc[tempindex,'Sex'] = 0"
   ]
  },
  {
   "cell_type": "code",
   "execution_count": 82,
   "id": "351d45c7-8821-4882-a302-e7d8da5c63c6",
   "metadata": {},
   "outputs": [],
   "source": [
    "tempindex = X[X['Sex'] == 'female'].index\n",
    "X.loc[tempindex,'Sex'] = 1"
   ]
  },
  {
   "cell_type": "code",
   "execution_count": 87,
   "id": "8491c6e6-a527-4139-b700-0c206ae380c6",
   "metadata": {},
   "outputs": [
    {
     "data": {
      "text/plain": [
       "Survived      0\n",
       "Pclass        0\n",
       "Sex           0\n",
       "Age         177\n",
       "dtype: int64"
      ]
     },
     "execution_count": 87,
     "metadata": {},
     "output_type": "execute_result"
    }
   ],
   "source": [
    "# 결측치 확인\n",
    "X.isnull().sum()"
   ]
  },
  {
   "cell_type": "code",
   "execution_count": 91,
   "id": "dc80ad14-5ca1-444d-8b1d-ace40d34a4c2",
   "metadata": {
    "collapsed": true,
    "jupyter": {
     "outputs_hidden": true
    },
    "tags": []
   },
   "outputs": [
    {
     "data": {
      "text/html": [
       "<div>\n",
       "<style scoped>\n",
       "    .dataframe tbody tr th:only-of-type {\n",
       "        vertical-align: middle;\n",
       "    }\n",
       "\n",
       "    .dataframe tbody tr th {\n",
       "        vertical-align: top;\n",
       "    }\n",
       "\n",
       "    .dataframe thead th {\n",
       "        text-align: right;\n",
       "    }\n",
       "</style>\n",
       "<table border=\"1\" class=\"dataframe\">\n",
       "  <thead>\n",
       "    <tr style=\"text-align: right;\">\n",
       "      <th></th>\n",
       "      <th>Survived</th>\n",
       "      <th>Pclass</th>\n",
       "      <th>Sex</th>\n",
       "      <th>Age</th>\n",
       "    </tr>\n",
       "  </thead>\n",
       "  <tbody>\n",
       "    <tr>\n",
       "      <th>5</th>\n",
       "      <td>0</td>\n",
       "      <td>3</td>\n",
       "      <td>0</td>\n",
       "      <td>NaN</td>\n",
       "    </tr>\n",
       "    <tr>\n",
       "      <th>17</th>\n",
       "      <td>1</td>\n",
       "      <td>2</td>\n",
       "      <td>0</td>\n",
       "      <td>NaN</td>\n",
       "    </tr>\n",
       "    <tr>\n",
       "      <th>19</th>\n",
       "      <td>1</td>\n",
       "      <td>3</td>\n",
       "      <td>1</td>\n",
       "      <td>NaN</td>\n",
       "    </tr>\n",
       "    <tr>\n",
       "      <th>26</th>\n",
       "      <td>0</td>\n",
       "      <td>3</td>\n",
       "      <td>0</td>\n",
       "      <td>NaN</td>\n",
       "    </tr>\n",
       "    <tr>\n",
       "      <th>28</th>\n",
       "      <td>1</td>\n",
       "      <td>3</td>\n",
       "      <td>1</td>\n",
       "      <td>NaN</td>\n",
       "    </tr>\n",
       "    <tr>\n",
       "      <th>...</th>\n",
       "      <td>...</td>\n",
       "      <td>...</td>\n",
       "      <td>...</td>\n",
       "      <td>...</td>\n",
       "    </tr>\n",
       "    <tr>\n",
       "      <th>859</th>\n",
       "      <td>0</td>\n",
       "      <td>3</td>\n",
       "      <td>0</td>\n",
       "      <td>NaN</td>\n",
       "    </tr>\n",
       "    <tr>\n",
       "      <th>863</th>\n",
       "      <td>0</td>\n",
       "      <td>3</td>\n",
       "      <td>1</td>\n",
       "      <td>NaN</td>\n",
       "    </tr>\n",
       "    <tr>\n",
       "      <th>868</th>\n",
       "      <td>0</td>\n",
       "      <td>3</td>\n",
       "      <td>0</td>\n",
       "      <td>NaN</td>\n",
       "    </tr>\n",
       "    <tr>\n",
       "      <th>878</th>\n",
       "      <td>0</td>\n",
       "      <td>3</td>\n",
       "      <td>0</td>\n",
       "      <td>NaN</td>\n",
       "    </tr>\n",
       "    <tr>\n",
       "      <th>888</th>\n",
       "      <td>0</td>\n",
       "      <td>3</td>\n",
       "      <td>1</td>\n",
       "      <td>NaN</td>\n",
       "    </tr>\n",
       "  </tbody>\n",
       "</table>\n",
       "<p>177 rows × 4 columns</p>\n",
       "</div>"
      ],
      "text/plain": [
       "     Survived  Pclass Sex  Age\n",
       "5           0       3   0  NaN\n",
       "17          1       2   0  NaN\n",
       "19          1       3   1  NaN\n",
       "26          0       3   0  NaN\n",
       "28          1       3   1  NaN\n",
       "..        ...     ...  ..  ...\n",
       "859         0       3   0  NaN\n",
       "863         0       3   1  NaN\n",
       "868         0       3   0  NaN\n",
       "878         0       3   0  NaN\n",
       "888         0       3   1  NaN\n",
       "\n",
       "[177 rows x 4 columns]"
      ]
     },
     "execution_count": 91,
     "metadata": {},
     "output_type": "execute_result"
    }
   ],
   "source": [
    "# 결측치가 있는 모든 row를 출력\n",
    "X[X.isnull().any(axis=1)]"
   ]
  },
  {
   "cell_type": "code",
   "execution_count": 97,
   "id": "bbe4e6fe-7409-4bb6-ad88-d6e9e6193883",
   "metadata": {},
   "outputs": [],
   "source": [
    "Y = X.iloc[:,0]\n",
    "X = X.iloc[:,1:]"
   ]
  },
  {
   "cell_type": "code",
   "execution_count": 98,
   "id": "9a0e0cb7-7263-4393-a031-9d71aa78a341",
   "metadata": {},
   "outputs": [
    {
     "data": {
      "text/html": [
       "<div>\n",
       "<style scoped>\n",
       "    .dataframe tbody tr th:only-of-type {\n",
       "        vertical-align: middle;\n",
       "    }\n",
       "\n",
       "    .dataframe tbody tr th {\n",
       "        vertical-align: top;\n",
       "    }\n",
       "\n",
       "    .dataframe thead th {\n",
       "        text-align: right;\n",
       "    }\n",
       "</style>\n",
       "<table border=\"1\" class=\"dataframe\">\n",
       "  <thead>\n",
       "    <tr style=\"text-align: right;\">\n",
       "      <th></th>\n",
       "      <th>Pclass</th>\n",
       "      <th>Sex</th>\n",
       "      <th>Age</th>\n",
       "    </tr>\n",
       "  </thead>\n",
       "  <tbody>\n",
       "    <tr>\n",
       "      <th>0</th>\n",
       "      <td>3</td>\n",
       "      <td>0</td>\n",
       "      <td>22.0</td>\n",
       "    </tr>\n",
       "    <tr>\n",
       "      <th>1</th>\n",
       "      <td>1</td>\n",
       "      <td>1</td>\n",
       "      <td>38.0</td>\n",
       "    </tr>\n",
       "    <tr>\n",
       "      <th>2</th>\n",
       "      <td>3</td>\n",
       "      <td>1</td>\n",
       "      <td>26.0</td>\n",
       "    </tr>\n",
       "    <tr>\n",
       "      <th>3</th>\n",
       "      <td>1</td>\n",
       "      <td>1</td>\n",
       "      <td>35.0</td>\n",
       "    </tr>\n",
       "    <tr>\n",
       "      <th>4</th>\n",
       "      <td>3</td>\n",
       "      <td>0</td>\n",
       "      <td>35.0</td>\n",
       "    </tr>\n",
       "  </tbody>\n",
       "</table>\n",
       "</div>"
      ],
      "text/plain": [
       "   Pclass Sex   Age\n",
       "0       3   0  22.0\n",
       "1       1   1  38.0\n",
       "2       3   1  26.0\n",
       "3       1   1  35.0\n",
       "4       3   0  35.0"
      ]
     },
     "execution_count": 98,
     "metadata": {},
     "output_type": "execute_result"
    }
   ],
   "source": [
    "X.head()"
   ]
  },
  {
   "cell_type": "code",
   "execution_count": 100,
   "id": "f5c56617-01e1-4e69-8c86-df89ff453d28",
   "metadata": {},
   "outputs": [
    {
     "data": {
      "text/plain": [
       "Pclass  Sex\n",
       "1       0      40.0\n",
       "        1      35.0\n",
       "2       0      30.0\n",
       "        1      28.0\n",
       "3       0      25.0\n",
       "        1      21.5\n",
       "Name: Age, dtype: float64"
      ]
     },
     "execution_count": 100,
     "metadata": {},
     "output_type": "execute_result"
    }
   ],
   "source": [
    "# Pclass 별 Sex별 Age의 중위수 \n",
    "grouped = X.groupby(['Pclass','Sex'])\n",
    "grouped['Age'].median()"
   ]
  },
  {
   "cell_type": "code",
   "execution_count": 103,
   "id": "39ccf489-c9aa-4641-a10e-80f4d884dd61",
   "metadata": {},
   "outputs": [
    {
     "data": {
      "text/plain": [
       "0      25.0\n",
       "1      35.0\n",
       "2      21.5\n",
       "3      35.0\n",
       "4      25.0\n",
       "       ... \n",
       "886    30.0\n",
       "887    35.0\n",
       "888    21.5\n",
       "889    40.0\n",
       "890    25.0\n",
       "Name: Age, Length: 891, dtype: float64"
      ]
     },
     "execution_count": 103,
     "metadata": {},
     "output_type": "execute_result"
    }
   ],
   "source": [
    "grouped['Age'].transform('median')"
   ]
  },
  {
   "cell_type": "code",
   "execution_count": 104,
   "id": "59c66f98-69ed-4b54-a8af-dc67ad3e35e1",
   "metadata": {},
   "outputs": [],
   "source": [
    "# fillna, transfer\n",
    "# X['Age'] = X['Age'].fillna(grouped['Age'].transform('median'))\n",
    "X['Age'].fillna(grouped['Age'].transform('median'), inplace=True)"
   ]
  },
  {
   "cell_type": "code",
   "execution_count": 105,
   "id": "29bc6ce4-64cc-460e-83ba-965956a83049",
   "metadata": {},
   "outputs": [
    {
     "data": {
      "text/plain": [
       "Pclass    0\n",
       "Sex       0\n",
       "Age       0\n",
       "dtype: int64"
      ]
     },
     "execution_count": 105,
     "metadata": {},
     "output_type": "execute_result"
    }
   ],
   "source": [
    "X.isnull().sum()"
   ]
  },
  {
   "cell_type": "code",
   "execution_count": 107,
   "id": "3de17cfc-2612-4c2e-bd10-a349e8240abb",
   "metadata": {},
   "outputs": [
    {
     "data": {
      "text/plain": [
       "((891, 3), (891,))"
      ]
     },
     "execution_count": 107,
     "metadata": {},
     "output_type": "execute_result"
    }
   ],
   "source": [
    "X.shape, Y.shape"
   ]
  },
  {
   "cell_type": "code",
   "execution_count": 108,
   "id": "c19d29b8-d92b-4a83-b384-115d7fec638f",
   "metadata": {},
   "outputs": [],
   "source": [
    "# 8:2로 데이터를 분할\n",
    "x_train,x_test,y_train,y_test = train_test_split(X,Y,test_size=0.2,random_state=0)"
   ]
  },
  {
   "cell_type": "code",
   "execution_count": 113,
   "id": "b1213bc0-020c-4457-b93a-6dafddb24102",
   "metadata": {},
   "outputs": [],
   "source": [
    "from sklearn.preprocessing import StandardScaler\n",
    "ss = StandardScaler()\n",
    "ss.fit(x_train)\n",
    "x_train_scaled = ss.transform(x_train)\n",
    "x_test_scaled =  ss.transform(x_test)"
   ]
  },
  {
   "cell_type": "code",
   "execution_count": 126,
   "id": "f1d03a60-d378-4028-9ef5-b6f8df4cb6ae",
   "metadata": {},
   "outputs": [],
   "source": [
    "# 딥러닝   모델(신경망 -연결 - 컴파일) - 학습(fit) - 평가(evaluate) - 예측(predict)\n",
    "# 이진분류는.. 둘중에 하나... 출력 1\n",
    "# 그외 다중은 실제 갯수만큼....\n",
    "from tensorflow.keras.losses import binary_crossentropy\n",
    "dense = Dense(1,activation='sigmoid',input_shape = (3,) )\n",
    "model = Sequential(dense)\n",
    "model.compile(loss=binary_crossentropy,metrics='accuracy')"
   ]
  },
  {
   "cell_type": "code",
   "execution_count": 127,
   "id": "13d912a2-97a8-4fa0-9780-1d224ebd7af2",
   "metadata": {},
   "outputs": [
    {
     "name": "stdout",
     "output_type": "stream",
     "text": [
      "Epoch 1/20\n",
      "23/23 [==============================] - 0s 1ms/step - loss: 0.6668 - accuracy: 0.7149\n",
      "Epoch 2/20\n",
      "23/23 [==============================] - 0s 1ms/step - loss: 0.6559 - accuracy: 0.7528\n",
      "Epoch 3/20\n",
      "23/23 [==============================] - 0s 2ms/step - loss: 0.6460 - accuracy: 0.7640\n",
      "Epoch 4/20\n",
      "23/23 [==============================] - 0s 1ms/step - loss: 0.6368 - accuracy: 0.7753\n",
      "Epoch 5/20\n",
      "23/23 [==============================] - 0s 1ms/step - loss: 0.6279 - accuracy: 0.7837\n",
      "Epoch 6/20\n",
      "23/23 [==============================] - 0s 1ms/step - loss: 0.6194 - accuracy: 0.7865\n",
      "Epoch 7/20\n",
      "23/23 [==============================] - 0s 1ms/step - loss: 0.6114 - accuracy: 0.7865\n",
      "Epoch 8/20\n",
      "23/23 [==============================] - 0s 1ms/step - loss: 0.6038 - accuracy: 0.7865\n",
      "Epoch 9/20\n",
      "23/23 [==============================] - 0s 1ms/step - loss: 0.5970 - accuracy: 0.7865\n",
      "Epoch 10/20\n",
      "23/23 [==============================] - 0s 1ms/step - loss: 0.5905 - accuracy: 0.7865\n",
      "Epoch 11/20\n",
      "23/23 [==============================] - 0s 1ms/step - loss: 0.5840 - accuracy: 0.7865\n",
      "Epoch 12/20\n",
      "23/23 [==============================] - 0s 1ms/step - loss: 0.5781 - accuracy: 0.7865\n",
      "Epoch 13/20\n",
      "23/23 [==============================] - 0s 1ms/step - loss: 0.5724 - accuracy: 0.7865\n",
      "Epoch 14/20\n",
      "23/23 [==============================] - 0s 1ms/step - loss: 0.5668 - accuracy: 0.7865\n",
      "Epoch 15/20\n",
      "23/23 [==============================] - 0s 1ms/step - loss: 0.5614 - accuracy: 0.7865\n",
      "Epoch 16/20\n",
      "23/23 [==============================] - 0s 2ms/step - loss: 0.5565 - accuracy: 0.7865\n",
      "Epoch 17/20\n",
      "23/23 [==============================] - 0s 2ms/step - loss: 0.5518 - accuracy: 0.7865\n",
      "Epoch 18/20\n",
      "23/23 [==============================] - 0s 2ms/step - loss: 0.5474 - accuracy: 0.7865\n",
      "Epoch 19/20\n",
      "23/23 [==============================] - 0s 2ms/step - loss: 0.5433 - accuracy: 0.7865\n",
      "Epoch 20/20\n",
      "23/23 [==============================] - 0s 2ms/step - loss: 0.5392 - accuracy: 0.7865\n"
     ]
    },
    {
     "data": {
      "text/plain": [
       "<keras.callbacks.History at 0x26b37bf2860>"
      ]
     },
     "execution_count": 127,
     "metadata": {},
     "output_type": "execute_result"
    }
   ],
   "source": [
    "model.fit(x_train_scaled,y_train,epochs=20)"
   ]
  },
  {
   "cell_type": "code",
   "execution_count": 128,
   "id": "bf4751cd-4ba8-44f1-92d0-726f77049584",
   "metadata": {},
   "outputs": [
    {
     "name": "stdout",
     "output_type": "stream",
     "text": [
      "6/6 [==============================] - 0s 2ms/step - loss: 0.5444 - accuracy: 0.7877\n"
     ]
    },
    {
     "data": {
      "text/plain": [
       "[0.544386625289917, 0.7877094745635986]"
      ]
     },
     "execution_count": 128,
     "metadata": {},
     "output_type": "execute_result"
    }
   ],
   "source": [
    "model.evaluate(x_test_scaled,y_test)"
   ]
  },
  {
   "cell_type": "code",
   "execution_count": 130,
   "id": "43c21565-a59a-4678-a60f-db66bdadda43",
   "metadata": {},
   "outputs": [
    {
     "name": "stdout",
     "output_type": "stream",
     "text": [
      "6/6 [==============================] - 0s 2ms/step\n"
     ]
    }
   ],
   "source": [
    "predics = model.predict(x_test_scaled)"
   ]
  },
  {
   "cell_type": "code",
   "execution_count": 138,
   "id": "f76dc0e6-7180-4053-889c-9dabc8f0eaf1",
   "metadata": {
    "tags": []
   },
   "outputs": [
    {
     "data": {
      "text/plain": [
       "(array([[0.],\n",
       "        [0.],\n",
       "        [0.],\n",
       "        [1.],\n",
       "        [1.],\n",
       "        [0.],\n",
       "        [1.],\n",
       "        [1.],\n",
       "        [0.],\n",
       "        [1.]], dtype=float32),\n",
       " 495    0\n",
       " 648    0\n",
       " 278    0\n",
       " 31     1\n",
       " 255    1\n",
       " 298    1\n",
       " 609    1\n",
       " 318    1\n",
       " 484    1\n",
       " 367    1\n",
       " Name: Survived, dtype: int64)"
      ]
     },
     "execution_count": 138,
     "metadata": {},
     "output_type": "execute_result"
    }
   ],
   "source": [
    "import warnings\n",
    "warnings.filterwarnings('ignore')\n",
    "np.round(predics)[:10], y_test[:10]"
   ]
  },
  {
   "cell_type": "code",
   "execution_count": null,
   "id": "f247653e-54b1-4afc-87a8-8605f9e14b8b",
   "metadata": {},
   "outputs": [],
   "source": []
  }
 ],
 "metadata": {
  "kernelspec": {
   "display_name": "Python 3 (ipykernel)",
   "language": "python",
   "name": "python3"
  },
  "language_info": {
   "codemirror_mode": {
    "name": "ipython",
    "version": 3
   },
   "file_extension": ".py",
   "mimetype": "text/x-python",
   "name": "python",
   "nbconvert_exporter": "python",
   "pygments_lexer": "ipython3",
   "version": "3.10.8"
  }
 },
 "nbformat": 4,
 "nbformat_minor": 5
}
