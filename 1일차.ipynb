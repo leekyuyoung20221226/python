{
 "cells": [
  {
   "cell_type": "markdown",
   "id": "e9159e7e-83a3-4773-98a5-66ed397d64cb",
   "metadata": {},
   "source": [
    "변수"
   ]
  },
  {
   "cell_type": "code",
   "execution_count": 2,
   "id": "b0fa5ed7-8a44-4862-b660-d4f26590a880",
   "metadata": {},
   "outputs": [],
   "source": [
    "teacher = \"홍길동\""
   ]
  },
  {
   "cell_type": "code",
   "execution_count": 2,
   "id": "dd00b31b-2456-4c42-baab-b30ecdbfd5bb",
   "metadata": {},
   "outputs": [
    {
     "name": "stdout",
     "output_type": "stream",
     "text": [
      "홍길동\n"
     ]
    }
   ],
   "source": [
    "print(teacher)"
   ]
  },
  {
   "cell_type": "code",
   "execution_count": 3,
   "id": "11109649-6e1b-4102-a23e-4b5b6668965f",
   "metadata": {},
   "outputs": [
    {
     "data": {
      "text/plain": [
       "'홍길동'"
      ]
     },
     "execution_count": 3,
     "metadata": {},
     "output_type": "execute_result"
    }
   ],
   "source": [
    "teacher"
   ]
  },
  {
   "cell_type": "code",
   "execution_count": 4,
   "id": "be556ba3-b261-42f3-8699-b86da27db2cc",
   "metadata": {},
   "outputs": [
    {
     "name": "stdout",
     "output_type": "stream",
     "text": [
      "홍길동\n"
     ]
    },
    {
     "data": {
      "text/plain": [
       "30"
      ]
     },
     "execution_count": 4,
     "metadata": {},
     "output_type": "execute_result"
    }
   ],
   "source": [
    "print(teacher)\n",
    "age = 30\n",
    "age"
   ]
  },
  {
   "cell_type": "code",
   "execution_count": 5,
   "id": "ca56f513-d799-40ac-af71-1235bb50adc6",
   "metadata": {},
   "outputs": [
    {
     "data": {
      "text/plain": [
       "('홍길동', 30)"
      ]
     },
     "execution_count": 5,
     "metadata": {},
     "output_type": "execute_result"
    }
   ],
   "source": [
    "teacher, age"
   ]
  },
  {
   "cell_type": "code",
   "execution_count": 6,
   "id": "2540822b-e528-4b53-bcad-e10f6386eab5",
   "metadata": {},
   "outputs": [],
   "source": [
    "teacher = 100"
   ]
  },
  {
   "cell_type": "code",
   "execution_count": 7,
   "id": "08a7701e-4f67-4a8c-a812-12b7b06ace95",
   "metadata": {},
   "outputs": [],
   "source": [
    "# 주석 : 주석은 프로그램으로 해석되지 않는 사용자를 위한 설명문.. 또는 기타등등"
   ]
  },
  {
   "cell_type": "code",
   "execution_count": 8,
   "id": "6ca0e5f5-4c9c-4749-8069-52bfdec57463",
   "metadata": {},
   "outputs": [
    {
     "data": {
      "text/plain": [
       "25"
      ]
     },
     "execution_count": 8,
     "metadata": {},
     "output_type": "execute_result"
    }
   ],
   "source": [
    "# 변수만들때 주의사항 - 가장 크리티컬한 \n",
    "# 1. 이미 존재하는 단어나 문장을 사용하지 않는다. key word  / 예약어\n",
    "max([10,5,3,7,25])"
   ]
  },
  {
   "cell_type": "code",
   "execution_count": 9,
   "id": "bba9b050-5614-4fda-a98a-e5e938e78360",
   "metadata": {},
   "outputs": [],
   "source": [
    "# max = '나는 최고'"
   ]
  },
  {
   "cell_type": "code",
   "execution_count": 10,
   "id": "65b1bbe3-219c-46ce-8867-24d2d6731ddb",
   "metadata": {},
   "outputs": [],
   "source": [
    "# max([10,5,3,7,25])"
   ]
  },
  {
   "cell_type": "code",
   "execution_count": 11,
   "id": "7b207a85-3025-4959-9331-bec381838640",
   "metadata": {},
   "outputs": [],
   "source": [
    "# 7up = \"Seven Up\""
   ]
  },
  {
   "cell_type": "code",
   "execution_count": 12,
   "id": "e31edfac-fc37-4f0e-8279-f3f48e3d3533",
   "metadata": {},
   "outputs": [],
   "source": [
    "SevenUp = 10\n",
    "Sevenup = 20"
   ]
  },
  {
   "cell_type": "markdown",
   "id": "46397043-71ce-46e1-a96a-049b0e95d6f3",
   "metadata": {},
   "source": [
    "자료형"
   ]
  },
  {
   "cell_type": "markdown",
   "id": "9210c31d-4eeb-4197-bb03-990e4458b7a7",
   "metadata": {},
   "source": [
    "정수형 : 양수 음수 0 으로된 자연수\n",
    "실수형 : 소수점을 가지고 있는 부동소수점\n",
    "문자형 : '123', \"일이삼\"  \"I'm a boy\"    'I \"love\" you'\n",
    "불린형 : true / false"
   ]
  },
  {
   "cell_type": "code",
   "execution_count": 13,
   "id": "1629a633-818e-499c-a700-587835fe814a",
   "metadata": {},
   "outputs": [],
   "source": [
    "a = 1  # 정수형\n",
    "a = 1.2 #실수형\n",
    "a = \"에이\" # 문자형   \n",
    "a = True  # 불린형"
   ]
  },
  {
   "cell_type": "code",
   "execution_count": 14,
   "id": "5b00e2f3-c1a1-45f2-86ed-74c2831211a3",
   "metadata": {},
   "outputs": [],
   "source": [
    "# 사칙연산  ( + - * /)\n",
    "# 5 / 0"
   ]
  },
  {
   "cell_type": "markdown",
   "id": "97ab0be8-28b2-4995-972c-480bc98ca5c8",
   "metadata": {},
   "source": [
    "제곱승"
   ]
  },
  {
   "cell_type": "code",
   "execution_count": 15,
   "id": "aa8f6b0a-5e15-433f-8836-7b643175df53",
   "metadata": {},
   "outputs": [
    {
     "data": {
      "text/plain": [
       "243"
      ]
     },
     "execution_count": 15,
     "metadata": {},
     "output_type": "execute_result"
    }
   ],
   "source": [
    "3*3*3*3*3"
   ]
  },
  {
   "cell_type": "code",
   "execution_count": 16,
   "id": "29447c43-6edb-4f94-ab07-b465c50beeca",
   "metadata": {},
   "outputs": [
    {
     "data": {
      "text/plain": [
       "243"
      ]
     },
     "execution_count": 16,
     "metadata": {},
     "output_type": "execute_result"
    }
   ],
   "source": [
    "3**5"
   ]
  },
  {
   "cell_type": "code",
   "execution_count": 17,
   "id": "5c9e3155-cd78-41a4-b5a9-c768007bb264",
   "metadata": {},
   "outputs": [
    {
     "name": "stdout",
     "output_type": "stream",
     "text": [
      "2\n",
      "1\n"
     ]
    }
   ],
   "source": [
    "# 몫을 구하기\n",
    "print(5 // 2 )\n",
    "\n",
    "# 나머지 구하기\n",
    "print(5 % 2)"
   ]
  },
  {
   "cell_type": "markdown",
   "id": "625859d6-ce14-42da-b645-7506e8368fa9",
   "metadata": {},
   "source": [
    "변수 a에 1을 할당\n",
    "a에 1을 더한후 그 값에 a를 할당\n",
    "a 출력\n",
    "\n",
    "a의 값을 한개 증가\n",
    "a를 출력\n",
    "\n",
    "a에서 1을 뺀후 그 값을 a에 할당\n",
    "a의 값을 한개 빼고\n",
    "a를 출력"
   ]
  },
  {
   "cell_type": "code",
   "execution_count": 18,
   "id": "4adb0970-ff67-4c23-b548-b804d89cc665",
   "metadata": {},
   "outputs": [
    {
     "name": "stdout",
     "output_type": "stream",
     "text": [
      "2\n",
      "3\n",
      "1\n"
     ]
    }
   ],
   "source": [
    "a = 1\n",
    "a = a + 1\n",
    "print(a)\n",
    "\n",
    "a += 1  # a = a + 1\n",
    "print(a)\n",
    "\n",
    "a = a - 1\n",
    "a -= 1 # a = a - 1\n",
    "print(a)"
   ]
  },
  {
   "cell_type": "markdown",
   "id": "55d9b07b-a251-4295-b163-a544e01d06de",
   "metadata": {},
   "source": [
    "자료형 변환"
   ]
  },
  {
   "cell_type": "code",
   "execution_count": 19,
   "id": "89d40383-4476-46fc-a16a-33b351848efc",
   "metadata": {},
   "outputs": [
    {
     "name": "stdout",
     "output_type": "stream",
     "text": [
      "10\n",
      "10.0\n"
     ]
    }
   ],
   "source": [
    "a = 10  # 정수형\n",
    "print(a)\n",
    "\n",
    "a = float(10)      # 정수 ->실수형\n",
    "print(a)"
   ]
  },
  {
   "cell_type": "code",
   "execution_count": 20,
   "id": "ef738708-e306-41a8-99c6-deb25831000f",
   "metadata": {},
   "outputs": [
    {
     "data": {
      "text/plain": [
       "3.3333333333333335"
      ]
     },
     "execution_count": 20,
     "metadata": {},
     "output_type": "execute_result"
    }
   ],
   "source": [
    "a = 10\n",
    "b = 3\n",
    "a / b"
   ]
  },
  {
   "cell_type": "code",
   "execution_count": 21,
   "id": "32b4be57-7feb-4bbf-bdf0-e562423c8212",
   "metadata": {},
   "outputs": [
    {
     "data": {
      "text/plain": [
       "10"
      ]
     },
     "execution_count": 21,
     "metadata": {},
     "output_type": "execute_result"
    }
   ],
   "source": [
    "a = int(10.7)  # 실수 ->정수형\n",
    "a"
   ]
  },
  {
   "cell_type": "code",
   "execution_count": 22,
   "id": "0cea4ae1-252c-4a9a-a5f2-8877c2475f70",
   "metadata": {},
   "outputs": [
    {
     "data": {
      "text/plain": [
       "('76.3', 76.3)"
      ]
     },
     "execution_count": 22,
     "metadata": {},
     "output_type": "execute_result"
    }
   ],
   "source": [
    "a = '76.3'\n",
    "b = float(a)\n",
    "a, b"
   ]
  },
  {
   "cell_type": "code",
   "execution_count": 23,
   "id": "558f0b30-4537-4011-8143-112eb72541c0",
   "metadata": {},
   "outputs": [
    {
     "ename": "TypeError",
     "evalue": "can only concatenate str (not \"float\") to str",
     "output_type": "error",
     "traceback": [
      "\u001b[1;31m---------------------------------------------------------------------------\u001b[0m",
      "\u001b[1;31mTypeError\u001b[0m                                 Traceback (most recent call last)",
      "Cell \u001b[1;32mIn[23], line 1\u001b[0m\n\u001b[1;32m----> 1\u001b[0m \u001b[43ma\u001b[49m\u001b[43m \u001b[49m\u001b[38;5;241;43m+\u001b[39;49m\u001b[43m \u001b[49m\u001b[43mb\u001b[49m\n",
      "\u001b[1;31mTypeError\u001b[0m: can only concatenate str (not \"float\") to str"
     ]
    }
   ],
   "source": [
    "a + b"
   ]
  },
  {
   "cell_type": "code",
   "execution_count": 24,
   "id": "9e7afe7b-a08e-4550-9c95-b4cb32b0f779",
   "metadata": {},
   "outputs": [
    {
     "data": {
      "text/plain": [
       "152.6"
      ]
     },
     "execution_count": 24,
     "metadata": {},
     "output_type": "execute_result"
    }
   ],
   "source": [
    "float(a) + b"
   ]
  },
  {
   "cell_type": "code",
   "execution_count": 25,
   "id": "e10ac0b0-37cb-4723-b4d8-65f9aa0ba3d0",
   "metadata": {},
   "outputs": [
    {
     "data": {
      "text/plain": [
       "'76.376.3'"
      ]
     },
     "execution_count": 25,
     "metadata": {},
     "output_type": "execute_result"
    }
   ],
   "source": [
    "a = str(a)\n",
    "b = str(b)\n",
    "a + b"
   ]
  },
  {
   "cell_type": "markdown",
   "id": "14845c30-f804-41c8-aec5-2def45450826",
   "metadata": {},
   "source": [
    "type() 함수"
   ]
  },
  {
   "cell_type": "code",
   "execution_count": 26,
   "id": "ad1049f5-2ecc-4fa5-91bb-b50f0a63f0b9",
   "metadata": {},
   "outputs": [
    {
     "data": {
      "text/plain": [
       "('76.3', '76.3')"
      ]
     },
     "execution_count": 26,
     "metadata": {},
     "output_type": "execute_result"
    }
   ],
   "source": [
    "a,b"
   ]
  },
  {
   "cell_type": "code",
   "execution_count": 27,
   "id": "10615f49-ab56-4311-a791-8a9e487a392b",
   "metadata": {},
   "outputs": [
    {
     "data": {
      "text/plain": [
       "str"
      ]
     },
     "execution_count": 27,
     "metadata": {},
     "output_type": "execute_result"
    }
   ],
   "source": [
    "type(a)"
   ]
  },
  {
   "cell_type": "code",
   "execution_count": 28,
   "id": "d4150da9-6afd-472e-9dea-1111673535c1",
   "metadata": {},
   "outputs": [
    {
     "data": {
      "text/plain": [
       "76.3"
      ]
     },
     "execution_count": 28,
     "metadata": {},
     "output_type": "execute_result"
    }
   ],
   "source": [
    "b = float(b)\n",
    "b"
   ]
  },
  {
   "cell_type": "code",
   "execution_count": 29,
   "id": "95d57741-8d43-4338-ad5b-eb15821ff57a",
   "metadata": {},
   "outputs": [
    {
     "data": {
      "text/plain": [
       "float"
      ]
     },
     "execution_count": 29,
     "metadata": {},
     "output_type": "execute_result"
    }
   ],
   "source": [
    "type(b)"
   ]
  },
  {
   "cell_type": "code",
   "execution_count": 30,
   "id": "41254c82-8112-43e7-a00d-94c482862f25",
   "metadata": {},
   "outputs": [],
   "source": [
    "list_a = [1,2,3,4]"
   ]
  },
  {
   "cell_type": "code",
   "execution_count": 31,
   "id": "bd652b4b-8516-4282-a0e9-cf37319a7a1a",
   "metadata": {},
   "outputs": [],
   "source": [
    "num1, num2 = 10, 20"
   ]
  },
  {
   "cell_type": "markdown",
   "id": "a76f0e6e-a8c3-49a6-bb83-0061365dd6f6",
   "metadata": {},
   "source": [
    "2차원 리스트"
   ]
  },
  {
   "cell_type": "markdown",
   "id": "12fdf303-1dd8-4a37-8589-bedc5668fd28",
   "metadata": {},
   "source": [
    "1 차원 리스트"
   ]
  },
  {
   "cell_type": "code",
   "execution_count": 32,
   "id": "d492d356-2e91-4a7d-9739-cd8f8f30f65d",
   "metadata": {},
   "outputs": [
    {
     "data": {
      "text/plain": [
       "[1, 2, 3, 4, 5]"
      ]
     },
     "execution_count": 32,
     "metadata": {},
     "output_type": "execute_result"
    }
   ],
   "source": [
    "list_1 = [1,2,3,4,5]\n",
    "list_1"
   ]
  },
  {
   "cell_type": "code",
   "execution_count": 33,
   "id": "23d5ac0f-b7de-42ef-a09a-7adc4cfad4d3",
   "metadata": {},
   "outputs": [
    {
     "data": {
      "text/plain": [
       "1"
      ]
     },
     "execution_count": 33,
     "metadata": {},
     "output_type": "execute_result"
    }
   ],
   "source": [
    "list_1[0]"
   ]
  },
  {
   "cell_type": "code",
   "execution_count": 45,
   "id": "9a8a9222-7212-4369-9518-c096348d5ccf",
   "metadata": {},
   "outputs": [
    {
     "data": {
      "text/plain": [
       "[[1, 2, 3, 4, 5], [10, 20, 30, 40, 50], [100, 200, 300, 400, 500]]"
      ]
     },
     "execution_count": 45,
     "metadata": {},
     "output_type": "execute_result"
    }
   ],
   "source": [
    "list_2 = [\n",
    "    [1,  2,3,  4, 5],       # row : 0\n",
    "    [10,20,30,40,50],   # row : 1\n",
    "    [100,200,300,400,500]\n",
    "]\n",
    "list_2"
   ]
  },
  {
   "cell_type": "code",
   "execution_count": 46,
   "id": "4e61fdd6-0b2e-4724-b4f3-c8739cedb3ad",
   "metadata": {},
   "outputs": [
    {
     "data": {
      "text/plain": [
       "(1, 10, 2)"
      ]
     },
     "execution_count": 46,
     "metadata": {},
     "output_type": "execute_result"
    }
   ],
   "source": [
    "list_2[0][0], list_2[1][0], list_2[0][1]"
   ]
  },
  {
   "cell_type": "code",
   "execution_count": 36,
   "id": "25a93b46-746a-4490-bb65-52b9588658c1",
   "metadata": {},
   "outputs": [
    {
     "data": {
      "text/plain": [
       "40"
      ]
     },
     "execution_count": 36,
     "metadata": {},
     "output_type": "execute_result"
    }
   ],
   "source": [
    "list_2[1][3]"
   ]
  },
  {
   "cell_type": "code",
   "execution_count": 47,
   "id": "09cf47f4-64d9-423c-9a5a-81b426d09c2d",
   "metadata": {},
   "outputs": [
    {
     "data": {
      "text/plain": [
       "[[1, 2, 3, 4, 5], [10, 20, 30, 40, 50], [100, 200, 300, 400, 500]]"
      ]
     },
     "execution_count": 47,
     "metadata": {},
     "output_type": "execute_result"
    }
   ],
   "source": [
    "list_2"
   ]
  },
  {
   "cell_type": "code",
   "execution_count": 48,
   "id": "d322cec3-c164-49b6-bce9-6c919cbb5cab",
   "metadata": {},
   "outputs": [
    {
     "data": {
      "text/plain": [
       "2"
      ]
     },
     "execution_count": 48,
     "metadata": {},
     "output_type": "execute_result"
    }
   ],
   "source": [
    "list_2[0][1]"
   ]
  },
  {
   "cell_type": "code",
   "execution_count": 50,
   "id": "5a79f897-750b-45dc-a0e9-38d4d3de5ca1",
   "metadata": {},
   "outputs": [
    {
     "data": {
      "text/plain": [
       "[1, 2, 3]"
      ]
     },
     "execution_count": 50,
     "metadata": {},
     "output_type": "execute_result"
    }
   ],
   "source": [
    "list_2[0][:3]"
   ]
  },
  {
   "cell_type": "code",
   "execution_count": 51,
   "id": "042d3e38-64f8-4bc1-a5f3-b6b111e40cc6",
   "metadata": {},
   "outputs": [
    {
     "data": {
      "text/plain": [
       "[[1, 2, 3, 4, 5], [10, 20, 30, 40, 50], [100, 200, 300, 400, 500]]"
      ]
     },
     "execution_count": 51,
     "metadata": {},
     "output_type": "execute_result"
    }
   ],
   "source": [
    "list_2[:]"
   ]
  },
  {
   "cell_type": "code",
   "execution_count": 54,
   "id": "82c15327-db19-40a1-a6f6-fcb9df990ce4",
   "metadata": {},
   "outputs": [
    {
     "data": {
      "text/plain": [
       "[[1, 2, 3, 4, 5], [10, 20, 30, 40, 50], [100, 200, 300, 400, 500]]"
      ]
     },
     "execution_count": 54,
     "metadata": {},
     "output_type": "execute_result"
    }
   ],
   "source": [
    "list_2[:]"
   ]
  },
  {
   "cell_type": "code",
   "execution_count": 55,
   "id": "72e8179e-0756-4587-b4d6-eeae820ab8f1",
   "metadata": {},
   "outputs": [
    {
     "data": {
      "text/plain": [
       "[1, 2, 3, 4, 5]"
      ]
     },
     "execution_count": 55,
     "metadata": {},
     "output_type": "execute_result"
    }
   ],
   "source": [
    "list_2[:][0]"
   ]
  },
  {
   "cell_type": "code",
   "execution_count": 56,
   "id": "2b39464d-21da-47e7-9272-1b48275b9dd4",
   "metadata": {},
   "outputs": [
    {
     "data": {
      "text/plain": [
       "1"
      ]
     },
     "execution_count": 56,
     "metadata": {},
     "output_type": "execute_result"
    }
   ],
   "source": [
    "list_2[:][0][0]"
   ]
  },
  {
   "cell_type": "code",
   "execution_count": 57,
   "id": "c1895a19-c166-4e73-959a-155b91a4ba4f",
   "metadata": {},
   "outputs": [
    {
     "data": {
      "text/plain": [
       "[[1, 2, 3, 4, 5], [10, 20, 30, 40, 50], [100, 200, 300, 400, 500]]"
      ]
     },
     "execution_count": 57,
     "metadata": {},
     "output_type": "execute_result"
    }
   ],
   "source": [
    "list_2[:]  # list_2"
   ]
  },
  {
   "cell_type": "code",
   "execution_count": 58,
   "id": "8c3fea72-4263-4e42-bb49-1342c670f9ce",
   "metadata": {},
   "outputs": [
    {
     "data": {
      "text/plain": [
       "([1, 2, 3, 4, 5], [1, 2, 3, 4, 5])"
      ]
     },
     "execution_count": 58,
     "metadata": {},
     "output_type": "execute_result"
    }
   ],
   "source": [
    "# list_2[:][0]   #  list_2[0]\n",
    "list_2[:][0] ,  list_2[0]"
   ]
  },
  {
   "cell_type": "code",
   "execution_count": 60,
   "id": "357c3859-20ff-4f5b-aaca-25763aada1bc",
   "metadata": {},
   "outputs": [
    {
     "data": {
      "text/plain": [
       "[1, 2, 3, 4, 5]"
      ]
     },
     "execution_count": 60,
     "metadata": {},
     "output_type": "execute_result"
    }
   ],
   "source": [
    "list_2[:][:][0]"
   ]
  },
  {
   "cell_type": "code",
   "execution_count": 62,
   "id": "6c2886e9-d7d8-4adb-bf56-2ff8cd06f8e9",
   "metadata": {},
   "outputs": [
    {
     "data": {
      "text/plain": [
       "[1, 2, 3, 4, 5]"
      ]
     },
     "execution_count": 62,
     "metadata": {},
     "output_type": "execute_result"
    }
   ],
   "source": [
    "list_2[:2][0]"
   ]
  },
  {
   "cell_type": "code",
   "execution_count": 63,
   "id": "ba1d5dd4-ccf7-437d-ab46-e673078dd51a",
   "metadata": {},
   "outputs": [],
   "source": [
    "# 2차원에서 [행][열]  개별 값\n",
    "# 2차원에서 [:]--> 결과를 2차원으로 출력  2차원[:]는 결국 자기자신이고..\n",
    "# 2차원 이상에서 슬라이싱을 사용하면 그 결과가 해당 차수로 표현되므로 다시 [][] 형태로 접근"
   ]
  },
  {
   "cell_type": "code",
   "execution_count": 65,
   "id": "ca03fedc-4dd5-4730-b439-aa4a0169b1b5",
   "metadata": {},
   "outputs": [],
   "source": [
    "list_a = [1,2,3,4,5]\n",
    "list_b = list_a"
   ]
  },
  {
   "cell_type": "code",
   "execution_count": 67,
   "id": "f5b8e9d6-2b12-47a3-88d5-abb508a37d73",
   "metadata": {},
   "outputs": [
    {
     "data": {
      "text/plain": [
       "([1, 2, 3, 4, 5], [1, 2, 3, 4, 5])"
      ]
     },
     "execution_count": 67,
     "metadata": {},
     "output_type": "execute_result"
    }
   ],
   "source": [
    "list_b,  list_a"
   ]
  },
  {
   "cell_type": "code",
   "execution_count": 68,
   "id": "2a5be4b1-a6e5-40c7-9220-bb9932f3721c",
   "metadata": {},
   "outputs": [
    {
     "data": {
      "text/plain": [
       "[1000, 2, 3, 4, 5]"
      ]
     },
     "execution_count": 68,
     "metadata": {},
     "output_type": "execute_result"
    }
   ],
   "source": [
    "list_a[0] = 1000\n",
    "list_a"
   ]
  },
  {
   "cell_type": "code",
   "execution_count": 69,
   "id": "67c32ab9-458b-4bb9-b478-e1570e74df8f",
   "metadata": {},
   "outputs": [
    {
     "data": {
      "text/plain": [
       "[1000, 2, 3, 4, 5]"
      ]
     },
     "execution_count": 69,
     "metadata": {},
     "output_type": "execute_result"
    }
   ],
   "source": [
    "list_b"
   ]
  },
  {
   "cell_type": "code",
   "execution_count": 70,
   "id": "a7fc04c2-9fa9-4884-a04d-7387ee62df0e",
   "metadata": {},
   "outputs": [
    {
     "data": {
      "text/plain": [
       "[[1000, 2, 3, 4, 5], [1000, 2, 3, 4, 5]]"
      ]
     },
     "execution_count": 70,
     "metadata": {},
     "output_type": "execute_result"
    }
   ],
   "source": [
    "list_c = [list_a, list_b]\n",
    "list_c"
   ]
  },
  {
   "cell_type": "code",
   "execution_count": 71,
   "id": "93b27a58-d66f-4986-b5d5-922475cfe746",
   "metadata": {},
   "outputs": [],
   "source": [
    "list_b[1] = 1234"
   ]
  },
  {
   "cell_type": "code",
   "execution_count": 72,
   "id": "a6c7ba78-ffa7-4032-82dd-6ac6d51b29fa",
   "metadata": {},
   "outputs": [
    {
     "data": {
      "text/plain": [
       "[1000, 1234, 3, 4, 5]"
      ]
     },
     "execution_count": 72,
     "metadata": {},
     "output_type": "execute_result"
    }
   ],
   "source": [
    "list_b"
   ]
  },
  {
   "cell_type": "code",
   "execution_count": 73,
   "id": "ed5ab7a1-5ce3-4c5d-90e0-ecf400c992d6",
   "metadata": {},
   "outputs": [
    {
     "data": {
      "text/plain": [
       "[[1000, 1234, 3, 4, 5], [1000, 1234, 3, 4, 5]]"
      ]
     },
     "execution_count": 73,
     "metadata": {},
     "output_type": "execute_result"
    }
   ],
   "source": [
    "list_c"
   ]
  },
  {
   "cell_type": "code",
   "execution_count": 74,
   "id": "7bbd5f92-f51e-4566-8189-9b381a32de92",
   "metadata": {},
   "outputs": [
    {
     "data": {
      "text/plain": [
       "[1000, 1234, 3, 4, 5]"
      ]
     },
     "execution_count": 74,
     "metadata": {},
     "output_type": "execute_result"
    }
   ],
   "source": [
    "list_a"
   ]
  },
  {
   "cell_type": "code",
   "execution_count": 75,
   "id": "2fdc205b-b1a6-462c-baad-d486514ca02a",
   "metadata": {},
   "outputs": [],
   "source": [
    "a = 100\n",
    "b = a"
   ]
  },
  {
   "cell_type": "code",
   "execution_count": 76,
   "id": "b8dc76ab-a062-47e2-9114-dc4357fa705a",
   "metadata": {},
   "outputs": [
    {
     "data": {
      "text/plain": [
       "(100, 100)"
      ]
     },
     "execution_count": 76,
     "metadata": {},
     "output_type": "execute_result"
    }
   ],
   "source": [
    "a,b"
   ]
  },
  {
   "cell_type": "code",
   "execution_count": 77,
   "id": "b6022f77-f842-40d8-938a-289a233a4afb",
   "metadata": {},
   "outputs": [],
   "source": [
    "a = 200"
   ]
  },
  {
   "cell_type": "code",
   "execution_count": 78,
   "id": "bd6466bb-c207-4ebb-bc00-e6680be4c2ae",
   "metadata": {},
   "outputs": [
    {
     "data": {
      "text/plain": [
       "200"
      ]
     },
     "execution_count": 78,
     "metadata": {},
     "output_type": "execute_result"
    }
   ],
   "source": [
    "a"
   ]
  },
  {
   "cell_type": "code",
   "execution_count": 79,
   "id": "8b834566-5ffc-4908-8562-a7a450dde18e",
   "metadata": {},
   "outputs": [
    {
     "data": {
      "text/plain": [
       "100"
      ]
     },
     "execution_count": 79,
     "metadata": {},
     "output_type": "execute_result"
    }
   ],
   "source": [
    "b"
   ]
  },
  {
   "cell_type": "code",
   "execution_count": 86,
   "id": "61814521-c72c-4d99-95f9-7e89a2c7318b",
   "metadata": {},
   "outputs": [],
   "source": [
    "a = 100    "
   ]
  },
  {
   "cell_type": "code",
   "execution_count": 88,
   "id": "4ffbd200-3e0c-4903-aa11-a2f3dd4338f0",
   "metadata": {},
   "outputs": [
    {
     "data": {
      "text/plain": [
       "int"
      ]
     },
     "execution_count": 88,
     "metadata": {},
     "output_type": "execute_result"
    }
   ],
   "source": [
    "type(a)"
   ]
  },
  {
   "cell_type": "code",
   "execution_count": 89,
   "id": "495e151b-423f-491d-a287-f9d9b277f6ae",
   "metadata": {},
   "outputs": [],
   "source": [
    "a = [1,2,3,4,5]"
   ]
  },
  {
   "cell_type": "code",
   "execution_count": 90,
   "id": "4382831b-95bf-40c4-8493-d8a3e44a4b6c",
   "metadata": {},
   "outputs": [
    {
     "data": {
      "text/plain": [
       "list"
      ]
     },
     "execution_count": 90,
     "metadata": {},
     "output_type": "execute_result"
    }
   ],
   "source": [
    "type(a)"
   ]
  },
  {
   "cell_type": "code",
   "execution_count": null,
   "id": "c5a2fbed-b5a9-4065-9c99-fbddbcb337c7",
   "metadata": {},
   "outputs": [],
   "source": []
  }
 ],
 "metadata": {
  "kernelspec": {
   "display_name": "Python 3 (ipykernel)",
   "language": "python",
   "name": "python3"
  },
  "language_info": {
   "codemirror_mode": {
    "name": "ipython",
    "version": 3
   },
   "file_extension": ".py",
   "mimetype": "text/x-python",
   "name": "python",
   "nbconvert_exporter": "python",
   "pygments_lexer": "ipython3",
   "version": "3.10.8"
  }
 },
 "nbformat": 4,
 "nbformat_minor": 5
}
