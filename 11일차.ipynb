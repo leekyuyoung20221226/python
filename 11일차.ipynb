{
 "cells": [
  {
   "cell_type": "code",
   "execution_count": 1,
   "id": "34401700-1883-4b0e-adf7-49290baf2822",
   "metadata": {},
   "outputs": [],
   "source": [
    "import numpy as np"
   ]
  },
  {
   "cell_type": "code",
   "execution_count": 2,
   "id": "82fe28b1-acbc-43dc-b02a-6b6dae3d3e46",
   "metadata": {},
   "outputs": [],
   "source": [
    "matrix = np.array(\n",
    "    [\n",
    "        [1,2,3],\n",
    "        [4,5,6],\n",
    "        [7,8,9]\n",
    "    ]\n",
    ")"
   ]
  },
  {
   "cell_type": "code",
   "execution_count": 3,
   "id": "9fa0e5f5-a6b5-475b-a183-d3b708b761f3",
   "metadata": {},
   "outputs": [
    {
     "data": {
      "text/plain": [
       "(3, 3)"
      ]
     },
     "execution_count": 3,
     "metadata": {},
     "output_type": "execute_result"
    }
   ],
   "source": [
    "matrix.shape"
   ]
  },
  {
   "cell_type": "code",
   "execution_count": 5,
   "id": "82eb54b5-e807-4544-9471-6fe373f2e640",
   "metadata": {},
   "outputs": [
    {
     "name": "stdout",
     "output_type": "stream",
     "text": [
      "합 : 45\n",
      "합 : 45\n",
      "평균 : 5.0\n",
      "평균 : 5.0\n",
      "표준편차 : 2.581988897471611\n",
      "표준편차 : 2.581988897471611\n",
      "분산 : 6.666666666666667\n",
      "분산 : 6.666666666666667\n"
     ]
    }
   ],
   "source": [
    "print(f\"합 : {np.sum(matrix)}\")\n",
    "print(f\"합 : {matrix.sum()}\")\n",
    "\n",
    "print(f\"평균 : {np.mean(matrix)}\")\n",
    "print(f\"평균 : {matrix.mean()}\")\n",
    "\n",
    "print(f\"표준편차 : {np.std(matrix)}\")\n",
    "print(f\"표준편차 : {matrix.std()}\")\n",
    "\n",
    "print(f\"분산 : {matrix.var()}\")\n",
    "print(f\"분산 : {np.var(matrix)}\")\n",
    "#  min max는 각자 해 보기             "
   ]
  },
  {
   "cell_type": "markdown",
   "id": "62cc1f2f-c3ca-404f-b702-6b43e9b62a68",
   "metadata": {},
   "source": [
    "# 열과 행에서 최소 최소 및 기타 통계수치를 구해봅시다.\n",
    "# min max를 예를 들어서 사용해보고 나머지는 각자 확인해 보세요"
   ]
  },
  {
   "cell_type": "code",
   "execution_count": 10,
   "id": "9f0e8657-afcf-45ad-b822-6e0956833893",
   "metadata": {},
   "outputs": [
    {
     "name": "stdout",
     "output_type": "stream",
     "text": [
      "전체 데이터의 최대값 : 9\n",
      "열에서 최대값 : [7 8 9]\n",
      "열에서 최소값 : [1 2 3]\n",
      "열에서 평균값 : [4. 5. 6.]\n"
     ]
    }
   ],
   "source": [
    "print(f\"전체 데이터의 최대값 : {np.max(matrix)}\")\n",
    "print(f\"열에서 최대값 : {np.max(matrix, axis = 0)}\")\n",
    "print(f\"열에서 최소값 : {np.min(matrix, axis = 0)}\")\n",
    "print(f\"열에서 평균값 : {np.mean(matrix, axis = 0)}\")"
   ]
  },
  {
   "cell_type": "code",
   "execution_count": 11,
   "id": "ccf79f03-2519-4f6f-8a87-35d419f938b2",
   "metadata": {},
   "outputs": [
    {
     "name": "stdout",
     "output_type": "stream",
     "text": [
      "행에서 최대값 : [3 6 9]\n",
      "행에서 최소값 : [1 4 7]\n",
      "행에서 평균값 : [2. 5. 8.]\n"
     ]
    }
   ],
   "source": [
    "print(f\"행에서 최대값 : {np.max(matrix, axis = 1)}\")\n",
    "print(f\"행에서 최소값 : {np.min(matrix, axis = 1)}\")\n",
    "print(f\"행에서 평균값 : {np.mean(matrix, axis = 1)}\")"
   ]
  },
  {
   "cell_type": "markdown",
   "id": "aa6d23b4-5f30-431f-9406-521159683275",
   "metadata": {},
   "source": [
    "# 난수생성"
   ]
  },
  {
   "cell_type": "markdown",
   "id": "2c389937-e991-40b1-a515-e6ecf30c7465",
   "metadata": {},
   "source": [
    "    seed : 씨앗( 콩심은데 콩나고 팥심은데 팥난다.)  1 ~ 100 사이의 임의수. \n",
    "    rand : 균등 분포한 난수를 생성\n",
    "    random : 실수형 난수를 생성\n",
    "    randint : 지정한 최소 최대범위안에서 난수 생성\n",
    "    randn : 정규분포(평균:0, 표준편차:1)\n",
    "    uniform : 임의의 분포에서 표본추출\n",
    "    random_sample : 0.0 ~ 1.0 사이에서 실수\n",
    "    standart_normal : 정규분포(평균:0, 표준편차:1)\n",
    "    choice : 랜덤하게 샘플을 선택한다\n",
    "    shuffle : 순서를 뒤섞는다."
   ]
  },
  {
   "cell_type": "code",
   "execution_count": 13,
   "id": "ab48099b-ab2e-4bc0-8ff5-a1192cdafb3c",
   "metadata": {},
   "outputs": [],
   "source": [
    "# 난수를 생성(seed 값 고정)\n",
    "np.random.seed(0)"
   ]
  },
  {
   "cell_type": "code",
   "execution_count": 18,
   "id": "09699939-4ddb-42a7-a41d-63feee7a26fc",
   "metadata": {},
   "outputs": [],
   "source": [
    "import numpy.random as rd"
   ]
  },
  {
   "cell_type": "code",
   "execution_count": 22,
   "id": "341a1131-16eb-4d93-a8e4-a4441276963f",
   "metadata": {},
   "outputs": [
    {
     "name": "stdout",
     "output_type": "stream",
     "text": [
      "0~0.1사이의 실수 난수 : [0.45115921 0.01998767 0.44171092 0.97958673 0.35944446 0.48089353\n",
      " 0.68866118 0.88047589 0.91823547 0.21682214]\n",
      "0~45사이의 6개 정수를 생성 : [35 20 17 27 14 41]\n",
      "평균이 0.0 , 표준편차 1.0인 정규분포에서 5개 : [ 0.42830357  0.99627783 -0.49114966  0.71267817  1.11334035]\n",
      "[-2.15367459 -0.41611148 -1.07089699]\n"
     ]
    }
   ],
   "source": [
    "print(f\"0~0.1사이의 실수 난수 : {rd.random(10)}\")\n",
    "print(f\"0~45사이의 6개 정수를 생성 : {rd.randint(0,46,6)}\")\n",
    "print(f\"평균이 0.0 , 표준편차 1.0인 정규분포에서 5개 : {rd.normal(0.0,1.0,5)}\")\n",
    "print(f\"{rd.standard_normal(3)}\")"
   ]
  },
  {
   "cell_type": "code",
   "execution_count": 25,
   "id": "f11b3fa6-1707-4d35-8904-a936cfd137d3",
   "metadata": {},
   "outputs": [
    {
     "data": {
      "text/plain": [
       "array([9, 4, 9])"
      ]
     },
     "execution_count": 25,
     "metadata": {},
     "output_type": "execute_result"
    }
   ],
   "source": [
    "vector = [1,2,3,4,5,6,7,8,9]\n",
    "rd.choice(vector,3)"
   ]
  },
  {
   "cell_type": "code",
   "execution_count": 31,
   "id": "6b8cab73-8799-483f-8f88-31550439c1ee",
   "metadata": {},
   "outputs": [],
   "source": [
    "rd.shuffle(vector)"
   ]
  },
  {
   "cell_type": "code",
   "execution_count": 32,
   "id": "5033818f-bee3-49b1-a9b6-9873a2f9118d",
   "metadata": {},
   "outputs": [
    {
     "data": {
      "text/plain": [
       "[8, 3, 9, 4, 5, 1, 2, 6, 7]"
      ]
     },
     "execution_count": 32,
     "metadata": {},
     "output_type": "execute_result"
    }
   ],
   "source": [
    "vector"
   ]
  },
  {
   "cell_type": "markdown",
   "id": "94a05063-728b-4348-a099-4e03acbb6d9c",
   "metadata": {},
   "source": [
    "# sort"
   ]
  },
  {
   "cell_type": "code",
   "execution_count": 34,
   "id": "22ca4b3c-b73e-4039-b59b-91089aa11217",
   "metadata": {},
   "outputs": [
    {
     "data": {
      "text/plain": [
       "array([ 6.06389001e-01,  1.76084071e-03, -9.90160143e-01,  1.87239408e+00,\n",
       "       -2.41073590e-01])"
      ]
     },
     "execution_count": 34,
     "metadata": {},
     "output_type": "execute_result"
    }
   ],
   "source": [
    "# 평균이 0 이고 표준편차가 1인 정규분포 형태의 데이터 5\n",
    "vector = np.random.randn(5)\n",
    "vector"
   ]
  },
  {
   "cell_type": "code",
   "execution_count": 35,
   "id": "512936f6-7908-4b16-8a72-0a07a0a65e99",
   "metadata": {},
   "outputs": [
    {
     "data": {
      "text/plain": [
       "0.6063890007417859"
      ]
     },
     "execution_count": 35,
     "metadata": {},
     "output_type": "execute_result"
    }
   ],
   "source": [
    "vector[0]"
   ]
  },
  {
   "cell_type": "code",
   "execution_count": 36,
   "id": "763e121d-4e43-42e6-9ee9-b949a583abcc",
   "metadata": {},
   "outputs": [
    {
     "data": {
      "text/plain": [
       "array([ 6.06389001e-01,  1.76084071e-03, -9.90160143e-01,  1.87239408e+00,\n",
       "       -2.41073590e-01])"
      ]
     },
     "execution_count": 36,
     "metadata": {},
     "output_type": "execute_result"
    }
   ],
   "source": [
    "vector"
   ]
  },
  {
   "cell_type": "code",
   "execution_count": 40,
   "id": "37f227e8-6bff-4673-bab9-984cfee75caa",
   "metadata": {},
   "outputs": [
    {
     "data": {
      "text/plain": [
       "(0.1, 0.01, 0.001)"
      ]
     },
     "execution_count": 40,
     "metadata": {},
     "output_type": "execute_result"
    }
   ],
   "source": [
    "1e-01, 1e-02, 1e-03"
   ]
  },
  {
   "cell_type": "code",
   "execution_count": 41,
   "id": "3fb83d4e-f682-47e6-bdff-8a39eb18b4d8",
   "metadata": {},
   "outputs": [
    {
     "data": {
      "text/plain": [
       "(10.0, 100.0, 1000.0)"
      ]
     },
     "execution_count": 41,
     "metadata": {},
     "output_type": "execute_result"
    }
   ],
   "source": [
    "1e+01, 1e+02, 1e+03"
   ]
  },
  {
   "cell_type": "code",
   "execution_count": 43,
   "id": "7eb491fe-1777-4dc7-b0c2-54d28d318447",
   "metadata": {},
   "outputs": [
    {
     "name": "stdout",
     "output_type": "stream",
     "text": [
      "1차원 배열 sort() 정렬 전 : [-9.90160143e-01 -2.41073590e-01  1.76084071e-03  6.06389001e-01\n",
      "  1.87239408e+00]\n",
      "1차원 배열 sort() 정렬 후 : [-9.90160143e-01 -2.41073590e-01  1.76084071e-03  6.06389001e-01\n",
      "  1.87239408e+00]\n"
     ]
    }
   ],
   "source": [
    "# 정렬을 사용할때 옵션을 사용 안하면 기본이 ascending 오름차순\n",
    "print(f\"1차원 배열 sort() 정렬 전 : {vector}\")\n",
    "vector.sort()\n",
    "print(f\"1차원 배열 sort() 정렬 후 : {vector}\")"
   ]
  },
  {
   "cell_type": "code",
   "execution_count": 60,
   "id": "a94f0ea0-0f90-45e1-9b7c-1cf1987e8d62",
   "metadata": {},
   "outputs": [
    {
     "data": {
      "text/plain": [
       "array([[1.24833057, 7.22080662, 0.30452965],\n",
       "       [7.4699424 , 0.92596165, 2.17450493],\n",
       "       [7.49254417, 7.31693756, 0.45614637]])"
      ]
     },
     "execution_count": 60,
     "metadata": {},
     "output_type": "execute_result"
    }
   ],
   "source": [
    "# 2차원 데이터 정렬\n",
    "matrix_1 = np.random.random((3,3))*10\n",
    "matrix_1"
   ]
  },
  {
   "cell_type": "code",
   "execution_count": 64,
   "id": "a2b2a5cd-58fa-4ad9-963f-9b03213dd0fe",
   "metadata": {},
   "outputs": [
    {
     "name": "stdout",
     "output_type": "stream",
     "text": [
      "2차원 배열 sort() 정렬 전 : \n",
      "[[0.30452965 1.24833057 7.22080662]\n",
      " [0.92596165 2.17450493 7.4699424 ]\n",
      " [0.45614637 7.31693756 7.49254417]]\n",
      "\n",
      "2차원 배열 sort() 정렬 후 : \n",
      "[[0.30452965 1.24833057 7.22080662]\n",
      " [0.92596165 2.17450493 7.4699424 ]\n",
      " [0.45614637 7.31693756 7.49254417]]\n"
     ]
    }
   ],
   "source": [
    "print(f\"2차원 배열 sort() 정렬 전 : \\n{matrix_1}\")\n",
    "matrix_1.sort()\n",
    "# matrix_1.sort(axis = 1)\n",
    "print(f\"\\n2차원 배열 sort() 정렬 후 : \\n{matrix_1}\")"
   ]
  },
  {
   "cell_type": "code",
   "execution_count": 66,
   "id": "5a35a444-c484-4cb4-bec7-47b1d5f4a5d9",
   "metadata": {},
   "outputs": [],
   "source": [
    "# 사용법을 알고싶으면 아래 주석을 제거하세요.\n",
    "# help(matrix_1.sort)"
   ]
  },
  {
   "cell_type": "code",
   "execution_count": 68,
   "id": "8f8a236f-65b1-414e-ad2c-65fff13567b5",
   "metadata": {},
   "outputs": [],
   "source": [
    "import copy"
   ]
  },
  {
   "cell_type": "code",
   "execution_count": 69,
   "id": "014f7199-76e1-4d40-b2ff-849081ee7f63",
   "metadata": {},
   "outputs": [],
   "source": [
    "matrix_1 = np.random.random((3,3))*10\n",
    "matrix_2 =  copy.deepcopy( matrix_1)"
   ]
  },
  {
   "cell_type": "code",
   "execution_count": 70,
   "id": "d368cbbd-1db6-4f0b-b533-f68e22f7b207",
   "metadata": {},
   "outputs": [
    {
     "data": {
      "text/plain": [
       "(array([[1.816312  , 5.12393463, 5.80447137],\n",
       "        [7.87542156, 6.0647546 , 2.18402855],\n",
       "        [4.55168815, 8.78869742, 4.92268242]]),\n",
       " array([[1.816312  , 5.12393463, 5.80447137],\n",
       "        [7.87542156, 6.0647546 , 2.18402855],\n",
       "        [4.55168815, 8.78869742, 4.92268242]]))"
      ]
     },
     "execution_count": 70,
     "metadata": {},
     "output_type": "execute_result"
    }
   ],
   "source": [
    "matrix_1, matrix_2"
   ]
  },
  {
   "cell_type": "code",
   "execution_count": 71,
   "id": "3421b5cb-a95e-454f-b472-fd1152d71680",
   "metadata": {},
   "outputs": [
    {
     "data": {
      "text/plain": [
       "array([[1.816312  , 5.12393463, 5.80447137],\n",
       "       [2.18402855, 6.0647546 , 7.87542156],\n",
       "       [4.55168815, 4.92268242, 8.78869742]])"
      ]
     },
     "execution_count": 71,
     "metadata": {},
     "output_type": "execute_result"
    }
   ],
   "source": [
    "matrix_1.sort()\n",
    "matrix_1"
   ]
  },
  {
   "cell_type": "code",
   "execution_count": 72,
   "id": "322e82fa-265a-4860-9db5-71718f5e20b2",
   "metadata": {},
   "outputs": [
    {
     "data": {
      "text/plain": [
       "array([[1.816312  , 5.12393463, 5.80447137],\n",
       "       [2.18402855, 6.0647546 , 7.87542156],\n",
       "       [4.55168815, 4.92268242, 8.78869742]])"
      ]
     },
     "execution_count": 72,
     "metadata": {},
     "output_type": "execute_result"
    }
   ],
   "source": [
    "matrix_2.sort(axis=1)\n",
    "matrix_2"
   ]
  },
  {
   "cell_type": "code",
   "execution_count": 73,
   "id": "4dc0c433-78f8-40a0-b9fc-bd1686dc059a",
   "metadata": {},
   "outputs": [
    {
     "data": {
      "text/plain": [
       "array([[1.816312  , 4.92268242, 5.80447137],\n",
       "       [2.18402855, 5.12393463, 7.87542156],\n",
       "       [4.55168815, 6.0647546 , 8.78869742]])"
      ]
     },
     "execution_count": 73,
     "metadata": {},
     "output_type": "execute_result"
    }
   ],
   "source": [
    "matrix_2.sort(axis=0)\n",
    "matrix_2"
   ]
  },
  {
   "cell_type": "code",
   "execution_count": 74,
   "id": "3a6a9b5c-864f-4805-a238-d5cfdd4fba94",
   "metadata": {},
   "outputs": [
    {
     "data": {
      "text/plain": [
       "array([[7.15561157, 4.8615956 , 7.0854815 ],\n",
       "       [4.98140226, 8.44550079, 1.94342223],\n",
       "       [7.7332601 , 9.74258664, 8.62309777]])"
      ]
     },
     "execution_count": 74,
     "metadata": {},
     "output_type": "execute_result"
    }
   ],
   "source": [
    "matrix_1 = np.random.random((3,3))*10\n",
    "matrix_1"
   ]
  },
  {
   "cell_type": "code",
   "execution_count": 77,
   "id": "08d3089a-3cd0-4a0e-b2a4-35c09d86cfaf",
   "metadata": {},
   "outputs": [
    {
     "name": "stdout",
     "output_type": "stream",
     "text": [
      "2차원 배열의 첫 번째 행만 정렬 전 \n",
      ":[[7.15561157 4.8615956  7.0854815 ]\n",
      " [4.98140226 8.44550079 1.94342223]\n",
      " [7.7332601  9.74258664 8.62309777]]\n",
      "2차원 배열의 첫 번째 행만 정렬 후 \n",
      ":[[4.8615956  7.0854815  7.15561157]\n",
      " [4.98140226 8.44550079 1.94342223]\n",
      " [7.7332601  9.74258664 8.62309777]]\n"
     ]
    }
   ],
   "source": [
    "# 첫번째 행만 정렬\n",
    "print(f\"2차원 배열의 첫 번째 행만 정렬 전 \\n:{matrix_1}\")\n",
    "matrix_1[0,:].sort() # default axis = 1\n",
    "print(f\"2차원 배열의 첫 번째 행만 정렬 후 \\n:{matrix_1}\")\n",
    "      "
   ]
  },
  {
   "cell_type": "code",
   "execution_count": 76,
   "id": "5cef3aad-4000-44b9-bb5d-c1dc94fbe199",
   "metadata": {},
   "outputs": [
    {
     "data": {
      "text/plain": [
       "array([7.15561157, 4.8615956 , 7.0854815 ])"
      ]
     },
     "execution_count": 76,
     "metadata": {},
     "output_type": "execute_result"
    }
   ],
   "source": [
    "# 슬라이스를 이용해서 첫번째 행만 가져오기\n",
    "matrix_1[0,:]"
   ]
  },
  {
   "cell_type": "code",
   "execution_count": 81,
   "id": "d3a97317-bd43-4281-b047-43671fcf32ff",
   "metadata": {},
   "outputs": [
    {
     "name": "stdout",
     "output_type": "stream",
     "text": [
      "랜덤으로 생성된 2차원 배열 \n",
      " [[ 0.05334491 -1.5180287  -1.89304483 -0.78508653 -1.60529407]\n",
      " [ 1.43184023 -1.94219012  1.13995339 -0.61716593 -1.77555859]\n",
      " [-1.11820547 -1.60638701 -0.81467608  0.3212809  -0.12393044]\n",
      " [ 0.02212126 -0.32128651  0.69261805 -0.35352352  0.81228996]\n",
      " [-1.14178779 -0.28754879  1.31554171  0.68578051  0.52459879]]\n"
     ]
    }
   ],
   "source": [
    "# argsort : key를 기준으로 데이터를 정렬\n",
    "matrix_1 = np.random.randn(5,5)\n",
    "print(\"랜덤으로 생성된 2차원 배열 \\n\",matrix_1)"
   ]
  },
  {
   "cell_type": "code",
   "execution_count": 82,
   "id": "236ec768-6695-4838-909b-88ea78089876",
   "metadata": {},
   "outputs": [],
   "source": [
    "# key 가 되는 1차원 배열을 생성\n",
    "vector = np.array([5,3,1,2,4])"
   ]
  },
  {
   "cell_type": "code",
   "execution_count": 84,
   "id": "f06346e2-2c81-4a4e-93b4-b17f7cf16f93",
   "metadata": {},
   "outputs": [
    {
     "data": {
      "text/plain": [
       "array([2, 3, 1, 4, 0], dtype=int64)"
      ]
     },
     "execution_count": 84,
     "metadata": {},
     "output_type": "execute_result"
    }
   ],
   "source": [
    "np.array([5,3,1,2,4]).argsort()\n",
    "#         0 1 2 3 4\n",
    "#         1 2 3 4 5"
   ]
  },
  {
   "cell_type": "code",
   "execution_count": 83,
   "id": "3faa69d7-d850-44b8-a637-e0748d180fa0",
   "metadata": {},
   "outputs": [
    {
     "name": "stdout",
     "output_type": "stream",
     "text": [
      "matrix 배열에 첫 번째 열에 vector 배열의 요소값 대입:\n",
      "[[ 5.          3.          1.          2.          4.        ]\n",
      " [ 1.43184023 -1.94219012  1.13995339 -0.61716593 -1.77555859]\n",
      " [-1.11820547 -1.60638701 -0.81467608  0.3212809  -0.12393044]\n",
      " [ 0.02212126 -0.32128651  0.69261805 -0.35352352  0.81228996]\n",
      " [-1.14178779 -0.28754879  1.31554171  0.68578051  0.52459879]]\n"
     ]
    }
   ],
   "source": [
    "matrix_1[0] = vector\n",
    "print(f\"matrix 배열에 첫 번째 열에 vector 배열의 요소값 대입:\\n{matrix_1}\")"
   ]
  },
  {
   "cell_type": "code",
   "execution_count": 86,
   "id": "ecf2ddf7-673b-4c7f-a087-9a56ca7731eb",
   "metadata": {},
   "outputs": [
    {
     "name": "stdout",
     "output_type": "stream",
     "text": [
      "argsort()로 정렬된 배열\n",
      "[[ 1.          2.          3.          4.          5.        ]\n",
      " [ 1.13995339 -0.61716593 -1.94219012 -1.77555859  1.43184023]\n",
      " [-0.81467608  0.3212809  -1.60638701 -0.12393044 -1.11820547]\n",
      " [ 0.69261805 -0.35352352 -0.32128651  0.81228996  0.02212126]\n",
      " [ 1.31554171  0.68578051 -0.28754879  0.52459879 -1.14178779]]\n"
     ]
    }
   ],
   "source": [
    "# 주어진 하나 이상의 숫자(key)를 기준으로 데이터를 정렬할때 argsort() 사용\n",
    "print(f\"argsort()로 정렬된 배열\\n{matrix_1[ :, matrix_1[0].argsort() ] }\")"
   ]
  },
  {
   "cell_type": "code",
   "execution_count": 88,
   "id": "dd020f2c-b16a-4df8-9824-eeb4cf7c2ee3",
   "metadata": {},
   "outputs": [
    {
     "data": {
      "text/plain": [
       "array([[ 1.        ,  2.        ,  3.        ,  4.        ,  5.        ],\n",
       "       [ 1.13995339, -0.61716593, -1.94219012, -1.77555859,  1.43184023],\n",
       "       [-0.81467608,  0.3212809 , -1.60638701, -0.12393044, -1.11820547],\n",
       "       [ 0.69261805, -0.35352352, -0.32128651,  0.81228996,  0.02212126],\n",
       "       [ 1.31554171,  0.68578051, -0.28754879,  0.52459879, -1.14178779]])"
      ]
     },
     "execution_count": 88,
     "metadata": {},
     "output_type": "execute_result"
    }
   ],
   "source": [
    "matrix_1[ :, [2, 3, 1, 4, 0] ]"
   ]
  },
  {
   "cell_type": "code",
   "execution_count": 93,
   "id": "4080ad42-31f5-4dac-bde9-68ebd7ab6ad2",
   "metadata": {},
   "outputs": [
    {
     "data": {
      "text/plain": [
       "(array([[ 1.        ],\n",
       "        [ 1.13995339],\n",
       "        [-0.81467608],\n",
       "        [ 0.69261805],\n",
       "        [ 1.31554171]]),\n",
       " array([[ 2.        ],\n",
       "        [-0.61716593],\n",
       "        [ 0.3212809 ],\n",
       "        [-0.35352352],\n",
       "        [ 0.68578051]]))"
      ]
     },
     "execution_count": 93,
     "metadata": {},
     "output_type": "execute_result"
    }
   ],
   "source": [
    "matrix_1[ :, 2:3 ], matrix_1[ :, 3:4 ]"
   ]
  },
  {
   "cell_type": "code",
   "execution_count": 96,
   "id": "f3297947-b0b0-48af-a0e7-abf857765da7",
   "metadata": {},
   "outputs": [
    {
     "data": {
      "text/plain": [
       "array([[ 0.3464808 , -0.45487435,  0.19809488],\n",
       "       [ 0.39140807, -3.17786023, -0.95657514],\n",
       "       [-0.03127493,  1.03272369, -1.21561912]])"
      ]
     },
     "execution_count": 96,
     "metadata": {},
     "output_type": "execute_result"
    }
   ],
   "source": [
    "# 행렬 즉 매트릭스를 만들고... from ~ to 형태로 데이터 가져오는거 연습\n",
    "temp = np.random.randn(3,3)\n",
    "temp"
   ]
  },
  {
   "cell_type": "code",
   "execution_count": 100,
   "id": "95ebe7f7-9ae0-4c9e-9755-dc61ee2bf5fe",
   "metadata": {},
   "outputs": [
    {
     "data": {
      "text/plain": [
       "(0.3464808006324303,\n",
       " -0.4548743493949417,\n",
       " 0.1980948832062204,\n",
       " 0.1980948832062204)"
      ]
     },
     "execution_count": 100,
     "metadata": {},
     "output_type": "execute_result"
    }
   ],
   "source": [
    "temp[0,0], temp[0,1], temp[0,2], temp[0,-1]"
   ]
  },
  {
   "cell_type": "code",
   "execution_count": 104,
   "id": "cf97d5a8-5469-42aa-821c-0694485eab24",
   "metadata": {},
   "outputs": [
    {
     "data": {
      "text/plain": [
       "(array([ 0.3464808 , -0.45487435,  0.19809488]),\n",
       " array([ 0.3464808 , -0.45487435,  0.19809488]),\n",
       " array([ 0.3464808 , -0.45487435,  0.19809488]))"
      ]
     },
     "execution_count": 104,
     "metadata": {},
     "output_type": "execute_result"
    }
   ],
   "source": [
    "temp[0,(0,1,2) ],  temp[0, 0:3 ], temp[0, :3 ]"
   ]
  },
  {
   "cell_type": "code",
   "execution_count": 108,
   "id": "97e7bb1c-adc1-47ed-a983-73681e2eaa7a",
   "metadata": {},
   "outputs": [
    {
     "data": {
      "text/plain": [
       "(array([ 0.3464808 ,  0.39140807, -0.03127493]),\n",
       " array([ 0.3464808 ,  0.39140807, -0.03127493]),\n",
       " array([ 0.3464808 ,  0.39140807, -0.03127493]),\n",
       " array([ 0.3464808 ,  0.39140807, -0.03127493]))"
      ]
     },
     "execution_count": 108,
     "metadata": {},
     "output_type": "execute_result"
    }
   ],
   "source": [
    "temp[(0,1,2), 0], temp[0:3, 0], temp[:3, 0], temp[: , 0]"
   ]
  },
  {
   "cell_type": "markdown",
   "id": "dd9b8adf-7b23-4cff-bf6d-1a05126b83c6",
   "metadata": {},
   "source": [
    "# 배열의 크기 바꾸기"
   ]
  },
  {
   "cell_type": "code",
   "execution_count": 111,
   "id": "18132c81-0e0b-4fb8-a733-116ec7c36b15",
   "metadata": {},
   "outputs": [],
   "source": [
    "# 배열의 크기가  (5 , 4) 행렬 즉 matrix  데이터는 1 ~ 20\n",
    "data = np.zeros((5,4))\n",
    "count = 1\n",
    "for i in range(5):\n",
    "    for j in range(4):\n",
    "        data[i,j] = count\n",
    "        count += 1"
   ]
  },
  {
   "cell_type": "code",
   "execution_count": 112,
   "id": "e3e35c43-2902-4e8d-84d5-a44bbb37c512",
   "metadata": {},
   "outputs": [
    {
     "data": {
      "text/plain": [
       "array([[ 1.,  2.,  3.,  4.],\n",
       "       [ 5.,  6.,  7.,  8.],\n",
       "       [ 9., 10., 11., 12.],\n",
       "       [13., 14., 15., 16.],\n",
       "       [17., 18., 19., 20.]])"
      ]
     },
     "execution_count": 112,
     "metadata": {},
     "output_type": "execute_result"
    }
   ],
   "source": [
    "data"
   ]
  },
  {
   "cell_type": "code",
   "execution_count": 113,
   "id": "4bf58644-f6b5-4d29-a505-fbc59ef460ee",
   "metadata": {},
   "outputs": [],
   "source": [
    "# (4,5)  (2,10)"
   ]
  },
  {
   "cell_type": "code",
   "execution_count": 116,
   "id": "ef661fb2-ff8a-4dbc-9f92-11a2218a25dc",
   "metadata": {},
   "outputs": [
    {
     "data": {
      "text/plain": [
       "array([[ 1.,  2.,  3.,  4.],\n",
       "       [ 5.,  6.,  7.,  8.],\n",
       "       [ 9., 10., 11., 12.],\n",
       "       [13., 14., 15., 16.],\n",
       "       [17., 18., 19., 20.]])"
      ]
     },
     "execution_count": 116,
     "metadata": {},
     "output_type": "execute_result"
    }
   ],
   "source": [
    "# data가 리스트형태이면 넘파이로 변환\n",
    "# data = np.array(data)\n",
    "\n",
    "data.reshape(5,4)"
   ]
  },
  {
   "cell_type": "code",
   "execution_count": 118,
   "id": "3d20ba9e-e6cc-4a0e-b134-ce8cca486077",
   "metadata": {},
   "outputs": [
    {
     "name": "stdout",
     "output_type": "stream",
     "text": [
      "matrix size : 20\n",
      "matrix shape : (5, 4)\n"
     ]
    }
   ],
   "source": [
    "# 주의사항 배열의 크기를 변경할때는 행과 열의 수가 같아야 한다.\n",
    "# 따라서 함수 또는 shape 를 사용해서 크기를먼저 알아야 함\n",
    "print(f\"matrix size : {data.size}\")\n",
    "print(f\"matrix shape : {data.shape}\")"
   ]
  },
  {
   "cell_type": "code",
   "execution_count": 123,
   "id": "c885c508-c043-4d8a-a3ca-d959126867ec",
   "metadata": {},
   "outputs": [
    {
     "name": "stdout",
     "output_type": "stream",
     "text": [
      "reshape(1,-1)\n",
      " [[ 1.  2.  3.  4.  5.  6.  7.  8.  9. 10. 11. 12. 13. 14. 15. 16. 17. 18.\n",
      "  19. 20.]]\n",
      "reshape(1,20)\n",
      " [[ 1.  2.  3.  4.  5.  6.  7.  8.  9. 10. 11. 12. 13. 14. 15. 16. 17. 18.\n",
      "  19. 20.]]\n",
      "reshape(-1,20)\n",
      " [[ 1.  2.  3.  4.  5.  6.  7.  8.  9. 10. 11. 12. 13. 14. 15. 16. 17. 18.\n",
      "  19. 20.]]\n"
     ]
    }
   ],
   "source": [
    "# reshape 할때 자주 사용하는기능... -1   맨 마지막 한개...\n",
    "print(f\"reshape(1,-1)\\n {data.reshape(1,-1)}\")\n",
    "print(f\"reshape(1,20)\\n {data.reshape(1,20)}\")\n",
    "print(f\"reshape(-1,20)\\n {data.reshape(-1,20)}\")"
   ]
  },
  {
   "cell_type": "code",
   "execution_count": 129,
   "id": "a61863d6-11aa-4b69-83e8-cb67a695d9c1",
   "metadata": {},
   "outputs": [
    {
     "data": {
      "text/plain": [
       "array([[ 1.,  2.,  3.,  4.,  5.,  6.,  7.,  8.,  9., 10.],\n",
       "       [11., 12., 13., 14., 15., 16., 17., 18., 19., 20.]])"
      ]
     },
     "execution_count": 129,
     "metadata": {},
     "output_type": "execute_result"
    }
   ],
   "source": [
    "# row 2\n",
    "data.reshape(-1,10)"
   ]
  },
  {
   "cell_type": "markdown",
   "id": "9bcdf612-2808-4e97-8cfa-26c3ecfcb170",
   "metadata": {},
   "source": [
    "# 전치"
   ]
  },
  {
   "cell_type": "code",
   "execution_count": 132,
   "id": "5e41d799-cf6b-4164-89c3-c2d716c0726f",
   "metadata": {},
   "outputs": [
    {
     "data": {
      "text/plain": [
       "(numpy.ndarray,\n",
       " array([[ 1.,  2.,  3.,  4.],\n",
       "        [ 5.,  6.,  7.,  8.],\n",
       "        [ 9., 10., 11., 12.],\n",
       "        [13., 14., 15., 16.],\n",
       "        [17., 18., 19., 20.]]))"
      ]
     },
     "execution_count": 132,
     "metadata": {},
     "output_type": "execute_result"
    }
   ],
   "source": [
    "type(data), data"
   ]
  },
  {
   "cell_type": "code",
   "execution_count": 133,
   "id": "be40ab67-59b8-44bf-84e4-6e4b14e9bed6",
   "metadata": {},
   "outputs": [
    {
     "data": {
      "text/plain": [
       "array([[ 1.,  5.,  9., 13., 17.],\n",
       "       [ 2.,  6., 10., 14., 18.],\n",
       "       [ 3.,  7., 11., 15., 19.],\n",
       "       [ 4.,  8., 12., 16., 20.]])"
      ]
     },
     "execution_count": 133,
     "metadata": {},
     "output_type": "execute_result"
    }
   ],
   "source": [
    "data.T"
   ]
  },
  {
   "cell_type": "code",
   "execution_count": 134,
   "id": "5754fd5a-4384-4f47-9126-5b6cc7506f2c",
   "metadata": {},
   "outputs": [
    {
     "data": {
      "text/plain": [
       "array([[ 1.,  5.,  9., 13., 17.],\n",
       "       [ 2.,  6., 10., 14., 18.],\n",
       "       [ 3.,  7., 11., 15., 19.],\n",
       "       [ 4.,  8., 12., 16., 20.]])"
      ]
     },
     "execution_count": 134,
     "metadata": {},
     "output_type": "execute_result"
    }
   ],
   "source": [
    "data.transpose()"
   ]
  },
  {
   "cell_type": "code",
   "execution_count": 137,
   "id": "05387c29-faf0-4b26-a2e8-554eb707b42e",
   "metadata": {},
   "outputs": [
    {
     "data": {
      "text/plain": [
       "array([[ 1.,  5.,  9., 13., 17.],\n",
       "       [ 2.,  6., 10., 14., 18.],\n",
       "       [ 3.,  7., 11., 15., 19.],\n",
       "       [ 4.,  8., 12., 16., 20.]])"
      ]
     },
     "execution_count": 137,
     "metadata": {},
     "output_type": "execute_result"
    }
   ],
   "source": [
    "data.swapaxes(0,1)"
   ]
  },
  {
   "cell_type": "code",
   "execution_count": 138,
   "id": "69a851f4-5e8e-4d0d-b01d-255b36b571c2",
   "metadata": {},
   "outputs": [
    {
     "data": {
      "text/plain": [
       "array([[ 1.,  2.,  3.,  4.],\n",
       "       [ 5.,  6.,  7.,  8.],\n",
       "       [ 9., 10., 11., 12.],\n",
       "       [13., 14., 15., 16.],\n",
       "       [17., 18., 19., 20.]])"
      ]
     },
     "execution_count": 138,
     "metadata": {},
     "output_type": "execute_result"
    }
   ],
   "source": [
    "data  # 원본은 바뀌지 않는다."
   ]
  },
  {
   "cell_type": "code",
   "execution_count": 141,
   "id": "81b258e2-2ba7-4571-ab2f-f1d2d135a5c8",
   "metadata": {},
   "outputs": [
    {
     "data": {
      "text/plain": [
       "array([[ 1.,  2.,  3.,  4.,  5.,  6.,  7.,  8.,  9., 10., 11., 12., 13.,\n",
       "        14., 15., 16., 17., 18., 19., 20.]])"
      ]
     },
     "execution_count": 141,
     "metadata": {},
     "output_type": "execute_result"
    }
   ],
   "source": [
    "# [1,2,3,4,5,6,7,8,9,10,,,,,,]\n",
    "data.reshape(1,-1)"
   ]
  },
  {
   "cell_type": "code",
   "execution_count": 145,
   "id": "a6647e43-6aff-4e51-8f2c-bd1b79ca53cb",
   "metadata": {},
   "outputs": [
    {
     "data": {
      "text/plain": [
       "array([ 1.,  2.,  3.,  4.,  5.,  6.,  7.,  8.,  9., 10., 11., 12., 13.,\n",
       "       14., 15., 16., 17., 18., 19., 20.])"
      ]
     },
     "execution_count": 145,
     "metadata": {},
     "output_type": "execute_result"
    }
   ],
   "source": [
    "data.reshape(1,-1)[0]"
   ]
  },
  {
   "cell_type": "code",
   "execution_count": 144,
   "id": "9349f99d-7d9e-4381-9689-133ef7e1cf0c",
   "metadata": {},
   "outputs": [
    {
     "data": {
      "text/plain": [
       "array([ 1.,  2.,  3.,  4.,  5.,  6.,  7.,  8.,  9., 10., 11., 12., 13.,\n",
       "       14., 15., 16., 17., 18., 19., 20.])"
      ]
     },
     "execution_count": 144,
     "metadata": {},
     "output_type": "execute_result"
    }
   ],
   "source": [
    "data.flatten()"
   ]
  },
  {
   "cell_type": "code",
   "execution_count": 148,
   "id": "36230d22-33bb-4689-b733-dcd31269c17c",
   "metadata": {},
   "outputs": [
    {
     "data": {
      "text/plain": [
       "array([0., 0., 0., 0., 0., 0., 0., 0., 0., 0., 0., 0., 0., 0., 0., 0., 0.,\n",
       "       0., 0., 0., 0., 0., 0., 0., 0., 0., 0., 0., 0., 0., 0., 0., 0., 0.,\n",
       "       0., 0., 0., 0., 0., 0., 0., 0., 0., 0., 0., 0., 0., 0., 0., 0., 0.,\n",
       "       0., 0., 0., 0., 0., 0., 0., 0., 0.])"
      ]
     },
     "execution_count": 148,
     "metadata": {},
     "output_type": "execute_result"
    }
   ],
   "source": [
    "# flatten() 함수는 데이터를 1차원 데이터로 손쉽게 만들어 준다.\n",
    "np.zeros((10,2,3)).flatten()"
   ]
  },
  {
   "cell_type": "code",
   "execution_count": 149,
   "id": "4ffab294-5434-4358-948b-d6a7338f9e27",
   "metadata": {},
   "outputs": [],
   "source": [
    "# sample 함수\n",
    "from random import sample"
   ]
  },
  {
   "cell_type": "code",
   "execution_count": 152,
   "id": "6eef5c20-86fd-45f8-a950-1fc811499866",
   "metadata": {},
   "outputs": [
    {
     "data": {
      "text/plain": [
       "[4, 3, 5]"
      ]
     },
     "execution_count": 152,
     "metadata": {},
     "output_type": "execute_result"
    }
   ],
   "source": [
    "sample([1,2,3,4,5,6,7], 3)"
   ]
  },
  {
   "cell_type": "code",
   "execution_count": 153,
   "id": "d3d8f534-be74-422a-a78e-e60b33db822d",
   "metadata": {},
   "outputs": [
    {
     "data": {
      "text/plain": [
       "array([3, 6, 2])"
      ]
     },
     "execution_count": 153,
     "metadata": {},
     "output_type": "execute_result"
    }
   ],
   "source": [
    "np.random.choice([1,2,3,4,5,6,7],3)"
   ]
  },
  {
   "cell_type": "markdown",
   "id": "9c465048-6a03-44b3-ae1c-8a2d7053f8b8",
   "metadata": {},
   "source": [
    "# 넘파이 산술 연산과 선형대수"
   ]
  },
  {
   "cell_type": "code",
   "execution_count": 157,
   "id": "867a9107-b5f4-47fd-a03f-9fd600cee8f0",
   "metadata": {},
   "outputs": [
    {
     "data": {
      "text/plain": [
       "((3, 3), (3, 3))"
      ]
     },
     "execution_count": 157,
     "metadata": {},
     "output_type": "execute_result"
    }
   ],
   "source": [
    "# 넘파이 2차원 배열 2개.. 각각 (3,3)  (3,3)\n",
    "m1 = np.array([\n",
    "    [1,2,3],[4,5,6],[7,8,9]\n",
    "])\n",
    "\n",
    "# m2  0~20중에서 임의로\n",
    "m2 = np.array(sample(range(20), 9))\n",
    "m2 = m2.reshape(3,3)\n",
    "# 각각의 메트릭스(행렬) 모양을 확인\n",
    "m1.shape, m2.shape"
   ]
  },
  {
   "cell_type": "code",
   "execution_count": 158,
   "id": "a1fa5fb5-170a-4751-937c-5f401fc49df2",
   "metadata": {},
   "outputs": [
    {
     "data": {
      "text/plain": [
       "(array([[1, 2, 3],\n",
       "        [4, 5, 6],\n",
       "        [7, 8, 9]]),\n",
       " array([[ 2, 15, 11],\n",
       "        [18, 19,  5],\n",
       "        [16, 10,  6]]))"
      ]
     },
     "execution_count": 158,
     "metadata": {},
     "output_type": "execute_result"
    }
   ],
   "source": [
    "m1, m2"
   ]
  },
  {
   "cell_type": "code",
   "execution_count": 159,
   "id": "9824a23b-e6ae-4b55-b44d-af2629e16fb2",
   "metadata": {},
   "outputs": [],
   "source": [
    "# list vs numpy"
   ]
  },
  {
   "cell_type": "code",
   "execution_count": 160,
   "id": "40d48e31-2cde-41b3-8ef9-f11d6d422d0d",
   "metadata": {},
   "outputs": [
    {
     "ename": "TypeError",
     "evalue": "can only concatenate list (not \"int\") to list",
     "output_type": "error",
     "traceback": [
      "\u001b[1;31m---------------------------------------------------------------------------\u001b[0m",
      "\u001b[1;31mTypeError\u001b[0m                                 Traceback (most recent call last)",
      "Cell \u001b[1;32mIn[160], line 2\u001b[0m\n\u001b[0;32m      1\u001b[0m list_1 \u001b[38;5;241m=\u001b[39m [\u001b[38;5;241m1\u001b[39m,\u001b[38;5;241m2\u001b[39m,\u001b[38;5;241m3\u001b[39m,\u001b[38;5;241m4\u001b[39m,\u001b[38;5;241m5\u001b[39m]\n\u001b[1;32m----> 2\u001b[0m \u001b[43mlist_1\u001b[49m\u001b[43m \u001b[49m\u001b[38;5;241;43m+\u001b[39;49m\u001b[43m \u001b[49m\u001b[38;5;241;43m2\u001b[39;49m\n",
      "\u001b[1;31mTypeError\u001b[0m: can only concatenate list (not \"int\") to list"
     ]
    }
   ],
   "source": [
    "list_1 = [1,2,3,4,5]\n",
    "list_1 + 2"
   ]
  },
  {
   "cell_type": "code",
   "execution_count": 161,
   "id": "025e8509-b727-4829-aea7-ec1c27ded501",
   "metadata": {},
   "outputs": [
    {
     "data": {
      "text/plain": [
       "(array([[1, 2, 3],\n",
       "        [4, 5, 6],\n",
       "        [7, 8, 9]]),\n",
       " array([[ 3,  4,  5],\n",
       "        [ 6,  7,  8],\n",
       "        [ 9, 10, 11]]))"
      ]
     },
     "execution_count": 161,
     "metadata": {},
     "output_type": "execute_result"
    }
   ],
   "source": [
    "m1,   m1+2"
   ]
  },
  {
   "cell_type": "code",
   "execution_count": 162,
   "id": "832f31f9-a0d0-4571-9fc2-61817439308b",
   "metadata": {},
   "outputs": [],
   "source": [
    "# 나머지 4칙연산은 직접 해 보세요.."
   ]
  },
  {
   "cell_type": "code",
   "execution_count": 163,
   "id": "bd746dde-1871-40de-bda9-4021bd0b1eb5",
   "metadata": {},
   "outputs": [],
   "source": [
    "# 매트릭스 끼리 연산"
   ]
  },
  {
   "cell_type": "code",
   "execution_count": 165,
   "id": "d9f4c8f8-0fe6-4106-8604-a9d2e264d0ab",
   "metadata": {},
   "outputs": [
    {
     "data": {
      "text/plain": [
       "(array([[1, 2, 3],\n",
       "        [4, 5, 6],\n",
       "        [7, 8, 9]]),\n",
       " array([[ 2, 15, 11],\n",
       "        [18, 19,  5],\n",
       "        [16, 10,  6]]),\n",
       " array([[ 3, 17, 14],\n",
       "        [22, 24, 11],\n",
       "        [23, 18, 15]]))"
      ]
     },
     "execution_count": 165,
     "metadata": {},
     "output_type": "execute_result"
    }
   ],
   "source": [
    "m1, m2, m1 + m2"
   ]
  },
  {
   "cell_type": "code",
   "execution_count": 166,
   "id": "5a3a40e1-e603-4004-a23c-ce2370a6eb9d",
   "metadata": {},
   "outputs": [],
   "source": [
    "# (3,3)  + [x,x,x]  : 행렬 + 벡터  (3,3) + (3,0)"
   ]
  },
  {
   "cell_type": "code",
   "execution_count": 174,
   "id": "440a63ef-13ee-4810-8172-a115122b8f49",
   "metadata": {},
   "outputs": [
    {
     "data": {
      "text/plain": [
       "(array([[1, 2, 3],\n",
       "        [4, 5, 6],\n",
       "        [7, 8, 9]]),\n",
       " array([[ 2,  2,  4],\n",
       "        [ 5,  5,  7],\n",
       "        [ 8,  8, 10]]))"
      ]
     },
     "execution_count": 174,
     "metadata": {},
     "output_type": "execute_result"
    }
   ],
   "source": [
    "m1, m1 + [1,0,1]"
   ]
  },
  {
   "cell_type": "code",
   "execution_count": 175,
   "id": "8d721356-0fa3-4803-8078-6e1695e0768a",
   "metadata": {},
   "outputs": [
    {
     "data": {
      "text/plain": [
       "(array([[1, 2, 3],\n",
       "        [4, 5, 6],\n",
       "        [7, 8, 9]]),\n",
       " array([[ 2,  3,  4],\n",
       "        [ 4,  5,  6],\n",
       "        [ 8,  9, 10]]))"
      ]
     },
     "execution_count": 175,
     "metadata": {},
     "output_type": "execute_result"
    }
   ],
   "source": [
    "# (3,3)  + (3,1)\n",
    "m1,  m1 + [ [1],[0],[1]]"
   ]
  },
  {
   "cell_type": "code",
   "execution_count": 176,
   "id": "27b9dd6a-d128-49de-9c20-93af2976f453",
   "metadata": {},
   "outputs": [
    {
     "ename": "ValueError",
     "evalue": "operands could not be broadcast together with shapes (3,3) (2,3) ",
     "output_type": "error",
     "traceback": [
      "\u001b[1;31m---------------------------------------------------------------------------\u001b[0m",
      "\u001b[1;31mValueError\u001b[0m                                Traceback (most recent call last)",
      "Cell \u001b[1;32mIn[176], line 2\u001b[0m\n\u001b[0;32m      1\u001b[0m \u001b[38;5;66;03m# (3,3)  + (2,3)\u001b[39;00m\n\u001b[1;32m----> 2\u001b[0m m1,  \u001b[43mm1\u001b[49m\u001b[43m \u001b[49m\u001b[38;5;241;43m+\u001b[39;49m\u001b[43m \u001b[49m\u001b[43m[\u001b[49m\u001b[43m \u001b[49m\u001b[43m[\u001b[49m\u001b[38;5;241;43m1\u001b[39;49m\u001b[43m,\u001b[49m\u001b[38;5;241;43m1\u001b[39;49m\u001b[43m,\u001b[49m\u001b[38;5;241;43m1\u001b[39;49m\u001b[43m]\u001b[49m\u001b[43m,\u001b[49m\u001b[43m[\u001b[49m\u001b[38;5;241;43m1\u001b[39;49m\u001b[43m,\u001b[49m\u001b[38;5;241;43m1\u001b[39;49m\u001b[43m,\u001b[49m\u001b[38;5;241;43m1\u001b[39;49m\u001b[43m]\u001b[49m\u001b[43m]\u001b[49m\n",
      "\u001b[1;31mValueError\u001b[0m: operands could not be broadcast together with shapes (3,3) (2,3) "
     ]
    }
   ],
   "source": [
    "# (3,3)  + (2,3)\n",
    "m1,  m1 + [ [1,1,1],[1,1,1]]"
   ]
  },
  {
   "cell_type": "code",
   "execution_count": 177,
   "id": "004210a4-5da7-4bba-bbf0-b7279e2140b4",
   "metadata": {},
   "outputs": [
    {
     "ename": "ValueError",
     "evalue": "operands could not be broadcast together with shapes (3,3) (3,2) ",
     "output_type": "error",
     "traceback": [
      "\u001b[1;31m---------------------------------------------------------------------------\u001b[0m",
      "\u001b[1;31mValueError\u001b[0m                                Traceback (most recent call last)",
      "Cell \u001b[1;32mIn[177], line 2\u001b[0m\n\u001b[0;32m      1\u001b[0m \u001b[38;5;66;03m# (3,3)  + (3,2)\u001b[39;00m\n\u001b[1;32m----> 2\u001b[0m m1,  \u001b[43mm1\u001b[49m\u001b[43m \u001b[49m\u001b[38;5;241;43m+\u001b[39;49m\u001b[43m \u001b[49m\u001b[43m[\u001b[49m\u001b[43m \u001b[49m\u001b[43m[\u001b[49m\u001b[38;5;241;43m1\u001b[39;49m\u001b[43m,\u001b[49m\u001b[38;5;241;43m1\u001b[39;49m\u001b[43m]\u001b[49m\u001b[43m,\u001b[49m\u001b[43m[\u001b[49m\u001b[38;5;241;43m1\u001b[39;49m\u001b[43m,\u001b[49m\u001b[38;5;241;43m1\u001b[39;49m\u001b[43m]\u001b[49m\u001b[43m,\u001b[49m\u001b[43m[\u001b[49m\u001b[38;5;241;43m1\u001b[39;49m\u001b[43m,\u001b[49m\u001b[38;5;241;43m1\u001b[39;49m\u001b[43m]\u001b[49m\u001b[43m]\u001b[49m\n",
      "\u001b[1;31mValueError\u001b[0m: operands could not be broadcast together with shapes (3,3) (3,2) "
     ]
    }
   ],
   "source": [
    "# (3,3)  + (3,2)\n",
    "m1,  m1 + [ [1,1],[1,1],[1,1]]"
   ]
  },
  {
   "cell_type": "code",
   "execution_count": 179,
   "id": "a35d975a-ba1d-44ec-9d3b-a14d2addce92",
   "metadata": {},
   "outputs": [],
   "source": [
    "# 행렬 내적.. dot\n",
    "# shape의 모양이 중요하다... 공식...\n",
    "# (3,3) dot (3, 1)    (3,1)"
   ]
  },
  {
   "cell_type": "code",
   "execution_count": 185,
   "id": "284b7918-d4f2-4b99-b254-4ad0532881b1",
   "metadata": {},
   "outputs": [
    {
     "data": {
      "text/plain": [
       "(array([[ 86,  83,  39],\n",
       "        [194, 215, 105],\n",
       "        [302, 347, 171]]),\n",
       " array([[ 86,  83,  39],\n",
       "        [194, 215, 105],\n",
       "        [302, 347, 171]]),\n",
       " array([[ 86,  83,  39],\n",
       "        [194, 215, 105],\n",
       "        [302, 347, 171]]))"
      ]
     },
     "execution_count": 185,
     "metadata": {},
     "output_type": "execute_result"
    }
   ],
   "source": [
    "np.dot(m1,m2), np.matmul(m1,m2), m1@m2"
   ]
  },
  {
   "cell_type": "code",
   "execution_count": 184,
   "id": "9e246ed2-e701-4a14-8e35-1f20c57eeb56",
   "metadata": {},
   "outputs": [
    {
     "data": {
      "text/plain": [
       "array([[ 86,  83,  39],\n",
       "       [194, 215, 105],\n",
       "       [302, 347, 171]])"
      ]
     },
     "execution_count": 184,
     "metadata": {},
     "output_type": "execute_result"
    }
   ],
   "source": [
    "# 파이썬 버전 3.5 이상\n",
    "m1@m2"
   ]
  },
  {
   "cell_type": "code",
   "execution_count": null,
   "id": "e3f506b6-b15b-44b7-adf1-c1d83834994d",
   "metadata": {},
   "outputs": [],
   "source": []
  }
 ],
 "metadata": {
  "kernelspec": {
   "display_name": "Python 3 (ipykernel)",
   "language": "python",
   "name": "python3"
  },
  "language_info": {
   "codemirror_mode": {
    "name": "ipython",
    "version": 3
   },
   "file_extension": ".py",
   "mimetype": "text/x-python",
   "name": "python",
   "nbconvert_exporter": "python",
   "pygments_lexer": "ipython3",
   "version": "3.10.8"
  }
 },
 "nbformat": 4,
 "nbformat_minor": 5
}
