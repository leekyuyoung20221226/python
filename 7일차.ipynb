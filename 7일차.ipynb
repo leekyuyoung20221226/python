{
 "cells": [
  {
   "cell_type": "code",
   "execution_count": 1,
   "id": "d36378b0-2caa-43d1-88e9-9c899910b542",
   "metadata": {},
   "outputs": [],
   "source": [
    "# 객체지향(Object Oriented Programming, OOP)\n",
    "# 객체, 클래스\n",
    "# 객체 : Object, 클래스를 인스턴스화 한것\n",
    "# 객체 와 인스턴스 같은 의미로 해석\n",
    "\n",
    "# 객체(인스턴스) -- > 클래스로 만드는 변수\n",
    "# list_a = [1,2,3,4,5]"
   ]
  },
  {
   "cell_type": "code",
   "execution_count": 6,
   "id": "20ac0fa2-c94b-4f75-b5df-d30af3334e40",
   "metadata": {},
   "outputs": [],
   "source": [
    "# 클래스 : 함수와 변수 ( 상태, method)\n",
    "# function vs method  -> 기능과 생성방식은 동일\n",
    "# 단독으로 사용(비 클래스)   vs 클래스에서 정의된 함수\n",
    "# 만드는 방법\n",
    "class MyClass(object): \n",
    "    pass\n",
    "\n",
    "def myFunction(name,position,back_number):\n",
    "    pass"
   ]
  },
  {
   "cell_type": "code",
   "execution_count": 31,
   "id": "e062b83b-dd2f-4d82-a0dc-1065b141489e",
   "metadata": {},
   "outputs": [],
   "source": [
    "# 특정사건(이벤트)이 발생했을때 호출되는 함수를 callback함수\n",
    "# 클래스는 맴버를 갖는데.\n",
    "# 맴버는 메소드와 변수\n",
    "class SoccerPlayer(object):\n",
    "    def __init__(self, name,position,back_number):  # 생성자 객체생성시 자동으로 호출-> 객체생성\n",
    "        print(\"__init__ 호출됨\")\n",
    "        self.name = name\n",
    "        self.position = position\n",
    "        self.back_number = back_number\n",
    "    def change_back_number(self, new_number):\n",
    "        self.back_number = new_number   \n",
    "    def __str__(self):  # 객체자체를 출력할때 호출\n",
    "        print(\"__str__ 호출...\")  \n",
    "        return \"\"\n",
    "        "
   ]
  },
  {
   "cell_type": "code",
   "execution_count": 32,
   "id": "18a760af-c30a-4c5d-b447-aee3a0cf2dc9",
   "metadata": {},
   "outputs": [
    {
     "name": "stdout",
     "output_type": "stream",
     "text": [
      "__init__ 호출됨\n"
     ]
    }
   ],
   "source": [
    "# SoccerPlayer()  객체 생성시 호출되는 생성자\n",
    "sp = SoccerPlayer('손홍민','윙어','7')"
   ]
  },
  {
   "cell_type": "code",
   "execution_count": 33,
   "id": "347405f5-0d90-4daf-80a5-1429108c1f00",
   "metadata": {},
   "outputs": [
    {
     "name": "stdout",
     "output_type": "stream",
     "text": [
      "__str__ 호출...\n",
      "\n"
     ]
    }
   ],
   "source": [
    "print(sp)"
   ]
  },
  {
   "cell_type": "code",
   "execution_count": 18,
   "id": "624851f4-b721-423e-8b43-999796992018",
   "metadata": {},
   "outputs": [],
   "source": [
    "sp.name = '황희찬'"
   ]
  },
  {
   "cell_type": "code",
   "execution_count": 22,
   "id": "f6b92c2b-c74b-47c0-93a3-c5a03086c943",
   "metadata": {},
   "outputs": [
    {
     "name": "stdout",
     "output_type": "stream",
     "text": [
      "__init__ 호출됨\n"
     ]
    }
   ],
   "source": [
    "sp2 = SoccerPlayer('abc','공격수','1')"
   ]
  },
  {
   "cell_type": "code",
   "execution_count": 23,
   "id": "3a9b975b-3ee1-4bc0-99b3-41b915bd6e89",
   "metadata": {},
   "outputs": [
    {
     "data": {
      "text/plain": [
       "('손홍민', 'abc')"
      ]
     },
     "execution_count": 23,
     "metadata": {},
     "output_type": "execute_result"
    }
   ],
   "source": [
    "sp.name, sp2.name"
   ]
  },
  {
   "cell_type": "code",
   "execution_count": 26,
   "id": "f248781f-e8ec-4a0a-9cd1-1d85cdf86f09",
   "metadata": {},
   "outputs": [
    {
     "name": "stdout",
     "output_type": "stream",
     "text": [
      "hello world\n",
      "hello world\n",
      "hello world\n",
      "hello world\n",
      "hello world\n",
      "hello world\n",
      "hello world\n",
      "hello world\n",
      "hello world\n",
      "hello world\n"
     ]
    }
   ],
   "source": [
    "for _ in range(10):\n",
    "    print('hello world')"
   ]
  },
  {
   "cell_type": "code",
   "execution_count": 34,
   "id": "eff7f73d-b8d9-41b9-b2f1-2cc2b410818a",
   "metadata": {},
   "outputs": [],
   "source": [
    "# 클래스설계\n",
    "# 생성자에 대한 이해 (__init__)\n",
    "# 내장메소드에 해한 이해(ex  __str__ )"
   ]
  },
  {
   "cell_type": "code",
   "execution_count": 98,
   "id": "86637b08-b82f-4acc-8488-4be5eeebf1a6",
   "metadata": {},
   "outputs": [],
   "source": [
    "from datetime import datetime\n",
    "class Person():\n",
    "#     birth_y_m : 2000-10\n",
    "    def __init__(self,name='',birth_y_m='',address=''):\n",
    "        self.name = name    \n",
    "        self.birth_y_m = birth_y_m    \n",
    "        self.address = address    \n",
    "\n",
    "        # 사람나이 계산을 올해 - 태어난 해, 생일이 안 지났으면 -1 지났으면 \n",
    "    def getAge(self):\n",
    "        myyear =  datetime.today().year - int(self.birth_y_m[:4])\n",
    "        month = int(self.birth_y_m[-2:])        \n",
    "        if datetime.today().month > month:\n",
    "            return myyear\n",
    "        else:\n",
    "            return myyear-1\n",
    "    \n",
    "    def __str__(self):\n",
    "        return f\"name[{self.name}] birth_y_m[{self.birth_y_m}] address[{self.address}]\"\n",
    "    "
   ]
  },
  {
   "cell_type": "code",
   "execution_count": 99,
   "id": "55caea89-c2f9-489e-b87e-19ac796c8209",
   "metadata": {},
   "outputs": [
    {
     "name": "stdout",
     "output_type": "stream",
     "text": [
      "False\n"
     ]
    },
    {
     "data": {
      "text/plain": [
       "22"
      ]
     },
     "execution_count": 99,
     "metadata": {},
     "output_type": "execute_result"
    }
   ],
   "source": [
    "p = Person('홍길동','2000-10','서울시')\n",
    "p.getAge()"
   ]
  },
  {
   "cell_type": "code",
   "execution_count": 85,
   "id": "57042752-db0a-465d-a0d2-bbb47ec9489f",
   "metadata": {},
   "outputs": [
    {
     "name": "stdout",
     "output_type": "stream",
     "text": [
      "name[홍길동] birth_y_m[2000-10] address[서울시]\n"
     ]
    }
   ],
   "source": [
    "print(p)"
   ]
  },
  {
   "cell_type": "code",
   "execution_count": null,
   "id": "104b3bbb-52ab-4386-8266-32f79ee4c71d",
   "metadata": {},
   "outputs": [],
   "source": [
    "# 사람나이 계산을 올해 - 태어난 해, 생일이 안 지났으면 -1 지났으면 "
   ]
  },
  {
   "cell_type": "code",
   "execution_count": 87,
   "id": "f788e5ec-4de0-4b74-ab9e-4d20831e1145",
   "metadata": {},
   "outputs": [
    {
     "data": {
      "text/plain": [
       "datetime.datetime(2023, 1, 3, 20, 20, 47, 48179)"
      ]
     },
     "execution_count": 87,
     "metadata": {},
     "output_type": "execute_result"
    }
   ],
   "source": [
    "from datetime import datetime\n",
    "datetime.today()"
   ]
  },
  {
   "cell_type": "code",
   "execution_count": 90,
   "id": "e1390bae-c52e-4702-90d4-02aefa932420",
   "metadata": {},
   "outputs": [
    {
     "data": {
      "text/plain": [
       "(2013, 1)"
      ]
     },
     "execution_count": 90,
     "metadata": {},
     "output_type": "execute_result"
    }
   ],
   "source": [
    "datetime.today().year, datetime.today().month"
   ]
  },
  {
   "cell_type": "code",
   "execution_count": 100,
   "id": "b767f317-3c2f-4116-b5f7-e711c9141c01",
   "metadata": {},
   "outputs": [],
   "source": [
    "names = ['홍길동','철이','미애']\n",
    "position = ['MF','DF','GK']\n",
    "numbers = [10,5,4]"
   ]
  },
  {
   "cell_type": "code",
   "execution_count": 102,
   "id": "cb4941db-b2da-4703-b53c-422107264a58",
   "metadata": {},
   "outputs": [],
   "source": [
    "players = list(zip(names,position,numbers))"
   ]
  },
  {
   "cell_type": "code",
   "execution_count": 103,
   "id": "c503ed53-2b29-4444-bccc-883e545dff42",
   "metadata": {},
   "outputs": [
    {
     "data": {
      "text/plain": [
       "[('홍길동', 'MF', 10), ('철이', 'DF', 5), ('미애', 'GK', 4)]"
      ]
     },
     "execution_count": 103,
     "metadata": {},
     "output_type": "execute_result"
    }
   ],
   "source": [
    "players"
   ]
  },
  {
   "cell_type": "code",
   "execution_count": 104,
   "id": "a6dbd457-4582-487d-9406-79f17be11cb5",
   "metadata": {},
   "outputs": [],
   "source": [
    "# 클래스 명세서\n",
    "# 클래스명 : Rectangle\n",
    "# 인스턴스 변수 : width, heigh\n",
    "# 메소드 : \n",
    "#     면적 계산 메소드명 : getArea    \n",
    "#         width*height\n",
    "#     둘례 계산 메소드명 : getSize\n",
    "#         2*width  + 2*height"
   ]
  },
  {
   "cell_type": "code",
   "execution_count": 106,
   "id": "49925f75-8cd8-4282-8c57-74ee53688fc7",
   "metadata": {},
   "outputs": [],
   "source": [
    "class Rectangle():\n",
    "    def __init__(self, width=0, height=0):\n",
    "        self.width = width\n",
    "        self.height = height\n",
    "    def getArea(self):\n",
    "        return self.width * self.height\n",
    "    def getSize(self):\n",
    "        return 2*self.width + 2*self.height\n",
    "    def __str__(self):\n",
    "        return f\"width : {self.width} height : {self.height}\""
   ]
  },
  {
   "cell_type": "code",
   "execution_count": 107,
   "id": "9855c0e1-4f64-4ffa-93d3-4bd3c47ae854",
   "metadata": {},
   "outputs": [
    {
     "name": "stdout",
     "output_type": "stream",
     "text": [
      "width : 2 height : 2\n"
     ]
    }
   ],
   "source": [
    "r1 = Rectangle(2,2)\n",
    "print(r1)"
   ]
  },
  {
   "cell_type": "code",
   "execution_count": 109,
   "id": "8a9e3734-ff53-43be-b957-7b3882001b4a",
   "metadata": {},
   "outputs": [
    {
     "data": {
      "text/plain": [
       "(4, 8)"
      ]
     },
     "execution_count": 109,
     "metadata": {},
     "output_type": "execute_result"
    }
   ],
   "source": [
    "r1.getArea(), r1.getSize()"
   ]
  },
  {
   "cell_type": "code",
   "execution_count": 110,
   "id": "5f1bb55b-e83c-4b13-8ad0-bb51dff69e50",
   "metadata": {},
   "outputs": [],
   "source": [
    "# 노트북 프로그램\n",
    "# 노트를 정리하는 프로그램\n",
    "# 사용자는 노트에 콘텐츠를 적을 수 있다\n",
    "# 노트는 노트북에 삽입된다.\n",
    "# 노트북의 타이틀이 있다\n",
    "# 노트북은 노트가 삽입될때 페이지를 생성하고, 최대 300페이지까지 저장가능\n",
    "# 300페이지를 넘으면 노트를 더는 삽입하지 못한다\n",
    "\n",
    "#               Notebook                        Note\n",
    "# method     add_note                         write_content\n",
    "#            remove_note                      remove_all\n",
    "#            get_number_of_pages\n",
    "\n",
    "# 변수       title\n",
    "#            page_number                      contents        \n",
    "#            note"
   ]
  },
  {
   "cell_type": "code",
   "execution_count": 111,
   "id": "6b879ab4-6343-42a8-b0b5-fa2e134275d3",
   "metadata": {},
   "outputs": [],
   "source": [
    "class Note():\n",
    "    def __init__(self, content=None):\n",
    "        self.content = content\n",
    "    def write_content(self,content):\n",
    "        self.content = content\n",
    "    def remove_all(self):\n",
    "        self.content = None        "
   ]
  },
  {
   "cell_type": "code",
   "execution_count": 173,
   "id": "2748b022-64a0-4cd5-af8d-166de12a4ddf",
   "metadata": {},
   "outputs": [],
   "source": [
    "# 중간에 빠진페이지에 내용 삽입기능 없음\n",
    "class NoteBook():\n",
    "    def __init__(self, title=''):\n",
    "        self.title = title\n",
    "        self.page_number = 1\n",
    "        self.note = {}\n",
    "    def add_note(self, note):\n",
    "        if len(self.note) > 300:\n",
    "            print('더이상 기록할 노트가 없습니다.')\n",
    "            return              \n",
    "        self.note[self.page_number] = note.content\n",
    "        self.page_number += 1\n",
    "    def remove_note(self,page_number):\n",
    "        if page_number in  self.note.keys():\n",
    "            self.note.pop(page_number)\n",
    "        else:\n",
    "            print('해당 페이지가 존재하지 않습니다.')\n",
    "    def searchEmptyPageNum(self):\n",
    "        pass         \n",
    "            \n",
    "        \n",
    "        "
   ]
  },
  {
   "cell_type": "code",
   "execution_count": 174,
   "id": "1fba3610-7168-4f0a-b3b1-680c4429e3d8",
   "metadata": {},
   "outputs": [],
   "source": [
    "# 노트북 만들기\n",
    "notebook = NoteBook('연습용 노트북')"
   ]
  },
  {
   "cell_type": "code",
   "execution_count": 175,
   "id": "0cbdd42a-b696-428a-9347-d393fcf66df4",
   "metadata": {},
   "outputs": [
    {
     "data": {
      "text/plain": [
       "'오늘은 인공지능을 배웠어요... !!'"
      ]
     },
     "execution_count": 175,
     "metadata": {},
     "output_type": "execute_result"
    }
   ],
   "source": [
    "note = Note('오늘은 인공지능을 배웠어요... !!')\n",
    "note.content"
   ]
  },
  {
   "cell_type": "code",
   "execution_count": 176,
   "id": "3fa843e4-5458-4a44-b90d-2b6cdb7c317e",
   "metadata": {},
   "outputs": [],
   "source": [
    "for _ in range(10):\n",
    "    notebook.add_note(note)"
   ]
  },
  {
   "cell_type": "code",
   "execution_count": 179,
   "id": "4eba3eff-3467-4b4d-9f63-ebba333927aa",
   "metadata": {},
   "outputs": [],
   "source": [
    "note.content = '집에 갑시다'"
   ]
  },
  {
   "cell_type": "code",
   "execution_count": 180,
   "id": "9b999e91-83d2-42c8-8c44-d6a5868ef972",
   "metadata": {},
   "outputs": [
    {
     "name": "stdout",
     "output_type": "stream",
     "text": [
      "오늘은 인공지능을 배웠어요... !!\n",
      "오늘은 인공지능을 배웠어요... !!\n",
      "오늘은 인공지능을 배웠어요... !!\n",
      "오늘은 인공지능을 배웠어요... !!\n",
      "오늘은 인공지능을 배웠어요... !!\n",
      "오늘은 인공지능을 배웠어요... !!\n",
      "오늘은 인공지능을 배웠어요... !!\n",
      "오늘은 인공지능을 배웠어요... !!\n",
      "오늘은 인공지능을 배웠어요... !!\n",
      "오늘은 인공지능을 배웠어요... !!\n"
     ]
    }
   ],
   "source": [
    "for key, value in notebook.note.items():\n",
    "    print(value)"
   ]
  },
  {
   "cell_type": "code",
   "execution_count": 183,
   "id": "a5c4843f-0b99-4973-abf9-0f35ca8da845",
   "metadata": {},
   "outputs": [],
   "source": [
    "notebook.note[1] = 'abc'"
   ]
  },
  {
   "cell_type": "code",
   "execution_count": 184,
   "id": "9c1c8869-e086-44bd-a8ca-f8de59663142",
   "metadata": {},
   "outputs": [
    {
     "data": {
      "text/plain": [
       "'오늘은 인공지능을 배웠어요... !!'"
      ]
     },
     "execution_count": 184,
     "metadata": {},
     "output_type": "execute_result"
    }
   ],
   "source": [
    "notebook.note[2]"
   ]
  },
  {
   "cell_type": "code",
   "execution_count": null,
   "id": "bb59fb1b-bf15-4022-9cb3-90cec86b11fd",
   "metadata": {},
   "outputs": [],
   "source": []
  }
 ],
 "metadata": {
  "kernelspec": {
   "display_name": "Python 3 (ipykernel)",
   "language": "python",
   "name": "python3"
  },
  "language_info": {
   "codemirror_mode": {
    "name": "ipython",
    "version": 3
   },
   "file_extension": ".py",
   "mimetype": "text/x-python",
   "name": "python",
   "nbconvert_exporter": "python",
   "pygments_lexer": "ipython3",
   "version": "3.10.8"
  }
 },
 "nbformat": 4,
 "nbformat_minor": 5
}
