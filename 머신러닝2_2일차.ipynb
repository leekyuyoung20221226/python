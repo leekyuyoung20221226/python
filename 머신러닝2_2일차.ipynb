{
 "cells": [
  {
   "cell_type": "markdown",
   "id": "90c5fd43-5353-4a3d-be17-b56cb02003da",
   "metadata": {},
   "source": [
    "# 분류 - classification\n",
    "    고객분류, 질병진단, 스펨메일 필터링, 음성인식등... 카테고리를 갖는 경우\n",
    "     - KNN, SVM, Decision Tree, Logistic Regression     "
   ]
  },
  {
   "cell_type": "markdown",
   "id": "8cce2db1-0d95-4cda-86af-cf84966c97e8",
   "metadata": {},
   "source": [
    "### KNN K-Nearst-Neighbors"
   ]
  },
  {
   "cell_type": "markdown",
   "id": "1e7d943e-57ef-4181-b9f6-e2d3e648a85f",
   "metadata": {},
   "source": [
    "# 1. 데이터 준비(확보)"
   ]
  },
  {
   "cell_type": "code",
   "execution_count": 1,
   "id": "1271dae1-3308-4041-bc0d-7691e1f93dc9",
   "metadata": {},
   "outputs": [],
   "source": [
    "import pandas as pd\n",
    "import numpy as np\n",
    "import matplotlib.pyplot as plt\n",
    "import seaborn as sns"
   ]
  },
  {
   "cell_type": "code",
   "execution_count": 2,
   "id": "aab33032-422d-49f3-b5b8-4b268a341d30",
   "metadata": {},
   "outputs": [],
   "source": [
    "titanic = sns.load_dataset('titanic')\n",
    "titanic.rename(columns={'sex':'gender'},inplace=True)"
   ]
  },
  {
   "cell_type": "code",
   "execution_count": 3,
   "id": "2a8aa59e-1274-4d18-9169-10c89b63de11",
   "metadata": {},
   "outputs": [
    {
     "data": {
      "text/html": [
       "<div>\n",
       "<style scoped>\n",
       "    .dataframe tbody tr th:only-of-type {\n",
       "        vertical-align: middle;\n",
       "    }\n",
       "\n",
       "    .dataframe tbody tr th {\n",
       "        vertical-align: top;\n",
       "    }\n",
       "\n",
       "    .dataframe thead th {\n",
       "        text-align: right;\n",
       "    }\n",
       "</style>\n",
       "<table border=\"1\" class=\"dataframe\">\n",
       "  <thead>\n",
       "    <tr style=\"text-align: right;\">\n",
       "      <th></th>\n",
       "      <th>survived</th>\n",
       "      <th>pclass</th>\n",
       "      <th>gender</th>\n",
       "      <th>age</th>\n",
       "      <th>sibsp</th>\n",
       "      <th>parch</th>\n",
       "      <th>fare</th>\n",
       "      <th>embarked</th>\n",
       "      <th>class</th>\n",
       "      <th>who</th>\n",
       "      <th>adult_male</th>\n",
       "      <th>deck</th>\n",
       "      <th>embark_town</th>\n",
       "      <th>alive</th>\n",
       "      <th>alone</th>\n",
       "    </tr>\n",
       "  </thead>\n",
       "  <tbody>\n",
       "    <tr>\n",
       "      <th>0</th>\n",
       "      <td>0</td>\n",
       "      <td>3</td>\n",
       "      <td>male</td>\n",
       "      <td>22.0</td>\n",
       "      <td>1</td>\n",
       "      <td>0</td>\n",
       "      <td>7.2500</td>\n",
       "      <td>S</td>\n",
       "      <td>Third</td>\n",
       "      <td>man</td>\n",
       "      <td>True</td>\n",
       "      <td>NaN</td>\n",
       "      <td>Southampton</td>\n",
       "      <td>no</td>\n",
       "      <td>False</td>\n",
       "    </tr>\n",
       "    <tr>\n",
       "      <th>1</th>\n",
       "      <td>1</td>\n",
       "      <td>1</td>\n",
       "      <td>female</td>\n",
       "      <td>38.0</td>\n",
       "      <td>1</td>\n",
       "      <td>0</td>\n",
       "      <td>71.2833</td>\n",
       "      <td>C</td>\n",
       "      <td>First</td>\n",
       "      <td>woman</td>\n",
       "      <td>False</td>\n",
       "      <td>C</td>\n",
       "      <td>Cherbourg</td>\n",
       "      <td>yes</td>\n",
       "      <td>False</td>\n",
       "    </tr>\n",
       "    <tr>\n",
       "      <th>2</th>\n",
       "      <td>1</td>\n",
       "      <td>3</td>\n",
       "      <td>female</td>\n",
       "      <td>26.0</td>\n",
       "      <td>0</td>\n",
       "      <td>0</td>\n",
       "      <td>7.9250</td>\n",
       "      <td>S</td>\n",
       "      <td>Third</td>\n",
       "      <td>woman</td>\n",
       "      <td>False</td>\n",
       "      <td>NaN</td>\n",
       "      <td>Southampton</td>\n",
       "      <td>yes</td>\n",
       "      <td>True</td>\n",
       "    </tr>\n",
       "    <tr>\n",
       "      <th>3</th>\n",
       "      <td>1</td>\n",
       "      <td>1</td>\n",
       "      <td>female</td>\n",
       "      <td>35.0</td>\n",
       "      <td>1</td>\n",
       "      <td>0</td>\n",
       "      <td>53.1000</td>\n",
       "      <td>S</td>\n",
       "      <td>First</td>\n",
       "      <td>woman</td>\n",
       "      <td>False</td>\n",
       "      <td>C</td>\n",
       "      <td>Southampton</td>\n",
       "      <td>yes</td>\n",
       "      <td>False</td>\n",
       "    </tr>\n",
       "    <tr>\n",
       "      <th>4</th>\n",
       "      <td>0</td>\n",
       "      <td>3</td>\n",
       "      <td>male</td>\n",
       "      <td>35.0</td>\n",
       "      <td>0</td>\n",
       "      <td>0</td>\n",
       "      <td>8.0500</td>\n",
       "      <td>S</td>\n",
       "      <td>Third</td>\n",
       "      <td>man</td>\n",
       "      <td>True</td>\n",
       "      <td>NaN</td>\n",
       "      <td>Southampton</td>\n",
       "      <td>no</td>\n",
       "      <td>True</td>\n",
       "    </tr>\n",
       "  </tbody>\n",
       "</table>\n",
       "</div>"
      ],
      "text/plain": [
       "   survived  pclass  gender   age  sibsp  parch     fare embarked  class  \\\n",
       "0         0       3    male  22.0      1      0   7.2500        S  Third   \n",
       "1         1       1  female  38.0      1      0  71.2833        C  First   \n",
       "2         1       3  female  26.0      0      0   7.9250        S  Third   \n",
       "3         1       1  female  35.0      1      0  53.1000        S  First   \n",
       "4         0       3    male  35.0      0      0   8.0500        S  Third   \n",
       "\n",
       "     who  adult_male deck  embark_town alive  alone  \n",
       "0    man        True  NaN  Southampton    no  False  \n",
       "1  woman       False    C    Cherbourg   yes  False  \n",
       "2  woman       False  NaN  Southampton   yes   True  \n",
       "3  woman       False    C  Southampton   yes  False  \n",
       "4    man        True  NaN  Southampton    no   True  "
      ]
     },
     "execution_count": 3,
     "metadata": {},
     "output_type": "execute_result"
    }
   ],
   "source": [
    "titanic.head()"
   ]
  },
  {
   "cell_type": "markdown",
   "id": "8b0168ce-5b61-449b-b681-f1d29f423031",
   "metadata": {},
   "source": [
    "# 2.데이터 탐색 - info(), describe()"
   ]
  },
  {
   "cell_type": "code",
   "execution_count": 4,
   "id": "909ab6f5-defc-49d4-84ba-74e327e1772a",
   "metadata": {},
   "outputs": [
    {
     "name": "stdout",
     "output_type": "stream",
     "text": [
      "<class 'pandas.core.frame.DataFrame'>\n",
      "RangeIndex: 891 entries, 0 to 890\n",
      "Data columns (total 15 columns):\n",
      " #   Column       Non-Null Count  Dtype   \n",
      "---  ------       --------------  -----   \n",
      " 0   survived     891 non-null    int64   \n",
      " 1   pclass       891 non-null    int64   \n",
      " 2   gender       891 non-null    object  \n",
      " 3   age          714 non-null    float64 \n",
      " 4   sibsp        891 non-null    int64   \n",
      " 5   parch        891 non-null    int64   \n",
      " 6   fare         891 non-null    float64 \n",
      " 7   embarked     889 non-null    object  \n",
      " 8   class        891 non-null    category\n",
      " 9   who          891 non-null    object  \n",
      " 10  adult_male   891 non-null    bool    \n",
      " 11  deck         203 non-null    category\n",
      " 12  embark_town  889 non-null    object  \n",
      " 13  alive        891 non-null    object  \n",
      " 14  alone        891 non-null    bool    \n",
      "dtypes: bool(2), category(2), float64(2), int64(4), object(5)\n",
      "memory usage: 80.7+ KB\n"
     ]
    }
   ],
   "source": [
    "# 결측치 확인 - 1. 갯수, 2.형태는 숫자인데.. 타입이 object면 의심해 봐라.\n",
    "titanic.info()"
   ]
  },
  {
   "cell_type": "code",
   "execution_count": 5,
   "id": "5cdcc89a-9041-460f-b01b-21a35694adbc",
   "metadata": {},
   "outputs": [],
   "source": [
    "# 결측치가 많은 컬럼은 통으로 제거하고. - deck 제거\n",
    "# 의미가 비슷한 컬럼은 하나만 사용 -  embark_town 제거\n",
    "titanic.drop(['deck','embark_town'],axis=1,inplace=True)"
   ]
  },
  {
   "cell_type": "code",
   "execution_count": 6,
   "id": "403d24c7-cd86-4cde-b99f-37832a580387",
   "metadata": {},
   "outputs": [
    {
     "data": {
      "text/plain": [
       "survived        0\n",
       "pclass          0\n",
       "gender          0\n",
       "age           177\n",
       "sibsp           0\n",
       "parch           0\n",
       "fare            0\n",
       "embarked        2\n",
       "class           0\n",
       "who             0\n",
       "adult_male      0\n",
       "alive           0\n",
       "alone           0\n",
       "dtype: int64"
      ]
     },
     "execution_count": 6,
     "metadata": {},
     "output_type": "execute_result"
    }
   ],
   "source": [
    "titanic.isna().sum()"
   ]
  },
  {
   "cell_type": "code",
   "execution_count": 7,
   "id": "e4fd207f-f560-4828-b291-98a08df9d09b",
   "metadata": {},
   "outputs": [],
   "source": [
    "# embarked        2 --> 가장 많은 도시약자로 대체  fillna()"
   ]
  },
  {
   "cell_type": "code",
   "execution_count": 8,
   "id": "4662796d-7e4d-4862-9088-66592f4cb2d3",
   "metadata": {},
   "outputs": [
    {
     "data": {
      "text/plain": [
       "S    644\n",
       "C    168\n",
       "Q     77\n",
       "Name: embarked, dtype: int64"
      ]
     },
     "execution_count": 8,
     "metadata": {},
     "output_type": "execute_result"
    }
   ],
   "source": [
    "titanic['embarked'].value_counts()"
   ]
  },
  {
   "cell_type": "code",
   "execution_count": 9,
   "id": "dede60b0-2efb-4271-b4af-f42da1c86d47",
   "metadata": {},
   "outputs": [],
   "source": [
    "freq = titanic['embarked'].value_counts().idxmax()"
   ]
  },
  {
   "cell_type": "code",
   "execution_count": 10,
   "id": "ad1f0123-98ae-4aa2-9e6e-d8c6d16259b4",
   "metadata": {},
   "outputs": [],
   "source": [
    "titanic['embarked'].fillna(freq,inplace=True)"
   ]
  },
  {
   "cell_type": "code",
   "execution_count": 11,
   "id": "a4d9279a-3ef1-4324-a0cd-07ba081d4164",
   "metadata": {},
   "outputs": [
    {
     "data": {
      "text/plain": [
       "survived      0.000000\n",
       "pclass        0.000000\n",
       "gender        0.000000\n",
       "age           0.198653\n",
       "sibsp         0.000000\n",
       "parch         0.000000\n",
       "fare          0.000000\n",
       "embarked      0.000000\n",
       "class         0.000000\n",
       "who           0.000000\n",
       "adult_male    0.000000\n",
       "alive         0.000000\n",
       "alone         0.000000\n",
       "dtype: float64"
      ]
     },
     "execution_count": 11,
     "metadata": {},
     "output_type": "execute_result"
    }
   ],
   "source": [
    "titanic.isnull().mean()"
   ]
  },
  {
   "cell_type": "code",
   "execution_count": 12,
   "id": "4528527d-8eb1-4f1d-b63b-279a11d9bc4a",
   "metadata": {},
   "outputs": [],
   "source": [
    "# age 처리여부. \n",
    "# 1 drop\n",
    "# titanic = titanic.dropna(subset=['age'])\n",
    "\n",
    "# 2.치환 - 선실등급(pclass)별 gender 별 평균으로 대체\n",
    "grouped =  titanic.groupby(['pclass','gender'])"
   ]
  },
  {
   "cell_type": "code",
   "execution_count": 19,
   "id": "ad1cc062-123b-40e1-a253-6fe515c60284",
   "metadata": {},
   "outputs": [],
   "source": [
    "# transform  - 코드 채워넣기 - 20일차 소스 참고\n",
    "titanic['age'] = titanic['age'].fillna(\n",
    "    grouped['age'].transform('mean')\n",
    ")"
   ]
  },
  {
   "cell_type": "code",
   "execution_count": 20,
   "id": "267a2c75-da8f-4fc1-ba33-b5fa694a4c72",
   "metadata": {},
   "outputs": [
    {
     "data": {
      "text/plain": [
       "survived      0\n",
       "pclass        0\n",
       "gender        0\n",
       "age           0\n",
       "sibsp         0\n",
       "parch         0\n",
       "fare          0\n",
       "embarked      0\n",
       "class         0\n",
       "who           0\n",
       "adult_male    0\n",
       "alive         0\n",
       "alone         0\n",
       "dtype: int64"
      ]
     },
     "execution_count": 20,
     "metadata": {},
     "output_type": "execute_result"
    }
   ],
   "source": [
    "titanic.isnull().sum()"
   ]
  },
  {
   "cell_type": "code",
   "execution_count": null,
   "id": "0248ee35-2c99-48b6-ae1c-b27047051ba1",
   "metadata": {},
   "outputs": [],
   "source": [
    "grouped_df = grouped['age'].mean()\n",
    "grouped_df"
   ]
  },
  {
   "cell_type": "code",
   "execution_count": null,
   "id": "e938bead-0bda-400c-b01b-6a69d2b4286e",
   "metadata": {},
   "outputs": [],
   "source": [
    "# transform 이용하지 않고 파이썬 문법으로 원시 코드 구현\n",
    "idx1,idx2,idx3,idx4,idx5,idx6 = [],[],[],[],[],[]\n",
    "for i in range(len(df)):\n",
    "    if (df.iloc[i,1] == 1) & (df.iloc[i,2] == 'female') :        \n",
    "        idx1.append(df.index[i])\n",
    "    elif (df.iloc[i,1] == 1) & (df.iloc[i,2] == 'male') :\n",
    "        idx2.append(df.index[i])\n",
    "    elif (df.iloc[i,1] == 2) & (df.iloc[i,2] == 'female') :        \n",
    "        idx3.append(df.index[i])\n",
    "    elif (df.iloc[i,1] == 2) & (df.iloc[i,2] == 'male') :\n",
    "        idx4.append(df.index[i])\n",
    "    elif (df.iloc[i,1] == 3) & (df.iloc[i,2] == 'female') :        \n",
    "        idx5.append(df.index[i])\n",
    "    elif (df.iloc[i,1] == 3) & (df.iloc[i,2] == 'male') :\n",
    "        idx6.append(df.index[i])    \n",
    "# idx1 ~ idx5\n",
    "titanic.iloc[idx1,3] = grouped_df.values[0]\n",
    "titanic.iloc[idx2,3] = grouped_df.values[1]\n",
    "titanic.iloc[idx3,3] = grouped_df.values[2]\n",
    "titanic.iloc[idx4,3] = grouped_df.values[3]\n",
    "titanic.iloc[idx5,3] = grouped_df.values[4]\n",
    "titanic.iloc[idx6,3] = grouped_df.values[5]        "
   ]
  },
  {
   "cell_type": "code",
   "execution_count": null,
   "id": "c56fd844-cb83-4759-937f-0877e3c09a40",
   "metadata": {},
   "outputs": [],
   "source": [
    "titanic.isnull().sum()"
   ]
  },
  {
   "cell_type": "markdown",
   "id": "2509a061-af93-46a6-9cfa-920b0cc5449c",
   "metadata": {},
   "source": [
    "# 3. 속성선택"
   ]
  },
  {
   "cell_type": "code",
   "execution_count": null,
   "id": "ce0e40dc-5b1a-4b01-9acd-819dd4b6baad",
   "metadata": {},
   "outputs": [],
   "source": [
    "titanic.head(2)"
   ]
  },
  {
   "cell_type": "code",
   "execution_count": null,
   "id": "e52c2c99-12ab-4e38-aaf4-aac1722d7ce9",
   "metadata": {},
   "outputs": [],
   "source": [
    "df = titanic.loc[:,:'embarked']"
   ]
  },
  {
   "cell_type": "code",
   "execution_count": null,
   "id": "aa6fa34f-78da-4bfb-856a-a68150738ff5",
   "metadata": {},
   "outputs": [],
   "source": [
    "df.drop(columns=['fare'],inplace=True)"
   ]
  },
  {
   "cell_type": "code",
   "execution_count": null,
   "id": "91b6684b-787f-401b-95cc-7f49a7e3519f",
   "metadata": {},
   "outputs": [],
   "source": [
    "df.info()"
   ]
  },
  {
   "cell_type": "code",
   "execution_count": null,
   "id": "a682ffcb-7891-447c-9cec-c6395f8a0b98",
   "metadata": {},
   "outputs": [],
   "source": [
    " # 범주형 데이터를 숫자로 변환 - one hot encoding"
   ]
  },
  {
   "cell_type": "code",
   "execution_count": null,
   "id": "55f3cddf-f4a2-4de0-be17-69b7df48055e",
   "metadata": {},
   "outputs": [],
   "source": [
    "# 원핫인코딩\n",
    "onehot_gender =  pd.get_dummies(df['gender'])\n",
    "onehot_embarked = pd.get_dummies(df['embarked'],prefix='town')"
   ]
  },
  {
   "cell_type": "code",
   "execution_count": null,
   "id": "8a873c79-c33d-4947-9cf8-ac55433fd0a3",
   "metadata": {},
   "outputs": [],
   "source": [
    "df = pd.concat([df,onehot_gender,onehot_embarked],axis=1)"
   ]
  },
  {
   "cell_type": "code",
   "execution_count": null,
   "id": "25a62989-9995-46ea-9a4d-d104a720e6dc",
   "metadata": {},
   "outputs": [],
   "source": [
    "df.head()"
   ]
  },
  {
   "cell_type": "code",
   "execution_count": null,
   "id": "c95760ec-f5cf-4595-9d54-e1a1b8120f52",
   "metadata": {},
   "outputs": [],
   "source": [
    "df.drop(columns=['gender','embarked'],inplace=True)"
   ]
  },
  {
   "cell_type": "code",
   "execution_count": null,
   "id": "71cfbecc-4f0f-4af6-8b19-ea73b99785ad",
   "metadata": {},
   "outputs": [],
   "source": [
    "df.head()"
   ]
  },
  {
   "cell_type": "markdown",
   "id": "93397ebf-7039-4eef-a42b-bcdd23c67f97",
   "metadata": {},
   "source": [
    "# 훈련용/ 검증용 데이터 분할"
   ]
  },
  {
   "cell_type": "code",
   "execution_count": null,
   "id": "b7eda9f9-c41b-4d8a-bb11-fd28be37e50a",
   "metadata": {
    "tags": []
   },
   "outputs": [],
   "source": [
    "y = df['survived']\n",
    "y"
   ]
  },
  {
   "cell_type": "code",
   "execution_count": null,
   "id": "cc413283-4eaa-4e6c-853b-053ff0c5f584",
   "metadata": {
    "tags": []
   },
   "outputs": [],
   "source": [
    "x = df.loc[:,'pclass':]\n",
    "x"
   ]
  },
  {
   "cell_type": "code",
   "execution_count": null,
   "id": "faac44ea-89cc-4036-81f7-98cf73d1bc44",
   "metadata": {},
   "outputs": [],
   "source": [
    "from sklearn.model_selection import train_test_split\n",
    "from sklearn.preprocessing import StandardScaler\n",
    "ss = StandardScaler()\n",
    "x = ss.fit_transform(x)"
   ]
  },
  {
   "cell_type": "code",
   "execution_count": null,
   "id": "be22f447-cad1-426a-9e8e-de7300a1eaa3",
   "metadata": {},
   "outputs": [],
   "source": [
    "x_train,x_test,y_train,y_test = train_test_split(x,y,test_size=0.3,random_state=42)"
   ]
  },
  {
   "cell_type": "markdown",
   "id": "37b79e0f-b2fe-4336-9cba-70166cedfa5c",
   "metadata": {},
   "source": [
    "# 모델선택 - 알고리즘"
   ]
  },
  {
   "cell_type": "code",
   "execution_count": null,
   "id": "0a33f089-44c8-4790-87db-6c391648d266",
   "metadata": {},
   "outputs": [],
   "source": [
    "from sklearn.neighbors import KNeighborsClassifier"
   ]
  },
  {
   "cell_type": "code",
   "execution_count": null,
   "id": "926c0106-ce3f-468c-8be5-36e7b84745b6",
   "metadata": {},
   "outputs": [],
   "source": [
    "knn = KNeighborsClassifier(n_neighbors=5)"
   ]
  },
  {
   "cell_type": "markdown",
   "id": "1a3efd8f-6ca3-44f8-be2d-0dad253d9ffa",
   "metadata": {},
   "source": [
    "# 학습"
   ]
  },
  {
   "cell_type": "code",
   "execution_count": null,
   "id": "cbc4c243-53d8-48b8-9f31-d61d44b70321",
   "metadata": {},
   "outputs": [],
   "source": [
    "knn.fit(x_train,y_train)"
   ]
  },
  {
   "cell_type": "code",
   "execution_count": null,
   "id": "09d0f048-bc79-43d5-aed4-d44c8be37830",
   "metadata": {},
   "outputs": [],
   "source": [
    "y_hat = knn.predict(x_test)"
   ]
  },
  {
   "cell_type": "code",
   "execution_count": null,
   "id": "fd2ad20e-ce80-422b-9776-0c959617d71f",
   "metadata": {},
   "outputs": [],
   "source": [
    "y_hat[:10]"
   ]
  },
  {
   "cell_type": "code",
   "execution_count": null,
   "id": "92220c36-0319-4661-a11e-049ccd6104f5",
   "metadata": {},
   "outputs": [],
   "source": [
    "y_test.values[:10]"
   ]
  },
  {
   "cell_type": "markdown",
   "id": "c4f1c8b5-891e-4004-a8fe-08285cf81b66",
   "metadata": {},
   "source": [
    "# 평가"
   ]
  },
  {
   "cell_type": "code",
   "execution_count": null,
   "id": "7ee46c4d-2fe1-4fca-ab39-cc71866aeb10",
   "metadata": {},
   "outputs": [],
   "source": [
    "from sklearn import metrics"
   ]
  },
  {
   "cell_type": "code",
   "execution_count": null,
   "id": "10c1e7c4-a7ed-4310-a8a0-bd7989bf7286",
   "metadata": {},
   "outputs": [],
   "source": [
    "knn_matrix = metrics.confusion_matrix(y_test,y_hat)"
   ]
  },
  {
   "cell_type": "code",
   "execution_count": null,
   "id": "32f4b143-baea-4201-acd8-515783145174",
   "metadata": {},
   "outputs": [],
   "source": [
    "knn_matrix"
   ]
  },
  {
   "cell_type": "code",
   "execution_count": null,
   "id": "2f575fab-2407-4425-9412-e9542af0d881",
   "metadata": {},
   "outputs": [],
   "source": [
    "#정확도 (Accuracy)  - 실제참과 예측참 + 실제거짓과 예측 거짓에대한 비율\n",
    "#정밀도 (Precison)  - 모델을 기준으로 참으로 예측한 데이터들중에 실제 참인 비율 - 오류가 작다\n",
    "#재현율(Recal) - 실제 참을 기준으로 모델이 얼마나 잘 맞추는지 재현하는것(시물레이션) - 오류가 낮다"
   ]
  },
  {
   "cell_type": "code",
   "execution_count": null,
   "id": "ffc26473-d455-490b-a42d-8b51197d33ff",
   "metadata": {},
   "outputs": [],
   "source": [
    "knn_report = metrics.classification_report(y_test,y_hat)\n",
    "print(knn_report)"
   ]
  },
  {
   "cell_type": "code",
   "execution_count": null,
   "id": "05b901f3-3ed3-4336-a7b5-e84a56205ce9",
   "metadata": {},
   "outputs": [],
   "source": [
    "# 사망자에대한 예측능력 : 0.82\n",
    "# 생존자에대한 예측능력 : 0.73"
   ]
  },
  {
   "cell_type": "markdown",
   "id": "a7db59a9-f75c-45ff-ad79-b0639ff56423",
   "metadata": {},
   "source": [
    "# svm : Support Vector Machine\n",
    "    벡터개념을 가지고  공간을 분리 : 벡터개념은 2차원 평면 공간으로 만들어서 분리"
   ]
  },
  {
   "cell_type": "code",
   "execution_count": null,
   "id": "7b4793d5-17e9-4d14-9771-75232d513ffb",
   "metadata": {},
   "outputs": [],
   "source": [
    "from sklearn import svm"
   ]
  },
  {
   "cell_type": "code",
   "execution_count": null,
   "id": "3c8a2ebd-ca11-4b10-b5a3-dbe2151cd4ad",
   "metadata": {},
   "outputs": [],
   "source": [
    "svm_model = svm.SVC()"
   ]
  },
  {
   "cell_type": "code",
   "execution_count": null,
   "id": "2c36c934-70bc-4022-a979-392a408228d0",
   "metadata": {},
   "outputs": [],
   "source": [
    "svm_model.fit(x_train_scaled,y_train)"
   ]
  },
  {
   "cell_type": "code",
   "execution_count": null,
   "id": "f1da6bcc-8d74-480a-bb95-825c6bbf7fba",
   "metadata": {},
   "outputs": [],
   "source": [
    "y_hat = svm_model.predict(x_test_scaled)"
   ]
  },
  {
   "cell_type": "code",
   "execution_count": null,
   "id": "aaf8b6e7-fbc0-4fe6-a77b-b3e5ebda85f4",
   "metadata": {},
   "outputs": [],
   "source": [
    "print(\"첫 10개 실제 정답\", y_test.values[:10])\n",
    "print(\"첫 10개 예측     \", y_hat[:10])"
   ]
  },
  {
   "cell_type": "code",
   "execution_count": null,
   "id": "b64090bf-7c4c-4d19-ba39-89448ab8cd62",
   "metadata": {},
   "outputs": [],
   "source": [
    "svm_report = metrics.classification_report(y_test,y_hat)\n",
    "print(svm_report)"
   ]
  },
  {
   "cell_type": "code",
   "execution_count": null,
   "id": "b817c0d6-3eb3-443a-ab30-251dca08dc40",
   "metadata": {},
   "outputs": [],
   "source": []
  },
  {
   "cell_type": "code",
   "execution_count": null,
   "id": "92295713-5fdc-4623-8c10-12dd133ce011",
   "metadata": {},
   "outputs": [],
   "source": []
  }
 ],
 "metadata": {
  "kernelspec": {
   "display_name": "Python 3 (ipykernel)",
   "language": "python",
   "name": "python3"
  },
  "language_info": {
   "codemirror_mode": {
    "name": "ipython",
    "version": 3
   },
   "file_extension": ".py",
   "mimetype": "text/x-python",
   "name": "python",
   "nbconvert_exporter": "python",
   "pygments_lexer": "ipython3",
   "version": "3.10.8"
  }
 },
 "nbformat": 4,
 "nbformat_minor": 5
}
