{
 "cells": [
  {
   "cell_type": "markdown",
   "id": "a83b338f-e4c3-40c1-b5d6-7eeaa21f1e9b",
   "metadata": {},
   "source": [
    "# 자전거 대여량 예측"
   ]
  },
  {
   "cell_type": "markdown",
   "id": "b9ea1913-4fca-4a90-b358-2469fb7aafdb",
   "metadata": {
    "tags": []
   },
   "source": [
    "# 1. 데이터 확보"
   ]
  },
  {
   "cell_type": "code",
   "execution_count": 1,
   "id": "b2ccb858-badb-440e-954b-de0be8e2a9dc",
   "metadata": {},
   "outputs": [],
   "source": [
    "url = 'https://raw.githubusercontent.com/leekyuyoung20221226/python/main/data/bike.csv'\n",
    "import numpy as np\n",
    "import pandas as pd"
   ]
  },
  {
   "cell_type": "code",
   "execution_count": 2,
   "id": "2e508bc8-1490-4687-9c55-7477dd2b1646",
   "metadata": {},
   "outputs": [
    {
     "data": {
      "text/html": [
       "<div>\n",
       "<style scoped>\n",
       "    .dataframe tbody tr th:only-of-type {\n",
       "        vertical-align: middle;\n",
       "    }\n",
       "\n",
       "    .dataframe tbody tr th {\n",
       "        vertical-align: top;\n",
       "    }\n",
       "\n",
       "    .dataframe thead th {\n",
       "        text-align: right;\n",
       "    }\n",
       "</style>\n",
       "<table border=\"1\" class=\"dataframe\">\n",
       "  <thead>\n",
       "    <tr style=\"text-align: right;\">\n",
       "      <th></th>\n",
       "      <th>instant</th>\n",
       "      <th>dteday</th>\n",
       "      <th>season</th>\n",
       "      <th>yr</th>\n",
       "      <th>mnth</th>\n",
       "      <th>holiday</th>\n",
       "      <th>weekday</th>\n",
       "      <th>workingday</th>\n",
       "      <th>weathersit</th>\n",
       "      <th>temp</th>\n",
       "      <th>atemp</th>\n",
       "      <th>hum</th>\n",
       "      <th>windspeed</th>\n",
       "      <th>casual</th>\n",
       "      <th>registered</th>\n",
       "      <th>cnt</th>\n",
       "    </tr>\n",
       "  </thead>\n",
       "  <tbody>\n",
       "    <tr>\n",
       "      <th>0</th>\n",
       "      <td>1</td>\n",
       "      <td>2011-01-01</td>\n",
       "      <td>1.0</td>\n",
       "      <td>0.0</td>\n",
       "      <td>1.0</td>\n",
       "      <td>0.0</td>\n",
       "      <td>6.0</td>\n",
       "      <td>0.0</td>\n",
       "      <td>2</td>\n",
       "      <td>0.344167</td>\n",
       "      <td>0.363625</td>\n",
       "      <td>0.805833</td>\n",
       "      <td>0.160446</td>\n",
       "      <td>331</td>\n",
       "      <td>654</td>\n",
       "      <td>985</td>\n",
       "    </tr>\n",
       "    <tr>\n",
       "      <th>1</th>\n",
       "      <td>2</td>\n",
       "      <td>2011-01-02</td>\n",
       "      <td>1.0</td>\n",
       "      <td>0.0</td>\n",
       "      <td>1.0</td>\n",
       "      <td>0.0</td>\n",
       "      <td>0.0</td>\n",
       "      <td>0.0</td>\n",
       "      <td>2</td>\n",
       "      <td>0.363478</td>\n",
       "      <td>0.353739</td>\n",
       "      <td>0.696087</td>\n",
       "      <td>0.248539</td>\n",
       "      <td>131</td>\n",
       "      <td>670</td>\n",
       "      <td>801</td>\n",
       "    </tr>\n",
       "  </tbody>\n",
       "</table>\n",
       "</div>"
      ],
      "text/plain": [
       "   instant      dteday  season   yr  mnth  holiday  weekday  workingday  \\\n",
       "0        1  2011-01-01     1.0  0.0   1.0      0.0      6.0         0.0   \n",
       "1        2  2011-01-02     1.0  0.0   1.0      0.0      0.0         0.0   \n",
       "\n",
       "   weathersit      temp     atemp       hum  windspeed  casual  registered  \\\n",
       "0           2  0.344167  0.363625  0.805833   0.160446     331         654   \n",
       "1           2  0.363478  0.353739  0.696087   0.248539     131         670   \n",
       "\n",
       "   cnt  \n",
       "0  985  \n",
       "1  801  "
      ]
     },
     "execution_count": 2,
     "metadata": {},
     "output_type": "execute_result"
    }
   ],
   "source": [
    "bike = pd.read_csv(url)\n",
    "bike.head(2)"
   ]
  },
  {
   "cell_type": "markdown",
   "id": "d66fc6d3-3a8d-4dc8-be71-d7bd61a85d32",
   "metadata": {},
   "source": [
    "# 2 데이터 전처리"
   ]
  },
  {
   "cell_type": "markdown",
   "id": "a7ca3d51-5e95-443e-a204-7a104d5fee96",
   "metadata": {},
   "source": [
    "### 결측치 확인 - 중간값이나 또는 평균으로 대처"
   ]
  },
  {
   "cell_type": "code",
   "execution_count": 3,
   "id": "1381a51b-915f-45b2-a3c6-bc1c92a5f4ca",
   "metadata": {},
   "outputs": [
    {
     "data": {
      "text/plain": [
       "instant       0\n",
       "dteday        0\n",
       "season        0\n",
       "yr            1\n",
       "mnth          1\n",
       "holiday       0\n",
       "weekday       0\n",
       "workingday    0\n",
       "weathersit    0\n",
       "temp          1\n",
       "atemp         1\n",
       "hum           3\n",
       "windspeed     5\n",
       "casual        0\n",
       "registered    0\n",
       "cnt           0\n",
       "dtype: int64"
      ]
     },
     "execution_count": 3,
     "metadata": {},
     "output_type": "execute_result"
    }
   ],
   "source": [
    "bike.isnull().sum()"
   ]
  },
  {
   "cell_type": "code",
   "execution_count": 4,
   "id": "a9146777-c30c-4227-88c3-11c39724fd1c",
   "metadata": {},
   "outputs": [],
   "source": [
    "# 중간값으로 채우기  windspeed\n",
    "bike['windspeed'].fillna( bike['windspeed'].median(),inplace=True)"
   ]
  },
  {
   "cell_type": "code",
   "execution_count": 5,
   "id": "9f3b54ce-4b36-43fe-9c2f-477e29c14217",
   "metadata": {},
   "outputs": [],
   "source": [
    "bike.loc[730,'yr'] = 1.0\n",
    "bike.loc[730,'mnth'] = 12.0"
   ]
  },
  {
   "cell_type": "code",
   "execution_count": 6,
   "id": "bff23131-0972-479f-92ad-99759be707f5",
   "metadata": {},
   "outputs": [],
   "source": [
    "bike['temp'].fillna( bike['temp'].median(),inplace=True)\n",
    "bike['atemp'].fillna( bike['atemp'].median(),inplace=True)\n",
    "bike['hum'].fillna( bike['hum'].median(),inplace=True)"
   ]
  },
  {
   "cell_type": "code",
   "execution_count": 7,
   "id": "d7a9267b-d502-4c83-990f-1b51834a9705",
   "metadata": {},
   "outputs": [
    {
     "data": {
      "text/html": [
       "<div>\n",
       "<style scoped>\n",
       "    .dataframe tbody tr th:only-of-type {\n",
       "        vertical-align: middle;\n",
       "    }\n",
       "\n",
       "    .dataframe tbody tr th {\n",
       "        vertical-align: top;\n",
       "    }\n",
       "\n",
       "    .dataframe thead th {\n",
       "        text-align: right;\n",
       "    }\n",
       "</style>\n",
       "<table border=\"1\" class=\"dataframe\">\n",
       "  <thead>\n",
       "    <tr style=\"text-align: right;\">\n",
       "      <th></th>\n",
       "      <th>instant</th>\n",
       "      <th>dteday</th>\n",
       "      <th>season</th>\n",
       "      <th>yr</th>\n",
       "      <th>mnth</th>\n",
       "      <th>holiday</th>\n",
       "      <th>weekday</th>\n",
       "      <th>workingday</th>\n",
       "      <th>weathersit</th>\n",
       "      <th>temp</th>\n",
       "      <th>atemp</th>\n",
       "      <th>hum</th>\n",
       "      <th>windspeed</th>\n",
       "      <th>casual</th>\n",
       "      <th>registered</th>\n",
       "      <th>cnt</th>\n",
       "    </tr>\n",
       "  </thead>\n",
       "  <tbody>\n",
       "  </tbody>\n",
       "</table>\n",
       "</div>"
      ],
      "text/plain": [
       "Empty DataFrame\n",
       "Columns: [instant, dteday, season, yr, mnth, holiday, weekday, workingday, weathersit, temp, atemp, hum, windspeed, casual, registered, cnt]\n",
       "Index: []"
      ]
     },
     "execution_count": 7,
     "metadata": {},
     "output_type": "execute_result"
    }
   ],
   "source": [
    "# 결측치 데이터 출력하기\n",
    "bike[bike.isnull().any(axis=1)]"
   ]
  },
  {
   "cell_type": "code",
   "execution_count": 8,
   "id": "3bc4b5e2-3477-4ebb-a89a-cc6e5b59f035",
   "metadata": {},
   "outputs": [],
   "source": [
    "# 수치형 데이터만 선택하기\n",
    "bike.drop(columns=['dteday'],inplace=True)"
   ]
  },
  {
   "cell_type": "code",
   "execution_count": 9,
   "id": "2858c131-0115-43fc-bef6-79a4fdb73998",
   "metadata": {},
   "outputs": [
    {
     "data": {
      "text/html": [
       "<div>\n",
       "<style scoped>\n",
       "    .dataframe tbody tr th:only-of-type {\n",
       "        vertical-align: middle;\n",
       "    }\n",
       "\n",
       "    .dataframe tbody tr th {\n",
       "        vertical-align: top;\n",
       "    }\n",
       "\n",
       "    .dataframe thead th {\n",
       "        text-align: right;\n",
       "    }\n",
       "</style>\n",
       "<table border=\"1\" class=\"dataframe\">\n",
       "  <thead>\n",
       "    <tr style=\"text-align: right;\">\n",
       "      <th></th>\n",
       "      <th>instant</th>\n",
       "      <th>season</th>\n",
       "      <th>yr</th>\n",
       "      <th>mnth</th>\n",
       "      <th>holiday</th>\n",
       "      <th>weekday</th>\n",
       "      <th>workingday</th>\n",
       "      <th>weathersit</th>\n",
       "      <th>temp</th>\n",
       "      <th>atemp</th>\n",
       "      <th>hum</th>\n",
       "      <th>windspeed</th>\n",
       "      <th>casual</th>\n",
       "      <th>registered</th>\n",
       "      <th>cnt</th>\n",
       "    </tr>\n",
       "  </thead>\n",
       "  <tbody>\n",
       "    <tr>\n",
       "      <th>0</th>\n",
       "      <td>1</td>\n",
       "      <td>1.0</td>\n",
       "      <td>0.0</td>\n",
       "      <td>1.0</td>\n",
       "      <td>0.0</td>\n",
       "      <td>6.0</td>\n",
       "      <td>0.0</td>\n",
       "      <td>2</td>\n",
       "      <td>0.344167</td>\n",
       "      <td>0.363625</td>\n",
       "      <td>0.805833</td>\n",
       "      <td>0.160446</td>\n",
       "      <td>331</td>\n",
       "      <td>654</td>\n",
       "      <td>985</td>\n",
       "    </tr>\n",
       "    <tr>\n",
       "      <th>1</th>\n",
       "      <td>2</td>\n",
       "      <td>1.0</td>\n",
       "      <td>0.0</td>\n",
       "      <td>1.0</td>\n",
       "      <td>0.0</td>\n",
       "      <td>0.0</td>\n",
       "      <td>0.0</td>\n",
       "      <td>2</td>\n",
       "      <td>0.363478</td>\n",
       "      <td>0.353739</td>\n",
       "      <td>0.696087</td>\n",
       "      <td>0.248539</td>\n",
       "      <td>131</td>\n",
       "      <td>670</td>\n",
       "      <td>801</td>\n",
       "    </tr>\n",
       "    <tr>\n",
       "      <th>2</th>\n",
       "      <td>3</td>\n",
       "      <td>1.0</td>\n",
       "      <td>0.0</td>\n",
       "      <td>1.0</td>\n",
       "      <td>0.0</td>\n",
       "      <td>1.0</td>\n",
       "      <td>1.0</td>\n",
       "      <td>1</td>\n",
       "      <td>0.196364</td>\n",
       "      <td>0.189405</td>\n",
       "      <td>0.437273</td>\n",
       "      <td>0.248309</td>\n",
       "      <td>120</td>\n",
       "      <td>1229</td>\n",
       "      <td>1349</td>\n",
       "    </tr>\n",
       "  </tbody>\n",
       "</table>\n",
       "</div>"
      ],
      "text/plain": [
       "   instant  season   yr  mnth  holiday  weekday  workingday  weathersit  \\\n",
       "0        1     1.0  0.0   1.0      0.0      6.0         0.0           2   \n",
       "1        2     1.0  0.0   1.0      0.0      0.0         0.0           2   \n",
       "2        3     1.0  0.0   1.0      0.0      1.0         1.0           1   \n",
       "\n",
       "       temp     atemp       hum  windspeed  casual  registered   cnt  \n",
       "0  0.344167  0.363625  0.805833   0.160446     331         654   985  \n",
       "1  0.363478  0.353739  0.696087   0.248539     131         670   801  \n",
       "2  0.196364  0.189405  0.437273   0.248309     120        1229  1349  "
      ]
     },
     "execution_count": 9,
     "metadata": {},
     "output_type": "execute_result"
    }
   ],
   "source": [
    "bike.head(3)"
   ]
  },
  {
   "cell_type": "code",
   "execution_count": 10,
   "id": "f0ff0acb-9597-49f1-b158-c029fd602f54",
   "metadata": {},
   "outputs": [],
   "source": [
    "# 일단 모든 컬럼 다 사용하기"
   ]
  },
  {
   "cell_type": "code",
   "execution_count": 12,
   "id": "854f9f5e-130e-4df3-bce6-e19fc3a18ff1",
   "metadata": {},
   "outputs": [],
   "source": [
    "# 데이터 표준화 안해도 됨 - xgboost 사용"
   ]
  },
  {
   "cell_type": "code",
   "execution_count": 39,
   "id": "37efd632-01ab-48da-9c78-23051fe5c090",
   "metadata": {},
   "outputs": [],
   "source": [
    "# 특성과 타깃 ( 독립변수, 종속변수)\n",
    "X = bike.iloc[:,:-1].to_numpy()\n",
    "Y = bike.iloc[:,-1].to_numpy()"
   ]
  },
  {
   "cell_type": "code",
   "execution_count": 40,
   "id": "fa5f61e7-56d4-4892-a541-24b2162c53ae",
   "metadata": {},
   "outputs": [
    {
     "data": {
      "text/plain": [
       "(0.9999967355524811, 0.9678961166519209)"
      ]
     },
     "execution_count": 40,
     "metadata": {},
     "output_type": "execute_result"
    }
   ],
   "source": [
    "from xgboost import XGBRegressor\n",
    "xgbr = XGBRegressor(random_state=0)\n",
    "from sklearn.model_selection import cross_validate\n",
    "scores = cross_validate(xgbr,X,Y,n_jobs=-1, return_train_score=True,cv=10)\n",
    "np.mean(scores['train_score']), np.mean(scores['test_score'])"
   ]
  },
  {
   "cell_type": "code",
   "execution_count": 41,
   "id": "39f7c9ff-6d0b-455e-a3ae-b1daae4a8eeb",
   "metadata": {},
   "outputs": [
    {
     "data": {
      "text/plain": [
       "(0.9991020117374685, 0.9487338663481599)"
      ]
     },
     "execution_count": 41,
     "metadata": {},
     "output_type": "execute_result"
    }
   ],
   "source": [
    "from lightgbm import LGBMRegressor\n",
    "lgbmr = LGBMRegressor(random_state=0)\n",
    "from sklearn.model_selection import cross_validate\n",
    "scores = cross_validate(lgbmr,X,Y,n_jobs=-1, return_train_score=True,cv=10)\n",
    "np.mean(scores['train_score']), np.mean(scores['test_score'])"
   ]
  },
  {
   "cell_type": "code",
   "execution_count": 42,
   "id": "3ad19e21-b003-4672-98d5-44c8c74235ce",
   "metadata": {},
   "outputs": [],
   "source": [
    "# 데이터 분리 \n",
    "from sklearn.model_selection import train_test_split\n",
    "x_train,x_test,y_train,y_test =  train_test_split(X,Y,test_size=0.3,random_state=0)"
   ]
  },
  {
   "cell_type": "code",
   "execution_count": 43,
   "id": "3b2a4fb4-1875-4232-baf7-f386ad3250a5",
   "metadata": {},
   "outputs": [
    {
     "data": {
      "text/plain": [
       "(0.9999990216334502, 0.9952211899065297)"
      ]
     },
     "execution_count": 43,
     "metadata": {},
     "output_type": "execute_result"
    }
   ],
   "source": [
    "xgbr.fit(x_train,y_train)\n",
    "xgbr.score(x_train,y_train), xgbr.score(x_test,y_test)"
   ]
  },
  {
   "cell_type": "code",
   "execution_count": 55,
   "id": "278652e8-3c10-46ec-9894-809d211d7ac9",
   "metadata": {},
   "outputs": [
    {
     "data": {
      "text/plain": [
       "1.0"
      ]
     },
     "execution_count": 55,
     "metadata": {},
     "output_type": "execute_result"
    }
   ],
   "source": [
    "from sklearn.linear_model  import LinearRegression\n",
    "lr = LinearRegression()\n",
    "lr.fit(X, Y)\n",
    "lr.score(X,Y)"
   ]
  },
  {
   "cell_type": "code",
   "execution_count": 53,
   "id": "39da13eb-b75e-45f0-8df9-5f17c375a677",
   "metadata": {},
   "outputs": [
    {
     "data": {
      "text/plain": [
       "(array([5.60000e+01, 1.00000e+00, 0.00000e+00, 2.00000e+00, 0.00000e+00,\n",
       "        5.00000e+00, 1.00000e+00, 2.00000e+00, 3.64348e-01, 3.50461e-01,\n",
       "        7.12174e-01, 3.46539e-01, 1.20000e+02, 1.34100e+03]),\n",
       " 1461)"
      ]
     },
     "execution_count": 53,
     "metadata": {},
     "output_type": "execute_result"
    }
   ],
   "source": [
    "x_test[12], y_test[12]"
   ]
  },
  {
   "cell_type": "code",
   "execution_count": 54,
   "id": "a71ba114-a7d6-4932-bf9b-c36cc250fffd",
   "metadata": {},
   "outputs": [
    {
     "data": {
      "text/plain": [
       "array([1461.])"
      ]
     },
     "execution_count": 54,
     "metadata": {},
     "output_type": "execute_result"
    }
   ],
   "source": [
    "lr.predict([x_test[12]])"
   ]
  },
  {
   "cell_type": "code",
   "execution_count": 56,
   "id": "82f752fc-d15f-469c-85be-7cc057edd512",
   "metadata": {},
   "outputs": [
    {
     "data": {
      "text/html": [
       "<div>\n",
       "<style scoped>\n",
       "    .dataframe tbody tr th:only-of-type {\n",
       "        vertical-align: middle;\n",
       "    }\n",
       "\n",
       "    .dataframe tbody tr th {\n",
       "        vertical-align: top;\n",
       "    }\n",
       "\n",
       "    .dataframe thead th {\n",
       "        text-align: right;\n",
       "    }\n",
       "</style>\n",
       "<table border=\"1\" class=\"dataframe\">\n",
       "  <thead>\n",
       "    <tr style=\"text-align: right;\">\n",
       "      <th></th>\n",
       "      <th>instant</th>\n",
       "      <th>season</th>\n",
       "      <th>yr</th>\n",
       "      <th>mnth</th>\n",
       "      <th>holiday</th>\n",
       "      <th>weekday</th>\n",
       "      <th>workingday</th>\n",
       "      <th>weathersit</th>\n",
       "      <th>temp</th>\n",
       "      <th>atemp</th>\n",
       "      <th>hum</th>\n",
       "      <th>windspeed</th>\n",
       "      <th>casual</th>\n",
       "      <th>registered</th>\n",
       "      <th>cnt</th>\n",
       "    </tr>\n",
       "  </thead>\n",
       "  <tbody>\n",
       "    <tr>\n",
       "      <th>0</th>\n",
       "      <td>1</td>\n",
       "      <td>1.0</td>\n",
       "      <td>0.0</td>\n",
       "      <td>1.0</td>\n",
       "      <td>0.0</td>\n",
       "      <td>6.0</td>\n",
       "      <td>0.0</td>\n",
       "      <td>2</td>\n",
       "      <td>0.344167</td>\n",
       "      <td>0.363625</td>\n",
       "      <td>0.805833</td>\n",
       "      <td>0.160446</td>\n",
       "      <td>331</td>\n",
       "      <td>654</td>\n",
       "      <td>985</td>\n",
       "    </tr>\n",
       "  </tbody>\n",
       "</table>\n",
       "</div>"
      ],
      "text/plain": [
       "   instant  season   yr  mnth  holiday  weekday  workingday  weathersit  \\\n",
       "0        1     1.0  0.0   1.0      0.0      6.0         0.0           2   \n",
       "\n",
       "       temp     atemp       hum  windspeed  casual  registered  cnt  \n",
       "0  0.344167  0.363625  0.805833   0.160446     331         654  985  "
      ]
     },
     "execution_count": 56,
     "metadata": {},
     "output_type": "execute_result"
    }
   ],
   "source": [
    "bike.head(1)"
   ]
  },
  {
   "cell_type": "code",
   "execution_count": 61,
   "id": "a25325a7-fe9c-40a0-8322-fa0a5a3228f5",
   "metadata": {},
   "outputs": [
    {
     "data": {
      "text/plain": [
       "array([985.])"
      ]
     },
     "execution_count": 61,
     "metadata": {},
     "output_type": "execute_result"
    }
   ],
   "source": [
    "lr.predict([X[0]])"
   ]
  },
  {
   "cell_type": "code",
   "execution_count": 62,
   "id": "39483e9f-7656-4c87-8dad-393411e84318",
   "metadata": {},
   "outputs": [],
   "source": [
    "####################################"
   ]
  },
  {
   "cell_type": "code",
   "execution_count": 127,
   "id": "85896d88-e878-46ff-a49f-cfa3166c8b16",
   "metadata": {},
   "outputs": [
    {
     "data": {
      "text/html": [
       "<div>\n",
       "<style scoped>\n",
       "    .dataframe tbody tr th:only-of-type {\n",
       "        vertical-align: middle;\n",
       "    }\n",
       "\n",
       "    .dataframe tbody tr th {\n",
       "        vertical-align: top;\n",
       "    }\n",
       "\n",
       "    .dataframe thead th {\n",
       "        text-align: right;\n",
       "    }\n",
       "</style>\n",
       "<table border=\"1\" class=\"dataframe\">\n",
       "  <thead>\n",
       "    <tr style=\"text-align: right;\">\n",
       "      <th></th>\n",
       "      <th>0</th>\n",
       "      <th>1</th>\n",
       "      <th>2</th>\n",
       "      <th>3</th>\n",
       "      <th>4</th>\n",
       "      <th>5</th>\n",
       "      <th>6</th>\n",
       "      <th>7</th>\n",
       "      <th>8</th>\n",
       "      <th>9</th>\n",
       "      <th>10</th>\n",
       "      <th>11</th>\n",
       "      <th>12</th>\n",
       "      <th>13</th>\n",
       "      <th>14</th>\n",
       "    </tr>\n",
       "  </thead>\n",
       "  <tbody>\n",
       "    <tr>\n",
       "      <th>0</th>\n",
       "      <td>39</td>\n",
       "      <td>State-gov</td>\n",
       "      <td>77516</td>\n",
       "      <td>Bachelors</td>\n",
       "      <td>13</td>\n",
       "      <td>Never-married</td>\n",
       "      <td>Adm-clerical</td>\n",
       "      <td>Not-in-family</td>\n",
       "      <td>White</td>\n",
       "      <td>Male</td>\n",
       "      <td>2174</td>\n",
       "      <td>0</td>\n",
       "      <td>40</td>\n",
       "      <td>United-States</td>\n",
       "      <td>&lt;=50K</td>\n",
       "    </tr>\n",
       "  </tbody>\n",
       "</table>\n",
       "</div>"
      ],
      "text/plain": [
       "   0           1      2           3   4               5              6   \\\n",
       "0  39   State-gov  77516   Bachelors  13   Never-married   Adm-clerical   \n",
       "\n",
       "               7       8      9     10  11  12              13      14  \n",
       "0   Not-in-family   White   Male  2174   0  40   United-States   <=50K  "
      ]
     },
     "execution_count": 127,
     "metadata": {},
     "output_type": "execute_result"
    }
   ],
   "source": [
    "# 인구조사 데이터 셋\n",
    "url = 'https://archive.ics.uci.edu/ml/machine-learning-databases/adult/adult.data'\n",
    "df = pd.read_csv(url,header=None)\n",
    "df.head(1)"
   ]
  },
  {
   "cell_type": "code",
   "execution_count": 128,
   "id": "25b1edf8-3a7e-480a-9c9d-260d61494b71",
   "metadata": {},
   "outputs": [],
   "source": [
    "df.columns = ['age', 'workclass', 'fnlwgt', 'education', 'education-num', 'marital-status', 'occupation',\n",
    "                  'relationship', 'race', 'sex', 'capital-gain', 'capital-loss', 'hours-per-week', 'native-country', \n",
    "                   'income']"
   ]
  },
  {
   "cell_type": "code",
   "execution_count": 129,
   "id": "65f24b40-de3a-4509-87f9-377a62628aba",
   "metadata": {},
   "outputs": [
    {
     "data": {
      "text/html": [
       "<div>\n",
       "<style scoped>\n",
       "    .dataframe tbody tr th:only-of-type {\n",
       "        vertical-align: middle;\n",
       "    }\n",
       "\n",
       "    .dataframe tbody tr th {\n",
       "        vertical-align: top;\n",
       "    }\n",
       "\n",
       "    .dataframe thead th {\n",
       "        text-align: right;\n",
       "    }\n",
       "</style>\n",
       "<table border=\"1\" class=\"dataframe\">\n",
       "  <thead>\n",
       "    <tr style=\"text-align: right;\">\n",
       "      <th></th>\n",
       "      <th>age</th>\n",
       "      <th>workclass</th>\n",
       "      <th>fnlwgt</th>\n",
       "      <th>education</th>\n",
       "      <th>education-num</th>\n",
       "      <th>marital-status</th>\n",
       "      <th>occupation</th>\n",
       "      <th>relationship</th>\n",
       "      <th>race</th>\n",
       "      <th>sex</th>\n",
       "      <th>capital-gain</th>\n",
       "      <th>capital-loss</th>\n",
       "      <th>hours-per-week</th>\n",
       "      <th>native-country</th>\n",
       "      <th>income</th>\n",
       "    </tr>\n",
       "  </thead>\n",
       "  <tbody>\n",
       "    <tr>\n",
       "      <th>0</th>\n",
       "      <td>39</td>\n",
       "      <td>State-gov</td>\n",
       "      <td>77516</td>\n",
       "      <td>Bachelors</td>\n",
       "      <td>13</td>\n",
       "      <td>Never-married</td>\n",
       "      <td>Adm-clerical</td>\n",
       "      <td>Not-in-family</td>\n",
       "      <td>White</td>\n",
       "      <td>Male</td>\n",
       "      <td>2174</td>\n",
       "      <td>0</td>\n",
       "      <td>40</td>\n",
       "      <td>United-States</td>\n",
       "      <td>&lt;=50K</td>\n",
       "    </tr>\n",
       "  </tbody>\n",
       "</table>\n",
       "</div>"
      ],
      "text/plain": [
       "   age   workclass  fnlwgt   education  education-num  marital-status  \\\n",
       "0   39   State-gov   77516   Bachelors             13   Never-married   \n",
       "\n",
       "      occupation    relationship    race    sex  capital-gain  capital-loss  \\\n",
       "0   Adm-clerical   Not-in-family   White   Male          2174             0   \n",
       "\n",
       "   hours-per-week  native-country  income  \n",
       "0              40   United-States   <=50K  "
      ]
     },
     "execution_count": 129,
     "metadata": {},
     "output_type": "execute_result"
    }
   ],
   "source": [
    "df.head(1)"
   ]
  },
  {
   "cell_type": "code",
   "execution_count": 130,
   "id": "8db535c0-3409-490b-a8aa-4dc625a55823",
   "metadata": {},
   "outputs": [
    {
     "name": "stdout",
     "output_type": "stream",
     "text": [
      "<class 'pandas.core.frame.DataFrame'>\n",
      "RangeIndex: 32561 entries, 0 to 32560\n",
      "Data columns (total 15 columns):\n",
      " #   Column          Non-Null Count  Dtype \n",
      "---  ------          --------------  ----- \n",
      " 0   age             32561 non-null  int64 \n",
      " 1   workclass       32561 non-null  object\n",
      " 2   fnlwgt          32561 non-null  int64 \n",
      " 3   education       32561 non-null  object\n",
      " 4   education-num   32561 non-null  int64 \n",
      " 5   marital-status  32561 non-null  object\n",
      " 6   occupation      32561 non-null  object\n",
      " 7   relationship    32561 non-null  object\n",
      " 8   race            32561 non-null  object\n",
      " 9   sex             32561 non-null  object\n",
      " 10  capital-gain    32561 non-null  int64 \n",
      " 11  capital-loss    32561 non-null  int64 \n",
      " 12  hours-per-week  32561 non-null  int64 \n",
      " 13  native-country  32561 non-null  object\n",
      " 14  income          32561 non-null  object\n",
      "dtypes: int64(6), object(9)\n",
      "memory usage: 3.7+ MB\n"
     ]
    }
   ],
   "source": [
    "# 데이터 전처리\n",
    "df.info()"
   ]
  },
  {
   "cell_type": "code",
   "execution_count": 131,
   "id": "2d055144-666c-402a-b24d-d32249ac2e24",
   "metadata": {},
   "outputs": [],
   "source": [
    "# 중복되는 의미의 컬럼(피처)은 삭제\n",
    "df.drop(columns=['education'],inplace=True)"
   ]
  },
  {
   "cell_type": "code",
   "execution_count": 132,
   "id": "e1fa5868-6a6c-4df1-9372-4345d8db8ecf",
   "metadata": {},
   "outputs": [],
   "source": [
    "df['workclass'].replace(' ?', np.nan, inplace=True)"
   ]
  },
  {
   "cell_type": "code",
   "execution_count": 133,
   "id": "615797a5-ed1d-41a5-a3e5-f1c8f85ce6a1",
   "metadata": {},
   "outputs": [],
   "source": [
    "df['occupation'].replace(' ?', np.nan, inplace=True)"
   ]
  },
  {
   "cell_type": "code",
   "execution_count": 134,
   "id": "f35f74c4-e880-47c6-96e7-e5539a9210de",
   "metadata": {},
   "outputs": [],
   "source": [
    "df['native-country'].replace(' ?', np.nan, inplace=True)"
   ]
  },
  {
   "cell_type": "code",
   "execution_count": 135,
   "id": "b7da7747-93a1-4700-ae0c-c27153529062",
   "metadata": {},
   "outputs": [
    {
     "data": {
      "text/plain": [
       "age                  0\n",
       "workclass         1836\n",
       "fnlwgt               0\n",
       "education-num        0\n",
       "marital-status       0\n",
       "occupation        1843\n",
       "relationship         0\n",
       "race                 0\n",
       "sex                  0\n",
       "capital-gain         0\n",
       "capital-loss         0\n",
       "hours-per-week       0\n",
       "native-country     583\n",
       "income               0\n",
       "dtype: int64"
      ]
     },
     "execution_count": 135,
     "metadata": {},
     "output_type": "execute_result"
    }
   ],
   "source": [
    "df.isna().sum()"
   ]
  },
  {
   "cell_type": "code",
   "execution_count": 136,
   "id": "afb08149-c764-4dae-bb00-1101826e5fbe",
   "metadata": {},
   "outputs": [
    {
     "data": {
      "text/plain": [
       "32561"
      ]
     },
     "execution_count": 136,
     "metadata": {},
     "output_type": "execute_result"
    }
   ],
   "source": [
    "len(df)"
   ]
  },
  {
   "cell_type": "code",
   "execution_count": 142,
   "id": "fbe4770a-1b7f-4594-bf18-1d8dda1bcfff",
   "metadata": {},
   "outputs": [],
   "source": [
    "df2 = df.dropna()"
   ]
  },
  {
   "cell_type": "code",
   "execution_count": 143,
   "id": "07e6f5b7-584d-49f9-bd35-58baac3c01ee",
   "metadata": {},
   "outputs": [],
   "source": [
    "# 문자형 데이터를 수치화 한다...  one hot encoding\n",
    "df2 = pd.get_dummies(df2)"
   ]
  },
  {
   "cell_type": "code",
   "execution_count": 147,
   "id": "268bc2a3-c3d7-43c9-bf6e-83b07041edb9",
   "metadata": {},
   "outputs": [],
   "source": [
    "df2.reset_index(drop=True,inplace=True)"
   ]
  },
  {
   "cell_type": "code",
   "execution_count": 148,
   "id": "153021e2-89c8-40b2-8fda-03dca9056f3e",
   "metadata": {},
   "outputs": [
    {
     "name": "stdout",
     "output_type": "stream",
     "text": [
      "<class 'pandas.core.frame.DataFrame'>\n",
      "RangeIndex: 30162 entries, 0 to 30161\n",
      "Data columns (total 90 columns):\n",
      " #   Column                                      Non-Null Count  Dtype\n",
      "---  ------                                      --------------  -----\n",
      " 0   age                                         30162 non-null  int64\n",
      " 1   fnlwgt                                      30162 non-null  int64\n",
      " 2   education-num                               30162 non-null  int64\n",
      " 3   capital-gain                                30162 non-null  int64\n",
      " 4   capital-loss                                30162 non-null  int64\n",
      " 5   hours-per-week                              30162 non-null  int64\n",
      " 6   workclass_ Federal-gov                      30162 non-null  uint8\n",
      " 7   workclass_ Local-gov                        30162 non-null  uint8\n",
      " 8   workclass_ Private                          30162 non-null  uint8\n",
      " 9   workclass_ Self-emp-inc                     30162 non-null  uint8\n",
      " 10  workclass_ Self-emp-not-inc                 30162 non-null  uint8\n",
      " 11  workclass_ State-gov                        30162 non-null  uint8\n",
      " 12  workclass_ Without-pay                      30162 non-null  uint8\n",
      " 13  marital-status_ Divorced                    30162 non-null  uint8\n",
      " 14  marital-status_ Married-AF-spouse           30162 non-null  uint8\n",
      " 15  marital-status_ Married-civ-spouse          30162 non-null  uint8\n",
      " 16  marital-status_ Married-spouse-absent       30162 non-null  uint8\n",
      " 17  marital-status_ Never-married               30162 non-null  uint8\n",
      " 18  marital-status_ Separated                   30162 non-null  uint8\n",
      " 19  marital-status_ Widowed                     30162 non-null  uint8\n",
      " 20  occupation_ Adm-clerical                    30162 non-null  uint8\n",
      " 21  occupation_ Armed-Forces                    30162 non-null  uint8\n",
      " 22  occupation_ Craft-repair                    30162 non-null  uint8\n",
      " 23  occupation_ Exec-managerial                 30162 non-null  uint8\n",
      " 24  occupation_ Farming-fishing                 30162 non-null  uint8\n",
      " 25  occupation_ Handlers-cleaners               30162 non-null  uint8\n",
      " 26  occupation_ Machine-op-inspct               30162 non-null  uint8\n",
      " 27  occupation_ Other-service                   30162 non-null  uint8\n",
      " 28  occupation_ Priv-house-serv                 30162 non-null  uint8\n",
      " 29  occupation_ Prof-specialty                  30162 non-null  uint8\n",
      " 30  occupation_ Protective-serv                 30162 non-null  uint8\n",
      " 31  occupation_ Sales                           30162 non-null  uint8\n",
      " 32  occupation_ Tech-support                    30162 non-null  uint8\n",
      " 33  occupation_ Transport-moving                30162 non-null  uint8\n",
      " 34  relationship_ Husband                       30162 non-null  uint8\n",
      " 35  relationship_ Not-in-family                 30162 non-null  uint8\n",
      " 36  relationship_ Other-relative                30162 non-null  uint8\n",
      " 37  relationship_ Own-child                     30162 non-null  uint8\n",
      " 38  relationship_ Unmarried                     30162 non-null  uint8\n",
      " 39  relationship_ Wife                          30162 non-null  uint8\n",
      " 40  race_ Amer-Indian-Eskimo                    30162 non-null  uint8\n",
      " 41  race_ Asian-Pac-Islander                    30162 non-null  uint8\n",
      " 42  race_ Black                                 30162 non-null  uint8\n",
      " 43  race_ Other                                 30162 non-null  uint8\n",
      " 44  race_ White                                 30162 non-null  uint8\n",
      " 45  sex_ Female                                 30162 non-null  uint8\n",
      " 46  sex_ Male                                   30162 non-null  uint8\n",
      " 47  native-country_ Cambodia                    30162 non-null  uint8\n",
      " 48  native-country_ Canada                      30162 non-null  uint8\n",
      " 49  native-country_ China                       30162 non-null  uint8\n",
      " 50  native-country_ Columbia                    30162 non-null  uint8\n",
      " 51  native-country_ Cuba                        30162 non-null  uint8\n",
      " 52  native-country_ Dominican-Republic          30162 non-null  uint8\n",
      " 53  native-country_ Ecuador                     30162 non-null  uint8\n",
      " 54  native-country_ El-Salvador                 30162 non-null  uint8\n",
      " 55  native-country_ England                     30162 non-null  uint8\n",
      " 56  native-country_ France                      30162 non-null  uint8\n",
      " 57  native-country_ Germany                     30162 non-null  uint8\n",
      " 58  native-country_ Greece                      30162 non-null  uint8\n",
      " 59  native-country_ Guatemala                   30162 non-null  uint8\n",
      " 60  native-country_ Haiti                       30162 non-null  uint8\n",
      " 61  native-country_ Holand-Netherlands          30162 non-null  uint8\n",
      " 62  native-country_ Honduras                    30162 non-null  uint8\n",
      " 63  native-country_ Hong                        30162 non-null  uint8\n",
      " 64  native-country_ Hungary                     30162 non-null  uint8\n",
      " 65  native-country_ India                       30162 non-null  uint8\n",
      " 66  native-country_ Iran                        30162 non-null  uint8\n",
      " 67  native-country_ Ireland                     30162 non-null  uint8\n",
      " 68  native-country_ Italy                       30162 non-null  uint8\n",
      " 69  native-country_ Jamaica                     30162 non-null  uint8\n",
      " 70  native-country_ Japan                       30162 non-null  uint8\n",
      " 71  native-country_ Laos                        30162 non-null  uint8\n",
      " 72  native-country_ Mexico                      30162 non-null  uint8\n",
      " 73  native-country_ Nicaragua                   30162 non-null  uint8\n",
      " 74  native-country_ Outlying-US(Guam-USVI-etc)  30162 non-null  uint8\n",
      " 75  native-country_ Peru                        30162 non-null  uint8\n",
      " 76  native-country_ Philippines                 30162 non-null  uint8\n",
      " 77  native-country_ Poland                      30162 non-null  uint8\n",
      " 78  native-country_ Portugal                    30162 non-null  uint8\n",
      " 79  native-country_ Puerto-Rico                 30162 non-null  uint8\n",
      " 80  native-country_ Scotland                    30162 non-null  uint8\n",
      " 81  native-country_ South                       30162 non-null  uint8\n",
      " 82  native-country_ Taiwan                      30162 non-null  uint8\n",
      " 83  native-country_ Thailand                    30162 non-null  uint8\n",
      " 84  native-country_ Trinadad&Tobago             30162 non-null  uint8\n",
      " 85  native-country_ United-States               30162 non-null  uint8\n",
      " 86  native-country_ Vietnam                     30162 non-null  uint8\n",
      " 87  native-country_ Yugoslavia                  30162 non-null  uint8\n",
      " 88  income_ <=50K                               30162 non-null  uint8\n",
      " 89  income_ >50K                                30162 non-null  uint8\n",
      "dtypes: int64(6), uint8(84)\n",
      "memory usage: 3.8 MB\n"
     ]
    }
   ],
   "source": [
    "df2.info()"
   ]
  },
  {
   "cell_type": "code",
   "execution_count": 154,
   "id": "dd6c7e53-170d-4347-b20c-04c7ebfb4095",
   "metadata": {},
   "outputs": [],
   "source": [
    "# income_ <=50K 열을 삭제\n",
    "df2.drop(columns=['income_ <=50K'],inplace=True)"
   ]
  },
  {
   "cell_type": "code",
   "execution_count": 155,
   "id": "71a9ee51-0003-4257-a939-1814e01d802f",
   "metadata": {},
   "outputs": [],
   "source": [
    "# 가장 적합한 모델을 찾는 방법\n",
    "X = df2.iloc[:,:-1].to_numpy()\n",
    "Y = df2.iloc[:,-1].to_numpy()"
   ]
  },
  {
   "cell_type": "code",
   "execution_count": 156,
   "id": "efcce6c5-03e8-4a28-b7df-a69530fef75f",
   "metadata": {},
   "outputs": [],
   "source": [
    "# 선형회귀 - 로지스틱회귀\n",
    "# 트리 -  앙상블포함 xgboost\n",
    "# 이웃 - KneigborsClass"
   ]
  },
  {
   "cell_type": "code",
   "execution_count": 157,
   "id": "2beed697-53d7-4b7a-b290-2c6920388a94",
   "metadata": {},
   "outputs": [],
   "source": [
    "# 데이터 표준화\n",
    "from sklearn.preprocessing import StandardScaler\n",
    "ss = StandardScaler()\n",
    "X = ss.fit_transform(X)"
   ]
  },
  {
   "cell_type": "code",
   "execution_count": 163,
   "id": "1aecb170-1865-4dd0-95f9-a9fb889500ad",
   "metadata": {},
   "outputs": [],
   "source": [
    "# 교차검증 함수\n",
    "def cross_val(classifier, num_split = 10):\n",
    "    scores = cross_validate(classifier,X,Y, cv=num_split,return_train_score=True)\n",
    "    return np.mean(scores['train_score']), np.mean(scores['test_score'])"
   ]
  },
  {
   "cell_type": "code",
   "execution_count": 164,
   "id": "a4860bee-0d67-4eaa-820c-2d1147ce7ced",
   "metadata": {},
   "outputs": [],
   "source": [
    "from sklearn.linear_model import LogisticRegression\n",
    "from xgboost import XGBClassifier\n",
    "from sklearn.neighbors import KNeighborsClassifier"
   ]
  },
  {
   "cell_type": "code",
   "execution_count": 165,
   "id": "6458124d-1351-4322-a9c2-0d2a2d23f313",
   "metadata": {},
   "outputs": [],
   "source": [
    "lr = LogisticRegression()\n",
    "xgbc = XGBClassifier()\n",
    "knc = KNeighborsClassifier()"
   ]
  },
  {
   "cell_type": "code",
   "execution_count": 166,
   "id": "0e68a18d-451b-4d2f-847e-722c24004f9f",
   "metadata": {},
   "outputs": [
    {
     "name": "stdout",
     "output_type": "stream",
     "text": [
      "(0.8496341996398129, 0.8473575908050666)\n",
      "(0.9004523821081578, 0.8678469881986164)\n",
      "(0.8754208813106785, 0.8243157254778184)\n"
     ]
    }
   ],
   "source": [
    "print(cross_val(lr))\n",
    "print(cross_val(xgbc))\n",
    "print(cross_val(knc))"
   ]
  },
  {
   "cell_type": "code",
   "execution_count": 169,
   "id": "fa5525ca-52d6-4477-9a52-5cfe724f94d0",
   "metadata": {},
   "outputs": [
    {
     "data": {
      "text/plain": [
       "(0.8646973067474641, 0.860056035252051)"
      ]
     },
     "execution_count": 169,
     "metadata": {},
     "output_type": "execute_result"
    }
   ],
   "source": [
    "cross_val(XGBClassifier(n_estimators = 10))"
   ]
  },
  {
   "cell_type": "code",
   "execution_count": null,
   "id": "c5883a2a-4453-4bc8-946b-441f4edb0349",
   "metadata": {},
   "outputs": [],
   "source": []
  }
 ],
 "metadata": {
  "kernelspec": {
   "display_name": "Python 3 (ipykernel)",
   "language": "python",
   "name": "python3"
  },
  "language_info": {
   "codemirror_mode": {
    "name": "ipython",
    "version": 3
   },
   "file_extension": ".py",
   "mimetype": "text/x-python",
   "name": "python",
   "nbconvert_exporter": "python",
   "pygments_lexer": "ipython3",
   "version": "3.10.8"
  }
 },
 "nbformat": 4,
 "nbformat_minor": 5
}
