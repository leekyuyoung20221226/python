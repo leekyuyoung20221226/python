{
 "cells": [
  {
   "cell_type": "markdown",
   "id": "f3d3ff03-65ed-403f-b511-293e78db10fc",
   "metadata": {},
   "source": [
    "# 배열간 비교 연산"
   ]
  },
  {
   "cell_type": "code",
   "execution_count": 2,
   "id": "3022db2e-85a9-4ef6-be44-09d76cd1b4f5",
   "metadata": {},
   "outputs": [],
   "source": [
    "import numpy as np\n",
    "from numpy.random import choice"
   ]
  },
  {
   "cell_type": "code",
   "execution_count": 5,
   "id": "b20133a4-645a-449d-8029-9514beeb4fb3",
   "metadata": {},
   "outputs": [],
   "source": [
    "matrix_1 =  choice(range(100),9).reshape(3,3)\n",
    "matrix_2 =  choice(range(100),9).reshape(3,3)"
   ]
  },
  {
   "cell_type": "code",
   "execution_count": 6,
   "id": "ed4695e8-75f9-4639-aec1-de6aea3658ba",
   "metadata": {},
   "outputs": [
    {
     "data": {
      "text/plain": [
       "(array([[87, 41, 60],\n",
       "        [51, 38, 93],\n",
       "        [78, 13, 10]]),\n",
       " array([[21, 96, 54],\n",
       "        [14, 83, 87],\n",
       "        [12, 26,  9]]))"
      ]
     },
     "execution_count": 6,
     "metadata": {},
     "output_type": "execute_result"
    }
   ],
   "source": [
    "matrix_1, matrix_2"
   ]
  },
  {
   "cell_type": "code",
   "execution_count": 8,
   "id": "b06af5f4-d0ae-44d5-adc3-e444b2bcd856",
   "metadata": {},
   "outputs": [
    {
     "name": "stdout",
     "output_type": "stream",
     "text": [
      "[[ True False  True]\n",
      " [ True False  True]\n",
      " [ True False  True]]\n",
      "[[ True False  True]\n",
      " [ True False  True]\n",
      " [ True False  True]]\n",
      "[[False False False]\n",
      " [False False False]\n",
      " [False False False]]\n",
      "[[ True  True  True]\n",
      " [ True  True  True]\n",
      " [ True  True  True]]\n",
      "[[False  True False]\n",
      " [False  True False]\n",
      " [False  True False]]\n",
      "[[False  True False]\n",
      " [False  True False]\n",
      " [False  True False]]\n"
     ]
    }
   ],
   "source": [
    "print(matrix_1 > matrix_2)\n",
    "print(matrix_1 >= matrix_2)\n",
    "print(matrix_1 == matrix_2)\n",
    "print(matrix_1 != matrix_2)\n",
    "print(matrix_1 < matrix_2)\n",
    "print(matrix_1 <= matrix_2)"
   ]
  },
  {
   "cell_type": "code",
   "execution_count": 9,
   "id": "d3040ba6-ce40-4214-a91d-9d4e9955b366",
   "metadata": {},
   "outputs": [],
   "source": [
    "# true false를 배열의 인덱스로 사용해서 true에 해당하는 데이터만 추출"
   ]
  },
  {
   "cell_type": "code",
   "execution_count": 13,
   "id": "346fba4d-8345-40a1-aa7c-7d9004b86e78",
   "metadata": {},
   "outputs": [
    {
     "name": "stdout",
     "output_type": "stream",
     "text": [
      "[87 60 51 93 78 10]\n",
      "[87 60 51 93 78 10]\n",
      "[]\n",
      "[87 41 60 51 38 93 78 13 10]\n",
      "[41 38 13]\n",
      "[41 38 13]\n"
     ]
    }
   ],
   "source": [
    "print(matrix_1[matrix_1 > matrix_2])\n",
    "print(matrix_1[matrix_1 >= matrix_2])\n",
    "print(matrix_1[matrix_1 == matrix_2])\n",
    "print(matrix_1[matrix_1 != matrix_2])\n",
    "print(matrix_1[matrix_1 < matrix_2])\n",
    "print(matrix_1[matrix_1 <= matrix_2])"
   ]
  },
  {
   "cell_type": "code",
   "execution_count": 11,
   "id": "6b19956b-1872-47ac-9104-132a836f6b46",
   "metadata": {},
   "outputs": [
    {
     "data": {
      "text/plain": [
       "array([87, 60, 51, 93, 78, 10])"
      ]
     },
     "execution_count": 11,
     "metadata": {},
     "output_type": "execute_result"
    }
   ],
   "source": [
    "matrix_1[ matrix_1 > matrix_2  ]"
   ]
  },
  {
   "cell_type": "code",
   "execution_count": 26,
   "id": "90635496-105c-457a-bf7b-45bed518e354",
   "metadata": {},
   "outputs": [
    {
     "data": {
      "text/plain": [
       "array([95, 85, 78, 78, 66, 68, 83, 80, 83])"
      ]
     },
     "execution_count": 26,
     "metadata": {},
     "output_type": "execute_result"
    }
   ],
   "source": [
    "student_score =  choice(range(60,100),9)\n",
    "student_score"
   ]
  },
  {
   "cell_type": "code",
   "execution_count": 27,
   "id": "deabb180-3a69-4289-8c38-80212fb904fe",
   "metadata": {},
   "outputs": [
    {
     "data": {
      "text/plain": [
       "array(['a', 'b', 'c', 'd', 'e', 'f', 'g', 'h', 'i'], dtype='<U1')"
      ]
     },
     "execution_count": 27,
     "metadata": {},
     "output_type": "execute_result"
    }
   ],
   "source": [
    "student_names = np.array(['a','b','c','d','e','f','g','h','i'])\n",
    "student_names"
   ]
  },
  {
   "cell_type": "code",
   "execution_count": 28,
   "id": "49f348a8-7d60-458f-bac2-2d1dda3bc994",
   "metadata": {},
   "outputs": [
    {
     "data": {
      "text/plain": [
       "array([ True,  True,  True,  True, False, False,  True,  True,  True])"
      ]
     },
     "execution_count": 28,
     "metadata": {},
     "output_type": "execute_result"
    }
   ],
   "source": [
    "# 점수가 70이상인 학생들을 출력\n",
    "student_score>70"
   ]
  },
  {
   "cell_type": "code",
   "execution_count": 29,
   "id": "db9d11f6-a4fd-442c-9a2b-30914b613f96",
   "metadata": {},
   "outputs": [
    {
     "name": "stdout",
     "output_type": "stream",
     "text": [
      "['a' 'b' 'c' 'd' 'g' 'h' 'i']\n"
     ]
    }
   ],
   "source": [
    "print(student_names[student_score>70])"
   ]
  },
  {
   "cell_type": "markdown",
   "id": "84975ce5-9986-4c0e-ae41-721a1454d626",
   "metadata": {},
   "source": [
    "# 판다스 Pandas\n",
    "    데이터분석에 자주 사용되는 프레임웍"
   ]
  },
  {
   "cell_type": "markdown",
   "id": "4f085e35-a96b-4cb7-ab08-9ed12090ba4c",
   "metadata": {},
   "source": [
    "## 시리즈"
   ]
  },
  {
   "cell_type": "code",
   "execution_count": 33,
   "id": "41b27122-a008-4715-a0d7-909b1fa5181d",
   "metadata": {},
   "outputs": [
    {
     "name": "stdout",
     "output_type": "stream",
     "text": [
      "Collecting pandas\n",
      "  Downloading pandas-1.5.2-cp310-cp310-win_amd64.whl (10.4 MB)\n",
      "     --------------------------------------- 10.4/10.4 MB 59.5 MB/s eta 0:00:00\n",
      "Requirement already satisfied: python-dateutil>=2.8.1 in c:\\users\\user\\miniconda3\\envs\\py\\lib\\site-packages (from pandas) (2.8.2)\n",
      "Requirement already satisfied: pytz>=2020.1 in c:\\users\\user\\miniconda3\\envs\\py\\lib\\site-packages (from pandas) (2022.7)\n",
      "Requirement already satisfied: numpy>=1.21.0 in c:\\users\\user\\miniconda3\\envs\\py\\lib\\site-packages (from pandas) (1.24.1)\n",
      "Requirement already satisfied: six>=1.5 in c:\\users\\user\\miniconda3\\envs\\py\\lib\\site-packages (from python-dateutil>=2.8.1->pandas) (1.16.0)\n",
      "Installing collected packages: pandas\n",
      "Successfully installed pandas-1.5.2\n"
     ]
    }
   ],
   "source": [
    "!pip  install pandas"
   ]
  },
  {
   "cell_type": "code",
   "execution_count": 34,
   "id": "292680ae-1841-4cc0-9437-1cef8a638e48",
   "metadata": {},
   "outputs": [],
   "source": [
    "import pandas as pd"
   ]
  },
  {
   "cell_type": "code",
   "execution_count": 39,
   "id": "938d6b3a-1d48-47af-bb77-97b3dc4208e7",
   "metadata": {},
   "outputs": [
    {
     "name": "stdout",
     "output_type": "stream",
     "text": [
      "0    1\n",
      "1    2\n",
      "2    3\n",
      "3    4\n",
      "4    5\n",
      "dtype: int64\n",
      "\n",
      "RangeIndex(start=0, stop=5, step=1)\n",
      "\n",
      "[1 2 3 4 5]\n"
     ]
    }
   ],
   "source": [
    "series_list_1 =  pd.Series([1,2,3,4,5])\n",
    "print(series_list_1)\n",
    "print()\n",
    "print(series_list_1.index)\n",
    "print()\n",
    "print(series_list_1.values)"
   ]
  },
  {
   "cell_type": "code",
   "execution_count": 40,
   "id": "b5956455-858e-4b1b-973e-f7ced2bf59d5",
   "metadata": {},
   "outputs": [
    {
     "name": "stdout",
     "output_type": "stream",
     "text": [
      "10    1\n",
      "20    2\n",
      "30    3\n",
      "40    4\n",
      "50    5\n",
      "dtype: int64\n",
      "\n",
      "Int64Index([10, 20, 30, 40, 50], dtype='int64')\n",
      "\n",
      "[1 2 3 4 5]\n"
     ]
    }
   ],
   "source": [
    "series_list_1 =  pd.Series([1,2,3,4,5], index = [10,20,30,40,50])\n",
    "print(series_list_1)\n",
    "print()\n",
    "print(series_list_1.index)\n",
    "print()\n",
    "print(series_list_1.values)"
   ]
  },
  {
   "cell_type": "code",
   "execution_count": 41,
   "id": "93dd2bb4-d0a9-4a24-9d92-e4bdc3a63e83",
   "metadata": {},
   "outputs": [
    {
     "name": "stdout",
     "output_type": "stream",
     "text": [
      "a    1\n",
      "b    2\n",
      "c    3\n",
      "d    4\n",
      "e    5\n",
      "dtype: int64\n",
      "\n",
      "Index(['a', 'b', 'c', 'd', 'e'], dtype='object')\n",
      "\n",
      "[1 2 3 4 5]\n"
     ]
    }
   ],
   "source": [
    "series_list_1 =  pd.Series([1,2,3,4,5], index = ['a','b','c','d','e'])\n",
    "print(series_list_1)\n",
    "print()\n",
    "print(series_list_1.index)\n",
    "print()\n",
    "print(series_list_1.values)"
   ]
  },
  {
   "cell_type": "code",
   "execution_count": 52,
   "id": "b6ad5013-7f3d-4d65-9183-210760f74644",
   "metadata": {},
   "outputs": [
    {
     "name": "stdout",
     "output_type": "stream",
     "text": [
      "a    1\n",
      "b    2\n",
      "c    3\n",
      "d    4\n",
      "e    5\n",
      "dtype: int64\n",
      "\n",
      "Index(['a', 'b', 'c', 'd', 'e'], dtype='object')\n",
      "\n",
      "[1 2 3 4 5]\n"
     ]
    }
   ],
   "source": [
    "series_list_1 =  pd.Series([1,2,3,4,5], index = ['a','b','c','d','e'])\n",
    "print(series_list_1)\n",
    "print()\n",
    "print(series_list_1.index)\n",
    "print()\n",
    "print(series_list_1.values)"
   ]
  },
  {
   "cell_type": "markdown",
   "id": "1a2fddca-4e35-41db-914e-895493c10a1a",
   "metadata": {},
   "source": [
    "### 딕셔너리로 시리즈 생성하기"
   ]
  },
  {
   "cell_type": "code",
   "execution_count": 55,
   "id": "a63bab3f-04e1-4cd3-846a-bb9a8e561382",
   "metadata": {},
   "outputs": [
    {
     "data": {
      "text/plain": [
       "치킨     32000\n",
       "피자     25000\n",
       "햄버거     7000\n",
       "dtype: int64"
      ]
     },
     "execution_count": 55,
     "metadata": {},
     "output_type": "execute_result"
    }
   ],
   "source": [
    "dic_data = {'치킨' : 32000, '피자' : 25000, '햄버거' : 7000 }\n",
    "series_list_a = pd.Series(dic_data)\n",
    "series_list_a"
   ]
  },
  {
   "cell_type": "code",
   "execution_count": 63,
   "id": "fbc5c2f6-a485-4f35-bbec-5219f140850d",
   "metadata": {},
   "outputs": [
    {
     "data": {
      "text/plain": [
       "치킨     32000.0\n",
       "피자     25000.0\n",
       "햄버거     7000.0\n",
       "짜장면        NaN\n",
       "dtype: float64"
      ]
     },
     "execution_count": 63,
     "metadata": {},
     "output_type": "execute_result"
    }
   ],
   "source": [
    "delivery_food = ['치킨','피자','햄버거','짜장면']\n",
    "dic_data = {'치킨' : 32000, '피자' : 25000, '햄버거' : 7000 }\n",
    "\n",
    "series_list_a = pd.Series(dic_data, index = delivery_food)\n",
    "series_list_a"
   ]
  },
  {
   "cell_type": "code",
   "execution_count": 62,
   "id": "a8a33bc4-7cc8-454a-ada0-fa2ac47e1cbd",
   "metadata": {},
   "outputs": [
    {
     "data": {
      "text/plain": [
       "치킨     1\n",
       "피자     2\n",
       "탕수육    3\n",
       "짜장면    4\n",
       "dtype: int64"
      ]
     },
     "execution_count": 62,
     "metadata": {},
     "output_type": "execute_result"
    }
   ],
   "source": [
    "series_list_b = pd.Series([1,2,3,4], index = delivery_food)\n",
    "series_list_b"
   ]
  },
  {
   "cell_type": "markdown",
   "id": "8259b9bc-1b47-4d88-bfd1-6613ce0b0fc8",
   "metadata": {},
   "source": [
    "### NaN : Not a Number --> 결측치"
   ]
  },
  {
   "cell_type": "code",
   "execution_count": 64,
   "id": "3c4e2f8b-5512-4b5c-91a6-a90af7e7c33f",
   "metadata": {},
   "outputs": [
    {
     "name": "stdout",
     "output_type": "stream",
     "text": [
      "32000.0\n",
      "치킨    32000.0\n",
      "피자    25000.0\n",
      "dtype: float64\n"
     ]
    }
   ],
   "source": [
    "# 시리즈에서 값을 찾을때\n",
    "print(series_list_a['치킨'])\n",
    "# 여러개를 찾을때\n",
    "print(series_list_a[ ['치킨','피자'] ])"
   ]
  },
  {
   "cell_type": "code",
   "execution_count": 65,
   "id": "8a4a6bcd-bb51-406e-aa1f-0aec66a5dc1d",
   "metadata": {},
   "outputs": [
    {
     "data": {
      "text/plain": [
       "치킨      True\n",
       "피자      True\n",
       "햄버거    False\n",
       "짜장면    False\n",
       "dtype: bool"
      ]
     },
     "execution_count": 65,
     "metadata": {},
     "output_type": "execute_result"
    }
   ],
   "source": [
    "# 조건에 해당하는 값을 찾을때\n",
    "series_list_a > 20000"
   ]
  },
  {
   "cell_type": "code",
   "execution_count": 66,
   "id": "f925e26e-9582-4631-b851-efc06446b658",
   "metadata": {},
   "outputs": [
    {
     "data": {
      "text/plain": [
       "치킨    32000.0\n",
       "피자    25000.0\n",
       "dtype: float64"
      ]
     },
     "execution_count": 66,
     "metadata": {},
     "output_type": "execute_result"
    }
   ],
   "source": [
    "series_list_a[ series_list_a > 20000 ]"
   ]
  },
  {
   "cell_type": "code",
   "execution_count": 67,
   "id": "eceb8689-4a27-4779-a45d-50b695b8381c",
   "metadata": {},
   "outputs": [
    {
     "name": "stdout",
     "output_type": "stream",
     "text": [
      "True\n"
     ]
    }
   ],
   "source": [
    "# 인덱스가 있는지 확인할때\n",
    "print('치킨' in series_list_a)"
   ]
  },
  {
   "cell_type": "code",
   "execution_count": null,
   "id": "3ce4e6b1-cef7-4faa-b5ce-4accc636bc95",
   "metadata": {},
   "outputs": [],
   "source": []
  }
 ],
 "metadata": {
  "kernelspec": {
   "display_name": "Python 3 (ipykernel)",
   "language": "python",
   "name": "python3"
  },
  "language_info": {
   "codemirror_mode": {
    "name": "ipython",
    "version": 3
   },
   "file_extension": ".py",
   "mimetype": "text/x-python",
   "name": "python",
   "nbconvert_exporter": "python",
   "pygments_lexer": "ipython3",
   "version": "3.10.8"
  }
 },
 "nbformat": 4,
 "nbformat_minor": 5
}
