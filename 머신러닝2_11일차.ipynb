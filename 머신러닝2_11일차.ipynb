{
 "cells": [
  {
   "cell_type": "markdown",
   "id": "1736f3a3-6c48-4b31-b10d-802fd7e78d18",
   "metadata": {},
   "source": [
    "# 코로나 네이버 뉴스 API 감성분석\n",
    "    머신러닝2_6일차 참조"
   ]
  },
  {
   "cell_type": "markdown",
   "id": "962aa152-cd5a-4965-a057-2206f4df597f",
   "metadata": {},
   "source": [
    "# 네이버 뉴스 크롤링"
   ]
  },
  {
   "cell_type": "code",
   "execution_count": 3,
   "id": "c754ce03-a940-4cf4-863b-0da711f0aa0d",
   "metadata": {},
   "outputs": [],
   "source": [
    "import pandas as pd\n",
    "import numpy as np"
   ]
  },
  {
   "cell_type": "code",
   "execution_count": 4,
   "id": "d48a4ffa-031d-45af-a093-df70991b50e9",
   "metadata": {},
   "outputs": [],
   "source": [
    "# 함수 설계\n",
    "import os\n",
    "import sys\n",
    "import urllib.request\n",
    "import json\n",
    "client_id = \"J2KwXxSxDGbKmuP9V6eE\"\n",
    "client_secret = \"NOtfPphkJY\"\n",
    "def getRequestUrl(url):\n",
    "    request = urllib.request.Request(url)\n",
    "    request.add_header(\"X-Naver-Client-Id\",client_id)\n",
    "    request.add_header(\"X-Naver-Client-Secret\",client_secret)\n",
    "    try:\n",
    "        response = urllib.request.urlopen(request)\n",
    "        rescode = response.getcode()\n",
    "        if(rescode==200): # 성공\n",
    "            response_body = response.read()\n",
    "            return response_body.decode('utf-8')\n",
    "        else:\n",
    "            print(\"Error Code:\" + rescode)  # 404(경로가 잘못), 500(내부에러)\n",
    "            return None\n",
    "    except Exception as e:\n",
    "        print(e)\n",
    "        return None\n",
    "        \n",
    "def getNeverSearch(srcText,searchType='news',display=10,start=1):\n",
    "    encText = urllib.parse.quote(srcText)\n",
    "    url = f\"https://openapi.naver.com/v1/search/{searchType}.json?query={encText}&display={display}&start={start}&sort=sim\"\n",
    "    jsonData =  getRequestUrl(url)\n",
    "    if jsonData == None:\n",
    "        return None\n",
    "    else:\n",
    "        return json.loads(jsonData)"
   ]
  },
  {
   "cell_type": "code",
   "execution_count": 5,
   "id": "95fee268-ce04-4f54-afe7-ec16efdf4b33",
   "metadata": {},
   "outputs": [],
   "source": [
    "searchRange = [i for i in range(1,1000,100)] + [1000]  \n",
    "result = []\n",
    "for start in searchRange:\n",
    "    result += getNeverSearch('코로나',start=start, display=100)['items']"
   ]
  },
  {
   "cell_type": "code",
   "execution_count": 17,
   "id": "ff6bca1b-cfd0-4e68-af92-d5080e7361de",
   "metadata": {},
   "outputs": [],
   "source": [
    "### 분석에 필요한 데이터 추출    \n",
    "data_title = []\n",
    "data_description = []\n",
    "for item in result:\n",
    "    data_title.append(item['title'])\n",
    "    data_description.append(item['description'])"
   ]
  },
  {
   "cell_type": "code",
   "execution_count": 157,
   "id": "bb78a978-17a2-4a77-9101-5d3194f45234",
   "metadata": {
    "tags": []
   },
   "outputs": [],
   "source": [
    "data_df = pd.DataFrame({'title':data_title, 'description' : data_description})"
   ]
  },
  {
   "cell_type": "code",
   "execution_count": 158,
   "id": "6d9065a5-15ef-4465-a941-1e94a7855e9d",
   "metadata": {},
   "outputs": [],
   "source": [
    "data_df.to_csv('코로나 뉴스.csv',encoding='utf-8')"
   ]
  },
  {
   "cell_type": "code",
   "execution_count": 159,
   "id": "32e92a79-7411-401e-aa3d-740898d29eee",
   "metadata": {
    "collapsed": true,
    "jupyter": {
     "outputs_hidden": true
    },
    "tags": []
   },
   "outputs": [
    {
     "data": {
      "text/html": [
       "<div>\n",
       "<style scoped>\n",
       "    .dataframe tbody tr th:only-of-type {\n",
       "        vertical-align: middle;\n",
       "    }\n",
       "\n",
       "    .dataframe tbody tr th {\n",
       "        vertical-align: top;\n",
       "    }\n",
       "\n",
       "    .dataframe thead th {\n",
       "        text-align: right;\n",
       "    }\n",
       "</style>\n",
       "<table border=\"1\" class=\"dataframe\">\n",
       "  <thead>\n",
       "    <tr style=\"text-align: right;\">\n",
       "      <th></th>\n",
       "      <th>title</th>\n",
       "      <th>description</th>\n",
       "    </tr>\n",
       "  </thead>\n",
       "  <tbody>\n",
       "    <tr>\n",
       "      <th>0</th>\n",
       "      <td>“&lt;b&gt;코로나&lt;/b&gt; 백신, 고위험군 年2회 접종을”</td>\n",
       "      <td>지영미 질병관리청장이 앞으로 “신종 &lt;b&gt;코로나&lt;/b&gt;바이러스 감염증(&lt;b&gt;코로나&lt;...</td>\n",
       "    </tr>\n",
       "    <tr>\n",
       "      <th>1</th>\n",
       "      <td>방역당국 &amp;quot;&lt;b&gt;코로나&lt;/b&gt;백신 정례접종, 변이예측·백신개발 보며 검토&amp;...</td>\n",
       "      <td>방역 당국이 &lt;b&gt;코로나&lt;/b&gt;19 백신의 정례접종 도입을 검토할 때 변이 예측, ...</td>\n",
       "    </tr>\n",
       "    <tr>\n",
       "      <th>2</th>\n",
       "      <td>방역당국 &amp;quot;&lt;b&gt;코로나&lt;/b&gt; 백신 연 1~2회 정기접종 검토 중&amp;quot;</td>\n",
       "      <td>방역당국이 &lt;b&gt;코로나&lt;/b&gt;19 변이 예측과 백신 개발 상황 등을 고려해 백신 정...</td>\n",
       "    </tr>\n",
       "    <tr>\n",
       "      <th>3</th>\n",
       "      <td>폐업신고 않고 매출실적 낮춰 &lt;b&gt;코로나&lt;/b&gt; 지원금 ‘꿀꺽’</td>\n",
       "      <td>특히 &lt;b&gt;코로나&lt;/b&gt;19 소상공인 지원금 부정수급 신고 관련 상담이 1년 전보다...</td>\n",
       "    </tr>\n",
       "    <tr>\n",
       "      <th>4</th>\n",
       "      <td>&amp;apos;&lt;b&gt;코로나&lt;/b&gt; 수혜&amp;apos; 줌, 직원 1300명 감원 발표</td>\n",
       "      <td>&lt;b&gt;코로나&lt;/b&gt;19 팬데믹 대표 수혜 기업 중 하나인 화상회의 업체 줌 비디오 ...</td>\n",
       "    </tr>\n",
       "    <tr>\n",
       "      <th>...</th>\n",
       "      <td>...</td>\n",
       "      <td>...</td>\n",
       "    </tr>\n",
       "    <tr>\n",
       "      <th>1095</th>\n",
       "      <td>美, 5월 11일 &amp;apos;&lt;b&gt;코로나&lt;/b&gt;19 비상&amp;apos; 종료 예정</td>\n",
       "      <td>미국 정부가 오는 5월 11일 &lt;b&gt;코로나&lt;/b&gt;19로 인한 공중보건 비상사태를 종...</td>\n",
       "    </tr>\n",
       "    <tr>\n",
       "      <th>1096</th>\n",
       "      <td>캐나다, 중국발 입국자 &lt;b&gt;코로나&lt;/b&gt;19 의무 검사 두달 연장</td>\n",
       "      <td>캐나다가 중국, 홍콩, 마카오에서 입국한 여행객에 대한 &lt;b&gt;코로나&lt;/b&gt;19 의무...</td>\n",
       "    </tr>\n",
       "    <tr>\n",
       "      <th>1097</th>\n",
       "      <td>중국, 한국발 입국자에 &lt;b&gt;코로나&lt;/b&gt; 검사…중국인은 제외</td>\n",
       "      <td>&lt;b&gt;코로나&lt;/b&gt;19 검사를 예고대로 시행하면서 자국민은 제외한 외국 국적자에 대...</td>\n",
       "    </tr>\n",
       "    <tr>\n",
       "      <th>1098</th>\n",
       "      <td>[&lt;b&gt;코로나&lt;/b&gt;19]부산 신규 확진 337명</td>\n",
       "      <td>부산시 방역당국은 오늘 0시 기준 부산지역 &lt;b&gt;코로나&lt;/b&gt;19 신규 확진자는 3...</td>\n",
       "    </tr>\n",
       "    <tr>\n",
       "      <th>1099</th>\n",
       "      <td>강릉시, 영유아 대상 &lt;b&gt;코로나&lt;/b&gt;19 예방접종 실시</td>\n",
       "      <td>강원 강릉시는 만 6개월~4세 영유아, 만성폐질환 등을 앓는 고위험군 보호대책으로 ...</td>\n",
       "    </tr>\n",
       "  </tbody>\n",
       "</table>\n",
       "<p>1100 rows × 2 columns</p>\n",
       "</div>"
      ],
      "text/plain": [
       "                                                  title  \\\n",
       "0                         “<b>코로나</b> 백신, 고위험군 年2회 접종을”   \n",
       "1     방역당국 &quot;<b>코로나</b>백신 정례접종, 변이예측·백신개발 보며 검토&...   \n",
       "2       방역당국 &quot;<b>코로나</b> 백신 연 1~2회 정기접종 검토 중&quot;   \n",
       "3                   폐업신고 않고 매출실적 낮춰 <b>코로나</b> 지원금 ‘꿀꺽’   \n",
       "4           &apos;<b>코로나</b> 수혜&apos; 줌, 직원 1300명 감원 발표   \n",
       "...                                                 ...   \n",
       "1095        美, 5월 11일 &apos;<b>코로나</b>19 비상&apos; 종료 예정   \n",
       "1096              캐나다, 중국발 입국자 <b>코로나</b>19 의무 검사 두달 연장   \n",
       "1097                 중국, 한국발 입국자에 <b>코로나</b> 검사…중국인은 제외   \n",
       "1098                        [<b>코로나</b>19]부산 신규 확진 337명   \n",
       "1099                   강릉시, 영유아 대상 <b>코로나</b>19 예방접종 실시   \n",
       "\n",
       "                                            description  \n",
       "0     지영미 질병관리청장이 앞으로 “신종 <b>코로나</b>바이러스 감염증(<b>코로나<...  \n",
       "1     방역 당국이 <b>코로나</b>19 백신의 정례접종 도입을 검토할 때 변이 예측, ...  \n",
       "2     방역당국이 <b>코로나</b>19 변이 예측과 백신 개발 상황 등을 고려해 백신 정...  \n",
       "3     특히 <b>코로나</b>19 소상공인 지원금 부정수급 신고 관련 상담이 1년 전보다...  \n",
       "4     <b>코로나</b>19 팬데믹 대표 수혜 기업 중 하나인 화상회의 업체 줌 비디오 ...  \n",
       "...                                                 ...  \n",
       "1095  미국 정부가 오는 5월 11일 <b>코로나</b>19로 인한 공중보건 비상사태를 종...  \n",
       "1096  캐나다가 중국, 홍콩, 마카오에서 입국한 여행객에 대한 <b>코로나</b>19 의무...  \n",
       "1097  <b>코로나</b>19 검사를 예고대로 시행하면서 자국민은 제외한 외국 국적자에 대...  \n",
       "1098  부산시 방역당국은 오늘 0시 기준 부산지역 <b>코로나</b>19 신규 확진자는 3...  \n",
       "1099  강원 강릉시는 만 6개월~4세 영유아, 만성폐질환 등을 앓는 고위험군 보호대책으로 ...  \n",
       "\n",
       "[1100 rows x 2 columns]"
      ]
     },
     "execution_count": 159,
     "metadata": {},
     "output_type": "execute_result"
    }
   ],
   "source": [
    "pd.read_csv('코로나 뉴스.csv',index_col=0)"
   ]
  },
  {
   "cell_type": "code",
   "execution_count": 24,
   "id": "847873c6-ec17-48c6-9ebd-98c25191402a",
   "metadata": {},
   "outputs": [
    {
     "data": {
      "text/html": [
       "<div>\n",
       "<style scoped>\n",
       "    .dataframe tbody tr th:only-of-type {\n",
       "        vertical-align: middle;\n",
       "    }\n",
       "\n",
       "    .dataframe tbody tr th {\n",
       "        vertical-align: top;\n",
       "    }\n",
       "\n",
       "    .dataframe thead th {\n",
       "        text-align: right;\n",
       "    }\n",
       "</style>\n",
       "<table border=\"1\" class=\"dataframe\">\n",
       "  <thead>\n",
       "    <tr style=\"text-align: right;\">\n",
       "      <th></th>\n",
       "      <th>title</th>\n",
       "      <th>description</th>\n",
       "    </tr>\n",
       "  </thead>\n",
       "  <tbody>\n",
       "    <tr>\n",
       "      <th>0</th>\n",
       "      <td>“&lt;b&gt;코로나&lt;/b&gt; 백신, 고위험군 年2회 접종을”</td>\n",
       "      <td>지영미 질병관리청장이 앞으로 “신종 &lt;b&gt;코로나&lt;/b&gt;바이러스 감염증(&lt;b&gt;코로나&lt;...</td>\n",
       "    </tr>\n",
       "    <tr>\n",
       "      <th>1</th>\n",
       "      <td>방역당국 &amp;quot;&lt;b&gt;코로나&lt;/b&gt;백신 정례접종, 변이예측·백신개발 보며 검토&amp;...</td>\n",
       "      <td>방역 당국이 &lt;b&gt;코로나&lt;/b&gt;19 백신의 정례접종 도입을 검토할 때 변이 예측, ...</td>\n",
       "    </tr>\n",
       "    <tr>\n",
       "      <th>2</th>\n",
       "      <td>방역당국 &amp;quot;&lt;b&gt;코로나&lt;/b&gt; 백신 연 1~2회 정기접종 검토 중&amp;quot;</td>\n",
       "      <td>방역당국이 &lt;b&gt;코로나&lt;/b&gt;19 변이 예측과 백신 개발 상황 등을 고려해 백신 정...</td>\n",
       "    </tr>\n",
       "    <tr>\n",
       "      <th>3</th>\n",
       "      <td>폐업신고 않고 매출실적 낮춰 &lt;b&gt;코로나&lt;/b&gt; 지원금 ‘꿀꺽’</td>\n",
       "      <td>특히 &lt;b&gt;코로나&lt;/b&gt;19 소상공인 지원금 부정수급 신고 관련 상담이 1년 전보다...</td>\n",
       "    </tr>\n",
       "    <tr>\n",
       "      <th>4</th>\n",
       "      <td>&amp;apos;&lt;b&gt;코로나&lt;/b&gt; 수혜&amp;apos; 줌, 직원 1300명 감원 발표</td>\n",
       "      <td>&lt;b&gt;코로나&lt;/b&gt;19 팬데믹 대표 수혜 기업 중 하나인 화상회의 업체 줌 비디오 ...</td>\n",
       "    </tr>\n",
       "  </tbody>\n",
       "</table>\n",
       "</div>"
      ],
      "text/plain": [
       "                                               title  \\\n",
       "0                      “<b>코로나</b> 백신, 고위험군 年2회 접종을”   \n",
       "1  방역당국 &quot;<b>코로나</b>백신 정례접종, 변이예측·백신개발 보며 검토&...   \n",
       "2    방역당국 &quot;<b>코로나</b> 백신 연 1~2회 정기접종 검토 중&quot;   \n",
       "3                폐업신고 않고 매출실적 낮춰 <b>코로나</b> 지원금 ‘꿀꺽’   \n",
       "4        &apos;<b>코로나</b> 수혜&apos; 줌, 직원 1300명 감원 발표   \n",
       "\n",
       "                                         description  \n",
       "0  지영미 질병관리청장이 앞으로 “신종 <b>코로나</b>바이러스 감염증(<b>코로나<...  \n",
       "1  방역 당국이 <b>코로나</b>19 백신의 정례접종 도입을 검토할 때 변이 예측, ...  \n",
       "2  방역당국이 <b>코로나</b>19 변이 예측과 백신 개발 상황 등을 고려해 백신 정...  \n",
       "3  특히 <b>코로나</b>19 소상공인 지원금 부정수급 신고 관련 상담이 1년 전보다...  \n",
       "4  <b>코로나</b>19 팬데믹 대표 수혜 기업 중 하나인 화상회의 업체 줌 비디오 ...  "
      ]
     },
     "execution_count": 24,
     "metadata": {},
     "output_type": "execute_result"
    }
   ],
   "source": [
    "data_df.head()"
   ]
  },
  {
   "cell_type": "markdown",
   "id": "916a2c59-1c4e-4d8c-b834-2dd07313b148",
   "metadata": {},
   "source": [
    "# title에 대한 감성 분석\n",
    "    1.감성분석(td-idf)을 실시할 데이터의 피처 벡터화\n",
    "    2.감성분석 - 로지스틱회귀 - 파라메터는 하이터 튜닝\n",
    "    3.결과를 프레임에 저장"
   ]
  },
  {
   "cell_type": "code",
   "execution_count": 28,
   "id": "8d4d4199-5b5c-41a6-b57d-9e017e7197cb",
   "metadata": {},
   "outputs": [
    {
     "name": "stderr",
     "output_type": "stream",
     "text": [
      "C:\\Users\\user\\miniconda3\\envs\\py\\lib\\site-packages\\sklearn\\feature_extraction\\text.py:528: UserWarning: The parameter 'token_pattern' will not be used since 'tokenizer' is not None'\n",
      "  warnings.warn(\n"
     ]
    },
    {
     "data": {
      "text/html": [
       "<style>#sk-container-id-1 {color: black;background-color: white;}#sk-container-id-1 pre{padding: 0;}#sk-container-id-1 div.sk-toggleable {background-color: white;}#sk-container-id-1 label.sk-toggleable__label {cursor: pointer;display: block;width: 100%;margin-bottom: 0;padding: 0.3em;box-sizing: border-box;text-align: center;}#sk-container-id-1 label.sk-toggleable__label-arrow:before {content: \"▸\";float: left;margin-right: 0.25em;color: #696969;}#sk-container-id-1 label.sk-toggleable__label-arrow:hover:before {color: black;}#sk-container-id-1 div.sk-estimator:hover label.sk-toggleable__label-arrow:before {color: black;}#sk-container-id-1 div.sk-toggleable__content {max-height: 0;max-width: 0;overflow: hidden;text-align: left;background-color: #f0f8ff;}#sk-container-id-1 div.sk-toggleable__content pre {margin: 0.2em;color: black;border-radius: 0.25em;background-color: #f0f8ff;}#sk-container-id-1 input.sk-toggleable__control:checked~div.sk-toggleable__content {max-height: 200px;max-width: 100%;overflow: auto;}#sk-container-id-1 input.sk-toggleable__control:checked~label.sk-toggleable__label-arrow:before {content: \"▾\";}#sk-container-id-1 div.sk-estimator input.sk-toggleable__control:checked~label.sk-toggleable__label {background-color: #d4ebff;}#sk-container-id-1 div.sk-label input.sk-toggleable__control:checked~label.sk-toggleable__label {background-color: #d4ebff;}#sk-container-id-1 input.sk-hidden--visually {border: 0;clip: rect(1px 1px 1px 1px);clip: rect(1px, 1px, 1px, 1px);height: 1px;margin: -1px;overflow: hidden;padding: 0;position: absolute;width: 1px;}#sk-container-id-1 div.sk-estimator {font-family: monospace;background-color: #f0f8ff;border: 1px dotted black;border-radius: 0.25em;box-sizing: border-box;margin-bottom: 0.5em;}#sk-container-id-1 div.sk-estimator:hover {background-color: #d4ebff;}#sk-container-id-1 div.sk-parallel-item::after {content: \"\";width: 100%;border-bottom: 1px solid gray;flex-grow: 1;}#sk-container-id-1 div.sk-label:hover label.sk-toggleable__label {background-color: #d4ebff;}#sk-container-id-1 div.sk-serial::before {content: \"\";position: absolute;border-left: 1px solid gray;box-sizing: border-box;top: 0;bottom: 0;left: 50%;z-index: 0;}#sk-container-id-1 div.sk-serial {display: flex;flex-direction: column;align-items: center;background-color: white;padding-right: 0.2em;padding-left: 0.2em;position: relative;}#sk-container-id-1 div.sk-item {position: relative;z-index: 1;}#sk-container-id-1 div.sk-parallel {display: flex;align-items: stretch;justify-content: center;background-color: white;position: relative;}#sk-container-id-1 div.sk-item::before, #sk-container-id-1 div.sk-parallel-item::before {content: \"\";position: absolute;border-left: 1px solid gray;box-sizing: border-box;top: 0;bottom: 0;left: 50%;z-index: -1;}#sk-container-id-1 div.sk-parallel-item {display: flex;flex-direction: column;z-index: 1;position: relative;background-color: white;}#sk-container-id-1 div.sk-parallel-item:first-child::after {align-self: flex-end;width: 50%;}#sk-container-id-1 div.sk-parallel-item:last-child::after {align-self: flex-start;width: 50%;}#sk-container-id-1 div.sk-parallel-item:only-child::after {width: 0;}#sk-container-id-1 div.sk-dashed-wrapped {border: 1px dashed gray;margin: 0 0.4em 0.5em 0.4em;box-sizing: border-box;padding-bottom: 0.4em;background-color: white;}#sk-container-id-1 div.sk-label label {font-family: monospace;font-weight: bold;display: inline-block;line-height: 1.2em;}#sk-container-id-1 div.sk-label-container {text-align: center;}#sk-container-id-1 div.sk-container {/* jupyter's `normalize.less` sets `[hidden] { display: none; }` but bootstrap.min.css set `[hidden] { display: none !important; }` so we also need the `!important` here to be able to override the default hidden behavior on the sphinx rendered scikit-learn.org. See: https://github.com/scikit-learn/scikit-learn/issues/21755 */display: inline-block !important;position: relative;}#sk-container-id-1 div.sk-text-repr-fallback {display: none;}</style><div id=\"sk-container-id-1\" class=\"sk-top-container\"><div class=\"sk-text-repr-fallback\"><pre>TfidfVectorizer(max_df=0.9, min_df=3, ngram_range=(1, 2),\n",
       "                tokenizer=&lt;function okt_tokenizer at 0x000001E57ACFB760&gt;)</pre><b>In a Jupyter environment, please rerun this cell to show the HTML representation or trust the notebook. <br />On GitHub, the HTML representation is unable to render, please try loading this page with nbviewer.org.</b></div><div class=\"sk-container\" hidden><div class=\"sk-item\"><div class=\"sk-estimator sk-toggleable\"><input class=\"sk-toggleable__control sk-hidden--visually\" id=\"sk-estimator-id-1\" type=\"checkbox\" checked><label for=\"sk-estimator-id-1\" class=\"sk-toggleable__label sk-toggleable__label-arrow\">TfidfVectorizer</label><div class=\"sk-toggleable__content\"><pre>TfidfVectorizer(max_df=0.9, min_df=3, ngram_range=(1, 2),\n",
       "                tokenizer=&lt;function okt_tokenizer at 0x000001E57ACFB760&gt;)</pre></div></div></div></div></div>"
      ],
      "text/plain": [
       "TfidfVectorizer(max_df=0.9, min_df=3, ngram_range=(1, 2),\n",
       "                tokenizer=<function okt_tokenizer at 0x000001E57ACFB760>)"
      ]
     },
     "execution_count": 28,
     "metadata": {},
     "output_type": "execute_result"
    }
   ],
   "source": [
    "from konlpy.tag import Okt\n",
    "okt = Okt()\n",
    "# 토큰화 작업을 수행할 함수를 작성\n",
    "def okt_tokenizer(text):\n",
    "    tokens =  okt.morphs(text)\n",
    "    return tokens\n",
    "# tf-idf로 벡터화\n",
    "from sklearn.feature_extraction.text import TfidfVectorizer\n",
    "# 모델\n",
    "tfidf =  TfidfVectorizer(tokenizer=okt_tokenizer,\n",
    "                ngram_range=(1,2),         #  토큰의 단어크기를 1~2개 단어로\n",
    "                min_df=3,                  # 출현 빈도가 최소 3번 이상\n",
    "                max_df= 0.9                # 최대 90% 이하인 것만 사용\n",
    "               )\n",
    "tfidf.fit(data_df['title'])"
   ]
  },
  {
   "cell_type": "code",
   "execution_count": 30,
   "id": "e4754d08-30f5-433a-bc6a-a88dc056221c",
   "metadata": {},
   "outputs": [
    {
     "data": {
      "text/plain": [
       "(1100, 1626)"
      ]
     },
     "execution_count": 30,
     "metadata": {},
     "output_type": "execute_result"
    }
   ],
   "source": [
    "# 1\n",
    "data_title_tfidf = tfidf.transform(data_df['title'])\n",
    "data_title_tfidf.shape"
   ]
  },
  {
   "cell_type": "code",
   "execution_count": 37,
   "id": "1ae20246-9578-4a71-8ec8-26f8aa6d4c0c",
   "metadata": {},
   "outputs": [],
   "source": [
    "# 이전에서 학습했던 학습용 데이터를 가지고 머신러닝 모델을 만든다\n",
    "train_df = pd.read_csv('ratings_train.txt',encoding='utf-8',sep='\\t')\n",
    "train_df.dropna(subset=['document'],axis = 0,inplace=True)\n",
    "train_df.reset_index(drop=True,inplace=True)\n",
    "import re\n",
    "train_df['document'] = train_df['document'].apply(lambda x : re.sub(r'[^ㄱ-ㅎ가-힣]+',\" \",x))\n",
    "train_tfidf = tfidf.transform(train_df['document'])"
   ]
  },
  {
   "cell_type": "code",
   "execution_count": null,
   "id": "b5e1b80d-3449-4dd3-a5e9-0f3cccd01cd4",
   "metadata": {},
   "outputs": [],
   "source": [
    "\n"
   ]
  },
  {
   "cell_type": "code",
   "execution_count": 38,
   "id": "48b47e89-031a-49e6-9702-f3d8c70a91f0",
   "metadata": {
    "collapsed": true,
    "jupyter": {
     "outputs_hidden": true
    },
    "tags": []
   },
   "outputs": [
    {
     "name": "stdout",
     "output_type": "stream",
     "text": [
      "Fitting 3 folds for each of 9 candidates, totalling 27 fits\n"
     ]
    },
    {
     "name": "stderr",
     "output_type": "stream",
     "text": [
      "C:\\Users\\user\\miniconda3\\envs\\py\\lib\\site-packages\\sklearn\\linear_model\\_logistic.py:458: ConvergenceWarning: lbfgs failed to converge (status=1):\n",
      "STOP: TOTAL NO. of ITERATIONS REACHED LIMIT.\n",
      "\n",
      "Increase the number of iterations (max_iter) or scale the data as shown in:\n",
      "    https://scikit-learn.org/stable/modules/preprocessing.html\n",
      "Please also refer to the documentation for alternative solver options:\n",
      "    https://scikit-learn.org/stable/modules/linear_model.html#logistic-regression\n",
      "  n_iter_i = _check_optimize_result(\n",
      "C:\\Users\\user\\miniconda3\\envs\\py\\lib\\site-packages\\sklearn\\linear_model\\_logistic.py:458: ConvergenceWarning: lbfgs failed to converge (status=1):\n",
      "STOP: TOTAL NO. of ITERATIONS REACHED LIMIT.\n",
      "\n",
      "Increase the number of iterations (max_iter) or scale the data as shown in:\n",
      "    https://scikit-learn.org/stable/modules/preprocessing.html\n",
      "Please also refer to the documentation for alternative solver options:\n",
      "    https://scikit-learn.org/stable/modules/linear_model.html#logistic-regression\n",
      "  n_iter_i = _check_optimize_result(\n",
      "C:\\Users\\user\\miniconda3\\envs\\py\\lib\\site-packages\\sklearn\\linear_model\\_logistic.py:458: ConvergenceWarning: lbfgs failed to converge (status=1):\n",
      "STOP: TOTAL NO. of ITERATIONS REACHED LIMIT.\n",
      "\n",
      "Increase the number of iterations (max_iter) or scale the data as shown in:\n",
      "    https://scikit-learn.org/stable/modules/preprocessing.html\n",
      "Please also refer to the documentation for alternative solver options:\n",
      "    https://scikit-learn.org/stable/modules/linear_model.html#logistic-regression\n",
      "  n_iter_i = _check_optimize_result(\n",
      "C:\\Users\\user\\miniconda3\\envs\\py\\lib\\site-packages\\sklearn\\linear_model\\_logistic.py:458: ConvergenceWarning: lbfgs failed to converge (status=1):\n",
      "STOP: TOTAL NO. of ITERATIONS REACHED LIMIT.\n",
      "\n",
      "Increase the number of iterations (max_iter) or scale the data as shown in:\n",
      "    https://scikit-learn.org/stable/modules/preprocessing.html\n",
      "Please also refer to the documentation for alternative solver options:\n",
      "    https://scikit-learn.org/stable/modules/linear_model.html#logistic-regression\n",
      "  n_iter_i = _check_optimize_result(\n",
      "C:\\Users\\user\\miniconda3\\envs\\py\\lib\\site-packages\\sklearn\\linear_model\\_logistic.py:458: ConvergenceWarning: lbfgs failed to converge (status=1):\n",
      "STOP: TOTAL NO. of ITERATIONS REACHED LIMIT.\n",
      "\n",
      "Increase the number of iterations (max_iter) or scale the data as shown in:\n",
      "    https://scikit-learn.org/stable/modules/preprocessing.html\n",
      "Please also refer to the documentation for alternative solver options:\n",
      "    https://scikit-learn.org/stable/modules/linear_model.html#logistic-regression\n",
      "  n_iter_i = _check_optimize_result(\n",
      "C:\\Users\\user\\miniconda3\\envs\\py\\lib\\site-packages\\sklearn\\linear_model\\_logistic.py:458: ConvergenceWarning: lbfgs failed to converge (status=1):\n",
      "STOP: TOTAL NO. of ITERATIONS REACHED LIMIT.\n",
      "\n",
      "Increase the number of iterations (max_iter) or scale the data as shown in:\n",
      "    https://scikit-learn.org/stable/modules/preprocessing.html\n",
      "Please also refer to the documentation for alternative solver options:\n",
      "    https://scikit-learn.org/stable/modules/linear_model.html#logistic-regression\n",
      "  n_iter_i = _check_optimize_result(\n",
      "C:\\Users\\user\\miniconda3\\envs\\py\\lib\\site-packages\\sklearn\\linear_model\\_logistic.py:458: ConvergenceWarning: lbfgs failed to converge (status=1):\n",
      "STOP: TOTAL NO. of ITERATIONS REACHED LIMIT.\n",
      "\n",
      "Increase the number of iterations (max_iter) or scale the data as shown in:\n",
      "    https://scikit-learn.org/stable/modules/preprocessing.html\n",
      "Please also refer to the documentation for alternative solver options:\n",
      "    https://scikit-learn.org/stable/modules/linear_model.html#logistic-regression\n",
      "  n_iter_i = _check_optimize_result(\n",
      "C:\\Users\\user\\miniconda3\\envs\\py\\lib\\site-packages\\sklearn\\linear_model\\_logistic.py:458: ConvergenceWarning: lbfgs failed to converge (status=1):\n",
      "STOP: TOTAL NO. of ITERATIONS REACHED LIMIT.\n",
      "\n",
      "Increase the number of iterations (max_iter) or scale the data as shown in:\n",
      "    https://scikit-learn.org/stable/modules/preprocessing.html\n",
      "Please also refer to the documentation for alternative solver options:\n",
      "    https://scikit-learn.org/stable/modules/linear_model.html#logistic-regression\n",
      "  n_iter_i = _check_optimize_result(\n",
      "C:\\Users\\user\\miniconda3\\envs\\py\\lib\\site-packages\\sklearn\\linear_model\\_logistic.py:458: ConvergenceWarning: lbfgs failed to converge (status=1):\n",
      "STOP: TOTAL NO. of ITERATIONS REACHED LIMIT.\n",
      "\n",
      "Increase the number of iterations (max_iter) or scale the data as shown in:\n",
      "    https://scikit-learn.org/stable/modules/preprocessing.html\n",
      "Please also refer to the documentation for alternative solver options:\n",
      "    https://scikit-learn.org/stable/modules/linear_model.html#logistic-regression\n",
      "  n_iter_i = _check_optimize_result(\n",
      "C:\\Users\\user\\miniconda3\\envs\\py\\lib\\site-packages\\sklearn\\linear_model\\_logistic.py:458: ConvergenceWarning: lbfgs failed to converge (status=1):\n",
      "STOP: TOTAL NO. of ITERATIONS REACHED LIMIT.\n",
      "\n",
      "Increase the number of iterations (max_iter) or scale the data as shown in:\n",
      "    https://scikit-learn.org/stable/modules/preprocessing.html\n",
      "Please also refer to the documentation for alternative solver options:\n",
      "    https://scikit-learn.org/stable/modules/linear_model.html#logistic-regression\n",
      "  n_iter_i = _check_optimize_result(\n",
      "C:\\Users\\user\\miniconda3\\envs\\py\\lib\\site-packages\\sklearn\\linear_model\\_logistic.py:458: ConvergenceWarning: lbfgs failed to converge (status=1):\n",
      "STOP: TOTAL NO. of ITERATIONS REACHED LIMIT.\n",
      "\n",
      "Increase the number of iterations (max_iter) or scale the data as shown in:\n",
      "    https://scikit-learn.org/stable/modules/preprocessing.html\n",
      "Please also refer to the documentation for alternative solver options:\n",
      "    https://scikit-learn.org/stable/modules/linear_model.html#logistic-regression\n",
      "  n_iter_i = _check_optimize_result(\n",
      "C:\\Users\\user\\miniconda3\\envs\\py\\lib\\site-packages\\sklearn\\linear_model\\_logistic.py:458: ConvergenceWarning: lbfgs failed to converge (status=1):\n",
      "STOP: TOTAL NO. of ITERATIONS REACHED LIMIT.\n",
      "\n",
      "Increase the number of iterations (max_iter) or scale the data as shown in:\n",
      "    https://scikit-learn.org/stable/modules/preprocessing.html\n",
      "Please also refer to the documentation for alternative solver options:\n",
      "    https://scikit-learn.org/stable/modules/linear_model.html#logistic-regression\n",
      "  n_iter_i = _check_optimize_result(\n",
      "C:\\Users\\user\\miniconda3\\envs\\py\\lib\\site-packages\\sklearn\\linear_model\\_logistic.py:458: ConvergenceWarning: lbfgs failed to converge (status=1):\n",
      "STOP: TOTAL NO. of ITERATIONS REACHED LIMIT.\n",
      "\n",
      "Increase the number of iterations (max_iter) or scale the data as shown in:\n",
      "    https://scikit-learn.org/stable/modules/preprocessing.html\n",
      "Please also refer to the documentation for alternative solver options:\n",
      "    https://scikit-learn.org/stable/modules/linear_model.html#logistic-regression\n",
      "  n_iter_i = _check_optimize_result(\n",
      "C:\\Users\\user\\miniconda3\\envs\\py\\lib\\site-packages\\sklearn\\linear_model\\_logistic.py:458: ConvergenceWarning: lbfgs failed to converge (status=1):\n",
      "STOP: TOTAL NO. of ITERATIONS REACHED LIMIT.\n",
      "\n",
      "Increase the number of iterations (max_iter) or scale the data as shown in:\n",
      "    https://scikit-learn.org/stable/modules/preprocessing.html\n",
      "Please also refer to the documentation for alternative solver options:\n",
      "    https://scikit-learn.org/stable/modules/linear_model.html#logistic-regression\n",
      "  n_iter_i = _check_optimize_result(\n",
      "C:\\Users\\user\\miniconda3\\envs\\py\\lib\\site-packages\\sklearn\\linear_model\\_logistic.py:458: ConvergenceWarning: lbfgs failed to converge (status=1):\n",
      "STOP: TOTAL NO. of ITERATIONS REACHED LIMIT.\n",
      "\n",
      "Increase the number of iterations (max_iter) or scale the data as shown in:\n",
      "    https://scikit-learn.org/stable/modules/preprocessing.html\n",
      "Please also refer to the documentation for alternative solver options:\n",
      "    https://scikit-learn.org/stable/modules/linear_model.html#logistic-regression\n",
      "  n_iter_i = _check_optimize_result(\n",
      "C:\\Users\\user\\miniconda3\\envs\\py\\lib\\site-packages\\sklearn\\linear_model\\_logistic.py:458: ConvergenceWarning: lbfgs failed to converge (status=1):\n",
      "STOP: TOTAL NO. of ITERATIONS REACHED LIMIT.\n",
      "\n",
      "Increase the number of iterations (max_iter) or scale the data as shown in:\n",
      "    https://scikit-learn.org/stable/modules/preprocessing.html\n",
      "Please also refer to the documentation for alternative solver options:\n",
      "    https://scikit-learn.org/stable/modules/linear_model.html#logistic-regression\n",
      "  n_iter_i = _check_optimize_result(\n",
      "C:\\Users\\user\\miniconda3\\envs\\py\\lib\\site-packages\\sklearn\\linear_model\\_logistic.py:458: ConvergenceWarning: lbfgs failed to converge (status=1):\n",
      "STOP: TOTAL NO. of ITERATIONS REACHED LIMIT.\n",
      "\n",
      "Increase the number of iterations (max_iter) or scale the data as shown in:\n",
      "    https://scikit-learn.org/stable/modules/preprocessing.html\n",
      "Please also refer to the documentation for alternative solver options:\n",
      "    https://scikit-learn.org/stable/modules/linear_model.html#logistic-regression\n",
      "  n_iter_i = _check_optimize_result(\n",
      "C:\\Users\\user\\miniconda3\\envs\\py\\lib\\site-packages\\sklearn\\linear_model\\_logistic.py:458: ConvergenceWarning: lbfgs failed to converge (status=1):\n",
      "STOP: TOTAL NO. of ITERATIONS REACHED LIMIT.\n",
      "\n",
      "Increase the number of iterations (max_iter) or scale the data as shown in:\n",
      "    https://scikit-learn.org/stable/modules/preprocessing.html\n",
      "Please also refer to the documentation for alternative solver options:\n",
      "    https://scikit-learn.org/stable/modules/linear_model.html#logistic-regression\n",
      "  n_iter_i = _check_optimize_result(\n",
      "C:\\Users\\user\\miniconda3\\envs\\py\\lib\\site-packages\\sklearn\\linear_model\\_logistic.py:458: ConvergenceWarning: lbfgs failed to converge (status=1):\n",
      "STOP: TOTAL NO. of ITERATIONS REACHED LIMIT.\n",
      "\n",
      "Increase the number of iterations (max_iter) or scale the data as shown in:\n",
      "    https://scikit-learn.org/stable/modules/preprocessing.html\n",
      "Please also refer to the documentation for alternative solver options:\n",
      "    https://scikit-learn.org/stable/modules/linear_model.html#logistic-regression\n",
      "  n_iter_i = _check_optimize_result(\n",
      "C:\\Users\\user\\miniconda3\\envs\\py\\lib\\site-packages\\sklearn\\linear_model\\_logistic.py:458: ConvergenceWarning: lbfgs failed to converge (status=1):\n",
      "STOP: TOTAL NO. of ITERATIONS REACHED LIMIT.\n",
      "\n",
      "Increase the number of iterations (max_iter) or scale the data as shown in:\n",
      "    https://scikit-learn.org/stable/modules/preprocessing.html\n",
      "Please also refer to the documentation for alternative solver options:\n",
      "    https://scikit-learn.org/stable/modules/linear_model.html#logistic-regression\n",
      "  n_iter_i = _check_optimize_result(\n",
      "C:\\Users\\user\\miniconda3\\envs\\py\\lib\\site-packages\\sklearn\\linear_model\\_logistic.py:458: ConvergenceWarning: lbfgs failed to converge (status=1):\n",
      "STOP: TOTAL NO. of ITERATIONS REACHED LIMIT.\n",
      "\n",
      "Increase the number of iterations (max_iter) or scale the data as shown in:\n",
      "    https://scikit-learn.org/stable/modules/preprocessing.html\n",
      "Please also refer to the documentation for alternative solver options:\n",
      "    https://scikit-learn.org/stable/modules/linear_model.html#logistic-regression\n",
      "  n_iter_i = _check_optimize_result(\n",
      "C:\\Users\\user\\miniconda3\\envs\\py\\lib\\site-packages\\sklearn\\linear_model\\_logistic.py:458: ConvergenceWarning: lbfgs failed to converge (status=1):\n",
      "STOP: TOTAL NO. of ITERATIONS REACHED LIMIT.\n",
      "\n",
      "Increase the number of iterations (max_iter) or scale the data as shown in:\n",
      "    https://scikit-learn.org/stable/modules/preprocessing.html\n",
      "Please also refer to the documentation for alternative solver options:\n",
      "    https://scikit-learn.org/stable/modules/linear_model.html#logistic-regression\n",
      "  n_iter_i = _check_optimize_result(\n",
      "C:\\Users\\user\\miniconda3\\envs\\py\\lib\\site-packages\\sklearn\\linear_model\\_logistic.py:458: ConvergenceWarning: lbfgs failed to converge (status=1):\n",
      "STOP: TOTAL NO. of ITERATIONS REACHED LIMIT.\n",
      "\n",
      "Increase the number of iterations (max_iter) or scale the data as shown in:\n",
      "    https://scikit-learn.org/stable/modules/preprocessing.html\n",
      "Please also refer to the documentation for alternative solver options:\n",
      "    https://scikit-learn.org/stable/modules/linear_model.html#logistic-regression\n",
      "  n_iter_i = _check_optimize_result(\n",
      "C:\\Users\\user\\miniconda3\\envs\\py\\lib\\site-packages\\sklearn\\linear_model\\_logistic.py:458: ConvergenceWarning: lbfgs failed to converge (status=1):\n",
      "STOP: TOTAL NO. of ITERATIONS REACHED LIMIT.\n",
      "\n",
      "Increase the number of iterations (max_iter) or scale the data as shown in:\n",
      "    https://scikit-learn.org/stable/modules/preprocessing.html\n",
      "Please also refer to the documentation for alternative solver options:\n",
      "    https://scikit-learn.org/stable/modules/linear_model.html#logistic-regression\n",
      "  n_iter_i = _check_optimize_result(\n",
      "C:\\Users\\user\\miniconda3\\envs\\py\\lib\\site-packages\\sklearn\\linear_model\\_logistic.py:458: ConvergenceWarning: lbfgs failed to converge (status=1):\n",
      "STOP: TOTAL NO. of ITERATIONS REACHED LIMIT.\n",
      "\n",
      "Increase the number of iterations (max_iter) or scale the data as shown in:\n",
      "    https://scikit-learn.org/stable/modules/preprocessing.html\n",
      "Please also refer to the documentation for alternative solver options:\n",
      "    https://scikit-learn.org/stable/modules/linear_model.html#logistic-regression\n",
      "  n_iter_i = _check_optimize_result(\n",
      "C:\\Users\\user\\miniconda3\\envs\\py\\lib\\site-packages\\sklearn\\linear_model\\_logistic.py:458: ConvergenceWarning: lbfgs failed to converge (status=1):\n",
      "STOP: TOTAL NO. of ITERATIONS REACHED LIMIT.\n",
      "\n",
      "Increase the number of iterations (max_iter) or scale the data as shown in:\n",
      "    https://scikit-learn.org/stable/modules/preprocessing.html\n",
      "Please also refer to the documentation for alternative solver options:\n",
      "    https://scikit-learn.org/stable/modules/linear_model.html#logistic-regression\n",
      "  n_iter_i = _check_optimize_result(\n",
      "C:\\Users\\user\\miniconda3\\envs\\py\\lib\\site-packages\\sklearn\\linear_model\\_logistic.py:458: ConvergenceWarning: lbfgs failed to converge (status=1):\n",
      "STOP: TOTAL NO. of ITERATIONS REACHED LIMIT.\n",
      "\n",
      "Increase the number of iterations (max_iter) or scale the data as shown in:\n",
      "    https://scikit-learn.org/stable/modules/preprocessing.html\n",
      "Please also refer to the documentation for alternative solver options:\n",
      "    https://scikit-learn.org/stable/modules/linear_model.html#logistic-regression\n",
      "  n_iter_i = _check_optimize_result(\n",
      "C:\\Users\\user\\miniconda3\\envs\\py\\lib\\site-packages\\sklearn\\linear_model\\_logistic.py:458: ConvergenceWarning: lbfgs failed to converge (status=1):\n",
      "STOP: TOTAL NO. of ITERATIONS REACHED LIMIT.\n",
      "\n",
      "Increase the number of iterations (max_iter) or scale the data as shown in:\n",
      "    https://scikit-learn.org/stable/modules/preprocessing.html\n",
      "Please also refer to the documentation for alternative solver options:\n",
      "    https://scikit-learn.org/stable/modules/linear_model.html#logistic-regression\n",
      "  n_iter_i = _check_optimize_result(\n"
     ]
    },
    {
     "data": {
      "text/html": [
       "<style>#sk-container-id-2 {color: black;background-color: white;}#sk-container-id-2 pre{padding: 0;}#sk-container-id-2 div.sk-toggleable {background-color: white;}#sk-container-id-2 label.sk-toggleable__label {cursor: pointer;display: block;width: 100%;margin-bottom: 0;padding: 0.3em;box-sizing: border-box;text-align: center;}#sk-container-id-2 label.sk-toggleable__label-arrow:before {content: \"▸\";float: left;margin-right: 0.25em;color: #696969;}#sk-container-id-2 label.sk-toggleable__label-arrow:hover:before {color: black;}#sk-container-id-2 div.sk-estimator:hover label.sk-toggleable__label-arrow:before {color: black;}#sk-container-id-2 div.sk-toggleable__content {max-height: 0;max-width: 0;overflow: hidden;text-align: left;background-color: #f0f8ff;}#sk-container-id-2 div.sk-toggleable__content pre {margin: 0.2em;color: black;border-radius: 0.25em;background-color: #f0f8ff;}#sk-container-id-2 input.sk-toggleable__control:checked~div.sk-toggleable__content {max-height: 200px;max-width: 100%;overflow: auto;}#sk-container-id-2 input.sk-toggleable__control:checked~label.sk-toggleable__label-arrow:before {content: \"▾\";}#sk-container-id-2 div.sk-estimator input.sk-toggleable__control:checked~label.sk-toggleable__label {background-color: #d4ebff;}#sk-container-id-2 div.sk-label input.sk-toggleable__control:checked~label.sk-toggleable__label {background-color: #d4ebff;}#sk-container-id-2 input.sk-hidden--visually {border: 0;clip: rect(1px 1px 1px 1px);clip: rect(1px, 1px, 1px, 1px);height: 1px;margin: -1px;overflow: hidden;padding: 0;position: absolute;width: 1px;}#sk-container-id-2 div.sk-estimator {font-family: monospace;background-color: #f0f8ff;border: 1px dotted black;border-radius: 0.25em;box-sizing: border-box;margin-bottom: 0.5em;}#sk-container-id-2 div.sk-estimator:hover {background-color: #d4ebff;}#sk-container-id-2 div.sk-parallel-item::after {content: \"\";width: 100%;border-bottom: 1px solid gray;flex-grow: 1;}#sk-container-id-2 div.sk-label:hover label.sk-toggleable__label {background-color: #d4ebff;}#sk-container-id-2 div.sk-serial::before {content: \"\";position: absolute;border-left: 1px solid gray;box-sizing: border-box;top: 0;bottom: 0;left: 50%;z-index: 0;}#sk-container-id-2 div.sk-serial {display: flex;flex-direction: column;align-items: center;background-color: white;padding-right: 0.2em;padding-left: 0.2em;position: relative;}#sk-container-id-2 div.sk-item {position: relative;z-index: 1;}#sk-container-id-2 div.sk-parallel {display: flex;align-items: stretch;justify-content: center;background-color: white;position: relative;}#sk-container-id-2 div.sk-item::before, #sk-container-id-2 div.sk-parallel-item::before {content: \"\";position: absolute;border-left: 1px solid gray;box-sizing: border-box;top: 0;bottom: 0;left: 50%;z-index: -1;}#sk-container-id-2 div.sk-parallel-item {display: flex;flex-direction: column;z-index: 1;position: relative;background-color: white;}#sk-container-id-2 div.sk-parallel-item:first-child::after {align-self: flex-end;width: 50%;}#sk-container-id-2 div.sk-parallel-item:last-child::after {align-self: flex-start;width: 50%;}#sk-container-id-2 div.sk-parallel-item:only-child::after {width: 0;}#sk-container-id-2 div.sk-dashed-wrapped {border: 1px dashed gray;margin: 0 0.4em 0.5em 0.4em;box-sizing: border-box;padding-bottom: 0.4em;background-color: white;}#sk-container-id-2 div.sk-label label {font-family: monospace;font-weight: bold;display: inline-block;line-height: 1.2em;}#sk-container-id-2 div.sk-label-container {text-align: center;}#sk-container-id-2 div.sk-container {/* jupyter's `normalize.less` sets `[hidden] { display: none; }` but bootstrap.min.css set `[hidden] { display: none !important; }` so we also need the `!important` here to be able to override the default hidden behavior on the sphinx rendered scikit-learn.org. See: https://github.com/scikit-learn/scikit-learn/issues/21755 */display: inline-block !important;position: relative;}#sk-container-id-2 div.sk-text-repr-fallback {display: none;}</style><div id=\"sk-container-id-2\" class=\"sk-top-container\"><div class=\"sk-text-repr-fallback\"><pre>GridSearchCV(cv=3, estimator=LogisticRegression(random_state=0),\n",
       "             param_grid={&#x27;C&#x27;: range(1, 10)}, scoring=&#x27;accuracy&#x27;, verbose=1)</pre><b>In a Jupyter environment, please rerun this cell to show the HTML representation or trust the notebook. <br />On GitHub, the HTML representation is unable to render, please try loading this page with nbviewer.org.</b></div><div class=\"sk-container\" hidden><div class=\"sk-item sk-dashed-wrapped\"><div class=\"sk-label-container\"><div class=\"sk-label sk-toggleable\"><input class=\"sk-toggleable__control sk-hidden--visually\" id=\"sk-estimator-id-2\" type=\"checkbox\" ><label for=\"sk-estimator-id-2\" class=\"sk-toggleable__label sk-toggleable__label-arrow\">GridSearchCV</label><div class=\"sk-toggleable__content\"><pre>GridSearchCV(cv=3, estimator=LogisticRegression(random_state=0),\n",
       "             param_grid={&#x27;C&#x27;: range(1, 10)}, scoring=&#x27;accuracy&#x27;, verbose=1)</pre></div></div></div><div class=\"sk-parallel\"><div class=\"sk-parallel-item\"><div class=\"sk-item\"><div class=\"sk-label-container\"><div class=\"sk-label sk-toggleable\"><input class=\"sk-toggleable__control sk-hidden--visually\" id=\"sk-estimator-id-3\" type=\"checkbox\" ><label for=\"sk-estimator-id-3\" class=\"sk-toggleable__label sk-toggleable__label-arrow\">estimator: LogisticRegression</label><div class=\"sk-toggleable__content\"><pre>LogisticRegression(random_state=0)</pre></div></div></div><div class=\"sk-serial\"><div class=\"sk-item\"><div class=\"sk-estimator sk-toggleable\"><input class=\"sk-toggleable__control sk-hidden--visually\" id=\"sk-estimator-id-4\" type=\"checkbox\" ><label for=\"sk-estimator-id-4\" class=\"sk-toggleable__label sk-toggleable__label-arrow\">LogisticRegression</label><div class=\"sk-toggleable__content\"><pre>LogisticRegression(random_state=0)</pre></div></div></div></div></div></div></div></div></div></div>"
      ],
      "text/plain": [
       "GridSearchCV(cv=3, estimator=LogisticRegression(random_state=0),\n",
       "             param_grid={'C': range(1, 10)}, scoring='accuracy', verbose=1)"
      ]
     },
     "execution_count": 38,
     "metadata": {},
     "output_type": "execute_result"
    }
   ],
   "source": [
    "#2 머신러닝을 학습 - 하이퍼 파라메터 튜닝\n",
    "from sklearn.linear_model import LogisticRegression\n",
    "from sklearn.model_selection import GridSearchCV\n",
    "lr = LogisticRegression(random_state=0)\n",
    "param ={\n",
    "    'C':range(1,10)\n",
    "}\n",
    "gsc = GridSearchCV(lr,param_grid=param, cv=3,scoring='accuracy',verbose = 1)\n",
    "# 문장과 (학습)  긍정 부정(타겟)\n",
    "gsc.fit(train_tfidf,train_df['label'])"
   ]
  },
  {
   "cell_type": "code",
   "execution_count": 39,
   "id": "551dd48a-ac2c-4d35-8076-6cc60a1ab386",
   "metadata": {},
   "outputs": [
    {
     "data": {
      "text/plain": [
       "{'C': 6}"
      ]
     },
     "execution_count": 39,
     "metadata": {},
     "output_type": "execute_result"
    }
   ],
   "source": [
    "# 파이퍼 파라메터 C 는 6\n",
    "gsc.best_params_"
   ]
  },
  {
   "cell_type": "code",
   "execution_count": 40,
   "id": "c802468d-a4c9-4a59-8633-b3f9fc122d24",
   "metadata": {},
   "outputs": [],
   "source": [
    "# Best 한 모델객체 저장\n",
    "import pickle\n",
    "pickle.dump(gsc.best_estimator_, open('logistic_tfidf.sav', 'wb'))"
   ]
  },
  {
   "cell_type": "code",
   "execution_count": 41,
   "id": "7883c9a0-5ce2-4d16-8939-f77f02a0e4ef",
   "metadata": {},
   "outputs": [],
   "source": [
    "# 머신러닝 모델 불러오기(pickle)\n",
    "loaded_lr = pickle.load(open('logistic_tfidf.sav','rb'))"
   ]
  },
  {
   "cell_type": "code",
   "execution_count": 42,
   "id": "6340e26f-a556-4b70-9423-ac7888405472",
   "metadata": {},
   "outputs": [],
   "source": [
    "data_df['title_label'] =  loaded_lr.predict(data_title_tfidf)"
   ]
  },
  {
   "cell_type": "code",
   "execution_count": 43,
   "id": "70d58ec9-028e-4679-9f51-6292df2d2f41",
   "metadata": {},
   "outputs": [],
   "source": [
    "# description에 대해서 감성 분석\n",
    "data_df_tfidf = tfidf.transform(data_df['description'])\n",
    "data_df['description_label'] =  loaded_lr.predict(data_df_tfidf)"
   ]
  },
  {
   "cell_type": "code",
   "execution_count": 45,
   "id": "4c0fe14c-8cfa-4a13-9c54-07d39ffe5e4b",
   "metadata": {},
   "outputs": [
    {
     "data": {
      "text/plain": [
       "(0    791\n",
       " 1    309\n",
       " Name: title_label, dtype: int64,\n",
       " 0    871\n",
       " 1    229\n",
       " Name: description_label, dtype: int64)"
      ]
     },
     "execution_count": 45,
     "metadata": {},
     "output_type": "execute_result"
    }
   ],
   "source": [
    "data_df['title_label'].value_counts(), data_df['description_label'].value_counts()"
   ]
  },
  {
   "cell_type": "code",
   "execution_count": 47,
   "id": "38eca478-3e29-420e-9bcd-1edf4ad71132",
   "metadata": {},
   "outputs": [],
   "source": [
    "# 분석결과 저장\n",
    "data_df.to_csv('코로나네이버뉴스api감성분석.csv',encoding='utf-8')"
   ]
  },
  {
   "cell_type": "markdown",
   "id": "c6dbb031-bc2f-497b-8248-21cfc8092723",
   "metadata": {},
   "source": [
    "# 결과\n",
    "    - title분석결과와 description 분석 결과에 차이가 있음\n",
    "    - 단어를 기준으로 분석하기 때문에 단어의 개수가 부족하면 정확도가 떨어진다.\n",
    "    - 영화리뷰를 학습한 머신러닝을 가지고 뉴스를 분석... 단어의 차이에대한 오차가 있을 것"
   ]
  },
  {
   "cell_type": "markdown",
   "id": "f52cb39a-a512-42a8-8d9a-156c299beb7f",
   "metadata": {},
   "source": [
    "### 감성분석 결과를 분리 저장 - 뉴스본문에 대한 감성분석을 기준으로  긍정 부정을 분리하고 비교 분석"
   ]
  },
  {
   "cell_type": "code",
   "execution_count": 78,
   "id": "acb81c66-278d-4458-a369-3d0af28a887e",
   "metadata": {},
   "outputs": [],
   "source": [
    "import copy\n",
    "# negative_df =  copy.deepcopy(data_df)\n",
    "# pogitive_df =  copy.deepcopy(data_df)\n",
    "# col_names = ['title', 'title_label','description', 'description_label'] \n",
    "# negative_df = pd.DataFrame(columns=col_names)\n",
    "# pogitive_df = pd.DataFrame(columns=col_names)\n",
    "negative_df =  copy.deepcopy(data_df[data_df['description_label'] == 0])\n",
    "pogitive_df =  copy.deepcopy(data_df[data_df['description_label'] == 1])"
   ]
  },
  {
   "cell_type": "code",
   "execution_count": 79,
   "id": "977c6311-eea4-4210-a692-ae0cecd166a9",
   "metadata": {
    "tags": []
   },
   "outputs": [
    {
     "data": {
      "text/plain": [
       "((871, 4), (229, 4))"
      ]
     },
     "execution_count": 79,
     "metadata": {},
     "output_type": "execute_result"
    }
   ],
   "source": [
    "negative_df.shape, pogitive_df.shape"
   ]
  },
  {
   "cell_type": "markdown",
   "id": "c463c866-ac68-4f46-b3db-252a3ddc389d",
   "metadata": {},
   "source": [
    "# 결과 시각화\n",
    "    긍정에대한 감성뉴스에서 형태소 분석"
   ]
  },
  {
   "cell_type": "code",
   "execution_count": 83,
   "id": "3fa74da6-d478-4f4a-b5ad-82f4e7f2519e",
   "metadata": {},
   "outputs": [],
   "source": [
    "from konlpy.tag import Okt\n",
    "okt = Okt()\n",
    "pogitive_description_noun_tk = []\n",
    "for word in pogitive_df['description']:\n",
    "    pogitive_description_noun_tk.append(okt.nouns(word))      # 형태소 토근화 하여 명사 토큰만 추출해서 리스트를 구성"
   ]
  },
  {
   "cell_type": "code",
   "execution_count": 88,
   "id": "ef8deb37-9193-468f-91e9-fad7b311dd04",
   "metadata": {},
   "outputs": [
    {
     "data": {
      "text/plain": [
       "229"
      ]
     },
     "execution_count": 88,
     "metadata": {},
     "output_type": "execute_result"
    }
   ],
   "source": [
    "len(pogitive_description_noun_tk)"
   ]
  },
  {
   "cell_type": "code",
   "execution_count": 93,
   "id": "1a199245-2c2e-4177-8494-04085c7a311a",
   "metadata": {},
   "outputs": [],
   "source": [
    "# 토큰의 길이가 1인 단어는 제외\n",
    "pogitive_result = []\n",
    "for listdata in pogitive_description_noun_tk:\n",
    "    # 단어의 길이가 1보다큰 즉 2이상인 단어만 추출\n",
    "    temp = [w for w in listdata if len(w) > 1]    \n",
    "    pogitive_result.append(\" \".join(temp))    "
   ]
  },
  {
   "cell_type": "code",
   "execution_count": 102,
   "id": "e3a0defe-98ec-4eaa-b77e-31b3216112c8",
   "metadata": {},
   "outputs": [
    {
     "data": {
      "text/plain": [
       "['순이익 신세계 인터 센트럴시티 자회사 성장 서울 뉴시스 이혜원 기자 신세계 코로나 기점 폭발 성장 코로나 한창 명품 특수 성장',\n",
       " '기사 내용 요약 승승장구 김치 작년 수출 감소 코로나 특수 한류 한식 인기 지속 전망 서울 뉴시스 김혜경 기자 김치 수출 지난해 감소 세로 코로나 특수',\n",
       " '코로나 대유행 개월 주가 코로나 테마주 실상 직접 체외 진단 의료기기 진단 키트 검체 수송 배지 자체 생산 기술 인력 설비',\n",
       " '방역 당국 신종 코로나 바이러스 감염증 코로나 백신 정례 화해 접종 방안 검토 발표 계획 코로나 엔데믹 풍토병 이후 독감 매년 접종',\n",
       " '경북 코로나 진자 북도 전날 포항 구미 코로나 전담 병원 병상 입원 가동 보이']"
      ]
     },
     "execution_count": 102,
     "metadata": {},
     "output_type": "execute_result"
    }
   ],
   "source": [
    "# 아무것도없는 데이터 제거 - 전처리\n",
    "pogitive_result = [w for w in pogitive_result if w != '']\n",
    "pogitive_result[:5]"
   ]
  },
  {
   "cell_type": "code",
   "execution_count": 101,
   "id": "95950bed-5bfe-4b99-b6bf-753d29bab7ab",
   "metadata": {},
   "outputs": [
    {
     "data": {
      "text/plain": [
       "[1, 2, 3]"
      ]
     },
     "execution_count": 101,
     "metadata": {},
     "output_type": "execute_result"
    }
   ],
   "source": [
    "from functools import reduce\n",
    "a = [[1],[2],[3]]\n",
    "reduce(lambda x,y : x+y, a)"
   ]
  },
  {
   "cell_type": "code",
   "execution_count": null,
   "id": "d6124410-d548-4c1c-9528-0aa69e436268",
   "metadata": {},
   "outputs": [],
   "source": [
    "# 머신러닝... 사이킷런 밑에 model_selection 에 주로 있고.\n",
    "# 모델객체생성 -> 학습 -> 예측 -> 평가\n",
    "# lr = linearGegration()  \n",
    "# lr.fit(학습데이터, 정답)\n",
    "# 예측값 = lr.predict(테스트데이터)\n",
    "# lr.score(테스트데이터, 정답)   정확도..    정밀하게 볼려면 F1-score\n",
    "\n",
    "# 유틸리티, StandardSacle(), tf-idf\n",
    "# fit(적용할 데이터)  유틸리티에 적용할 데이터를 셋팅\n",
    "# transform(적용할 데이터) 결과를 리턴\n",
    "\n",
    "# fit_transform(적용할 데이터)"
   ]
  },
  {
   "cell_type": "markdown",
   "id": "df81344d-34b1-47e0-967c-5b8c98bf3271",
   "metadata": {},
   "source": [
    "    부정에대한 감성뉴스에서 형태소 분석"
   ]
  },
  {
   "cell_type": "code",
   "execution_count": 113,
   "id": "b59319de-9518-4b90-bddf-337526fb7c0a",
   "metadata": {},
   "outputs": [
    {
     "data": {
      "text/plain": [
       "['지영미 질병 관리 청장 신종 코로나 바이러스 감염증 코로나 백신 정례 접종 합리 코로나 팬데믹 대유행 엔데믹 풍토병 전환',\n",
       " '방역 당국 코로나 백신 정례 접종 도입 검토 예측 백신 개발 상황 고려 임숙영 중앙 방역 대책 본부 대본 상황 총괄 단장 브리핑 정례 접종 추진',\n",
       " '방역 당국 코로나 예측 백신 개발 상황 고려 백신 정례 접종 검토 앞서 지영미 질병 관리 청장 전날 취임 기자간담회 코로나 백신 정례 접종 언급',\n",
       " '코로나 소상 공인 원금 부정 수급 신고 관련 상담 전보 급증 국민권익위 코로나 소상 공인 원금 부정 수급 신고 관련 상담 권익위 관계자',\n",
       " '코로나 팬데믹 대표 수혜 기업 하나 화상회의 업체 비디오 커뮤니케이션 현지 시간 에릭 위안 최고경영자 블로그 통해 코로나 대유행 이후 세계 계속 회사']"
      ]
     },
     "execution_count": 113,
     "metadata": {},
     "output_type": "execute_result"
    }
   ],
   "source": [
    "negative_description_noun_tk = []\n",
    "for word in negative_df['description']:\n",
    "    negative_description_noun_tk.append(okt.nouns(word))  \n",
    "# 토큰의 길이가 1인 단어는 제외\n",
    "negative_result = []\n",
    "for listdata in negative_description_noun_tk:\n",
    "    # 단어의 길이가 1보다큰 즉 2이상인 단어만 추출\n",
    "    temp = [w for w in listdata if len(w) > 1]    \n",
    "    negative_result.append(\" \".join(temp))   \n",
    "negative_result = [w for w in negative_result if w != '']\n",
    "negative_result[:5]    "
   ]
  },
  {
   "cell_type": "markdown",
   "id": "4ee363d1-622b-41e4-9911-45b1e5a03a02",
   "metadata": {},
   "source": [
    "    TF-IDF기반의 DTM 구성하기 긍정감성뉴스에 대한 DTM을 구성"
   ]
  },
  {
   "cell_type": "code",
   "execution_count": 115,
   "id": "23e7c374-65e6-40dd-9149-f6913dc99ecf",
   "metadata": {},
   "outputs": [
    {
     "name": "stderr",
     "output_type": "stream",
     "text": [
      "C:\\Users\\user\\miniconda3\\envs\\py\\lib\\site-packages\\sklearn\\feature_extraction\\text.py:528: UserWarning: The parameter 'token_pattern' will not be used since 'tokenizer' is not None'\n",
      "  warnings.warn(\n"
     ]
    }
   ],
   "source": [
    "pos_tfidf =  TfidfVectorizer(tokenizer=okt_tokenizer, min_df=2)\n",
    "pos_dtm =  pos_tfidf.fit_transform(pogitive_result)"
   ]
  },
  {
   "cell_type": "code",
   "execution_count": 119,
   "id": "ad022c7e-3081-4e14-ba34-9829c348d5e4",
   "metadata": {},
   "outputs": [
    {
     "data": {
      "text/plain": [
       "0.749623567058193"
      ]
     },
     "execution_count": 119,
     "metadata": {},
     "output_type": "execute_result"
    }
   ],
   "source": [
    "pos_dtm.getcol(0).sum()"
   ]
  },
  {
   "cell_type": "code",
   "execution_count": 117,
   "id": "00f5b558-a43d-4992-a298-d6a9ef0f462e",
   "metadata": {},
   "outputs": [],
   "source": [
    "# DTM의 단어(get_feature_names_out()) 마다 컬럼의 합을 구해서 단어별 tfidf값의 하비을 구하고 내림차순으로 정렬\n",
    "pos_vocab = {}\n",
    "for idx, word in  enumerate(pos_tfidf.get_feature_names_out()):\n",
    "    pos_vocab[word] = pos_dtm.getcol(idx).sum()"
   ]
  },
  {
   "cell_type": "code",
   "execution_count": 120,
   "id": "3fbf6929-a0f2-4a40-a3c7-7810f6e32e65",
   "metadata": {
    "collapsed": true,
    "jupyter": {
     "outputs_hidden": true
    },
    "tags": []
   },
   "outputs": [
    {
     "data": {
      "text/plain": [
       "{'가까이': 0.749623567058193,\n",
       " '가동': 1.723099477563374,\n",
       " '가스': 0.6740515928669168,\n",
       " '가운데': 2.2764431194098713,\n",
       " '가장': 2.320359830209491,\n",
       " '가정': 0.5360321186421847,\n",
       " '가족': 1.031179522870008,\n",
       " '가지': 0.7000110312983654,\n",
       " '각각': 1.0675909722459291,\n",
       " '감소': 2.925731611006275,\n",
       " '감염': 4.956358583786514,\n",
       " '감염병': 1.924475701540556,\n",
       " '감염증': 4.701068786890271,\n",
       " '강행': 0.6371741897832206,\n",
       " '개방': 0.7638930191642785,\n",
       " '개선': 1.359281500929793,\n",
       " '개월': 3.815254821198513,\n",
       " '개인': 1.0854879546803098,\n",
       " '개최': 0.734444365147602,\n",
       " '거리': 1.3669701852174998,\n",
       " '건강': 1.3212062870851957,\n",
       " '건국절': 0.4058794165897179,\n",
       " '건수': 0.634601252370751,\n",
       " '검사': 6.03456507998213,\n",
       " '검토': 0.5085334376855004,\n",
       " '게시': 0.49411624044890784,\n",
       " '겨울': 0.5233931235023583,\n",
       " '격리': 1.0213966644338919,\n",
       " '결과': 1.885721550006172,\n",
       " '결정': 0.6855373044107627,\n",
       " '경계': 1.450260191949897,\n",
       " '경기': 0.5768726852714923,\n",
       " '경북': 1.9092349530977761,\n",
       " '경우': 0.8680111805904422,\n",
       " '경제': 0.8371552809440985,\n",
       " '경찰': 0.5830722556737802,\n",
       " '계속': 0.6740515928669168,\n",
       " '계층': 0.6580613258616053,\n",
       " '계획': 1.29244897573669,\n",
       " '고려': 0.526458652574004,\n",
       " '고발': 0.47194354395480126,\n",
       " '고분': 0.5098370720515828,\n",
       " '고통': 0.7412756093493498,\n",
       " '골퍼': 0.5674868810172897,\n",
       " '골프장': 1.0252205967858916,\n",
       " '공개': 1.1487466346951587,\n",
       " '공무원': 0.7989690972223499,\n",
       " '공중보건': 1.5568023157390798,\n",
       " '공항': 0.7395848420560325,\n",
       " '관계자': 1.8953890704161966,\n",
       " '관광': 0.5100153222267021,\n",
       " '관련': 2.8303020382869306,\n",
       " '관리': 1.094527641383291,\n",
       " '관심': 1.252176177628999,\n",
       " '관측': 0.6667312192299268,\n",
       " '관행': 0.5906067525790129,\n",
       " '교수': 0.5570064441390643,\n",
       " '구미': 1.2996501179179536,\n",
       " '구민': 0.7954247005569706,\n",
       " '국가': 0.5235804089035387,\n",
       " '국내': 2.021662875729744,\n",
       " '국민': 1.3454565459200167,\n",
       " '국제': 1.9264141321960293,\n",
       " '국제선': 0.8289813983808942,\n",
       " '군산': 0.5789634309208751,\n",
       " '권고': 0.572289930923483,\n",
       " '규정': 0.5083521847771201,\n",
       " '규환': 0.6050421081880569,\n",
       " '그간': 0.6279371822050979,\n",
       " '그동안': 0.8917601293935886,\n",
       " '그랜드': 0.5648210065243393,\n",
       " '극복': 1.7038283366894145,\n",
       " '근무': 0.7597322224406493,\n",
       " '금요일': 1.045178141388305,\n",
       " '금융': 0.5434090057042746,\n",
       " '급여': 0.39948454861117494,\n",
       " '급증': 1.8596342950281688,\n",
       " '기간': 4.530447732883177,\n",
       " '기록': 3.5801197745648845,\n",
       " '기사': 0.9368212183476416,\n",
       " '기승': 0.5830722556737802,\n",
       " '기억': 0.8731357302004892,\n",
       " '기업': 3.6103477135222115,\n",
       " '기원': 1.0271531059718289,\n",
       " '기자': 4.107905884745717,\n",
       " '기자간담회': 0.4886048083472153,\n",
       " '기점': 0.5453101037803862,\n",
       " '기준': 4.838467628651859,\n",
       " '김포시': 0.47194354395480126,\n",
       " '내용': 0.9368212183476416,\n",
       " '노동조합': 0.39948454861117494,\n",
       " '뇌염': 1.4370227717910757,\n",
       " '누적': 0.6733138245173576,\n",
       " '뉴데일리': 0.8732964236675407,\n",
       " '뉴시스': 1.4264190187806443,\n",
       " '다른': 0.53511140136198,\n",
       " '다만': 0.49411624044890784,\n",
       " '다시': 2.130149116481576,\n",
       " '단계': 0.621659463255077,\n",
       " '단장': 0.5648210065243393,\n",
       " '단체': 0.5402467097206134,\n",
       " '달성': 0.5601415788010355,\n",
       " '달집': 0.6857356371176255,\n",
       " '당국': 1.5610754436518834,\n",
       " '당부': 0.6082719373853451,\n",
       " '당시': 0.8943138683931591,\n",
       " '대구': 1.262330492862718,\n",
       " '대기': 0.5814261852521143,\n",
       " '대면': 1.0996396940400972,\n",
       " '대부분': 1.7719396123281737,\n",
       " '대비': 2.0399750222447257,\n",
       " '대상': 0.8379006909246708,\n",
       " '대유행': 1.5956578284015694,\n",
       " '대응': 1.721552769296214,\n",
       " '대전': 0.6612458313728384,\n",
       " '대책': 0.8626624857944987,\n",
       " '대표': 1.0723837133335532,\n",
       " '대표이사': 0.761253643804578,\n",
       " '대학': 1.1414714780950304,\n",
       " '대한': 2.5754906386737764,\n",
       " '대한항공': 0.927388727825593,\n",
       " '대해': 2.3045354403443676,\n",
       " '데이터': 0.6766345056434575,\n",
       " '도내': 0.540075619488412,\n",
       " '도민': 0.6010133818862844,\n",
       " '도청': 0.49411624044890784,\n",
       " '독감': 5.33691640750332,\n",
       " '동시': 4.01102957243806,\n",
       " '동식': 0.559788085459668,\n",
       " '동안': 2.5552650395877747,\n",
       " '동향': 0.5482026210233004,\n",
       " '두기': 1.0910707133921747,\n",
       " '등급': 0.6709622180612238,\n",
       " '때문': 1.8747137686775828,\n",
       " '로부터': 2.461592340581416,\n",
       " '린다': 0.5981868432326077,\n",
       " '마련': 2.063778218547632,\n",
       " '마스크': 2.5185460681895733,\n",
       " '만이': 0.6201797496115629,\n",
       " '매년': 0.5856073291623147,\n",
       " '매일': 4.725086013731412,\n",
       " '매출': 3.4247396197657687,\n",
       " '면서': 0.688185478856248,\n",
       " '면역': 1.2195094092110021,\n",
       " '명과': 0.559788085459668,\n",
       " '명대': 1.5918722500059785,\n",
       " '명보': 0.559788085459668,\n",
       " '명신': 1.045178141388305,\n",
       " '명의': 0.5224890253824003,\n",
       " '명품': 0.9511507979424461,\n",
       " '모두': 1.6253835562870056,\n",
       " '모습': 1.71714248667918,\n",
       " '목표': 0.639398106329024,\n",
       " '무관': 1.0336413905327593,\n",
       " '무상': 0.39948454861117494,\n",
       " '문자': 8.044143555087247,\n",
       " '문자메시지': 0.943093252778717,\n",
       " '문화': 1.3171118503696502,\n",
       " '물가': 0.8002382895012721,\n",
       " '미국': 2.012850735089124,\n",
       " '민감': 0.5872910104853383,\n",
       " '바이러스': 4.98490982177334,\n",
       " '박물관': 0.5098370720515828,\n",
       " '반년': 0.7074365274479693,\n",
       " '반복': 2.4232688466244703,\n",
       " '반영': 1.045178141388305,\n",
       " '발생': 5.436373869570653,\n",
       " '발송': 5.275563116743588,\n",
       " '발표': 2.027211886770459,\n",
       " '방안': 0.722362428292938,\n",
       " '방역': 4.041229276356763,\n",
       " '방일': 0.5482026210233004,\n",
       " '방지': 0.47194354395480126,\n",
       " '백신': 3.8966819750596184,\n",
       " '백화점': 0.7834544552112785,\n",
       " '범죄': 0.5830722556737802,\n",
       " '법인세': 0.42494463959858997,\n",
       " '변수': 0.4058794165897179,\n",
       " '변화': 0.6396297438031651,\n",
       " '별도': 0.62822387061471,\n",
       " '병상': 2.1457335254508587,\n",
       " '병원': 2.2713467588486282,\n",
       " '보건': 0.862977201419809,\n",
       " '보건소': 1.2916737865976613,\n",
       " '보도': 1.4003004898180706,\n",
       " '보이': 2.5485986838980303,\n",
       " '복천동': 0.5098370720515828,\n",
       " '본부': 0.5959620971172668,\n",
       " '부가가치세': 0.42494463959858997,\n",
       " '부리고': 0.5830722556737802,\n",
       " '부산': 0.5882330137432443,\n",
       " '부산시': 0.5098370720515828,\n",
       " '부터': 0.496136117249434,\n",
       " '북도': 1.7876699721288332,\n",
       " '북한': 0.8697864515872735,\n",
       " '분석': 1.2333927678006185,\n",
       " '불구': 0.3977123502784853,\n",
       " '불만': 0.5906067525790129,\n",
       " '비교': 1.0922609145972244,\n",
       " '비대': 0.561298776451939,\n",
       " '비상': 1.38980420850283,\n",
       " '사람': 0.9201063986878086,\n",
       " '사망자': 2.0382197492008998,\n",
       " '사업': 1.1535423472338113,\n",
       " '사적': 0.5098370720515828,\n",
       " '사진': 1.9036148606890828,\n",
       " '사태': 1.8194641966098237,\n",
       " '사회': 2.0053559297121906,\n",
       " '사흘': 0.5953968455300623,\n",
       " '산업': 0.9198067429666621,\n",
       " '상권': 1.9267698382859386,\n",
       " '상황': 1.9417263132076563,\n",
       " '생활': 1.3877371075782328,\n",
       " '서울': 3.5343753177421604,\n",
       " '선도': 0.5224356723069774,\n",
       " '선언': 1.0553256644391869,\n",
       " '선제': 0.5830722556737802,\n",
       " '설명': 1.383560322794869,\n",
       " '성과': 0.6333950486710653,\n",
       " '성수': 0.6276629139781409,\n",
       " '성수동': 0.5833540408822286,\n",
       " '성장': 1.8617511993462323,\n",
       " '세계': 4.801287006815105,\n",
       " '세계보건기구': 1.6559912132887045,\n",
       " '세로': 0.7862396461829817,\n",
       " '세브란스병원': 0.5352530194845299,\n",
       " '세수': 0.42494463959858997,\n",
       " '센터': 0.5648210065243393,\n",
       " '소득세': 0.42494463959858997,\n",
       " '소비': 0.8671781001847896,\n",
       " '소식': 0.8014469683684335,\n",
       " '소요': 1.2114681189633998,\n",
       " '소의': 0.855505669922814,\n",
       " '소재': 0.47194354395480126,\n",
       " '손미진': 0.7715688803722316,\n",
       " '손실': 0.8222295037175105,\n",
       " '송출': 0.526458652574004,\n",
       " '수가': 3.0468947759459546,\n",
       " '수도권': 1.0256639550884876,\n",
       " '수요': 0.6692955512541718,\n",
       " '수요일': 1.4476934947326214,\n",
       " '수젠텍': 3.685913135486332,\n",
       " '수준': 1.0434335720796184,\n",
       " '수출': 0.7638828397782536,\n",
       " '수치': 0.7030516666928117,\n",
       " '수행': 0.39948454861117494,\n",
       " '순위': 0.5078850283898797,\n",
       " '순직': 0.7989690972223499,\n",
       " '스마트폰': 0.8890877595162717,\n",
       " '스타': 1.045437001534767,\n",
       " '습관': 0.3977123502784853,\n",
       " '시각': 0.5415204264337101,\n",
       " '시간': 1.7879709735008256,\n",
       " '시계': 0.9099816182449894,\n",
       " '시기': 0.9463936732936764,\n",
       " '시내': 0.5534220240683849,\n",
       " '시대': 1.374747996357791,\n",
       " '시민': 0.9799139534533791,\n",
       " '시작': 2.355473563335818,\n",
       " '시청': 0.6053335491290447,\n",
       " '시행': 1.3882980709248844,\n",
       " '식당': 0.47194354395480126,\n",
       " '식사': 0.3977123502784853,\n",
       " '식이': 0.4058794165897179,\n",
       " '식품의약품안전처': 2.461592340581416,\n",
       " '신규': 6.5238122076994705,\n",
       " '신속': 0.5359893246435888,\n",
       " '신의': 0.5943808604274068,\n",
       " '신종': 4.458462790178267,\n",
       " '신체': 0.3977123502784853,\n",
       " '실내': 1.968308768705307,\n",
       " '실시': 0.9405382680844797,\n",
       " '실적': 1.5040997268265877,\n",
       " '실제': 0.7916953472779433,\n",
       " '심야': 0.4058794165897179,\n",
       " '아이': 0.5534742320910715,\n",
       " '아주경제': 2.2667814662828927,\n",
       " '아침': 0.5606793040376724,\n",
       " '아트': 0.5648210065243393,\n",
       " '안내': 1.439670514338033,\n",
       " '안전': 3.189554531904137,\n",
       " '안전성': 0.5630812173863791,\n",
       " '안정': 1.0674277435868031,\n",
       " '앞서': 0.8671054894509864,\n",
       " '양성': 1.5553936602536067,\n",
       " '어제': 0.8582238456587514,\n",
       " '업계': 1.2648170754115826,\n",
       " '업무': 0.6908229582315165,\n",
       " '업자': 0.6518512538731871,\n",
       " '에릭': 0.9256397181817073,\n",
       " '엔데믹': 1.5382310597686466,\n",
       " '여객': 0.5451827991166698,\n",
       " '여명': 1.3926709291260844,\n",
       " '여성': 0.5772426296857432,\n",
       " '여파': 1.3561327995936188,\n",
       " '여행': 2.069197596288115,\n",
       " '여행사': 0.5482026210233004,\n",
       " '역대': 0.758743261290483,\n",
       " '역시': 0.5262356300916953,\n",
       " '연구': 0.5018698992572833,\n",
       " '연기': 0.4058794165897179,\n",
       " '연속': 0.7629853638845251,\n",
       " '연수구': 0.47194354395480126,\n",
       " '연합': 0.5381285288857957,\n",
       " '열병': 1.2176382497691536,\n",
       " '열풍': 0.5545995336064565,\n",
       " '영업': 2.6272999283351304,\n",
       " '영유': 0.7940657001690659,\n",
       " '영향': 0.5716954561316022,\n",
       " '예방': 1.0660625196554778,\n",
       " '예방접종': 1.6903100521531798,\n",
       " '예상': 0.784660998021503,\n",
       " '예정': 0.7764799695991569,\n",
       " '오늘': 2.475885431027266,\n",
       " '오전': 1.5216322764629853,\n",
       " '오픈': 0.8319202707949348,\n",
       " '오후': 1.6553535303372418,\n",
       " '오히려': 0.5115174408192391,\n",
       " '옥천군': 0.5277971700291133,\n",
       " '온라인': 0.5789968759120979,\n",
       " '올해': 2.5802164760107518,\n",
       " '완화': 0.5893490066066966,\n",
       " '외국인': 1.050878138283301,\n",
       " '외부': 0.5830722556737802,\n",
       " '요금': 0.5663231579920203,\n",
       " '요미우리신문': 0.5482026210233004,\n",
       " '요약': 0.7640319363326324,\n",
       " '요인': 0.42494463959858997,\n",
       " '요일': 0.5376419243698694,\n",
       " '용산구': 1.2916737865976613,\n",
       " '우려': 0.6696169691711762,\n",
       " '우리': 2.4564862594074524,\n",
       " '우리나라': 1.5061478675158317,\n",
       " '우리카드': 0.9249291841077227,\n",
       " '우선': 0.5636357397614797,\n",
       " '운영': 0.6315061497673664,\n",
       " '운항': 0.9223120044883322,\n",
       " '위기': 1.3339805726422116,\n",
       " '위드': 0.909769736095805,\n",
       " '위로': 0.8456061941342998,\n",
       " '위안': 0.9256397181817073,\n",
       " '위중': 0.5579600986906101,\n",
       " '위축': 0.3977123502784853,\n",
       " '위해': 1.2538283033860542,\n",
       " '위험': 1.569057450319057,\n",
       " '유전자': 0.6351081865381584,\n",
       " '유족': 0.39948454861117494,\n",
       " '유지': 2.059409995059497,\n",
       " '유통': 0.5434090057042746,\n",
       " '유행': 2.1328025706163594,\n",
       " '음식점': 0.6194753458067088,\n",
       " '의료': 1.6635728416116138,\n",
       " '의무': 1.8755781620934302,\n",
       " '의약품': 0.9241014019279851,\n",
       " '의원': 0.8369433360344121,\n",
       " '이번': 2.451779923587833,\n",
       " '이상': 1.5965215087338205,\n",
       " '이유': 0.855505669922814,\n",
       " '이익': 0.9488741570415498,\n",
       " '이전': 2.8576446018119324,\n",
       " '이제': 2.0619648427062263,\n",
       " '이틀': 0.7244478474968017,\n",
       " '이후': 7.073238988007887,\n",
       " '익산': 0.5789634309208751,\n",
       " '익산시': 0.7989690972223499,\n",
       " '인구': 1.222297322593186,\n",
       " '인기': 0.7725087690736803,\n",
       " '인사': 0.6889218900434488,\n",
       " '인상': 0.5463939215061037,\n",
       " '인원': 0.8639117126027535,\n",
       " '인천': 1.9026183204105687,\n",
       " '인플루엔자': 0.9930914635205313,\n",
       " '일보': 0.5606509248902732,\n",
       " '일본': 1.050878138283301,\n",
       " '일상': 2.607023466944787,\n",
       " '일시': 0.707830112940538,\n",
       " '일일': 1.2407406878472236,\n",
       " '일주일': 1.564956360170683,\n",
       " '입국': 1.184196314799716,\n",
       " '입원': 1.5452742929209253,\n",
       " '자료': 0.7459966125444824,\n",
       " '자리': 0.6213839398009742,\n",
       " '자영': 0.6518512538731871,\n",
       " '자의': 0.6077769501149914,\n",
       " '자취': 0.7213436812902747,\n",
       " '자치도': 0.49411624044890784,\n",
       " '작년': 1.716141406032773,\n",
       " '장거리': 0.6576338158157258,\n",
       " '장기': 1.0648703183811556,\n",
       " '장기간': 0.5117360807133564,\n",
       " '재개': 0.5328886903784943,\n",
       " '재난': 8.142841952944856,\n",
       " '재택': 0.7665150344381702,\n",
       " '재해': 0.39948454861117494,\n",
       " '적극': 1.0815301384934877,\n",
       " '전과': 0.6517460578704952,\n",
       " '전국': 2.626503683158725,\n",
       " '전날': 3.463401086007598,\n",
       " '전달': 0.6397061643820334,\n",
       " '전담': 2.258120457123533,\n",
       " '전망': 2.0735154990971063,\n",
       " '전문': 1.1919217762379215,\n",
       " '전문가': 0.7246270679854055,\n",
       " '전보': 1.4882917226123134,\n",
       " '전북': 1.7934506478663235,\n",
       " '전북도': 0.5789634309208751,\n",
       " '전세계': 1.672761844696311,\n",
       " '전송': 1.5194889692539475,\n",
       " '전염병': 0.8492131377363601,\n",
       " '전인': 0.8858114141461558,\n",
       " '전주': 0.9675489572905035,\n",
       " '전체': 0.6100859550057156,\n",
       " '전환': 1.370869272637677,\n",
       " '절도': 0.5830722556737802,\n",
       " '절정': 0.7831853805063272,\n",
       " '접종': 4.90345342883054,\n",
       " '정기': 1.2608529043322334,\n",
       " '정도': 0.6660955899108292,\n",
       " '정례': 0.722362428292938,\n",
       " '정보': 0.7662086336398262,\n",
       " '정부': 3.26503658866073,\n",
       " '정월대보름': 1.0007490975309024,\n",
       " '정읍': 0.833380642604376,\n",
       " '정읍시': 2.852989693167093,\n",
       " '정점': 0.6582313494835568,\n",
       " '정착': 0.46941941086738614,\n",
       " '정책': 0.737948398370561,\n",
       " '정확도': 0.5872910104853383,\n",
       " '제공': 1.2543504933445564,\n",
       " '제조': 1.9567468489964273,\n",
       " '제주': 1.4459004616173667,\n",
       " '제주항공': 2.011911140124556,\n",
       " '제품': 3.799196475332148,\n",
       " '조사': 0.9762212161511562,\n",
       " '조짐': 0.538729082964017,\n",
       " '조합원': 0.39948454861117494,\n",
       " '종식': 0.4058794165897179,\n",
       " '주간': 2.9691960639347417,\n",
       " '주거침입': 0.5830722556737802,\n",
       " '주말': 1.204303372053777,\n",
       " '주민': 0.7213436812902747,\n",
       " '주요': 1.475938938296441,\n",
       " '주일': 1.5542366694677336,\n",
       " '중국': 3.3880417689348206,\n",
       " '중단': 2.952608005485472,\n",
       " '중심': 0.559788085459668,\n",
       " '중지': 0.5814261852521143,\n",
       " '중환자': 0.5505884136765455,\n",
       " '증가': 3.4305889667565816,\n",
       " '증진': 0.3977123502784853,\n",
       " '증폭': 0.6351081865381584,\n",
       " '지금': 1.8264561969990936,\n",
       " '지난': 6.4135908944550595,\n",
       " '지난달': 3.807227352528071,\n",
       " '지난주': 0.6798322569771085,\n",
       " '지난해': 4.179719458462858,\n",
       " '지방자치단체': 2.9323626254833015,\n",
       " '지속': 2.7821590476128826,\n",
       " '지역': 2.3027034022636887,\n",
       " '지영미': 0.7671547275484365,\n",
       " '지자체': 1.6106772728515626,\n",
       " '직원': 0.924678530975521,\n",
       " '직전': 0.5774792774227362,\n",
       " '진단': 3.802370576759928,\n",
       " '진료': 0.725255200778679,\n",
       " '진자': 11.184461261077999,\n",
       " '진정': 0.5906067525790129,\n",
       " '진행': 0.8475531604478276,\n",
       " '질병': 1.1232765025468914,\n",
       " '집계': 2.5657412582973427,\n",
       " '집중': 0.6059705549983313,\n",
       " '찜질방': 0.7425056923759377,\n",
       " '차단': 0.6861111978218828,\n",
       " '착용': 1.8382747253844385,\n",
       " '처럼': 0.5117360807133564,\n",
       " '처방': 0.824290681351124,\n",
       " '처음': 0.7014033214448034,\n",
       " '청장': 1.1153075083925028,\n",
       " '청주': 0.559788085459668,\n",
       " '체계': 0.6861111978218828,\n",
       " '체외': 1.1244209439685968,\n",
       " '최고': 1.9900759493433453,\n",
       " '최고경영자': 0.6271814051475986,\n",
       " '최근': 4.646120094477076,\n",
       " '최대': 0.5971508228288867,\n",
       " '최소': 2.0587368676078674,\n",
       " '최신': 0.5976993272973213,\n",
       " '추가': 0.7877884512687247,\n",
       " '추세': 1.006486468025754,\n",
       " '추진': 0.7179614988009904,\n",
       " '축소': 0.5778463048658594,\n",
       " '출산': 0.9810074395534942,\n",
       " '충북': 1.547102431177675,\n",
       " '취약': 0.6580613258616053,\n",
       " '취재': 1.2745007806445725,\n",
       " '측면': 0.5872910104853383,\n",
       " '치료': 1.2489083775440566,\n",
       " '치명': 1.114918282072532,\n",
       " '친정엄마': 1.1296420130486786,\n",
       " '카페': 0.47194354395480126,\n",
       " '코로나': 24.096373890903067,\n",
       " '콘텐츠': 0.5506418867454108,\n",
       " '콤보': 2.349769489421257,\n",
       " '큐브': 0.5648210065243393,\n",
       " '크게': 1.7559359127848737,\n",
       " '키트': 0.7299641276357325,\n",
       " '타격': 0.6545261558282427,\n",
       " '태세': 0.5533273042485063,\n",
       " '터널': 0.9174473066834442,\n",
       " '토요일': 0.5657991811598224,\n",
       " '통계': 4.470250166741015,\n",
       " '통합': 0.5296160749317083,\n",
       " '통해': 1.402895182625823,\n",
       " '특수': 0.9888911648645249,\n",
       " '특이': 0.5872910104853383,\n",
       " '특파원': 0.7501022697606787,\n",
       " '파악': 0.732579376264358,\n",
       " '판매': 0.8732458024678519,\n",
       " '판정': 0.8194202147934351,\n",
       " '패션': 1.114745324882927,\n",
       " '팬데믹': 4.819132040165508,\n",
       " '평가': 0.8639201892199029,\n",
       " '평균': 1.358499374693575,\n",
       " '폐업': 0.6246893875209907,\n",
       " '포항': 1.5452742929209253,\n",
       " '프로그램': 0.5296160749317083,\n",
       " '플랫폼': 0.5774590356996583,\n",
       " '피로': 0.526458652574004,\n",
       " '하나투어': 1.1403757493118447,\n",
       " '하늘': 0.8754981071501906,\n",
       " '하루': 2.1616178854528316,\n",
       " '학교': 0.5476254378131169,\n",
       " '학번': 0.6870610360309279,\n",
       " '학생': 0.7044257460046695,\n",
       " '한국': 1.8089105202172098,\n",
       " '한류': 0.4452579588325503,\n",
       " '한식': 0.5159730311450608,\n",
       " '한창': 0.7134011988097637,\n",
       " '한편': 0.6234545932995739,\n",
       " '항공': 0.8084449657588599,\n",
       " '항공사': 0.6595255144858747,\n",
       " '해외': 1.360813219384174,\n",
       " '해외여행': 0.6613999397858206,\n",
       " '해제': 2.8012016715957095,\n",
       " '행사': 2.348120374072986,\n",
       " '행안부': 2.0698284936370146,\n",
       " '행정안전부': 2.3987926097354557,\n",
       " '허가': 3.6941023685163623,\n",
       " '혁신': 0.39948454861117494,\n",
       " '현재': 1.1358624666415118,\n",
       " '현지': 2.0070483248600652,\n",
       " '현황': 1.7864459334697238,\n",
       " '형태': 0.6406026857084467,\n",
       " '홈페이지': 0.49411624044890784,\n",
       " '화이자': 0.8518723647539088,\n",
       " '확대': 1.2193851928874049,\n",
       " '확보': 0.7179614988009904,\n",
       " '확산': 3.345999003345363,\n",
       " '확진': 2.50784830072985,\n",
       " '환자': 1.9455750261781672,\n",
       " '활동': 0.886246415146331,\n",
       " '회복': 3.2190740995087106,\n",
       " '회사': 0.6816139191521164,\n",
       " '휴대전화': 0.6050114002331246,\n",
       " '휴일': 0.5714121216316916,\n",
       " '흑자': 1.053319923652102}"
      ]
     },
     "execution_count": 120,
     "metadata": {},
     "output_type": "execute_result"
    }
   ],
   "source": [
    "pos_vocab"
   ]
  },
  {
   "cell_type": "code",
   "execution_count": 121,
   "id": "9b7010ad-32e6-4d16-96c8-5b5b5d486331",
   "metadata": {},
   "outputs": [],
   "source": [
    "pos_word = sorted(pos_vocab.items(),key=lambda x : x[1], reverse=True)"
   ]
  },
  {
   "cell_type": "code",
   "execution_count": 126,
   "id": "e596616f-3c43-4c1b-b046-28f05bbd7150",
   "metadata": {
    "tags": []
   },
   "outputs": [
    {
     "data": {
      "text/plain": [
       "[('코로나', 24.096373890903067),\n",
       " ('진자', 11.184461261077999),\n",
       " ('재난', 8.142841952944856),\n",
       " ('문자', 8.044143555087247),\n",
       " ('이후', 7.073238988007887)]"
      ]
     },
     "execution_count": 126,
     "metadata": {},
     "output_type": "execute_result"
    }
   ],
   "source": [
    "pos_word[:5]"
   ]
  },
  {
   "cell_type": "markdown",
   "id": "9ea8d53a-e554-4da9-912b-4602c68e5c47",
   "metadata": {},
   "source": [
    "    부정감성에대해서도 동일하게 적용"
   ]
  },
  {
   "cell_type": "code",
   "execution_count": 124,
   "id": "925934b3-ccd8-42e3-a20f-7f68e8b430fb",
   "metadata": {},
   "outputs": [
    {
     "name": "stderr",
     "output_type": "stream",
     "text": [
      "C:\\Users\\user\\miniconda3\\envs\\py\\lib\\site-packages\\sklearn\\feature_extraction\\text.py:528: UserWarning: The parameter 'token_pattern' will not be used since 'tokenizer' is not None'\n",
      "  warnings.warn(\n"
     ]
    }
   ],
   "source": [
    "neg_tfidf =  TfidfVectorizer(tokenizer=okt_tokenizer, min_df=2)\n",
    "neg_dtm =  neg_tfidf.fit_transform(negative_result)\n",
    "neg_vocab = {}\n",
    "for idx, word in  enumerate(neg_tfidf.get_feature_names_out()):\n",
    "    neg_vocab[word] = neg_dtm.getcol(idx).sum()\n",
    "neg_word = sorted(neg_vocab.items(),key=lambda x : x[1], reverse=True)    "
   ]
  },
  {
   "cell_type": "code",
   "execution_count": 127,
   "id": "0662f3db-df54-4486-8df9-2ceb4fa69c5f",
   "metadata": {},
   "outputs": [
    {
     "data": {
      "text/plain": [
       "[('코로나', 84.88091705726454),\n",
       " ('진자', 53.35910011949402),\n",
       " ('신규', 35.03048187217518),\n",
       " ('중국', 30.869541306114094),\n",
       " ('방역', 30.60884044965689)]"
      ]
     },
     "execution_count": 127,
     "metadata": {},
     "output_type": "execute_result"
    }
   ],
   "source": [
    "neg_word[:5]"
   ]
  },
  {
   "cell_type": "code",
   "execution_count": 128,
   "id": "2c4dd6d0-690e-4c6e-8960-ff6610f90343",
   "metadata": {},
   "outputs": [],
   "source": [
    "font_path =  'C:/Windows/Fonts/HMFMOLD.TTF'\n",
    "import matplotlib\n",
    "import matplotlib.pyplot as plt\n",
    "import matplotlib.font_manager as fm"
   ]
  },
  {
   "cell_type": "code",
   "execution_count": 130,
   "id": "fe2a7c72-a68d-45dc-9187-ef0dc25c9cf3",
   "metadata": {},
   "outputs": [
    {
     "name": "stderr",
     "output_type": "stream",
     "text": [
      "C:\\Users\\user\\AppData\\Local\\Temp\\ipykernel_15704\\3539681690.py:1: MatplotlibDeprecationWarning: The get_fontconfig_fonts function was deprecated in Matplotlib 3.5 and will be removed two minor releases later.\n",
      "  fm.get_fontconfig_fonts()\n"
     ]
    }
   ],
   "source": [
    "fm.get_fontconfig_fonts()\n",
    "font_name = fm.FontProperties(fname=font_path).get_name()\n",
    "matplotlib.rc('font',family = font_name)"
   ]
  },
  {
   "cell_type": "code",
   "execution_count": 147,
   "id": "9e1b53ed-91db-4396-95e1-ed0a496f93a6",
   "metadata": {},
   "outputs": [
    {
     "data": {
      "image/png": "[encoded data removed]",
      "text/plain": [
       "<Figure size 1000x500 with 2 Axes>"
      ]
     },
     "metadata": {},
     "output_type": "display_data"
    }
   ],
   "source": [
    "plt.figure(figsize=(10,5))\n",
    "plt.subplot(1,2,1)\n",
    "plt.bar(range(15), [i[1] for i in pos_word[:15]])\n",
    "plt.title(\"긍정뉴스의 단어 상위 15개\")\n",
    "plt.xticks(range(15), [i[0] for i in pos_word[:15]], rotation = 60)\n",
    "\n",
    "plt.subplot(1,2,2)\n",
    "plt.bar(range(15), [i[1] for i in neg_word[:15]])\n",
    "plt.title(\"부정뉴스의 단어 상위 15개\")\n",
    "plt.xticks(range(15), [i[0] for i in neg_word[:15]], rotation = 60)\n",
    "plt.show()"
   ]
  },
  {
   "cell_type": "markdown",
   "id": "f3760cd3-0d9e-4bb3-96d2-d04b98ad050d",
   "metadata": {},
   "source": [
    "# 토픽분석"
   ]
  },
  {
   "cell_type": "code",
   "execution_count": null,
   "id": "dea7486d-114e-4040-b06f-a8dfb29382d1",
   "metadata": {},
   "outputs": [],
   "source": []
  }
 ],
 "metadata": {
  "kernelspec": {
   "display_name": "Python 3 (ipykernel)",
   "language": "python",
   "name": "python3"
  },
  "language_info": {
   "codemirror_mode": {
    "name": "ipython",
    "version": 3
   },
   "file_extension": ".py",
   "mimetype": "text/x-python",
   "name": "python",
   "nbconvert_exporter": "python",
   "pygments_lexer": "ipython3",
   "version": "3.10.8"
  }
 },
 "nbformat": 4,
 "nbformat_minor": 5
}
