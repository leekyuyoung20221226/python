{
  "nbformat": 4,
  "nbformat_minor": 0,
  "metadata": {
    "colab": {
      "provenance": []
    },
    "kernelspec": {
      "name": "python3",
      "display_name": "Python 3"
    },
    "language_info": {
      "name": "python"
    }
  },
  "cells": [
    {
      "cell_type": "code",
      "execution_count": null,
      "metadata": {
        "id": "LVBd4_ljDuYQ"
      },
      "outputs": [],
      "source": [
        "import pandas as pd\n",
        "import numpy as np"
      ]
    },
    {
      "cell_type": "code",
      "source": [
        "# 함수 설계\n",
        "import os\n",
        "import sys\n",
        "import urllib.request\n",
        "import json\n",
        "client_id = \"J2KwXxSxDGbKmuP9V6eE\"\n",
        "client_secret = \"NOtfPphkJY\"\n",
        "def getRequestUrl(url):\n",
        "    request = urllib.request.Request(url)\n",
        "    request.add_header(\"X-Naver-Client-Id\",client_id)\n",
        "    request.add_header(\"X-Naver-Client-Secret\",client_secret)\n",
        "    try:\n",
        "        response = urllib.request.urlopen(request)\n",
        "        rescode = response.getcode()\n",
        "        if(rescode==200): # 성공\n",
        "            response_body = response.read()\n",
        "            return response_body.decode('utf-8')\n",
        "        else:\n",
        "            print(\"Error Code:\" + rescode)  # 404(경로가 잘못), 500(내부에러)\n",
        "            return None\n",
        "    except Exception as e:\n",
        "        print(e)\n",
        "        return None\n",
        "        \n",
        "def getNeverSearch(srcText,searchType='news',display=10,start=1):\n",
        "    encText = urllib.parse.quote(srcText)\n",
        "    url = f\"https://openapi.naver.com/v1/search/{searchType}.json?query={encText}&display={display}&start={start}&sort=sim\"\n",
        "    jsonData =  getRequestUrl(url)\n",
        "    if jsonData == None:\n",
        "        return None\n",
        "    else:\n",
        "        return json.loads(jsonData)"
      ],
      "metadata": {
        "id": "njud-SH6DxfN"
      },
      "execution_count": null,
      "outputs": []
    },
    {
      "cell_type": "code",
      "source": [
        "from tqdm import tqdm\n",
        "searchRange = [i for i in range(1,1000)] + [1000]  \n",
        "result = []\n",
        "for start in tqdm(searchRange):\n",
        "  result += getNeverSearch('SM 엔터테인먼트',start=start, display=100)['items']"
      ],
      "metadata": {
        "colab": {
          "base_uri": "https://localhost:8080/"
        },
        "id": "KR5GsS3DD6aM",
        "outputId": "afdabad3-2d76-49f5-9c25-564681d856f5"
      },
      "execution_count": null,
      "outputs": [
        {
          "output_type": "stream",
          "name": "stderr",
          "text": [
            "100%|██████████| 1000/1000 [21:31<00:00,  1.29s/it]\n"
          ]
        }
      ]
    },
    {
      "cell_type": "code",
      "source": [
        "len(result)"
      ],
      "metadata": {
        "colab": {
          "base_uri": "https://localhost:8080/"
        },
        "id": "JyRQ3snYECp7",
        "outputId": "7f265040-2d5a-4a2c-f8b1-430a0cfe3663"
      },
      "execution_count": null,
      "outputs": [
        {
          "output_type": "execute_result",
          "data": {
            "text/plain": [
              "100000"
            ]
          },
          "metadata": {},
          "execution_count": 10
        }
      ]
    },
    {
      "cell_type": "code",
      "source": [
        "# result[0]['pubDate']\n",
        "np.unique([i['pubDate'].split()[3] for i in result])\n",
        "# 'Wed, 15 Mar 2023 16:28:00 +0900'.split()[3]"
      ],
      "metadata": {
        "colab": {
          "base_uri": "https://localhost:8080/"
        },
        "id": "ZXXFEvzlEDcd",
        "outputId": "6fa7132a-501c-466b-83f9-621fa8a7026d"
      },
      "execution_count": null,
      "outputs": [
        {
          "output_type": "execute_result",
          "data": {
            "text/plain": [
              "array(['2023'], dtype='<U4')"
            ]
          },
          "metadata": {},
          "execution_count": 25
        }
      ]
    },
    {
      "cell_type": "code",
      "source": [
        "from bs4 import BeautifulSoup\n",
        "import urllib.request"
      ],
      "metadata": {
        "id": "HGa7Fo0EKJMp"
      },
      "execution_count": null,
      "outputs": []
    },
    {
      "cell_type": "code",
      "source": [
        "url='https://search.naver.com/search.naver?where=news&sm=tab_pge&query=sm%EC%97%94%ED%84%B0%ED%85%8C%EC%9D%B8%EB%A8%BC%ED%8A%B8&sort=1&photo=0&field=0&pd=3&ds=2022.01.01&de=2022.12.31&mynews=0&office_type=0&office_section_code=0&news_office_checked=&nso=so:dd,p:from20220101to20221231,a:all&start=1'\n",
        "html=urllib.request.urlopen(url)\n",
        "soup=BeautifulSoup(html,'html.parser')\n",
        "lists = soup.select('div > div.group_news > ul.list_news > li')\n",
        "[i.select('.bx > div > div > a')[0].text for i in lists]  # 제목\n",
        "[i.select('.bx > div > div > div.news_dsc > div > a')[0].text for i in lists] # 내용"
      ],
      "metadata": {
        "id": "8eLi5nKXT2MW"
      },
      "execution_count": null,
      "outputs": []
    },
    {
      "cell_type": "code",
      "source": [
        "lists[0]"
      ],
      "metadata": {
        "colab": {
          "base_uri": "https://localhost:8080/"
        },
        "id": "wbptcXaqT4p9",
        "outputId": "cb0c1ea7-a2bc-4ce3-cab1-e6250f3a0fe9"
      },
      "execution_count": null,
      "outputs": [
        {
          "output_type": "execute_result",
          "data": {
            "text/plain": [
              "<li class=\"bx\" id=\"sp_nws1\"> <div class=\"news_wrap api_ani_send\"> <div class=\"news_area\"> <div class=\"news_info\"> <div class=\"api_save_group _keep_wrap\"> <a aria-pressed=\"false\" class=\"btn_save _keep_trigger\" data-url=\"https://www.mhns.co.kr/news/articleView.html?idxno=544562\" href=\"#\" onclick=\"tCR('a=nws*f.kep&amp;r=1&amp;i=8816651a_000000000000000000186866&amp;u=javascript'); return false;\" role=\"button\"><i class=\"spnew ico_save\">문서 저장하기</i></a> <div class=\"api_ly_save _keep_save_layer\"> <a class=\"spnew_af item item_save _keep_save\" data-cr-off=\"a=nws*f.kepoff&amp;r=1&amp;i=8816651a_000000000000000000186866&amp;u=javascript\" data-cr-on=\"a=nws*f.kepon&amp;r=1&amp;i=8816651a_000000000000000000186866&amp;u=javascript\" href=\"#\" role=\"button\">Keep에 저장</a> <a class=\"spnew_af item item_quick\" href=\"https://keep.naver.com/\" onclick=\"return goOtherCR(this,'a=nws*f.kephome&amp;r=1&amp;i=8816651a_000000000000000000186866&amp;u='+urlencode(this.href));\" target=\"_blank\">Keep 바로가기</a> </div></div><div class=\"info_group\"> <a class=\"info press\" href=\"http://www.munhwanews.com\" onclick=\"return goOtherCR(this, 'a=nws*f.prof&amp;r=1&amp;i=8816651a_000000000000000000186866&amp;g=5415.0000186866&amp;u='+urlencode(this.href));\" target=\"_blank\"><span class=\"thumb_box\"><img alt=\"\" class=\"thumb\" data-lazysrc=\"https://search.pstatic.net/common/?src=http%3A%2F%2Fwww.mhns.co.kr%2Fimage%2Flogo%2Ffavicon_20190117055058.ico&amp;type=f54_54&amp;expire=24&amp;refresh=true\" height=\"20\" onerror=\"this.src='data:image/gif;base64,R0lGODlhAQABAIAAAAAAAP///yH5BAEAAAAALAAAAAABAAEAAAIBRAA7';this.className='thumb bg_default_press'\" src=\"data:image/gif;base64,R0lGODlhAQABAIAAAAAAAP///yH5BAEAAAAALAAAAAABAAEAAAIBRAA7\" width=\"20\"/></span>문화뉴스</a><span class=\"info\">2022.12.31.</span> </div></div><a class=\"news_tit\" href=\"https://www.mhns.co.kr/news/articleView.html?idxno=544562\" onclick=\"return goOtherCR(this, 'a=nws*f.tit&amp;r=1&amp;i=8816651a_000000000000000000186866&amp;g=5415.0000186866&amp;u='+urlencode(this.href));\" target=\"_blank\" title=\"NCT127·포레스텔라→정동원·에스파...'2022 MBC 가요대제전' 라인업\">NCT127·포레스텔라→정동원·에스파...'2022 MBC 가요대제전' 라인업</a> <div class=\"news_dsc\"> <div class=\"dsc_wrap\"> <a class=\"api_txt_lines dsc_txt_wrap\" href=\"https://www.mhns.co.kr/news/articleView.html?idxno=544562\" onclick=\"return goOtherCR(this, 'a=nws*f.body&amp;r=1&amp;i=8816651a_000000000000000000186866&amp;g=5415.0000186866&amp;u='+urlencode(this.href));\" target=\"_blank\">사진=준호, 윤아/JYP, <mark>SM 엔터테인먼트</mark> 제공 또한 마마무(MAMAMOO), 아린(오마이걸), 몬스타엑스(MONSTA X), 문빈&amp;산하(ASTRO), NCT 127, NCT DREAM, 유태양(SF9), 최유정(Weki Meki), 더 보이즈(THE BOYZ), 포레스텔라...</a> </div></div></div><a class=\"dsc_thumb\" href=\"https://www.mhns.co.kr/news/articleView.html?idxno=544562\" onclick=\"return goOtherCR(this, 'a=nws*f.img&amp;r=1&amp;i=8816651a_000000000000000000186866&amp;g=5415.0000186866&amp;u='+urlencode(this.href));\" target=\"_blank\"><img alt=\"NCT127·포레스텔라→\" class=\"thumb api_get\" data-lazysrc=\"https://search.pstatic.net/common/?src=https%3A%2F%2Fimgnews.pstatic.net%2Fimage%2Forigin%2F5415%2F2022%2F12%2F31%2F186866.jpg&amp;type=ofullfill264_180_gray&amp;expire=2&amp;refresh=true\" height=\"90\" onerror=\"this.parentNode.style.display='none';\" src=\"data:image/gif;base64,R0lGODlhAQABAIAAAAAAAP///yH5BAEAAAAALAAAAAABAAEAAAIBRAA7\" width=\"132\"/></a> </div></li>"
            ]
          },
          "metadata": {},
          "execution_count": 48
        }
      ]
    },
    {
      "cell_type": "code",
      "source": [],
      "metadata": {
        "id": "cAzMEdInXB4s"
      },
      "execution_count": null,
      "outputs": []
    }
  ]
}