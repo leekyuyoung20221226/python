{
  "nbformat": 4,
  "nbformat_minor": 0,
  "metadata": {
    "colab": {
      "provenance": []
    },
    "kernelspec": {
      "name": "python3",
      "display_name": "Python 3"
    },
    "language_info": {
      "name": "python"
    },
    "accelerator": "GPU",
    "gpuClass": "standard"
  },
  "cells": [
    {
      "cell_type": "markdown",
      "source": [
        "심층 신경망"
      ],
      "metadata": {
        "id": "EUjE2IBPdYg6"
      }
    },
    {
      "cell_type": "code",
      "execution_count": 1,
      "metadata": {
        "id": "YdAhhOTBdPym"
      },
      "outputs": [],
      "source": [
        "import tensorflow as tf"
      ]
    },
    {
      "cell_type": "code",
      "source": [
        "(x_train,y_train),(x_test,y_test) =  tf.keras.datasets.fashion_mnist.load_data()"
      ],
      "metadata": {
        "colab": {
          "base_uri": "https://localhost:8080/"
        },
        "id": "6fyCc3RrdaCm",
        "outputId": "41330d2b-2b6d-45b0-f4d1-9bfe2f582b66"
      },
      "execution_count": 2,
      "outputs": [
        {
          "output_type": "stream",
          "name": "stdout",
          "text": [
            "Downloading data from https://storage.googleapis.com/tensorflow/tf-keras-datasets/train-labels-idx1-ubyte.gz\n",
            "29515/29515 [==============================] - 0s 0us/step\n",
            "Downloading data from https://storage.googleapis.com/tensorflow/tf-keras-datasets/train-images-idx3-ubyte.gz\n",
            "26421880/26421880 [==============================] - 0s 0us/step\n",
            "Downloading data from https://storage.googleapis.com/tensorflow/tf-keras-datasets/t10k-labels-idx1-ubyte.gz\n",
            "5148/5148 [==============================] - 0s 0us/step\n",
            "Downloading data from https://storage.googleapis.com/tensorflow/tf-keras-datasets/t10k-images-idx3-ubyte.gz\n",
            "4422102/4422102 [==============================] - 0s 0us/step\n"
          ]
        }
      ]
    },
    {
      "cell_type": "code",
      "source": [
        "x_train.shape"
      ],
      "metadata": {
        "colab": {
          "base_uri": "https://localhost:8080/"
        },
        "id": "KY4NrZchhjGl",
        "outputId": "34c7c525-3030-4276-b174-428d393028fb"
      },
      "execution_count": 3,
      "outputs": [
        {
          "output_type": "execute_result",
          "data": {
            "text/plain": [
              "(60000, 28, 28)"
            ]
          },
          "metadata": {},
          "execution_count": 3
        }
      ]
    },
    {
      "cell_type": "code",
      "source": [
        "# 데이터 표준화\n",
        "x_train_scaled = x_train / 255.0\n",
        "x_train_scaled = x_train_scaled.reshape(-1,28*28)\n",
        "# 데이터 분할\n",
        "from sklearn.model_selection import train_test_split\n",
        "x_tr,x_te,y_tr,y_te = train_test_split(x_train_scaled, y_train,test_size=0.2, random_state=0)\n",
        "\n",
        "dense1 = tf.keras.layers.Dense(100,activation='sigmoid', input_shape = (x_tr.shape[1],) )\n",
        "dense2 = tf.keras.layers.Dense(10,activation='softmax' )\n",
        "model = tf.keras.Sequential([dense1,dense2])"
      ],
      "metadata": {
        "id": "mjC6Jncdd3YE"
      },
      "execution_count": 4,
      "outputs": []
    },
    {
      "cell_type": "code",
      "source": [
        "x_tr.shape"
      ],
      "metadata": {
        "colab": {
          "base_uri": "https://localhost:8080/"
        },
        "id": "UnlHVYudg6WM",
        "outputId": "1dfa3b76-255f-438c-f6ff-d5cb33fe25dd"
      },
      "execution_count": 5,
      "outputs": [
        {
          "output_type": "execute_result",
          "data": {
            "text/plain": [
              "(48000, 784)"
            ]
          },
          "metadata": {},
          "execution_count": 5
        }
      ]
    },
    {
      "cell_type": "code",
      "source": [
        "model.summary()"
      ],
      "metadata": {
        "colab": {
          "base_uri": "https://localhost:8080/"
        },
        "id": "kHLryL7Jf7vU",
        "outputId": "f00b11e3-1630-4435-9f84-b0bd2cc8ead7"
      },
      "execution_count": 6,
      "outputs": [
        {
          "output_type": "stream",
          "name": "stdout",
          "text": [
            "Model: \"sequential\"\n",
            "_________________________________________________________________\n",
            " Layer (type)                Output Shape              Param #   \n",
            "=================================================================\n",
            " dense (Dense)               (None, 100)               78500     \n",
            "                                                                 \n",
            " dense_1 (Dense)             (None, 10)                1010      \n",
            "                                                                 \n",
            "=================================================================\n",
            "Total params: 79,510\n",
            "Trainable params: 79,510\n",
            "Non-trainable params: 0\n",
            "_________________________________________________________________\n"
          ]
        }
      ]
    },
    {
      "cell_type": "code",
      "source": [
        "model.compile(loss = tf.keras.losses.sparse_categorical_crossentropy, metrics='acc')\n",
        "model.fit(x_tr,y_tr,epochs=5)"
      ],
      "metadata": {
        "colab": {
          "base_uri": "https://localhost:8080/"
        },
        "id": "LkyGI6Jigq2r",
        "outputId": "bbf464fe-cec8-42be-cb90-a5c49b3d6088"
      },
      "execution_count": 7,
      "outputs": [
        {
          "output_type": "stream",
          "name": "stdout",
          "text": [
            "Epoch 1/5\n",
            "1500/1500 [==============================] - 8s 3ms/step - loss: 0.5724 - acc: 0.8069\n",
            "Epoch 2/5\n",
            "1500/1500 [==============================] - 4s 3ms/step - loss: 0.4127 - acc: 0.8501\n",
            "Epoch 3/5\n",
            "1500/1500 [==============================] - 4s 2ms/step - loss: 0.3763 - acc: 0.8631\n",
            "Epoch 4/5\n",
            "1500/1500 [==============================] - 4s 2ms/step - loss: 0.3528 - acc: 0.8730\n",
            "Epoch 5/5\n",
            "1500/1500 [==============================] - 4s 3ms/step - loss: 0.3357 - acc: 0.8786\n"
          ]
        },
        {
          "output_type": "execute_result",
          "data": {
            "text/plain": [
              "<keras.callbacks.History at 0x7f3e0246ff40>"
            ]
          },
          "metadata": {},
          "execution_count": 7
        }
      ]
    },
    {
      "cell_type": "markdown",
      "source": [
        "Flatten 층"
      ],
      "metadata": {
        "id": "1rBYmqLxkdLM"
      }
    },
    {
      "cell_type": "code",
      "source": [
        "model = tf.keras.Sequential()\n",
        "model.add( tf.keras.layers.Flatten(input_shape = (28,28))  )\n",
        "model.add(tf.keras.layers.Dense(100,activation='sigmoid'))\n",
        "model.add(tf.keras.layers.Dense(10,activation='softmax'))\n",
        "model.summary()"
      ],
      "metadata": {
        "colab": {
          "base_uri": "https://localhost:8080/"
        },
        "id": "78GYZ5YripV8",
        "outputId": "3dd19132-47da-472a-cd06-b7da10f0c894"
      },
      "execution_count": 8,
      "outputs": [
        {
          "output_type": "stream",
          "name": "stdout",
          "text": [
            "Model: \"sequential_1\"\n",
            "_________________________________________________________________\n",
            " Layer (type)                Output Shape              Param #   \n",
            "=================================================================\n",
            " flatten (Flatten)           (None, 784)               0         \n",
            "                                                                 \n",
            " dense_2 (Dense)             (None, 100)               78500     \n",
            "                                                                 \n",
            " dense_3 (Dense)             (None, 10)                1010      \n",
            "                                                                 \n",
            "=================================================================\n",
            "Total params: 79,510\n",
            "Trainable params: 79,510\n",
            "Non-trainable params: 0\n",
            "_________________________________________________________________\n"
          ]
        }
      ]
    },
    {
      "cell_type": "code",
      "source": [
        "model.compile(loss = tf.keras.losses.sparse_categorical_crossentropy, metrics='acc')\n",
        "model.fit(x_train / 255.0,y_train,epochs=5)"
      ],
      "metadata": {
        "colab": {
          "base_uri": "https://localhost:8080/"
        },
        "id": "GXtffSfZlTG0",
        "outputId": "4e1ba81f-94fb-4ea3-ae6e-f822fc3b6123"
      },
      "execution_count": 9,
      "outputs": [
        {
          "output_type": "stream",
          "name": "stdout",
          "text": [
            "Epoch 1/5\n",
            "1875/1875 [==============================] - 8s 4ms/step - loss: 0.5411 - acc: 0.8145\n",
            "Epoch 2/5\n",
            "1875/1875 [==============================] - 7s 4ms/step - loss: 0.3995 - acc: 0.8558\n",
            "Epoch 3/5\n",
            "1875/1875 [==============================] - 5s 3ms/step - loss: 0.3652 - acc: 0.8678\n",
            "Epoch 4/5\n",
            "1875/1875 [==============================] - 5s 3ms/step - loss: 0.3431 - acc: 0.8757\n",
            "Epoch 5/5\n",
            "1875/1875 [==============================] - 5s 3ms/step - loss: 0.3260 - acc: 0.8822\n"
          ]
        },
        {
          "output_type": "execute_result",
          "data": {
            "text/plain": [
              "<keras.callbacks.History at 0x7f3e01650310>"
            ]
          },
          "metadata": {},
          "execution_count": 9
        }
      ]
    },
    {
      "cell_type": "code",
      "source": [
        "model = tf.keras.Sequential()\n",
        "model.add( tf.keras.layers.Flatten(input_shape = (28,28))  )\n",
        "model.add(tf.keras.layers.Dense(100,activation='relu'))\n",
        "model.add(tf.keras.layers.Dense(10,activation='softmax'))\n",
        "model.summary()"
      ],
      "metadata": {
        "colab": {
          "base_uri": "https://localhost:8080/"
        },
        "id": "DTi2GfoXlXo6",
        "outputId": "09d24d3a-207a-4c6c-fcc5-f758ad386cc3"
      },
      "execution_count": 10,
      "outputs": [
        {
          "output_type": "stream",
          "name": "stdout",
          "text": [
            "Model: \"sequential_2\"\n",
            "_________________________________________________________________\n",
            " Layer (type)                Output Shape              Param #   \n",
            "=================================================================\n",
            " flatten_1 (Flatten)         (None, 784)               0         \n",
            "                                                                 \n",
            " dense_4 (Dense)             (None, 100)               78500     \n",
            "                                                                 \n",
            " dense_5 (Dense)             (None, 10)                1010      \n",
            "                                                                 \n",
            "=================================================================\n",
            "Total params: 79,510\n",
            "Trainable params: 79,510\n",
            "Non-trainable params: 0\n",
            "_________________________________________________________________\n"
          ]
        }
      ]
    },
    {
      "cell_type": "code",
      "source": [
        "model.compile(loss = tf.keras.losses.sparse_categorical_crossentropy, metrics='acc')\n",
        "model.fit(x_train / 255.0,y_train,epochs=5)"
      ],
      "metadata": {
        "colab": {
          "base_uri": "https://localhost:8080/"
        },
        "id": "sB5s1o15pyLb",
        "outputId": "502db972-3e3c-4b72-f16b-1293171879e8"
      },
      "execution_count": 11,
      "outputs": [
        {
          "output_type": "stream",
          "name": "stdout",
          "text": [
            "Epoch 1/5\n",
            "1875/1875 [==============================] - 5s 2ms/step - loss: 0.5130 - acc: 0.8187\n",
            "Epoch 2/5\n",
            "1875/1875 [==============================] - 5s 3ms/step - loss: 0.3823 - acc: 0.8616\n",
            "Epoch 3/5\n",
            "1875/1875 [==============================] - 5s 2ms/step - loss: 0.3468 - acc: 0.8748\n",
            "Epoch 4/5\n",
            "1875/1875 [==============================] - 4s 2ms/step - loss: 0.3293 - acc: 0.8824\n",
            "Epoch 5/5\n",
            "1875/1875 [==============================] - 5s 3ms/step - loss: 0.3177 - acc: 0.8880\n"
          ]
        },
        {
          "output_type": "execute_result",
          "data": {
            "text/plain": [
              "<keras.callbacks.History at 0x7f3e01551070>"
            ]
          },
          "metadata": {},
          "execution_count": 11
        }
      ]
    },
    {
      "cell_type": "code",
      "source": [
        "model = tf.keras.Sequential()\n",
        "model.add( tf.keras.layers.Flatten(input_shape = (28,28))  )\n",
        "model.add(tf.keras.layers.Dense(100,activation='relu'))\n",
        "model.add(tf.keras.layers.Dense(10,activation='softmax'))\n",
        "model.compile(optimizer='adam',loss = tf.keras.losses.sparse_categorical_crossentropy, metrics='acc' )\n",
        "model.fit(x_train / 255.0,y_train,epochs=5)"
      ],
      "metadata": {
        "colab": {
          "base_uri": "https://localhost:8080/"
        },
        "id": "U0h7xgy-p2D6",
        "outputId": "0344dd4f-f34b-4384-d46f-18241703644b"
      },
      "execution_count": 12,
      "outputs": [
        {
          "output_type": "stream",
          "name": "stdout",
          "text": [
            "Epoch 1/5\n",
            "1875/1875 [==============================] - 6s 3ms/step - loss: 0.5028 - acc: 0.8239\n",
            "Epoch 2/5\n",
            "1875/1875 [==============================] - 4s 2ms/step - loss: 0.3794 - acc: 0.8634\n",
            "Epoch 3/5\n",
            "1875/1875 [==============================] - 5s 3ms/step - loss: 0.3393 - acc: 0.8762\n",
            "Epoch 4/5\n",
            "1875/1875 [==============================] - 5s 3ms/step - loss: 0.3166 - acc: 0.8848\n",
            "Epoch 5/5\n",
            "1875/1875 [==============================] - 4s 2ms/step - loss: 0.2974 - acc: 0.8920\n"
          ]
        },
        {
          "output_type": "execute_result",
          "data": {
            "text/plain": [
              "<keras.callbacks.History at 0x7f3e00298880>"
            ]
          },
          "metadata": {},
          "execution_count": 12
        }
      ]
    },
    {
      "cell_type": "code",
      "source": [
        "def model_fn(a_layer = None):\n",
        "  model = tf.keras.Sequential()\n",
        "  model.add(tf.keras.layers.Flatten(input_shape=(28,28)))\n",
        "  model.add(tf.keras.layers.Dense(100,activation='relu'))\n",
        "  if a_layer:\n",
        "    model.add(a_layer)\n",
        "  model.add(tf.keras.layers.Dense(10,activation='softmax'))\n",
        "  return model"
      ],
      "metadata": {
        "id": "8YoG7sTerg72"
      },
      "execution_count": 13,
      "outputs": []
    },
    {
      "cell_type": "code",
      "source": [
        "(train_input,train_target),(test_input,test_target) = tf.keras.datasets.fashion_mnist.load_data()\n",
        "train_scaled =  train_input / 255.0\n",
        "x_train,x_test,y_train,y_test =  train_test_split(train_scaled,train_target,test_size=0.2,random_state=0)"
      ],
      "metadata": {
        "id": "ZRUiNT2at3DS"
      },
      "execution_count": 14,
      "outputs": []
    },
    {
      "cell_type": "code",
      "source": [
        "model = model_fn()\n",
        "model.summary()"
      ],
      "metadata": {
        "colab": {
          "base_uri": "https://localhost:8080/"
        },
        "id": "G9OrlXv_umSK",
        "outputId": "f4e2712f-15e2-4e83-ae24-d22142d8fc55"
      },
      "execution_count": 15,
      "outputs": [
        {
          "output_type": "stream",
          "name": "stdout",
          "text": [
            "Model: \"sequential_4\"\n",
            "_________________________________________________________________\n",
            " Layer (type)                Output Shape              Param #   \n",
            "=================================================================\n",
            " flatten_3 (Flatten)         (None, 784)               0         \n",
            "                                                                 \n",
            " dense_8 (Dense)             (None, 100)               78500     \n",
            "                                                                 \n",
            " dense_9 (Dense)             (None, 10)                1010      \n",
            "                                                                 \n",
            "=================================================================\n",
            "Total params: 79,510\n",
            "Trainable params: 79,510\n",
            "Non-trainable params: 0\n",
            "_________________________________________________________________\n"
          ]
        }
      ]
    },
    {
      "cell_type": "code",
      "source": [
        "model.compile(loss = 'sparse_categorical_crossentropy', metrics='acc')\n",
        "history = model.fit(x_train,y_train,epochs=5)"
      ],
      "metadata": {
        "colab": {
          "base_uri": "https://localhost:8080/"
        },
        "id": "9XTQWgq4utXJ",
        "outputId": "485a6e90-a383-49f4-dcaf-ef95e2abee11"
      },
      "execution_count": 16,
      "outputs": [
        {
          "output_type": "stream",
          "name": "stdout",
          "text": [
            "Epoch 1/5\n",
            "1500/1500 [==============================] - 5s 3ms/step - loss: 0.5371 - acc: 0.8117\n",
            "Epoch 2/5\n",
            "1500/1500 [==============================] - 3s 2ms/step - loss: 0.3916 - acc: 0.8608\n",
            "Epoch 3/5\n",
            "1500/1500 [==============================] - 4s 2ms/step - loss: 0.3528 - acc: 0.8737\n",
            "Epoch 4/5\n",
            "1500/1500 [==============================] - 4s 3ms/step - loss: 0.3316 - acc: 0.8813\n",
            "Epoch 5/5\n",
            "1500/1500 [==============================] - 4s 2ms/step - loss: 0.3157 - acc: 0.8865\n"
          ]
        }
      ]
    },
    {
      "cell_type": "code",
      "source": [
        "history.history.keys()"
      ],
      "metadata": {
        "colab": {
          "base_uri": "https://localhost:8080/"
        },
        "id": "JKChtaUCvIYr",
        "outputId": "15c15d14-e96f-4303-d39e-fdb0a97ecf78"
      },
      "execution_count": 17,
      "outputs": [
        {
          "output_type": "execute_result",
          "data": {
            "text/plain": [
              "dict_keys(['loss', 'acc'])"
            ]
          },
          "metadata": {},
          "execution_count": 17
        }
      ]
    },
    {
      "cell_type": "code",
      "source": [
        "import matplotlib.pyplot as plt"
      ],
      "metadata": {
        "id": "ZSX3etc8vljx"
      },
      "execution_count": 18,
      "outputs": []
    },
    {
      "cell_type": "code",
      "source": [
        "plt.plot(history.history['loss'],label='loss')\n",
        "plt.plot(history.history['acc'],label='accuracy')\n",
        "plt.legend()\n",
        "plt.show()"
      ],
      "metadata": {
        "colab": {
          "base_uri": "https://localhost:8080/",
          "height": 265
        },
        "id": "6w5ymuL0vpBB",
        "outputId": "6934620e-0c06-4708-8175-d79a96d52367"
      },
      "execution_count": 19,
      "outputs": [
        {
          "output_type": "display_data",
          "data": {
            "text/plain": [
              "<Figure size 432x288 with 1 Axes>"
            ],
            "image/png": "[encoded data removed]"
          },
          "metadata": {
            "needs_background": "light"
          }
        }
      ]
    },
    {
      "cell_type": "code",
      "source": [
        "model = model_fn()\n",
        "model.compile(loss = 'sparse_categorical_crossentropy', metrics='acc')\n",
        "history = model.fit(x_train,y_train,epochs=20,batch_size=50)"
      ],
      "metadata": {
        "colab": {
          "base_uri": "https://localhost:8080/"
        },
        "id": "xagZxWOtvx9Q",
        "outputId": "c0ce5fd8-dea4-4bba-87fd-99a1feeee882"
      },
      "execution_count": 22,
      "outputs": [
        {
          "output_type": "stream",
          "name": "stdout",
          "text": [
            "Epoch 1/20\n",
            "960/960 [==============================] - 4s 3ms/step - loss: 0.5626 - acc: 0.8037\n",
            "Epoch 2/20\n",
            "960/960 [==============================] - 2s 2ms/step - loss: 0.4061 - acc: 0.8543\n",
            "Epoch 3/20\n",
            "960/960 [==============================] - 2s 2ms/step - loss: 0.3629 - acc: 0.8685\n",
            "Epoch 4/20\n",
            "960/960 [==============================] - 2s 2ms/step - loss: 0.3359 - acc: 0.8780\n",
            "Epoch 5/20\n",
            "960/960 [==============================] - 2s 2ms/step - loss: 0.3181 - acc: 0.8856\n",
            "Epoch 6/20\n",
            "960/960 [==============================] - 3s 3ms/step - loss: 0.3047 - acc: 0.8905\n",
            "Epoch 7/20\n",
            "960/960 [==============================] - 2s 2ms/step - loss: 0.2927 - acc: 0.8927\n",
            "Epoch 8/20\n",
            "960/960 [==============================] - 2s 2ms/step - loss: 0.2835 - acc: 0.8969\n",
            "Epoch 9/20\n",
            "960/960 [==============================] - 2s 2ms/step - loss: 0.2722 - acc: 0.9006\n",
            "Epoch 10/20\n",
            "960/960 [==============================] - 2s 2ms/step - loss: 0.2664 - acc: 0.9025\n",
            "Epoch 11/20\n",
            "960/960 [==============================] - 3s 3ms/step - loss: 0.2567 - acc: 0.9073\n",
            "Epoch 12/20\n",
            "960/960 [==============================] - 2s 2ms/step - loss: 0.2513 - acc: 0.9090\n",
            "Epoch 13/20\n",
            "960/960 [==============================] - 2s 2ms/step - loss: 0.2445 - acc: 0.9122\n",
            "Epoch 14/20\n",
            "960/960 [==============================] - 2s 2ms/step - loss: 0.2379 - acc: 0.9135\n",
            "Epoch 15/20\n",
            "960/960 [==============================] - 2s 2ms/step - loss: 0.2341 - acc: 0.9158\n",
            "Epoch 16/20\n",
            "960/960 [==============================] - 3s 3ms/step - loss: 0.2271 - acc: 0.9162\n",
            "Epoch 17/20\n",
            "960/960 [==============================] - 2s 2ms/step - loss: 0.2220 - acc: 0.9191\n",
            "Epoch 18/20\n",
            "960/960 [==============================] - 2s 2ms/step - loss: 0.2173 - acc: 0.9202\n",
            "Epoch 19/20\n",
            "960/960 [==============================] - 2s 2ms/step - loss: 0.2133 - acc: 0.9236\n",
            "Epoch 20/20\n",
            "960/960 [==============================] - 2s 2ms/step - loss: 0.2070 - acc: 0.9247\n"
          ]
        }
      ]
    },
    {
      "cell_type": "code",
      "source": [
        "plt.plot(history.history['loss'],label='loss')\n",
        "plt.plot(history.history['acc'],label='accuracy')\n",
        "plt.legend()\n",
        "plt.show()"
      ],
      "metadata": {
        "colab": {
          "base_uri": "https://localhost:8080/",
          "height": 265
        },
        "id": "k29_UEbkxOTb",
        "outputId": "41b02c7e-51c3-4e34-d50b-f23055d4ce78"
      },
      "execution_count": 23,
      "outputs": [
        {
          "output_type": "display_data",
          "data": {
            "text/plain": [
              "<Figure size 432x288 with 1 Axes>"
            ],
            "image/png": "[encoded data removed]"
          },
          "metadata": {
            "needs_background": "light"
          }
        }
      ]
    },
    {
      "cell_type": "markdown",
      "source": [
        "검증"
      ],
      "metadata": {
        "id": "tLsXhWfHxuvy"
      }
    },
    {
      "cell_type": "code",
      "source": [
        "model = model_fn()\n",
        "model.compile(loss = 'sparse_categorical_crossentropy', metrics='acc')\n",
        "history = model.fit(x_train,y_train,epochs=20,batch_size=50, validation_data=(x_test,y_test) )"
      ],
      "metadata": {
        "colab": {
          "base_uri": "https://localhost:8080/"
        },
        "id": "Uk3j0HB6xrnZ",
        "outputId": "f301ec66-5e04-4f35-fc40-e8e6c9215306"
      },
      "execution_count": 24,
      "outputs": [
        {
          "output_type": "stream",
          "name": "stdout",
          "text": [
            "Epoch 1/20\n",
            "960/960 [==============================] - 4s 3ms/step - loss: 0.5593 - acc: 0.8042 - val_loss: 0.4709 - val_acc: 0.8286\n",
            "Epoch 2/20\n",
            "960/960 [==============================] - 3s 4ms/step - loss: 0.4030 - acc: 0.8533 - val_loss: 0.4014 - val_acc: 0.8533\n",
            "Epoch 3/20\n",
            "960/960 [==============================] - 3s 3ms/step - loss: 0.3587 - acc: 0.8704 - val_loss: 0.3713 - val_acc: 0.8673\n",
            "Epoch 4/20\n",
            "960/960 [==============================] - 3s 3ms/step - loss: 0.3342 - acc: 0.8788 - val_loss: 0.3509 - val_acc: 0.8733\n",
            "Epoch 5/20\n",
            "960/960 [==============================] - 3s 3ms/step - loss: 0.3168 - acc: 0.8840 - val_loss: 0.3467 - val_acc: 0.8796\n",
            "Epoch 6/20\n",
            "960/960 [==============================] - 4s 4ms/step - loss: 0.3039 - acc: 0.8902 - val_loss: 0.3428 - val_acc: 0.8797\n",
            "Epoch 7/20\n",
            "960/960 [==============================] - 3s 3ms/step - loss: 0.2891 - acc: 0.8947 - val_loss: 0.3606 - val_acc: 0.8742\n",
            "Epoch 8/20\n",
            "960/960 [==============================] - 3s 3ms/step - loss: 0.2812 - acc: 0.8988 - val_loss: 0.3533 - val_acc: 0.8728\n",
            "Epoch 9/20\n",
            "960/960 [==============================] - 3s 3ms/step - loss: 0.2703 - acc: 0.9007 - val_loss: 0.3424 - val_acc: 0.8838\n",
            "Epoch 10/20\n",
            "960/960 [==============================] - 3s 4ms/step - loss: 0.2644 - acc: 0.9041 - val_loss: 0.3340 - val_acc: 0.8853\n",
            "Epoch 11/20\n",
            "960/960 [==============================] - 3s 3ms/step - loss: 0.2550 - acc: 0.9087 - val_loss: 0.3466 - val_acc: 0.8812\n",
            "Epoch 12/20\n",
            "960/960 [==============================] - 3s 3ms/step - loss: 0.2497 - acc: 0.9087 - val_loss: 0.3373 - val_acc: 0.8892\n",
            "Epoch 13/20\n",
            "960/960 [==============================] - 3s 3ms/step - loss: 0.2414 - acc: 0.9130 - val_loss: 0.3550 - val_acc: 0.8842\n",
            "Epoch 14/20\n",
            "960/960 [==============================] - 3s 4ms/step - loss: 0.2373 - acc: 0.9150 - val_loss: 0.3642 - val_acc: 0.8836\n",
            "Epoch 15/20\n",
            "960/960 [==============================] - 3s 3ms/step - loss: 0.2326 - acc: 0.9156 - val_loss: 0.3739 - val_acc: 0.8859\n",
            "Epoch 16/20\n",
            "960/960 [==============================] - 3s 3ms/step - loss: 0.2264 - acc: 0.9176 - val_loss: 0.3693 - val_acc: 0.8861\n",
            "Epoch 17/20\n",
            "960/960 [==============================] - 3s 3ms/step - loss: 0.2210 - acc: 0.9199 - val_loss: 0.3522 - val_acc: 0.8898\n",
            "Epoch 18/20\n",
            "960/960 [==============================] - 3s 3ms/step - loss: 0.2173 - acc: 0.9217 - val_loss: 0.3656 - val_acc: 0.8846\n",
            "Epoch 19/20\n",
            "960/960 [==============================] - 3s 3ms/step - loss: 0.2117 - acc: 0.9240 - val_loss: 0.3696 - val_acc: 0.8880\n",
            "Epoch 20/20\n",
            "960/960 [==============================] - 3s 3ms/step - loss: 0.2078 - acc: 0.9248 - val_loss: 0.3631 - val_acc: 0.8885\n"
          ]
        }
      ]
    },
    {
      "cell_type": "code",
      "source": [
        "history.history.keys()"
      ],
      "metadata": {
        "colab": {
          "base_uri": "https://localhost:8080/"
        },
        "id": "rDwfXbziyG_i",
        "outputId": "b8f73aec-e89c-49c9-9606-e77492a7986a"
      },
      "execution_count": 25,
      "outputs": [
        {
          "output_type": "execute_result",
          "data": {
            "text/plain": [
              "dict_keys(['loss', 'acc', 'val_loss', 'val_acc'])"
            ]
          },
          "metadata": {},
          "execution_count": 25
        }
      ]
    },
    {
      "cell_type": "code",
      "source": [
        "plt.plot(history.history['loss'],label='loss')\n",
        "plt.plot(history.history['acc'],label='accuracy')\n",
        "plt.plot(history.history['val_loss'],label='val_loss')\n",
        "plt.plot(history.history['val_acc'],label='val_accuracy')\n",
        "plt.legend()\n",
        "plt.show()"
      ],
      "metadata": {
        "colab": {
          "base_uri": "https://localhost:8080/",
          "height": 265
        },
        "id": "8061xXcAycyg",
        "outputId": "2868bba8-e7fb-47b7-b4ec-298429a20a57"
      },
      "execution_count": 26,
      "outputs": [
        {
          "output_type": "display_data",
          "data": {
            "text/plain": [
              "<Figure size 432x288 with 1 Axes>"
            ],
            "image/png": "[encoded data removed]"
          },
          "metadata": {
            "needs_background": "light"
          }
        }
      ]
    },
    {
      "cell_type": "code",
      "source": [
        "dropout = tf.keras.layers.Dropout(0.3)\n",
        "model = model_fn(dropout)\n",
        "model.summary()"
      ],
      "metadata": {
        "colab": {
          "base_uri": "https://localhost:8080/"
        },
        "id": "-3YXWedDyk85",
        "outputId": "7d677ca0-f028-4067-c423-691a7b9825fc"
      },
      "execution_count": 27,
      "outputs": [
        {
          "output_type": "stream",
          "name": "stdout",
          "text": [
            "Model: \"sequential_9\"\n",
            "_________________________________________________________________\n",
            " Layer (type)                Output Shape              Param #   \n",
            "=================================================================\n",
            " flatten_8 (Flatten)         (None, 784)               0         \n",
            "                                                                 \n",
            " dense_18 (Dense)            (None, 100)               78500     \n",
            "                                                                 \n",
            " dropout (Dropout)           (None, 100)               0         \n",
            "                                                                 \n",
            " dense_19 (Dense)            (None, 10)                1010      \n",
            "                                                                 \n",
            "=================================================================\n",
            "Total params: 79,510\n",
            "Trainable params: 79,510\n",
            "Non-trainable params: 0\n",
            "_________________________________________________________________\n"
          ]
        }
      ]
    },
    {
      "cell_type": "code",
      "source": [
        "model.compile(loss = 'sparse_categorical_crossentropy', metrics='acc')\n",
        "history = model.fit(x_train,y_train,epochs=20,batch_size=50, validation_data=(x_test,y_test) )\n",
        "plt.plot(history.history['loss'],label='loss')\n",
        "plt.plot(history.history['acc'],label='accuracy')\n",
        "plt.plot(history.history['val_loss'],label='val_loss')\n",
        "plt.plot(history.history['val_acc'],label='val_accuracy')\n",
        "plt.legend()\n",
        "plt.show()"
      ],
      "metadata": {
        "colab": {
          "base_uri": "https://localhost:8080/",
          "height": 982
        },
        "id": "OS1SMC54zPLC",
        "outputId": "8ca6ed35-89b1-405b-ad12-17a99ebda3d9"
      },
      "execution_count": 28,
      "outputs": [
        {
          "output_type": "stream",
          "name": "stdout",
          "text": [
            "Epoch 1/20\n",
            "960/960 [==============================] - 5s 4ms/step - loss: 0.6069 - acc: 0.7871 - val_loss: 0.4173 - val_acc: 0.8508\n",
            "Epoch 2/20\n",
            "960/960 [==============================] - 3s 3ms/step - loss: 0.4438 - acc: 0.8415 - val_loss: 0.3806 - val_acc: 0.8617\n",
            "Epoch 3/20\n",
            "960/960 [==============================] - 3s 3ms/step - loss: 0.4077 - acc: 0.8547 - val_loss: 0.3634 - val_acc: 0.8703\n",
            "Epoch 4/20\n",
            "960/960 [==============================] - 3s 3ms/step - loss: 0.3907 - acc: 0.8607 - val_loss: 0.3649 - val_acc: 0.8723\n",
            "Epoch 5/20\n",
            "960/960 [==============================] - 4s 4ms/step - loss: 0.3755 - acc: 0.8658 - val_loss: 0.3514 - val_acc: 0.8755\n",
            "Epoch 6/20\n",
            "960/960 [==============================] - 3s 3ms/step - loss: 0.3659 - acc: 0.8697 - val_loss: 0.3787 - val_acc: 0.8702\n",
            "Epoch 7/20\n",
            "960/960 [==============================] - 3s 3ms/step - loss: 0.3608 - acc: 0.8719 - val_loss: 0.3471 - val_acc: 0.8806\n",
            "Epoch 8/20\n",
            "960/960 [==============================] - 3s 3ms/step - loss: 0.3538 - acc: 0.8755 - val_loss: 0.3523 - val_acc: 0.8764\n",
            "Epoch 9/20\n",
            "960/960 [==============================] - 4s 4ms/step - loss: 0.3484 - acc: 0.8771 - val_loss: 0.3453 - val_acc: 0.8852\n",
            "Epoch 10/20\n",
            "960/960 [==============================] - 3s 3ms/step - loss: 0.3452 - acc: 0.8791 - val_loss: 0.3576 - val_acc: 0.8821\n",
            "Epoch 11/20\n",
            "960/960 [==============================] - 3s 3ms/step - loss: 0.3421 - acc: 0.8807 - val_loss: 0.3656 - val_acc: 0.8822\n",
            "Epoch 12/20\n",
            "960/960 [==============================] - 3s 3ms/step - loss: 0.3368 - acc: 0.8820 - val_loss: 0.3512 - val_acc: 0.8792\n",
            "Epoch 13/20\n",
            "960/960 [==============================] - 4s 4ms/step - loss: 0.3294 - acc: 0.8844 - val_loss: 0.3597 - val_acc: 0.8790\n",
            "Epoch 14/20\n",
            "960/960 [==============================] - 3s 3ms/step - loss: 0.3321 - acc: 0.8862 - val_loss: 0.3498 - val_acc: 0.8839\n",
            "Epoch 15/20\n",
            "960/960 [==============================] - 3s 3ms/step - loss: 0.3265 - acc: 0.8848 - val_loss: 0.3850 - val_acc: 0.8737\n",
            "Epoch 16/20\n",
            "960/960 [==============================] - 3s 3ms/step - loss: 0.3244 - acc: 0.8872 - val_loss: 0.3561 - val_acc: 0.8847\n",
            "Epoch 17/20\n",
            "960/960 [==============================] - 4s 4ms/step - loss: 0.3237 - acc: 0.8880 - val_loss: 0.3829 - val_acc: 0.8792\n",
            "Epoch 18/20\n",
            "960/960 [==============================] - 3s 3ms/step - loss: 0.3199 - acc: 0.8905 - val_loss: 0.3628 - val_acc: 0.8823\n",
            "Epoch 19/20\n",
            "960/960 [==============================] - 3s 3ms/step - loss: 0.3169 - acc: 0.8898 - val_loss: 0.3583 - val_acc: 0.8862\n",
            "Epoch 20/20\n",
            "960/960 [==============================] - 3s 3ms/step - loss: 0.3172 - acc: 0.8925 - val_loss: 0.3716 - val_acc: 0.8832\n"
          ]
        },
        {
          "output_type": "display_data",
          "data": {
            "text/plain": [
              "<Figure size 432x288 with 1 Axes>"
            ],
            "image/png": "[encoded data removed]"
          },
          "metadata": {
            "needs_background": "light"
          }
        }
      ]
    },
    {
      "cell_type": "markdown",
      "source": [
        "심층신경망\n",
        "  - Dense가 여러개\n",
        "  - 데이터를 reshape안하고 Flatten 레이어를 이용해서 모델 안에서 차수를 변경\n",
        "  - 데이터의 층이 여러개일수록 과적합 가능성이 높아지므로\n",
        "  - DropOut층을 적용해서 일정비율로 가중치를 무효화한다.(모델단순화)\n",
        "  - 활성화 함수는 relu\n",
        "  - 옵티마이져 : adam\n",
        "  - 학습할때 배치사이즈를 조정해서 학습속도를 증가"
      ],
      "metadata": {
        "id": "mLU7FG_s2aGj"
      }
    },
    {
      "cell_type": "code",
      "source": [
        "model.save('model-whole.h5')"
      ],
      "metadata": {
        "id": "Uu4IMWoNziro"
      },
      "execution_count": 29,
      "outputs": []
    },
    {
      "cell_type": "code",
      "source": [
        "model = tf.keras.models.load_model('/content/drive/MyDrive/Colab Notebooks/model-whole.h5')\n",
        "(x_train,y_train),(x_test,y_test) =  tf.keras.datasets.fashion_mnist.load_data()\n",
        "x_train_scaled = x_train / 255.0\n",
        "model.evaluate(x_train_scaled,y_train)"
      ],
      "metadata": {
        "colab": {
          "base_uri": "https://localhost:8080/"
        },
        "id": "dHj5MszF4Qu5",
        "outputId": "a9fd6b39-535e-4d71-9bf9-5706c6a59eb9"
      },
      "execution_count": 30,
      "outputs": [
        {
          "output_type": "stream",
          "name": "stdout",
          "text": [
            "1875/1875 [==============================] - 4s 2ms/step - loss: 0.2748 - acc: 0.9048\n"
          ]
        },
        {
          "output_type": "execute_result",
          "data": {
            "text/plain": [
              "[0.27484777569770813, 0.904783308506012]"
            ]
          },
          "metadata": {},
          "execution_count": 30
        }
      ]
    },
    {
      "cell_type": "code",
      "source": [
        "x_test_scaled = x_test / 255.0\n",
        "model.evaluate(x_test_scaled,y_test)"
      ],
      "metadata": {
        "colab": {
          "base_uri": "https://localhost:8080/"
        },
        "id": "xoX7Jyik5ZKX",
        "outputId": "81060fd7-e13b-41df-c13d-82d4431de152"
      },
      "execution_count": 31,
      "outputs": [
        {
          "output_type": "stream",
          "name": "stdout",
          "text": [
            "313/313 [==============================] - 2s 6ms/step - loss: 0.4030 - acc: 0.8741\n"
          ]
        },
        {
          "output_type": "execute_result",
          "data": {
            "text/plain": [
              "[0.4029942750930786, 0.8741000294685364]"
            ]
          },
          "metadata": {},
          "execution_count": 31
        }
      ]
    },
    {
      "cell_type": "code",
      "source": [
        "from keras.layers.attention.multi_head_attention import activation\n",
        "# 층을 여러개 ..... 원하는 만큼 5개 \n",
        "model = tf.keras.Sequential()\n",
        "model.add(tf.keras.layers.Flatten(input_shape = (28,28)) )\n",
        "model.add(tf.keras.layers.Dense(500,activation='relu')   )  # Dense\n",
        "model.add(tf.keras.layers.Dense(250,activation='relu')    )  # Dense\n",
        "model.add(tf.keras.layers.Dense(145,activation='relu')    )  # Dense\n",
        "model.add(tf.keras.layers.Dense(72,activation='relu')    )  # Dense\n",
        "model.add(tf.keras.layers.Dense(10,activation='softmax') )  # Dense\n",
        "model.summary()"
      ],
      "metadata": {
        "colab": {
          "base_uri": "https://localhost:8080/"
        },
        "id": "-qRmJL8U5jxh",
        "outputId": "e5d2fd2c-2513-4490-b4ed-61dd14b56677"
      },
      "execution_count": 43,
      "outputs": [
        {
          "output_type": "stream",
          "name": "stdout",
          "text": [
            "Model: \"sequential_16\"\n",
            "_________________________________________________________________\n",
            " Layer (type)                Output Shape              Param #   \n",
            "=================================================================\n",
            " flatten_13 (Flatten)        (None, 784)               0         \n",
            "                                                                 \n",
            " dense_40 (Dense)            (None, 500)               392500    \n",
            "                                                                 \n",
            " dense_41 (Dense)            (None, 250)               125250    \n",
            "                                                                 \n",
            " dense_42 (Dense)            (None, 145)               36395     \n",
            "                                                                 \n",
            " dense_43 (Dense)            (None, 72)                10512     \n",
            "                                                                 \n",
            " dense_44 (Dense)            (None, 10)                730       \n",
            "                                                                 \n",
            "=================================================================\n",
            "Total params: 565,387\n",
            "Trainable params: 565,387\n",
            "Non-trainable params: 0\n",
            "_________________________________________________________________\n"
          ]
        }
      ]
    },
    {
      "cell_type": "code",
      "source": [
        "checkpoint_cb = tf.keras.callbacks.ModelCheckpoint('best-model.h5')\n",
        "early_stopping_cb = tf.keras.callbacks.EarlyStopping(patience=3,restore_best_weights=True)\n",
        "# 옵티마이져 adam, loss = 'sparse.    , metrics = 'acc'\n",
        "adam = tf.keras.optimizers.Adam(learning_rate = 0.0001)\n",
        "model.compile(optimizer=adam, loss = tf.keras.losses.sparse_categorical_crossentropy,metrics='acc')\n",
        "# epoch = 20 batchsize = 50\n",
        "hist =  model.fit(x_train_scaled,y_train,epochs=20, batch_size=50,validation_data=(x_test_scaled,y_test),\n",
        "                  callbacks = [checkpoint_cb,early_stopping_cb])"
      ],
      "metadata": {
        "colab": {
          "base_uri": "https://localhost:8080/"
        },
        "id": "5i_ZhBwI6ovy",
        "outputId": "3ee564b3-8962-4e6a-9208-7b1f57bdba93"
      },
      "execution_count": null,
      "outputs": [
        {
          "output_type": "stream",
          "name": "stdout",
          "text": [
            "Epoch 1/20\n",
            "1200/1200 [==============================] - 6s 4ms/step - loss: 0.5865 - acc: 0.8022 - val_loss: 0.4712 - val_acc: 0.8301\n",
            "Epoch 2/20\n",
            "1200/1200 [==============================] - 4s 4ms/step - loss: 0.3958 - acc: 0.8619 - val_loss: 0.4132 - val_acc: 0.8558\n",
            "Epoch 3/20\n",
            "1200/1200 [==============================] - 5s 4ms/step - loss: 0.3536 - acc: 0.8748 - val_loss: 0.3818 - val_acc: 0.8639\n",
            "Epoch 4/20\n",
            "1200/1200 [==============================] - 5s 4ms/step - loss: 0.3255 - acc: 0.8835 - val_loss: 0.3608 - val_acc: 0.8734\n",
            "Epoch 5/20\n",
            "1200/1200 [==============================] - 5s 4ms/step - loss: 0.3051 - acc: 0.8896 - val_loss: 0.3524 - val_acc: 0.8732\n",
            "Epoch 6/20\n",
            "1200/1200 [==============================] - 5s 4ms/step - loss: 0.2895 - acc: 0.8947 - val_loss: 0.3422 - val_acc: 0.8766\n",
            "Epoch 7/20\n",
            "1200/1200 [==============================] - 4s 4ms/step - loss: 0.2747 - acc: 0.9004 - val_loss: 0.3502 - val_acc: 0.8727\n",
            "Epoch 8/20\n",
            "1200/1200 [==============================] - 5s 4ms/step - loss: 0.2615 - acc: 0.9053 - val_loss: 0.3297 - val_acc: 0.8799\n",
            "Epoch 9/20\n",
            "1200/1200 [==============================] - 5s 4ms/step - loss: 0.2486 - acc: 0.9087 - val_loss: 0.3313 - val_acc: 0.8795\n",
            "Epoch 10/20\n",
            "1200/1200 [==============================] - 5s 4ms/step - loss: 0.2377 - acc: 0.9131 - val_loss: 0.3258 - val_acc: 0.8810\n",
            "Epoch 11/20\n",
            "1200/1200 [==============================] - 5s 4ms/step - loss: 0.2288 - acc: 0.9145 - val_loss: 0.3178 - val_acc: 0.8884\n",
            "Epoch 12/20\n",
            "1200/1200 [==============================] - 5s 4ms/step - loss: 0.2181 - acc: 0.9197 - val_loss: 0.3392 - val_acc: 0.8802\n",
            "Epoch 13/20\n",
            "1200/1200 [==============================] - 5s 4ms/step - loss: 0.2095 - acc: 0.9231 - val_loss: 0.3227 - val_acc: 0.8854\n",
            "Epoch 14/20\n",
            "1200/1200 [==============================] - 6s 5ms/step - loss: 0.2003 - acc: 0.9276 - val_loss: 0.3176 - val_acc: 0.8904\n",
            "Epoch 15/20\n",
            "1200/1200 [==============================] - 4s 4ms/step - loss: 0.1935 - acc: 0.9287 - val_loss: 0.3178 - val_acc: 0.8932\n",
            "Epoch 16/20\n",
            "1200/1200 [==============================] - 4s 3ms/step - loss: 0.1850 - acc: 0.9320 - val_loss: 0.3159 - val_acc: 0.8923\n",
            "Epoch 17/20\n",
            "1200/1200 [==============================] - 5s 5ms/step - loss: 0.1772 - acc: 0.9350 - val_loss: 0.3297 - val_acc: 0.8827\n",
            "Epoch 18/20\n",
            "1200/1200 [==============================] - 7s 6ms/step - loss: 0.1695 - acc: 0.9372 - val_loss: 0.3187 - val_acc: 0.8939\n",
            "Epoch 19/20\n",
            " 586/1200 [=============>................] - ETA: 1s - loss: 0.1602 - acc: 0.9400"
          ]
        }
      ]
    },
    {
      "cell_type": "code",
      "source": [],
      "metadata": {
        "id": "kzE-kkYV815W"
      },
      "execution_count": null,
      "outputs": []
    }
  ]
}