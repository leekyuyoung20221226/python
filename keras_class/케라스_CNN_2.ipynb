{
  "nbformat": 4,
  "nbformat_minor": 0,
  "metadata": {
    "colab": {
      "provenance": [],
      "gpuType": "T4"
    },
    "kernelspec": {
      "name": "python3",
      "display_name": "Python 3"
    },
    "language_info": {
      "name": "python"
    },
    "accelerator": "GPU",
    "gpuClass": "standard"
  },
  "cells": [
    {
      "cell_type": "code",
      "execution_count": 1,
      "metadata": {
        "id": "5806Tc9PBgr6"
      },
      "outputs": [],
      "source": [
        "# 필요한 패키지\n",
        "from sklearn import model_selection, metrics\n",
        "from sklearn.preprocessing import MinMaxScaler\n",
        "import numpy as np\n",
        "import matplotlib.pyplot as plt\n",
        "import os\n",
        "from keras import backend as k\n",
        "from keras.utils import np_utils\n",
        "from keras.models import Model\n",
        "from keras.layers import Input,Conv2D,MaxPool2D,Flatten,Dense,Dropout"
      ]
    },
    {
      "cell_type": "code",
      "source": [
        "class CNN(Model):\n",
        "  def __init__(self, nb_class):\n",
        "    super(CNN,self).__init__()\n",
        "    self.nb_class = nb_class\n",
        "    self.conv2D_1 = Conv2D(32,(3,3),activation='relu')\n",
        "    self.conv2D_2 = Conv2D(64,(3,3),activation='relu')\n",
        "    self.maxpool2d = MaxPool2D()\n",
        "    self.dropOut_1 = Dropout(0.25)\n",
        "    self.flatten = Flatten()\n",
        "    self.dense1 = Dense(128,activation='relu')\n",
        "    self.dropOut_2 = Dropout(0.5)\n",
        "    self.dense2 = Dense(nb_class,activation='softmax')\n",
        "  def call(self,x):    \n",
        "    h = self.conv2D_1(x)\n",
        "    h = self.conv2D_2(h)\n",
        "    h = self.maxpool2d(h)\n",
        "    h = self.dropOut_1(h)\n",
        "    h = self.flatten(h)\n",
        "    h = self.dense1(h)\n",
        "    h = self.dropOut_2(h)\n",
        "    h = self.dense2(h)\n",
        "    return h"
      ],
      "metadata": {
        "id": "PX3V2abrCKrs"
      },
      "execution_count": 2,
      "outputs": []
    },
    {
      "cell_type": "code",
      "source": [
        "nb_classes = 10\n",
        "model = CNN(nb_classes)\n",
        "model.compile(loss='categorical_crossentropy', optimizer='adam', metrics=['accuracy'])"
      ],
      "metadata": {
        "id": "JyaftWt6DdNk"
      },
      "execution_count": 3,
      "outputs": []
    },
    {
      "cell_type": "code",
      "source": [
        "# 데이터 준비\n",
        "class DataSet():\n",
        "  def __init__(self,x,y,nb_classes, scaling=True,test_size=0.2,random_state=0):\n",
        "    self.x = x\n",
        "    self.add_channels()\n",
        "    x_train,x_test,y_train,y_test = model_selection.train_test_split(x,y,test_size=test_size,random_state=random_state)\n",
        "    x_train = x_train.astype('float32')\n",
        "    x_test = x_test.astype('float32')\n",
        "    if scaling:\n",
        "      scale = MinMaxScaler()      \n",
        "      n = x_train.shape[0]\n",
        "      x_train = scale.fit_transform( x_train.reshape(n,-1)).reshape(x_train.shape)\n",
        "      n = x_test.shape[0]\n",
        "      x_test = scale.transform( x_test.reshape(n,-1)).reshape(x_test.shape)\n",
        "      self.scaler = scale\n",
        "    print(f'x_train shape :{x_train.shape}')\n",
        "    print(f'{x_train.shape[0]} : train samples')\n",
        "    print(f'{x_test.shape[0]} : test samples')\n",
        "\n",
        "    y_train = np_utils.to_categorical(y_train)\n",
        "    y_test = np_utils.to_categorical(y_test)\n",
        "    self.x_train,self.y_train,self.x_test,self.y_test = x_train,y_train,x_test,y_test\n",
        "  def add_channels(self):\n",
        "    x = self.x\n",
        "    if len(x.shape) == 3:\n",
        "      N, img_rows, img_cols = x.shape\n",
        "      if K.img_dim_ordering() == 'th':\n",
        "        x = x.reshape(x.shape[0],1,img_rows,img_cols)\n",
        "        input_shape = (1,img_rows,img_cols)\n",
        "      else:\n",
        "        x = x.reshape(x.shape[0],img_rows,img_cols,1)\n",
        "        input_shape = (img_rows,img_cols,1)\n",
        "    else:\n",
        "      input_shape = x.shape[1:]\n",
        "    self.x = x\n",
        "    self.input_shape = input_shape    "
      ],
      "metadata": {
        "id": "4B8N5gjFDtcw"
      },
      "execution_count": 4,
      "outputs": []
    },
    {
      "cell_type": "code",
      "source": [
        "from tensorflow.keras import datasets\n",
        "(x,y),(x_test,y_test)  = datasets.cifar10.load_data()\n",
        "np_classes = 10\n",
        "data = DataSet(x,y,nb_classes)\n",
        "data.input_shape"
      ],
      "metadata": {
        "colab": {
          "base_uri": "https://localhost:8080/"
        },
        "id": "jbi9Qh95GaSy",
        "outputId": "a330cc10-d792-46da-ccbf-015b33ec5ef7"
      },
      "execution_count": 5,
      "outputs": [
        {
          "output_type": "stream",
          "name": "stdout",
          "text": [
            "x_train shape :(40000, 32, 32, 3)\n",
            "40000 : train samples\n",
            "10000 : test samples\n"
          ]
        },
        {
          "output_type": "execute_result",
          "data": {
            "text/plain": [
              "(32, 32, 3)"
            ]
          },
          "metadata": {},
          "execution_count": 5
        }
      ]
    },
    {
      "cell_type": "code",
      "source": [
        "data.x_train.shape,  data.y_train.shape, data.x_test.shape, data.y_test.shape"
      ],
      "metadata": {
        "colab": {
          "base_uri": "https://localhost:8080/"
        },
        "id": "VVVLQ8NnLLAh",
        "outputId": "39c3f77d-2d67-4eea-d446-b35914f8780f"
      },
      "execution_count": 6,
      "outputs": [
        {
          "output_type": "execute_result",
          "data": {
            "text/plain": [
              "((40000, 32, 32, 3), (40000, 10), (10000, 32, 32, 3), (10000, 10))"
            ]
          },
          "metadata": {},
          "execution_count": 6
        }
      ]
    },
    {
      "cell_type": "code",
      "source": [
        "# epochs=2\n",
        "# batch_size=128\n",
        "# verbose = 1\n",
        "# model.fit(data.x_train,data.y_train,batch_size=batch_size, \n",
        "#                     epochs=epochs,verbose=verbose, validation_data=(data.x_test,data.y_test) )\n"
      ],
      "metadata": {
        "id": "Xto2uU7dG7hJ"
      },
      "execution_count": 7,
      "outputs": []
    },
    {
      "cell_type": "code",
      "source": [
        "# 학습 및 성능평가를 위한 클래스\n",
        "from datetime import datetime\n",
        "class Machine():  # 부모클래스 \n",
        "  def __init__(self,x,y,nb_classes=2,fig=True):\n",
        "    self.nb_classes = nb_classes\n",
        "    self.set_data(x,y)\n",
        "    self.set_model()\n",
        "    self.fig = fig\n",
        "  def set_data(self,x,y):\n",
        "    np_classes = self.nb_classes\n",
        "    self.data = DataSet(x,y,nb_classes)\n",
        "  def set_model(self):\n",
        "    np_classes = self.nb_classes\n",
        "    data = self.data\n",
        "    self.model = CNN(np_classes)\n",
        "    self.model.compile(loss='categorical_crossentropy', optimizer='adam',metrics=['accuracy'])\n",
        "  def fit(self, nb_epoch=10, batch_size=128, verbose=1):\n",
        "    data = self.data\n",
        "    model = self.model\n",
        "    print(f'0001  {data.x_train.shape} {data.y_train.shape}')\n",
        "    history = model.fit(data.x_train, data.y_train,batch_size=batch_size,\n",
        "                        epochs=nb_epoch,verbose=verbose,validation_data=(data.x_test,data.y_test))\n",
        "    return history\n",
        "  # 학습과 평가를 진행  \n",
        "  def run(self, nb_epoch=10, batch_size=128,verbose=1):\n",
        "    data = self.data\n",
        "    model = self.model\n",
        "    fig = self.fig\n",
        "    history = self.fit(nb_epoch=nb_epoch,batch_size=batch_size,verbose=verbose)\n",
        "    print(f'test data shapes = {data.x_test.shape}, {data.y_test.shape}')\n",
        "    score = model.evaluate(data.x_test,data.y_test,verbose=0)\n",
        "    print('Confusion matrix')\n",
        "    Y_test_pred =  model.predict(data.x_test,verbose=0)\n",
        "    y_test_pred  = np.argmax(Y_test_pred,axis=1)\n",
        "    \n",
        "    print(f'test target shape : {data.y_test.shape} / test pred shape : {y_test_pred.shape}')\n",
        "\n",
        "    print(metrics.confusion_matrix(np.argmax(data.y_test,axis=1), y_test_pred))\n",
        "    print(f'Test loss : {score[0]}')\n",
        "    print(f'Test accuracy : {score[1]}')\n",
        "    # 학습곡선과 생성될 모델을 분석하기 위해서 저장\n",
        "    now = datetime.now()\n",
        "    formatted_now = now.strftime(\"%Y_%m_%d_%H_%M_%S\")\n",
        "    foldname = './output_'+ formatted_now\n",
        "    os.makedirs(foldname)\n",
        "    # 학습곡선을 저장\n",
        "    # 가중치 저장\n",
        "    model.save_weights(os.path.join(foldname,'dl_model.h5'))\n",
        "    print(f'ouput results are saved in {foldname}')\n",
        "    if fig:\n",
        "      plt.figure(figsize = (12,4))\n",
        "      plt.subplot(1,2,1)\n",
        "      plt.plot(history.history['loss'],label='Train loss')\n",
        "      plt.plot(history.history['val_loss'],label='Val loss')\n",
        "      plt.subplot(1,2,2)\n",
        "      plt.plot(history.history['accuracy'],label='Train Accuracy')\n",
        "      plt.plot(history.history['val_accuracy'],label='Val Accuracy')\n",
        "      plt.show()\n",
        "    self.history =history"
      ],
      "metadata": {
        "id": "DSOxblXyIytA"
      },
      "execution_count": 16,
      "outputs": []
    },
    {
      "cell_type": "code",
      "source": [
        "from datetime import datetime\n",
        "now = datetime.now()\n",
        "formatted_now = now.strftime(\"%Y_%m_%d_%H_%M_%S\")\n",
        "print(formatted_now)"
      ],
      "metadata": {
        "colab": {
          "base_uri": "https://localhost:8080/"
        },
        "id": "teU_33RiSE_i",
        "outputId": "1b4e1597-ed33-4140-8e79-763626a054e7"
      },
      "execution_count": 17,
      "outputs": [
        {
          "output_type": "stream",
          "name": "stdout",
          "text": [
            "2023_05_16_12_03_57\n"
          ]
        }
      ]
    },
    {
      "cell_type": "code",
      "source": [
        "# 적용\n",
        "class ColorMachine(Machine):\n",
        "  def __init__(self):\n",
        "    (x_train,y_train),(x_test,y_test) =  datasets.cifar10.load_data()\n",
        "    super().__init__(x_train,y_train,nb_classes=10)"
      ],
      "metadata": {
        "id": "U5BcqU1lSVaz"
      },
      "execution_count": 18,
      "outputs": []
    },
    {
      "cell_type": "code",
      "source": [
        "m = ColorMachine()\n",
        "m.run()"
      ],
      "metadata": {
        "colab": {
          "base_uri": "https://localhost:8080/",
          "height": 1000
        },
        "id": "72Vrd3DjVo7w",
        "outputId": "3b7b3f78-8e65-4221-c682-e18e4f848251"
      },
      "execution_count": 19,
      "outputs": [
        {
          "output_type": "stream",
          "name": "stdout",
          "text": [
            "x_train shape :(40000, 32, 32, 3)\n",
            "40000 : train samples\n",
            "10000 : test samples\n",
            "0001  (40000, 32, 32, 3) (40000, 10)\n",
            "Epoch 1/10\n",
            "313/313 [==============================] - 6s 15ms/step - loss: 1.6873 - accuracy: 0.3939 - val_loss: 1.2923 - val_accuracy: 0.5479\n",
            "Epoch 2/10\n",
            "313/313 [==============================] - 4s 14ms/step - loss: 1.3428 - accuracy: 0.5204 - val_loss: 1.1238 - val_accuracy: 0.6042\n",
            "Epoch 3/10\n",
            "313/313 [==============================] - 4s 13ms/step - loss: 1.2061 - accuracy: 0.5733 - val_loss: 1.0637 - val_accuracy: 0.6253\n",
            "Epoch 4/10\n",
            "313/313 [==============================] - 4s 13ms/step - loss: 1.1198 - accuracy: 0.6066 - val_loss: 1.0137 - val_accuracy: 0.6467\n",
            "Epoch 5/10\n",
            "313/313 [==============================] - 4s 14ms/step - loss: 1.0643 - accuracy: 0.6215 - val_loss: 0.9937 - val_accuracy: 0.6504\n",
            "Epoch 6/10\n",
            "313/313 [==============================] - 4s 14ms/step - loss: 0.9989 - accuracy: 0.6476 - val_loss: 0.9346 - val_accuracy: 0.6647\n",
            "Epoch 7/10\n",
            "313/313 [==============================] - 4s 13ms/step - loss: 0.9555 - accuracy: 0.6587 - val_loss: 0.9310 - val_accuracy: 0.6707\n",
            "Epoch 8/10\n",
            "313/313 [==============================] - 5s 15ms/step - loss: 0.9180 - accuracy: 0.6755 - val_loss: 0.9099 - val_accuracy: 0.6756\n",
            "Epoch 9/10\n",
            "313/313 [==============================] - 4s 14ms/step - loss: 0.8771 - accuracy: 0.6881 - val_loss: 0.8902 - val_accuracy: 0.6868\n",
            "Epoch 10/10\n",
            "313/313 [==============================] - 4s 13ms/step - loss: 0.8488 - accuracy: 0.6998 - val_loss: 0.8892 - val_accuracy: 0.6861\n",
            "test data shapes = (10000, 32, 32, 3), (10000, 10)\n",
            "Confusion matrix\n",
            "test target shape : (10000, 10) / test pred shape : (10000,)\n",
            "[[676  41  66  28  18  11  15   5 117  27]\n",
            " [ 22 822  10  10   6   5  14   2  24  71]\n",
            " [ 49   7 633  56  76  74  62  31  20   8]\n",
            " [ 19  11  87 519  55 180 101  30  18  10]\n",
            " [ 27   4 108  61 596  30  60  70   7   4]\n",
            " [  5   3  89 212  41 571  41  40  10   4]\n",
            " [  2   3  61  52  43  20 763   1   4   4]\n",
            " [ 10   4  50  50  76  70  13 712   7   7]\n",
            " [ 47  45  27  19   5   6  11   5 804  20]\n",
            " [ 24 145  15  19   4   6  11  16  35 765]]\n",
            "Test loss : 0.8891512751579285\n",
            "Test accuracy : 0.6861000061035156\n",
            "ouput results are saved in ./output_2023_05_16_12_05_32\n"
          ]
        },
        {
          "output_type": "display_data",
          "data": {
            "text/plain": [
              "<Figure size 1200x400 with 2 Axes>"
            ],
            "image/png": "[encoded data removed]"
          },
          "metadata": {}
        }
      ]
    }
  ]
}