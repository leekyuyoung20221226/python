{
  "nbformat": 4,
  "nbformat_minor": 0,
  "metadata": {
    "colab": {
      "provenance": []
    },
    "kernelspec": {
      "name": "python3",
      "display_name": "Python 3"
    },
    "language_info": {
      "name": "python"
    }
  },
  "cells": [
    {
      "cell_type": "code",
      "execution_count": 1,
      "metadata": {
        "id": "K1keqBlz3QJI"
      },
      "outputs": [],
      "source": [
        "# ANN\n",
        "# DNN\n",
        "# CNN\n",
        "# RNN\n",
        "# AE\n",
        "# GAN\n",
        "# 데이터 증강 \n",
        "# 강화학습\n",
        "# 양자학습"
      ]
    },
    {
      "cell_type": "markdown",
      "source": [
        "ANN\n",
        "  - 입력계층 - 은닉계층 - 출력계층"
      ],
      "metadata": {
        "id": "5R76B0yu3xh4"
      }
    },
    {
      "cell_type": "code",
      "source": [
        "from keras import layers, models"
      ],
      "metadata": {
        "id": "Xht0B8jh3oit"
      },
      "execution_count": 3,
      "outputs": []
    },
    {
      "cell_type": "code",
      "source": [
        "# 분산방식\n",
        "def Ann_models_func(nin,nh,nout):\n",
        "  x = layers.Input(shape = (nin,))\n",
        "  h = layers.Activation('relu')(layers.Dense(nh)(x))\n",
        "  y = layers.Activation('softmax')(layers.Dense(nout)(h))\n",
        "  model = models.Model(x,y)\n",
        "  model.compile(loss='categorical_crossentropy', optimizer='adam',metrics=['accuracy'])\n",
        "  return model"
      ],
      "metadata": {
        "id": "IheG5MfX4c8_"
      },
      "execution_count": 4,
      "outputs": []
    },
    {
      "cell_type": "code",
      "source": [
        "# 연쇄 방식 - 함수형 프로그래밍 방식\n",
        "def Ann_seq_func(nin, nh, nout):\n",
        "  model = models.Sequential()\n",
        "  model.add(layers.Dense(nh,activation='relu', input_shape=(nin,)))\n",
        "  model.add(layers.Dense(nout,activation='softmax'))\n",
        "  model.compile(loss='categorical_crossentropy', optimizer='adam',metrics=['accuracy'])\n",
        "  return model"
      ],
      "metadata": {
        "id": "AsYrEamv5WZY"
      },
      "execution_count": 6,
      "outputs": []
    },
    {
      "cell_type": "code",
      "source": [
        "# 분산(직접)방식 모델링을 포함하는 객체지향형 구현 - 코드의 재사용\n",
        "class ANN(models.Model):\n",
        "  def __init__(self, nin,nh,nout):\n",
        "    hidden = layers.Dense(nh)\n",
        "    output = layers.Dense(nout)\n",
        "    relu = layers.Activation('relu')\n",
        "    softmax = layers.Activation('softmax')\n",
        "    # 연결\n",
        "    x = layers.Input(shape = (nin,))\n",
        "    h = relu(hidden(x))\n",
        "    y = softmax(output(h))\n",
        "    # 상속받은 상위 클래스의 초기화를 진행\n",
        "    super().__init__(x,y)\n",
        "    self.compile(loss='categorical_crossentropy', optimizer='adma', metrics=['accuracy'])\n",
        "# model = ANN(nin,nh,nout)    "
      ],
      "metadata": {
        "id": "Vi9Oi7UH6OfQ"
      },
      "execution_count": 7,
      "outputs": []
    },
    {
      "cell_type": "code",
      "source": [
        "# 연쇄방식 모델링을 포함하는 객체지향\n",
        "# 각 층이 연속적으로 연결되는 구조, 단점은 : 딥러닝 구조가 복잡해지면 연쇄적으로 연결이 안될수 있음\n",
        "# 또는 새로운 딥러니이구조를 설계할때는 부적합함"
      ],
      "metadata": {
        "id": "UGE8C6jo8ch_"
      },
      "execution_count": 8,
      "outputs": []
    },
    {
      "cell_type": "code",
      "source": [
        "class ANN(models.Sequential):\n",
        "  def __init__(self, nin,nh,nout):\n",
        "    super().__init__()\n",
        "    self.add(layers.Dense(nh,activation='relu',input_shape=(nin,)))\n",
        "    self.add(layers.Dense(nout,activation='softmax'))\n",
        "    self.compile(loss='categorical_crossentropy', optimizer='adam',metrics=['acuraccy'])    \n",
        "# model = ANN(nin,nh,nout)      "
      ],
      "metadata": {
        "id": "X7FUlj6p89_P"
      },
      "execution_count": 9,
      "outputs": []
    },
    {
      "cell_type": "code",
      "source": [
        "import numpy as np\n",
        "from tensorflow.keras import datasets\n",
        "from keras.utils import np_utils # to_categorical() 함수"
      ],
      "metadata": {
        "id": "RA4_qT_D9yAo"
      },
      "execution_count": 13,
      "outputs": []
    },
    {
      "cell_type": "code",
      "source": [
        "(x_train,y_train),(x_test,y_test) =  datasets.mnist.load_data()"
      ],
      "metadata": {
        "colab": {
          "base_uri": "https://localhost:8080/"
        },
        "id": "Dd0TFPag-B1l",
        "outputId": "092ecb45-d91c-42db-b132-62b1e4135c87"
      },
      "execution_count": 14,
      "outputs": [
        {
          "output_type": "stream",
          "name": "stdout",
          "text": [
            "Downloading data from https://storage.googleapis.com/tensorflow/tf-keras-datasets/mnist.npz\n",
            "11490434/11490434 [==============================] - 1s 0us/step\n"
          ]
        }
      ]
    },
    {
      "cell_type": "code",
      "source": [
        "x_train.shape, x_test.shape"
      ],
      "metadata": {
        "colab": {
          "base_uri": "https://localhost:8080/"
        },
        "id": "FBURcwNC-juW",
        "outputId": "572a0aa3-700a-4c02-fcf8-108327b64ae5"
      },
      "execution_count": 15,
      "outputs": [
        {
          "output_type": "execute_result",
          "data": {
            "text/plain": [
              "((60000, 28, 28), (10000, 28, 28))"
            ]
          },
          "metadata": {},
          "execution_count": 15
        }
      ]
    },
    {
      "cell_type": "code",
      "source": [
        "# 데이터 : 학습, 검증, 평가\n",
        "y_train = np_utils.to_categorical(y_train)\n",
        "y_test =  np_utils.to_categorical(y_test)"
      ],
      "metadata": {
        "id": "hDSdi1ST-q0d"
      },
      "execution_count": 17,
      "outputs": []
    },
    {
      "cell_type": "code",
      "source": [
        "# y값을 one-hot으로 변경하는 이유\n",
        "# 모델학습 : 신경망은 연속적인 데이터를 다루는 것보다 클래스를 구별하기 위해서 이진 벡터를 선호 \n",
        "# 손실함수 : 원핫을 입력으로 설계한 함수가 많기 때문\n",
        "# 출력 : 출력결과를 해석하기가 쉽다. "
      ],
      "metadata": {
        "colab": {
          "base_uri": "https://localhost:8080/"
        },
        "id": "JLEC8qSd_JyW",
        "outputId": "76512c37-a145-411a-ef31-ce2ed25475b7"
      },
      "execution_count": 18,
      "outputs": [
        {
          "output_type": "execute_result",
          "data": {
            "text/plain": [
              "array([[0., 0., 0., ..., 0., 0., 0.],\n",
              "       [1., 0., 0., ..., 0., 0., 0.],\n",
              "       [0., 0., 0., ..., 0., 0., 0.],\n",
              "       ...,\n",
              "       [0., 0., 0., ..., 0., 0., 0.],\n",
              "       [0., 0., 0., ..., 0., 0., 0.],\n",
              "       [0., 0., 0., ..., 0., 1., 0.]], dtype=float32)"
            ]
          },
          "metadata": {},
          "execution_count": 18
        }
      ]
    },
    {
      "cell_type": "code",
      "source": [
        "L,H,W =  x_train.shape\n",
        "x_train = x_train.reshape(-1,H*W)\n",
        "x_test = x_test.reshape(-1,H*W)"
      ],
      "metadata": {
        "id": "KRH2-lII_VSG"
      },
      "execution_count": 20,
      "outputs": []
    },
    {
      "cell_type": "code",
      "source": [
        "x_train = x_train / 255.0\n",
        "x_test = x_test / 255.0"
      ],
      "metadata": {
        "id": "v5qoPCmbAGTt"
      },
      "execution_count": 21,
      "outputs": []
    },
    {
      "cell_type": "code",
      "source": [
        "import matplotlib.pyplot as plt\n",
        "# 손실함수 시각화\n",
        "def plot_loss(history, title=None):\n",
        "  plt.plot(history['loss'], label = 'Training')\n",
        "  plt.plot(history['val_loss'], label = 'Validation')\n",
        "  if title:\n",
        "    plt.title(title)\n",
        "  plt.xlabel('Epoch')\n",
        "  plt.ylabel('Loss')\n",
        "  plt.legend()\n",
        "  plt.show()"
      ],
      "metadata": {
        "id": "x9qx-ebFAvS2"
      },
      "execution_count": 24,
      "outputs": []
    },
    {
      "cell_type": "code",
      "source": [
        "# 정확도 시각화 함수\n",
        "def plot_acc(history, title=None):\n",
        "  plt.plot(history['accuracy'], label = 'Training')\n",
        "  plt.plot(history['val_accuracy'], label = 'Validation')\n",
        "  if title:\n",
        "    plt.title(title)\n",
        "  plt.xlabel('Epoch')\n",
        "  plt.ylabel('Accuracy')\n",
        "  plt.legend()\n",
        "  plt.show()"
      ],
      "metadata": {
        "id": "5od0uCvMBYRI"
      },
      "execution_count": 36,
      "outputs": []
    },
    {
      "cell_type": "code",
      "source": [
        "# 하이퍼 매개변수\n",
        "nin = 784\n",
        "nh = 100\n",
        "nout = 10"
      ],
      "metadata": {
        "id": "OkcMZGQkBbG9"
      },
      "execution_count": 25,
      "outputs": []
    },
    {
      "cell_type": "code",
      "source": [
        "model = Ann_models_func(nin,nh,nout)\n",
        "history = model.fit(x_train,y_train,epochs=5,batch_size=100,validation_split=0.2)"
      ],
      "metadata": {
        "colab": {
          "base_uri": "https://localhost:8080/"
        },
        "id": "-q5ayQ8QCIvv",
        "outputId": "0ccd0184-217f-489d-9127-62025801b9f5"
      },
      "execution_count": 27,
      "outputs": [
        {
          "output_type": "stream",
          "name": "stdout",
          "text": [
            "Epoch 1/5\n",
            "480/480 [==============================] - 3s 5ms/step - loss: 0.3974 - accuracy: 0.8882 - val_loss: 0.2177 - val_accuracy: 0.9398\n",
            "Epoch 2/5\n",
            "480/480 [==============================] - 2s 4ms/step - loss: 0.1866 - accuracy: 0.9467 - val_loss: 0.1562 - val_accuracy: 0.9560\n",
            "Epoch 3/5\n",
            "480/480 [==============================] - 2s 4ms/step - loss: 0.1340 - accuracy: 0.9614 - val_loss: 0.1344 - val_accuracy: 0.9615\n",
            "Epoch 4/5\n",
            "480/480 [==============================] - 3s 5ms/step - loss: 0.1042 - accuracy: 0.9703 - val_loss: 0.1132 - val_accuracy: 0.9672\n",
            "Epoch 5/5\n",
            "480/480 [==============================] - 2s 5ms/step - loss: 0.0851 - accuracy: 0.9758 - val_loss: 0.1126 - val_accuracy: 0.9679\n"
          ]
        }
      ]
    },
    {
      "cell_type": "code",
      "source": [
        "model.evaluate(x_test,y_test)"
      ],
      "metadata": {
        "colab": {
          "base_uri": "https://localhost:8080/"
        },
        "id": "YcOeMU52CbrV",
        "outputId": "39e64c5e-7a4c-454e-aaa1-f4e94ce05251"
      },
      "execution_count": 28,
      "outputs": [
        {
          "output_type": "stream",
          "name": "stdout",
          "text": [
            "313/313 [==============================] - 1s 2ms/step - loss: 0.1020 - accuracy: 0.9685\n"
          ]
        },
        {
          "output_type": "execute_result",
          "data": {
            "text/plain": [
              "[0.1020488366484642, 0.968500018119812]"
            ]
          },
          "metadata": {},
          "execution_count": 28
        }
      ]
    },
    {
      "cell_type": "code",
      "source": [
        "plot_loss(history.history)"
      ],
      "metadata": {
        "colab": {
          "base_uri": "https://localhost:8080/",
          "height": 449
        },
        "id": "z1btdxQIFEFm",
        "outputId": "a6703a41-8e09-41aa-b64a-7a68c9e6b6f9"
      },
      "execution_count": 34,
      "outputs": [
        {
          "output_type": "display_data",
          "data": {
            "text/plain": [
              "<Figure size 640x480 with 1 Axes>"
            ],
            "image/png": "[encoded data removed]"
          },
          "metadata": {}
        }
      ]
    },
    {
      "cell_type": "code",
      "source": [
        "plot_acc(history.history)"
      ],
      "metadata": {
        "colab": {
          "base_uri": "https://localhost:8080/",
          "height": 454
        },
        "id": "6UeNXamhFKUe",
        "outputId": "6d82339b-49b8-4d46-d74d-6f3bb3518462"
      },
      "execution_count": 37,
      "outputs": [
        {
          "output_type": "display_data",
          "data": {
            "text/plain": [
              "<Figure size 640x480 with 1 Axes>"
            ],
            "image/png": "[encoded data removed]"
          },
          "metadata": {}
        }
      ]
    },
    {
      "cell_type": "code",
      "source": [
        "# ANN 회귀 모델\n",
        "class ANN(models.Model):\n",
        "  def __init__(self, nin,nh,nout):\n",
        "    hidden = layers.Dense(nh)\n",
        "    output = layers.Dense(nout)\n",
        "    relu = layers.Activation('relu')\n",
        "    # connection\n",
        "    x = layers.Input(shape=(nin,))\n",
        "    h = relu(hidden(x))\n",
        "    y = output(h)\n",
        "    super().__init__(x,y)\n",
        "    self.compile(loss = 'mse', optimizer='sgd', metrics=['mse'])"
      ],
      "metadata": {
        "id": "Sn0buIeKFiZG"
      },
      "execution_count": 80,
      "outputs": []
    },
    {
      "cell_type": "code",
      "source": [
        "from keras import datasets\n",
        "from sklearn import preprocessing"
      ],
      "metadata": {
        "id": "IrlLtRa7HAOu"
      },
      "execution_count": 81,
      "outputs": []
    },
    {
      "cell_type": "code",
      "source": [
        "(x_train,y_train),(x_test,y_test) =  datasets.boston_housing.load_data()"
      ],
      "metadata": {
        "id": "IfdQOjFSHM81"
      },
      "execution_count": 82,
      "outputs": []
    },
    {
      "cell_type": "code",
      "source": [
        "# mimmax 스케일링 : 최소 최대가 0,1  -1,1로 변환\n",
        "scaler = preprocessing.MinMaxScaler()\n",
        "x_train = scaler.fit_transform(x_train)\n",
        "x_test =  scaler.fit_transform(x_test)"
      ],
      "metadata": {
        "id": "yWXc66G4Hbjd"
      },
      "execution_count": 83,
      "outputs": []
    },
    {
      "cell_type": "code",
      "source": [
        "# 하이퍼파라메터\n",
        "nin = x_train.shape[1]\n",
        "nh = 5\n",
        "nout = 1"
      ],
      "metadata": {
        "id": "ozLynAixImAF"
      },
      "execution_count": 84,
      "outputs": []
    },
    {
      "cell_type": "code",
      "source": [
        "model = ANN(nin,nh,nout)\n",
        "history = model.fit(x_train,y_train,epochs=100,batch_size=100, validation_split=0.2)"
      ],
      "metadata": {
        "colab": {
          "base_uri": "https://localhost:8080/"
        },
        "id": "M5PKOjRQIyJ8",
        "outputId": "7e0716a2-63b8-4fd0-aed4-07a9bcd15741"
      },
      "execution_count": 85,
      "outputs": [
        {
          "output_type": "stream",
          "name": "stdout",
          "text": [
            "Epoch 1/100\n",
            "4/4 [==============================] - 1s 55ms/step - loss: 456.2544 - mse: 456.2545 - val_loss: 121.1719 - val_mse: 121.1719\n",
            "Epoch 2/100\n",
            "4/4 [==============================] - 0s 13ms/step - loss: 112.2075 - mse: 112.2075 - val_loss: 104.3109 - val_mse: 104.3109\n",
            "Epoch 3/100\n",
            "4/4 [==============================] - 0s 13ms/step - loss: 77.5989 - mse: 77.5990 - val_loss: 96.5648 - val_mse: 96.5648\n",
            "Epoch 4/100\n",
            "4/4 [==============================] - 0s 13ms/step - loss: 65.0446 - mse: 65.0446 - val_loss: 63.6466 - val_mse: 63.6466\n",
            "Epoch 5/100\n",
            "4/4 [==============================] - 0s 20ms/step - loss: 55.2064 - mse: 55.2064 - val_loss: 66.1768 - val_mse: 66.1768\n",
            "Epoch 6/100\n",
            "4/4 [==============================] - 0s 14ms/step - loss: 50.3137 - mse: 50.3137 - val_loss: 54.0439 - val_mse: 54.0439\n",
            "Epoch 7/100\n",
            "4/4 [==============================] - 0s 12ms/step - loss: 47.6615 - mse: 47.6615 - val_loss: 55.0304 - val_mse: 55.0304\n",
            "Epoch 8/100\n",
            "4/4 [==============================] - 0s 12ms/step - loss: 61.0870 - mse: 61.0870 - val_loss: 50.3834 - val_mse: 50.3834\n",
            "Epoch 9/100\n",
            "4/4 [==============================] - 0s 19ms/step - loss: 43.9653 - mse: 43.9653 - val_loss: 61.9567 - val_mse: 61.9567\n",
            "Epoch 10/100\n",
            "4/4 [==============================] - 0s 12ms/step - loss: 52.2900 - mse: 52.2900 - val_loss: 43.1100 - val_mse: 43.1100\n",
            "Epoch 11/100\n",
            "4/4 [==============================] - 0s 12ms/step - loss: 44.9419 - mse: 44.9419 - val_loss: 42.6017 - val_mse: 42.6017\n",
            "Epoch 12/100\n",
            "4/4 [==============================] - 0s 12ms/step - loss: 41.6681 - mse: 41.6681 - val_loss: 60.4031 - val_mse: 60.4031\n",
            "Epoch 13/100\n",
            "4/4 [==============================] - 0s 18ms/step - loss: 40.9972 - mse: 40.9972 - val_loss: 45.3584 - val_mse: 45.3584\n",
            "Epoch 14/100\n",
            "4/4 [==============================] - 0s 12ms/step - loss: 35.6344 - mse: 35.6344 - val_loss: 43.5740 - val_mse: 43.5740\n",
            "Epoch 15/100\n",
            "4/4 [==============================] - 0s 13ms/step - loss: 33.8154 - mse: 33.8154 - val_loss: 43.6583 - val_mse: 43.6583\n",
            "Epoch 16/100\n",
            "4/4 [==============================] - 0s 12ms/step - loss: 36.0824 - mse: 36.0824 - val_loss: 59.9445 - val_mse: 59.9445\n",
            "Epoch 17/100\n",
            "4/4 [==============================] - 0s 13ms/step - loss: 41.5310 - mse: 41.5310 - val_loss: 34.2794 - val_mse: 34.2794\n",
            "Epoch 18/100\n",
            "4/4 [==============================] - 0s 14ms/step - loss: 31.1482 - mse: 31.1482 - val_loss: 32.4828 - val_mse: 32.4828\n",
            "Epoch 19/100\n",
            "4/4 [==============================] - 0s 15ms/step - loss: 30.4218 - mse: 30.4218 - val_loss: 42.0975 - val_mse: 42.0975\n",
            "Epoch 20/100\n",
            "4/4 [==============================] - 0s 18ms/step - loss: 55.8944 - mse: 55.8944 - val_loss: 132.6729 - val_mse: 132.6729\n",
            "Epoch 21/100\n",
            "4/4 [==============================] - 0s 12ms/step - loss: 101.1204 - mse: 101.1204 - val_loss: 116.4840 - val_mse: 116.4840\n",
            "Epoch 22/100\n",
            "4/4 [==============================] - 0s 12ms/step - loss: 79.6644 - mse: 79.6644 - val_loss: 55.3088 - val_mse: 55.3088\n",
            "Epoch 23/100\n",
            "4/4 [==============================] - 0s 13ms/step - loss: 34.3164 - mse: 34.3164 - val_loss: 43.0640 - val_mse: 43.0640\n",
            "Epoch 24/100\n",
            "4/4 [==============================] - 0s 12ms/step - loss: 41.2716 - mse: 41.2716 - val_loss: 34.6614 - val_mse: 34.6614\n",
            "Epoch 25/100\n",
            "4/4 [==============================] - 0s 14ms/step - loss: 34.5864 - mse: 34.5864 - val_loss: 29.0777 - val_mse: 29.0777\n",
            "Epoch 26/100\n",
            "4/4 [==============================] - 0s 12ms/step - loss: 27.9177 - mse: 27.9177 - val_loss: 31.6717 - val_mse: 31.6717\n",
            "Epoch 27/100\n",
            "4/4 [==============================] - 0s 14ms/step - loss: 27.3047 - mse: 27.3047 - val_loss: 59.9067 - val_mse: 59.9067\n",
            "Epoch 28/100\n",
            "4/4 [==============================] - 0s 13ms/step - loss: 58.0090 - mse: 58.0090 - val_loss: 79.6717 - val_mse: 79.6717\n",
            "Epoch 29/100\n",
            "4/4 [==============================] - 0s 13ms/step - loss: 59.1486 - mse: 59.1486 - val_loss: 39.5994 - val_mse: 39.5994\n",
            "Epoch 30/100\n",
            "4/4 [==============================] - 0s 24ms/step - loss: 29.8068 - mse: 29.8068 - val_loss: 45.9025 - val_mse: 45.9025\n",
            "Epoch 31/100\n",
            "4/4 [==============================] - 0s 18ms/step - loss: 46.1549 - mse: 46.1549 - val_loss: 28.2809 - val_mse: 28.2809\n",
            "Epoch 32/100\n",
            "4/4 [==============================] - 0s 12ms/step - loss: 28.2709 - mse: 28.2709 - val_loss: 38.9533 - val_mse: 38.9533\n",
            "Epoch 33/100\n",
            "4/4 [==============================] - 0s 12ms/step - loss: 34.0105 - mse: 34.0105 - val_loss: 63.5852 - val_mse: 63.5852\n",
            "Epoch 34/100\n",
            "4/4 [==============================] - 0s 18ms/step - loss: 67.7057 - mse: 67.7057 - val_loss: 33.7765 - val_mse: 33.7765\n",
            "Epoch 35/100\n",
            "4/4 [==============================] - 0s 12ms/step - loss: 34.1636 - mse: 34.1636 - val_loss: 27.1876 - val_mse: 27.1876\n",
            "Epoch 36/100\n",
            "4/4 [==============================] - 0s 17ms/step - loss: 26.5809 - mse: 26.5809 - val_loss: 46.2635 - val_mse: 46.2635\n",
            "Epoch 37/100\n",
            "4/4 [==============================] - 0s 12ms/step - loss: 46.6664 - mse: 46.6664 - val_loss: 60.1900 - val_mse: 60.1900\n",
            "Epoch 38/100\n",
            "4/4 [==============================] - 0s 19ms/step - loss: 33.5874 - mse: 33.5874 - val_loss: 25.8514 - val_mse: 25.8514\n",
            "Epoch 39/100\n",
            "4/4 [==============================] - 0s 12ms/step - loss: 26.0199 - mse: 26.0199 - val_loss: 25.4920 - val_mse: 25.4920\n",
            "Epoch 40/100\n",
            "4/4 [==============================] - 0s 14ms/step - loss: 24.7799 - mse: 24.7799 - val_loss: 28.1689 - val_mse: 28.1689\n",
            "Epoch 41/100\n",
            "4/4 [==============================] - 0s 14ms/step - loss: 38.4056 - mse: 38.4056 - val_loss: 37.9845 - val_mse: 37.9845\n",
            "Epoch 42/100\n",
            "4/4 [==============================] - 0s 12ms/step - loss: 34.0627 - mse: 34.0627 - val_loss: 45.6762 - val_mse: 45.6762\n",
            "Epoch 43/100\n",
            "4/4 [==============================] - 0s 12ms/step - loss: 49.3205 - mse: 49.3205 - val_loss: 24.9848 - val_mse: 24.9848\n",
            "Epoch 44/100\n",
            "4/4 [==============================] - 0s 14ms/step - loss: 25.8841 - mse: 25.8841 - val_loss: 37.0620 - val_mse: 37.0620\n",
            "Epoch 45/100\n",
            "4/4 [==============================] - 0s 12ms/step - loss: 39.1644 - mse: 39.1644 - val_loss: 26.2638 - val_mse: 26.2638\n",
            "Epoch 46/100\n",
            "4/4 [==============================] - 0s 12ms/step - loss: 29.6406 - mse: 29.6406 - val_loss: 35.2659 - val_mse: 35.2659\n",
            "Epoch 47/100\n",
            "4/4 [==============================] - 0s 18ms/step - loss: 42.2222 - mse: 42.2222 - val_loss: 29.4865 - val_mse: 29.4865\n",
            "Epoch 48/100\n",
            "4/4 [==============================] - 0s 12ms/step - loss: 26.0629 - mse: 26.0629 - val_loss: 26.2542 - val_mse: 26.2542\n",
            "Epoch 49/100\n",
            "4/4 [==============================] - 0s 12ms/step - loss: 24.1554 - mse: 24.1554 - val_loss: 33.9145 - val_mse: 33.9145\n",
            "Epoch 50/100\n",
            "4/4 [==============================] - 0s 18ms/step - loss: 29.9841 - mse: 29.9841 - val_loss: 67.0207 - val_mse: 67.0207\n",
            "Epoch 51/100\n",
            "4/4 [==============================] - 0s 19ms/step - loss: 68.7109 - mse: 68.7109 - val_loss: 24.6769 - val_mse: 24.6769\n",
            "Epoch 52/100\n",
            "4/4 [==============================] - 0s 13ms/step - loss: 25.2010 - mse: 25.2010 - val_loss: 24.7481 - val_mse: 24.7481\n",
            "Epoch 53/100\n",
            "4/4 [==============================] - 0s 18ms/step - loss: 23.9827 - mse: 23.9827 - val_loss: 23.8601 - val_mse: 23.8601\n",
            "Epoch 54/100\n",
            "4/4 [==============================] - 0s 12ms/step - loss: 26.7124 - mse: 26.7124 - val_loss: 40.7123 - val_mse: 40.7123\n",
            "Epoch 55/100\n",
            "4/4 [==============================] - 0s 13ms/step - loss: 38.9751 - mse: 38.9751 - val_loss: 23.4372 - val_mse: 23.4372\n",
            "Epoch 56/100\n",
            "4/4 [==============================] - 0s 12ms/step - loss: 24.1731 - mse: 24.1731 - val_loss: 30.4494 - val_mse: 30.4494\n",
            "Epoch 57/100\n",
            "4/4 [==============================] - 0s 12ms/step - loss: 28.4598 - mse: 28.4598 - val_loss: 26.8939 - val_mse: 26.8939\n",
            "Epoch 58/100\n",
            "4/4 [==============================] - 0s 13ms/step - loss: 23.8836 - mse: 23.8836 - val_loss: 27.6312 - val_mse: 27.6312\n",
            "Epoch 59/100\n",
            "4/4 [==============================] - 0s 19ms/step - loss: 35.2845 - mse: 35.2845 - val_loss: 44.5441 - val_mse: 44.5441\n",
            "Epoch 60/100\n",
            "4/4 [==============================] - 0s 12ms/step - loss: 36.8839 - mse: 36.8839 - val_loss: 24.5862 - val_mse: 24.5862\n",
            "Epoch 61/100\n",
            "4/4 [==============================] - 0s 13ms/step - loss: 24.6386 - mse: 24.6386 - val_loss: 23.2876 - val_mse: 23.2876\n",
            "Epoch 62/100\n",
            "4/4 [==============================] - 0s 13ms/step - loss: 23.7993 - mse: 23.7993 - val_loss: 36.4977 - val_mse: 36.4977\n",
            "Epoch 63/100\n",
            "4/4 [==============================] - 0s 15ms/step - loss: 33.5877 - mse: 33.5877 - val_loss: 36.3740 - val_mse: 36.3740\n",
            "Epoch 64/100\n",
            "4/4 [==============================] - 0s 12ms/step - loss: 39.5209 - mse: 39.5209 - val_loss: 23.3101 - val_mse: 23.3101\n",
            "Epoch 65/100\n",
            "4/4 [==============================] - 0s 14ms/step - loss: 23.3808 - mse: 23.3808 - val_loss: 25.1787 - val_mse: 25.1787\n",
            "Epoch 66/100\n",
            "4/4 [==============================] - 0s 18ms/step - loss: 23.8688 - mse: 23.8688 - val_loss: 29.8338 - val_mse: 29.8338\n",
            "Epoch 67/100\n",
            "4/4 [==============================] - 0s 14ms/step - loss: 25.3081 - mse: 25.3081 - val_loss: 28.5163 - val_mse: 28.5163\n",
            "Epoch 68/100\n",
            "4/4 [==============================] - 0s 19ms/step - loss: 24.6966 - mse: 24.6966 - val_loss: 25.6196 - val_mse: 25.6196\n",
            "Epoch 69/100\n",
            "4/4 [==============================] - 0s 12ms/step - loss: 26.5549 - mse: 26.5549 - val_loss: 22.3455 - val_mse: 22.3455\n",
            "Epoch 70/100\n",
            "4/4 [==============================] - 0s 12ms/step - loss: 24.9809 - mse: 24.9809 - val_loss: 24.3797 - val_mse: 24.3797\n",
            "Epoch 71/100\n",
            "4/4 [==============================] - 0s 13ms/step - loss: 25.4847 - mse: 25.4847 - val_loss: 23.0777 - val_mse: 23.0777\n",
            "Epoch 72/100\n",
            "4/4 [==============================] - 0s 12ms/step - loss: 24.7000 - mse: 24.7000 - val_loss: 22.4868 - val_mse: 22.4868\n",
            "Epoch 73/100\n",
            "4/4 [==============================] - 0s 12ms/step - loss: 22.7770 - mse: 22.7770 - val_loss: 22.6357 - val_mse: 22.6357\n",
            "Epoch 74/100\n",
            "4/4 [==============================] - 0s 12ms/step - loss: 22.7606 - mse: 22.7606 - val_loss: 26.1917 - val_mse: 26.1917\n",
            "Epoch 75/100\n",
            "4/4 [==============================] - 0s 13ms/step - loss: 24.0920 - mse: 24.0920 - val_loss: 21.9224 - val_mse: 21.9224\n",
            "Epoch 76/100\n",
            "4/4 [==============================] - 0s 21ms/step - loss: 24.6617 - mse: 24.6617 - val_loss: 23.0056 - val_mse: 23.0056\n",
            "Epoch 77/100\n",
            "4/4 [==============================] - 0s 13ms/step - loss: 26.8660 - mse: 26.8660 - val_loss: 22.1651 - val_mse: 22.1651\n",
            "Epoch 78/100\n",
            "4/4 [==============================] - 0s 13ms/step - loss: 23.4047 - mse: 23.4047 - val_loss: 24.1381 - val_mse: 24.1381\n",
            "Epoch 79/100\n",
            "4/4 [==============================] - 0s 13ms/step - loss: 23.1427 - mse: 23.1427 - val_loss: 32.4623 - val_mse: 32.4623\n",
            "Epoch 80/100\n",
            "4/4 [==============================] - 0s 13ms/step - loss: 23.6538 - mse: 23.6538 - val_loss: 30.7150 - val_mse: 30.7150\n",
            "Epoch 81/100\n",
            "4/4 [==============================] - 0s 18ms/step - loss: 26.1559 - mse: 26.1559 - val_loss: 24.7002 - val_mse: 24.7002\n",
            "Epoch 82/100\n",
            "4/4 [==============================] - 0s 13ms/step - loss: 24.8020 - mse: 24.8020 - val_loss: 21.5362 - val_mse: 21.5362\n",
            "Epoch 83/100\n",
            "4/4 [==============================] - 0s 18ms/step - loss: 22.7494 - mse: 22.7494 - val_loss: 21.7435 - val_mse: 21.7435\n",
            "Epoch 84/100\n",
            "4/4 [==============================] - 0s 13ms/step - loss: 22.3466 - mse: 22.3466 - val_loss: 24.1222 - val_mse: 24.1222\n",
            "Epoch 85/100\n",
            "4/4 [==============================] - 0s 12ms/step - loss: 23.5989 - mse: 23.5989 - val_loss: 26.7953 - val_mse: 26.7953\n",
            "Epoch 86/100\n",
            "4/4 [==============================] - 0s 12ms/step - loss: 24.1521 - mse: 24.1521 - val_loss: 25.5146 - val_mse: 25.5146\n",
            "Epoch 87/100\n",
            "4/4 [==============================] - 0s 12ms/step - loss: 23.9426 - mse: 23.9426 - val_loss: 35.6163 - val_mse: 35.6163\n",
            "Epoch 88/100\n",
            "4/4 [==============================] - 0s 12ms/step - loss: 25.4431 - mse: 25.4431 - val_loss: 21.2475 - val_mse: 21.2475\n",
            "Epoch 89/100\n",
            "4/4 [==============================] - 0s 12ms/step - loss: 23.3108 - mse: 23.3108 - val_loss: 70.5802 - val_mse: 70.5802\n",
            "Epoch 90/100\n",
            "4/4 [==============================] - 0s 14ms/step - loss: 65.7577 - mse: 65.7577 - val_loss: 24.3898 - val_mse: 24.3898\n",
            "Epoch 91/100\n",
            "4/4 [==============================] - 0s 14ms/step - loss: 23.6005 - mse: 23.6005 - val_loss: 23.6146 - val_mse: 23.6146\n",
            "Epoch 92/100\n",
            "4/4 [==============================] - 0s 15ms/step - loss: 22.4321 - mse: 22.4321 - val_loss: 21.5895 - val_mse: 21.5895\n",
            "Epoch 93/100\n",
            "4/4 [==============================] - 0s 19ms/step - loss: 24.2570 - mse: 24.2570 - val_loss: 23.3646 - val_mse: 23.3646\n",
            "Epoch 94/100\n",
            "4/4 [==============================] - 0s 13ms/step - loss: 25.6357 - mse: 25.6357 - val_loss: 21.0330 - val_mse: 21.0330\n",
            "Epoch 95/100\n",
            "4/4 [==============================] - 0s 16ms/step - loss: 22.1469 - mse: 22.1469 - val_loss: 24.0260 - val_mse: 24.0260\n",
            "Epoch 96/100\n",
            "4/4 [==============================] - 0s 13ms/step - loss: 26.7088 - mse: 26.7088 - val_loss: 41.2930 - val_mse: 41.2930\n",
            "Epoch 97/100\n",
            "4/4 [==============================] - 0s 13ms/step - loss: 31.2122 - mse: 31.2122 - val_loss: 21.3956 - val_mse: 21.3956\n",
            "Epoch 98/100\n",
            "4/4 [==============================] - 0s 18ms/step - loss: 23.6856 - mse: 23.6856 - val_loss: 23.7309 - val_mse: 23.7309\n",
            "Epoch 99/100\n",
            "4/4 [==============================] - 0s 13ms/step - loss: 24.9610 - mse: 24.9610 - val_loss: 28.4980 - val_mse: 28.4980\n",
            "Epoch 100/100\n",
            "4/4 [==============================] - 0s 15ms/step - loss: 27.0488 - mse: 27.0488 - val_loss: 20.7239 - val_mse: 20.7239\n"
          ]
        }
      ]
    },
    {
      "cell_type": "code",
      "source": [
        "model.evaluate(x_test,y_test,batch_size=100)"
      ],
      "metadata": {
        "colab": {
          "base_uri": "https://localhost:8080/"
        },
        "id": "gY7nqD_2JEH1",
        "outputId": "e7f2dd05-6e41-434b-d83a-f63670dd1442"
      },
      "execution_count": 86,
      "outputs": [
        {
          "output_type": "stream",
          "name": "stdout",
          "text": [
            "2/2 [==============================] - 0s 7ms/step - loss: 36.7503 - mse: 36.7503\n"
          ]
        },
        {
          "output_type": "execute_result",
          "data": {
            "text/plain": [
              "[36.75028610229492, 36.75028610229492]"
            ]
          },
          "metadata": {},
          "execution_count": 86
        }
      ]
    },
    {
      "cell_type": "code",
      "source": [
        "history.history.keys()"
      ],
      "metadata": {
        "colab": {
          "base_uri": "https://localhost:8080/"
        },
        "id": "7cZnNLSML06X",
        "outputId": "235f6074-eca9-4221-c6b1-7ab527f80269"
      },
      "execution_count": 88,
      "outputs": [
        {
          "output_type": "execute_result",
          "data": {
            "text/plain": [
              "dict_keys(['loss', 'mse', 'val_loss', 'val_mse'])"
            ]
          },
          "metadata": {},
          "execution_count": 88
        }
      ]
    },
    {
      "cell_type": "code",
      "source": [
        "plot_loss(history.history)"
      ],
      "metadata": {
        "colab": {
          "base_uri": "https://localhost:8080/",
          "height": 449
        },
        "id": "lBBtImUeJ8TW",
        "outputId": "c4f205ff-0a79-403b-cf8a-d884e2c8bc07"
      },
      "execution_count": 87,
      "outputs": [
        {
          "output_type": "display_data",
          "data": {
            "text/plain": [
              "<Figure size 640x480 with 1 Axes>"
            ],
            "image/png": "[encoded data removed]"
          },
          "metadata": {}
        }
      ]
    },
    {
      "cell_type": "code",
      "source": [
        "# 검증용 mse 시각화 함수\n",
        "def plot_mse(history, title=None):\n",
        "  plt.plot(history['mse'], label = 'Training')\n",
        "  plt.plot(history['val_mse'], label = 'Validation')\n",
        "  if title:\n",
        "    plt.title(title)\n",
        "  plt.xlabel('Epoch')\n",
        "  plt.ylabel('Accuracy')\n",
        "  plt.legend()\n",
        "  plt.show()"
      ],
      "metadata": {
        "id": "MI7IrKCOKuPt"
      },
      "execution_count": 89,
      "outputs": []
    },
    {
      "cell_type": "code",
      "source": [
        "plot_mse(history.history)"
      ],
      "metadata": {
        "colab": {
          "base_uri": "https://localhost:8080/",
          "height": 449
        },
        "id": "alvXXyRsK3n8",
        "outputId": "33119042-fd4c-45ec-ecbc-43a0b7ad0226"
      },
      "execution_count": 90,
      "outputs": [
        {
          "output_type": "display_data",
          "data": {
            "text/plain": [
              "<Figure size 640x480 with 1 Axes>"
            ],
            "image/png": "[encoded data removed]"
          },
          "metadata": {}
        }
      ]
    },
    {
      "cell_type": "code",
      "source": [],
      "metadata": {
        "id": "-evkY-dBMA80"
      },
      "execution_count": null,
      "outputs": []
    }
  ]
}