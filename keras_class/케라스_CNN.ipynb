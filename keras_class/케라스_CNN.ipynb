{
  "nbformat": 4,
  "nbformat_minor": 0,
  "metadata": {
    "colab": {
      "provenance": [],
      "gpuType": "T4"
    },
    "kernelspec": {
      "name": "python3",
      "display_name": "Python 3"
    },
    "language_info": {
      "name": "python"
    },
    "accelerator": "GPU",
    "gpuClass": "standard"
  },
  "cells": [
    {
      "cell_type": "code",
      "execution_count": 1,
      "metadata": {
        "id": "Pp_c3zrXVFmi"
      },
      "outputs": [],
      "source": [
        "import keras\n",
        "from keras import models, layers"
      ]
    },
    {
      "cell_type": "code",
      "source": [
        "# Conv2d : 필터를적용해서 특징을 추출\n",
        "# MaxPooling2D : 추출한 특징의 차원을 줄여서 학습 파라메터의 크기를 줄임\n",
        "# Flatten : Dense층에 통과할수 있도록 차원을 1D 형태로 변형\n",
        "# Dense : 밀집층(DNN)"
      ],
      "metadata": {
        "id": "Fobq2mDaVS_s"
      },
      "execution_count": 2,
      "outputs": []
    },
    {
      "cell_type": "code",
      "source": [
        "class CNN(models.Sequential):\n",
        "  def __init__(self, input_shape, num_class):\n",
        "    super().__init__()\n",
        "    self.add(layers.Conv2D(32,kernel_size=(3,3), activation='relu', input_shape=input_shape ))\n",
        "    self.add(layers.Conv2D(64,(3,3),activation='relu'))\n",
        "    self.add(layers.MaxPool2D())\n",
        "    self.add(layers.Dropout(0.25))\n",
        "    self.add(layers.Flatten())\n",
        "    self.add(layers.Dense(128,activation='relu'))\n",
        "    self.add(layers.Dropout(0.5))\n",
        "    self.add(layers.Dense(num_class,activation='softmax'))\n",
        "    self.compile(loss = 'categorical_crossentropy',optimizer='rmsprop',metrics=['accuracy'])\n"
      ],
      "metadata": {
        "id": "f0HEVg9VVtt0"
      },
      "execution_count": 3,
      "outputs": []
    },
    {
      "cell_type": "code",
      "source": [
        "from tensorflow.keras import datasets\n",
        "(x_train,y_train),(x_test,y_test) =  datasets.cifar10.load_data()"
      ],
      "metadata": {
        "colab": {
          "base_uri": "https://localhost:8080/"
        },
        "id": "IsruQsJJXPk9",
        "outputId": "0c2d921f-a612-436c-d0c4-c9c6ceb9563c"
      },
      "execution_count": 4,
      "outputs": [
        {
          "output_type": "stream",
          "name": "stdout",
          "text": [
            "Downloading data from https://www.cs.toronto.edu/~kriz/cifar-10-python.tar.gz\n",
            "170498071/170498071 [==============================] - 3s 0us/step\n"
          ]
        }
      ]
    },
    {
      "cell_type": "code",
      "source": [
        "from keras.utils.np_utils import to_categorical\n",
        "from keras import utils\n",
        "x_train = x_train / 255.0\n",
        "x_test = x_test / 255.0\n",
        "y_train = to_categorical(y_train)\n",
        "y_test = to_categorical(y_test)"
      ],
      "metadata": {
        "id": "LjUbu4sQXuEi"
      },
      "execution_count": 5,
      "outputs": []
    },
    {
      "cell_type": "code",
      "source": [
        "# 하이퍼 매개변수\n",
        "x_train.shape\n",
        "input_shape = x_train.shape[1:]\n",
        "num_class = 10"
      ],
      "metadata": {
        "id": "jpjVv-PqYLcb"
      },
      "execution_count": 6,
      "outputs": []
    },
    {
      "cell_type": "code",
      "source": [
        "model = CNN(input_shape, num_class)"
      ],
      "metadata": {
        "id": "JQrfddZNYj37"
      },
      "execution_count": 7,
      "outputs": []
    },
    {
      "cell_type": "code",
      "source": [
        "history = model.fit(x_train,y_train,epochs=10,batch_size=100,validation_split=0.2)"
      ],
      "metadata": {
        "colab": {
          "base_uri": "https://localhost:8080/"
        },
        "id": "0MWBivUsYwAy",
        "outputId": "b85709ee-9351-4bcd-ad77-d8c8de1ef417"
      },
      "execution_count": 8,
      "outputs": [
        {
          "output_type": "stream",
          "name": "stdout",
          "text": [
            "Epoch 1/10\n",
            "400/400 [==============================] - 14s 11ms/step - loss: 1.8083 - accuracy: 0.3458 - val_loss: 1.4459 - val_accuracy: 0.4894\n",
            "Epoch 2/10\n",
            "400/400 [==============================] - 4s 10ms/step - loss: 1.4369 - accuracy: 0.4909 - val_loss: 1.1885 - val_accuracy: 0.5805\n",
            "Epoch 3/10\n",
            "400/400 [==============================] - 4s 9ms/step - loss: 1.2564 - accuracy: 0.5533 - val_loss: 1.1557 - val_accuracy: 0.5918\n",
            "Epoch 4/10\n",
            "400/400 [==============================] - 4s 9ms/step - loss: 1.1360 - accuracy: 0.6014 - val_loss: 1.0062 - val_accuracy: 0.6561\n",
            "Epoch 5/10\n",
            "400/400 [==============================] - 4s 10ms/step - loss: 1.0620 - accuracy: 0.6296 - val_loss: 0.9629 - val_accuracy: 0.6627\n",
            "Epoch 6/10\n",
            "400/400 [==============================] - 4s 9ms/step - loss: 0.9943 - accuracy: 0.6542 - val_loss: 1.0234 - val_accuracy: 0.6562\n",
            "Epoch 7/10\n",
            "400/400 [==============================] - 4s 9ms/step - loss: 0.9409 - accuracy: 0.6734 - val_loss: 0.9761 - val_accuracy: 0.6590\n",
            "Epoch 8/10\n",
            "400/400 [==============================] - 4s 10ms/step - loss: 0.8989 - accuracy: 0.6898 - val_loss: 0.9376 - val_accuracy: 0.6897\n",
            "Epoch 9/10\n",
            "400/400 [==============================] - 5s 13ms/step - loss: 0.8587 - accuracy: 0.7022 - val_loss: 0.9174 - val_accuracy: 0.6873\n",
            "Epoch 10/10\n",
            "400/400 [==============================] - 4s 11ms/step - loss: 0.8208 - accuracy: 0.7172 - val_loss: 0.9188 - val_accuracy: 0.6915\n"
          ]
        }
      ]
    },
    {
      "cell_type": "code",
      "source": [
        "model.evaluate(x_test,y_test)"
      ],
      "metadata": {
        "colab": {
          "base_uri": "https://localhost:8080/"
        },
        "id": "MLegwjRFZBqD",
        "outputId": "aeaefd7d-d2fa-4d9f-bbb6-7abd91fc721d"
      },
      "execution_count": 9,
      "outputs": [
        {
          "output_type": "stream",
          "name": "stdout",
          "text": [
            "313/313 [==============================] - 1s 3ms/step - loss: 0.9295 - accuracy: 0.6891\n"
          ]
        },
        {
          "output_type": "execute_result",
          "data": {
            "text/plain": [
              "[0.9294756054878235, 0.6891000270843506]"
            ]
          },
          "metadata": {},
          "execution_count": 9
        }
      ]
    },
    {
      "cell_type": "code",
      "source": [
        "# 다른 방법의 CNN\n",
        "from sklearn import model_selection,metrics\n",
        "from sklearn.preprocessing import MinMaxScaler\n",
        "from keras import backend as k\n",
        "from keras.models import Model\n",
        "from keras.layers import Input,Conv2D,MaxPool2D,Flatten,Dense,Dropout"
      ],
      "metadata": {
        "id": "0PYat8aCZfvs"
      },
      "execution_count": 11,
      "outputs": []
    },
    {
      "cell_type": "code",
      "source": [
        "input_shape"
      ],
      "metadata": {
        "colab": {
          "base_uri": "https://localhost:8080/"
        },
        "id": "_lvtUT5pdf3c",
        "outputId": "69d6855a-8051-4477-dc0a-738264f6562f"
      },
      "execution_count": 18,
      "outputs": [
        {
          "output_type": "execute_result",
          "data": {
            "text/plain": [
              "(32, 32, 3)"
            ]
          },
          "metadata": {},
          "execution_count": 18
        }
      ]
    },
    {
      "cell_type": "code",
      "source": [
        "class CNN(Model):\n",
        "  def __init__(self, nb_classes):\n",
        "    super(CNN,self).__init__()\n",
        "    self.nb_classess = nb_classes\n",
        "    self.conv2d_1 = Conv2D(32,kernel_size=(3,3),activation='relu',input_shape=input_shape )\n",
        "    self.conv2d_2 = Conv2D(64,kernel_size=(3,3),activation='relu')\n",
        "    self.maxpool2d = MaxPool2D()\n",
        "    self.dropput_1 = Dropout(0.25)\n",
        "    self.flatten = Flatten()\n",
        "    self.dense_1 = Dense(128,activation='relu')\n",
        "    self.dropput_2 = Dropout(0.5)\n",
        "    self.dense_2 = Dense(nb_classes,activation='softmax')\n",
        "  def forward(self,x):\n",
        "    h = self.conv2d_1(x)\n",
        "    h = self.conv2d_2(h)\n",
        "    h = self.maxpool2d(h)\n",
        "    h = self.dropput_1(h)\n",
        "    h = self.flatten(h)\n",
        "    h = self.dense_1(h)\n",
        "    h = self.dropput_2(h)\n",
        "    h = self.dense_2(h)\n",
        "    return h"
      ],
      "metadata": {
        "id": "OClKQjJZZ9BL"
      },
      "execution_count": 16,
      "outputs": []
    },
    {
      "cell_type": "code",
      "source": [
        "x_train.shape"
      ],
      "metadata": {
        "colab": {
          "base_uri": "https://localhost:8080/"
        },
        "id": "mLvFxzVbdi3-",
        "outputId": "17c66b8d-6159-4514-8bd2-bb2c666bc1ac"
      },
      "execution_count": 19,
      "outputs": [
        {
          "output_type": "execute_result",
          "data": {
            "text/plain": [
              "(50000, 32, 32, 3)"
            ]
          },
          "metadata": {},
          "execution_count": 19
        }
      ]
    },
    {
      "cell_type": "code",
      "source": [
        "nb_class = 10\n",
        "model = CNN(nb_class)\n",
        "model.compile(loss='categorical_crossentropy',optimizer='rmsprop',metrics=['accuracy'])\n",
        "history = model.fit(x_train,y_train,epochs=10,batch_size=100,validation_split=0.2)"
      ],
      "metadata": {
        "colab": {
          "base_uri": "https://localhost:8080/",
          "height": 787
        },
        "id": "hB12_tZycWgk",
        "outputId": "ac14509e-fe85-4683-fd24-aebf08e5bfb7"
      },
      "execution_count": 17,
      "outputs": [
        {
          "output_type": "stream",
          "name": "stdout",
          "text": [
            "Epoch 1/10\n"
          ]
        },
        {
          "output_type": "error",
          "ename": "NotImplementedError",
          "evalue": "ignored",
          "traceback": [
            "\u001b[0;31m---------------------------------------------------------------------------\u001b[0m",
            "\u001b[0;31mNotImplementedError\u001b[0m                       Traceback (most recent call last)",
            "\u001b[0;32m<ipython-input-17-2e362dbcce45>\u001b[0m in \u001b[0;36m<cell line: 4>\u001b[0;34m()\u001b[0m\n\u001b[1;32m      2\u001b[0m \u001b[0mmodel\u001b[0m \u001b[0;34m=\u001b[0m \u001b[0mCNN\u001b[0m\u001b[0;34m(\u001b[0m\u001b[0mnb_class\u001b[0m\u001b[0;34m)\u001b[0m\u001b[0;34m\u001b[0m\u001b[0;34m\u001b[0m\u001b[0m\n\u001b[1;32m      3\u001b[0m \u001b[0mmodel\u001b[0m\u001b[0;34m.\u001b[0m\u001b[0mcompile\u001b[0m\u001b[0;34m(\u001b[0m\u001b[0mloss\u001b[0m\u001b[0;34m=\u001b[0m\u001b[0;34m'categorical_crossentropy'\u001b[0m\u001b[0;34m,\u001b[0m\u001b[0moptimizer\u001b[0m\u001b[0;34m=\u001b[0m\u001b[0;34m'rmsprop'\u001b[0m\u001b[0;34m,\u001b[0m\u001b[0mmetrics\u001b[0m\u001b[0;34m=\u001b[0m\u001b[0;34m[\u001b[0m\u001b[0;34m'accuracy'\u001b[0m\u001b[0;34m]\u001b[0m\u001b[0;34m)\u001b[0m\u001b[0;34m\u001b[0m\u001b[0;34m\u001b[0m\u001b[0m\n\u001b[0;32m----> 4\u001b[0;31m \u001b[0mhistory\u001b[0m \u001b[0;34m=\u001b[0m \u001b[0mmodel\u001b[0m\u001b[0;34m.\u001b[0m\u001b[0mfit\u001b[0m\u001b[0;34m(\u001b[0m\u001b[0mx_train\u001b[0m\u001b[0;34m,\u001b[0m\u001b[0my_train\u001b[0m\u001b[0;34m,\u001b[0m\u001b[0mepochs\u001b[0m\u001b[0;34m=\u001b[0m\u001b[0;36m10\u001b[0m\u001b[0;34m,\u001b[0m\u001b[0mbatch_size\u001b[0m\u001b[0;34m=\u001b[0m\u001b[0;36m100\u001b[0m\u001b[0;34m,\u001b[0m\u001b[0mvalidation_split\u001b[0m\u001b[0;34m=\u001b[0m\u001b[0;36m0.2\u001b[0m\u001b[0;34m)\u001b[0m\u001b[0;34m\u001b[0m\u001b[0;34m\u001b[0m\u001b[0m\n\u001b[0m",
            "\u001b[0;32m/usr/local/lib/python3.10/dist-packages/keras/utils/traceback_utils.py\u001b[0m in \u001b[0;36merror_handler\u001b[0;34m(*args, **kwargs)\u001b[0m\n\u001b[1;32m     68\u001b[0m             \u001b[0;31m# To get the full stack trace, call:\u001b[0m\u001b[0;34m\u001b[0m\u001b[0;34m\u001b[0m\u001b[0m\n\u001b[1;32m     69\u001b[0m             \u001b[0;31m# `tf.debugging.disable_traceback_filtering()`\u001b[0m\u001b[0;34m\u001b[0m\u001b[0;34m\u001b[0m\u001b[0m\n\u001b[0;32m---> 70\u001b[0;31m             \u001b[0;32mraise\u001b[0m \u001b[0me\u001b[0m\u001b[0;34m.\u001b[0m\u001b[0mwith_traceback\u001b[0m\u001b[0;34m(\u001b[0m\u001b[0mfiltered_tb\u001b[0m\u001b[0;34m)\u001b[0m \u001b[0;32mfrom\u001b[0m \u001b[0;32mNone\u001b[0m\u001b[0;34m\u001b[0m\u001b[0;34m\u001b[0m\u001b[0m\n\u001b[0m\u001b[1;32m     71\u001b[0m         \u001b[0;32mfinally\u001b[0m\u001b[0;34m:\u001b[0m\u001b[0;34m\u001b[0m\u001b[0;34m\u001b[0m\u001b[0m\n\u001b[1;32m     72\u001b[0m             \u001b[0;32mdel\u001b[0m \u001b[0mfiltered_tb\u001b[0m\u001b[0;34m\u001b[0m\u001b[0;34m\u001b[0m\u001b[0m\n",
            "\u001b[0;32m/usr/local/lib/python3.10/dist-packages/keras/engine/training.py\u001b[0m in \u001b[0;36mtf__train_function\u001b[0;34m(iterator)\u001b[0m\n\u001b[1;32m     13\u001b[0m                 \u001b[0;32mtry\u001b[0m\u001b[0;34m:\u001b[0m\u001b[0;34m\u001b[0m\u001b[0;34m\u001b[0m\u001b[0m\n\u001b[1;32m     14\u001b[0m                     \u001b[0mdo_return\u001b[0m \u001b[0;34m=\u001b[0m \u001b[0;32mTrue\u001b[0m\u001b[0;34m\u001b[0m\u001b[0;34m\u001b[0m\u001b[0m\n\u001b[0;32m---> 15\u001b[0;31m                     \u001b[0mretval_\u001b[0m \u001b[0;34m=\u001b[0m \u001b[0mag__\u001b[0m\u001b[0;34m.\u001b[0m\u001b[0mconverted_call\u001b[0m\u001b[0;34m(\u001b[0m\u001b[0mag__\u001b[0m\u001b[0;34m.\u001b[0m\u001b[0mld\u001b[0m\u001b[0;34m(\u001b[0m\u001b[0mstep_function\u001b[0m\u001b[0;34m)\u001b[0m\u001b[0;34m,\u001b[0m \u001b[0;34m(\u001b[0m\u001b[0mag__\u001b[0m\u001b[0;34m.\u001b[0m\u001b[0mld\u001b[0m\u001b[0;34m(\u001b[0m\u001b[0mself\u001b[0m\u001b[0;34m)\u001b[0m\u001b[0;34m,\u001b[0m \u001b[0mag__\u001b[0m\u001b[0;34m.\u001b[0m\u001b[0mld\u001b[0m\u001b[0;34m(\u001b[0m\u001b[0miterator\u001b[0m\u001b[0;34m)\u001b[0m\u001b[0;34m)\u001b[0m\u001b[0;34m,\u001b[0m \u001b[0;32mNone\u001b[0m\u001b[0;34m,\u001b[0m \u001b[0mfscope\u001b[0m\u001b[0;34m)\u001b[0m\u001b[0;34m\u001b[0m\u001b[0;34m\u001b[0m\u001b[0m\n\u001b[0m\u001b[1;32m     16\u001b[0m                 \u001b[0;32mexcept\u001b[0m\u001b[0;34m:\u001b[0m\u001b[0;34m\u001b[0m\u001b[0;34m\u001b[0m\u001b[0m\n\u001b[1;32m     17\u001b[0m                     \u001b[0mdo_return\u001b[0m \u001b[0;34m=\u001b[0m \u001b[0;32mFalse\u001b[0m\u001b[0;34m\u001b[0m\u001b[0;34m\u001b[0m\u001b[0m\n",
            "\u001b[0;31mNotImplementedError\u001b[0m: in user code:\n\n    File \"/usr/local/lib/python3.10/dist-packages/keras/engine/training.py\", line 1284, in train_function  *\n        return step_function(self, iterator)\n    File \"/usr/local/lib/python3.10/dist-packages/keras/engine/training.py\", line 1268, in step_function  **\n        outputs = model.distribute_strategy.run(run_step, args=(data,))\n    File \"/usr/local/lib/python3.10/dist-packages/keras/engine/training.py\", line 1249, in run_step  **\n        outputs = model.train_step(data)\n    File \"/usr/local/lib/python3.10/dist-packages/keras/engine/training.py\", line 1050, in train_step\n        y_pred = self(x, training=True)\n    File \"/usr/local/lib/python3.10/dist-packages/keras/utils/traceback_utils.py\", line 70, in error_handler\n        raise e.with_traceback(filtered_tb) from None\n    File \"/usr/local/lib/python3.10/dist-packages/keras/engine/training.py\", line 585, in call\n        raise NotImplementedError(\n\n    NotImplementedError: Exception encountered when calling layer 'cnn_3' (type CNN).\n    \n    Unimplemented `tf.keras.Model.call()`: if you intend to create a `Model` with the Functional API, please provide `inputs` and `outputs` arguments. Otherwise, subclass `Model` with an overridden `call()` method.\n    \n    Call arguments received by layer 'cnn_3' (type CNN):\n      • inputs=tf.Tensor(shape=(100, 32, 32, 3), dtype=float32)\n      • training=True\n      • mask=None\n"
          ]
        }
      ]
    },
    {
      "cell_type": "code",
      "source": [],
      "metadata": {
        "id": "0K5bMVSic487"
      },
      "execution_count": null,
      "outputs": []
    }
  ]
}