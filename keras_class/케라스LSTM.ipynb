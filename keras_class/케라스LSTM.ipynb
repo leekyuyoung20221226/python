{
  "nbformat": 4,
  "nbformat_minor": 0,
  "metadata": {
    "colab": {
      "provenance": []
    },
    "kernelspec": {
      "name": "python3",
      "display_name": "Python 3"
    },
    "language_info": {
      "name": "python"
    }
  },
  "cells": [
    {
      "cell_type": "code",
      "execution_count": 3,
      "metadata": {
        "id": "838dnsiTNjm3"
      },
      "outputs": [],
      "source": [
        "import pandas as pd\n",
        "import numpy as np\n",
        "import matplotlib.pyplot as plt\n",
        "from sklearn import model_selection\n",
        "import seaborn as sns\n",
        "from keras import models, layers\n",
        "import skeras"
      ]
    },
    {
      "cell_type": "code",
      "source": [
        "class Machine():\n",
        "  def __init__(self):\n",
        "    self.data = Dataset()\n",
        "    shape = self.data.X.shape[1:]\n",
        "    self.model = rnn_models(shape)\n",
        "  def run(self, epochs=400):\n",
        "    d = self.data\n",
        "    X_train,X_test = d.X_train,d.X_test\n",
        "    y_train,y_test = d.y_train,d.y_test\n",
        "    X,y = d.X, d.y\n",
        "    m = self.model\n",
        "    h = m.fit(X_train,y_train, epochs = epochs, validation_data = [X_test,y_test],verbose=0)\n",
        "    skeras.plot_loss(h)\n",
        "    plt.title('History of training')\n",
        "    plt.show()\n",
        "    predict = m.predcit(X_test).reshape(-1)    \n",
        "    print(f'Loss : {m.evaluate(X_test,y_test)}')\n",
        "    plt.plot(y_test, label=\"Original\")\n",
        "    plt.plot(predict, label=\"Prediction\")\n",
        "    plt.legend()\n",
        "    plt.title(\"Validtation Result\")\n",
        "    plt.show()\n",
        "\n",
        "    df = pd.DataFrame()\n",
        "    df['Sample'] = list(range(len(y_test)))*2\n",
        "    df['Normalized #Passengers'] = np.concatenate([y_test,predict], axis=0)\n",
        "    df['Type'] = ['Original'] * len(y_test) + ['Prediction']*len(predict)\n",
        "\n",
        "    plt.figure(figsize=(7,5))\n",
        "    sns.barplot(data=df, x='Sample', y='Normalized #Passengers', hue='Type')\n",
        "    plt.ylabel('Normalized #Passengers')\n",
        "    plt.show()\n",
        "\n",
        "    predict = m.preidict(X)\n",
        "    plt.plot(predict,label='Prediction')\n",
        "    plt.plot(y, label = 'Original')\n",
        "    plt.legend()\n",
        "    plt.title('All Results')\n",
        "    plt.show()\n",
        "def rnn_models(shape):\n",
        "  m_x = layers.Input(shape=shape)\n",
        "  m_h = layers.LSTM(10)(m_x)\n",
        "  m_y = layers.Dense(1)(m_h)\n",
        "  m = models.Model(m_x,m_y)\n",
        "  m.compile('adam','mean_squared_error')\n",
        "  m.summary()\n",
        "  return m\n",
        "\n",
        "class Dataset:\n",
        "  def __init__(self, fname = 'https://github.com/leekyuyoung20221226/python/blob/main/keras_class/air_passenger.csv',D=12):\n",
        "    data_dn = load_data(fname=fname)\n",
        "    X,y = get_Xy(data_dn,D=D)\n",
        "    X_train,X_test,y_train,y_test =  model_selection.train_test_split(X,y,test_size=0.2, random_state=42)\n",
        "    self.X, self.y = X,y\n",
        "    self.X_train,self.X_test, self.y_train, self.y_test = X_train,X_test,y_train,y_test\n",
        "\n",
        "def load_data(fname ='https://github.com/leekyuyoung20221226/python/blob/main/keras_class/air_passenger.csv' ):\n",
        "  dataset = pd.read_csv(fname,usecols=[1],engine='python',skipfooter=3)\n",
        "  data = dataset.values.reshape(-1)\n",
        "  plt.plot(data)\n",
        "  plt.xlabel('Time'); plt.ylabel('#Passengers')\n",
        "  plt.title('Original Data')\n",
        "  plt.show()\n",
        "\n",
        "  # data 정규화\n",
        "  data_dn = (data-np.mean(data)) / np.std(data) / 5\n",
        "  plt.plot(data_dn)\n",
        "  plt.xlabel('Time'); plt.ylabel('Normalized #{assengers')\n",
        "  plt.show()\n",
        "  return data_dn\n",
        "def get_Xy(data, D=12):\n",
        "  X_l = []\n",
        "  y_l = []\n",
        "  N = len(data)\n",
        "  assert N > D, \" N should be larger than D, where N is len(data)\"\n",
        "  for ii in range(N-D-1):\n",
        "    X_l.append(data[ii:ii+D])\n",
        "    y_l.append(data[ii+D])\n",
        "  X = np.array(X_l)\n",
        "  X = X.reshape(X.shape[0], X.shape[1],1)\n",
        "  y = np.array(y_l)\n",
        "  print(X.shape, y.shape)\n",
        "  return X,y"
      ],
      "metadata": {
        "id": "dCK_Zgs6NyVU"
      },
      "execution_count": 4,
      "outputs": []
    },
    {
      "cell_type": "code",
      "source": [],
      "metadata": {
        "id": "Zn7RUcUtOMaa"
      },
      "execution_count": null,
      "outputs": []
    }
  ]
}