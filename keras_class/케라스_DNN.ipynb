{
  "nbformat": 4,
  "nbformat_minor": 0,
  "metadata": {
    "colab": {
      "provenance": []
    },
    "kernelspec": {
      "name": "python3",
      "display_name": "Python 3"
    },
    "language_info": {
      "name": "python"
    }
  },
  "cells": [
    {
      "cell_type": "code",
      "execution_count": 2,
      "metadata": {
        "id": "hbSZiAKzMmm-"
      },
      "outputs": [],
      "source": [
        "#DNN : 은닉계층을 여러개 쌓아 만든 인공지능\n",
        "# 은닉층이 많다보니 경사도 소실문제, 적절한 활성화함수 선택"
      ]
    },
    {
      "cell_type": "code",
      "source": [
        "# 필기체\n",
        "# 하이퍼매개변수\n",
        "nin = 784\n",
        "nh_l = [100,50]  # 은닉계층을 2개이고 각각의 노드수의 수\n",
        "nout = 10"
      ],
      "metadata": {
        "id": "YYyt5SuwMwO5"
      },
      "execution_count": 3,
      "outputs": []
    },
    {
      "cell_type": "code",
      "source": [
        "from keras import models\n",
        "from keras import layers\n",
        "from tensorflow.keras import datasets\n",
        "class DNN(models.Sequential):\n",
        "  def __init__(self, nin,nh_l,nout):\n",
        "    super().__init__()\n",
        "    self.add(layers.Dense(nh_l[0], activation='relu', input_shape=(nin,)))\n",
        "    self.add(layers.Dropout(0.2))\n",
        "    self.add(layers.Dense(nh_l[1],activation='relu'))\n",
        "    self.add(layers.Dropout(0.2))\n",
        "    self.add(layers.Dense(nout,activation='softmax'))\n",
        "    self.compile(loss = 'categorical_crossentropy', optimizer='adam', metrics=['accuracy'])"
      ],
      "metadata": {
        "id": "RPnJ9yc9No1F"
      },
      "execution_count": 14,
      "outputs": []
    },
    {
      "cell_type": "code",
      "source": [
        "from sklearn import preprocessing\n",
        "from keras import utils\n",
        "scaler = preprocessing.MinMaxScaler()\n",
        "(x_train,y_train),(x_test,y_test) =  datasets.mnist.load_data()\n",
        "x_train = scaler.fit_transform(x_train.reshape(-1,28*28))\n",
        "x_test = scaler.fit_transform(x_test.reshape(-1,28*28))\n",
        "y_train = utils.to_categorical(y_train)\n",
        "y_test = utils.to_categorical(y_test)"
      ],
      "metadata": {
        "id": "CZRWdlnMOzgt"
      },
      "execution_count": 15,
      "outputs": []
    },
    {
      "cell_type": "code",
      "source": [
        "model = DNN(nin,nh_l,nout)\n",
        "history = model.fit(x_train,y_train,epochs=5,batch_size=100,validation_split=0.2)"
      ],
      "metadata": {
        "colab": {
          "base_uri": "https://localhost:8080/"
        },
        "id": "w_1N0mwXP6wl",
        "outputId": "2fd34e88-4654-43e8-e639-8319c7ae2743"
      },
      "execution_count": 16,
      "outputs": [
        {
          "output_type": "stream",
          "name": "stdout",
          "text": [
            "Epoch 1/5\n",
            "480/480 [==============================] - 5s 8ms/step - loss: 0.5269 - accuracy: 0.8404 - val_loss: 0.1995 - val_accuracy: 0.9417\n",
            "Epoch 2/5\n",
            "480/480 [==============================] - 3s 7ms/step - loss: 0.2504 - accuracy: 0.9256 - val_loss: 0.1455 - val_accuracy: 0.9578\n",
            "Epoch 3/5\n",
            "480/480 [==============================] - 3s 6ms/step - loss: 0.1902 - accuracy: 0.9446 - val_loss: 0.1214 - val_accuracy: 0.9642\n",
            "Epoch 4/5\n",
            "480/480 [==============================] - 3s 6ms/step - loss: 0.1580 - accuracy: 0.9536 - val_loss: 0.1146 - val_accuracy: 0.9647\n",
            "Epoch 5/5\n",
            "480/480 [==============================] - 3s 7ms/step - loss: 0.1358 - accuracy: 0.9589 - val_loss: 0.1019 - val_accuracy: 0.9692\n"
          ]
        }
      ]
    },
    {
      "cell_type": "code",
      "source": [
        "model.evaluate(x_test,y_test)"
      ],
      "metadata": {
        "colab": {
          "base_uri": "https://localhost:8080/"
        },
        "id": "EQhhqwg3Qbg9",
        "outputId": "ecb94ad4-49c5-474c-a2aa-fee7994967d6"
      },
      "execution_count": 17,
      "outputs": [
        {
          "output_type": "stream",
          "name": "stdout",
          "text": [
            "313/313 [==============================] - 1s 3ms/step - loss: 0.0987 - accuracy: 0.9716\n"
          ]
        },
        {
          "output_type": "execute_result",
          "data": {
            "text/plain": [
              "[0.09870696067810059, 0.9715999960899353]"
            ]
          },
          "metadata": {},
          "execution_count": 17
        }
      ]
    },
    {
      "cell_type": "code",
      "source": [
        "# 컬러이미지\n",
        "(x_train,y_train),(x_test,y_test) =  datasets.cifar10.load_data()"
      ],
      "metadata": {
        "colab": {
          "base_uri": "https://localhost:8080/"
        },
        "id": "YEXiT4MFQnvt",
        "outputId": "eb5801db-edc2-4769-de7b-05af8a53e6ef"
      },
      "execution_count": 19,
      "outputs": [
        {
          "output_type": "stream",
          "name": "stdout",
          "text": [
            "Downloading data from https://www.cs.toronto.edu/~kriz/cifar-10-python.tar.gz\n",
            "170498071/170498071 [==============================] - 2s 0us/step\n"
          ]
        }
      ]
    },
    {
      "cell_type": "code",
      "source": [
        "x_train.shape"
      ],
      "metadata": {
        "colab": {
          "base_uri": "https://localhost:8080/"
        },
        "id": "qVu8ieZdTWzN",
        "outputId": "862c08d0-c667-491c-eab5-08a545b61161"
      },
      "execution_count": 20,
      "outputs": [
        {
          "output_type": "execute_result",
          "data": {
            "text/plain": [
              "(50000, 32, 32, 3)"
            ]
          },
          "metadata": {},
          "execution_count": 20
        }
      ]
    },
    {
      "cell_type": "code",
      "source": [
        "x_train = x_train.reshape(-1, 32*32*3) / 255.0\n",
        "x_test = x_test.reshape(-1, 32*32*3) / 255.0"
      ],
      "metadata": {
        "id": "xEZOYa8IS-s8"
      },
      "execution_count": 21,
      "outputs": []
    },
    {
      "cell_type": "code",
      "source": [
        "y_train = utils.to_categorical(y_train)\n",
        "y_test = utils.to_categorical(y_test)"
      ],
      "metadata": {
        "id": "aVY7IlGDTezk"
      },
      "execution_count": 22,
      "outputs": []
    },
    {
      "cell_type": "code",
      "source": [
        "model = DNN(x_train.shape[1], nh_l,nout)\n",
        "model.fit(x_train,y_train,epochs=10,batch_size=100,validation_split=0.2)"
      ],
      "metadata": {
        "colab": {
          "base_uri": "https://localhost:8080/"
        },
        "id": "9c4BBeqZTs5z",
        "outputId": "95cb7660-75ff-421b-dd74-baa11d60e751"
      },
      "execution_count": 23,
      "outputs": [
        {
          "output_type": "stream",
          "name": "stdout",
          "text": [
            "Epoch 1/10\n",
            "400/400 [==============================] - 6s 13ms/step - loss: 2.0998 - accuracy: 0.2055 - val_loss: 1.9373 - val_accuracy: 0.2958\n",
            "Epoch 2/10\n",
            "400/400 [==============================] - 6s 14ms/step - loss: 1.9789 - accuracy: 0.2592 - val_loss: 1.8937 - val_accuracy: 0.3234\n",
            "Epoch 3/10\n",
            "400/400 [==============================] - 4s 11ms/step - loss: 1.9255 - accuracy: 0.2843 - val_loss: 1.8592 - val_accuracy: 0.3314\n",
            "Epoch 4/10\n",
            "400/400 [==============================] - 5s 12ms/step - loss: 1.8982 - accuracy: 0.2935 - val_loss: 1.8208 - val_accuracy: 0.3406\n",
            "Epoch 5/10\n",
            "400/400 [==============================] - 6s 14ms/step - loss: 1.8796 - accuracy: 0.3048 - val_loss: 1.7975 - val_accuracy: 0.3608\n",
            "Epoch 6/10\n",
            "400/400 [==============================] - 5s 12ms/step - loss: 1.8655 - accuracy: 0.3114 - val_loss: 1.8054 - val_accuracy: 0.3477\n",
            "Epoch 7/10\n",
            "400/400 [==============================] - 6s 14ms/step - loss: 1.8518 - accuracy: 0.3194 - val_loss: 1.7993 - val_accuracy: 0.3555\n",
            "Epoch 8/10\n",
            "400/400 [==============================] - 5s 12ms/step - loss: 1.8434 - accuracy: 0.3198 - val_loss: 1.7807 - val_accuracy: 0.3666\n",
            "Epoch 9/10\n",
            "400/400 [==============================] - 4s 11ms/step - loss: 1.8369 - accuracy: 0.3268 - val_loss: 1.7776 - val_accuracy: 0.3683\n",
            "Epoch 10/10\n",
            "400/400 [==============================] - 6s 15ms/step - loss: 1.8419 - accuracy: 0.3254 - val_loss: 1.7695 - val_accuracy: 0.3682\n"
          ]
        },
        {
          "output_type": "execute_result",
          "data": {
            "text/plain": [
              "<keras.callbacks.History at 0x7f691b17b610>"
            ]
          },
          "metadata": {},
          "execution_count": 23
        }
      ]
    },
    {
      "cell_type": "code",
      "source": [
        "model.evaluate(x_test,y_test)"
      ],
      "metadata": {
        "colab": {
          "base_uri": "https://localhost:8080/"
        },
        "id": "Bl-llIW-UTWr",
        "outputId": "75b6f468-b46c-4c57-a536-03978d9d2c85"
      },
      "execution_count": 24,
      "outputs": [
        {
          "output_type": "stream",
          "name": "stdout",
          "text": [
            "313/313 [==============================] - 2s 4ms/step - loss: 1.7571 - accuracy: 0.3743\n"
          ]
        },
        {
          "output_type": "execute_result",
          "data": {
            "text/plain": [
              "[1.7570849657058716, 0.3743000030517578]"
            ]
          },
          "metadata": {},
          "execution_count": 24
        }
      ]
    },
    {
      "cell_type": "code",
      "source": [],
      "metadata": {
        "id": "sWBbMJeXUpMb"
      },
      "execution_count": null,
      "outputs": []
    }
  ]
}