{
  "nbformat": 4,
  "nbformat_minor": 0,
  "metadata": {
    "colab": {
      "provenance": [],
      "gpuType": "T4"
    },
    "kernelspec": {
      "name": "python3",
      "display_name": "Python 3"
    },
    "language_info": {
      "name": "python"
    },
    "accelerator": "GPU",
    "gpuClass": "standard"
  },
  "cells": [
    {
      "cell_type": "code",
      "execution_count": 24,
      "metadata": {
        "id": "luDp5QaUUPfe"
      },
      "outputs": [],
      "source": [
        "import numpy as np\n",
        "import pandas as pd\n",
        "import seaborn as sns\n",
        "import matplotlib.pyplot as pyplot\n",
        "from copy import deepcopy\n",
        "from sklearn.preprocessing import StandardScaler\n",
        "from sklearn.datasets import load_breast_cancer"
      ]
    },
    {
      "cell_type": "code",
      "source": [
        "cancer = load_breast_cancer()\n",
        "df = pd.DataFrame(cancer.data, columns=cancer.feature_names)\n",
        "df['class'] = cancer.target"
      ],
      "metadata": {
        "id": "SZjlzAiJUtTc"
      },
      "execution_count": 25,
      "outputs": []
    },
    {
      "cell_type": "code",
      "source": [
        "# 데이터 셋 분할\n",
        "import torch\n",
        "import torch.nn as nn\n",
        "import torch.nn.functional as F\n",
        "import torch.optim as optim"
      ],
      "metadata": {
        "id": "pmO1HejcU99D"
      },
      "execution_count": 26,
      "outputs": []
    },
    {
      "cell_type": "code",
      "source": [
        "data = torch.from_numpy(df.values).float()\n",
        "x = data[:,:-1]\n",
        "y = data[:,-1:]\n",
        "x.shape, y.shape"
      ],
      "metadata": {
        "colab": {
          "base_uri": "https://localhost:8080/"
        },
        "id": "gVZKmuqPVJgi",
        "outputId": "e364367f-b840-41d3-ebea-f1afc47fb343"
      },
      "execution_count": 27,
      "outputs": [
        {
          "output_type": "execute_result",
          "data": {
            "text/plain": [
              "(torch.Size([569, 30]), torch.Size([569, 1]))"
            ]
          },
          "metadata": {},
          "execution_count": 27
        }
      ]
    },
    {
      "cell_type": "code",
      "source": [
        "rations = [.6, .2, .2]\n",
        "train_cnt = int(data.size(0)*rations[0])\n",
        "valid_cnt = int(data.size(0)*rations[1])\n",
        "test_cnt = data.size(0) - train_cnt - valid_cnt\n",
        "cnts = [train_cnt, valid_cnt, test_cnt]\n",
        "cnts"
      ],
      "metadata": {
        "colab": {
          "base_uri": "https://localhost:8080/"
        },
        "id": "7CDSKaWNVbUK",
        "outputId": "ecff12d1-d872-40f0-e03b-3c7843e3fa3d"
      },
      "execution_count": 28,
      "outputs": [
        {
          "output_type": "execute_result",
          "data": {
            "text/plain": [
              "[341, 113, 115]"
            ]
          },
          "metadata": {},
          "execution_count": 28
        }
      ]
    },
    {
      "cell_type": "code",
      "source": [
        "# 랜덤하게 섞어서 나눠준다\n",
        "idx = torch.randperm(data.size(0))\n",
        "x = torch.index_select(x, dim=0, index=idx)\n",
        "y = torch.index_select(y, dim=0, index=idx)\n",
        "x = x.split(cnts, dim=0)\n",
        "y = y.split(cnts, dim=0)"
      ],
      "metadata": {
        "id": "pyKGBWxaV2cy"
      },
      "execution_count": 29,
      "outputs": []
    },
    {
      "cell_type": "code",
      "source": [
        "x[0].size(), y[0].size()"
      ],
      "metadata": {
        "colab": {
          "base_uri": "https://localhost:8080/"
        },
        "id": "jdL7h85YWbgD",
        "outputId": "048c6ce5-2a4e-492c-c8c5-f78bf50ae7bb"
      },
      "execution_count": 30,
      "outputs": [
        {
          "output_type": "execute_result",
          "data": {
            "text/plain": [
              "(torch.Size([341, 30]), torch.Size([341, 1]))"
            ]
          },
          "metadata": {},
          "execution_count": 30
        }
      ]
    },
    {
      "cell_type": "code",
      "source": [
        "# 학습데이터를 기준으로 표준 스케일링을 수행하고 나머지 데이터셋에 적용\n",
        "scaler = StandardScaler()\n",
        "scaler.fit(x[0].numpy())\n",
        "\n",
        "x=[ torch.from_numpy(scaler.transform(x[0].numpy())).float(),\n",
        "    torch.from_numpy(scaler.transform(x[1].numpy())).float(),\n",
        "    torch.from_numpy(scaler.transform(x[2].numpy())).float()\n",
        "]"
      ],
      "metadata": {
        "id": "ZOe721iMWnGw"
      },
      "execution_count": 31,
      "outputs": []
    },
    {
      "cell_type": "code",
      "source": [
        "class MyModel(nn.Module):\n",
        "  def __init__(self, input_dim, output_dim):\n",
        "    super(MyModel,self).__init__()\n",
        "    self.n1 = nn.Linear(input_dim, 25)\n",
        "    self.n2 = nn.Linear(25, 20)\n",
        "    self.n3 = nn.Linear(20, 15)\n",
        "    self.n4 = nn.Linear(15, 10)\n",
        "    self.n5 = nn.Linear(10, 5)\n",
        "    self.n6 = nn.Linear(5, output_dim)\n",
        "    self.lk = nn.LeakyReLU()\n",
        "    self.sig = nn.Sigmoid()\n",
        "  def forward(self, x):\n",
        "    x = self.lk(self.n1(x))\n",
        "    x = self.lk(self.n2(x))\n",
        "    x = self.lk(self.n3(x))\n",
        "    x = self.lk(self.n4(x))\n",
        "    x = self.lk(self.n5(x))\n",
        "    x = self.sig(self.n6(x))\n",
        "    return x"
      ],
      "metadata": {
        "id": "PKIYtMoqXRhs"
      },
      "execution_count": 32,
      "outputs": []
    },
    {
      "cell_type": "code",
      "source": [
        "model = MyModel(x[0].size(-1), y[0].size(-1))\n",
        "op = optim.Adam(model.parameters(), lr = 1e-2)"
      ],
      "metadata": {
        "id": "80N9y5a1cMBY"
      },
      "execution_count": 33,
      "outputs": []
    },
    {
      "cell_type": "code",
      "source": [
        "n_epochs = 10000\n",
        "batch_size = 256\n",
        "lowest_loss = np.inf\n",
        "best_model = None\n",
        "lowest_epoch = np.inf\n",
        "train_history,valid_history = [],[]\n",
        "eary_stop = 100"
      ],
      "metadata": {
        "id": "H8bp_XpObtAi"
      },
      "execution_count": 34,
      "outputs": []
    },
    {
      "cell_type": "code",
      "source": [
        "for i in range(n_epochs):\n",
        "  # 학습을 위해서 데이터를 섞는다.\n",
        "  indices = torch.randperm(x[0].size(0))\n",
        "  x_ = torch.index_select(x[0], dim=0, index=indices)\n",
        "  y_ = torch.index_select(y[0], dim=0, index=indices)\n",
        "\n",
        "  x_ = x_.split(batch_size, dim=0)\n",
        "  y_ = y_.split(batch_size, dim=0)\n",
        "\n",
        "  train_loss, valid_loss = 0,0\n",
        "  y_hat = []\n",
        "\n",
        "  for x_i, y_i in zip(x_, y_):\n",
        "    y_hat_i = model(x_i)\n",
        "    loss = F.binary_cross_entropy(y_hat_i, y_i)\n",
        "    op.zero_grad()\n",
        "    loss.backward()\n",
        "    op.step()\n",
        "    train_loss += float(loss)\n",
        "  train_loss = train_loss / len(x_)\n",
        "\n",
        "  # 배치단위의 학습이 끝났으므로 이때 만들어진 모델을 가지고 \n",
        "  # valid데이터에 적용해서 값을 측정\n",
        "  # 이때 평가용이기 때문에.. 학습이 되면 안됨.. 즉... 가중치 업데이트 안함- 미분x \n",
        "  # 역전파가 없으므로 backward가 없음\n",
        "  with torch.no_grad():\n",
        "    x_ = x[1].split(batch_size,dim=0)\n",
        "    y_ = y[1].split(batch_size,dim=0)\n",
        "    valid_loss = 0\n",
        "    for x_i, y_i in zip(x_, y_):\n",
        "      y_hat_i = model(x_i)\n",
        "      loss = F.binary_cross_entropy(y_hat_i, y_i)\n",
        "      valid_loss += loss\n",
        "      y_hat += [y_hat_i]\n",
        "  valid_loss = valid_loss / len(x_)\n",
        "\n",
        "  train_history += [train_loss]\n",
        "  valid_history += [valid_loss]\n",
        "\n",
        "  if i % 100 ==0:\n",
        "    print(f\"epoch:{i+1} train loss:{train_loss} valid loss:{valid_loss} lowest loss:{lowest_loss}\")\n",
        "  \n",
        "  if valid_loss < lowest_loss:\n",
        "    lowest_loss = valid_loss\n",
        "    lowest_epoch = i\n",
        "    best_model = deepcopy(model.state_dict())\n",
        "  # elif eary_stop > 0 and lowest_epoch + eary_stop < i+1:\n",
        "  #   print(\"no improvement\")\n",
        "\n",
        "print(f\"best validation loss from epoch {lowest_epoch+1}  loss:{lowest_loss}\")"
      ],
      "metadata": {
        "colab": {
          "base_uri": "https://localhost:8080/"
        },
        "id": "5qw0wPagb_br",
        "outputId": "1551db40-fe18-4346-8620-1061d4e2aef9"
      },
      "execution_count": 35,
      "outputs": [
        {
          "output_type": "stream",
          "name": "stdout",
          "text": [
            "epoch:1 train loss:0.6946715116500854 valid loss:0.6806467771530151 lowest loss:inf\n",
            "epoch:101 train loss:5.482233427756e-05 valid loss:0.1305287480354309 lowest loss:0.04450720548629761\n",
            "epoch:201 train loss:9.72217412709142e-06 valid loss:0.14765672385692596 lowest loss:0.04450720548629761\n",
            "epoch:301 train loss:4.492848347581457e-06 valid loss:0.8928232789039612 lowest loss:0.04450720548629761\n",
            "epoch:401 train loss:2.1642902652274643e-06 valid loss:0.8939434289932251 lowest loss:0.04450720548629761\n",
            "epoch:501 train loss:1.1953866589919926e-06 valid loss:0.8955878019332886 lowest loss:0.04450720548629761\n",
            "epoch:601 train loss:7.956794831898151e-07 valid loss:0.8962500691413879 lowest loss:0.04450720548629761\n",
            "epoch:701 train loss:8.34504930935509e-07 valid loss:0.8968852758407593 lowest loss:0.04450720548629761\n",
            "epoch:801 train loss:5.428987606137525e-07 valid loss:0.8980541825294495 lowest loss:0.04450720548629761\n",
            "epoch:901 train loss:3.1718018789206326e-07 valid loss:0.8987599015235901 lowest loss:0.04450720548629761\n",
            "epoch:1001 train loss:2.0668585420935415e-07 valid loss:0.8998361229896545 lowest loss:0.04450720548629761\n",
            "epoch:1101 train loss:1.804006046768336e-07 valid loss:0.9006118178367615 lowest loss:0.04450720548629761\n",
            "epoch:1201 train loss:2.842685233872544e-07 valid loss:0.9012004733085632 lowest loss:0.04450720548629761\n",
            "epoch:1301 train loss:1.7436941135429151e-07 valid loss:0.9019498825073242 lowest loss:0.04450720548629761\n",
            "epoch:1401 train loss:1.6093515142756587e-07 valid loss:0.9025197625160217 lowest loss:0.04450720548629761\n",
            "epoch:1501 train loss:9.04026116188561e-08 valid loss:0.9027833342552185 lowest loss:0.04450720548629761\n",
            "epoch:1601 train loss:6.210666736450321e-08 valid loss:0.9032679796218872 lowest loss:0.04450720548629761\n",
            "epoch:1701 train loss:6.412161468460909e-08 valid loss:0.9035530686378479 lowest loss:0.04450720548629761\n",
            "epoch:1801 train loss:5.73667549019774e-08 valid loss:0.9045777320861816 lowest loss:0.04450720548629761\n",
            "epoch:1901 train loss:5.796188418116799e-08 valid loss:0.9050852656364441 lowest loss:0.04450720548629761\n",
            "epoch:2001 train loss:4.351392490775652e-08 valid loss:0.905524730682373 lowest loss:0.04450720548629761\n",
            "epoch:2101 train loss:4.222939864462205e-08 valid loss:0.9060685038566589 lowest loss:0.04450720548629761\n",
            "epoch:2201 train loss:2.7266596092090367e-08 valid loss:0.9064237475395203 lowest loss:0.04450720548629761\n",
            "epoch:2301 train loss:2.0069685691126438e-08 valid loss:0.9071343541145325 lowest loss:0.04450720548629761\n",
            "epoch:2401 train loss:1.999739085434271e-08 valid loss:0.9075145721435547 lowest loss:0.04450720548629761\n",
            "epoch:2501 train loss:2.3286233385988453e-08 valid loss:0.908003032207489 lowest loss:0.04450720548629761\n",
            "epoch:2601 train loss:2.354952011174305e-08 valid loss:0.9083776473999023 lowest loss:0.04450720548629761\n",
            "epoch:2701 train loss:1.2921072212179752e-08 valid loss:0.9090002775192261 lowest loss:0.04450720548629761\n",
            "epoch:2801 train loss:1.5251759855061664e-08 valid loss:0.9092592000961304 lowest loss:0.04450720548629761\n",
            "epoch:2901 train loss:1.1647647291113117e-08 valid loss:0.909934937953949 lowest loss:0.04450720548629761\n",
            "epoch:3001 train loss:1.3574654289527643e-08 valid loss:0.9100600481033325 lowest loss:0.04450720548629761\n",
            "epoch:3101 train loss:7.963903758678725e-09 valid loss:0.9104617834091187 lowest loss:0.04450720548629761\n",
            "epoch:3201 train loss:8.734768686124994e-09 valid loss:0.9104771614074707 lowest loss:0.04450720548629761\n",
            "epoch:3301 train loss:6.735570545757241e-09 valid loss:0.911308228969574 lowest loss:0.04450720548629761\n",
            "epoch:3401 train loss:6.389635043291264e-09 valid loss:0.9113130569458008 lowest loss:0.04450720548629761\n",
            "epoch:3501 train loss:5.592113661023745e-09 valid loss:0.911807119846344 lowest loss:0.04450720548629761\n",
            "epoch:3601 train loss:4.6291626087935356e-09 valid loss:0.9122208952903748 lowest loss:0.04450720548629761\n",
            "epoch:3701 train loss:3.3658693054938738e-09 valid loss:0.913051962852478 lowest loss:0.04450720548629761\n",
            "epoch:3801 train loss:3.841798212889103e-09 valid loss:0.9128344655036926 lowest loss:0.04450720548629761\n",
            "epoch:3901 train loss:4.56354398714609e-09 valid loss:0.9127947092056274 lowest loss:0.04450720548629761\n",
            "epoch:4001 train loss:2.0036832193426335e-09 valid loss:0.9126782417297363 lowest loss:0.04450720548629761\n",
            "epoch:4101 train loss:3.217139554756443e-09 valid loss:0.9125484228134155 lowest loss:0.04450720548629761\n",
            "epoch:4201 train loss:1.3004021093683325e-09 valid loss:0.9122837781906128 lowest loss:0.04450720548629761\n",
            "epoch:4301 train loss:1.3742849774844856e-09 valid loss:0.9120244979858398 lowest loss:0.04450720548629761\n",
            "epoch:4401 train loss:1.2486121650501225e-09 valid loss:0.9124202132225037 lowest loss:0.04450720548629761\n",
            "epoch:4501 train loss:1.2030606511004294e-09 valid loss:0.9128409028053284 lowest loss:0.04450720548629761\n",
            "epoch:4601 train loss:1.8060316020473977e-09 valid loss:0.9132990837097168 lowest loss:0.04450720548629761\n",
            "epoch:4701 train loss:1.5328961988636536e-09 valid loss:0.9134145975112915 lowest loss:0.04450720548629761\n",
            "epoch:4801 train loss:1.0025343333275316e-09 valid loss:0.9127435684204102 lowest loss:0.04450720548629761\n",
            "epoch:4901 train loss:5.686584397812666e-10 valid loss:0.9122314453125 lowest loss:0.04450720548629761\n",
            "epoch:5001 train loss:4.6146760913391704e-10 valid loss:0.9117343425750732 lowest loss:0.04450720548629761\n",
            "epoch:5101 train loss:7.34350795450478e-10 valid loss:0.9113017320632935 lowest loss:0.04450720548629761\n",
            "epoch:5201 train loss:4.758852548136794e-10 valid loss:0.9110535979270935 lowest loss:0.04450720548629761\n",
            "epoch:5301 train loss:4.2271204592214673e-10 valid loss:0.9109010100364685 lowest loss:0.04450720548629761\n",
            "epoch:5401 train loss:4.811974430030119e-10 valid loss:0.9110022783279419 lowest loss:0.04450720548629761\n",
            "epoch:5501 train loss:2.0938416972482443e-10 valid loss:0.9110226631164551 lowest loss:0.04450720548629761\n",
            "epoch:5601 train loss:2.0428923830362322e-10 valid loss:0.9102323651313782 lowest loss:0.04450720548629761\n",
            "epoch:5701 train loss:1.369483901281221e-10 valid loss:0.9093755483627319 lowest loss:0.04450720548629761\n",
            "epoch:5801 train loss:8.997183401950049e-11 valid loss:0.9087679982185364 lowest loss:0.04450720548629761\n",
            "epoch:5901 train loss:1.9257508608594431e-10 valid loss:0.9080086350440979 lowest loss:0.04450720548629761\n",
            "epoch:6001 train loss:7.171474769281441e-11 valid loss:0.9072616696357727 lowest loss:0.04450720548629761\n",
            "epoch:6101 train loss:6.569355563007528e-11 valid loss:0.9066910147666931 lowest loss:0.04450720548629761\n",
            "epoch:6201 train loss:1.0182140200432066e-10 valid loss:0.9059368371963501 lowest loss:0.04450720548629761\n",
            "epoch:6301 train loss:8.912973831209925e-11 valid loss:0.905284583568573 lowest loss:0.04450720548629761\n",
            "epoch:6401 train loss:8.676188240075433e-11 valid loss:0.904690146446228 lowest loss:0.04450720548629761\n",
            "epoch:6501 train loss:9.285903990186029e-11 valid loss:0.90422123670578 lowest loss:0.04450720548629761\n",
            "epoch:6601 train loss:2.9109857753450985e-10 valid loss:0.903608500957489 lowest loss:0.04450720548629761\n",
            "epoch:6701 train loss:3.79538297491655e-11 valid loss:0.9030554890632629 lowest loss:0.04450720548629761\n",
            "epoch:6801 train loss:5.776891985609378e-11 valid loss:0.902454674243927 lowest loss:0.04450720548629761\n",
            "epoch:6901 train loss:3.2076638003739055e-11 valid loss:0.9020947217941284 lowest loss:0.04450720548629761\n",
            "epoch:7001 train loss:4.056667848861828e-11 valid loss:0.9016729593276978 lowest loss:0.04450720548629761\n",
            "epoch:7101 train loss:2.5261326992882804e-11 valid loss:0.9011933207511902 lowest loss:0.04450720548629761\n",
            "epoch:7201 train loss:2.806375444530662e-11 valid loss:0.9010196328163147 lowest loss:0.04450720548629761\n",
            "epoch:7301 train loss:2.9077350770234656e-11 valid loss:0.900993824005127 lowest loss:0.04450720548629761\n",
            "epoch:7401 train loss:3.2271271592498874e-11 valid loss:0.8996504545211792 lowest loss:0.04450720548629761\n",
            "epoch:7501 train loss:2.089008870401199e-11 valid loss:0.8996728658676147 lowest loss:0.04450720548629761\n",
            "epoch:7601 train loss:1.64963752293662e-11 valid loss:0.8990963697433472 lowest loss:0.04450720548629761\n",
            "epoch:7701 train loss:1.516619056902979e-11 valid loss:0.8985373377799988 lowest loss:0.04450720548629761\n",
            "epoch:7801 train loss:1.4101046068651368e-11 valid loss:0.8980180025100708 lowest loss:0.04450720548629761\n",
            "epoch:7901 train loss:1.3534746023599609e-11 valid loss:0.8982211947441101 lowest loss:0.04450720548629761\n",
            "epoch:8001 train loss:1.3998428284589526e-11 valid loss:0.8974769115447998 lowest loss:0.04450720548629761\n",
            "epoch:8101 train loss:1.2491118816376767e-11 valid loss:0.8968278765678406 lowest loss:0.04450720548629761\n",
            "epoch:8201 train loss:1.1979485545904334e-11 valid loss:0.8969350457191467 lowest loss:0.04450720548629761\n",
            "epoch:8301 train loss:1.560751961698914e-11 valid loss:0.8984994292259216 lowest loss:0.04450720548629761\n",
            "epoch:8401 train loss:8.948925368096328e-12 valid loss:0.896662175655365 lowest loss:0.04450720548629761\n",
            "epoch:8501 train loss:7.876867560985268e-12 valid loss:0.8959465622901917 lowest loss:0.04450720548629761\n",
            "epoch:8601 train loss:7.61662933244922e-12 valid loss:0.8950941562652588 lowest loss:0.04450720548629761\n",
            "epoch:8701 train loss:6.9728262877197245e-12 valid loss:0.8967663049697876 lowest loss:0.04450720548629761\n",
            "epoch:8801 train loss:6.020147488156047e-12 valid loss:0.8951090574264526 lowest loss:0.04450720548629761\n",
            "epoch:8901 train loss:6.697481978734654e-12 valid loss:0.8936717510223389 lowest loss:0.04450720548629761\n",
            "epoch:9001 train loss:4.944686912526641e-12 valid loss:0.8940087556838989 lowest loss:0.04450720548629761\n",
            "epoch:9101 train loss:6.378167742224217e-12 valid loss:0.8927245140075684 lowest loss:0.04450720548629761\n",
            "epoch:9201 train loss:4.167861260111205e-12 valid loss:0.8932250738143921 lowest loss:0.04450720548629761\n",
            "epoch:9301 train loss:5.56543569910084e-12 valid loss:0.891999363899231 lowest loss:0.04450720548629761\n",
            "epoch:9401 train loss:4.451446698229555e-12 valid loss:0.8955904245376587 lowest loss:0.04450720548629761\n",
            "epoch:9501 train loss:5.036728521236322e-12 valid loss:0.893421471118927 lowest loss:0.04450720548629761\n",
            "epoch:9601 train loss:3.674227480425507e-12 valid loss:0.8921073079109192 lowest loss:0.04450720548629761\n",
            "epoch:9701 train loss:2.6334822994175666e-12 valid loss:0.8917109966278076 lowest loss:0.04450720548629761\n",
            "epoch:9801 train loss:1.8568130980351805e-12 valid loss:0.8908019661903381 lowest loss:0.04450720548629761\n",
            "epoch:9901 train loss:4.523486809735952e-12 valid loss:0.8901102542877197 lowest loss:0.04450720548629761\n",
            "best validation loss from epoch 42  loss:0.04450720548629761\n"
          ]
        }
      ]
    },
    {
      "cell_type": "code",
      "source": [
        "# 손실곡선 확인\n",
        "import matplotlib.pyplot as plt\n",
        "import numpy as np\n",
        "\n",
        "plt.figure(figsize = (20,10) )\n",
        "plt.grid(True)\n",
        "plt.title('Train / Valid loss History')\n",
        "plt.plot(list(range(2,100)) , train_history[2:100] , label = 'train')\n",
        "plt.plot(list(range(2,100)) , valid_history[2:100] , label = 'valid')\n",
        "plt.legend()\n",
        "plt.show()"
      ],
      "metadata": {
        "colab": {
          "base_uri": "https://localhost:8080/",
          "height": 526
        },
        "id": "PiOMax-vd3Iy",
        "outputId": "7a9f2768-f064-46ad-8a00-0ab0692b0003"
      },
      "execution_count": 45,
      "outputs": [
        {
          "output_type": "display_data",
          "data": {
            "text/plain": [
              "<Figure size 2000x1000 with 1 Axes>"
            ],
            "image/png": "[encoded data removed]"
          },
          "metadata": {}
        }
      ]
    },
    {
      "cell_type": "code",
      "source": [
        "# 테스트 데이터를 통해 결과를 확인\n",
        "# 테스트 데이터로 확인\n",
        "model.load_state_dict(best_model)\n",
        "\n",
        "\n",
        "test_loss = 0\n",
        "y_hat = []\n",
        "with torch.no_grad():\n",
        "  x_ = x[2].split(batch_size, dim=0)\n",
        "  y_ = y[2].split(batch_size, dim=0)\n",
        "  for x_i, y_i in zip(x_,y_):\n",
        "    y_hat_i = model(x_i)\n",
        "    loss = F.binary_cross_entropy(y_hat_i, y_i)\n",
        "    test_loss += loss\n",
        "    y_hat += [y_hat_i]\n",
        "test_loss = test_loss / len(x_)\n",
        "y_hat = torch.cat(y_hat, dim=0)\n",
        "sorted_history = sorted(zip(train_history, valid_history), key = lambda x: x[1])\n",
        "print(f'Train loss : {sorted_history[0][0]:.4e}')\n",
        "print(f'Valid loss : {sorted_history[0][1]:.4e}')\n",
        "print(f'Test loss : {test_loss:.4e}')"
      ],
      "metadata": {
        "colab": {
          "base_uri": "https://localhost:8080/"
        },
        "id": "CGhhbB7teEqb",
        "outputId": "2c4eb327-8e2f-4fb7-d23f-da8014e4db17"
      },
      "execution_count": 46,
      "outputs": [
        {
          "output_type": "stream",
          "name": "stdout",
          "text": [
            "Train loss : 1.0701e-02\n",
            "Valid loss : 4.4507e-02\n",
            "Test loss : 8.7352e-01\n"
          ]
        }
      ]
    },
    {
      "cell_type": "code",
      "source": [
        "# 회귀가 아니라 정확도를 측정... sigmoid - > 0.5보다 크다 작다\n",
        "correct_cnt = (y[2] == (y_hat > .5)).sum()\n",
        "total_cnt = float(y[2].size(0))\n",
        "accuracy = correct_cnt / total_cnt\n",
        "print(f\"test accuracy : {accuracy:.4f}\")"
      ],
      "metadata": {
        "colab": {
          "base_uri": "https://localhost:8080/"
        },
        "id": "nyGrVavYgLkL",
        "outputId": "6dffb740-ff56-48ed-e327-5ab2f0778060"
      },
      "execution_count": 48,
      "outputs": [
        {
          "output_type": "stream",
          "name": "stdout",
          "text": [
            "test accuracy : 0.9913\n"
          ]
        }
      ]
    },
    {
      "cell_type": "code",
      "source": [
        "df = pd.DataFrame(torch.cat([y[2],y_hat ], dim=1).detach().numpy(), columns=['y','y_hat']  )\n",
        "sns.histplot(df, x='y_hat', hue='y', bins = 50, stat='probability')\n",
        "plt.show()"
      ],
      "metadata": {
        "colab": {
          "base_uri": "https://localhost:8080/",
          "height": 450
        },
        "id": "TTnbUvekhARS",
        "outputId": "b98d4f25-b968-44af-def6-7c8eada6f74b"
      },
      "execution_count": 49,
      "outputs": [
        {
          "output_type": "display_data",
          "data": {
            "text/plain": [
              "<Figure size 640x480 with 1 Axes>"
            ],
            "image/png": "[encoded data removed]"
          },
          "metadata": {}
        }
      ]
    },
    {
      "cell_type": "code",
      "source": [
        "# 다중 분류  - 이미지\n",
        "from torchvision import datasets,  transforms\n",
        "import pandas as pd\n",
        "import numpy as np\n",
        "import torch\n",
        "import torch.nn as nn\n",
        "import torch.nn.functional as F\n",
        "import torch.optim as optim\n",
        "from copy import deepcopy\n"
      ],
      "metadata": {
        "id": "crxMPWpphwK0"
      },
      "execution_count": 24,
      "outputs": []
    },
    {
      "cell_type": "code",
      "source": [
        "train = datasets.MNIST(\n",
        "    './data', train=True, download=True,\n",
        "    transform=transforms.Compose([\n",
        "        transforms.ToTensor()\n",
        "    ])\n",
        ")\n",
        "test = datasets.MNIST(\n",
        "    './data', train=False, download=True,\n",
        "    transform=transforms.Compose([\n",
        "        transforms.ToTensor()\n",
        "    ])\n",
        ")"
      ],
      "metadata": {
        "id": "f3IwBue_ixQz"
      },
      "execution_count": 25,
      "outputs": []
    },
    {
      "cell_type": "code",
      "source": [
        "def plot(x):\n",
        "  img = (np.array(x.detach().cpu(), dtype='float')).reshape(28,28)\n",
        "  plt.imshow(img,cmap='gray')\n",
        "  plt.axis('off')\n",
        "  plt.show()"
      ],
      "metadata": {
        "id": "hUmx_wvGjXmC"
      },
      "execution_count": 26,
      "outputs": []
    },
    {
      "cell_type": "code",
      "source": [
        "x = train.data.float() / 255\n",
        "y = train.targets\n",
        "x = x.view(x.size(0),-1)\n",
        "x.size(), y.size()"
      ],
      "metadata": {
        "colab": {
          "base_uri": "https://localhost:8080/"
        },
        "id": "rb4foSdfj_AF",
        "outputId": "8b45d452-00da-4f01-ab15-de9e1ef0f875"
      },
      "execution_count": 27,
      "outputs": [
        {
          "output_type": "execute_result",
          "data": {
            "text/plain": [
              "(torch.Size([60000, 784]), torch.Size([60000]))"
            ]
          },
          "metadata": {},
          "execution_count": 27
        }
      ]
    },
    {
      "cell_type": "code",
      "source": [
        "# 딥러닝 모델을 위해서 입력과 출력의 크기를 자동으로 계산\n",
        "input_size = x.size(-1)\n",
        "output_size = int(max(y))+1"
      ],
      "metadata": {
        "id": "hKlr4XJrkevi"
      },
      "execution_count": 28,
      "outputs": []
    },
    {
      "cell_type": "code",
      "source": [
        "input_size, output_size"
      ],
      "metadata": {
        "colab": {
          "base_uri": "https://localhost:8080/"
        },
        "id": "515H1eFFk3rh",
        "outputId": "986662f9-3441-4883-fb24-e183bac5f0c8"
      },
      "execution_count": 29,
      "outputs": [
        {
          "output_type": "execute_result",
          "data": {
            "text/plain": [
              "(784, 10)"
            ]
          },
          "metadata": {},
          "execution_count": 29
        }
      ]
    },
    {
      "cell_type": "code",
      "source": [
        "type(x)"
      ],
      "metadata": {
        "colab": {
          "base_uri": "https://localhost:8080/"
        },
        "id": "Y15sxnLLubNs",
        "outputId": "d988ff31-16d2-45e2-a716-0255a4b36fa8"
      },
      "execution_count": 30,
      "outputs": [
        {
          "output_type": "execute_result",
          "data": {
            "text/plain": [
              "torch.Tensor"
            ]
          },
          "metadata": {},
          "execution_count": 30
        }
      ]
    },
    {
      "cell_type": "code",
      "source": [
        "# 8:2로 학습과 검증\n",
        "rations = [.8, .2]\n",
        "train_cnt = int(x.size(0)*rations[0])\n",
        "valid_cnt = int(x.size(0)*rations[1])\n",
        "test_cnt = len(test.data)\n",
        "cnts = [train_cnt, valid_cnt]\n",
        "print(cnts)\n",
        "# idx = torch.randperm(x.size(0))\n",
        "# x = torch.index_select(x, dim=0 ,index=idx)\n",
        "# y = torch.index_select(y, dim=0 ,index=idx)\n",
        "\n",
        "x = list(x.split(cnts, dim=0))\n",
        "y = list(y.split(cnts, dim=0))\n",
        "\n",
        "x +=[(test.data.float() / 255).view(test_cnt,-1)]\n",
        "y += [test.targets]\n",
        "\n",
        "for x_i, y_i in zip(x,y):\n",
        "  print(x_i.size(), y_i.size())"
      ],
      "metadata": {
        "colab": {
          "base_uri": "https://localhost:8080/"
        },
        "id": "8tAshF9olDGj",
        "outputId": "f4299bdf-fdae-4d14-8123-933c3f4300af"
      },
      "execution_count": 31,
      "outputs": [
        {
          "output_type": "stream",
          "name": "stdout",
          "text": [
            "[48000, 12000]\n",
            "torch.Size([48000, 784]) torch.Size([48000])\n",
            "torch.Size([12000, 784]) torch.Size([12000])\n",
            "torch.Size([10000, 784]) torch.Size([10000])\n"
          ]
        }
      ]
    },
    {
      "cell_type": "code",
      "source": [
        "# 학습코드 구현\n",
        "class MyModel(nn.Module):  \n",
        "  def __init__(self, input_dim, output_dim):    \n",
        "    super(MyModel,self).__init__()\n",
        "    self.n1 = nn.Linear(input_dim, 500)\n",
        "    self.n2 = nn.Linear(500, 400)\n",
        "    self.n3 = nn.Linear(400, 300)\n",
        "    self.n4 = nn.Linear(300, 200)\n",
        "    self.n5 = nn.Linear(200, 100)\n",
        "    self.n6 = nn.Linear(100, 50)\n",
        "    self.n7 = nn.Linear(50, output_dim)\n",
        "    self.lk = nn.LeakyReLU()\n",
        "    self.softmax = nn.LogSoftmax(dim = -1)\n",
        "  def forward(self, x):\n",
        "    x = self.lk(self.n1(x))\n",
        "    x = self.lk(self.n2(x))\n",
        "    x = self.lk(self.n3(x))\n",
        "    x = self.lk(self.n4(x))\n",
        "    x = self.lk(self.n5(x))\n",
        "    x = self.lk(self.n6(x))\n",
        "    x = self.softmax(self.n7(x))\n",
        "    return x"
      ],
      "metadata": {
        "id": "PFuLfRhcmbyb"
      },
      "execution_count": 32,
      "outputs": []
    },
    {
      "cell_type": "code",
      "source": [
        "device = 'cuda' if torch.cuda.is_available() else 'cpu'\n",
        "x = [x_i.to(device) for x_i in x]\n",
        "y = [y_i.to(device) for y_i in y]\n",
        "\n",
        "model = MyModel(x[0].size(-1),y[0].size(-1))\n",
        "model = model.to(device)\n",
        "\n",
        "op = optim.Adam(model.parameters())\n",
        "crit = nn.NLLLoss()"
      ],
      "metadata": {
        "id": "6lt01FrBro-a"
      },
      "execution_count": 36,
      "outputs": []
    },
    {
      "cell_type": "code",
      "source": [
        "n_epochs = 10\n",
        "batch_size = 256\n",
        "lowest_loss = np.inf\n",
        "best_model = None\n",
        "lowest_epoch = np.inf\n",
        "train_history,valid_history = [],[]\n",
        "eary_stop = 100"
      ],
      "metadata": {
        "id": "ekEI-c3gsTRR"
      },
      "execution_count": 37,
      "outputs": []
    },
    {
      "cell_type": "code",
      "source": [
        "for i in range(n_epochs):\n",
        "  # 학습을 위해서 데이터를 섞는다.\n",
        "  indices = torch.randperm(x[0].size(0)).to(device)\n",
        "  x_ = torch.index_select(x[0], dim=0, index=indices)\n",
        "  y_ = torch.index_select(y[0], dim=0, index=indices)\n",
        "\n",
        "  x_ = x_.split(batch_size, dim=0)\n",
        "  y_ = y_.split(batch_size, dim=0)\n",
        "\n",
        "  train_loss, valid_loss = 0,0\n",
        "  y_hat = []\n",
        "\n",
        "  for x_i, y_i in zip(x_, y_):\n",
        "    y_hat_i = model(x_i)\n",
        "    loss = crit(y_hat_i, y_i.squeeze())\n",
        "    op.zero_grad()\n",
        "    loss.backward()\n",
        "    op.step()\n",
        "    train_loss += float(loss)\n",
        "  train_loss = train_loss / len(x_)\n",
        "\n",
        "  # 배치단위의 학습이 끝났으므로 이때 만들어진 모델을 가지고 \n",
        "  # valid데이터에 적용해서 값을 측정\n",
        "  # 이때 평가용이기 때문에.. 학습이 되면 안됨.. 즉... 가중치 업데이트 안함- 미분x \n",
        "  # 역전파가 없으므로 backward가 없음\n",
        "  with torch.no_grad():\n",
        "    x_ = x[1].split(batch_size,dim=0)\n",
        "    y_ = y[1].split(batch_size,dim=0)\n",
        "    valid_loss = 0\n",
        "    for x_i, y_i in zip(x_, y_):\n",
        "      y_hat_i = model(x_i)\n",
        "      loss = crit(y_hat_i, y_i.squeeze())\n",
        "      valid_loss += loss\n",
        "      y_hat += [y_hat_i]\n",
        "  valid_loss = valid_loss / len(x_)\n",
        "\n",
        "  train_history += [train_loss]\n",
        "  valid_history += [valid_loss]\n",
        "\n",
        "  if i % 100 ==0:\n",
        "    print(f\"epoch:{i+1} train loss:{train_loss} valid loss:{valid_loss} lowest loss:{lowest_loss}\")\n",
        "  \n",
        "  if valid_loss < lowest_loss:\n",
        "    lowest_loss = valid_loss\n",
        "    lowest_epoch = i\n",
        "    best_model = deepcopy(model.state_dict())\n",
        "  # elif eary_stop > 0 and lowest_epoch + eary_stop < i+1:\n",
        "  #   print(\"no improvement\")\n",
        "\n",
        "print(f\"best validation loss from epoch {lowest_epoch+1}  loss:{lowest_loss}\")"
      ],
      "metadata": {
        "colab": {
          "base_uri": "https://localhost:8080/"
        },
        "id": "eevIDbawsxLJ",
        "outputId": "230a5018-8f96-4bd2-aec2-3043fd80761b"
      },
      "execution_count": null,
      "outputs": [
        {
          "output_type": "stream",
          "name": "stdout",
          "text": [
            "epoch:1 train loss:2.2330506776083023 valid loss:0.3422965407371521 lowest loss:inf\n"
          ]
        }
      ]
    },
    {
      "cell_type": "code",
      "source": [
        "\n"
      ],
      "metadata": {
        "id": "NdhteIS5uybx"
      },
      "execution_count": null,
      "outputs": []
    },
    {
      "cell_type": "code",
      "source": [],
      "metadata": {
        "id": "YyFW2_Qcvtn8"
      },
      "execution_count": null,
      "outputs": []
    }
  ]
}