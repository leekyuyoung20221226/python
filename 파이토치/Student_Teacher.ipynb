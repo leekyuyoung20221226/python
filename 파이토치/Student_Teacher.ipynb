{
  "nbformat": 4,
  "nbformat_minor": 0,
  "metadata": {
    "colab": {
      "provenance": [],
      "gpuType": "T4"
    },
    "kernelspec": {
      "name": "python3",
      "display_name": "Python 3"
    },
    "language_info": {
      "name": "python"
    },
    "accelerator": "GPU",
    "gpuClass": "standard"
  },
  "cells": [
    {
      "cell_type": "code",
      "execution_count": null,
      "metadata": {
        "id": "ps-Q_o4wM1-r"
      },
      "outputs": [],
      "source": [
        "# 교사모델(학습) -> GAN(생성자) -> 학생모델과 생성자 학습"
      ]
    },
    {
      "cell_type": "code",
      "source": [
        "# 모델 경량화 : \n",
        "# 교사모델 : 가중치가 많다\n",
        "# 학생모델 : 가중치가 적다"
      ],
      "metadata": {
        "id": "5k7vpX4TNLG5"
      },
      "execution_count": null,
      "outputs": []
    },
    {
      "cell_type": "code",
      "source": [
        "import torch\n",
        "import torch.nn as nn\n",
        "from torchvision.datasets.cifar import CIFAR10\n",
        "from torchvision.transforms import Compose,ToTensor,RandomHorizontalFlip,RandomCrop,Normalize\n",
        "from torch.utils.data.dataloader import DataLoader\n",
        "from torchvision.models.resnet import resnet34, resnet18\n",
        "from torch.optim.adam import Adam"
      ],
      "metadata": {
        "id": "fNkqVCs5OOSG"
      },
      "execution_count": 1,
      "outputs": []
    },
    {
      "cell_type": "code",
      "source": [
        "tr = Compose([\n",
        "    RandomCrop((32,32), padding=4),\n",
        "    RandomHorizontalFlip(p=0.5),\n",
        "    ToTensor(),\n",
        "    Normalize(mean=(0.5,0.5,0.5),std=(0.5,0.5,0.5))\n",
        "])"
      ],
      "metadata": {
        "id": "QDuR3xYJOsgd"
      },
      "execution_count": 2,
      "outputs": []
    },
    {
      "cell_type": "code",
      "source": [
        "train_data = CIFAR10(root='./', train=True,download=True,transform=tr)\n",
        "test_data = CIFAR10(root='./', train=False,download=True,transform=tr)"
      ],
      "metadata": {
        "colab": {
          "base_uri": "https://localhost:8080/"
        },
        "id": "RP8jVEDTPboN",
        "outputId": "eee0d0c7-f9af-479d-e6ec-ac1d8f7a1fa7"
      },
      "execution_count": 3,
      "outputs": [
        {
          "output_type": "stream",
          "name": "stdout",
          "text": [
            "Downloading https://www.cs.toronto.edu/~kriz/cifar-10-python.tar.gz to ./cifar-10-python.tar.gz\n"
          ]
        },
        {
          "output_type": "stream",
          "name": "stderr",
          "text": [
            "100%|██████████| 170498071/170498071 [00:04<00:00, 35839694.07it/s]\n"
          ]
        },
        {
          "output_type": "stream",
          "name": "stdout",
          "text": [
            "Extracting ./cifar-10-python.tar.gz to ./\n",
            "Files already downloaded and verified\n"
          ]
        }
      ]
    },
    {
      "cell_type": "code",
      "source": [
        "train_loader = DataLoader(train_data,batch_size=64,shuffle=True)\n",
        "test_loader = DataLoader(test_data,batch_size=64,shuffle=False)\n",
        "device = 'cuda' if torch.cuda.is_available else 'cpu'"
      ],
      "metadata": {
        "id": "Sn4OlesJPqks"
      },
      "execution_count": 4,
      "outputs": []
    },
    {
      "cell_type": "code",
      "source": [
        "# 교사모델\n",
        "teacher = resnet34(pretrained=False, num_classes=10)\n",
        "teacher.to(device)\n",
        "lr=1e-3\n",
        "op = Adam(teacher.parameters(), lr=lr)"
      ],
      "metadata": {
        "colab": {
          "base_uri": "https://localhost:8080/"
        },
        "id": "H0O-EiHlQAXM",
        "outputId": "4b01b5b4-365c-4d12-deda-de8d52800dce"
      },
      "execution_count": 5,
      "outputs": [
        {
          "output_type": "stream",
          "name": "stderr",
          "text": [
            "/usr/local/lib/python3.9/dist-packages/torchvision/models/_utils.py:208: UserWarning: The parameter 'pretrained' is deprecated since 0.13 and may be removed in the future, please use 'weights' instead.\n",
            "  warnings.warn(\n",
            "/usr/local/lib/python3.9/dist-packages/torchvision/models/_utils.py:223: UserWarning: Arguments other than a weight enum or `None` for 'weights' are deprecated since 0.13 and may be removed in the future. The current behavior is equivalent to passing `weights=None`.\n",
            "  warnings.warn(msg)\n"
          ]
        }
      ]
    },
    {
      "cell_type": "code",
      "source": [
        "# 학습루프\n",
        "from tqdm import tqdm\n",
        "for epoch in range(30):\n",
        "  iterator = tqdm(train_loader)\n",
        "  for data, label in iterator:\n",
        "    op.zero_grad()\n",
        "    preds = teacher(data.to(device))\n",
        "    loss = nn.CrossEntropyLoss()(preds,label.to(device))\n",
        "    loss.backward()\n",
        "    op.step()\n",
        "    iterator.set_description(f\"epoch:{epoch} loss:{loss.item()}\")\n",
        "torch.save(teacher.state_dict(), '/content/drive/MyDrive/teacher.pth')    "
      ],
      "metadata": {
        "id": "aRxYfV8gQXvc"
      },
      "execution_count": null,
      "outputs": []
    },
    {
      "cell_type": "code",
      "source": [
        "torch.save(teacher.state_dict(), '/content/drive/MyDrive/teacher.pth')    "
      ],
      "metadata": {
        "id": "S5oJIrsj9Ymf"
      },
      "execution_count": 10,
      "outputs": []
    },
    {
      "cell_type": "code",
      "source": [
        "from torch.serialization import MAP_LOCATION\n",
        "# 교사모델 성능 평가\n",
        "teacher.load_state_dict(torch.load('/content/drive/MyDrive/teacher.pth', map_location = device))\n",
        "num_corr = 0\n",
        "with torch.no_grad():\n",
        "  for data, label in test_loader:\n",
        "    output = teacher(data.to(device))\n",
        "    preds = output.data.max(1)[1]\n",
        "    corr = preds.eq(label.to(device).data).sum().item()\n",
        "    num_corr += corr\n",
        "print(f\"Accuracy:{num_corr / len(test_data)}\")    "
      ],
      "metadata": {
        "colab": {
          "base_uri": "https://localhost:8080/"
        },
        "id": "GrjC182F2nLu",
        "outputId": "c046153e-f91f-4527-c107-70d8d8f44e37"
      },
      "execution_count": 11,
      "outputs": [
        {
          "output_type": "stream",
          "name": "stdout",
          "text": [
            "Accuracy:0.8186\n"
          ]
        }
      ]
    },
    {
      "cell_type": "code",
      "source": [
        "from torch.nn.modules import BatchNorm2d\n",
        "# 256차원받아서  MLP층  128채널 8X8을 만들고 합성곱하고 배치 정규화를 이용해서 32X32 크기 3채널 이미지를\n",
        "# GAN 생성자\n",
        "import torch.nn.functional as F\n",
        "class Generator(nn.Module):\n",
        "  def __init__(self, dim = 256, channel = 3):\n",
        "    super(Generator,self).__init__()\n",
        "    # 256 -> 128 8x8\n",
        "    self.l1 = nn.Sequential(nn.Linear(dim, 128*8*8))\n",
        "    self.con_blocks0 = nn.Sequential(nn.BatchNorm2d(128))\n",
        "    self.con_blocks1 = nn.Sequential(\n",
        "        nn.Conv2d(128,128,3,stride=1,padding=1),\n",
        "        nn.BatchNorm2d(128),\n",
        "        nn.LeakyReLU(0.2)\n",
        "    )\n",
        "    self.con_blocks2 = nn.Sequential(\n",
        "        nn.Conv2d(128,64,3,stride=1,padding=1),\n",
        "        nn.BatchNorm2d(64),\n",
        "        nn.LeakyReLU(0.2), # 0이하의 값을 계속사용  미분이라서 한번 0이되면 더이상 가중치 없데이트 안됨\n",
        "        nn.Conv2d(64,channel,3,stride=1,padding=1),\n",
        "        nn.Tanh(),\n",
        "        nn.BatchNorm2d(channel,affine=False) # 배치 정규화\n",
        "    )\n",
        "  def forward(self, z):\n",
        "    # 256차원의 백터를 128채널 8x8 이미지 변환    \n",
        "    out = self.l1(z.view(z.shape[0],-1))\n",
        "    out = out.view(out.shape[0],-1,8,8)\n",
        "    out =self.con_blocks0(out)\n",
        "    # 이미지를 2배로 늘려줌\n",
        "    out = nn.functional.interpolate(out,scale_factor=2)\n",
        "    out = self.con_blocks1(out)\n",
        "    out = nn.functional.interpolate(out,scale_factor=2)\n",
        "    out = self.con_blocks2(out)\n",
        "    return out"
      ],
      "metadata": {
        "id": "VEX-nZuh7HnC"
      },
      "execution_count": 51,
      "outputs": []
    },
    {
      "cell_type": "markdown",
      "source": [
        "![image.png](data:image/png;base64,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)"
      ],
      "metadata": {
        "id": "e7mLojPZB2IH"
      }
    },
    {
      "cell_type": "code",
      "source": [
        "from torch.optim.sgd import SGD\n",
        "# 교사 모델 불러오기\n",
        "teacher = resnet34(pretrained = False, num_classes = 10)\n",
        "teacher.load_state_dict(torch.load('/content/drive/MyDrive/teacher.pth', map_location=device))\n",
        "teacher.to(device)\n",
        "teacher.eval()"
      ],
      "metadata": {
        "id": "KvdWPBA-_oW2"
      },
      "execution_count": null,
      "outputs": []
    },
    {
      "cell_type": "code",
      "source": [
        "# 학생모델\n",
        "student = resnet18(pretrained = False, num_classes = 10)\n",
        "student.to(device)"
      ],
      "metadata": {
        "id": "Dw3U9PgxCw20"
      },
      "execution_count": null,
      "outputs": []
    },
    {
      "cell_type": "code",
      "source": [
        "# 생성자 정의\n",
        "generator = Generator()\n",
        "generator.to(device)"
      ],
      "metadata": {
        "id": "rVHTLJKPC5yb"
      },
      "execution_count": null,
      "outputs": []
    },
    {
      "cell_type": "code",
      "source": [
        "# 생성자는 Adam으로 학생은 SGD를 이용해서 학습\n",
        "G_op = Adam(generator.parameters(), lr=1e-3) # 수렴속도가 빠름\n",
        "S_op = SGD(student.parameters(), lr=1e-1, weight_decay=5e-4, momentum=0.9) # 오버피팅을 피하는데 유리함"
      ],
      "metadata": {
        "id": "0x6EK1JuDGYi"
      },
      "execution_count": 55,
      "outputs": []
    },
    {
      "cell_type": "code",
      "source": [
        "# 학습\n",
        "for epoch in range(500):\n",
        "  # 학생모델은 5번, 생성자는 1번 가중치 학습\n",
        "  for _ in range(5):\n",
        "    # 이미지생성 (노이즈포함)\n",
        "    noise = torch.randn(256,256,1,1,device=device)\n",
        "    S_op.zero_grad()\n",
        "    # 이미지 생성\n",
        "    fake = generator(noise).detach()    \n",
        "    # 교사 예측\n",
        "    teacher_output = teacher(fake)\n",
        "    # 학생 예측\n",
        "    student_output = student(fake)\n",
        "    # 학생오차\n",
        "    s_loss = nn.L1Loss()(student_output,teacher_output.detach())\n",
        "    print(f\"epoch{epoch}: s_loss {s_loss}\")\n",
        "  #   # 역전파\n",
        "    s_loss.backward()\n",
        "    S_op.step()\n",
        "\n",
        "  # 생성자 학습\n",
        "  noise = torch.randn(256,256,1,1,device=device)\n",
        "  G_op.zero_grad()\n",
        "  fake = generator(noise)\n",
        "  teacher_output = teacher(fake)\n",
        "  student_output = student(fake)\n",
        "  #  생성자의 오차\n",
        "  g_loss = -1*nn.L1Loss()(student_output,teacher_output.detach())\n",
        "  g_loss.backward()\n",
        "  G_op.step()\n",
        "  print(f\"epoch{epoch} g_loss:{g_loss}\")"
      ],
      "metadata": {
        "id": "mjPy6k8eDhbD"
      },
      "execution_count": null,
      "outputs": []
    },
    {
      "cell_type": "code",
      "source": [
        "# 모델 성능 평가\n",
        "num_corr = 0\n",
        "# 학습용데이터의 정확도\n",
        "with torch.no_grad():\n",
        "  for data,label in train_loader:\n",
        "    output = student(data.to(device))\n",
        "    preds = output.data.max(1)[1]\n",
        "    corr = preds.eq(label.to(device).data).sum().item()\n",
        "    num_corr += corr\n",
        "  print(f\"accuracy:{num_corr / len(train_data)}\")"
      ],
      "metadata": {
        "colab": {
          "base_uri": "https://localhost:8080/"
        },
        "id": "IarTZVGQGRly",
        "outputId": "260d5229-35ed-4f81-a5bb-7e5019cce6ab"
      },
      "execution_count": 57,
      "outputs": [
        {
          "output_type": "stream",
          "name": "stdout",
          "text": [
            "accuracy:0.2011\n"
          ]
        }
      ]
    },
    {
      "cell_type": "code",
      "source": [
        "# 검증용 데이터\n",
        "with torch.no_grad():\n",
        "  for data,label in test_loader:\n",
        "    output = student(data.to(device))\n",
        "    preds = output.data.max(1)[1]\n",
        "    corr = preds.eq(label.to(device).data).sum().item()\n",
        "    num_corr += corr\n",
        "  print(f\"accuracy:{num_corr / len(test_data)}\")"
      ],
      "metadata": {
        "colab": {
          "base_uri": "https://localhost:8080/"
        },
        "id": "43_4iwMcKc9n",
        "outputId": "ed97ae82-73f0-41cc-eecb-f56242efe7b8"
      },
      "execution_count": 58,
      "outputs": [
        {
          "output_type": "stream",
          "name": "stdout",
          "text": [
            "accuracy:1.2062\n"
          ]
        }
      ]
    },
    {
      "cell_type": "code",
      "source": [],
      "metadata": {
        "id": "HHQHVmHaKwr8"
      },
      "execution_count": null,
      "outputs": []
    }
  ]
}