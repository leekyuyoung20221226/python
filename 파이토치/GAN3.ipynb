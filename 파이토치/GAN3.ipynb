{
  "nbformat": 4,
  "nbformat_minor": 0,
  "metadata": {
    "colab": {
      "provenance": []
    },
    "kernelspec": {
      "name": "python3",
      "display_name": "Python 3"
    },
    "language_info": {
      "name": "python"
    }
  },
  "cells": [
    {
      "cell_type": "code",
      "source": [
        "import torch\n",
        "import torch.nn as nn\n",
        "from torch.utils.data import Dataset,DataLoader,TensorDataset\n",
        "from torchvision.datasets import FashionMNIST\n",
        "from torchvision import transforms\n",
        "import torch.nn.functional as F\n",
        "import torch.optim as optim\n",
        "from tqdm import tqdm\n",
        "from torchvision.datasets import ImageFolder"
      ],
      "metadata": {
        "id": "ET-faPlagB58"
      },
      "execution_count": 6,
      "outputs": []
    },
    {
      "cell_type": "code",
      "execution_count": 1,
      "metadata": {
        "colab": {
          "base_uri": "https://localhost:8080/"
        },
        "id": "NoepJWvnfEhD",
        "outputId": "fb5f7725-d573-42c5-b0e8-4df103bfa84b"
      },
      "outputs": [
        {
          "output_type": "stream",
          "name": "stdout",
          "text": [
            "--2023-04-19 12:29:05--  http://vis-www.cs.umass.edu/lfw/lfw-deepfunneled.tgz\n",
            "Resolving vis-www.cs.umass.edu (vis-www.cs.umass.edu)... 128.119.244.95\n",
            "Connecting to vis-www.cs.umass.edu (vis-www.cs.umass.edu)|128.119.244.95|:80... connected.\n",
            "HTTP request sent, awaiting response... 200 OK\n",
            "Length: 108761145 (104M) [application/x-gzip]\n",
            "Saving to: ‘lfw-deepfunneled.tgz’\n",
            "\n",
            "lfw-deepfunneled.tg 100%[===================>] 103.72M  87.9MB/s    in 1.2s    \n",
            "\n",
            "2023-04-19 12:29:06 (87.9 MB/s) - ‘lfw-deepfunneled.tgz’ saved [108761145/108761145]\n",
            "\n"
          ]
        }
      ],
      "source": [
        "!wget http://vis-www.cs.umass.edu/lfw/lfw-deepfunneled.tgz"
      ]
    },
    {
      "cell_type": "code",
      "source": [
        "!tar -zxvf lfw-deepfunneled.tgz"
      ],
      "metadata": {
        "id": "4CtwKQQKfUbg"
      },
      "execution_count": null,
      "outputs": []
    },
    {
      "cell_type": "code",
      "source": [
        "!mkdir './lfw-deepfunneled/train'\n",
        "!mkdir './lfw-deepfunneled/test'\n",
        "!mv lfw-deepfunneled/[A-W]* lfw-deepfunneled/train\n",
        "!mv lfw-deepfunneled/[X-Z]* lfw-deepfunneled/test"
      ],
      "metadata": {
        "id": "DxBcJ7Awikc4"
      },
      "execution_count": 8,
      "outputs": []
    },
    {
      "cell_type": "code",
      "source": [
        "# LFW 얼굴 이미지 데이터"
      ],
      "metadata": {
        "id": "JojU736sfa3P"
      },
      "execution_count": 3,
      "outputs": []
    },
    {
      "cell_type": "code",
      "source": [
        "# 32 x 32 픽셀의 이미지를 128 x 128픽셀로 확대 클래스\n",
        "class DownSizedPairImageFoler(ImageFolder):\n",
        "  def __init__(self, root, transform = None, large_size=128,samll_size=32, **kwds):\n",
        "    super().__init__(root, transform=transform, **kwds)\n",
        "    self.large_resizer = transforms.Resize(large_size)\n",
        "    self.samll_size = transforms.Resize(samll_size)\n",
        "  def __getitem__(self, index):\n",
        "    path, _ =self.imgs[index]\n",
        "    img = self.loader(path)\n",
        "    # 읽은 이미지를 128 128 과 32 32 픽셀로 리사이즈\n",
        "    large_img = self.large_resizer(img)\n",
        "    small_img = self.samll_size(img)\n",
        "    if self.transforms is not None:\n",
        "      large_img = self.transform(large_img)\n",
        "      small_img = self.transform(small_img)\n",
        "    return  small_img,large_img"
      ],
      "metadata": {
        "id": "GxBsXsovfmk5"
      },
      "execution_count": 7,
      "outputs": []
    },
    {
      "cell_type": "code",
      "source": [
        "# train_data = DownSizedPairImageFoler()"
      ],
      "metadata": {
        "id": "i7yPQ8oCiMi2"
      },
      "execution_count": null,
      "outputs": []
    }
  ]
}