{
  "nbformat": 4,
  "nbformat_minor": 0,
  "metadata": {
    "colab": {
      "provenance": []
    },
    "kernelspec": {
      "name": "python3",
      "display_name": "Python 3"
    },
    "language_info": {
      "name": "python"
    }
  },
  "cells": [
    {
      "cell_type": "code",
      "execution_count": 1,
      "metadata": {
        "colab": {
          "base_uri": "https://localhost:8080/"
        },
        "id": "FBIln0Hjj9NJ",
        "outputId": "1e0808bb-d042-4245-d9b6-3c23ed24082b"
      },
      "outputs": [
        {
          "output_type": "stream",
          "name": "stdout",
          "text": [
            "--2023-04-21 11:27:12--  http://ai.stanford.edu/~amaas/data/sentiment/aclImdb_v1.tar.gz\n",
            "Resolving ai.stanford.edu (ai.stanford.edu)... 171.64.68.10\n",
            "Connecting to ai.stanford.edu (ai.stanford.edu)|171.64.68.10|:80... connected.\n",
            "HTTP request sent, awaiting response... 200 OK\n",
            "Length: 84125825 (80M) [application/x-gzip]\n",
            "Saving to: ‘aclImdb_v1.tar.gz’\n",
            "\n",
            "aclImdb_v1.tar.gz   100%[===================>]  80.23M  22.1MB/s    in 4.9s    \n",
            "\n",
            "2023-04-21 11:27:17 (16.5 MB/s) - ‘aclImdb_v1.tar.gz’ saved [84125825/84125825]\n",
            "\n"
          ]
        }
      ],
      "source": [
        "!wget http://ai.stanford.edu/~amaas/data/sentiment/aclImdb_v1.tar.gz\n",
        "!tar xf aclImdb_v1.tar.gz"
      ]
    },
    {
      "cell_type": "code",
      "source": [
        "import glob\n",
        "import pathlib\n",
        "import re\n",
        "import torch\n",
        "\n",
        "remove_marks_regex = re.compile(\"[,\\.\\(\\)\\[\\]\\*:;]|<.*?>\")\n",
        "shift_marks_regex = re.compile(\"([?!])\")"
      ],
      "metadata": {
        "id": "zSr86OaokV-6"
      },
      "execution_count": 5,
      "outputs": []
    },
    {
      "cell_type": "code",
      "source": [
        "def text2ids(text, vocab_dict):  # 긴 문자열을 토큰 ID 리스트로 변환하는 함수\n",
        "  # !? 이외의 기호 삭제\n",
        "  text = remove_marks_regex.sub(\"\",text)\n",
        "  # !?와 단어사이에 공백 삽입\n",
        "  text = shift_marks_regex.sub(r\" \\1 \",text)\n",
        "  tokens = text.split()\n",
        "  return [ vocab_dict.get(token,0) for token in tokens]  # 용어집에 포함되지 않는 토큰은 0으로 채운다\n"
      ],
      "metadata": {
        "id": "w81-pTX0lxOx"
      },
      "execution_count": 4,
      "outputs": []
    },
    {
      "cell_type": "code",
      "source": [
        "#ID리스트를 int64의 텐서로 변환하는 함수 변환할때는 각 문장을 분할한 후 토근 수를 제한하고, 반대로 그 수에 \n",
        "# 미치지 못하면 뒤를 0d로 채운다\n",
        "def list2tensor(token_idxes, max_len=100, padding=True): \n",
        "  if len(token_idxes) > max_len:\n",
        "    token_idxes = token_idxes[:max_len]\n",
        "  n_tokens = len(token_idxes)\n",
        "  if padding:\n",
        "    token_idxes = token_idxes + [0]*(max_len - len(token_idxes))\n",
        "  return torch.tensor(token_idxes, dtype = torch.int64), n_tokens"
      ],
      "metadata": {
        "id": "G5-qmN7lmugI"
      },
      "execution_count": 6,
      "outputs": []
    },
    {
      "cell_type": "code",
      "source": [
        "# Dataset 클래스 작성"
      ],
      "metadata": {
        "id": "1rmvZFbYn5GW"
      },
      "execution_count": 7,
      "outputs": []
    },
    {
      "cell_type": "code",
      "source": [
        "from torch import nn, optim\n",
        "from torch.utils.data import Dataset,DataLoader,TensorDataset\n",
        "import tqdm"
      ],
      "metadata": {
        "id": "D6Mb1In4n-lm"
      },
      "execution_count": 11,
      "outputs": []
    },
    {
      "cell_type": "code",
      "source": [
        "class IMDBDataset(Dataset):\n",
        "  def __init__(self,dir_path, train = True,max_len=100, padding=True):\n",
        "    self.max_len = max_len\n",
        "    self.padding = padding\n",
        "    path = pathlib.Path(dir_path)\n",
        "    vocab_path = path.joinpath('imdb.vocab')\n",
        "    # 용어집 파일을 읽어서 행 단위로 분할\n",
        "    self.vocab_array = vocab_path.open().read().strip().splitlines()\n",
        "    # 단어가 키, 값이 ID인 dict \n",
        "    self.vocab_dict = dict( (w, i+1) for (i,w) in enumerate(self.vocab_array) )\n",
        "    if train:\n",
        "      target_path = path.joinpath('train')\n",
        "    else:\n",
        "      target_path = path.joinpath('test')\n",
        "    pos_files = sorted(glob.glob( str(target_path.joinpath('pos/*.txt')) )   )\n",
        "    neg_files = sorted(glob.glob( str(target_path.joinpath('neg/*.txt')) )   )\n",
        "    # pos 1, neg 0인 label을 붙여서 (file_path, label)\n",
        "    self.labeled_files = list(zip([0]*len(neg_files), neg_files  )) + list(zip([1]*len(pos_files), pos_files  ))\n",
        "\n",
        "  @property  # 함수를 변수처럼 사용해서 보다 간격하게 표현  imdb.vacab_size() -- > imdb.vacab_size\n",
        "  def vocab_size(self):\n",
        "    return len(self.vocab_array)\n",
        "  def __len__(self):\n",
        "    return len(self.labeled_files)\n",
        "  def __getitem__(self, index):\n",
        "    label, f =  self.labeled_files[index]\n",
        "    #파일의 텍스트를 읽어서 소문자로 변환\n",
        "    data = open(f).read().lower()\n",
        "    # 텍스트 데이터를 ID리스트로 변환\n",
        "    data = text2ids(data,self.vocab_dict)\n",
        "    # ID 리스트를 Tensor로 변환\n",
        "    data,n_tokens = list2tensor(data, self.max_len, self.padding)\n",
        "    return data, label, n_tokens \n",
        "    "
      ],
      "metadata": {
        "id": "86DsjVADoRNd"
      },
      "execution_count": 12,
      "outputs": []
    },
    {
      "cell_type": "code",
      "source": [
        "# 훈련용과 테스트용 DataLoader 작성\n",
        "train_data = IMDBDataset('/content/aclImdb')\n",
        "test_data = IMDBDataset('/content/aclImdb',train=False)\n",
        "train_loader = DataLoader(train_data,batch_size=32,shuffle=True)\n",
        "test_loader = DataLoader(test_data,batch_size=32,shuffle=False)"
      ],
      "metadata": {
        "id": "gXvV_kuEvUvB"
      },
      "execution_count": 13,
      "outputs": []
    },
    {
      "cell_type": "code",
      "source": [
        "data = next(iter(train_loader))\n",
        "data"
      ],
      "metadata": {
        "colab": {
          "base_uri": "https://localhost:8080/"
        },
        "id": "vBNd3-d4wBjP",
        "outputId": "80e2bde6-b621-4d11-fe91-a783216b9022"
      },
      "execution_count": 20,
      "outputs": [
        {
          "output_type": "execute_result",
          "data": {
            "text/plain": [
              "[tensor([[  154,   462,   752,  ..., 62413, 16257, 15393],\n",
              "         [    9,   101,    11,  ...,     0,     0,     0],\n",
              "         [    9,   214,    10,  ...,     5,  2778,    29],\n",
              "         ...,\n",
              "         [   72,    20,   239,  ...,     0,     0,     0],\n",
              "         [   10,    18,    12,  ...,     0,     0,     0],\n",
              "         [   10,     6,     3,  ...,     0,     0,     0]]),\n",
              " tensor([0, 0, 0, 0, 1, 1, 0, 0, 0, 1, 0, 0, 1, 1, 0, 0, 1, 1, 1, 1, 0, 0, 0, 1,\n",
              "         0, 0, 1, 0, 0, 0, 0, 0]),\n",
              " tensor([100,  76, 100, 100, 100, 100, 100, 100,  49, 100, 100, 100, 100, 100,\n",
              "         100,  77,  91, 100, 100, 100, 100, 100, 100, 100, 100, 100, 100, 100,\n",
              "         100,  32,  77,  57])]"
            ]
          },
          "metadata": {},
          "execution_count": 20
        }
      ]
    },
    {
      "cell_type": "code",
      "source": [
        "# 신경망..  x가 입력되었을때 0또는 1일 출력되는 2진 분류 문제\n",
        "# x를 Embedding 으로 벡터 시계열로 변환하고, RNN에 넣어서 마지막 출력을 1차원 선형 계층과 연결"
      ],
      "metadata": {
        "id": "joaPdVRUwH0I"
      },
      "execution_count": 21,
      "outputs": []
    },
    {
      "cell_type": "code",
      "source": [
        "class SequenceTaggingNet(nn.Module):\n",
        "  def __init__(self, num_embeddings, embedding_dim=50, hidden_size=50,num_layers=1, dropout=0.2):\n",
        "    super(SequenceTaggingNet,self).__init__()\n",
        "    # num_embeddings, embedding_dim 행렬의 크기 \n",
        "    # padding_idx 패딩 토큰 0을 설정하면 입력데이터의 길이를 맞추기 위해 사용\n",
        "    self.emb = nn.Embedding(num_embeddings, embedding_dim,padding_idx=0)\n",
        "    # batch_first=True  입력텐서의 첫번째 차원이 배치크기인지 시퀀스 크기인지 지정\n",
        "    self.lstm = nn.LSTM(embedding_dim,hidden_size,num_layers,batch_first=True,dropout=dropout)\n",
        "    self.linear = nn.Linear(hidden_size, 1)\n",
        "  def forward(self, x, h0=None, l=None):\n",
        "    # ID를 Embedding으로 다차원 벡터로 변환\n",
        "    # X는 (batch_size, step_size)\n",
        "    #-> (batch_size, step_size, embedding_dim)\n",
        "    x = self.emb(x)\n",
        "    # 초기상태 h0와 함께 RNN에 x를 전달\n",
        "    # x (batch_size, step_size, embedding_dim)\n",
        "    #-> (batch_size, step_size, hidden_dim)\n",
        "    x, h = self.lstm(x, h0)\n",
        "    #마지막 단계만 추출\n",
        "    # x (batch_size, step_size, hidden_dim)\n",
        "    # -> (bath_size, 1)\n",
        "    if l is not None:\n",
        "      # 입력의 원래 길이가 있으면 사용\n",
        "      x = x[list(range(len(x))), l-1, :]\n",
        "    else:\n",
        "      #없으면 단순히 마지막 것을 사용\n",
        "      x = x[:, -1, :]\n",
        "    # 추출한 마지막 단계에 선형 계층을 넣는다\n",
        "    x = self.linear(x)\n",
        "    # 불필요한 차원을 삭제\n",
        "    # (batch_size, 1) - >(batch_size, )\n",
        "    x = x.squeeze()\n",
        "    return x\n"
      ],
      "metadata": {
        "id": "PkHUY4ziw5f4"
      },
      "execution_count": 22,
      "outputs": []
    },
    {
      "cell_type": "code",
      "source": [
        "device = 'cuda' if torch.cuda.is_available() else 'cpu'\n",
        "# 훈련 및 평가\n",
        "def eval_net(net, data_loader, device='gpu'):\n",
        "  net.eval()\n",
        "  y_list = []\n",
        "  y_pred_list = []\n",
        "  for x, y, l in data_loader:\n",
        "    x = x.to(device)\n",
        "    y = y.to(device)\n",
        "    l = l.to(device)\n",
        "    with torch.no_grad():\n",
        "      y_pred = net(x, l=l)\n",
        "      y_pred = (y_pred > 0).long()\n",
        "      y_list.append(y)\n",
        "      y_pred_list.append(y_pred)\n",
        "  y_list = torch.cat(y_list)\n",
        "  y_pred_list = torch.cat(y_pred_list)\n",
        "  acc = (y_list == y_pred_list).float().sum() / len(y_list)\n",
        "  return acc.item()"
      ],
      "metadata": {
        "id": "sgkAfDir0Q_9"
      },
      "execution_count": 23,
      "outputs": []
    },
    {
      "cell_type": "code",
      "source": [
        "net = SequenceTaggingNet(train_data.vocab_size+1, num_layers=2)\n",
        "net.to(device)\n",
        "opt = optim.Adam(net.parameters())\n",
        "loss_f = nn.BCEWithLogitsLoss()\n",
        "for epoch in range(10):\n",
        "  losses=[]\n",
        "  net.train()\n",
        "  for x,y,l in tqdm.tqdm(train_loader):\n",
        "    x = x.to(device)\n",
        "    y = y.to(device)\n",
        "    l = l.to(device)\n",
        "    y_pred = net(x, l=l)\n",
        "    loss = loss_f(y_pred, y.float())\n",
        "    opt.zero_grad()\n",
        "    loss.backward()\n",
        "    opt.step()\n",
        "    losses.append(loss.item())\n",
        "  train_acc = eval_net(net, train_loader, device)\n",
        "  val_acc = eval_net(net, test_loader, device)\n",
        "  print(f\"epoch:{epoch}, loss:{np.mean(losses)} train_acc:{train_acc} val_acc:{val_acc}\")"
      ],
      "metadata": {
        "id": "aonpr7bc1kv_"
      },
      "execution_count": null,
      "outputs": []
    }
  ]
}