{
  "cells": [
    {
      "cell_type": "code",
      "execution_count": 1,
      "metadata": {
        "colab": {
          "base_uri": "https://localhost:8080/"
        },
        "id": "FBIln0Hjj9NJ",
        "outputId": "c5fda9e8-0884-4c40-d310-56b9d8583d3e"
      },
      "outputs": [
        {
          "output_type": "stream",
          "name": "stdout",
          "text": [
            "--2023-04-24 09:41:35--  http://ai.stanford.edu/~amaas/data/sentiment/aclImdb_v1.tar.gz\n",
            "Resolving ai.stanford.edu (ai.stanford.edu)... 171.64.68.10\n",
            "Connecting to ai.stanford.edu (ai.stanford.edu)|171.64.68.10|:80... connected.\n",
            "HTTP request sent, awaiting response... 200 OK\n",
            "Length: 84125825 (80M) [application/x-gzip]\n",
            "Saving to: ‘aclImdb_v1.tar.gz’\n",
            "\n",
            "aclImdb_v1.tar.gz   100%[===================>]  80.23M  15.6MB/s    in 8.1s    \n",
            "\n",
            "2023-04-24 09:41:43 (9.88 MB/s) - ‘aclImdb_v1.tar.gz’ saved [84125825/84125825]\n",
            "\n"
          ]
        }
      ],
      "source": [
        "!wget http://ai.stanford.edu/~amaas/data/sentiment/aclImdb_v1.tar.gz\n",
        "!tar xf aclImdb_v1.tar.gz"
      ]
    },
    {
      "cell_type": "code",
      "execution_count": 2,
      "metadata": {
        "id": "zSr86OaokV-6"
      },
      "outputs": [],
      "source": [
        "import glob\n",
        "import pathlib\n",
        "import re\n",
        "import torch\n",
        "\n",
        "remove_marks_regex = re.compile(\"[,\\.\\(\\)\\[\\]\\*:;]|<.*?>\")\n",
        "shift_marks_regex = re.compile(\"([?!])\")"
      ]
    },
    {
      "cell_type": "code",
      "execution_count": 3,
      "metadata": {
        "id": "w81-pTX0lxOx"
      },
      "outputs": [],
      "source": [
        "def text2ids(text, vocab_dict):  # 긴 문자열을 토큰 ID 리스트로 변환하는 함수\n",
        "  # !? 이외의 기호 삭제\n",
        "  text = remove_marks_regex.sub(\"\",text)\n",
        "  # !?와 단어사이에 공백 삽입\n",
        "  text = shift_marks_regex.sub(r\" \\1 \",text)\n",
        "  tokens = text.split()\n",
        "  return [ vocab_dict.get(token,0) for token in tokens]  # 용어집에 포함되지 않는 토큰은 0으로 채운다\n"
      ]
    },
    {
      "cell_type": "code",
      "execution_count": 4,
      "metadata": {
        "id": "G5-qmN7lmugI"
      },
      "outputs": [],
      "source": [
        "#ID리스트를 int64의 텐서로 변환하는 함수 변환할때는 각 문장을 분할한 후 토근 수를 제한하고, 반대로 그 수에 \n",
        "# 미치지 못하면 뒤를 0d로 채운다\n",
        "def list2tensor(token_idxes, max_len=100, padding=True): \n",
        "  if len(token_idxes) > max_len:\n",
        "    token_idxes = token_idxes[:max_len]\n",
        "  n_tokens = len(token_idxes)\n",
        "  if padding:\n",
        "    token_idxes = token_idxes + [0]*(max_len - len(token_idxes))\n",
        "  return torch.tensor(token_idxes, dtype = torch.int64), n_tokens"
      ]
    },
    {
      "cell_type": "code",
      "execution_count": 5,
      "metadata": {
        "id": "1rmvZFbYn5GW"
      },
      "outputs": [],
      "source": [
        "# Dataset 클래스 작성"
      ]
    },
    {
      "cell_type": "code",
      "execution_count": 6,
      "metadata": {
        "id": "D6Mb1In4n-lm"
      },
      "outputs": [],
      "source": [
        "from torch import nn, optim\n",
        "from torch.utils.data import Dataset,DataLoader,TensorDataset\n",
        "import tqdm"
      ]
    },
    {
      "cell_type": "code",
      "execution_count": 7,
      "metadata": {
        "id": "86DsjVADoRNd"
      },
      "outputs": [],
      "source": [
        "class IMDBDataset(Dataset):\n",
        "    def __init__(self, dir_path, train=True,\n",
        "                 max_len=100, padding=True):\n",
        "        self.max_len = max_len\n",
        "        self.padding = padding\n",
        "        \n",
        "        path = pathlib.Path(dir_path)\n",
        "        vocab_path = path.joinpath(\"imdb.vocab\")\n",
        "        \n",
        "        # 용어집 파일을 읽어서 행 단위로 분할\n",
        "        self.vocab_array = vocab_path.open() \\\n",
        "                            .read().strip().splitlines()\n",
        "        # 단어가 키이고 값이 ID인 dict 만들기\n",
        "        self.vocab_dict = dict((w, i+1) \\\n",
        "            for (i, w) in enumerate(self.vocab_array))\n",
        "        \n",
        "        if train:\n",
        "            target_path = path.joinpath(\"train\")\n",
        "        else:\n",
        "            target_path = path.joinpath(\"test\")\n",
        "        pos_files = sorted(glob.glob(\n",
        "            str(target_path.joinpath(\"pos/*.txt\"))))\n",
        "        neg_files = sorted(glob.glob(\n",
        "            str(target_path.joinpath(\"neg/*.txt\"))))\n",
        "        # pos는 1, neg는 0인 label을 붙여서\n",
        "        # (file_path, label)의 튜플 리스트 작성\n",
        "        self.labeled_files = \\\n",
        "            list(zip([0]*len(neg_files), neg_files )) + \\\n",
        "            list(zip([1]*len(pos_files), pos_files))\n",
        "    \n",
        "    @property\n",
        "    def vocab_size(self):\n",
        "        return len(self.vocab_array)\n",
        "    \n",
        "    def __len__(self):\n",
        "        return len(self.labeled_files)\n",
        "    \n",
        "    def __getitem__(self, idx):\n",
        "        label, f = self.labeled_files[idx]\n",
        "        # 파일의 텍스트 데이터를 읽어서 소문자로 변환\n",
        "        data = open(f).read().lower()\n",
        "        # 텍스트 데이터를 ID 리스트로 변환\n",
        "        data = text2ids(data, self.vocab_dict)\n",
        "        # ID 리스트를 Tensor로 변환\n",
        "        data, n_tokens = list2tensor(data, self.max_len, self.padding)\n",
        "        return data, label, n_tokens"
      ]
    },
    {
      "cell_type": "code",
      "execution_count": 8,
      "metadata": {
        "id": "gXvV_kuEvUvB"
      },
      "outputs": [],
      "source": [
        "# 훈련용과 테스트용 DataLoader 작성\n",
        "train_data = IMDBDataset('/content/aclImdb')\n",
        "test_data = IMDBDataset('/content/aclImdb',train=False)\n",
        "train_loader = DataLoader(train_data,batch_size=32,shuffle=True)\n",
        "test_loader = DataLoader(test_data,batch_size=32,shuffle=False)"
      ]
    },
    {
      "cell_type": "code",
      "execution_count": 9,
      "metadata": {
        "colab": {
          "base_uri": "https://localhost:8080/"
        },
        "id": "vBNd3-d4wBjP",
        "outputId": "e0a02026-b2c4-4517-a09f-a5b03530f2ad"
      },
      "outputs": [
        {
          "output_type": "execute_result",
          "data": {
            "text/plain": [
              "[tensor([[    9,   336,     5,  ...,    63,   699,    10],\n",
              "         [    9,    80,  2359,  ...,   136,  1455,   382],\n",
              "         [  198,   205,   489,  ...,     0,     0,     0],\n",
              "         ...,\n",
              "         [    0,     4,     1,  ...,     1,   116,   405],\n",
              "         [   10,     6,     3,  ...,     5,    64, 15036],\n",
              "         [   10,    16,  1306,  ...,  1533,     2,  2196]]),\n",
              " tensor([1, 1, 1, 1, 0, 0, 1, 0, 0, 1, 0, 0, 1, 0, 1, 0, 0, 0, 1, 1, 1, 1, 1, 0,\n",
              "         0, 1, 0, 0, 0, 1, 1, 0]),\n",
              " tensor([100, 100,  62, 100, 100, 100, 100, 100,  81, 100, 100, 100, 100, 100,\n",
              "         100, 100, 100, 100,  90, 100, 100, 100, 100, 100, 100, 100, 100, 100,\n",
              "         100, 100, 100, 100])]"
            ]
          },
          "metadata": {},
          "execution_count": 9
        }
      ],
      "source": [
        "data = next(iter(train_loader))\n",
        "data"
      ]
    },
    {
      "cell_type": "code",
      "execution_count": 10,
      "metadata": {
        "id": "joaPdVRUwH0I"
      },
      "outputs": [],
      "source": [
        "# 신경망..  x가 입력되었을때 0또는 1일 출력되는 2진 분류 문제\n",
        "# x를 Embedding 으로 벡터 시계열로 변환하고, RNN에 넣어서 마지막 출력을 1차원 선형 계층과 연결"
      ]
    },
    {
      "cell_type": "code",
      "execution_count": 11,
      "metadata": {
        "id": "PkHUY4ziw5f4"
      },
      "outputs": [],
      "source": [
        "class SequenceTaggingNet(nn.Module):\n",
        "    def __init__(self, num_embeddings,\n",
        "                 embedding_dim=50, \n",
        "                 hidden_size=50,\n",
        "                 num_layers=1,\n",
        "                 dropout=0.2):\n",
        "        super().__init__()\n",
        "        self.emb = nn.Embedding(num_embeddings, embedding_dim,\n",
        "                            padding_idx=0)\n",
        "        self.lstm = nn.LSTM(embedding_dim,\n",
        "                            hidden_size, num_layers,\n",
        "                            batch_first=True, dropout=dropout)\n",
        "        self.linear = nn.Linear(hidden_size, 1)\n",
        "\n",
        "\n",
        "        \n",
        "        \n",
        "    def forward(self, x, h0=None, l=None):\n",
        "        # ID를 Embedding으로 다차원 벡터로 변환\n",
        "        # x는 (batch_size, step_size) \n",
        "        # -> (batch_size, step_size, embedding_dim)\n",
        "        x = self.emb(x)\n",
        "        # 초기 상태 h0와 함께 RNN에 x를 전달\n",
        "        # x는(batch_size, step_size, embedding_dim)\n",
        "        # -> (batch_size, step_size, hidden_dim)\n",
        "        x, h = self.lstm(x, h0)\n",
        "        # 마지막 단계만 추출\n",
        "        # xは(batch_size, step_size, hidden_dim)\n",
        "        # -> (batch_size, 1)\n",
        "        if l is not None:\n",
        "            # 입력의 원래 길이가 있으면 그것을 이용\n",
        "            x = x[list(range(len(x))), l-1, :]\n",
        "        else:\n",
        "            # 없으면 단순히 마지막 것을 이용\n",
        "            x = x[:, -1, :]\n",
        "        # 추출한 마지막 단계를 선형 계층에 넣는다\n",
        "        x = self.linear(x)\n",
        "        # 불필요한 차원을 삭제\n",
        "        # (batch_size, 1) -> (batch_size, )\n",
        "        x = x.squeeze()\n",
        "        return x"
      ]
    },
    {
      "cell_type": "code",
      "execution_count": 12,
      "metadata": {
        "id": "sgkAfDir0Q_9"
      },
      "outputs": [],
      "source": [
        "device = 'cuda' if torch.cuda.is_available() else 'cpu'\n",
        "# 훈련 및 평가\n",
        "\n",
        "def eval_net(net, data_loader, device=\"cpu\"):\n",
        "    net.eval()\n",
        "    ys = []\n",
        "    ypreds = []\n",
        "    for x, y, l in data_loader:\n",
        "        x = x.to(device)\n",
        "        y = y.to(device)\n",
        "        l = l.to(device)\n",
        "        with torch.no_grad():\n",
        "            y_pred = net(x, l=l)\n",
        "            y_pred = (y_pred > 0).long()\n",
        "            ys.append(y)\n",
        "            ypreds.append(y_pred)\n",
        "    ys = torch.cat(ys)\n",
        "    ypreds = torch.cat(ypreds)\n",
        "    acc = (ys == ypreds).float().sum() / len(ys)\n",
        "    return acc.item()"
      ]
    },
    {
      "cell_type": "code",
      "execution_count": null,
      "metadata": {
        "colab": {
          "background_save": true,
          "base_uri": "https://localhost:8080/"
        },
        "id": "aonpr7bc1kv_",
        "outputId": "d9d6adfb-d04a-48e9-96eb-870167cd69ea"
      },
      "outputs": [
        {
          "output_type": "stream",
          "name": "stderr",
          "text": [
            "100%|██████████| 782/782 [00:12<00:00, 64.14it/s]\n"
          ]
        },
        {
          "output_type": "stream",
          "name": "stdout",
          "text": [
            "0 0.6761752057563314 0.5744400024414062 0.5739200115203857\n"
          ]
        },
        {
          "output_type": "stream",
          "name": "stderr",
          "text": [
            "100%|██████████| 782/782 [00:09<00:00, 84.08it/s]\n"
          ]
        },
        {
          "output_type": "stream",
          "name": "stdout",
          "text": [
            "1 0.6872068557440473 0.5701999664306641 0.5543599724769592\n"
          ]
        },
        {
          "output_type": "stream",
          "name": "stderr",
          "text": [
            "100%|██████████| 782/782 [00:09<00:00, 85.45it/s]\n"
          ]
        },
        {
          "output_type": "stream",
          "name": "stdout",
          "text": [
            "2 0.6026867056441734 0.7833200097084045 0.7387199997901917\n"
          ]
        },
        {
          "output_type": "stream",
          "name": "stderr",
          "text": [
            "100%|██████████| 782/782 [00:08<00:00, 88.15it/s]\n"
          ]
        },
        {
          "output_type": "stream",
          "name": "stdout",
          "text": [
            "3 0.420594453563928 0.8603999614715576 0.777999997138977\n"
          ]
        },
        {
          "output_type": "stream",
          "name": "stderr",
          "text": [
            "100%|██████████| 782/782 [00:09<00:00, 85.91it/s]\n"
          ]
        },
        {
          "output_type": "stream",
          "name": "stdout",
          "text": [
            "4 0.32744543978472807 0.9059999585151672 0.7905600070953369\n"
          ]
        },
        {
          "output_type": "stream",
          "name": "stderr",
          "text": [
            "100%|██████████| 782/782 [00:08<00:00, 90.62it/s]\n"
          ]
        },
        {
          "output_type": "stream",
          "name": "stdout",
          "text": [
            "5 0.25656775746237287 0.9384399652481079 0.7973200082778931\n"
          ]
        },
        {
          "output_type": "stream",
          "name": "stderr",
          "text": [
            "100%|██████████| 782/782 [00:09<00:00, 81.24it/s]\n"
          ]
        }
      ],
      "source": [
        "\n",
        "from statistics import mean\n",
        "\n",
        "# num_embeddings에는 0을 포함해서 train_data.vocab_size+1를 넣는다\n",
        "net = SequenceTaggingNet(train_data.vocab_size+1, \n",
        "num_layers=2)\n",
        "net.to(device)\n",
        "opt = optim.Adam(net.parameters())\n",
        "loss_f = nn.BCEWithLogitsLoss()\n",
        "\n",
        "for epoch in range(10):\n",
        "    losses = []\n",
        "    net.train()\n",
        "    for x, y, l in tqdm.tqdm(train_loader):\n",
        "        x = x.to(device)\n",
        "        y = y.to(device)\n",
        "        l = l.to(device)\n",
        "        y_pred = net(x, l=l)\n",
        "        loss = loss_f(y_pred, y.float())\n",
        "        net.zero_grad()\n",
        "        loss.backward()\n",
        "        opt.step()\n",
        "        losses.append(loss.item())\n",
        "    train_acc = eval_net(net, train_loader, device)\n",
        "    val_acc = eval_net(net, test_loader, device)\n",
        "    print(epoch, mean(losses), train_acc, val_acc)"
      ]
    },
    {
      "cell_type": "code",
      "execution_count": null,
      "metadata": {
        "id": "zRK2iduf22lV"
      },
      "outputs": [],
      "source": []
    }
  ],
  "metadata": {
    "colab": {
      "provenance": [],
      "gpuType": "T4"
    },
    "kernelspec": {
      "display_name": "Python 3",
      "name": "python3"
    },
    "language_info": {
      "name": "python"
    },
    "accelerator": "GPU",
    "gpuClass": "standard"
  },
  "nbformat": 4,
  "nbformat_minor": 0
}