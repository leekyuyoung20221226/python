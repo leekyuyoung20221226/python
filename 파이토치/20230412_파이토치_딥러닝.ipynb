{
  "nbformat": 4,
  "nbformat_minor": 0,
  "metadata": {
    "colab": {
      "provenance": []
    },
    "kernelspec": {
      "name": "python3",
      "display_name": "Python 3"
    },
    "language_info": {
      "name": "python"
    }
  },
  "cells": [
    {
      "cell_type": "code",
      "execution_count": 5,
      "metadata": {
        "id": "kM7cN8ZRTDYo"
      },
      "outputs": [],
      "source": [
        "# 데이터\n",
        "import pandas as pd\n",
        "import numpy as np\n",
        "import matplotlib.pyplot as plt\n",
        "from sklearn.preprocessing import StandardScaler\n",
        "# from sklearn.datasets import load_boston\n",
        "data_url = \"http://lib.stat.cmu.edu/datasets/boston\"\n",
        "raw_df = pd.read_csv(data_url, sep=\"\\s+\", skiprows=22, header=None)\n",
        "data = np.hstack([raw_df.values[::2, :], raw_df.values[1::2, :2]])\n",
        "target = raw_df.values[1::2, 2]"
      ]
    },
    {
      "cell_type": "code",
      "source": [
        "data.shape"
      ],
      "metadata": {
        "colab": {
          "base_uri": "https://localhost:8080/"
        },
        "id": "T19t-UMkXu49",
        "outputId": "cf230913-354f-4c8b-e2a5-22460cab1dd7"
      },
      "execution_count": 16,
      "outputs": [
        {
          "output_type": "execute_result",
          "data": {
            "text/plain": [
              "(506, 13)"
            ]
          },
          "metadata": {},
          "execution_count": 16
        }
      ]
    },
    {
      "cell_type": "code",
      "source": [
        "df = pd.DataFrame(np.hstack([data,target.reshape(-1,1)]))\n",
        "ss = StandardScaler()\n",
        "df.values[:,:-1] = ss.fit_transform(df.values[:,:-1]).round(4)"
      ],
      "metadata": {
        "id": "f_pA9wJTTXZM"
      },
      "execution_count": 17,
      "outputs": []
    },
    {
      "cell_type": "code",
      "source": [
        "df.head()"
      ],
      "metadata": {
        "colab": {
          "base_uri": "https://localhost:8080/",
          "height": 206
        },
        "id": "nHMr7RTZW6mZ",
        "outputId": "59889440-8528-496e-a609-68e53875540c"
      },
      "execution_count": 18,
      "outputs": [
        {
          "output_type": "execute_result",
          "data": {
            "text/plain": [
              "       0       1       2       3       4       5       6       7       8   \\\n",
              "0 -0.4198  0.2848 -1.2879 -0.2726 -0.1442  0.4137 -0.1200  0.1402 -0.9828   \n",
              "1 -0.4173 -0.4877 -0.5934 -0.2726 -0.7403  0.1943  0.3672  0.5572 -0.8679   \n",
              "2 -0.4173 -0.4877 -0.5934 -0.2726 -0.7403  1.2827 -0.2658  0.5572 -0.8679   \n",
              "3 -0.4168 -0.4877 -1.3069 -0.2726 -0.8353  1.0163 -0.8099  1.0777 -0.7529   \n",
              "4 -0.4125 -0.4877 -1.3069 -0.2726 -0.8353  1.2286 -0.5112  1.0777 -0.7529   \n",
              "\n",
              "       9       10      11      12    13  \n",
              "0 -0.6666 -1.4590  0.4411 -1.0756  24.0  \n",
              "1 -0.9873 -0.3031  0.4411 -0.4924  21.6  \n",
              "2 -0.9873 -0.3031  0.3964 -1.2087  34.7  \n",
              "3 -1.1061  0.1130  0.4162 -1.3615  33.4  \n",
              "4 -1.1061  0.1130  0.4411 -1.0265  36.2  "
            ],
            "text/html": [
              "\n",
              "  <div id=\"df-4bdc653a-3b9e-48a3-bc87-3ae55cba12b6\">\n",
              "    <div class=\"colab-df-container\">\n",
              "      <div>\n",
              "<style scoped>\n",
              "    .dataframe tbody tr th:only-of-type {\n",
              "        vertical-align: middle;\n",
              "    }\n",
              "\n",
              "    .dataframe tbody tr th {\n",
              "        vertical-align: top;\n",
              "    }\n",
              "\n",
              "    .dataframe thead th {\n",
              "        text-align: right;\n",
              "    }\n",
              "</style>\n",
              "<table border=\"1\" class=\"dataframe\">\n",
              "  <thead>\n",
              "    <tr style=\"text-align: right;\">\n",
              "      <th></th>\n",
              "      <th>0</th>\n",
              "      <th>1</th>\n",
              "      <th>2</th>\n",
              "      <th>3</th>\n",
              "      <th>4</th>\n",
              "      <th>5</th>\n",
              "      <th>6</th>\n",
              "      <th>7</th>\n",
              "      <th>8</th>\n",
              "      <th>9</th>\n",
              "      <th>10</th>\n",
              "      <th>11</th>\n",
              "      <th>12</th>\n",
              "      <th>13</th>\n",
              "    </tr>\n",
              "  </thead>\n",
              "  <tbody>\n",
              "    <tr>\n",
              "      <th>0</th>\n",
              "      <td>-0.4198</td>\n",
              "      <td>0.2848</td>\n",
              "      <td>-1.2879</td>\n",
              "      <td>-0.2726</td>\n",
              "      <td>-0.1442</td>\n",
              "      <td>0.4137</td>\n",
              "      <td>-0.1200</td>\n",
              "      <td>0.1402</td>\n",
              "      <td>-0.9828</td>\n",
              "      <td>-0.6666</td>\n",
              "      <td>-1.4590</td>\n",
              "      <td>0.4411</td>\n",
              "      <td>-1.0756</td>\n",
              "      <td>24.0</td>\n",
              "    </tr>\n",
              "    <tr>\n",
              "      <th>1</th>\n",
              "      <td>-0.4173</td>\n",
              "      <td>-0.4877</td>\n",
              "      <td>-0.5934</td>\n",
              "      <td>-0.2726</td>\n",
              "      <td>-0.7403</td>\n",
              "      <td>0.1943</td>\n",
              "      <td>0.3672</td>\n",
              "      <td>0.5572</td>\n",
              "      <td>-0.8679</td>\n",
              "      <td>-0.9873</td>\n",
              "      <td>-0.3031</td>\n",
              "      <td>0.4411</td>\n",
              "      <td>-0.4924</td>\n",
              "      <td>21.6</td>\n",
              "    </tr>\n",
              "    <tr>\n",
              "      <th>2</th>\n",
              "      <td>-0.4173</td>\n",
              "      <td>-0.4877</td>\n",
              "      <td>-0.5934</td>\n",
              "      <td>-0.2726</td>\n",
              "      <td>-0.7403</td>\n",
              "      <td>1.2827</td>\n",
              "      <td>-0.2658</td>\n",
              "      <td>0.5572</td>\n",
              "      <td>-0.8679</td>\n",
              "      <td>-0.9873</td>\n",
              "      <td>-0.3031</td>\n",
              "      <td>0.3964</td>\n",
              "      <td>-1.2087</td>\n",
              "      <td>34.7</td>\n",
              "    </tr>\n",
              "    <tr>\n",
              "      <th>3</th>\n",
              "      <td>-0.4168</td>\n",
              "      <td>-0.4877</td>\n",
              "      <td>-1.3069</td>\n",
              "      <td>-0.2726</td>\n",
              "      <td>-0.8353</td>\n",
              "      <td>1.0163</td>\n",
              "      <td>-0.8099</td>\n",
              "      <td>1.0777</td>\n",
              "      <td>-0.7529</td>\n",
              "      <td>-1.1061</td>\n",
              "      <td>0.1130</td>\n",
              "      <td>0.4162</td>\n",
              "      <td>-1.3615</td>\n",
              "      <td>33.4</td>\n",
              "    </tr>\n",
              "    <tr>\n",
              "      <th>4</th>\n",
              "      <td>-0.4125</td>\n",
              "      <td>-0.4877</td>\n",
              "      <td>-1.3069</td>\n",
              "      <td>-0.2726</td>\n",
              "      <td>-0.8353</td>\n",
              "      <td>1.2286</td>\n",
              "      <td>-0.5112</td>\n",
              "      <td>1.0777</td>\n",
              "      <td>-0.7529</td>\n",
              "      <td>-1.1061</td>\n",
              "      <td>0.1130</td>\n",
              "      <td>0.4411</td>\n",
              "      <td>-1.0265</td>\n",
              "      <td>36.2</td>\n",
              "    </tr>\n",
              "  </tbody>\n",
              "</table>\n",
              "</div>\n",
              "      <button class=\"colab-df-convert\" onclick=\"convertToInteractive('df-4bdc653a-3b9e-48a3-bc87-3ae55cba12b6')\"\n",
              "              title=\"Convert this dataframe to an interactive table.\"\n",
              "              style=\"display:none;\">\n",
              "        \n",
              "  <svg xmlns=\"http://www.w3.org/2000/svg\" height=\"24px\"viewBox=\"0 0 24 24\"\n",
              "       width=\"24px\">\n",
              "    <path d=\"M0 0h24v24H0V0z\" fill=\"none\"/>\n",
              "    <path d=\"M18.56 5.44l.94 2.06.94-2.06 2.06-.94-2.06-.94-.94-2.06-.94 2.06-2.06.94zm-11 1L8.5 8.5l.94-2.06 2.06-.94-2.06-.94L8.5 2.5l-.94 2.06-2.06.94zm10 10l.94 2.06.94-2.06 2.06-.94-2.06-.94-.94-2.06-.94 2.06-2.06.94z\"/><path d=\"M17.41 7.96l-1.37-1.37c-.4-.4-.92-.59-1.43-.59-.52 0-1.04.2-1.43.59L10.3 9.45l-7.72 7.72c-.78.78-.78 2.05 0 2.83L4 21.41c.39.39.9.59 1.41.59.51 0 1.02-.2 1.41-.59l7.78-7.78 2.81-2.81c.8-.78.8-2.07 0-2.86zM5.41 20L4 18.59l7.72-7.72 1.47 1.35L5.41 20z\"/>\n",
              "  </svg>\n",
              "      </button>\n",
              "      \n",
              "  <style>\n",
              "    .colab-df-container {\n",
              "      display:flex;\n",
              "      flex-wrap:wrap;\n",
              "      gap: 12px;\n",
              "    }\n",
              "\n",
              "    .colab-df-convert {\n",
              "      background-color: #E8F0FE;\n",
              "      border: none;\n",
              "      border-radius: 50%;\n",
              "      cursor: pointer;\n",
              "      display: none;\n",
              "      fill: #1967D2;\n",
              "      height: 32px;\n",
              "      padding: 0 0 0 0;\n",
              "      width: 32px;\n",
              "    }\n",
              "\n",
              "    .colab-df-convert:hover {\n",
              "      background-color: #E2EBFA;\n",
              "      box-shadow: 0px 1px 2px rgba(60, 64, 67, 0.3), 0px 1px 3px 1px rgba(60, 64, 67, 0.15);\n",
              "      fill: #174EA6;\n",
              "    }\n",
              "\n",
              "    [theme=dark] .colab-df-convert {\n",
              "      background-color: #3B4455;\n",
              "      fill: #D2E3FC;\n",
              "    }\n",
              "\n",
              "    [theme=dark] .colab-df-convert:hover {\n",
              "      background-color: #434B5C;\n",
              "      box-shadow: 0px 1px 3px 1px rgba(0, 0, 0, 0.15);\n",
              "      filter: drop-shadow(0px 1px 2px rgba(0, 0, 0, 0.3));\n",
              "      fill: #FFFFFF;\n",
              "    }\n",
              "  </style>\n",
              "\n",
              "      <script>\n",
              "        const buttonEl =\n",
              "          document.querySelector('#df-4bdc653a-3b9e-48a3-bc87-3ae55cba12b6 button.colab-df-convert');\n",
              "        buttonEl.style.display =\n",
              "          google.colab.kernel.accessAllowed ? 'block' : 'none';\n",
              "\n",
              "        async function convertToInteractive(key) {\n",
              "          const element = document.querySelector('#df-4bdc653a-3b9e-48a3-bc87-3ae55cba12b6');\n",
              "          const dataTable =\n",
              "            await google.colab.kernel.invokeFunction('convertToInteractive',\n",
              "                                                     [key], {});\n",
              "          if (!dataTable) return;\n",
              "\n",
              "          const docLinkHtml = 'Like what you see? Visit the ' +\n",
              "            '<a target=\"_blank\" href=https://colab.research.google.com/notebooks/data_table.ipynb>data table notebook</a>'\n",
              "            + ' to learn more about interactive tables.';\n",
              "          element.innerHTML = '';\n",
              "          dataTable['output_type'] = 'display_data';\n",
              "          await google.colab.output.renderOutput(dataTable, element);\n",
              "          const docLink = document.createElement('div');\n",
              "          docLink.innerHTML = docLinkHtml;\n",
              "          element.appendChild(docLink);\n",
              "        }\n",
              "      </script>\n",
              "    </div>\n",
              "  </div>\n",
              "  "
            ]
          },
          "metadata": {},
          "execution_count": 18
        }
      ]
    },
    {
      "cell_type": "code",
      "source": [
        "# 정규화하는 방법 두가지\n",
        "# 1. 최대최소\n",
        "# 2. 표준 - 정규분포형태\n",
        "# 3. 로버스트 : 이상치에 영향을 받지 않음"
      ],
      "metadata": {
        "id": "Ny__xKInYR55"
      },
      "execution_count": 19,
      "outputs": []
    },
    {
      "cell_type": "code",
      "source": [
        "# 학습코드\n",
        "import torch\n",
        "import torch.nn as nn\n",
        "import torch.nn.functional as F\n",
        "import torch.optim as optim"
      ],
      "metadata": {
        "id": "OuZdjzduYsYK"
      },
      "execution_count": 69,
      "outputs": []
    },
    {
      "cell_type": "code",
      "source": [
        "# dataframe - torch tensor\n",
        "data = torch.from_numpy(df.values).float()\n",
        "x = data[:,:-1]\n",
        "y = data[:,-1:]"
      ],
      "metadata": {
        "id": "4_qzIwoDZH6J"
      },
      "execution_count": 70,
      "outputs": []
    },
    {
      "cell_type": "code",
      "source": [
        "class MyModel(nn.Module):\n",
        "  def __init__(self,input_dim,output_dim):\n",
        "    super(MyModel,self).__init__()\n",
        "    self.input_dim = input_dim\n",
        "    self.output_dim = output_dim\n",
        "\n",
        "    self.lin1 = nn.Linear(input_dim,3)\n",
        "    self.lin2 = nn.Linear(3,6)\n",
        "    self.lin3 = nn.Linear(6,3)\n",
        "    self.lin4 = nn.Linear(3,output_dim)\n",
        "    self.act = nn.ReLU()    \n",
        "  def forward(self, x):    \n",
        "    x = self.act(self.lin1(x))\n",
        "    x = self.act(self.lin2(x))\n",
        "    x = self.act(self.lin3(x))\n",
        "    x = self.lin4(x)\n",
        "    return x\n",
        "\n",
        "model = MyModel(x.size(-1), y.size(-1))\n",
        "model\n",
        "\n",
        "\n"
      ],
      "metadata": {
        "colab": {
          "base_uri": "https://localhost:8080/"
        },
        "id": "tz9quQf_ZYgx",
        "outputId": "ebde4e1d-4407-4a2e-fa6d-685ff2537130"
      },
      "execution_count": 71,
      "outputs": [
        {
          "output_type": "execute_result",
          "data": {
            "text/plain": [
              "MyModel(\n",
              "  (lin1): Linear(in_features=13, out_features=3, bias=True)\n",
              "  (lin2): Linear(in_features=3, out_features=6, bias=True)\n",
              "  (lin3): Linear(in_features=6, out_features=3, bias=True)\n",
              "  (lin4): Linear(in_features=3, out_features=1, bias=True)\n",
              "  (act): ReLU()\n",
              ")"
            ]
          },
          "metadata": {},
          "execution_count": 71
        }
      ]
    },
    {
      "cell_type": "code",
      "source": [
        "opti = optim.SGD(model.parameters(), lr = 1e-4)\n",
        "for i in range(100000):\n",
        "  y_hat = model(x)\n",
        "  loss = F.mse_loss(y_hat, y)\n",
        "  opti.zero_grad()\n",
        "  loss.backward()\n",
        "  opti.step()\n",
        "  if i % 1000 == 0:\n",
        "    print(f\"epoch:{i} loss:{loss}\")"
      ],
      "metadata": {
        "colab": {
          "base_uri": "https://localhost:8080/"
        },
        "id": "ux7re5oVbHX-",
        "outputId": "c709b218-1558-4537-a1ee-01667d46bbd7"
      },
      "execution_count": 75,
      "outputs": [
        {
          "output_type": "stream",
          "name": "stdout",
          "text": [
            "epoch:0 loss:6.455502510070801\n",
            "epoch:1000 loss:6.446536064147949\n",
            "epoch:2000 loss:6.437592506408691\n",
            "epoch:3000 loss:6.4268798828125\n",
            "epoch:4000 loss:6.419751167297363\n",
            "epoch:5000 loss:6.405096054077148\n",
            "epoch:6000 loss:6.397116661071777\n",
            "epoch:7000 loss:6.390933990478516\n",
            "epoch:8000 loss:6.3839850425720215\n",
            "epoch:9000 loss:6.37772798538208\n",
            "epoch:10000 loss:6.373002052307129\n",
            "epoch:11000 loss:6.3034868240356445\n",
            "epoch:12000 loss:6.276837348937988\n",
            "epoch:13000 loss:6.263635158538818\n",
            "epoch:14000 loss:6.253032207489014\n",
            "epoch:15000 loss:6.2441582679748535\n",
            "epoch:16000 loss:6.23553991317749\n",
            "epoch:17000 loss:6.228837013244629\n",
            "epoch:18000 loss:6.223124980926514\n",
            "epoch:19000 loss:6.216575622558594\n",
            "epoch:20000 loss:6.211841583251953\n",
            "epoch:21000 loss:6.2065958976745605\n",
            "epoch:22000 loss:6.199439525604248\n",
            "epoch:23000 loss:6.196187973022461\n",
            "epoch:24000 loss:6.193183422088623\n",
            "epoch:25000 loss:6.19038200378418\n",
            "epoch:26000 loss:6.188081741333008\n",
            "epoch:27000 loss:6.185999393463135\n",
            "epoch:28000 loss:6.184067726135254\n",
            "epoch:29000 loss:6.182358264923096\n",
            "epoch:30000 loss:6.180613994598389\n",
            "epoch:31000 loss:6.168112754821777\n",
            "epoch:32000 loss:6.159267902374268\n",
            "epoch:33000 loss:6.1546950340271\n",
            "epoch:34000 loss:6.151525020599365\n",
            "epoch:35000 loss:6.149585247039795\n",
            "epoch:36000 loss:6.147978782653809\n",
            "epoch:37000 loss:6.146834373474121\n",
            "epoch:38000 loss:6.14590311050415\n",
            "epoch:39000 loss:6.144970417022705\n",
            "epoch:40000 loss:6.144257545471191\n",
            "epoch:41000 loss:6.143651008605957\n",
            "epoch:42000 loss:6.142960548400879\n",
            "epoch:43000 loss:6.1424031257629395\n",
            "epoch:44000 loss:6.141819953918457\n",
            "epoch:45000 loss:6.14129114151001\n",
            "epoch:46000 loss:6.140790939331055\n",
            "epoch:47000 loss:6.140530586242676\n",
            "epoch:48000 loss:6.13998556137085\n",
            "epoch:49000 loss:6.1388373374938965\n",
            "epoch:50000 loss:6.137180328369141\n",
            "epoch:51000 loss:6.135909080505371\n",
            "epoch:52000 loss:6.134809970855713\n",
            "epoch:53000 loss:6.133863925933838\n",
            "epoch:54000 loss:6.132321834564209\n",
            "epoch:55000 loss:6.131269454956055\n",
            "epoch:56000 loss:6.130024433135986\n",
            "epoch:57000 loss:6.122509479522705\n",
            "epoch:58000 loss:6.1159281730651855\n",
            "epoch:59000 loss:6.1128692626953125\n",
            "epoch:60000 loss:6.1111578941345215\n",
            "epoch:61000 loss:6.110090255737305\n",
            "epoch:62000 loss:6.109041213989258\n",
            "epoch:63000 loss:6.108245849609375\n",
            "epoch:64000 loss:6.107479095458984\n",
            "epoch:65000 loss:6.106791973114014\n",
            "epoch:66000 loss:6.105906009674072\n",
            "epoch:67000 loss:6.104358196258545\n",
            "epoch:68000 loss:6.103613376617432\n",
            "epoch:69000 loss:6.103026390075684\n",
            "epoch:70000 loss:6.102463722229004\n",
            "epoch:71000 loss:6.1019816398620605\n",
            "epoch:72000 loss:6.101568222045898\n",
            "epoch:73000 loss:6.101238250732422\n",
            "epoch:74000 loss:6.10059118270874\n",
            "epoch:75000 loss:6.099757194519043\n",
            "epoch:76000 loss:6.0992279052734375\n",
            "epoch:77000 loss:6.0987443923950195\n",
            "epoch:78000 loss:6.098007678985596\n",
            "epoch:79000 loss:6.096834182739258\n",
            "epoch:80000 loss:6.095954895019531\n",
            "epoch:81000 loss:6.0952653884887695\n",
            "epoch:82000 loss:6.094985008239746\n",
            "epoch:83000 loss:6.094428539276123\n",
            "epoch:84000 loss:6.093700885772705\n",
            "epoch:85000 loss:6.09310245513916\n",
            "epoch:86000 loss:6.092660427093506\n",
            "epoch:87000 loss:6.092255592346191\n",
            "epoch:88000 loss:6.0918169021606445\n",
            "epoch:89000 loss:6.0913190841674805\n",
            "epoch:90000 loss:6.090950965881348\n",
            "epoch:91000 loss:6.09074592590332\n",
            "epoch:92000 loss:6.090351581573486\n",
            "epoch:93000 loss:6.090064525604248\n",
            "epoch:94000 loss:6.089781761169434\n",
            "epoch:95000 loss:6.089564800262451\n",
            "epoch:96000 loss:6.089200973510742\n",
            "epoch:97000 loss:6.088562965393066\n",
            "epoch:98000 loss:6.088223934173584\n",
            "epoch:99000 loss:6.087979793548584\n"
          ]
        }
      ]
    },
    {
      "cell_type": "code",
      "source": [
        "import seaborn as sns\n",
        "torch.cat([y_hat,y],dim=1)\n",
        "predic_df = pd.DataFrame(torch.cat([y_hat,y],dim=1).detach().numpy(),columns=['y_hat','y'])"
      ],
      "metadata": {
        "id": "BixQvwUIbzVp"
      },
      "execution_count": 76,
      "outputs": []
    },
    {
      "cell_type": "code",
      "source": [
        "predic_df['y_hat'].values\n",
        "predic_df['y'].values\n",
        "plt.scatter(predic_df['y_hat'].values,predic_df['y'].values)"
      ],
      "metadata": {
        "colab": {
          "base_uri": "https://localhost:8080/",
          "height": 448
        },
        "id": "r-DtD9d6ce7X",
        "outputId": "2b5a248d-d336-4cdb-f484-ff3ddc48de3f"
      },
      "execution_count": 82,
      "outputs": [
        {
          "output_type": "execute_result",
          "data": {
            "text/plain": [
              "<matplotlib.collections.PathCollection at 0x7fa83171dd30>"
            ]
          },
          "metadata": {},
          "execution_count": 82
        },
        {
          "output_type": "display_data",
          "data": {
            "text/plain": [
              "<Figure size 640x480 with 1 Axes>"
            ],
            "image/png": "[encoded data removed]"
          },
          "metadata": {}
        }
      ]
    },
    {
      "cell_type": "code",
      "source": [
        "sns.pairplot(predic_df)"
      ],
      "metadata": {
        "colab": {
          "base_uri": "https://localhost:8080/",
          "height": 531
        },
        "id": "qCwJLn44dXTS",
        "outputId": "999897aa-f7d8-46fe-c0fc-86b2ffc3eb0f"
      },
      "execution_count": 78,
      "outputs": [
        {
          "output_type": "execute_result",
          "data": {
            "text/plain": [
              "<seaborn.axisgrid.PairGrid at 0x7fa831b0cd00>"
            ]
          },
          "metadata": {},
          "execution_count": 78
        },
        {
          "output_type": "display_data",
          "data": {
            "text/plain": [
              "<Figure size 500x500 with 6 Axes>"
            ],
            "image/png": "[encoded data removed]"
          },
          "metadata": {}
        }
      ]
    },
    {
      "cell_type": "code",
      "source": [],
      "metadata": {
        "id": "enkygNjnhFCf"
      },
      "execution_count": null,
      "outputs": []
    }
  ]
}