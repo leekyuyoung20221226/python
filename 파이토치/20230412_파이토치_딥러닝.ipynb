{
  "nbformat": 4,
  "nbformat_minor": 0,
  "metadata": {
    "colab": {
      "provenance": []
    },
    "kernelspec": {
      "name": "python3",
      "display_name": "Python 3"
    },
    "language_info": {
      "name": "python"
    }
  },
  "cells": [
    {
      "cell_type": "code",
      "execution_count": 5,
      "metadata": {
        "id": "kM7cN8ZRTDYo"
      },
      "outputs": [],
      "source": [
        "# 데이터\n",
        "import pandas as pd\n",
        "import numpy as np\n",
        "import matplotlib.pyplot as plt\n",
        "from sklearn.preprocessing import StandardScaler\n",
        "# from sklearn.datasets import load_boston\n",
        "data_url = \"http://lib.stat.cmu.edu/datasets/boston\"\n",
        "raw_df = pd.read_csv(data_url, sep=\"\\s+\", skiprows=22, header=None)\n",
        "data = np.hstack([raw_df.values[::2, :], raw_df.values[1::2, :2]])\n",
        "target = raw_df.values[1::2, 2]"
      ]
    },
    {
      "cell_type": "code",
      "source": [
        "data.shape"
      ],
      "metadata": {
        "colab": {
          "base_uri": "https://localhost:8080/"
        },
        "id": "T19t-UMkXu49",
        "outputId": "cf230913-354f-4c8b-e2a5-22460cab1dd7"
      },
      "execution_count": 16,
      "outputs": [
        {
          "output_type": "execute_result",
          "data": {
            "text/plain": [
              "(506, 13)"
            ]
          },
          "metadata": {},
          "execution_count": 16
        }
      ]
    },
    {
      "cell_type": "code",
      "source": [
        "df = pd.DataFrame(np.hstack([data,target.reshape(-1,1)]))\n",
        "ss = StandardScaler()\n",
        "df.values[:,:-1] = ss.fit_transform(df.values[:,:-1]).round(4)"
      ],
      "metadata": {
        "id": "f_pA9wJTTXZM"
      },
      "execution_count": 17,
      "outputs": []
    },
    {
      "cell_type": "code",
      "source": [
        "df.head()"
      ],
      "metadata": {
        "colab": {
          "base_uri": "https://localhost:8080/",
          "height": 206
        },
        "id": "nHMr7RTZW6mZ",
        "outputId": "59889440-8528-496e-a609-68e53875540c"
      },
      "execution_count": 18,
      "outputs": [
        {
          "output_type": "execute_result",
          "data": {
            "text/plain": [
              "       0       1       2       3       4       5       6       7       8   \\\n",
              "0 -0.4198  0.2848 -1.2879 -0.2726 -0.1442  0.4137 -0.1200  0.1402 -0.9828   \n",
              "1 -0.4173 -0.4877 -0.5934 -0.2726 -0.7403  0.1943  0.3672  0.5572 -0.8679   \n",
              "2 -0.4173 -0.4877 -0.5934 -0.2726 -0.7403  1.2827 -0.2658  0.5572 -0.8679   \n",
              "3 -0.4168 -0.4877 -1.3069 -0.2726 -0.8353  1.0163 -0.8099  1.0777 -0.7529   \n",
              "4 -0.4125 -0.4877 -1.3069 -0.2726 -0.8353  1.2286 -0.5112  1.0777 -0.7529   \n",
              "\n",
              "       9       10      11      12    13  \n",
              "0 -0.6666 -1.4590  0.4411 -1.0756  24.0  \n",
              "1 -0.9873 -0.3031  0.4411 -0.4924  21.6  \n",
              "2 -0.9873 -0.3031  0.3964 -1.2087  34.7  \n",
              "3 -1.1061  0.1130  0.4162 -1.3615  33.4  \n",
              "4 -1.1061  0.1130  0.4411 -1.0265  36.2  "
            ],
            "text/html": [
              "\n",
              "  <div id=\"df-4bdc653a-3b9e-48a3-bc87-3ae55cba12b6\">\n",
              "    <div class=\"colab-df-container\">\n",
              "      <div>\n",
              "<style scoped>\n",
              "    .dataframe tbody tr th:only-of-type {\n",
              "        vertical-align: middle;\n",
              "    }\n",
              "\n",
              "    .dataframe tbody tr th {\n",
              "        vertical-align: top;\n",
              "    }\n",
              "\n",
              "    .dataframe thead th {\n",
              "        text-align: right;\n",
              "    }\n",
              "</style>\n",
              "<table border=\"1\" class=\"dataframe\">\n",
              "  <thead>\n",
              "    <tr style=\"text-align: right;\">\n",
              "      <th></th>\n",
              "      <th>0</th>\n",
              "      <th>1</th>\n",
              "      <th>2</th>\n",
              "      <th>3</th>\n",
              "      <th>4</th>\n",
              "      <th>5</th>\n",
              "      <th>6</th>\n",
              "      <th>7</th>\n",
              "      <th>8</th>\n",
              "      <th>9</th>\n",
              "      <th>10</th>\n",
              "      <th>11</th>\n",
              "      <th>12</th>\n",
              "      <th>13</th>\n",
              "    </tr>\n",
              "  </thead>\n",
              "  <tbody>\n",
              "    <tr>\n",
              "      <th>0</th>\n",
              "      <td>-0.4198</td>\n",
              "      <td>0.2848</td>\n",
              "      <td>-1.2879</td>\n",
              "      <td>-0.2726</td>\n",
              "      <td>-0.1442</td>\n",
              "      <td>0.4137</td>\n",
              "      <td>-0.1200</td>\n",
              "      <td>0.1402</td>\n",
              "      <td>-0.9828</td>\n",
              "      <td>-0.6666</td>\n",
              "      <td>-1.4590</td>\n",
              "      <td>0.4411</td>\n",
              "      <td>-1.0756</td>\n",
              "      <td>24.0</td>\n",
              "    </tr>\n",
              "    <tr>\n",
              "      <th>1</th>\n",
              "      <td>-0.4173</td>\n",
              "      <td>-0.4877</td>\n",
              "      <td>-0.5934</td>\n",
              "      <td>-0.2726</td>\n",
              "      <td>-0.7403</td>\n",
              "      <td>0.1943</td>\n",
              "      <td>0.3672</td>\n",
              "      <td>0.5572</td>\n",
              "      <td>-0.8679</td>\n",
              "      <td>-0.9873</td>\n",
              "      <td>-0.3031</td>\n",
              "      <td>0.4411</td>\n",
              "      <td>-0.4924</td>\n",
              "      <td>21.6</td>\n",
              "    </tr>\n",
              "    <tr>\n",
              "      <th>2</th>\n",
              "      <td>-0.4173</td>\n",
              "      <td>-0.4877</td>\n",
              "      <td>-0.5934</td>\n",
              "      <td>-0.2726</td>\n",
              "      <td>-0.7403</td>\n",
              "      <td>1.2827</td>\n",
              "      <td>-0.2658</td>\n",
              "      <td>0.5572</td>\n",
              "      <td>-0.8679</td>\n",
              "      <td>-0.9873</td>\n",
              "      <td>-0.3031</td>\n",
              "      <td>0.3964</td>\n",
              "      <td>-1.2087</td>\n",
              "      <td>34.7</td>\n",
              "    </tr>\n",
              "    <tr>\n",
              "      <th>3</th>\n",
              "      <td>-0.4168</td>\n",
              "      <td>-0.4877</td>\n",
              "      <td>-1.3069</td>\n",
              "      <td>-0.2726</td>\n",
              "      <td>-0.8353</td>\n",
              "      <td>1.0163</td>\n",
              "      <td>-0.8099</td>\n",
              "      <td>1.0777</td>\n",
              "      <td>-0.7529</td>\n",
              "      <td>-1.1061</td>\n",
              "      <td>0.1130</td>\n",
              "      <td>0.4162</td>\n",
              "      <td>-1.3615</td>\n",
              "      <td>33.4</td>\n",
              "    </tr>\n",
              "    <tr>\n",
              "      <th>4</th>\n",
              "      <td>-0.4125</td>\n",
              "      <td>-0.4877</td>\n",
              "      <td>-1.3069</td>\n",
              "      <td>-0.2726</td>\n",
              "      <td>-0.8353</td>\n",
              "      <td>1.2286</td>\n",
              "      <td>-0.5112</td>\n",
              "      <td>1.0777</td>\n",
              "      <td>-0.7529</td>\n",
              "      <td>-1.1061</td>\n",
              "      <td>0.1130</td>\n",
              "      <td>0.4411</td>\n",
              "      <td>-1.0265</td>\n",
              "      <td>36.2</td>\n",
              "    </tr>\n",
              "  </tbody>\n",
              "</table>\n",
              "</div>\n",
              "      <button class=\"colab-df-convert\" onclick=\"convertToInteractive('df-4bdc653a-3b9e-48a3-bc87-3ae55cba12b6')\"\n",
              "              title=\"Convert this dataframe to an interactive table.\"\n",
              "              style=\"display:none;\">\n",
              "        \n",
              "  <svg xmlns=\"http://www.w3.org/2000/svg\" height=\"24px\"viewBox=\"0 0 24 24\"\n",
              "       width=\"24px\">\n",
              "    <path d=\"M0 0h24v24H0V0z\" fill=\"none\"/>\n",
              "    <path d=\"M18.56 5.44l.94 2.06.94-2.06 2.06-.94-2.06-.94-.94-2.06-.94 2.06-2.06.94zm-11 1L8.5 8.5l.94-2.06 2.06-.94-2.06-.94L8.5 2.5l-.94 2.06-2.06.94zm10 10l.94 2.06.94-2.06 2.06-.94-2.06-.94-.94-2.06-.94 2.06-2.06.94z\"/><path d=\"M17.41 7.96l-1.37-1.37c-.4-.4-.92-.59-1.43-.59-.52 0-1.04.2-1.43.59L10.3 9.45l-7.72 7.72c-.78.78-.78 2.05 0 2.83L4 21.41c.39.39.9.59 1.41.59.51 0 1.02-.2 1.41-.59l7.78-7.78 2.81-2.81c.8-.78.8-2.07 0-2.86zM5.41 20L4 18.59l7.72-7.72 1.47 1.35L5.41 20z\"/>\n",
              "  </svg>\n",
              "      </button>\n",
              "      \n",
              "  <style>\n",
              "    .colab-df-container {\n",
              "      display:flex;\n",
              "      flex-wrap:wrap;\n",
              "      gap: 12px;\n",
              "    }\n",
              "\n",
              "    .colab-df-convert {\n",
              "      background-color: #E8F0FE;\n",
              "      border: none;\n",
              "      border-radius: 50%;\n",
              "      cursor: pointer;\n",
              "      display: none;\n",
              "      fill: #1967D2;\n",
              "      height: 32px;\n",
              "      padding: 0 0 0 0;\n",
              "      width: 32px;\n",
              "    }\n",
              "\n",
              "    .colab-df-convert:hover {\n",
              "      background-color: #E2EBFA;\n",
              "      box-shadow: 0px 1px 2px rgba(60, 64, 67, 0.3), 0px 1px 3px 1px rgba(60, 64, 67, 0.15);\n",
              "      fill: #174EA6;\n",
              "    }\n",
              "\n",
              "    [theme=dark] .colab-df-convert {\n",
              "      background-color: #3B4455;\n",
              "      fill: #D2E3FC;\n",
              "    }\n",
              "\n",
              "    [theme=dark] .colab-df-convert:hover {\n",
              "      background-color: #434B5C;\n",
              "      box-shadow: 0px 1px 3px 1px rgba(0, 0, 0, 0.15);\n",
              "      filter: drop-shadow(0px 1px 2px rgba(0, 0, 0, 0.3));\n",
              "      fill: #FFFFFF;\n",
              "    }\n",
              "  </style>\n",
              "\n",
              "      <script>\n",
              "        const buttonEl =\n",
              "          document.querySelector('#df-4bdc653a-3b9e-48a3-bc87-3ae55cba12b6 button.colab-df-convert');\n",
              "        buttonEl.style.display =\n",
              "          google.colab.kernel.accessAllowed ? 'block' : 'none';\n",
              "\n",
              "        async function convertToInteractive(key) {\n",
              "          const element = document.querySelector('#df-4bdc653a-3b9e-48a3-bc87-3ae55cba12b6');\n",
              "          const dataTable =\n",
              "            await google.colab.kernel.invokeFunction('convertToInteractive',\n",
              "                                                     [key], {});\n",
              "          if (!dataTable) return;\n",
              "\n",
              "          const docLinkHtml = 'Like what you see? Visit the ' +\n",
              "            '<a target=\"_blank\" href=https://colab.research.google.com/notebooks/data_table.ipynb>data table notebook</a>'\n",
              "            + ' to learn more about interactive tables.';\n",
              "          element.innerHTML = '';\n",
              "          dataTable['output_type'] = 'display_data';\n",
              "          await google.colab.output.renderOutput(dataTable, element);\n",
              "          const docLink = document.createElement('div');\n",
              "          docLink.innerHTML = docLinkHtml;\n",
              "          element.appendChild(docLink);\n",
              "        }\n",
              "      </script>\n",
              "    </div>\n",
              "  </div>\n",
              "  "
            ]
          },
          "metadata": {},
          "execution_count": 18
        }
      ]
    },
    {
      "cell_type": "code",
      "source": [
        "# 정규화하는 방법 두가지\n",
        "# 1. 최대최소\n",
        "# 2. 표준 - 정규분포형태\n",
        "# 3. 로버스트 : 이상치에 영향을 받지 않음"
      ],
      "metadata": {
        "id": "Ny__xKInYR55"
      },
      "execution_count": 19,
      "outputs": []
    },
    {
      "cell_type": "code",
      "source": [
        "# 학습코드\n",
        "import torch\n",
        "import torch.nn as nn\n",
        "import torch.nn.functional as F\n",
        "import torch.optim as optim"
      ],
      "metadata": {
        "id": "OuZdjzduYsYK"
      },
      "execution_count": 69,
      "outputs": []
    },
    {
      "cell_type": "code",
      "source": [
        "# dataframe - torch tensor\n",
        "data = torch.from_numpy(df.values).float()\n",
        "x = data[:,:-1]\n",
        "y = data[:,-1:]"
      ],
      "metadata": {
        "id": "4_qzIwoDZH6J"
      },
      "execution_count": 70,
      "outputs": []
    },
    {
      "cell_type": "code",
      "source": [
        "class MyModel(nn.Module):\n",
        "  def __init__(self,input_dim,output_dim):\n",
        "    super(MyModel,self).__init__()\n",
        "    self.input_dim = input_dim\n",
        "    self.output_dim = output_dim\n",
        "\n",
        "    self.lin1 = nn.Linear(input_dim,3)\n",
        "    self.lin2 = nn.Linear(3,6)\n",
        "    self.lin3 = nn.Linear(6,3)\n",
        "    self.lin4 = nn.Linear(3,output_dim)\n",
        "    self.act = nn.ReLU()    \n",
        "  def forward(self, x):    \n",
        "    x = self.act(self.lin1(x))\n",
        "    x = self.act(self.lin2(x))\n",
        "    x = self.act(self.lin3(x))\n",
        "    x = self.lin4(x)\n",
        "    return x\n",
        "\n",
        "model = MyModel(x.size(-1), y.size(-1))\n",
        "model\n",
        "\n",
        "\n"
      ],
      "metadata": {
        "colab": {
          "base_uri": "https://localhost:8080/"
        },
        "id": "tz9quQf_ZYgx",
        "outputId": "ebde4e1d-4407-4a2e-fa6d-685ff2537130"
      },
      "execution_count": 71,
      "outputs": [
        {
          "output_type": "execute_result",
          "data": {
            "text/plain": [
              "MyModel(\n",
              "  (lin1): Linear(in_features=13, out_features=3, bias=True)\n",
              "  (lin2): Linear(in_features=3, out_features=6, bias=True)\n",
              "  (lin3): Linear(in_features=6, out_features=3, bias=True)\n",
              "  (lin4): Linear(in_features=3, out_features=1, bias=True)\n",
              "  (act): ReLU()\n",
              ")"
            ]
          },
          "metadata": {},
          "execution_count": 71
        }
      ]
    },
    {
      "cell_type": "code",
      "source": [
        "opti = optim.SGD(model.parameters(), lr = 1e-4)\n",
        "for i in range(100000):\n",
        "  y_hat = model(x)\n",
        "  loss = F.mse_loss(y_hat, y)\n",
        "  opti.zero_grad()\n",
        "  loss.backward()\n",
        "  opti.step()\n",
        "  if i % 1000 == 0:\n",
        "    print(f\"epoch:{i} loss:{loss}\")"
      ],
      "metadata": {
        "colab": {
          "base_uri": "https://localhost:8080/"
        },
        "id": "ux7re5oVbHX-",
        "outputId": "e0220648-7047-4d28-97e2-81e6c1030aed"
      },
      "execution_count": null,
      "outputs": [
        {
          "output_type": "stream",
          "name": "stdout",
          "text": [
            "epoch:0 loss:571.3670654296875\n",
            "epoch:1000 loss:44.855384826660156\n",
            "epoch:2000 loss:16.572729110717773\n",
            "epoch:3000 loss:14.713502883911133\n",
            "epoch:4000 loss:13.848423957824707\n",
            "epoch:5000 loss:13.334123611450195\n",
            "epoch:6000 loss:13.068800926208496\n",
            "epoch:7000 loss:12.894441604614258\n",
            "epoch:8000 loss:12.734848022460938\n",
            "epoch:9000 loss:12.546339988708496\n",
            "epoch:10000 loss:12.295122146606445\n",
            "epoch:11000 loss:11.967347145080566\n",
            "epoch:12000 loss:11.685013771057129\n",
            "epoch:13000 loss:11.502933502197266\n",
            "epoch:14000 loss:11.342779159545898\n",
            "epoch:15000 loss:11.176750183105469\n",
            "epoch:16000 loss:11.038097381591797\n",
            "epoch:17000 loss:10.917468070983887\n",
            "epoch:18000 loss:10.80449104309082\n",
            "epoch:19000 loss:10.695117950439453\n",
            "epoch:20000 loss:10.59041976928711\n",
            "epoch:21000 loss:10.481653213500977\n",
            "epoch:22000 loss:10.334721565246582\n",
            "epoch:23000 loss:10.202733039855957\n",
            "epoch:24000 loss:10.08785343170166\n",
            "epoch:25000 loss:9.98852825164795\n",
            "epoch:26000 loss:9.894131660461426\n",
            "epoch:27000 loss:9.801839828491211\n",
            "epoch:28000 loss:9.714749336242676\n",
            "epoch:29000 loss:9.630938529968262\n",
            "epoch:30000 loss:9.55744457244873\n",
            "epoch:31000 loss:9.460637092590332\n",
            "epoch:32000 loss:9.353425025939941\n",
            "epoch:33000 loss:9.252645492553711\n",
            "epoch:34000 loss:9.154704093933105\n",
            "epoch:35000 loss:9.063861846923828\n",
            "epoch:36000 loss:8.94728946685791\n",
            "epoch:37000 loss:8.836472511291504\n",
            "epoch:38000 loss:8.727446556091309\n",
            "epoch:39000 loss:8.624896049499512\n",
            "epoch:40000 loss:8.538366317749023\n",
            "epoch:41000 loss:8.427201271057129\n",
            "epoch:42000 loss:8.344330787658691\n",
            "epoch:43000 loss:8.293879508972168\n",
            "epoch:44000 loss:8.248197555541992\n",
            "epoch:45000 loss:8.207283973693848\n",
            "epoch:46000 loss:8.170487403869629\n",
            "epoch:47000 loss:8.13623332977295\n",
            "epoch:48000 loss:8.101309776306152\n"
          ]
        }
      ]
    },
    {
      "cell_type": "code",
      "source": [
        "import seaborn as sns\n",
        "torch.cat([y_hat,y],dim=1)\n",
        "predic_df = pd.DataFrame(torch.cat([y_hat,y],dim=1).detach().numpy(),columns=['y_hat','y'])"
      ],
      "metadata": {
        "id": "BixQvwUIbzVp"
      },
      "execution_count": null,
      "outputs": []
    },
    {
      "cell_type": "code",
      "source": [
        "sns.scatterplot(predic_df)"
      ],
      "metadata": {
        "id": "r-DtD9d6ce7X"
      },
      "execution_count": null,
      "outputs": []
    },
    {
      "cell_type": "code",
      "source": [],
      "metadata": {
        "id": "qCwJLn44dXTS"
      },
      "execution_count": null,
      "outputs": []
    }
  ]
}