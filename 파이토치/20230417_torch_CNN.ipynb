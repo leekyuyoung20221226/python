{
  "nbformat": 4,
  "nbformat_minor": 0,
  "metadata": {
    "colab": {
      "provenance": []
    },
    "kernelspec": {
      "name": "python3",
      "display_name": "Python 3"
    },
    "language_info": {
      "name": "python"
    }
  },
  "cells": [
    {
      "cell_type": "code",
      "execution_count": null,
      "metadata": {
        "id": "3LeWjYlgsJdg"
      },
      "outputs": [],
      "source": [
        "# CNN : 컨볼류션 계층, 폴링계층을 통해 특징을 모아서 최종분류\n",
        "# 컨볼류션 - 폴링 - 컨볼류션 - 폴링 - 일반신경망 - 일반신경망 - 결과\n",
        "# 커널 이나 필터 : 3 X 3 / 5 X 5\n"
      ]
    },
    {
      "cell_type": "markdown",
      "source": [
        "![image.png](data:image/png;base64,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)"
      ],
      "metadata": {
        "id": "G9NKa-MetUsQ"
      }
    },
    {
      "cell_type": "code",
      "source": [
        "# Output_size = ((Input_size - Kernel_size + 2 * Padding) / Stride) + 1"
      ],
      "metadata": {
        "id": "4EwXhxf3tCa5"
      },
      "execution_count": null,
      "outputs": []
    },
    {
      "cell_type": "code",
      "source": [
        "# ccpd ccpd fd fd \n",
        "import torch\n",
        "import torch.nn as nn\n",
        "import torch.optim as optim\n",
        "import torch.nn.functional as F\n",
        "from torchvision import transforms, datasets\n",
        "import numpy as np\n"
      ],
      "metadata": {
        "id": "nPWhQqLBuE51"
      },
      "execution_count": null,
      "outputs": []
    },
    {
      "cell_type": "code",
      "source": [
        "device = 'cuda' if torch.cuda.is_available() else 'cpu' "
      ],
      "metadata": {
        "id": "LzNgn3miuhLj"
      },
      "execution_count": null,
      "outputs": []
    },
    {
      "cell_type": "code",
      "source": [
        "# 하이퍼 파라메터\n",
        "EPOCH = 5\n",
        "BATCH_SIZE = 64\n",
        "EPOCH = 40\n",
        "BATCH_SIZE = 64"
      ],
      "metadata": {
        "id": "K_BkD9jBut50"
      },
      "execution_count": 85,
      "outputs": []
    },
    {
      "cell_type": "code",
      "source": [
        "datasets.FashionMNIST"
      ],
      "metadata": {
        "colab": {
          "base_uri": "https://localhost:8080/"
        },
        "id": "_CcI5OBVvfqe",
        "outputId": "bd9b7c63-1695-4be0-ca9c-b71c94e1928f"
      },
      "execution_count": 86,
      "outputs": [
        {
          "output_type": "execute_result",
          "data": {
            "text/plain": [
              "torchvision.datasets.mnist.FashionMNIST"
            ]
          },
          "metadata": {},
          "execution_count": 86
        }
      ]
    },
    {
      "cell_type": "code",
      "source": [
        "train_loader = torch.utils.data.DataLoader(\n",
        "    datasets.FashionMNIST('./data',\n",
        "                          train = True,\n",
        "                          download = True,\n",
        "                          transform = transforms.Compose([\n",
        "                              transforms.ToTensor(),\n",
        "                              transforms.Normalize( (0.5,),(0.5,)  )\n",
        "                          ])\n",
        "    ),\n",
        "    batch_size = BATCH_SIZE, shuffle = True\n",
        ")"
      ],
      "metadata": {
        "id": "etPQtxWju1SL"
      },
      "execution_count": 87,
      "outputs": []
    },
    {
      "cell_type": "code",
      "source": [
        "test_loader = torch.utils.data.DataLoader(\n",
        "    datasets.FashionMNIST('./data',\n",
        "                          train = False,\n",
        "                          download = True,\n",
        "                          transform = transforms.Compose([\n",
        "                              transforms.ToTensor(),\n",
        "                              transforms.Normalize( (0.5,),(0.5,)  )\n",
        "                          ])\n",
        "    ),\n",
        "    batch_size = BATCH_SIZE, shuffle = True\n",
        ")"
      ],
      "metadata": {
        "id": "U_Dk2Z44wKwD"
      },
      "execution_count": 88,
      "outputs": []
    },
    {
      "cell_type": "code",
      "source": [
        "for i in train_loader:\n",
        "  print(i[0].shape)\n",
        "  break"
      ],
      "metadata": {
        "colab": {
          "base_uri": "https://localhost:8080/"
        },
        "id": "Igx4Q91_xeC_",
        "outputId": "4effc6d7-c2a2-4c1c-83a3-242e48ecfb08"
      },
      "execution_count": 89,
      "outputs": [
        {
          "output_type": "stream",
          "name": "stdout",
          "text": [
            "torch.Size([64, 1, 28, 28])\n"
          ]
        }
      ]
    },
    {
      "cell_type": "code",
      "source": [
        "class CNN(nn.Module):\n",
        "  def __init__(self ):\n",
        "    super(CNN,self).__init__()\n",
        "    self.conv1 = nn.Conv2d(1,10,kernel_size=5)\n",
        "    self.conv2 = nn.Conv2d(10,20,kernel_size=5)\n",
        "    self.drop = nn.Dropout2d()\n",
        "    self.relu = nn.LeakyReLU()\n",
        "    self.mp = nn.MaxPool2d(2)\n",
        "\n",
        "    self.fc1 = nn.Linear(320,50)  # (20,4,4)\n",
        "    self.fc2 = nn.Linear(50,10)\n",
        "  def forward(self, x):\n",
        "    x = self.relu(self.mp(self.conv1(x)) )    \n",
        "    x = self.relu(self.mp(self.conv2(x)) )    \n",
        "    \n",
        "    x = x.view(-1,320)    \n",
        "    x = self.relu( self.fc1(x))\n",
        "    x = self.drop(x)\n",
        "    x = self.fc2(x)\n",
        "    return F.log_softmax(x,  dim=1)    \n",
        "    return x"
      ],
      "metadata": {
        "id": "VFMZ7R3YwUXy"
      },
      "execution_count": 90,
      "outputs": []
    },
    {
      "cell_type": "code",
      "source": [
        "model = CNN().to(device)\n",
        "op = optim.SGD(model.parameters(), lr = 1e-2, momentum=0.5)"
      ],
      "metadata": {
        "id": "kL0WstHhzmy4"
      },
      "execution_count": 91,
      "outputs": []
    },
    {
      "cell_type": "code",
      "source": [
        "# 학습함수\n",
        "from tqdm import tqdm\n",
        "def train(model,train_loader, optimizer, epoch):\n",
        "  model.train()\n",
        "  for idx , (data, label) in tqdm(enumerate(train_loader)):\n",
        "    data, label = data.to(device), label.to(device)\n",
        "    optimizer.zero_grad()\n",
        "    output = model(data)\n",
        "    loss = F.cross_entropy(output, label)\n",
        "    loss.backward()\n",
        "    optimizer.step()\n",
        "    if idx % 100 == 0:\n",
        "      print(f\"train epoch:{epoch} loss : {loss.item()}\")\n",
        "\n",
        "def evaluate(model,test_loader):\n",
        "  model.eval()\n",
        "  test_loss = 0\n",
        "  correct = 0\n",
        "  with torch.no_grad():\n",
        "    for idx , (data, label) in tqdm(enumerate(test_loader)):\n",
        "      data, label = data.to(device), label.to(device)\n",
        "      \n",
        "      output = model(data)      \n",
        "      # 배치오차 합산\n",
        "      test_loss += F.cross_entropy(output, label,reduction='sum').item()\n",
        "      # 가장 높은 값을 가진 인덱스가 예측값\n",
        "      pred = output.max(1, keepdim=True)[1]\n",
        "      correct += pred.eq(label.view_as(pred)).sum().item()\n",
        "  test_loss /= len(test_loader.dataset)\n",
        "  test_accuracy = 100*correct / len(test_loader.dataset)\n",
        "  return test_loss, test_accuracy     "
      ],
      "metadata": {
        "id": "1bjnFThSzqpI"
      },
      "execution_count": 92,
      "outputs": []
    },
    {
      "cell_type": "code",
      "source": [
        "for epoch in range(1,EPOCH+1):\n",
        "  train(model, train_loader, op,epoch)\n",
        "  test_loss, test_accuracy =  evaluate(model,test_loader)\n",
        "  print(f\"[{epoch}] test loss : {test_loss:.4f} accuracy : {test_accuracy}\")"
      ],
      "metadata": {
        "id": "0f4DEH_n1R-O",
        "colab": {
          "base_uri": "https://localhost:8080/",
          "height": 1000
        },
        "outputId": "0c55563b-cb56-4db1-d23f-ed989e38c3f9"
      },
      "execution_count": 93,
      "outputs": [
        {
          "output_type": "stream",
          "name": "stderr",
          "text": [
            "2it [00:00, 16.85it/s]"
          ]
        },
        {
          "output_type": "stream",
          "name": "stdout",
          "text": [
            "train epoch:1 loss : 2.2978219985961914\n"
          ]
        },
        {
          "output_type": "stream",
          "name": "stderr",
          "text": [
            "105it [00:04, 26.15it/s]"
          ]
        },
        {
          "output_type": "stream",
          "name": "stdout",
          "text": [
            "train epoch:1 loss : 2.180541753768921\n"
          ]
        },
        {
          "output_type": "stream",
          "name": "stderr",
          "text": [
            "204it [00:08, 24.99it/s]"
          ]
        },
        {
          "output_type": "stream",
          "name": "stdout",
          "text": [
            "train epoch:1 loss : 1.4468023777008057\n"
          ]
        },
        {
          "output_type": "stream",
          "name": "stderr",
          "text": [
            "303it [00:12, 22.85it/s]"
          ]
        },
        {
          "output_type": "stream",
          "name": "stdout",
          "text": [
            "train epoch:1 loss : 0.937128484249115\n"
          ]
        },
        {
          "output_type": "stream",
          "name": "stderr",
          "text": [
            "406it [00:17, 25.75it/s]"
          ]
        },
        {
          "output_type": "stream",
          "name": "stdout",
          "text": [
            "train epoch:1 loss : 1.3145872354507446\n"
          ]
        },
        {
          "output_type": "stream",
          "name": "stderr",
          "text": [
            "505it [00:21, 26.09it/s]"
          ]
        },
        {
          "output_type": "stream",
          "name": "stdout",
          "text": [
            "train epoch:1 loss : 0.9837087988853455\n"
          ]
        },
        {
          "output_type": "stream",
          "name": "stderr",
          "text": [
            "604it [00:25, 26.47it/s]"
          ]
        },
        {
          "output_type": "stream",
          "name": "stdout",
          "text": [
            "train epoch:1 loss : 0.7639232277870178\n"
          ]
        },
        {
          "output_type": "stream",
          "name": "stderr",
          "text": [
            "704it [00:29, 26.71it/s]"
          ]
        },
        {
          "output_type": "stream",
          "name": "stdout",
          "text": [
            "train epoch:1 loss : 0.8758420944213867\n"
          ]
        },
        {
          "output_type": "stream",
          "name": "stderr",
          "text": [
            "806it [00:33, 25.90it/s]"
          ]
        },
        {
          "output_type": "stream",
          "name": "stdout",
          "text": [
            "train epoch:1 loss : 0.7515295147895813\n"
          ]
        },
        {
          "output_type": "stream",
          "name": "stderr",
          "text": [
            "905it [00:37, 25.96it/s]"
          ]
        },
        {
          "output_type": "stream",
          "name": "stdout",
          "text": [
            "train epoch:1 loss : 0.8788120150566101\n"
          ]
        },
        {
          "output_type": "stream",
          "name": "stderr",
          "text": [
            "938it [00:39, 23.89it/s]\n",
            "157it [00:04, 33.58it/s]\n"
          ]
        },
        {
          "output_type": "stream",
          "name": "stdout",
          "text": [
            "[1] test loss : 0.6945 accuracy : 74.24\n"
          ]
        },
        {
          "output_type": "stream",
          "name": "stderr",
          "text": [
            "3it [00:00, 24.92it/s]"
          ]
        },
        {
          "output_type": "stream",
          "name": "stdout",
          "text": [
            "train epoch:2 loss : 0.8709802627563477\n"
          ]
        },
        {
          "output_type": "stream",
          "name": "stderr",
          "text": [
            "105it [00:03, 26.11it/s]"
          ]
        },
        {
          "output_type": "stream",
          "name": "stdout",
          "text": [
            "train epoch:2 loss : 0.599075436592102\n"
          ]
        },
        {
          "output_type": "stream",
          "name": "stderr",
          "text": [
            "204it [00:07, 19.64it/s]"
          ]
        },
        {
          "output_type": "stream",
          "name": "stdout",
          "text": [
            "train epoch:2 loss : 0.7121943831443787\n"
          ]
        },
        {
          "output_type": "stream",
          "name": "stderr",
          "text": [
            "305it [00:12, 26.33it/s]"
          ]
        },
        {
          "output_type": "stream",
          "name": "stdout",
          "text": [
            "train epoch:2 loss : 0.8605710864067078\n"
          ]
        },
        {
          "output_type": "stream",
          "name": "stderr",
          "text": [
            "404it [00:16, 26.62it/s]"
          ]
        },
        {
          "output_type": "stream",
          "name": "stdout",
          "text": [
            "train epoch:2 loss : 0.7898582816123962\n"
          ]
        },
        {
          "output_type": "stream",
          "name": "stderr",
          "text": [
            "506it [00:20, 26.32it/s]"
          ]
        },
        {
          "output_type": "stream",
          "name": "stdout",
          "text": [
            "train epoch:2 loss : 0.675163984298706\n"
          ]
        },
        {
          "output_type": "stream",
          "name": "stderr",
          "text": [
            "606it [00:24, 26.06it/s]"
          ]
        },
        {
          "output_type": "stream",
          "name": "stdout",
          "text": [
            "train epoch:2 loss : 0.6296711564064026\n"
          ]
        },
        {
          "output_type": "stream",
          "name": "stderr",
          "text": [
            "705it [00:28, 26.01it/s]"
          ]
        },
        {
          "output_type": "stream",
          "name": "stdout",
          "text": [
            "train epoch:2 loss : 0.5603660941123962\n"
          ]
        },
        {
          "output_type": "stream",
          "name": "stderr",
          "text": [
            "804it [00:32, 25.12it/s]"
          ]
        },
        {
          "output_type": "stream",
          "name": "stdout",
          "text": [
            "train epoch:2 loss : 0.702774167060852\n"
          ]
        },
        {
          "output_type": "stream",
          "name": "stderr",
          "text": [
            "906it [00:37, 25.36it/s]"
          ]
        },
        {
          "output_type": "stream",
          "name": "stdout",
          "text": [
            "train epoch:2 loss : 0.6429320573806763\n"
          ]
        },
        {
          "output_type": "stream",
          "name": "stderr",
          "text": [
            "938it [00:38, 24.32it/s]\n",
            "157it [00:04, 38.21it/s]\n"
          ]
        },
        {
          "output_type": "stream",
          "name": "stdout",
          "text": [
            "[2] test loss : 0.5928 accuracy : 77.31\n"
          ]
        },
        {
          "output_type": "stream",
          "name": "stderr",
          "text": [
            "3it [00:00, 26.64it/s]"
          ]
        },
        {
          "output_type": "stream",
          "name": "stdout",
          "text": [
            "train epoch:3 loss : 0.6285540461540222\n"
          ]
        },
        {
          "output_type": "stream",
          "name": "stderr",
          "text": [
            "103it [00:04, 18.89it/s]"
          ]
        },
        {
          "output_type": "stream",
          "name": "stdout",
          "text": [
            "train epoch:3 loss : 0.9873747825622559\n"
          ]
        },
        {
          "output_type": "stream",
          "name": "stderr",
          "text": [
            "204it [00:08, 26.76it/s]"
          ]
        },
        {
          "output_type": "stream",
          "name": "stdout",
          "text": [
            "train epoch:3 loss : 0.6126832962036133\n"
          ]
        },
        {
          "output_type": "stream",
          "name": "stderr",
          "text": [
            "306it [00:12, 26.33it/s]"
          ]
        },
        {
          "output_type": "stream",
          "name": "stdout",
          "text": [
            "train epoch:3 loss : 0.6301647424697876\n"
          ]
        },
        {
          "output_type": "stream",
          "name": "stderr",
          "text": [
            "402it [00:16, 25.82it/s]"
          ]
        },
        {
          "output_type": "stream",
          "name": "stdout",
          "text": [
            "train epoch:3 loss : 0.5300581455230713\n"
          ]
        },
        {
          "output_type": "stream",
          "name": "stderr",
          "text": [
            "505it [00:21, 26.93it/s]"
          ]
        },
        {
          "output_type": "stream",
          "name": "stdout",
          "text": [
            "train epoch:3 loss : 0.6292366981506348\n"
          ]
        },
        {
          "output_type": "stream",
          "name": "stderr",
          "text": [
            "604it [00:24, 26.43it/s]"
          ]
        },
        {
          "output_type": "stream",
          "name": "stdout",
          "text": [
            "train epoch:3 loss : 0.6270517706871033\n"
          ]
        },
        {
          "output_type": "stream",
          "name": "stderr",
          "text": [
            "706it [00:28, 26.48it/s]"
          ]
        },
        {
          "output_type": "stream",
          "name": "stdout",
          "text": [
            "train epoch:3 loss : 0.6451468467712402\n"
          ]
        },
        {
          "output_type": "stream",
          "name": "stderr",
          "text": [
            "805it [00:33, 26.53it/s]"
          ]
        },
        {
          "output_type": "stream",
          "name": "stdout",
          "text": [
            "train epoch:3 loss : 0.6568751335144043\n"
          ]
        },
        {
          "output_type": "stream",
          "name": "stderr",
          "text": [
            "904it [00:37, 26.40it/s]"
          ]
        },
        {
          "output_type": "stream",
          "name": "stdout",
          "text": [
            "train epoch:3 loss : 0.599177896976471\n"
          ]
        },
        {
          "output_type": "stream",
          "name": "stderr",
          "text": [
            "938it [00:38, 24.20it/s]\n",
            "157it [00:04, 34.63it/s]\n"
          ]
        },
        {
          "output_type": "stream",
          "name": "stdout",
          "text": [
            "[3] test loss : 0.5342 accuracy : 79.23\n"
          ]
        },
        {
          "output_type": "stream",
          "name": "stderr",
          "text": [
            "2it [00:00, 17.41it/s]"
          ]
        },
        {
          "output_type": "stream",
          "name": "stdout",
          "text": [
            "train epoch:4 loss : 0.6649395227432251\n"
          ]
        },
        {
          "output_type": "stream",
          "name": "stderr",
          "text": [
            "104it [00:04, 23.81it/s]"
          ]
        },
        {
          "output_type": "stream",
          "name": "stdout",
          "text": [
            "train epoch:4 loss : 0.8021900653839111\n"
          ]
        },
        {
          "output_type": "stream",
          "name": "stderr",
          "text": [
            "206it [00:08, 26.01it/s]"
          ]
        },
        {
          "output_type": "stream",
          "name": "stdout",
          "text": [
            "train epoch:4 loss : 0.7638326287269592\n"
          ]
        },
        {
          "output_type": "stream",
          "name": "stderr",
          "text": [
            "304it [00:12, 18.89it/s]"
          ]
        },
        {
          "output_type": "stream",
          "name": "stdout",
          "text": [
            "train epoch:4 loss : 0.7268463373184204\n"
          ]
        },
        {
          "output_type": "stream",
          "name": "stderr",
          "text": [
            "405it [00:17, 25.41it/s]"
          ]
        },
        {
          "output_type": "stream",
          "name": "stdout",
          "text": [
            "train epoch:4 loss : 0.6706006526947021\n"
          ]
        },
        {
          "output_type": "stream",
          "name": "stderr",
          "text": [
            "504it [00:21, 26.34it/s]"
          ]
        },
        {
          "output_type": "stream",
          "name": "stdout",
          "text": [
            "train epoch:4 loss : 0.577875018119812\n"
          ]
        },
        {
          "output_type": "stream",
          "name": "stderr",
          "text": [
            "603it [00:24, 24.60it/s]"
          ]
        },
        {
          "output_type": "stream",
          "name": "stdout",
          "text": [
            "train epoch:4 loss : 0.6549125909805298\n"
          ]
        },
        {
          "output_type": "stream",
          "name": "stderr",
          "text": [
            "706it [00:29, 26.29it/s]"
          ]
        },
        {
          "output_type": "stream",
          "name": "stdout",
          "text": [
            "train epoch:4 loss : 0.5295824408531189\n"
          ]
        },
        {
          "output_type": "stream",
          "name": "stderr",
          "text": [
            "805it [00:33, 26.55it/s]"
          ]
        },
        {
          "output_type": "stream",
          "name": "stdout",
          "text": [
            "train epoch:4 loss : 0.4665791094303131\n"
          ]
        },
        {
          "output_type": "stream",
          "name": "stderr",
          "text": [
            "904it [00:37, 26.19it/s]"
          ]
        },
        {
          "output_type": "stream",
          "name": "stdout",
          "text": [
            "train epoch:4 loss : 0.42952480912208557\n"
          ]
        },
        {
          "output_type": "stream",
          "name": "stderr",
          "text": [
            "938it [00:39, 23.90it/s]\n",
            "157it [00:04, 33.95it/s]\n"
          ]
        },
        {
          "output_type": "stream",
          "name": "stdout",
          "text": [
            "[4] test loss : 0.5118 accuracy : 79.85\n"
          ]
        },
        {
          "output_type": "stream",
          "name": "stderr",
          "text": [
            "3it [00:00, 26.62it/s]"
          ]
        },
        {
          "output_type": "stream",
          "name": "stdout",
          "text": [
            "train epoch:5 loss : 0.6602983474731445\n"
          ]
        },
        {
          "output_type": "stream",
          "name": "stderr",
          "text": [
            "105it [00:04, 26.14it/s]"
          ]
        },
        {
          "output_type": "stream",
          "name": "stdout",
          "text": [
            "train epoch:5 loss : 0.6282346248626709\n"
          ]
        },
        {
          "output_type": "stream",
          "name": "stderr",
          "text": [
            "203it [00:08, 17.39it/s]"
          ]
        },
        {
          "output_type": "stream",
          "name": "stdout",
          "text": [
            "train epoch:5 loss : 0.5223866701126099\n"
          ]
        },
        {
          "output_type": "stream",
          "name": "stderr",
          "text": [
            "304it [00:12, 25.69it/s]"
          ]
        },
        {
          "output_type": "stream",
          "name": "stdout",
          "text": [
            "train epoch:5 loss : 0.6572404503822327\n"
          ]
        },
        {
          "output_type": "stream",
          "name": "stderr",
          "text": [
            "406it [00:16, 26.60it/s]"
          ]
        },
        {
          "output_type": "stream",
          "name": "stdout",
          "text": [
            "train epoch:5 loss : 0.4043430984020233\n"
          ]
        },
        {
          "output_type": "stream",
          "name": "stderr",
          "text": [
            "503it [00:20, 17.84it/s]"
          ]
        },
        {
          "output_type": "stream",
          "name": "stdout",
          "text": [
            "train epoch:5 loss : 0.7411772012710571\n"
          ]
        },
        {
          "output_type": "stream",
          "name": "stderr",
          "text": [
            "605it [00:25, 25.92it/s]"
          ]
        },
        {
          "output_type": "stream",
          "name": "stdout",
          "text": [
            "train epoch:5 loss : 0.5093773007392883\n"
          ]
        },
        {
          "output_type": "stream",
          "name": "stderr",
          "text": [
            "704it [00:29, 25.96it/s]"
          ]
        },
        {
          "output_type": "stream",
          "name": "stdout",
          "text": [
            "train epoch:5 loss : 0.5385466814041138\n"
          ]
        },
        {
          "output_type": "stream",
          "name": "stderr",
          "text": [
            "803it [00:32, 21.28it/s]"
          ]
        },
        {
          "output_type": "stream",
          "name": "stdout",
          "text": [
            "train epoch:5 loss : 0.4732236862182617\n"
          ]
        },
        {
          "output_type": "stream",
          "name": "stderr",
          "text": [
            "905it [00:37, 25.93it/s]"
          ]
        },
        {
          "output_type": "stream",
          "name": "stdout",
          "text": [
            "train epoch:5 loss : 0.8373011350631714\n"
          ]
        },
        {
          "output_type": "stream",
          "name": "stderr",
          "text": [
            "938it [00:39, 24.02it/s]\n",
            "157it [00:04, 38.00it/s]\n"
          ]
        },
        {
          "output_type": "stream",
          "name": "stdout",
          "text": [
            "[5] test loss : 0.4851 accuracy : 81.38\n"
          ]
        },
        {
          "output_type": "stream",
          "name": "stderr",
          "text": [
            "3it [00:00, 24.97it/s]"
          ]
        },
        {
          "output_type": "stream",
          "name": "stdout",
          "text": [
            "train epoch:6 loss : 0.33482855558395386\n"
          ]
        },
        {
          "output_type": "stream",
          "name": "stderr",
          "text": [
            "103it [00:04, 17.04it/s]"
          ]
        },
        {
          "output_type": "stream",
          "name": "stdout",
          "text": [
            "train epoch:6 loss : 0.5796545743942261\n"
          ]
        },
        {
          "output_type": "stream",
          "name": "stderr",
          "text": [
            "205it [00:08, 26.11it/s]"
          ]
        },
        {
          "output_type": "stream",
          "name": "stdout",
          "text": [
            "train epoch:6 loss : 0.5572342276573181\n"
          ]
        },
        {
          "output_type": "stream",
          "name": "stderr",
          "text": [
            "304it [00:12, 26.26it/s]"
          ]
        },
        {
          "output_type": "stream",
          "name": "stdout",
          "text": [
            "train epoch:6 loss : 0.583278477191925\n"
          ]
        },
        {
          "output_type": "stream",
          "name": "stderr",
          "text": [
            "403it [00:17, 17.40it/s]"
          ]
        },
        {
          "output_type": "stream",
          "name": "stdout",
          "text": [
            "train epoch:6 loss : 0.7329562902450562\n"
          ]
        },
        {
          "output_type": "stream",
          "name": "stderr",
          "text": [
            "506it [00:21, 26.48it/s]"
          ]
        },
        {
          "output_type": "stream",
          "name": "stdout",
          "text": [
            "train epoch:6 loss : 0.4223993122577667\n"
          ]
        },
        {
          "output_type": "stream",
          "name": "stderr",
          "text": [
            "605it [00:25, 26.52it/s]"
          ]
        },
        {
          "output_type": "stream",
          "name": "stdout",
          "text": [
            "train epoch:6 loss : 0.4029788672924042\n"
          ]
        },
        {
          "output_type": "stream",
          "name": "stderr",
          "text": [
            "703it [00:29, 17.66it/s]"
          ]
        },
        {
          "output_type": "stream",
          "name": "stdout",
          "text": [
            "train epoch:6 loss : 0.5307802557945251\n"
          ]
        },
        {
          "output_type": "stream",
          "name": "stderr",
          "text": [
            "806it [00:33, 25.92it/s]"
          ]
        },
        {
          "output_type": "stream",
          "name": "stdout",
          "text": [
            "train epoch:6 loss : 0.40946829319000244\n"
          ]
        },
        {
          "output_type": "stream",
          "name": "stderr",
          "text": [
            "905it [00:37, 26.22it/s]"
          ]
        },
        {
          "output_type": "stream",
          "name": "stdout",
          "text": [
            "train epoch:6 loss : 0.4474588632583618\n"
          ]
        },
        {
          "output_type": "stream",
          "name": "stderr",
          "text": [
            "938it [00:39, 24.02it/s]\n",
            "157it [00:05, 31.17it/s]\n"
          ]
        },
        {
          "output_type": "stream",
          "name": "stdout",
          "text": [
            "[6] test loss : 0.4553 accuracy : 82.89\n"
          ]
        },
        {
          "output_type": "stream",
          "name": "stderr",
          "text": [
            "3it [00:00, 24.47it/s]"
          ]
        },
        {
          "output_type": "stream",
          "name": "stdout",
          "text": [
            "train epoch:7 loss : 0.5268482565879822\n"
          ]
        },
        {
          "output_type": "stream",
          "name": "stderr",
          "text": [
            "105it [00:04, 25.84it/s]"
          ]
        },
        {
          "output_type": "stream",
          "name": "stdout",
          "text": [
            "train epoch:7 loss : 0.7288395166397095\n"
          ]
        },
        {
          "output_type": "stream",
          "name": "stderr",
          "text": [
            "204it [00:07, 26.57it/s]"
          ]
        },
        {
          "output_type": "stream",
          "name": "stdout",
          "text": [
            "train epoch:7 loss : 0.31490546464920044\n"
          ]
        },
        {
          "output_type": "stream",
          "name": "stderr",
          "text": [
            "304it [00:12, 16.53it/s]"
          ]
        },
        {
          "output_type": "stream",
          "name": "stdout",
          "text": [
            "train epoch:7 loss : 0.494058221578598\n"
          ]
        },
        {
          "output_type": "stream",
          "name": "stderr",
          "text": [
            "404it [00:16, 26.39it/s]"
          ]
        },
        {
          "output_type": "stream",
          "name": "stdout",
          "text": [
            "train epoch:7 loss : 0.5978030562400818\n"
          ]
        },
        {
          "output_type": "stream",
          "name": "stderr",
          "text": [
            "506it [00:20, 25.87it/s]"
          ]
        },
        {
          "output_type": "stream",
          "name": "stdout",
          "text": [
            "train epoch:7 loss : 0.4317055940628052\n"
          ]
        },
        {
          "output_type": "stream",
          "name": "stderr",
          "text": [
            "603it [00:25, 17.47it/s]"
          ]
        },
        {
          "output_type": "stream",
          "name": "stdout",
          "text": [
            "train epoch:7 loss : 0.4712257385253906\n"
          ]
        },
        {
          "output_type": "stream",
          "name": "stderr",
          "text": [
            "705it [00:29, 25.35it/s]"
          ]
        },
        {
          "output_type": "stream",
          "name": "stdout",
          "text": [
            "train epoch:7 loss : 0.4120708405971527\n"
          ]
        },
        {
          "output_type": "stream",
          "name": "stderr",
          "text": [
            "804it [00:33, 25.17it/s]"
          ]
        },
        {
          "output_type": "stream",
          "name": "stdout",
          "text": [
            "train epoch:7 loss : 0.3842605948448181\n"
          ]
        },
        {
          "output_type": "stream",
          "name": "stderr",
          "text": [
            "904it [00:37, 17.44it/s]"
          ]
        },
        {
          "output_type": "stream",
          "name": "stdout",
          "text": [
            "train epoch:7 loss : 0.5781832933425903\n"
          ]
        },
        {
          "output_type": "stream",
          "name": "stderr",
          "text": [
            "938it [00:39, 23.77it/s]\n",
            "157it [00:04, 37.87it/s]\n"
          ]
        },
        {
          "output_type": "stream",
          "name": "stdout",
          "text": [
            "[7] test loss : 0.4314 accuracy : 84.16\n"
          ]
        },
        {
          "output_type": "stream",
          "name": "stderr",
          "text": [
            "3it [00:00, 23.53it/s]"
          ]
        },
        {
          "output_type": "stream",
          "name": "stdout",
          "text": [
            "train epoch:8 loss : 0.8888000845909119\n"
          ]
        },
        {
          "output_type": "stream",
          "name": "stderr",
          "text": [
            "105it [00:04, 24.25it/s]"
          ]
        },
        {
          "output_type": "stream",
          "name": "stdout",
          "text": [
            "train epoch:8 loss : 0.46318796277046204\n"
          ]
        },
        {
          "output_type": "stream",
          "name": "stderr",
          "text": [
            "205it [00:09, 25.82it/s]"
          ]
        },
        {
          "output_type": "stream",
          "name": "stdout",
          "text": [
            "train epoch:8 loss : 0.6041320562362671\n"
          ]
        },
        {
          "output_type": "stream",
          "name": "stderr",
          "text": [
            "304it [00:12, 25.62it/s]"
          ]
        },
        {
          "output_type": "stream",
          "name": "stdout",
          "text": [
            "train epoch:8 loss : 0.3627163767814636\n"
          ]
        },
        {
          "output_type": "stream",
          "name": "stderr",
          "text": [
            "406it [00:16, 25.93it/s]"
          ]
        },
        {
          "output_type": "stream",
          "name": "stdout",
          "text": [
            "train epoch:8 loss : 0.5128471851348877\n"
          ]
        },
        {
          "output_type": "stream",
          "name": "stderr",
          "text": [
            "504it [00:21, 23.87it/s]"
          ]
        },
        {
          "output_type": "stream",
          "name": "stdout",
          "text": [
            "train epoch:8 loss : 0.5435121059417725\n"
          ]
        },
        {
          "output_type": "stream",
          "name": "stderr",
          "text": [
            "606it [00:25, 25.70it/s]"
          ]
        },
        {
          "output_type": "stream",
          "name": "stdout",
          "text": [
            "train epoch:8 loss : 0.454712450504303\n"
          ]
        },
        {
          "output_type": "stream",
          "name": "stderr",
          "text": [
            "705it [00:29, 26.59it/s]"
          ]
        },
        {
          "output_type": "stream",
          "name": "stdout",
          "text": [
            "train epoch:8 loss : 0.4902498424053192\n"
          ]
        },
        {
          "output_type": "stream",
          "name": "stderr",
          "text": [
            "803it [00:34, 16.67it/s]"
          ]
        },
        {
          "output_type": "stream",
          "name": "stdout",
          "text": [
            "train epoch:8 loss : 0.5334377884864807\n"
          ]
        },
        {
          "output_type": "stream",
          "name": "stderr",
          "text": [
            "905it [00:37, 27.12it/s]"
          ]
        },
        {
          "output_type": "stream",
          "name": "stdout",
          "text": [
            "train epoch:8 loss : 0.31773439049720764\n"
          ]
        },
        {
          "output_type": "stream",
          "name": "stderr",
          "text": [
            "938it [00:39, 23.94it/s]\n",
            "157it [00:04, 38.17it/s]\n"
          ]
        },
        {
          "output_type": "stream",
          "name": "stdout",
          "text": [
            "[8] test loss : 0.4222 accuracy : 84.27\n"
          ]
        },
        {
          "output_type": "stream",
          "name": "stderr",
          "text": [
            "3it [00:00, 25.66it/s]"
          ]
        },
        {
          "output_type": "stream",
          "name": "stdout",
          "text": [
            "train epoch:9 loss : 0.4922334551811218\n"
          ]
        },
        {
          "output_type": "stream",
          "name": "stderr",
          "text": [
            "104it [00:04, 26.20it/s]"
          ]
        },
        {
          "output_type": "stream",
          "name": "stdout",
          "text": [
            "train epoch:9 loss : 0.5221195816993713\n"
          ]
        },
        {
          "output_type": "stream",
          "name": "stderr",
          "text": [
            "206it [00:08, 26.82it/s]"
          ]
        },
        {
          "output_type": "stream",
          "name": "stdout",
          "text": [
            "train epoch:9 loss : 0.3650822043418884\n"
          ]
        },
        {
          "output_type": "stream",
          "name": "stderr",
          "text": [
            "305it [00:12, 26.01it/s]"
          ]
        },
        {
          "output_type": "stream",
          "name": "stdout",
          "text": [
            "train epoch:9 loss : 0.37287336587905884\n"
          ]
        },
        {
          "output_type": "stream",
          "name": "stderr",
          "text": [
            "406it [00:17, 25.17it/s]"
          ]
        },
        {
          "output_type": "stream",
          "name": "stdout",
          "text": [
            "train epoch:9 loss : 0.4312264323234558\n"
          ]
        },
        {
          "output_type": "stream",
          "name": "stderr",
          "text": [
            "505it [00:21, 25.69it/s]"
          ]
        },
        {
          "output_type": "stream",
          "name": "stdout",
          "text": [
            "train epoch:9 loss : 0.564388632774353\n"
          ]
        },
        {
          "output_type": "stream",
          "name": "stderr",
          "text": [
            "604it [00:25, 26.17it/s]"
          ]
        },
        {
          "output_type": "stream",
          "name": "stdout",
          "text": [
            "train epoch:9 loss : 0.32645925879478455\n"
          ]
        },
        {
          "output_type": "stream",
          "name": "stderr",
          "text": [
            "706it [00:30, 23.46it/s]"
          ]
        },
        {
          "output_type": "stream",
          "name": "stdout",
          "text": [
            "train epoch:9 loss : 0.5087829232215881\n"
          ]
        },
        {
          "output_type": "stream",
          "name": "stderr",
          "text": [
            "805it [00:34, 25.44it/s]"
          ]
        },
        {
          "output_type": "stream",
          "name": "stdout",
          "text": [
            "train epoch:9 loss : 0.6938279271125793\n"
          ]
        },
        {
          "output_type": "stream",
          "name": "stderr",
          "text": [
            "904it [00:37, 26.44it/s]"
          ]
        },
        {
          "output_type": "stream",
          "name": "stdout",
          "text": [
            "train epoch:9 loss : 0.5614746809005737\n"
          ]
        },
        {
          "output_type": "stream",
          "name": "stderr",
          "text": [
            "938it [00:39, 23.91it/s]\n",
            "157it [00:05, 30.76it/s]\n"
          ]
        },
        {
          "output_type": "stream",
          "name": "stdout",
          "text": [
            "[9] test loss : 0.4149 accuracy : 84.76\n"
          ]
        },
        {
          "output_type": "stream",
          "name": "stderr",
          "text": [
            "3it [00:00, 26.40it/s]"
          ]
        },
        {
          "output_type": "stream",
          "name": "stdout",
          "text": [
            "train epoch:10 loss : 0.4774972200393677\n"
          ]
        },
        {
          "output_type": "stream",
          "name": "stderr",
          "text": [
            "105it [00:03, 25.62it/s]"
          ]
        },
        {
          "output_type": "stream",
          "name": "stdout",
          "text": [
            "train epoch:10 loss : 0.4076736569404602\n"
          ]
        },
        {
          "output_type": "stream",
          "name": "stderr",
          "text": [
            "204it [00:07, 25.88it/s]"
          ]
        },
        {
          "output_type": "stream",
          "name": "stdout",
          "text": [
            "train epoch:10 loss : 0.5325814485549927\n"
          ]
        },
        {
          "output_type": "stream",
          "name": "stderr",
          "text": [
            "305it [00:12, 26.76it/s]"
          ]
        },
        {
          "output_type": "stream",
          "name": "stdout",
          "text": [
            "train epoch:10 loss : 0.3621712625026703\n"
          ]
        },
        {
          "output_type": "stream",
          "name": "stderr",
          "text": [
            "404it [00:16, 26.30it/s]"
          ]
        },
        {
          "output_type": "stream",
          "name": "stdout",
          "text": [
            "train epoch:10 loss : 0.4951498210430145\n"
          ]
        },
        {
          "output_type": "stream",
          "name": "stderr",
          "text": [
            "506it [00:20, 26.22it/s]"
          ]
        },
        {
          "output_type": "stream",
          "name": "stdout",
          "text": [
            "train epoch:10 loss : 0.3857441246509552\n"
          ]
        },
        {
          "output_type": "stream",
          "name": "stderr",
          "text": [
            "606it [00:25, 25.95it/s]"
          ]
        },
        {
          "output_type": "stream",
          "name": "stdout",
          "text": [
            "train epoch:10 loss : 0.48340272903442383\n"
          ]
        },
        {
          "output_type": "stream",
          "name": "stderr",
          "text": [
            "705it [00:28, 26.28it/s]"
          ]
        },
        {
          "output_type": "stream",
          "name": "stdout",
          "text": [
            "train epoch:10 loss : 0.4873484671115875\n"
          ]
        },
        {
          "output_type": "stream",
          "name": "stderr",
          "text": [
            "804it [00:32, 26.50it/s]"
          ]
        },
        {
          "output_type": "stream",
          "name": "stdout",
          "text": [
            "train epoch:10 loss : 0.23913641273975372\n"
          ]
        },
        {
          "output_type": "stream",
          "name": "stderr",
          "text": [
            "906it [00:37, 22.60it/s]"
          ]
        },
        {
          "output_type": "stream",
          "name": "stdout",
          "text": [
            "train epoch:10 loss : 0.766239583492279\n"
          ]
        },
        {
          "output_type": "stream",
          "name": "stderr",
          "text": [
            "938it [00:38, 24.20it/s]\n",
            "157it [00:04, 38.12it/s]\n"
          ]
        },
        {
          "output_type": "stream",
          "name": "stdout",
          "text": [
            "[10] test loss : 0.3888 accuracy : 85.79\n"
          ]
        },
        {
          "output_type": "stream",
          "name": "stderr",
          "text": [
            "3it [00:00, 24.81it/s]"
          ]
        },
        {
          "output_type": "stream",
          "name": "stdout",
          "text": [
            "train epoch:11 loss : 0.27747809886932373\n"
          ]
        },
        {
          "output_type": "stream",
          "name": "stderr",
          "text": [
            "105it [00:03, 26.54it/s]"
          ]
        },
        {
          "output_type": "stream",
          "name": "stdout",
          "text": [
            "train epoch:11 loss : 0.43722769618034363\n"
          ]
        },
        {
          "output_type": "stream",
          "name": "stderr",
          "text": [
            "206it [00:08, 25.67it/s]"
          ]
        },
        {
          "output_type": "stream",
          "name": "stdout",
          "text": [
            "train epoch:11 loss : 0.6968671679496765\n"
          ]
        },
        {
          "output_type": "stream",
          "name": "stderr",
          "text": [
            "305it [00:12, 26.28it/s]"
          ]
        },
        {
          "output_type": "stream",
          "name": "stdout",
          "text": [
            "train epoch:11 loss : 0.4669010043144226\n"
          ]
        },
        {
          "output_type": "stream",
          "name": "stderr",
          "text": [
            "404it [00:16, 26.15it/s]"
          ]
        },
        {
          "output_type": "stream",
          "name": "stdout",
          "text": [
            "train epoch:11 loss : 0.5221644043922424\n"
          ]
        },
        {
          "output_type": "stream",
          "name": "stderr",
          "text": [
            "504it [00:21, 26.67it/s]"
          ]
        },
        {
          "output_type": "stream",
          "name": "stdout",
          "text": [
            "train epoch:11 loss : 0.7491494417190552\n"
          ]
        },
        {
          "output_type": "stream",
          "name": "stderr",
          "text": [
            "606it [00:25, 25.79it/s]"
          ]
        },
        {
          "output_type": "stream",
          "name": "stdout",
          "text": [
            "train epoch:11 loss : 0.49328258633613586\n"
          ]
        },
        {
          "output_type": "stream",
          "name": "stderr",
          "text": [
            "705it [00:28, 25.97it/s]"
          ]
        },
        {
          "output_type": "stream",
          "name": "stdout",
          "text": [
            "train epoch:11 loss : 0.4544823467731476\n"
          ]
        },
        {
          "output_type": "stream",
          "name": "stderr",
          "text": [
            "806it [00:33, 25.34it/s]"
          ]
        },
        {
          "output_type": "stream",
          "name": "stdout",
          "text": [
            "train epoch:11 loss : 0.2704460322856903\n"
          ]
        },
        {
          "output_type": "stream",
          "name": "stderr",
          "text": [
            "905it [00:37, 25.96it/s]"
          ]
        },
        {
          "output_type": "stream",
          "name": "stdout",
          "text": [
            "train epoch:11 loss : 0.48381441831588745\n"
          ]
        },
        {
          "output_type": "stream",
          "name": "stderr",
          "text": [
            "938it [00:38, 24.20it/s]\n",
            "157it [00:04, 38.19it/s]\n"
          ]
        },
        {
          "output_type": "stream",
          "name": "stdout",
          "text": [
            "[11] test loss : 0.3898 accuracy : 85.21\n"
          ]
        },
        {
          "output_type": "stream",
          "name": "stderr",
          "text": [
            "3it [00:00, 25.91it/s]"
          ]
        },
        {
          "output_type": "stream",
          "name": "stdout",
          "text": [
            "train epoch:12 loss : 0.4766930341720581\n"
          ]
        },
        {
          "output_type": "stream",
          "name": "stderr",
          "text": [
            "105it [00:05, 26.00it/s]"
          ]
        },
        {
          "output_type": "stream",
          "name": "stdout",
          "text": [
            "train epoch:12 loss : 0.6191278100013733\n"
          ]
        },
        {
          "output_type": "stream",
          "name": "stderr",
          "text": [
            "204it [00:08, 26.29it/s]"
          ]
        },
        {
          "output_type": "stream",
          "name": "stdout",
          "text": [
            "train epoch:12 loss : 0.3571659028530121\n"
          ]
        },
        {
          "output_type": "stream",
          "name": "stderr",
          "text": [
            "303it [00:12, 25.45it/s]"
          ]
        },
        {
          "output_type": "stream",
          "name": "stdout",
          "text": [
            "train epoch:12 loss : 0.36662375926971436\n"
          ]
        },
        {
          "output_type": "stream",
          "name": "stderr",
          "text": [
            "404it [00:17, 25.71it/s]"
          ]
        },
        {
          "output_type": "stream",
          "name": "stdout",
          "text": [
            "train epoch:12 loss : 0.6536810398101807\n"
          ]
        },
        {
          "output_type": "stream",
          "name": "stderr",
          "text": [
            "506it [00:21, 25.60it/s]"
          ]
        },
        {
          "output_type": "stream",
          "name": "stdout",
          "text": [
            "train epoch:12 loss : 0.5793985724449158\n"
          ]
        },
        {
          "output_type": "stream",
          "name": "stderr",
          "text": [
            "605it [00:25, 25.77it/s]"
          ]
        },
        {
          "output_type": "stream",
          "name": "stdout",
          "text": [
            "train epoch:12 loss : 0.4895334839820862\n"
          ]
        },
        {
          "output_type": "stream",
          "name": "stderr",
          "text": [
            "706it [00:30, 25.90it/s]"
          ]
        },
        {
          "output_type": "stream",
          "name": "stdout",
          "text": [
            "train epoch:12 loss : 0.44348227977752686\n"
          ]
        },
        {
          "output_type": "stream",
          "name": "stderr",
          "text": [
            "805it [00:33, 25.44it/s]"
          ]
        },
        {
          "output_type": "stream",
          "name": "stdout",
          "text": [
            "train epoch:12 loss : 0.4270745515823364\n"
          ]
        },
        {
          "output_type": "stream",
          "name": "stderr",
          "text": [
            "904it [00:37, 25.94it/s]"
          ]
        },
        {
          "output_type": "stream",
          "name": "stdout",
          "text": [
            "train epoch:12 loss : 0.4567372500896454\n"
          ]
        },
        {
          "output_type": "stream",
          "name": "stderr",
          "text": [
            "938it [00:39, 24.03it/s]\n",
            "157it [00:05, 30.96it/s]\n"
          ]
        },
        {
          "output_type": "stream",
          "name": "stdout",
          "text": [
            "[12] test loss : 0.3707 accuracy : 85.93\n"
          ]
        },
        {
          "output_type": "stream",
          "name": "stderr",
          "text": [
            "3it [00:00, 22.22it/s]"
          ]
        },
        {
          "output_type": "stream",
          "name": "stdout",
          "text": [
            "train epoch:13 loss : 0.43005138635635376\n"
          ]
        },
        {
          "output_type": "stream",
          "name": "stderr",
          "text": [
            "105it [00:04, 25.08it/s]"
          ]
        },
        {
          "output_type": "stream",
          "name": "stdout",
          "text": [
            "train epoch:13 loss : 0.3741381764411926\n"
          ]
        },
        {
          "output_type": "stream",
          "name": "stderr",
          "text": [
            "204it [00:08, 22.83it/s]"
          ]
        },
        {
          "output_type": "stream",
          "name": "stdout",
          "text": [
            "train epoch:13 loss : 0.5933102965354919\n"
          ]
        },
        {
          "output_type": "stream",
          "name": "stderr",
          "text": [
            "304it [00:12, 26.49it/s]"
          ]
        },
        {
          "output_type": "stream",
          "name": "stdout",
          "text": [
            "train epoch:13 loss : 0.5626691579818726\n"
          ]
        },
        {
          "output_type": "stream",
          "name": "stderr",
          "text": [
            "406it [00:16, 26.58it/s]"
          ]
        },
        {
          "output_type": "stream",
          "name": "stdout",
          "text": [
            "train epoch:13 loss : 0.4801560342311859\n"
          ]
        },
        {
          "output_type": "stream",
          "name": "stderr",
          "text": [
            "505it [00:20, 26.02it/s]"
          ]
        },
        {
          "output_type": "stream",
          "name": "stdout",
          "text": [
            "train epoch:13 loss : 0.6039062142372131\n"
          ]
        },
        {
          "output_type": "stream",
          "name": "stderr",
          "text": [
            "605it [00:25, 25.87it/s]"
          ]
        },
        {
          "output_type": "stream",
          "name": "stdout",
          "text": [
            "train epoch:13 loss : 0.5143073201179504\n"
          ]
        },
        {
          "output_type": "stream",
          "name": "stderr",
          "text": [
            "704it [00:29, 26.30it/s]"
          ]
        },
        {
          "output_type": "stream",
          "name": "stdout",
          "text": [
            "train epoch:13 loss : 0.3264671564102173\n"
          ]
        },
        {
          "output_type": "stream",
          "name": "stderr",
          "text": [
            "806it [00:33, 26.24it/s]"
          ]
        },
        {
          "output_type": "stream",
          "name": "stdout",
          "text": [
            "train epoch:13 loss : 0.3277825117111206\n"
          ]
        },
        {
          "output_type": "stream",
          "name": "stderr",
          "text": [
            "904it [00:37, 25.56it/s]"
          ]
        },
        {
          "output_type": "stream",
          "name": "stdout",
          "text": [
            "train epoch:13 loss : 0.33496415615081787\n"
          ]
        },
        {
          "output_type": "stream",
          "name": "stderr",
          "text": [
            "938it [00:39, 23.97it/s]\n",
            "157it [00:04, 37.90it/s]\n"
          ]
        },
        {
          "output_type": "stream",
          "name": "stdout",
          "text": [
            "[13] test loss : 0.3731 accuracy : 86.27\n"
          ]
        },
        {
          "output_type": "stream",
          "name": "stderr",
          "text": [
            "3it [00:00, 23.51it/s]"
          ]
        },
        {
          "output_type": "stream",
          "name": "stdout",
          "text": [
            "train epoch:14 loss : 0.2986660599708557\n"
          ]
        },
        {
          "output_type": "stream",
          "name": "stderr",
          "text": [
            "104it [00:04, 18.75it/s]"
          ]
        },
        {
          "output_type": "stream",
          "name": "stdout",
          "text": [
            "train epoch:14 loss : 0.4223898649215698\n"
          ]
        },
        {
          "output_type": "stream",
          "name": "stderr",
          "text": [
            "203it [00:08, 25.54it/s]"
          ]
        },
        {
          "output_type": "stream",
          "name": "stdout",
          "text": [
            "train epoch:14 loss : 0.4559975266456604\n"
          ]
        },
        {
          "output_type": "stream",
          "name": "stderr",
          "text": [
            "305it [00:12, 26.33it/s]"
          ]
        },
        {
          "output_type": "stream",
          "name": "stdout",
          "text": [
            "train epoch:14 loss : 0.41190052032470703\n"
          ]
        },
        {
          "output_type": "stream",
          "name": "stderr",
          "text": [
            "404it [00:16, 26.39it/s]"
          ]
        },
        {
          "output_type": "stream",
          "name": "stdout",
          "text": [
            "train epoch:14 loss : 0.530177652835846\n"
          ]
        },
        {
          "output_type": "stream",
          "name": "stderr",
          "text": [
            "505it [00:21, 25.82it/s]"
          ]
        },
        {
          "output_type": "stream",
          "name": "stdout",
          "text": [
            "train epoch:14 loss : 0.41684362292289734\n"
          ]
        },
        {
          "output_type": "stream",
          "name": "stderr",
          "text": [
            "604it [00:25, 27.08it/s]"
          ]
        },
        {
          "output_type": "stream",
          "name": "stdout",
          "text": [
            "train epoch:14 loss : 0.4038917124271393\n"
          ]
        },
        {
          "output_type": "stream",
          "name": "stderr",
          "text": [
            "706it [00:28, 25.81it/s]"
          ]
        },
        {
          "output_type": "stream",
          "name": "stdout",
          "text": [
            "train epoch:14 loss : 0.3056427240371704\n"
          ]
        },
        {
          "output_type": "stream",
          "name": "stderr",
          "text": [
            "805it [00:33, 25.38it/s]"
          ]
        },
        {
          "output_type": "stream",
          "name": "stdout",
          "text": [
            "train epoch:14 loss : 0.34261783957481384\n"
          ]
        },
        {
          "output_type": "stream",
          "name": "stderr",
          "text": [
            "904it [00:37, 26.18it/s]"
          ]
        },
        {
          "output_type": "stream",
          "name": "stdout",
          "text": [
            "train epoch:14 loss : 0.4995570182800293\n"
          ]
        },
        {
          "output_type": "stream",
          "name": "stderr",
          "text": [
            "938it [00:38, 24.10it/s]\n",
            "157it [00:04, 35.13it/s]\n"
          ]
        },
        {
          "output_type": "stream",
          "name": "stdout",
          "text": [
            "[14] test loss : 0.3683 accuracy : 86.25\n"
          ]
        },
        {
          "output_type": "stream",
          "name": "stderr",
          "text": [
            "2it [00:00, 13.74it/s]"
          ]
        },
        {
          "output_type": "stream",
          "name": "stdout",
          "text": [
            "train epoch:15 loss : 0.4701201617717743\n"
          ]
        },
        {
          "output_type": "stream",
          "name": "stderr",
          "text": [
            "105it [00:04, 25.69it/s]"
          ]
        },
        {
          "output_type": "stream",
          "name": "stdout",
          "text": [
            "train epoch:15 loss : 0.3047180473804474\n"
          ]
        },
        {
          "output_type": "stream",
          "name": "stderr",
          "text": [
            "204it [00:08, 26.73it/s]"
          ]
        },
        {
          "output_type": "stream",
          "name": "stdout",
          "text": [
            "train epoch:15 loss : 0.3355451822280884\n"
          ]
        },
        {
          "output_type": "stream",
          "name": "stderr",
          "text": [
            "303it [00:12, 21.07it/s]"
          ]
        },
        {
          "output_type": "stream",
          "name": "stdout",
          "text": [
            "train epoch:15 loss : 0.38424426317214966\n"
          ]
        },
        {
          "output_type": "stream",
          "name": "stderr",
          "text": [
            "406it [00:17, 26.08it/s]"
          ]
        },
        {
          "output_type": "stream",
          "name": "stdout",
          "text": [
            "train epoch:15 loss : 0.2993509769439697\n"
          ]
        },
        {
          "output_type": "stream",
          "name": "stderr",
          "text": [
            "505it [00:21, 25.74it/s]"
          ]
        },
        {
          "output_type": "stream",
          "name": "stdout",
          "text": [
            "train epoch:15 loss : 0.5042582750320435\n"
          ]
        },
        {
          "output_type": "stream",
          "name": "stderr",
          "text": [
            "604it [00:24, 26.39it/s]"
          ]
        },
        {
          "output_type": "stream",
          "name": "stdout",
          "text": [
            "train epoch:15 loss : 0.28150662779808044\n"
          ]
        },
        {
          "output_type": "stream",
          "name": "stderr",
          "text": [
            "704it [00:29, 26.25it/s]"
          ]
        },
        {
          "output_type": "stream",
          "name": "stdout",
          "text": [
            "train epoch:15 loss : 0.4767836034297943\n"
          ]
        },
        {
          "output_type": "stream",
          "name": "stderr",
          "text": [
            "806it [00:33, 26.07it/s]"
          ]
        },
        {
          "output_type": "stream",
          "name": "stdout",
          "text": [
            "train epoch:15 loss : 0.47300341725349426\n"
          ]
        },
        {
          "output_type": "stream",
          "name": "stderr",
          "text": [
            "905it [00:37, 26.64it/s]"
          ]
        },
        {
          "output_type": "stream",
          "name": "stdout",
          "text": [
            "train epoch:15 loss : 0.29873228073120117\n"
          ]
        },
        {
          "output_type": "stream",
          "name": "stderr",
          "text": [
            "938it [00:38, 24.12it/s]\n",
            "157it [00:04, 32.53it/s]\n"
          ]
        },
        {
          "output_type": "stream",
          "name": "stdout",
          "text": [
            "[15] test loss : 0.3540 accuracy : 86.84\n"
          ]
        },
        {
          "output_type": "stream",
          "name": "stderr",
          "text": [
            "3it [00:00, 23.29it/s]"
          ]
        },
        {
          "output_type": "stream",
          "name": "stdout",
          "text": [
            "train epoch:16 loss : 0.2879628837108612\n"
          ]
        },
        {
          "output_type": "stream",
          "name": "stderr",
          "text": [
            "105it [00:04, 27.38it/s]"
          ]
        },
        {
          "output_type": "stream",
          "name": "stdout",
          "text": [
            "train epoch:16 loss : 0.33904504776000977\n"
          ]
        },
        {
          "output_type": "stream",
          "name": "stderr",
          "text": [
            "204it [00:07, 19.72it/s]"
          ]
        },
        {
          "output_type": "stream",
          "name": "stdout",
          "text": [
            "train epoch:16 loss : 0.7648792862892151\n"
          ]
        },
        {
          "output_type": "stream",
          "name": "stderr",
          "text": [
            "304it [00:12, 26.25it/s]"
          ]
        },
        {
          "output_type": "stream",
          "name": "stdout",
          "text": [
            "train epoch:16 loss : 0.5329682230949402\n"
          ]
        },
        {
          "output_type": "stream",
          "name": "stderr",
          "text": [
            "403it [00:16, 25.04it/s]"
          ]
        },
        {
          "output_type": "stream",
          "name": "stdout",
          "text": [
            "train epoch:16 loss : 0.6603034734725952\n"
          ]
        },
        {
          "output_type": "stream",
          "name": "stderr",
          "text": [
            "505it [00:20, 26.45it/s]"
          ]
        },
        {
          "output_type": "stream",
          "name": "stdout",
          "text": [
            "train epoch:16 loss : 0.5599180459976196\n"
          ]
        },
        {
          "output_type": "stream",
          "name": "stderr",
          "text": [
            "605it [00:25, 25.48it/s]"
          ]
        },
        {
          "output_type": "stream",
          "name": "stdout",
          "text": [
            "train epoch:16 loss : 0.5097754597663879\n"
          ]
        },
        {
          "output_type": "stream",
          "name": "stderr",
          "text": [
            "704it [00:29, 26.44it/s]"
          ]
        },
        {
          "output_type": "stream",
          "name": "stdout",
          "text": [
            "train epoch:16 loss : 0.49617183208465576\n"
          ]
        },
        {
          "output_type": "stream",
          "name": "stderr",
          "text": [
            "806it [00:33, 25.64it/s]"
          ]
        },
        {
          "output_type": "stream",
          "name": "stdout",
          "text": [
            "train epoch:16 loss : 0.48144131898880005\n"
          ]
        },
        {
          "output_type": "stream",
          "name": "stderr",
          "text": [
            "904it [00:37, 26.25it/s]"
          ]
        },
        {
          "output_type": "stream",
          "name": "stdout",
          "text": [
            "train epoch:16 loss : 0.467477023601532\n"
          ]
        },
        {
          "output_type": "stream",
          "name": "stderr",
          "text": [
            "938it [00:39, 23.95it/s]\n",
            "157it [00:04, 37.78it/s]\n"
          ]
        },
        {
          "output_type": "stream",
          "name": "stdout",
          "text": [
            "[16] test loss : 0.3516 accuracy : 87.16\n"
          ]
        },
        {
          "output_type": "stream",
          "name": "stderr",
          "text": [
            "3it [00:00, 24.69it/s]"
          ]
        },
        {
          "output_type": "stream",
          "name": "stdout",
          "text": [
            "train epoch:17 loss : 0.29557496309280396\n"
          ]
        },
        {
          "output_type": "stream",
          "name": "stderr",
          "text": [
            "104it [00:04, 17.71it/s]"
          ]
        },
        {
          "output_type": "stream",
          "name": "stdout",
          "text": [
            "train epoch:17 loss : 0.40823426842689514\n"
          ]
        },
        {
          "output_type": "stream",
          "name": "stderr",
          "text": [
            "204it [00:08, 26.08it/s]"
          ]
        },
        {
          "output_type": "stream",
          "name": "stdout",
          "text": [
            "train epoch:17 loss : 0.4298548102378845\n"
          ]
        },
        {
          "output_type": "stream",
          "name": "stderr",
          "text": [
            "306it [00:12, 25.87it/s]"
          ]
        },
        {
          "output_type": "stream",
          "name": "stdout",
          "text": [
            "train epoch:17 loss : 0.4330143332481384\n"
          ]
        },
        {
          "output_type": "stream",
          "name": "stderr",
          "text": [
            "402it [00:16, 19.65it/s]"
          ]
        },
        {
          "output_type": "stream",
          "name": "stdout",
          "text": [
            "train epoch:17 loss : 0.27455633878707886\n"
          ]
        },
        {
          "output_type": "stream",
          "name": "stderr",
          "text": [
            "505it [00:21, 26.45it/s]"
          ]
        },
        {
          "output_type": "stream",
          "name": "stdout",
          "text": [
            "train epoch:17 loss : 0.45807018876075745\n"
          ]
        },
        {
          "output_type": "stream",
          "name": "stderr",
          "text": [
            "604it [00:25, 26.00it/s]"
          ]
        },
        {
          "output_type": "stream",
          "name": "stdout",
          "text": [
            "train epoch:17 loss : 0.44207918643951416\n"
          ]
        },
        {
          "output_type": "stream",
          "name": "stderr",
          "text": [
            "706it [00:29, 25.22it/s]"
          ]
        },
        {
          "output_type": "stream",
          "name": "stdout",
          "text": [
            "train epoch:17 loss : 0.2691231369972229\n"
          ]
        },
        {
          "output_type": "stream",
          "name": "stderr",
          "text": [
            "805it [00:33, 25.78it/s]"
          ]
        },
        {
          "output_type": "stream",
          "name": "stdout",
          "text": [
            "train epoch:17 loss : 0.40636396408081055\n"
          ]
        },
        {
          "output_type": "stream",
          "name": "stderr",
          "text": [
            "904it [00:37, 26.30it/s]"
          ]
        },
        {
          "output_type": "stream",
          "name": "stdout",
          "text": [
            "train epoch:17 loss : 0.32742083072662354\n"
          ]
        },
        {
          "output_type": "stream",
          "name": "stderr",
          "text": [
            "938it [00:39, 24.04it/s]\n",
            "157it [00:04, 34.01it/s]\n"
          ]
        },
        {
          "output_type": "stream",
          "name": "stdout",
          "text": [
            "[17] test loss : 0.3478 accuracy : 86.97\n"
          ]
        },
        {
          "output_type": "stream",
          "name": "stderr",
          "text": [
            "2it [00:00, 17.72it/s]"
          ]
        },
        {
          "output_type": "stream",
          "name": "stdout",
          "text": [
            "train epoch:18 loss : 0.3926634192466736\n"
          ]
        },
        {
          "output_type": "stream",
          "name": "stderr",
          "text": [
            "104it [00:04, 25.76it/s]"
          ]
        },
        {
          "output_type": "stream",
          "name": "stdout",
          "text": [
            "train epoch:18 loss : 0.34138503670692444\n"
          ]
        },
        {
          "output_type": "stream",
          "name": "stderr",
          "text": [
            "206it [00:08, 26.06it/s]"
          ]
        },
        {
          "output_type": "stream",
          "name": "stdout",
          "text": [
            "train epoch:18 loss : 0.6415651440620422\n"
          ]
        },
        {
          "output_type": "stream",
          "name": "stderr",
          "text": [
            "303it [00:12, 17.66it/s]"
          ]
        },
        {
          "output_type": "stream",
          "name": "stdout",
          "text": [
            "train epoch:18 loss : 0.39617305994033813\n"
          ]
        },
        {
          "output_type": "stream",
          "name": "stderr",
          "text": [
            "406it [00:17, 25.85it/s]"
          ]
        },
        {
          "output_type": "stream",
          "name": "stdout",
          "text": [
            "train epoch:18 loss : 0.3891887068748474\n"
          ]
        },
        {
          "output_type": "stream",
          "name": "stderr",
          "text": [
            "505it [00:20, 26.10it/s]"
          ]
        },
        {
          "output_type": "stream",
          "name": "stdout",
          "text": [
            "train epoch:18 loss : 0.4171668589115143\n"
          ]
        },
        {
          "output_type": "stream",
          "name": "stderr",
          "text": [
            "604it [00:25, 19.78it/s]"
          ]
        },
        {
          "output_type": "stream",
          "name": "stdout",
          "text": [
            "train epoch:18 loss : 0.32543158531188965\n"
          ]
        },
        {
          "output_type": "stream",
          "name": "stderr",
          "text": [
            "704it [00:29, 25.63it/s]"
          ]
        },
        {
          "output_type": "stream",
          "name": "stdout",
          "text": [
            "train epoch:18 loss : 0.3530697226524353\n"
          ]
        },
        {
          "output_type": "stream",
          "name": "stderr",
          "text": [
            "806it [00:33, 22.60it/s]"
          ]
        },
        {
          "output_type": "stream",
          "name": "stdout",
          "text": [
            "train epoch:18 loss : 0.41461673378944397\n"
          ]
        },
        {
          "output_type": "stream",
          "name": "stderr",
          "text": [
            "902it [00:37, 26.09it/s]"
          ]
        },
        {
          "output_type": "stream",
          "name": "stdout",
          "text": [
            "train epoch:18 loss : 0.623245358467102\n"
          ]
        },
        {
          "output_type": "stream",
          "name": "stderr",
          "text": [
            "938it [00:39, 23.75it/s]\n",
            "157it [00:04, 35.21it/s]\n"
          ]
        },
        {
          "output_type": "stream",
          "name": "stdout",
          "text": [
            "[18] test loss : 0.3426 accuracy : 87.39\n"
          ]
        },
        {
          "output_type": "stream",
          "name": "stderr",
          "text": [
            "3it [00:00, 25.47it/s]"
          ]
        },
        {
          "output_type": "stream",
          "name": "stdout",
          "text": [
            "train epoch:19 loss : 0.33736926317214966\n"
          ]
        },
        {
          "output_type": "stream",
          "name": "stderr",
          "text": [
            "105it [00:04, 25.76it/s]"
          ]
        },
        {
          "output_type": "stream",
          "name": "stdout",
          "text": [
            "train epoch:19 loss : 0.385719895362854\n"
          ]
        },
        {
          "output_type": "stream",
          "name": "stderr",
          "text": [
            "203it [00:08, 16.51it/s]"
          ]
        },
        {
          "output_type": "stream",
          "name": "stdout",
          "text": [
            "train epoch:19 loss : 0.48530253767967224\n"
          ]
        },
        {
          "output_type": "stream",
          "name": "stderr",
          "text": [
            "306it [00:12, 25.60it/s]"
          ]
        },
        {
          "output_type": "stream",
          "name": "stdout",
          "text": [
            "train epoch:19 loss : 0.5724816918373108\n"
          ]
        },
        {
          "output_type": "stream",
          "name": "stderr",
          "text": [
            "405it [00:16, 25.61it/s]"
          ]
        },
        {
          "output_type": "stream",
          "name": "stdout",
          "text": [
            "train epoch:19 loss : 0.25674185156822205\n"
          ]
        },
        {
          "output_type": "stream",
          "name": "stderr",
          "text": [
            "503it [00:20, 17.25it/s]"
          ]
        },
        {
          "output_type": "stream",
          "name": "stdout",
          "text": [
            "train epoch:19 loss : 0.3023523688316345\n"
          ]
        },
        {
          "output_type": "stream",
          "name": "stderr",
          "text": [
            "604it [00:25, 26.02it/s]"
          ]
        },
        {
          "output_type": "stream",
          "name": "stdout",
          "text": [
            "train epoch:19 loss : 0.4977787137031555\n"
          ]
        },
        {
          "output_type": "stream",
          "name": "stderr",
          "text": [
            "706it [00:29, 25.84it/s]"
          ]
        },
        {
          "output_type": "stream",
          "name": "stdout",
          "text": [
            "train epoch:19 loss : 0.5598591566085815\n"
          ]
        },
        {
          "output_type": "stream",
          "name": "stderr",
          "text": [
            "803it [00:33, 18.62it/s]"
          ]
        },
        {
          "output_type": "stream",
          "name": "stdout",
          "text": [
            "train epoch:19 loss : 0.2912123203277588\n"
          ]
        },
        {
          "output_type": "stream",
          "name": "stderr",
          "text": [
            "904it [00:37, 25.56it/s]"
          ]
        },
        {
          "output_type": "stream",
          "name": "stdout",
          "text": [
            "train epoch:19 loss : 0.49421483278274536\n"
          ]
        },
        {
          "output_type": "stream",
          "name": "stderr",
          "text": [
            "938it [00:39, 23.93it/s]\n",
            "157it [00:04, 37.85it/s]\n"
          ]
        },
        {
          "output_type": "stream",
          "name": "stdout",
          "text": [
            "[19] test loss : 0.3419 accuracy : 87.66\n"
          ]
        },
        {
          "output_type": "stream",
          "name": "stderr",
          "text": [
            "3it [00:00, 26.31it/s]"
          ]
        },
        {
          "output_type": "stream",
          "name": "stdout",
          "text": [
            "train epoch:20 loss : 0.28579533100128174\n"
          ]
        },
        {
          "output_type": "stream",
          "name": "stderr",
          "text": [
            "104it [00:04, 17.16it/s]"
          ]
        },
        {
          "output_type": "stream",
          "name": "stdout",
          "text": [
            "train epoch:20 loss : 0.33734050393104553\n"
          ]
        },
        {
          "output_type": "stream",
          "name": "stderr",
          "text": [
            "204it [00:08, 26.87it/s]"
          ]
        },
        {
          "output_type": "stream",
          "name": "stdout",
          "text": [
            "train epoch:20 loss : 0.32826459407806396\n"
          ]
        },
        {
          "output_type": "stream",
          "name": "stderr",
          "text": [
            "306it [00:12, 25.66it/s]"
          ]
        },
        {
          "output_type": "stream",
          "name": "stdout",
          "text": [
            "train epoch:20 loss : 0.3441624641418457\n"
          ]
        },
        {
          "output_type": "stream",
          "name": "stderr",
          "text": [
            "403it [00:17, 17.75it/s]"
          ]
        },
        {
          "output_type": "stream",
          "name": "stdout",
          "text": [
            "train epoch:20 loss : 0.37121519446372986\n"
          ]
        },
        {
          "output_type": "stream",
          "name": "stderr",
          "text": [
            "504it [00:21, 24.91it/s]"
          ]
        },
        {
          "output_type": "stream",
          "name": "stdout",
          "text": [
            "train epoch:20 loss : 0.33058691024780273\n"
          ]
        },
        {
          "output_type": "stream",
          "name": "stderr",
          "text": [
            "603it [00:25, 25.00it/s]"
          ]
        },
        {
          "output_type": "stream",
          "name": "stdout",
          "text": [
            "train epoch:20 loss : 0.3070858418941498\n"
          ]
        },
        {
          "output_type": "stream",
          "name": "stderr",
          "text": [
            "704it [00:29, 17.54it/s]"
          ]
        },
        {
          "output_type": "stream",
          "name": "stdout",
          "text": [
            "train epoch:20 loss : 0.3217211663722992\n"
          ]
        },
        {
          "output_type": "stream",
          "name": "stderr",
          "text": [
            "804it [00:34, 25.52it/s]"
          ]
        },
        {
          "output_type": "stream",
          "name": "stdout",
          "text": [
            "train epoch:20 loss : 0.29591917991638184\n"
          ]
        },
        {
          "output_type": "stream",
          "name": "stderr",
          "text": [
            "906it [00:38, 25.18it/s]"
          ]
        },
        {
          "output_type": "stream",
          "name": "stdout",
          "text": [
            "train epoch:20 loss : 0.2813146710395813\n"
          ]
        },
        {
          "output_type": "stream",
          "name": "stderr",
          "text": [
            "938it [00:39, 23.67it/s]\n",
            "157it [00:05, 30.13it/s]\n"
          ]
        },
        {
          "output_type": "stream",
          "name": "stdout",
          "text": [
            "[20] test loss : 0.3344 accuracy : 87.57\n"
          ]
        },
        {
          "output_type": "stream",
          "name": "stderr",
          "text": [
            "3it [00:00, 24.29it/s]"
          ]
        },
        {
          "output_type": "stream",
          "name": "stdout",
          "text": [
            "train epoch:21 loss : 0.28656771779060364\n"
          ]
        },
        {
          "output_type": "stream",
          "name": "stderr",
          "text": [
            "105it [00:04, 26.24it/s]"
          ]
        },
        {
          "output_type": "stream",
          "name": "stdout",
          "text": [
            "train epoch:21 loss : 0.41661399602890015\n"
          ]
        },
        {
          "output_type": "stream",
          "name": "stderr",
          "text": [
            "204it [00:08, 25.84it/s]"
          ]
        },
        {
          "output_type": "stream",
          "name": "stdout",
          "text": [
            "train epoch:21 loss : 0.38100454211235046\n"
          ]
        },
        {
          "output_type": "stream",
          "name": "stderr",
          "text": [
            "304it [00:12, 23.95it/s]"
          ]
        },
        {
          "output_type": "stream",
          "name": "stdout",
          "text": [
            "train epoch:21 loss : 0.35824209451675415\n"
          ]
        },
        {
          "output_type": "stream",
          "name": "stderr",
          "text": [
            "406it [00:16, 25.71it/s]"
          ]
        },
        {
          "output_type": "stream",
          "name": "stdout",
          "text": [
            "train epoch:21 loss : 0.4211932122707367\n"
          ]
        },
        {
          "output_type": "stream",
          "name": "stderr",
          "text": [
            "505it [00:20, 25.53it/s]"
          ]
        },
        {
          "output_type": "stream",
          "name": "stdout",
          "text": [
            "train epoch:21 loss : 0.3107758164405823\n"
          ]
        },
        {
          "output_type": "stream",
          "name": "stderr",
          "text": [
            "605it [00:25, 21.44it/s]"
          ]
        },
        {
          "output_type": "stream",
          "name": "stdout",
          "text": [
            "train epoch:21 loss : 0.5397153496742249\n"
          ]
        },
        {
          "output_type": "stream",
          "name": "stderr",
          "text": [
            "704it [00:29, 26.13it/s]"
          ]
        },
        {
          "output_type": "stream",
          "name": "stdout",
          "text": [
            "train epoch:21 loss : 0.45517605543136597\n"
          ]
        },
        {
          "output_type": "stream",
          "name": "stderr",
          "text": [
            "806it [00:33, 25.18it/s]"
          ]
        },
        {
          "output_type": "stream",
          "name": "stdout",
          "text": [
            "train epoch:21 loss : 0.30095580220222473\n"
          ]
        },
        {
          "output_type": "stream",
          "name": "stderr",
          "text": [
            "906it [00:38, 22.15it/s]"
          ]
        },
        {
          "output_type": "stream",
          "name": "stdout",
          "text": [
            "train epoch:21 loss : 0.36160510778427124\n"
          ]
        },
        {
          "output_type": "stream",
          "name": "stderr",
          "text": [
            "938it [00:40, 23.43it/s]\n",
            "157it [00:04, 36.52it/s]\n"
          ]
        },
        {
          "output_type": "stream",
          "name": "stdout",
          "text": [
            "[21] test loss : 0.3293 accuracy : 87.9\n"
          ]
        },
        {
          "output_type": "stream",
          "name": "stderr",
          "text": [
            "2it [00:00, 16.70it/s]"
          ]
        },
        {
          "output_type": "stream",
          "name": "stdout",
          "text": [
            "train epoch:22 loss : 0.37649500370025635\n"
          ]
        },
        {
          "output_type": "stream",
          "name": "stderr",
          "text": [
            "104it [00:04, 22.83it/s]"
          ]
        },
        {
          "output_type": "stream",
          "name": "stdout",
          "text": [
            "train epoch:22 loss : 0.2769080400466919\n"
          ]
        },
        {
          "output_type": "stream",
          "name": "stderr",
          "text": [
            "206it [00:09, 25.33it/s]"
          ]
        },
        {
          "output_type": "stream",
          "name": "stdout",
          "text": [
            "train epoch:22 loss : 0.3841668963432312\n"
          ]
        },
        {
          "output_type": "stream",
          "name": "stderr",
          "text": [
            "305it [00:13, 26.06it/s]"
          ]
        },
        {
          "output_type": "stream",
          "name": "stdout",
          "text": [
            "train epoch:22 loss : 0.3882341682910919\n"
          ]
        },
        {
          "output_type": "stream",
          "name": "stderr",
          "text": [
            "404it [00:16, 26.18it/s]"
          ]
        },
        {
          "output_type": "stream",
          "name": "stdout",
          "text": [
            "train epoch:22 loss : 0.330959677696228\n"
          ]
        },
        {
          "output_type": "stream",
          "name": "stderr",
          "text": [
            "504it [00:21, 26.33it/s]"
          ]
        },
        {
          "output_type": "stream",
          "name": "stdout",
          "text": [
            "train epoch:22 loss : 0.5602233409881592\n"
          ]
        },
        {
          "output_type": "stream",
          "name": "stderr",
          "text": [
            "603it [00:25, 24.82it/s]"
          ]
        },
        {
          "output_type": "stream",
          "name": "stdout",
          "text": [
            "train epoch:22 loss : 0.2900746762752533\n"
          ]
        },
        {
          "output_type": "stream",
          "name": "stderr",
          "text": [
            "705it [00:29, 26.24it/s]"
          ]
        },
        {
          "output_type": "stream",
          "name": "stdout",
          "text": [
            "train epoch:22 loss : 0.24586831033229828\n"
          ]
        },
        {
          "output_type": "stream",
          "name": "stderr",
          "text": [
            "805it [00:34, 25.88it/s]"
          ]
        },
        {
          "output_type": "stream",
          "name": "stdout",
          "text": [
            "train epoch:22 loss : 0.25730448961257935\n"
          ]
        },
        {
          "output_type": "stream",
          "name": "stderr",
          "text": [
            "904it [00:38, 26.05it/s]"
          ]
        },
        {
          "output_type": "stream",
          "name": "stdout",
          "text": [
            "train epoch:22 loss : 0.35184356570243835\n"
          ]
        },
        {
          "output_type": "stream",
          "name": "stderr",
          "text": [
            "938it [00:39, 23.70it/s]\n",
            "157it [00:04, 34.45it/s]\n"
          ]
        },
        {
          "output_type": "stream",
          "name": "stdout",
          "text": [
            "[22] test loss : 0.3250 accuracy : 88.06\n"
          ]
        },
        {
          "output_type": "stream",
          "name": "stderr",
          "text": [
            "2it [00:00, 14.99it/s]"
          ]
        },
        {
          "output_type": "stream",
          "name": "stdout",
          "text": [
            "train epoch:23 loss : 0.4203566312789917\n"
          ]
        },
        {
          "output_type": "stream",
          "name": "stderr",
          "text": [
            "105it [00:04, 25.52it/s]"
          ]
        },
        {
          "output_type": "stream",
          "name": "stdout",
          "text": [
            "train epoch:23 loss : 0.32425299286842346\n"
          ]
        },
        {
          "output_type": "stream",
          "name": "stderr",
          "text": [
            "204it [00:08, 24.70it/s]"
          ]
        },
        {
          "output_type": "stream",
          "name": "stdout",
          "text": [
            "train epoch:23 loss : 0.2548588514328003\n"
          ]
        },
        {
          "output_type": "stream",
          "name": "stderr",
          "text": [
            "303it [00:12, 17.25it/s]"
          ]
        },
        {
          "output_type": "stream",
          "name": "stdout",
          "text": [
            "train epoch:23 loss : 0.3899975121021271\n"
          ]
        },
        {
          "output_type": "stream",
          "name": "stderr",
          "text": [
            "404it [00:17, 25.57it/s]"
          ]
        },
        {
          "output_type": "stream",
          "name": "stdout",
          "text": [
            "train epoch:23 loss : 0.17661736905574799\n"
          ]
        },
        {
          "output_type": "stream",
          "name": "stderr",
          "text": [
            "506it [00:21, 25.59it/s]"
          ]
        },
        {
          "output_type": "stream",
          "name": "stdout",
          "text": [
            "train epoch:23 loss : 0.4412020146846771\n"
          ]
        },
        {
          "output_type": "stream",
          "name": "stderr",
          "text": [
            "604it [00:25, 18.39it/s]"
          ]
        },
        {
          "output_type": "stream",
          "name": "stdout",
          "text": [
            "train epoch:23 loss : 0.31073975563049316\n"
          ]
        },
        {
          "output_type": "stream",
          "name": "stderr",
          "text": [
            "703it [00:30, 25.73it/s]"
          ]
        },
        {
          "output_type": "stream",
          "name": "stdout",
          "text": [
            "train epoch:23 loss : 0.29581648111343384\n"
          ]
        },
        {
          "output_type": "stream",
          "name": "stderr",
          "text": [
            "805it [00:34, 25.13it/s]"
          ]
        },
        {
          "output_type": "stream",
          "name": "stdout",
          "text": [
            "train epoch:23 loss : 0.3408484160900116\n"
          ]
        },
        {
          "output_type": "stream",
          "name": "stderr",
          "text": [
            "904it [00:38, 20.12it/s]"
          ]
        },
        {
          "output_type": "stream",
          "name": "stdout",
          "text": [
            "train epoch:23 loss : 0.2998467683792114\n"
          ]
        },
        {
          "output_type": "stream",
          "name": "stderr",
          "text": [
            "938it [00:40, 23.36it/s]\n",
            "124it [00:03, 34.38it/s]\n"
          ]
        },
        {
          "output_type": "error",
          "ename": "KeyboardInterrupt",
          "evalue": "ignored",
          "traceback": [
            "\u001b[0;31m---------------------------------------------------------------------------\u001b[0m",
            "\u001b[0;31mKeyboardInterrupt\u001b[0m                         Traceback (most recent call last)",
            "\u001b[0;32m<ipython-input-93-c2c9a3b80f00>\u001b[0m in \u001b[0;36m<cell line: 1>\u001b[0;34m()\u001b[0m\n\u001b[1;32m      1\u001b[0m \u001b[0;32mfor\u001b[0m \u001b[0mepoch\u001b[0m \u001b[0;32min\u001b[0m \u001b[0mrange\u001b[0m\u001b[0;34m(\u001b[0m\u001b[0;36m1\u001b[0m\u001b[0;34m,\u001b[0m\u001b[0mEPOCH\u001b[0m\u001b[0;34m+\u001b[0m\u001b[0;36m1\u001b[0m\u001b[0;34m)\u001b[0m\u001b[0;34m:\u001b[0m\u001b[0;34m\u001b[0m\u001b[0;34m\u001b[0m\u001b[0m\n\u001b[1;32m      2\u001b[0m   \u001b[0mtrain\u001b[0m\u001b[0;34m(\u001b[0m\u001b[0mmodel\u001b[0m\u001b[0;34m,\u001b[0m \u001b[0mtrain_loader\u001b[0m\u001b[0;34m,\u001b[0m \u001b[0mop\u001b[0m\u001b[0;34m,\u001b[0m\u001b[0mepoch\u001b[0m\u001b[0;34m)\u001b[0m\u001b[0;34m\u001b[0m\u001b[0;34m\u001b[0m\u001b[0m\n\u001b[0;32m----> 3\u001b[0;31m   \u001b[0mtest_loss\u001b[0m\u001b[0;34m,\u001b[0m \u001b[0mtest_accuracy\u001b[0m \u001b[0;34m=\u001b[0m  \u001b[0mevaluate\u001b[0m\u001b[0;34m(\u001b[0m\u001b[0mmodel\u001b[0m\u001b[0;34m,\u001b[0m\u001b[0mtest_loader\u001b[0m\u001b[0;34m)\u001b[0m\u001b[0;34m\u001b[0m\u001b[0;34m\u001b[0m\u001b[0m\n\u001b[0m\u001b[1;32m      4\u001b[0m   \u001b[0mprint\u001b[0m\u001b[0;34m(\u001b[0m\u001b[0;34mf\"[{epoch}] test loss : {test_loss:.4f} accuracy : {test_accuracy}\"\u001b[0m\u001b[0;34m)\u001b[0m\u001b[0;34m\u001b[0m\u001b[0;34m\u001b[0m\u001b[0m\n",
            "\u001b[0;32m<ipython-input-92-09a2d7f92a1c>\u001b[0m in \u001b[0;36mevaluate\u001b[0;34m(model, test_loader)\u001b[0m\n\u001b[1;32m     21\u001b[0m       \u001b[0mdata\u001b[0m\u001b[0;34m,\u001b[0m \u001b[0mlabel\u001b[0m \u001b[0;34m=\u001b[0m \u001b[0mdata\u001b[0m\u001b[0;34m.\u001b[0m\u001b[0mto\u001b[0m\u001b[0;34m(\u001b[0m\u001b[0mdevice\u001b[0m\u001b[0;34m)\u001b[0m\u001b[0;34m,\u001b[0m \u001b[0mlabel\u001b[0m\u001b[0;34m.\u001b[0m\u001b[0mto\u001b[0m\u001b[0;34m(\u001b[0m\u001b[0mdevice\u001b[0m\u001b[0;34m)\u001b[0m\u001b[0;34m\u001b[0m\u001b[0;34m\u001b[0m\u001b[0m\n\u001b[1;32m     22\u001b[0m \u001b[0;34m\u001b[0m\u001b[0m\n\u001b[0;32m---> 23\u001b[0;31m       \u001b[0moutput\u001b[0m \u001b[0;34m=\u001b[0m \u001b[0mmodel\u001b[0m\u001b[0;34m(\u001b[0m\u001b[0mdata\u001b[0m\u001b[0;34m)\u001b[0m\u001b[0;34m\u001b[0m\u001b[0;34m\u001b[0m\u001b[0m\n\u001b[0m\u001b[1;32m     24\u001b[0m       \u001b[0;31m# 배치오차 합산\u001b[0m\u001b[0;34m\u001b[0m\u001b[0;34m\u001b[0m\u001b[0m\n\u001b[1;32m     25\u001b[0m       \u001b[0mtest_loss\u001b[0m \u001b[0;34m+=\u001b[0m \u001b[0mF\u001b[0m\u001b[0;34m.\u001b[0m\u001b[0mcross_entropy\u001b[0m\u001b[0;34m(\u001b[0m\u001b[0moutput\u001b[0m\u001b[0;34m,\u001b[0m \u001b[0mlabel\u001b[0m\u001b[0;34m,\u001b[0m\u001b[0mreduction\u001b[0m\u001b[0;34m=\u001b[0m\u001b[0;34m'sum'\u001b[0m\u001b[0;34m)\u001b[0m\u001b[0;34m.\u001b[0m\u001b[0mitem\u001b[0m\u001b[0;34m(\u001b[0m\u001b[0;34m)\u001b[0m\u001b[0;34m\u001b[0m\u001b[0;34m\u001b[0m\u001b[0m\n",
            "\u001b[0;32m/usr/local/lib/python3.9/dist-packages/torch/nn/modules/module.py\u001b[0m in \u001b[0;36m_call_impl\u001b[0;34m(self, *args, **kwargs)\u001b[0m\n\u001b[1;32m   1499\u001b[0m                 \u001b[0;32mor\u001b[0m \u001b[0m_global_backward_pre_hooks\u001b[0m \u001b[0;32mor\u001b[0m \u001b[0m_global_backward_hooks\u001b[0m\u001b[0;34m\u001b[0m\u001b[0;34m\u001b[0m\u001b[0m\n\u001b[1;32m   1500\u001b[0m                 or _global_forward_hooks or _global_forward_pre_hooks):\n\u001b[0;32m-> 1501\u001b[0;31m             \u001b[0;32mreturn\u001b[0m \u001b[0mforward_call\u001b[0m\u001b[0;34m(\u001b[0m\u001b[0;34m*\u001b[0m\u001b[0margs\u001b[0m\u001b[0;34m,\u001b[0m \u001b[0;34m**\u001b[0m\u001b[0mkwargs\u001b[0m\u001b[0;34m)\u001b[0m\u001b[0;34m\u001b[0m\u001b[0;34m\u001b[0m\u001b[0m\n\u001b[0m\u001b[1;32m   1502\u001b[0m         \u001b[0;31m# Do not call functions when jit is used\u001b[0m\u001b[0;34m\u001b[0m\u001b[0;34m\u001b[0m\u001b[0m\n\u001b[1;32m   1503\u001b[0m         \u001b[0mfull_backward_hooks\u001b[0m\u001b[0;34m,\u001b[0m \u001b[0mnon_full_backward_hooks\u001b[0m \u001b[0;34m=\u001b[0m \u001b[0;34m[\u001b[0m\u001b[0;34m]\u001b[0m\u001b[0;34m,\u001b[0m \u001b[0;34m[\u001b[0m\u001b[0;34m]\u001b[0m\u001b[0;34m\u001b[0m\u001b[0;34m\u001b[0m\u001b[0m\n",
            "\u001b[0;32m<ipython-input-90-21bffde3b8b8>\u001b[0m in \u001b[0;36mforward\u001b[0;34m(self, x)\u001b[0m\n\u001b[1;32m     11\u001b[0m     \u001b[0mself\u001b[0m\u001b[0;34m.\u001b[0m\u001b[0mfc2\u001b[0m \u001b[0;34m=\u001b[0m \u001b[0mnn\u001b[0m\u001b[0;34m.\u001b[0m\u001b[0mLinear\u001b[0m\u001b[0;34m(\u001b[0m\u001b[0;36m50\u001b[0m\u001b[0;34m,\u001b[0m\u001b[0;36m10\u001b[0m\u001b[0;34m)\u001b[0m\u001b[0;34m\u001b[0m\u001b[0;34m\u001b[0m\u001b[0m\n\u001b[1;32m     12\u001b[0m   \u001b[0;32mdef\u001b[0m \u001b[0mforward\u001b[0m\u001b[0;34m(\u001b[0m\u001b[0mself\u001b[0m\u001b[0;34m,\u001b[0m \u001b[0mx\u001b[0m\u001b[0;34m)\u001b[0m\u001b[0;34m:\u001b[0m\u001b[0;34m\u001b[0m\u001b[0;34m\u001b[0m\u001b[0m\n\u001b[0;32m---> 13\u001b[0;31m     \u001b[0mx\u001b[0m \u001b[0;34m=\u001b[0m \u001b[0mself\u001b[0m\u001b[0;34m.\u001b[0m\u001b[0mrelu\u001b[0m\u001b[0;34m(\u001b[0m\u001b[0mself\u001b[0m\u001b[0;34m.\u001b[0m\u001b[0mmp\u001b[0m\u001b[0;34m(\u001b[0m\u001b[0mself\u001b[0m\u001b[0;34m.\u001b[0m\u001b[0mconv1\u001b[0m\u001b[0;34m(\u001b[0m\u001b[0mx\u001b[0m\u001b[0;34m)\u001b[0m\u001b[0;34m)\u001b[0m \u001b[0;34m)\u001b[0m\u001b[0;34m\u001b[0m\u001b[0;34m\u001b[0m\u001b[0m\n\u001b[0m\u001b[1;32m     14\u001b[0m     \u001b[0mx\u001b[0m \u001b[0;34m=\u001b[0m \u001b[0mself\u001b[0m\u001b[0;34m.\u001b[0m\u001b[0mrelu\u001b[0m\u001b[0;34m(\u001b[0m\u001b[0mself\u001b[0m\u001b[0;34m.\u001b[0m\u001b[0mmp\u001b[0m\u001b[0;34m(\u001b[0m\u001b[0mself\u001b[0m\u001b[0;34m.\u001b[0m\u001b[0mconv2\u001b[0m\u001b[0;34m(\u001b[0m\u001b[0mx\u001b[0m\u001b[0;34m)\u001b[0m\u001b[0;34m)\u001b[0m \u001b[0;34m)\u001b[0m\u001b[0;34m\u001b[0m\u001b[0;34m\u001b[0m\u001b[0m\n\u001b[1;32m     15\u001b[0m \u001b[0;34m\u001b[0m\u001b[0m\n",
            "\u001b[0;32m/usr/local/lib/python3.9/dist-packages/torch/nn/modules/module.py\u001b[0m in \u001b[0;36m_call_impl\u001b[0;34m(self, *args, **kwargs)\u001b[0m\n\u001b[1;32m   1499\u001b[0m                 \u001b[0;32mor\u001b[0m \u001b[0m_global_backward_pre_hooks\u001b[0m \u001b[0;32mor\u001b[0m \u001b[0m_global_backward_hooks\u001b[0m\u001b[0;34m\u001b[0m\u001b[0;34m\u001b[0m\u001b[0m\n\u001b[1;32m   1500\u001b[0m                 or _global_forward_hooks or _global_forward_pre_hooks):\n\u001b[0;32m-> 1501\u001b[0;31m             \u001b[0;32mreturn\u001b[0m \u001b[0mforward_call\u001b[0m\u001b[0;34m(\u001b[0m\u001b[0;34m*\u001b[0m\u001b[0margs\u001b[0m\u001b[0;34m,\u001b[0m \u001b[0;34m**\u001b[0m\u001b[0mkwargs\u001b[0m\u001b[0;34m)\u001b[0m\u001b[0;34m\u001b[0m\u001b[0;34m\u001b[0m\u001b[0m\n\u001b[0m\u001b[1;32m   1502\u001b[0m         \u001b[0;31m# Do not call functions when jit is used\u001b[0m\u001b[0;34m\u001b[0m\u001b[0;34m\u001b[0m\u001b[0m\n\u001b[1;32m   1503\u001b[0m         \u001b[0mfull_backward_hooks\u001b[0m\u001b[0;34m,\u001b[0m \u001b[0mnon_full_backward_hooks\u001b[0m \u001b[0;34m=\u001b[0m \u001b[0;34m[\u001b[0m\u001b[0;34m]\u001b[0m\u001b[0;34m,\u001b[0m \u001b[0;34m[\u001b[0m\u001b[0;34m]\u001b[0m\u001b[0;34m\u001b[0m\u001b[0;34m\u001b[0m\u001b[0m\n",
            "\u001b[0;32m/usr/local/lib/python3.9/dist-packages/torch/nn/modules/pooling.py\u001b[0m in \u001b[0;36mforward\u001b[0;34m(self, input)\u001b[0m\n\u001b[1;32m    164\u001b[0m \u001b[0;34m\u001b[0m\u001b[0m\n\u001b[1;32m    165\u001b[0m     \u001b[0;32mdef\u001b[0m \u001b[0mforward\u001b[0m\u001b[0;34m(\u001b[0m\u001b[0mself\u001b[0m\u001b[0;34m,\u001b[0m \u001b[0minput\u001b[0m\u001b[0;34m:\u001b[0m \u001b[0mTensor\u001b[0m\u001b[0;34m)\u001b[0m\u001b[0;34m:\u001b[0m\u001b[0;34m\u001b[0m\u001b[0;34m\u001b[0m\u001b[0m\n\u001b[0;32m--> 166\u001b[0;31m         return F.max_pool2d(input, self.kernel_size, self.stride,\n\u001b[0m\u001b[1;32m    167\u001b[0m                             \u001b[0mself\u001b[0m\u001b[0;34m.\u001b[0m\u001b[0mpadding\u001b[0m\u001b[0;34m,\u001b[0m \u001b[0mself\u001b[0m\u001b[0;34m.\u001b[0m\u001b[0mdilation\u001b[0m\u001b[0;34m,\u001b[0m \u001b[0mceil_mode\u001b[0m\u001b[0;34m=\u001b[0m\u001b[0mself\u001b[0m\u001b[0;34m.\u001b[0m\u001b[0mceil_mode\u001b[0m\u001b[0;34m,\u001b[0m\u001b[0;34m\u001b[0m\u001b[0;34m\u001b[0m\u001b[0m\n\u001b[1;32m    168\u001b[0m                             return_indices=self.return_indices)\n",
            "\u001b[0;32m/usr/local/lib/python3.9/dist-packages/torch/_jit_internal.py\u001b[0m in \u001b[0;36mfn\u001b[0;34m(*args, **kwargs)\u001b[0m\n\u001b[1;32m    482\u001b[0m             \u001b[0;32mreturn\u001b[0m \u001b[0mif_true\u001b[0m\u001b[0;34m(\u001b[0m\u001b[0;34m*\u001b[0m\u001b[0margs\u001b[0m\u001b[0;34m,\u001b[0m \u001b[0;34m**\u001b[0m\u001b[0mkwargs\u001b[0m\u001b[0;34m)\u001b[0m\u001b[0;34m\u001b[0m\u001b[0;34m\u001b[0m\u001b[0m\n\u001b[1;32m    483\u001b[0m         \u001b[0;32melse\u001b[0m\u001b[0;34m:\u001b[0m\u001b[0;34m\u001b[0m\u001b[0;34m\u001b[0m\u001b[0m\n\u001b[0;32m--> 484\u001b[0;31m             \u001b[0;32mreturn\u001b[0m \u001b[0mif_false\u001b[0m\u001b[0;34m(\u001b[0m\u001b[0;34m*\u001b[0m\u001b[0margs\u001b[0m\u001b[0;34m,\u001b[0m \u001b[0;34m**\u001b[0m\u001b[0mkwargs\u001b[0m\u001b[0;34m)\u001b[0m\u001b[0;34m\u001b[0m\u001b[0;34m\u001b[0m\u001b[0m\n\u001b[0m\u001b[1;32m    485\u001b[0m \u001b[0;34m\u001b[0m\u001b[0m\n\u001b[1;32m    486\u001b[0m     \u001b[0;32mif\u001b[0m \u001b[0mif_true\u001b[0m\u001b[0;34m.\u001b[0m\u001b[0m__doc__\u001b[0m \u001b[0;32mis\u001b[0m \u001b[0;32mNone\u001b[0m \u001b[0;32mand\u001b[0m \u001b[0mif_false\u001b[0m\u001b[0;34m.\u001b[0m\u001b[0m__doc__\u001b[0m \u001b[0;32mis\u001b[0m \u001b[0;32mnot\u001b[0m \u001b[0;32mNone\u001b[0m\u001b[0;34m:\u001b[0m\u001b[0;34m\u001b[0m\u001b[0;34m\u001b[0m\u001b[0m\n",
            "\u001b[0;32m/usr/local/lib/python3.9/dist-packages/torch/nn/functional.py\u001b[0m in \u001b[0;36m_max_pool2d\u001b[0;34m(input, kernel_size, stride, padding, dilation, ceil_mode, return_indices)\u001b[0m\n\u001b[1;32m    780\u001b[0m     \u001b[0;32mif\u001b[0m \u001b[0mstride\u001b[0m \u001b[0;32mis\u001b[0m \u001b[0;32mNone\u001b[0m\u001b[0;34m:\u001b[0m\u001b[0;34m\u001b[0m\u001b[0;34m\u001b[0m\u001b[0m\n\u001b[1;32m    781\u001b[0m         \u001b[0mstride\u001b[0m \u001b[0;34m=\u001b[0m \u001b[0mtorch\u001b[0m\u001b[0;34m.\u001b[0m\u001b[0mjit\u001b[0m\u001b[0;34m.\u001b[0m\u001b[0mannotate\u001b[0m\u001b[0;34m(\u001b[0m\u001b[0mList\u001b[0m\u001b[0;34m[\u001b[0m\u001b[0mint\u001b[0m\u001b[0;34m]\u001b[0m\u001b[0;34m,\u001b[0m \u001b[0;34m[\u001b[0m\u001b[0;34m]\u001b[0m\u001b[0;34m)\u001b[0m\u001b[0;34m\u001b[0m\u001b[0;34m\u001b[0m\u001b[0m\n\u001b[0;32m--> 782\u001b[0;31m     \u001b[0;32mreturn\u001b[0m \u001b[0mtorch\u001b[0m\u001b[0;34m.\u001b[0m\u001b[0mmax_pool2d\u001b[0m\u001b[0;34m(\u001b[0m\u001b[0minput\u001b[0m\u001b[0;34m,\u001b[0m \u001b[0mkernel_size\u001b[0m\u001b[0;34m,\u001b[0m \u001b[0mstride\u001b[0m\u001b[0;34m,\u001b[0m \u001b[0mpadding\u001b[0m\u001b[0;34m,\u001b[0m \u001b[0mdilation\u001b[0m\u001b[0;34m,\u001b[0m \u001b[0mceil_mode\u001b[0m\u001b[0;34m)\u001b[0m\u001b[0;34m\u001b[0m\u001b[0;34m\u001b[0m\u001b[0m\n\u001b[0m\u001b[1;32m    783\u001b[0m \u001b[0;34m\u001b[0m\u001b[0m\n\u001b[1;32m    784\u001b[0m \u001b[0;34m\u001b[0m\u001b[0m\n",
            "\u001b[0;31mKeyboardInterrupt\u001b[0m: "
          ]
        }
      ]
    },
    {
      "cell_type": "code",
      "source": [],
      "metadata": {
        "id": "Dd_nJZgK_HeJ"
      },
      "execution_count": null,
      "outputs": []
    }
  ]
}