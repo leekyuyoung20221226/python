{
  "nbformat": 4,
  "nbformat_minor": 0,
  "metadata": {
    "colab": {
      "provenance": [],
      "gpuType": "T4"
    },
    "kernelspec": {
      "name": "python3",
      "display_name": "Python 3"
    },
    "language_info": {
      "name": "python"
    },
    "accelerator": "GPU",
    "gpuClass": "standard"
  },
  "cells": [
    {
      "cell_type": "code",
      "source": [
        "# CNN ReLU\n",
        "import torch\n",
        "import torch.nn as nn\n",
        "from torch.utils.data import Dataset,DataLoader,TensorDataset\n",
        "import tqdm\n",
        "from torchvision.datasets import FashionMNIST\n",
        "from torchvision import transforms\n",
        "import torch.nn.functional as F"
      ],
      "metadata": {
        "id": "hi_Pazu58WWZ"
      },
      "execution_count": 1,
      "outputs": []
    },
    {
      "cell_type": "code",
      "source": [
        "# 훈련용데이터\n",
        "fashion_mnist_train = FashionMNIST('./FashionMNIST',train=True, download=True,transform=transforms.ToTensor() )\n",
        "fashion_mnist_test = FashionMNIST('./FashionMNIST',train=False, download=True,transform=transforms.ToTensor() )"
      ],
      "metadata": {
        "colab": {
          "base_uri": "https://localhost:8080/"
        },
        "id": "2Qmwr3pB-6of",
        "outputId": "bd3c3792-e1d4-4f1b-90f0-81d61b5af4a0"
      },
      "execution_count": 2,
      "outputs": [
        {
          "output_type": "stream",
          "name": "stdout",
          "text": [
            "Downloading http://fashion-mnist.s3-website.eu-central-1.amazonaws.com/train-images-idx3-ubyte.gz\n",
            "Downloading http://fashion-mnist.s3-website.eu-central-1.amazonaws.com/train-images-idx3-ubyte.gz to ./FashionMNIST/FashionMNIST/raw/train-images-idx3-ubyte.gz\n"
          ]
        },
        {
          "output_type": "stream",
          "name": "stderr",
          "text": [
            "100%|██████████| 26421880/26421880 [00:01<00:00, 15952224.68it/s]\n"
          ]
        },
        {
          "output_type": "stream",
          "name": "stdout",
          "text": [
            "Extracting ./FashionMNIST/FashionMNIST/raw/train-images-idx3-ubyte.gz to ./FashionMNIST/FashionMNIST/raw\n",
            "\n",
            "Downloading http://fashion-mnist.s3-website.eu-central-1.amazonaws.com/train-labels-idx1-ubyte.gz\n",
            "Downloading http://fashion-mnist.s3-website.eu-central-1.amazonaws.com/train-labels-idx1-ubyte.gz to ./FashionMNIST/FashionMNIST/raw/train-labels-idx1-ubyte.gz\n"
          ]
        },
        {
          "output_type": "stream",
          "name": "stderr",
          "text": [
            "100%|██████████| 29515/29515 [00:00<00:00, 277297.17it/s]\n"
          ]
        },
        {
          "output_type": "stream",
          "name": "stdout",
          "text": [
            "Extracting ./FashionMNIST/FashionMNIST/raw/train-labels-idx1-ubyte.gz to ./FashionMNIST/FashionMNIST/raw\n",
            "\n",
            "Downloading http://fashion-mnist.s3-website.eu-central-1.amazonaws.com/t10k-images-idx3-ubyte.gz\n",
            "Downloading http://fashion-mnist.s3-website.eu-central-1.amazonaws.com/t10k-images-idx3-ubyte.gz to ./FashionMNIST/FashionMNIST/raw/t10k-images-idx3-ubyte.gz\n"
          ]
        },
        {
          "output_type": "stream",
          "name": "stderr",
          "text": [
            "100%|██████████| 4422102/4422102 [00:00<00:00, 5039146.00it/s]\n"
          ]
        },
        {
          "output_type": "stream",
          "name": "stdout",
          "text": [
            "Extracting ./FashionMNIST/FashionMNIST/raw/t10k-images-idx3-ubyte.gz to ./FashionMNIST/FashionMNIST/raw\n",
            "\n",
            "Downloading http://fashion-mnist.s3-website.eu-central-1.amazonaws.com/t10k-labels-idx1-ubyte.gz\n",
            "Downloading http://fashion-mnist.s3-website.eu-central-1.amazonaws.com/t10k-labels-idx1-ubyte.gz to ./FashionMNIST/FashionMNIST/raw/t10k-labels-idx1-ubyte.gz\n"
          ]
        },
        {
          "output_type": "stream",
          "name": "stderr",
          "text": [
            "100%|██████████| 5148/5148 [00:00<00:00, 9470296.93it/s]"
          ]
        },
        {
          "output_type": "stream",
          "name": "stdout",
          "text": [
            "Extracting ./FashionMNIST/FashionMNIST/raw/t10k-labels-idx1-ubyte.gz to ./FashionMNIST/FashionMNIST/raw\n",
            "\n"
          ]
        },
        {
          "output_type": "stream",
          "name": "stderr",
          "text": [
            "\n"
          ]
        }
      ]
    },
    {
      "cell_type": "code",
      "source": [
        "# 배치 크기를 128\n",
        "batch_size = 128\n",
        "train_loader = DataLoader(fashion_mnist_train,batch_size=batch_size, shuffle=True)\n",
        "test_loader = DataLoader(fashion_mnist_test,batch_size=batch_size, shuffle=False)"
      ],
      "metadata": {
        "id": "JUcu5z-g_ix_"
      },
      "execution_count": 3,
      "outputs": []
    },
    {
      "cell_type": "code",
      "source": [
        "for data,label in train_loader:\n",
        "  print(data.shape)\n",
        "  break"
      ],
      "metadata": {
        "colab": {
          "base_uri": "https://localhost:8080/"
        },
        "id": "Jbntprc-BLol",
        "outputId": "0fd9cdc3-6b8e-4ab9-f2b8-be9efc42520b"
      },
      "execution_count": 4,
      "outputs": [
        {
          "output_type": "stream",
          "name": "stdout",
          "text": [
            "torch.Size([128, 1, 28, 28])\n"
          ]
        }
      ]
    },
    {
      "cell_type": "code",
      "source": [
        "# torch.Size([128, 1, 28, 28])\n",
        "# (batch,channel,height,width)  --> (batch, channelxheightxwidth)\n"
      ],
      "metadata": {
        "id": "bO5M0N6vCDW9"
      },
      "execution_count": 5,
      "outputs": []
    },
    {
      "cell_type": "code",
      "source": [
        "# 2층 합성곱, 2층 MLP을 연결한 CNN\n",
        "conv_net = nn.Sequential(\n",
        "    nn.Conv2d(1,32,5),\n",
        "    nn.MaxPool2d(2),\n",
        "    nn.ReLU(),\n",
        "    nn.BatchNorm2d(32),\n",
        "    nn.Dropout2d(0.25),\n",
        "\n",
        "    nn.Conv2d(32,64,5),\n",
        "    nn.MaxPool2d(2),\n",
        "    nn.ReLU(),\n",
        "    nn.BatchNorm2d(64),\n",
        "    nn.Dropout2d(0.25), # torch.Size([1, 64, 4, 4])\n",
        "    nn.Flatten()  # (1 ,1024)\n",
        ")"
      ],
      "metadata": {
        "id": "VXmQpPXtANqu"
      },
      "execution_count": 6,
      "outputs": []
    },
    {
      "cell_type": "code",
      "source": [
        "# 합성곱에 의해 최종적으로 이미지 크기가 어떤지를 더미데이터를 넣어서 확인\n",
        "test_input = torch.ones(1, 1, 28, 28)\n",
        "conv_out_put = conv_net(test_input).size()[-1]"
      ],
      "metadata": {
        "id": "eDn-knMNClqU"
      },
      "execution_count": 7,
      "outputs": []
    },
    {
      "cell_type": "code",
      "source": [
        "# 2층 MLP\n",
        "mlp = nn.Sequential(\n",
        "    nn.Linear(conv_out_put,200),\n",
        "    nn.ReLU(),\n",
        "    nn.BatchNorm1d(200),\n",
        "    nn.Dropout(0.25),\n",
        "    nn.Linear(200,10)\n",
        ")"
      ],
      "metadata": {
        "id": "yvAoVrMbC6nK"
      },
      "execution_count": 8,
      "outputs": []
    },
    {
      "cell_type": "code",
      "source": [
        "# 최종 cnn\n",
        "model = nn.Sequential(\n",
        "    conv_net,mlp\n",
        ")"
      ],
      "metadata": {
        "id": "K82n82ouD5FL"
      },
      "execution_count": 9,
      "outputs": []
    },
    {
      "cell_type": "code",
      "source": [
        "model"
      ],
      "metadata": {
        "colab": {
          "base_uri": "https://localhost:8080/"
        },
        "id": "gifyyfjcEBlT",
        "outputId": "acf387c8-e435-4af0-ea0c-22a6b8356fe5"
      },
      "execution_count": 10,
      "outputs": [
        {
          "output_type": "execute_result",
          "data": {
            "text/plain": [
              "Sequential(\n",
              "  (0): Sequential(\n",
              "    (0): Conv2d(1, 32, kernel_size=(5, 5), stride=(1, 1))\n",
              "    (1): MaxPool2d(kernel_size=2, stride=2, padding=0, dilation=1, ceil_mode=False)\n",
              "    (2): ReLU()\n",
              "    (3): BatchNorm2d(32, eps=1e-05, momentum=0.1, affine=True, track_running_stats=True)\n",
              "    (4): Dropout2d(p=0.25, inplace=False)\n",
              "    (5): Conv2d(32, 64, kernel_size=(5, 5), stride=(1, 1))\n",
              "    (6): MaxPool2d(kernel_size=2, stride=2, padding=0, dilation=1, ceil_mode=False)\n",
              "    (7): ReLU()\n",
              "    (8): BatchNorm2d(64, eps=1e-05, momentum=0.1, affine=True, track_running_stats=True)\n",
              "    (9): Dropout2d(p=0.25, inplace=False)\n",
              "    (10): Flatten(start_dim=1, end_dim=-1)\n",
              "  )\n",
              "  (1): Sequential(\n",
              "    (0): Linear(in_features=1024, out_features=200, bias=True)\n",
              "    (1): ReLU()\n",
              "    (2): BatchNorm1d(200, eps=1e-05, momentum=0.1, affine=True, track_running_stats=True)\n",
              "    (3): Dropout(p=0.25, inplace=False)\n",
              "    (4): Linear(in_features=200, out_features=10, bias=True)\n",
              "  )\n",
              ")"
            ]
          },
          "metadata": {},
          "execution_count": 10
        }
      ]
    },
    {
      "cell_type": "code",
      "source": [
        "device = 'cuda' if torch.cuda.is_available() else 'cpu' \n",
        "import torch.optim as optim"
      ],
      "metadata": {
        "id": "d0y9937AE3Id"
      },
      "execution_count": 11,
      "outputs": []
    },
    {
      "cell_type": "code",
      "source": [
        "# 훈련\n",
        "model.to(device)\n",
        "op = optim.SGD(model.parameters(), lr = 1e-2, momentum=0.5)"
      ],
      "metadata": {
        "id": "GqVOQBR7EJWv"
      },
      "execution_count": 12,
      "outputs": []
    },
    {
      "cell_type": "code",
      "source": [
        "# 학습함수\n",
        "from tqdm import tqdm\n",
        "for epoch in range(10):\n",
        "  model.train()\n",
        "  for idx , (data, label) in tqdm(enumerate(train_loader)):\n",
        "    data, label = data.to(device), label.to(device)\n",
        "    op.zero_grad()\n",
        "    output = model(data)\n",
        "    loss = F.cross_entropy(output, label)\n",
        "    loss.backward()\n",
        "    op.step()\n",
        "    if idx % 100 == 0:\n",
        "      print(f\"train epoch:{epoch} loss : {loss.item()}\")"
      ],
      "metadata": {
        "colab": {
          "base_uri": "https://localhost:8080/"
        },
        "id": "JWjEPzBgFD7C",
        "outputId": "8fca95ae-60cf-4deb-e084-7cf9549f1327"
      },
      "execution_count": 13,
      "outputs": [
        {
          "output_type": "stream",
          "name": "stderr",
          "text": [
            "5it [00:08,  1.24s/it]"
          ]
        },
        {
          "output_type": "stream",
          "name": "stdout",
          "text": [
            "train epoch:0 loss : 2.5147721767425537\n"
          ]
        },
        {
          "output_type": "stream",
          "name": "stderr",
          "text": [
            "105it [00:10, 40.44it/s]"
          ]
        },
        {
          "output_type": "stream",
          "name": "stdout",
          "text": [
            "train epoch:0 loss : 0.6033198833465576\n"
          ]
        },
        {
          "output_type": "stream",
          "name": "stderr",
          "text": [
            "210it [00:12, 53.40it/s]"
          ]
        },
        {
          "output_type": "stream",
          "name": "stdout",
          "text": [
            "train epoch:0 loss : 0.6707814931869507\n"
          ]
        },
        {
          "output_type": "stream",
          "name": "stderr",
          "text": [
            "312it [00:14, 55.40it/s]"
          ]
        },
        {
          "output_type": "stream",
          "name": "stdout",
          "text": [
            "train epoch:0 loss : 0.4266372621059418\n"
          ]
        },
        {
          "output_type": "stream",
          "name": "stderr",
          "text": [
            "408it [00:16, 53.05it/s]"
          ]
        },
        {
          "output_type": "stream",
          "name": "stdout",
          "text": [
            "train epoch:0 loss : 0.35630521178245544\n"
          ]
        },
        {
          "output_type": "stream",
          "name": "stderr",
          "text": [
            "469it [00:17, 26.94it/s]\n",
            "10it [00:00, 47.43it/s]"
          ]
        },
        {
          "output_type": "stream",
          "name": "stdout",
          "text": [
            "train epoch:1 loss : 0.4022343158721924\n"
          ]
        },
        {
          "output_type": "stream",
          "name": "stderr",
          "text": [
            "112it [00:02, 55.77it/s]"
          ]
        },
        {
          "output_type": "stream",
          "name": "stdout",
          "text": [
            "train epoch:1 loss : 0.44586148858070374\n"
          ]
        },
        {
          "output_type": "stream",
          "name": "stderr",
          "text": [
            "208it [00:03, 52.99it/s]"
          ]
        },
        {
          "output_type": "stream",
          "name": "stdout",
          "text": [
            "train epoch:1 loss : 0.41476327180862427\n"
          ]
        },
        {
          "output_type": "stream",
          "name": "stderr",
          "text": [
            "310it [00:07, 35.50it/s]"
          ]
        },
        {
          "output_type": "stream",
          "name": "stdout",
          "text": [
            "train epoch:1 loss : 0.36026057600975037\n"
          ]
        },
        {
          "output_type": "stream",
          "name": "stderr",
          "text": [
            "412it [00:09, 54.24it/s]"
          ]
        },
        {
          "output_type": "stream",
          "name": "stdout",
          "text": [
            "train epoch:1 loss : 0.3721264600753784\n"
          ]
        },
        {
          "output_type": "stream",
          "name": "stderr",
          "text": [
            "469it [00:10, 45.76it/s]\n",
            "6it [00:00, 53.25it/s]"
          ]
        },
        {
          "output_type": "stream",
          "name": "stdout",
          "text": [
            "train epoch:2 loss : 0.3987296521663666\n"
          ]
        },
        {
          "output_type": "stream",
          "name": "stderr",
          "text": [
            "108it [00:01, 53.97it/s]"
          ]
        },
        {
          "output_type": "stream",
          "name": "stdout",
          "text": [
            "train epoch:2 loss : 0.3690863847732544\n"
          ]
        },
        {
          "output_type": "stream",
          "name": "stderr",
          "text": [
            "210it [00:03, 54.34it/s]"
          ]
        },
        {
          "output_type": "stream",
          "name": "stdout",
          "text": [
            "train epoch:2 loss : 0.4034731090068817\n"
          ]
        },
        {
          "output_type": "stream",
          "name": "stderr",
          "text": [
            "312it [00:05, 54.70it/s]"
          ]
        },
        {
          "output_type": "stream",
          "name": "stdout",
          "text": [
            "train epoch:2 loss : 0.25996705889701843\n"
          ]
        },
        {
          "output_type": "stream",
          "name": "stderr",
          "text": [
            "405it [00:07, 37.93it/s]"
          ]
        },
        {
          "output_type": "stream",
          "name": "stdout",
          "text": [
            "train epoch:2 loss : 0.38942891359329224\n"
          ]
        },
        {
          "output_type": "stream",
          "name": "stderr",
          "text": [
            "469it [00:09, 50.45it/s]\n",
            "6it [00:00, 53.20it/s]"
          ]
        },
        {
          "output_type": "stream",
          "name": "stdout",
          "text": [
            "train epoch:3 loss : 0.3538874089717865\n"
          ]
        },
        {
          "output_type": "stream",
          "name": "stderr",
          "text": [
            "108it [00:01, 54.96it/s]"
          ]
        },
        {
          "output_type": "stream",
          "name": "stdout",
          "text": [
            "train epoch:3 loss : 0.32077741622924805\n"
          ]
        },
        {
          "output_type": "stream",
          "name": "stderr",
          "text": [
            "210it [00:03, 54.09it/s]"
          ]
        },
        {
          "output_type": "stream",
          "name": "stdout",
          "text": [
            "train epoch:3 loss : 0.2797998785972595\n"
          ]
        },
        {
          "output_type": "stream",
          "name": "stderr",
          "text": [
            "306it [00:05, 53.83it/s]"
          ]
        },
        {
          "output_type": "stream",
          "name": "stdout",
          "text": [
            "train epoch:3 loss : 0.23190000653266907\n"
          ]
        },
        {
          "output_type": "stream",
          "name": "stderr",
          "text": [
            "408it [00:07, 55.33it/s]"
          ]
        },
        {
          "output_type": "stream",
          "name": "stdout",
          "text": [
            "train epoch:3 loss : 0.2859492599964142\n"
          ]
        },
        {
          "output_type": "stream",
          "name": "stderr",
          "text": [
            "469it [00:08, 53.77it/s]\n",
            "11it [00:00, 50.37it/s]"
          ]
        },
        {
          "output_type": "stream",
          "name": "stdout",
          "text": [
            "train epoch:4 loss : 0.2940203845500946\n"
          ]
        },
        {
          "output_type": "stream",
          "name": "stderr",
          "text": [
            "107it [00:02, 38.32it/s]"
          ]
        },
        {
          "output_type": "stream",
          "name": "stdout",
          "text": [
            "train epoch:4 loss : 0.2511574923992157\n"
          ]
        },
        {
          "output_type": "stream",
          "name": "stderr",
          "text": [
            "211it [00:04, 54.24it/s]"
          ]
        },
        {
          "output_type": "stream",
          "name": "stdout",
          "text": [
            "train epoch:4 loss : 0.27643895149230957\n"
          ]
        },
        {
          "output_type": "stream",
          "name": "stderr",
          "text": [
            "307it [00:06, 53.29it/s]"
          ]
        },
        {
          "output_type": "stream",
          "name": "stdout",
          "text": [
            "train epoch:4 loss : 0.2801145315170288\n"
          ]
        },
        {
          "output_type": "stream",
          "name": "stderr",
          "text": [
            "409it [00:08, 54.36it/s]"
          ]
        },
        {
          "output_type": "stream",
          "name": "stdout",
          "text": [
            "train epoch:4 loss : 0.15842172503471375\n"
          ]
        },
        {
          "output_type": "stream",
          "name": "stderr",
          "text": [
            "469it [00:09, 48.60it/s]\n",
            "6it [00:00, 55.21it/s]"
          ]
        },
        {
          "output_type": "stream",
          "name": "stdout",
          "text": [
            "train epoch:5 loss : 0.3705008029937744\n"
          ]
        },
        {
          "output_type": "stream",
          "name": "stderr",
          "text": [
            "107it [00:02, 43.78it/s]"
          ]
        },
        {
          "output_type": "stream",
          "name": "stdout",
          "text": [
            "train epoch:5 loss : 0.29244011640548706\n"
          ]
        },
        {
          "output_type": "stream",
          "name": "stderr",
          "text": [
            "208it [00:04, 36.95it/s]"
          ]
        },
        {
          "output_type": "stream",
          "name": "stdout",
          "text": [
            "train epoch:5 loss : 0.3106807470321655\n"
          ]
        },
        {
          "output_type": "stream",
          "name": "stderr",
          "text": [
            "308it [00:06, 54.18it/s]"
          ]
        },
        {
          "output_type": "stream",
          "name": "stdout",
          "text": [
            "train epoch:5 loss : 0.29778939485549927\n"
          ]
        },
        {
          "output_type": "stream",
          "name": "stderr",
          "text": [
            "410it [00:08, 54.12it/s]"
          ]
        },
        {
          "output_type": "stream",
          "name": "stdout",
          "text": [
            "train epoch:5 loss : 0.37072664499282837\n"
          ]
        },
        {
          "output_type": "stream",
          "name": "stderr",
          "text": [
            "469it [00:09, 48.13it/s]\n",
            "6it [00:00, 49.14it/s]"
          ]
        },
        {
          "output_type": "stream",
          "name": "stdout",
          "text": [
            "train epoch:6 loss : 0.23543964326381683\n"
          ]
        },
        {
          "output_type": "stream",
          "name": "stderr",
          "text": [
            "108it [00:01, 54.94it/s]"
          ]
        },
        {
          "output_type": "stream",
          "name": "stdout",
          "text": [
            "train epoch:6 loss : 0.2714967727661133\n"
          ]
        },
        {
          "output_type": "stream",
          "name": "stderr",
          "text": [
            "210it [00:03, 54.19it/s]"
          ]
        },
        {
          "output_type": "stream",
          "name": "stdout",
          "text": [
            "train epoch:6 loss : 0.2580643594264984\n"
          ]
        },
        {
          "output_type": "stream",
          "name": "stderr",
          "text": [
            "312it [00:05, 54.77it/s]"
          ]
        },
        {
          "output_type": "stream",
          "name": "stdout",
          "text": [
            "train epoch:6 loss : 0.29556894302368164\n"
          ]
        },
        {
          "output_type": "stream",
          "name": "stderr",
          "text": [
            "412it [00:08, 48.19it/s]"
          ]
        },
        {
          "output_type": "stream",
          "name": "stdout",
          "text": [
            "train epoch:6 loss : 0.2755991816520691\n"
          ]
        },
        {
          "output_type": "stream",
          "name": "stderr",
          "text": [
            "469it [00:09, 50.22it/s]\n",
            "12it [00:00, 54.16it/s]"
          ]
        },
        {
          "output_type": "stream",
          "name": "stdout",
          "text": [
            "train epoch:7 loss : 0.20766910910606384\n"
          ]
        },
        {
          "output_type": "stream",
          "name": "stderr",
          "text": [
            "108it [00:01, 54.42it/s]"
          ]
        },
        {
          "output_type": "stream",
          "name": "stdout",
          "text": [
            "train epoch:7 loss : 0.3186478316783905\n"
          ]
        },
        {
          "output_type": "stream",
          "name": "stderr",
          "text": [
            "210it [00:03, 54.23it/s]"
          ]
        },
        {
          "output_type": "stream",
          "name": "stdout",
          "text": [
            "train epoch:7 loss : 0.2578803300857544\n"
          ]
        },
        {
          "output_type": "stream",
          "name": "stderr",
          "text": [
            "312it [00:05, 54.61it/s]"
          ]
        },
        {
          "output_type": "stream",
          "name": "stdout",
          "text": [
            "train epoch:7 loss : 0.19428956508636475\n"
          ]
        },
        {
          "output_type": "stream",
          "name": "stderr",
          "text": [
            "408it [00:07, 54.45it/s]"
          ]
        },
        {
          "output_type": "stream",
          "name": "stdout",
          "text": [
            "train epoch:7 loss : 0.23106105625629425\n"
          ]
        },
        {
          "output_type": "stream",
          "name": "stderr",
          "text": [
            "469it [00:08, 53.09it/s]\n",
            "8it [00:00, 37.72it/s]"
          ]
        },
        {
          "output_type": "stream",
          "name": "stdout",
          "text": [
            "train epoch:8 loss : 0.26713934540748596\n"
          ]
        },
        {
          "output_type": "stream",
          "name": "stderr",
          "text": [
            "108it [00:02, 52.08it/s]"
          ]
        },
        {
          "output_type": "stream",
          "name": "stdout",
          "text": [
            "train epoch:8 loss : 0.2802795469760895\n"
          ]
        },
        {
          "output_type": "stream",
          "name": "stderr",
          "text": [
            "210it [00:04, 52.34it/s]"
          ]
        },
        {
          "output_type": "stream",
          "name": "stdout",
          "text": [
            "train epoch:8 loss : 0.20289143919944763\n"
          ]
        },
        {
          "output_type": "stream",
          "name": "stderr",
          "text": [
            "312it [00:06, 54.66it/s]"
          ]
        },
        {
          "output_type": "stream",
          "name": "stdout",
          "text": [
            "train epoch:8 loss : 0.186509370803833\n"
          ]
        },
        {
          "output_type": "stream",
          "name": "stderr",
          "text": [
            "408it [00:08, 54.72it/s]"
          ]
        },
        {
          "output_type": "stream",
          "name": "stdout",
          "text": [
            "train epoch:8 loss : 0.2585541307926178\n"
          ]
        },
        {
          "output_type": "stream",
          "name": "stderr",
          "text": [
            "469it [00:09, 50.80it/s]\n",
            "12it [00:00, 54.86it/s]"
          ]
        },
        {
          "output_type": "stream",
          "name": "stdout",
          "text": [
            "train epoch:9 loss : 0.15313032269477844\n"
          ]
        },
        {
          "output_type": "stream",
          "name": "stderr",
          "text": [
            "108it [00:02, 54.54it/s]"
          ]
        },
        {
          "output_type": "stream",
          "name": "stdout",
          "text": [
            "train epoch:9 loss : 0.17647425830364227\n"
          ]
        },
        {
          "output_type": "stream",
          "name": "stderr",
          "text": [
            "208it [00:04, 38.35it/s]"
          ]
        },
        {
          "output_type": "stream",
          "name": "stdout",
          "text": [
            "train epoch:9 loss : 0.2848397195339203\n"
          ]
        },
        {
          "output_type": "stream",
          "name": "stderr",
          "text": [
            "308it [00:06, 55.39it/s]"
          ]
        },
        {
          "output_type": "stream",
          "name": "stdout",
          "text": [
            "train epoch:9 loss : 0.1639772355556488\n"
          ]
        },
        {
          "output_type": "stream",
          "name": "stderr",
          "text": [
            "410it [00:08, 54.78it/s]"
          ]
        },
        {
          "output_type": "stream",
          "name": "stdout",
          "text": [
            "train epoch:9 loss : 0.2013736069202423\n"
          ]
        },
        {
          "output_type": "stream",
          "name": "stderr",
          "text": [
            "469it [00:09, 49.98it/s]\n"
          ]
        }
      ]
    },
    {
      "cell_type": "code",
      "source": [
        "# 평가\n",
        "model.eval()\n",
        "test_loss = 0\n",
        "correct = 0\n",
        "with torch.no_grad():\n",
        "  for idx , (data, label) in tqdm(enumerate(test_loader)):\n",
        "    data, label = data.to(device), label.to(device)\n",
        "    \n",
        "    output = model(data)      \n",
        "    # 배치오차 합산\n",
        "    test_loss += F.cross_entropy(output, label,reduction='sum').item()\n",
        "    # 가장 높은 값을 가진 인덱스가 예측값\n",
        "    pred = output.max(1, keepdim=True)[1]\n",
        "    correct += pred.eq(label.view_as(pred)).sum().item()\n",
        "test_loss /= len(test_loader.dataset)\n",
        "test_accuracy = 100*correct / len(test_loader.dataset)\n",
        "print(test_loss, test_accuracy)"
      ],
      "metadata": {
        "colab": {
          "base_uri": "https://localhost:8080/"
        },
        "id": "alpNCyZyHfvJ",
        "outputId": "bde8c8bc-7e17-4ef3-93c3-44bc0b4c6be4"
      },
      "execution_count": 14,
      "outputs": [
        {
          "output_type": "stream",
          "name": "stderr",
          "text": [
            "79it [00:01, 58.13it/s]"
          ]
        },
        {
          "output_type": "stream",
          "name": "stdout",
          "text": [
            "0.270410431265831 90.15\n"
          ]
        },
        {
          "output_type": "stream",
          "name": "stderr",
          "text": [
            "\n"
          ]
        }
      ]
    },
    {
      "cell_type": "code",
      "source": [
        "# 전이학습\n",
        "# 층이 매우깊고. 파라메터가 방대한 모델..\n",
        "import gdown\n",
        "gdown.download('https://github.com/leekyuyoung20221226/python/blob/main/data/taco_and_burrito.tar.gz?raw=true',\n",
        "               './taco_and_burrito.tar')\n"
      ],
      "metadata": {
        "colab": {
          "base_uri": "https://localhost:8080/",
          "height": 106
        },
        "id": "uBfz_aRTH7vA",
        "outputId": "2c25742e-c40a-4a9d-960f-c7a2d6b0b446"
      },
      "execution_count": 17,
      "outputs": [
        {
          "output_type": "stream",
          "name": "stderr",
          "text": [
            "Downloading...\n",
            "From: https://github.com/leekyuyoung20221226/python/blob/main/data/taco_and_burrito.tar.gz?raw=true\n",
            "To: /content/taco_and_burrito.tar\n",
            "100%|██████████| 15.3M/15.3M [00:00<00:00, 132MB/s]\n"
          ]
        },
        {
          "output_type": "execute_result",
          "data": {
            "text/plain": [
              "'./taco_and_burrito.tar'"
            ],
            "application/vnd.google.colaboratory.intrinsic+json": {
              "type": "string"
            }
          },
          "metadata": {},
          "execution_count": 17
        }
      ]
    },
    {
      "cell_type": "code",
      "source": [
        "!tar -zxvf taco_and_burrito.tar"
      ],
      "metadata": {
        "id": "hkjdvyorMv1t"
      },
      "execution_count": null,
      "outputs": []
    },
    {
      "cell_type": "code",
      "source": [
        "from torchvision.datasets import ImageFolder\n",
        "from torchvision import transforms"
      ],
      "metadata": {
        "id": "_0tMZIN3NJ_c"
      },
      "execution_count": 20,
      "outputs": []
    },
    {
      "cell_type": "code",
      "source": [
        "# ImageFolder를 이용해서 DataSet을 작성\n",
        "train_imgs = ImageFolder('./taco_and_burrito/train/',transform=transforms.Compose([\n",
        "    transforms.RandomCrop(224),\n",
        "    transforms.ToTensor()\n",
        "]))\n",
        "test_imgs = ImageFolder('./taco_and_burrito/test/',transform=transforms.Compose([\n",
        "    transforms.RandomCrop(224),\n",
        "    transforms.ToTensor()\n",
        "]))\n",
        "train_loader = DataLoader(train_imgs, batch_size=32,shuffle=True)\n",
        "test_loader = DataLoader(test_imgs, batch_size=32,shuffle=False)"
      ],
      "metadata": {
        "id": "1B9XyUyNNwd0"
      },
      "execution_count": 22,
      "outputs": []
    },
    {
      "cell_type": "code",
      "source": [
        "train_imgs.classes"
      ],
      "metadata": {
        "colab": {
          "base_uri": "https://localhost:8080/"
        },
        "id": "1mBnrFcSOfYj",
        "outputId": "6d19592d-c075-4512-9197-560b793301be"
      },
      "execution_count": 23,
      "outputs": [
        {
          "output_type": "execute_result",
          "data": {
            "text/plain": [
              "['burrito', 'taco']"
            ]
          },
          "metadata": {},
          "execution_count": 23
        }
      ]
    },
    {
      "cell_type": "code",
      "source": [
        "train_imgs.class_to_idx"
      ],
      "metadata": {
        "colab": {
          "base_uri": "https://localhost:8080/"
        },
        "id": "MjPWvpl0OnkD",
        "outputId": "bcedcea8-0379-4dcd-b2f6-545dc6f0578e"
      },
      "execution_count": 24,
      "outputs": [
        {
          "output_type": "execute_result",
          "data": {
            "text/plain": [
              "{'burrito': 0, 'taco': 1}"
            ]
          },
          "metadata": {},
          "execution_count": 24
        }
      ]
    },
    {
      "cell_type": "code",
      "source": [
        "from torchvision import models"
      ],
      "metadata": {
        "id": "ziFAmhSkOsrz"
      },
      "execution_count": 25,
      "outputs": []
    },
    {
      "cell_type": "code",
      "source": [
        "# resnet18 모델을 가져온다.\n",
        "net = models.resnet18(pretrained=True)  # 학습된 가중치를 사용\n",
        "# 가중치가 업데이트되어서는 안됨.\n",
        "# 모든 파라메터는 미분 대상에서 제외\n",
        "for p in net.parameters():\n",
        "  p.requires_grad=False"
      ],
      "metadata": {
        "colab": {
          "base_uri": "https://localhost:8080/"
        },
        "id": "uCd_hW8lO4zs",
        "outputId": "b345c418-4747-4326-803c-3680c74969f5"
      },
      "execution_count": 26,
      "outputs": [
        {
          "output_type": "stream",
          "name": "stderr",
          "text": [
            "/usr/local/lib/python3.9/dist-packages/torchvision/models/_utils.py:208: UserWarning: The parameter 'pretrained' is deprecated since 0.13 and may be removed in the future, please use 'weights' instead.\n",
            "  warnings.warn(\n",
            "/usr/local/lib/python3.9/dist-packages/torchvision/models/_utils.py:223: UserWarning: Arguments other than a weight enum or `None` for 'weights' are deprecated since 0.13 and may be removed in the future. The current behavior is equivalent to passing `weights=ResNet18_Weights.IMAGENET1K_V1`. You can also use `weights=ResNet18_Weights.DEFAULT` to get the most up-to-date weights.\n",
            "  warnings.warn(msg)\n",
            "Downloading: \"https://download.pytorch.org/models/resnet18-f37072fd.pth\" to /root/.cache/torch/hub/checkpoints/resnet18-f37072fd.pth\n",
            "100%|██████████| 44.7M/44.7M [00:00<00:00, 174MB/s]\n"
          ]
        }
      ]
    },
    {
      "cell_type": "code",
      "source": [
        "fc_input_dim = net.fc.in_features\n",
        "net.fc = nn.Linear(fc_input_dim,2)"
      ],
      "metadata": {
        "id": "jTI1kuXnPf-U"
      },
      "execution_count": 31,
      "outputs": []
    },
    {
      "cell_type": "code",
      "source": [
        "import numpy as np\n",
        "np.infty"
      ],
      "metadata": {
        "colab": {
          "base_uri": "https://localhost:8080/"
        },
        "id": "-m37squsZ9kF",
        "outputId": "08de8cad-9a12-4d71-e23f-07d068753081"
      },
      "execution_count": 60,
      "outputs": [
        {
          "output_type": "execute_result",
          "data": {
            "text/plain": [
              "inf"
            ]
          },
          "metadata": {},
          "execution_count": 60
        }
      ]
    },
    {
      "cell_type": "code",
      "source": [
        "import tqdm\n",
        "def train_net(net, train_loader,  only_fc = True, op = optim.Adam,\n",
        "              loss_fn = nn.CrossEntropyLoss(), n_iter=10,device='cpu'):\n",
        "  train_losses = []\n",
        "  tain_acc = []\n",
        "  val_acc = []\n",
        "  best_model = net\n",
        "  best_acc = 1e-10\n",
        "  if only_fc: #마지막 선형계층의 파라메터만 전달\n",
        "    optimizer = op(net.fc.parameters())\n",
        "  else:\n",
        "    optimizer = op(net.parameters())\n",
        "  for epoch in range(n_iter):\n",
        "    running_loss = 0.0\n",
        "    # 훈련모드로 변경\n",
        "    net.train()\n",
        "    acc = 0\n",
        "    for idx, (data, label) in tqdm.tqdm(enumerate(train_loader)):\n",
        "      data = data.to(device)\n",
        "      label = label.to(device)\n",
        "\n",
        "      pred = net(data)\n",
        "      loss = loss_fn(pred,label)\n",
        "      optimizer.zero_grad()\n",
        "      loss.backward()\n",
        "      optimizer.step()\n",
        "      running_loss += loss.item()  \n",
        "      _, y_pred =  pred.max(1)\n",
        "      acc += (label == y_pred).float().sum().item()\n",
        "\n",
        "    acc_ = acc / len(train_loader.dataset)\n",
        "    print(f\"train accuracy : {acc_}\")\n",
        "\n",
        "    train_losses.append(running_loss/idx)\n",
        "    if best_acc < acc_:\n",
        "      best_acc = acc_\n",
        "      best_model = net\n",
        "      print(\"chnaged models\")\n",
        "    # print(f\"epoch:{epoch} train_loss:{train_losses[-1]}\")\n",
        "  return best_model"
      ],
      "metadata": {
        "id": "DdGJC6UjQLEs"
      },
      "execution_count": 77,
      "outputs": []
    },
    {
      "cell_type": "code",
      "source": [
        "def eval_net(net, data_loader, device='cpu'):\n",
        "  net.eval()\n",
        "  acc = 0 \n",
        "  for idx,(data,label) in enumerate(data_loader):\n",
        "    data = data.to(device)\n",
        "    label = label.to(device)\n",
        "    with torch.no_grad():\n",
        "      _, pred = net(data).max(1)\n",
        "    acc += (pred == label).float().sum().item()  \n",
        "  print(f\"test accuracy : {acc / len(test_loader.dataset)}\")"
      ],
      "metadata": {
        "id": "SVIzbFNNTZMP"
      },
      "execution_count": 67,
      "outputs": []
    },
    {
      "cell_type": "code",
      "source": [
        "# 훈련\n",
        "net.to(device)\n",
        "best_net = train_net(net,train_loader,test_loader,n_iter=10, device=device)"
      ],
      "metadata": {
        "colab": {
          "base_uri": "https://localhost:8080/"
        },
        "id": "CSu1oLeiTZr2",
        "outputId": "df61d2da-75c9-4fd6-e522-e75ec080c4dc"
      },
      "execution_count": 78,
      "outputs": [
        {
          "output_type": "stream",
          "name": "stderr",
          "text": [
            "23it [00:02,  9.04it/s]\n"
          ]
        },
        {
          "output_type": "stream",
          "name": "stdout",
          "text": [
            "train accuracy : 0.9199438202247191\n",
            "chnaged models\n"
          ]
        },
        {
          "output_type": "stream",
          "name": "stderr",
          "text": [
            "23it [00:02,  9.02it/s]\n"
          ]
        },
        {
          "output_type": "stream",
          "name": "stdout",
          "text": [
            "train accuracy : 0.9283707865168539\n",
            "chnaged models\n"
          ]
        },
        {
          "output_type": "stream",
          "name": "stderr",
          "text": [
            "23it [00:03,  7.44it/s]\n"
          ]
        },
        {
          "output_type": "stream",
          "name": "stdout",
          "text": [
            "train accuracy : 0.9115168539325843\n"
          ]
        },
        {
          "output_type": "stream",
          "name": "stderr",
          "text": [
            "23it [00:02,  9.05it/s]\n"
          ]
        },
        {
          "output_type": "stream",
          "name": "stdout",
          "text": [
            "train accuracy : 0.9143258426966292\n"
          ]
        },
        {
          "output_type": "stream",
          "name": "stderr",
          "text": [
            "23it [00:02,  8.99it/s]\n"
          ]
        },
        {
          "output_type": "stream",
          "name": "stdout",
          "text": [
            "train accuracy : 0.9115168539325843\n"
          ]
        },
        {
          "output_type": "stream",
          "name": "stderr",
          "text": [
            "23it [00:02,  8.96it/s]\n"
          ]
        },
        {
          "output_type": "stream",
          "name": "stdout",
          "text": [
            "train accuracy : 0.901685393258427\n"
          ]
        },
        {
          "output_type": "stream",
          "name": "stderr",
          "text": [
            "23it [00:02,  8.79it/s]\n"
          ]
        },
        {
          "output_type": "stream",
          "name": "stdout",
          "text": [
            "train accuracy : 0.9058988764044944\n"
          ]
        },
        {
          "output_type": "stream",
          "name": "stderr",
          "text": [
            "23it [00:02,  7.73it/s]\n"
          ]
        },
        {
          "output_type": "stream",
          "name": "stdout",
          "text": [
            "train accuracy : 0.9058988764044944\n"
          ]
        },
        {
          "output_type": "stream",
          "name": "stderr",
          "text": [
            "23it [00:02,  9.13it/s]\n"
          ]
        },
        {
          "output_type": "stream",
          "name": "stdout",
          "text": [
            "train accuracy : 0.8848314606741573\n"
          ]
        },
        {
          "output_type": "stream",
          "name": "stderr",
          "text": [
            "23it [00:02,  9.26it/s]"
          ]
        },
        {
          "output_type": "stream",
          "name": "stdout",
          "text": [
            "train accuracy : 0.9129213483146067\n"
          ]
        },
        {
          "output_type": "stream",
          "name": "stderr",
          "text": [
            "\n"
          ]
        }
      ]
    },
    {
      "cell_type": "code",
      "source": [
        "eval_net(net,test_loader,device=device), eval_net(best_net,test_loader,device=device)"
      ],
      "metadata": {
        "colab": {
          "base_uri": "https://localhost:8080/"
        },
        "id": "ntZ3cX2WVSKG",
        "outputId": "3ae3b94e-9693-4e18-802a-1d391fc6c662"
      },
      "execution_count": 79,
      "outputs": [
        {
          "output_type": "stream",
          "name": "stdout",
          "text": [
            "test accuracy : 0.85\n",
            "test accuracy : 0.8166666666666667\n"
          ]
        },
        {
          "output_type": "execute_result",
          "data": {
            "text/plain": [
              "(None, None)"
            ]
          },
          "metadata": {},
          "execution_count": 79
        }
      ]
    },
    {
      "cell_type": "code",
      "source": [],
      "metadata": {
        "id": "N9AU-bO-VuG-"
      },
      "execution_count": null,
      "outputs": []
    }
  ]
}