{
  "nbformat": 4,
  "nbformat_minor": 0,
  "metadata": {
    "colab": {
      "provenance": [],
      "gpuType": "T4"
    },
    "kernelspec": {
      "name": "python3",
      "display_name": "Python 3"
    },
    "language_info": {
      "name": "python"
    },
    "accelerator": "GPU",
    "gpuClass": "standard"
  },
  "cells": [
    {
      "cell_type": "code",
      "execution_count": 1,
      "metadata": {
        "id": "Rz2IMDw_d-nV"
      },
      "outputs": [],
      "source": [
        "# GAN : 적대적 생성 신경망 + CNN   DCGAN\n",
        "# 생성모델(G)  식별모델 D\n",
        "# G : k차원의 잠재적 특이 벡터를 입력값으로 받아서 대상과 동일형식의 데이터를 생셩하는 신경망\n",
        "# D : 대상데이터를 입력값으로 받아 진위를식별하는 신경망"
      ]
    },
    {
      "cell_type": "code",
      "source": [
        "# GAN\n",
        "# 1. 잠재적 특이 벡터 z를 난수로  생성하고 G(z)를 사용해 가짜 데이터(fake data)를 생성  fake_data <-- G(z)\n",
        "# 2. fake_data를 D로식별한다  fake_data<-- D(real_data)\n",
        "# 3. 진짜 데이터의 샘플(real_data)을 D로  식별한다  real_out<--- D(real_data)\n",
        "# 4. fake_out 이 진짜 데이터라고 간주하고 크로스 엔트로피함수를 계산해서 G의 파라메터를  갱신\n",
        "# 5. real_out이 진짜 데이터이고 fake_out이 가짜 데이터라고 간주하고 크로스 엔트로피 함수를 계산해서 D의 파라메터를 갱신"
      ],
      "metadata": {
        "id": "O9_Mi5Jdek4m"
      },
      "execution_count": 2,
      "outputs": []
    },
    {
      "cell_type": "code",
      "source": [
        "!wget http://www.robots.ox.ac.uk/~vgg/data/flowers/102/102flowers.tgz\n",
        "!tar -zxvf 102flowers.tgz"
      ],
      "metadata": {
        "id": "RTUUbVWCfZ_Y"
      },
      "execution_count": null,
      "outputs": []
    },
    {
      "cell_type": "code",
      "source": [
        "!mkdir oxford-102\n",
        "!mkdir oxford-102/jpg\n",
        "!mv jpg/*.jpg oxford-102/jpg"
      ],
      "metadata": {
        "id": "KhKK7aAHf-Qh"
      },
      "execution_count": 2,
      "outputs": []
    },
    {
      "cell_type": "code",
      "source": [
        "!rmdir jpg"
      ],
      "metadata": {
        "id": "9rpzF66QgL45"
      },
      "execution_count": 3,
      "outputs": []
    },
    {
      "cell_type": "code",
      "source": [
        "import matplotlib.pyplot as plt"
      ],
      "metadata": {
        "id": "cV-_6x4ogVQL"
      },
      "execution_count": null,
      "outputs": []
    }
  ]
}