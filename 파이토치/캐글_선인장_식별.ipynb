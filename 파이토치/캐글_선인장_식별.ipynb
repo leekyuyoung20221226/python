{
  "nbformat": 4,
  "nbformat_minor": 0,
  "metadata": {
    "colab": {
      "provenance": [],
      "gpuType": "T4"
    },
    "kernelspec": {
      "name": "python3",
      "display_name": "Python 3"
    },
    "language_info": {
      "name": "python"
    },
    "accelerator": "GPU",
    "gpuClass": "standard"
  },
  "cells": [
    {
      "cell_type": "code",
      "execution_count": 1,
      "metadata": {
        "id": "Ath8RG8rAt6t"
      },
      "outputs": [],
      "source": [
        "#  https://www.kaggle.com/code/werooring/ch11-eda"
      ]
    },
    {
      "cell_type": "code",
      "source": [
        "# !unzip '/content/drive/MyDrive/Colab Notebooks/aerial-cactus-identification.zip' -d '/content/drive/MyDrive/Colab Notebooks/data/'"
      ],
      "metadata": {
        "id": "v8OJxjzTHDnK"
      },
      "execution_count": null,
      "outputs": []
    },
    {
      "cell_type": "code",
      "source": [
        "!unzip '/content/drive/MyDrive/Colab Notebooks/aerial-cactus-identification/test.zip'"
      ],
      "metadata": {
        "id": "jO5nQjzmHJPA"
      },
      "execution_count": null,
      "outputs": []
    },
    {
      "cell_type": "code",
      "source": [
        "!unzip '/content/drive/MyDrive/Colab Notebooks/aerial-cactus-identification/train.zip'"
      ],
      "metadata": {
        "id": "2y0klRTVHsfg"
      },
      "execution_count": null,
      "outputs": []
    },
    {
      "cell_type": "code",
      "source": [
        "import pandas as pd\n",
        "\n",
        "# 데이터 경로\n",
        "data_path = '/content/drive/MyDrive/Colab Notebooks/aerial-cactus-identification/'\n",
        "labels = pd.read_csv(data_path + 'train.csv')\n",
        "submission = pd.read_csv(data_path + 'sample_submission.csv')"
      ],
      "metadata": {
        "id": "4nu8gPOTKsr4"
      },
      "execution_count": 8,
      "outputs": []
    },
    {
      "cell_type": "code",
      "source": [
        "import torch # 파이토치 \n",
        "import random\n",
        "import numpy as np\n",
        "import os\n",
        "\n",
        "# 시드값 고정\n",
        "seed = 50\n",
        "os.environ['PYTHONHASHSEED'] = str(seed)\n",
        "random.seed(seed)                # 파이썬 난수 생성기 시드 고정\n",
        "np.random.seed(seed)             # 넘파이 난수 생성기 시드 고정\n",
        "torch.manual_seed(seed)          # 파이토치 난수 생성기 시드 고정 (CPU 사용 시)\n",
        "torch.cuda.manual_seed(seed)     # 파이토치 난수 생성기 시드 고정 (GPU 사용 시)\n",
        "torch.cuda.manual_seed_all(seed) # 파이토치 난수 생성기 시드 고정 (멀티GPU 사용 시)\n",
        "torch.backends.cudnn.deterministic = True # 확정적 연산 사용\n",
        "torch.backends.cudnn.benchmark = False    # 벤치마크 기능 해제\n",
        "torch.backends.cudnn.enabled = False      # cudnn 사용 해제"
      ],
      "metadata": {
        "id": "WVayzi_dH4Tv"
      },
      "execution_count": 3,
      "outputs": []
    },
    {
      "cell_type": "code",
      "source": [
        "if torch.cuda.is_available():\n",
        "    device = torch.device('cuda')\n",
        "else:\n",
        "    device = torch.device('cpu')"
      ],
      "metadata": {
        "id": "h52xL8LJJwVe"
      },
      "execution_count": 4,
      "outputs": []
    },
    {
      "cell_type": "code",
      "source": [
        "device"
      ],
      "metadata": {
        "colab": {
          "base_uri": "https://localhost:8080/"
        },
        "id": "Wv6aBdW-Jzl1",
        "outputId": "b4f6d4eb-6d56-48ff-dddc-53a637a032b1"
      },
      "execution_count": 5,
      "outputs": [
        {
          "output_type": "execute_result",
          "data": {
            "text/plain": [
              "device(type='cuda')"
            ]
          },
          "metadata": {},
          "execution_count": 5
        }
      ]
    },
    {
      "cell_type": "code",
      "source": [
        "# 1 훈련/검증 데이터 분리\n",
        "# 2. 데이터셋 클래스 정의\n",
        "# 3. 이미지 변환기 정의  --> 개선사항\n",
        "# 4. 데이터셋 생성\n",
        "# 5. 데이터 로드 생성"
      ],
      "metadata": {
        "id": "fELzKigyJ1eV"
      },
      "execution_count": 6,
      "outputs": []
    },
    {
      "cell_type": "code",
      "source": [
        "from sklearn.model_selection import train_test_split\n",
        "\n",
        "# 훈련 데이터, 검증 데이터 분리\n",
        "train, valid = train_test_split(labels, \n",
        "                                test_size=0.1,\n",
        "                                stratify=labels['has_cactus'],\n",
        "                                random_state=50)"
      ],
      "metadata": {
        "id": "RLnFiLLPKikX"
      },
      "execution_count": 9,
      "outputs": []
    },
    {
      "cell_type": "code",
      "source": [
        "print('훈련 데이터 개수:', len(train))\n",
        "print('검증 데이터 개수:', len(valid))"
      ],
      "metadata": {
        "colab": {
          "base_uri": "https://localhost:8080/"
        },
        "id": "oGjaOhlxK_eV",
        "outputId": "ac8dbde6-ea45-48e0-8a3e-7c806c8b871b"
      },
      "execution_count": 10,
      "outputs": [
        {
          "output_type": "stream",
          "name": "stdout",
          "text": [
            "훈련 데이터 개수: 15750\n",
            "검증 데이터 개수: 1750\n"
          ]
        }
      ]
    },
    {
      "cell_type": "code",
      "source": [
        "import cv2 # OpenCV 라이브러리\n",
        "from torch.utils.data import Dataset # 데이터 생성을 위한 클래스\n",
        "\n",
        "class ImageDataset(Dataset):\n",
        "    # 초기화 메서드(생성자)\n",
        "    def __init__(self, df, img_dir='./', transform=None):\n",
        "        super().__init__() # 상속받은 Dataset의 생성자 호출\n",
        "        # 전달받은 인수들 저장\n",
        "        self.df = df\n",
        "        self.img_dir = img_dir\n",
        "        self.transform = transform\n",
        "    \n",
        "    # 데이터셋 크기 반환 메서드 \n",
        "    def __len__(self):\n",
        "        return len(self.df)\n",
        "    \n",
        "    # 인덱스(idx)에 해당하는 데이터 반환 메서드 \n",
        "    def __getitem__(self, idx):\n",
        "        img_id = self.df.iloc[idx, 0]    # 이미지 ID\n",
        "        img_path = self.img_dir + img_id # 이미지 파일 경로 \n",
        "        image = cv2.imread(img_path)     # 이미지 파일 읽기 \n",
        "        image = cv2.cvtColor(image, cv2.COLOR_BGR2RGB) # 이미지 색상 보정\n",
        "        label = self.df.iloc[idx, 1]     # 이미지 레이블(타깃값)\n",
        "\n",
        "        if self.transform is not None:\n",
        "            image = self.transform(image) # 변환기가 있다면 이미지 변환\n",
        "        return image, label"
      ],
      "metadata": {
        "id": "rH3ev8a_LCcd"
      },
      "execution_count": 11,
      "outputs": []
    },
    {
      "cell_type": "code",
      "source": [
        "# 3. 이미지 변환기 정의  --> 개선사항\n",
        "from torchvision import transforms # 이미지 변환을 위한 모듈\n",
        "# 훈련용 데이터 변환기\n",
        "trainform_train = transforms.Compose([\n",
        "    transforms.ToTensor(),\n",
        "    transforms.Pad(32,padding_mode='symmetric'),  #32 x 32 이미지 주변에 32두께의 패딩을 두른다, 원본데이터를  상하 좌우 대칭\n",
        "    transforms.RandomHorizontalFlip(),\n",
        "    transforms.RandomVerticalFlip(),\n",
        "    transforms.RandomHorizontalFlip(),\n",
        "    transforms.RandomRotation(10),\n",
        "    transforms.Normalize((0.485,0.456,0.406),(0.229,0.224,0.225))  # 이미지넷의 데이터의 RGB 평균과 표준편차\n",
        "])\n",
        "\n",
        "# 검증 및 테스트 데이터용 변환기\n",
        "trainform_test = transforms.Compose([\n",
        "    transforms.ToTensor(),\n",
        "    transforms.Pad(32,padding_mode='symmetric'),  #32 x 32 이미지 주변에 32두께의 패딩을 두른다, 원본데이터를  상하 좌우 대칭    \n",
        "    transforms.Normalize((0.485,0.456,0.406),(0.229,0.224,0.225))  # 이미지넷의 데이터의 RGB 평균과 표준편차\n",
        "])"
      ],
      "metadata": {
        "id": "-4-HoA28LHhU"
      },
      "execution_count": 14,
      "outputs": []
    },
    {
      "cell_type": "code",
      "source": [
        "dataset_train = ImageDataset(df=train, img_dir='train/', transform=trainform_train)\n",
        "dataset_valid = ImageDataset(df=valid, img_dir='train/', transform=trainform_test)"
      ],
      "metadata": {
        "id": "GmdbI39MM9Ye"
      },
      "execution_count": 15,
      "outputs": []
    },
    {
      "cell_type": "code",
      "source": [
        "from torch.utils.data import DataLoader # 데이터 로더 클래스\n",
        "\n",
        "loader_train = DataLoader(dataset=dataset_train, batch_size=32, shuffle=True)\n",
        "loader_valid = DataLoader(dataset=dataset_valid, batch_size=32, shuffle=False)"
      ],
      "metadata": {
        "id": "foKem1K_NyDs"
      },
      "execution_count": 16,
      "outputs": []
    },
    {
      "cell_type": "code",
      "source": [
        "data,label = next(iter(loader_train))\n",
        "data.shape, label.shape"
      ],
      "metadata": {
        "colab": {
          "base_uri": "https://localhost:8080/"
        },
        "id": "-itkITcMP7z8",
        "outputId": "c1798b69-2137-461b-f3e5-fa7884d56509"
      },
      "execution_count": 18,
      "outputs": [
        {
          "output_type": "execute_result",
          "data": {
            "text/plain": [
              "(torch.Size([32, 3, 96, 96]), torch.Size([32]))"
            ]
          },
          "metadata": {},
          "execution_count": 18
        }
      ]
    },
    {
      "cell_type": "code",
      "source": [
        "# 성능 개선용 CNN\n",
        "# [합성곱,배치정규화,최대폴링] x 5 , 평균폴링 ,평탄화, FC, FC, output"
      ],
      "metadata": {
        "id": "KJ2EelLyN7Qa"
      },
      "execution_count": 17,
      "outputs": []
    },
    {
      "cell_type": "code",
      "source": [
        "import torch.nn as nn # 신경망 모듈\n",
        "import torch.nn.functional as F # 신경망 모듈에서 자주 사용되는 함수\n",
        "class Model(nn.Module):\n",
        "  # 신경망 계층 정의 \n",
        "  def __init__(self):\n",
        "    super().__init__() # 상속받은 nn.Module의 __init__() 메서드 호출\n",
        "    # 32, 3, 96, 96\n",
        "    self.layer1 = nn.Sequential(\n",
        "        nn.Conv2d(in_channels=3, out_channels=32,kernel_size=3, padding=2),\n",
        "        nn.BatchNorm2d(32),\n",
        "        nn.MaxPool2d(kernel_size=2)\n",
        "    )\n",
        "    # 32,32,49,49\n",
        "    self.layer2 = nn.Sequential(\n",
        "        nn.Conv2d(in_channels=32, out_channels=64,kernel_size=3, padding=2),\n",
        "        nn.BatchNorm2d(64),\n",
        "        nn.MaxPool2d(kernel_size=2)\n",
        "    )\n",
        "    # 32,64,25,25\n",
        "    self.layer3 = nn.Sequential(\n",
        "        nn.Conv2d(in_channels=64, out_channels=128,kernel_size=3, padding=2),\n",
        "        nn.BatchNorm2d(128),\n",
        "        nn.MaxPool2d(kernel_size=2)\n",
        "    )\n",
        "    # 32,128,13,13\n",
        "    self.layer4 = nn.Sequential(\n",
        "        nn.Conv2d(in_channels=128, out_channels=256,kernel_size=3, padding=2),\n",
        "        nn.BatchNorm2d(256),\n",
        "        nn.MaxPool2d(kernel_size=2)\n",
        "    )\n",
        "    # 32,256,7,7\n",
        "    self.layer5 = nn.Sequential(\n",
        "        nn.Conv2d(in_channels=256, out_channels=512,kernel_size=3, padding=2),\n",
        "        nn.BatchNorm2d(512),\n",
        "        nn.MaxPool2d(kernel_size=2)\n",
        "    )\n",
        "    # 32,512,4,4\n",
        "    # 평균 풀링 계층 \n",
        "    self.avg_pool = nn.AvgPool2d(kernel_size=2) \n",
        "    # 32,512,2,2\n",
        "\n",
        "    # 평탄화 \n",
        "    self.fc1 = nn.Linear(in_features=512*2*2, out_features= 64)\n",
        "    self.fc2 = nn.Linear(in_features=64, out_features= 2)\n",
        "  # 순전파 출력 정의\n",
        "  def forward(self, x):\n",
        "      x = self.layer1(x)\n",
        "      x = self.layer2(x)\n",
        "      x = self.layer3(x)\n",
        "      x = self.layer4(x)\n",
        "      x = self.layer5(x)\n",
        "      x = self.avg_pool(x)\n",
        "      x = x.view(-1, 512 * 2 * 2) # 평탄화\n",
        "      x = self.fc1(x)\n",
        "      x = self.fc2(x)\n",
        "      return x    "
      ],
      "metadata": {
        "id": "QmGoVFpvOZYb"
      },
      "execution_count": 28,
      "outputs": []
    },
    {
      "cell_type": "code",
      "source": [
        "model = Model().to(device)\n",
        "# 손실함수\n",
        "criterion = nn.CrossEntropyLoss()\n",
        "# 옵티마이저\n",
        "optimizer = torch.optim.Adamax(model.parameters(), lr=0.00006)"
      ],
      "metadata": {
        "id": "CtslVeG4QLT5"
      },
      "execution_count": 29,
      "outputs": []
    },
    {
      "cell_type": "code",
      "source": [
        "epochs = 70 # 총 에폭\n",
        "# 총 에폭만큼 반복\n",
        "for epoch in range(epochs):\n",
        "    epoch_loss = 0 # 에폭별 손실값 초기화\n",
        "    \n",
        "    # '반복 횟수'만큼 반복 \n",
        "    for images, labels in loader_train:\n",
        "        # 이미지, 레이블 데이터 미니배치를 장비에 할당 \n",
        "        images = images.to(device)\n",
        "        labels = labels.to(device)\n",
        "        \n",
        "        # 옵티마이저 내 기울기 초기화\n",
        "        optimizer.zero_grad()\n",
        "        # 순전파 : 이미지 데이터를 신경망 모델의 입력값으로 사용해 출력값 계산\n",
        "        outputs = model(images)\n",
        "        # 손실 함수를 활용해 outputs와 labels의 손실값 계산\n",
        "        loss = criterion(outputs, labels)\n",
        "        # 현재 배치에서의 손실 추가\n",
        "        epoch_loss += loss.item() \n",
        "        # 역전파 수행\n",
        "        loss.backward()\n",
        "        # 가중치 갱신\n",
        "        optimizer.step()\n",
        "        \n",
        "    # 훈련 데이터 손실값 출력\n",
        "    print(f'에폭 [{epoch+1}/{epochs}] - 손실값: {epoch_loss/len(loader_train):.4f}')"
      ],
      "metadata": {
        "id": "-O6qSd8rQjC0"
      },
      "execution_count": null,
      "outputs": []
    },
    {
      "cell_type": "code",
      "source": [],
      "metadata": {
        "id": "LY1Xpi6ZQv9Z"
      },
      "execution_count": null,
      "outputs": []
    }
  ]
}