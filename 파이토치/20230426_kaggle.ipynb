{
  "nbformat": 4,
  "nbformat_minor": 0,
  "metadata": {
    "colab": {
      "provenance": [],
      "gpuType": "T4"
    },
    "kernelspec": {
      "name": "python3",
      "display_name": "Python 3"
    },
    "language_info": {
      "name": "python"
    },
    "accelerator": "GPU",
    "gpuClass": "standard"
  },
  "cells": [
    {
      "cell_type": "code",
      "execution_count": null,
      "metadata": {
        "id": "uepMxLiaY_yW"
      },
      "outputs": [],
      "source": [
        "# https://www.kaggle.com/datasets/paultimothymooney/chest-xray-pneumonia\n",
        "!unzip '/content/drive/MyDrive/Colab Notebooks/kaggle/data/x-ray.zip'"
      ]
    },
    {
      "cell_type": "code",
      "source": [
        "data_path = '/content/chest_xray/'\n",
        "train_path = data_path + 'train/'\n",
        "test_path = data_path + 'test/'\n",
        "valid_path = data_path + 'val/'"
      ],
      "metadata": {
        "id": "t-k-11PDdEo7"
      },
      "execution_count": 3,
      "outputs": []
    },
    {
      "cell_type": "code",
      "source": [
        "from glob import glob\n",
        "print(len(glob(train_path + \"NORMAL/*.*\"))  + len(glob(train_path + \"PNEUMONIA/*.*\")))\n",
        "print(len(glob(valid_path + \"NORMAL/*.*\"))  + len(glob(valid_path + \"PNEUMONIA/*.*\")))\n",
        "print(len(glob(test_path + \"NORMAL/*.*\"))  + len(glob(test_path + \"PNEUMONIA/*.*\")))"
      ],
      "metadata": {
        "colab": {
          "base_uri": "https://localhost:8080/"
        },
        "id": "pQnsNTU5dt-Y",
        "outputId": "b3139429-7cc1-452c-e415-6348fb9d4d44"
      },
      "execution_count": null,
      "outputs": [
        {
          "output_type": "stream",
          "name": "stdout",
          "text": [
            "5216\n",
            "16\n",
            "624\n"
          ]
        }
      ]
    },
    {
      "cell_type": "code",
      "source": [
        "# 검증 데이터가 너무 작다 \n",
        "# 타깃을 기준으로 데이터의 편향을 조사\n",
        "normal_imgs = []\n",
        "pneumonia_img = []\n",
        "\n",
        "# NORMAL\n",
        "len(glob(glob(train_path + \"*\")[0] + '/*.*')) + len(glob(glob(valid_path + \"*\")[0] + '/*.*')) + len(glob(glob(test_path + \"*\")[0] + '/*.*'))"
      ],
      "metadata": {
        "colab": {
          "base_uri": "https://localhost:8080/"
        },
        "id": "U4VUEk9kd8p3",
        "outputId": "f9cf3bda-768e-433f-df5b-b348546f8325"
      },
      "execution_count": null,
      "outputs": [
        {
          "output_type": "execute_result",
          "data": {
            "text/plain": [
              "1583"
            ]
          },
          "metadata": {},
          "execution_count": 4
        }
      ]
    },
    {
      "cell_type": "code",
      "source": [
        "# PNEUMONIA\n",
        "len(glob(glob(train_path + \"*\")[1] + '/*.*')) + len(glob(glob(valid_path + \"*\")[1] + '/*.*')) + len(glob(glob(test_path + \"*\")[1] + '/*.*'))"
      ],
      "metadata": {
        "colab": {
          "base_uri": "https://localhost:8080/"
        },
        "id": "0YdTPp4vf-y0",
        "outputId": "829c0933-4f12-4759-ca2f-40c863df6eaa"
      },
      "execution_count": null,
      "outputs": [
        {
          "output_type": "execute_result",
          "data": {
            "text/plain": [
              "4273"
            ]
          },
          "metadata": {},
          "execution_count": 5
        }
      ]
    },
    {
      "cell_type": "code",
      "source": [
        "# 검증 훈련 데이터를 제공하므로 분리필요 없음\n",
        "# 검증데이터가 너무 작아서 검증데이터 성능 점수를 지나치게 신뢰할 수 없다\n",
        "# 이미지크기가 같지 않다. - 크기 조정\n",
        "# 모델 : efficientnet-b0\n",
        "# 옵티 : Adam\n",
        "\n",
        "# 성능개선 : efficientnet-b1, efficientnet-b2, efficientnet-b3 --> 앙상블\n",
        "# 옵티 : AdamW"
      ],
      "metadata": {
        "id": "cRulPxkrgEsc"
      },
      "execution_count": null,
      "outputs": []
    },
    {
      "cell_type": "code",
      "source": [
        "# 시드값 고정 ->데이터준비[이미지변환기, 데이터셋,  데이터로더]\n",
        "#  -> 모델생성 -> 훈련및 검증(손실함수,옵티마이저,훈련함수,훈련및검증) -> 예측(예측함수작성)"
      ],
      "metadata": {
        "id": "3NHrZVlWg4ob"
      },
      "execution_count": null,
      "outputs": []
    },
    {
      "cell_type": "code",
      "source": [
        "import torch\n",
        "import random\n",
        "import numpy as np\n",
        "import os\n",
        "\n",
        "seed = 0\n",
        "random.seed(seed)\n",
        "np.random.seed(seed)\n",
        "torch.manual_seed(seed)\n",
        "torch.cuda.manual_seed(seed)\n",
        "torch.cuda.manual_seed_all(seed)\n",
        "torch.backends.cudnn.deterministic=True\n",
        "torch.backends.cudnn.benchmark=False\n",
        "torch.backends.cudnn.enabled=False"
      ],
      "metadata": {
        "id": "HGPH2q5WhM0T"
      },
      "execution_count": 4,
      "outputs": []
    },
    {
      "cell_type": "code",
      "source": [
        "device = 'cuda' if torch.cuda.is_available() else 'cpu'"
      ],
      "metadata": {
        "id": "eVY61eJehgC0"
      },
      "execution_count": 5,
      "outputs": []
    },
    {
      "cell_type": "code",
      "source": [
        "# 이미지 변환기\n",
        "from torchvision import transforms\n",
        "transform_train = transforms.Compose([\n",
        "    transforms.Resize((250,250)),\n",
        "    transforms.CenterCrop(180),\n",
        "    transforms.RandomHorizontalFlip(0.5),\n",
        "    transforms.RandomVerticalFlip(0.2),\n",
        "    transforms.RandomRotation(20),\n",
        "    transforms.ToTensor(),\n",
        "    transforms.Normalize( (0.485,0.456,0.406),(0.229,0.224,0.225))\n",
        "])"
      ],
      "metadata": {
        "id": "hZnMEN4RiHqL"
      },
      "execution_count": 6,
      "outputs": []
    },
    {
      "cell_type": "code",
      "source": [
        "from torchvision.datasets import ImageFolder\n",
        "dataset_train = ImageFolder(root = train_path, transform=transform_train)\n",
        "dataset_valid = ImageFolder(root = valid_path, transform=transform_train)"
      ],
      "metadata": {
        "id": "EDtddQeMjLdq"
      },
      "execution_count": 7,
      "outputs": []
    },
    {
      "cell_type": "code",
      "source": [
        "from torch.utils.data import DataLoader\n",
        "batch_size  = 8\n",
        "loader_train = DataLoader(dataset_train,batch_size = batch_size,shuffle = True)\n",
        "loader_valid = DataLoader(dataset_valid,batch_size = batch_size,shuffle = False)"
      ],
      "metadata": {
        "id": "9rQFS1VZkY4d"
      },
      "execution_count": 8,
      "outputs": []
    },
    {
      "cell_type": "code",
      "source": [
        "# EfficientNet 모델 생성\n",
        "!pip install efficientnet-pytorch==0.7.1"
      ],
      "metadata": {
        "id": "bq_wz7mUlDci",
        "colab": {
          "base_uri": "https://localhost:8080/"
        },
        "outputId": "de1c8744-e6ab-4b85-ded8-c4d70f96dbcb"
      },
      "execution_count": 9,
      "outputs": [
        {
          "output_type": "stream",
          "name": "stdout",
          "text": [
            "Looking in indexes: https://pypi.org/simple, https://us-python.pkg.dev/colab-wheels/public/simple/\n",
            "Collecting efficientnet-pytorch==0.7.1\n",
            "  Downloading efficientnet_pytorch-0.7.1.tar.gz (21 kB)\n",
            "  Preparing metadata (setup.py) ... \u001b[?25l\u001b[?25hdone\n",
            "Requirement already satisfied: torch in /usr/local/lib/python3.9/dist-packages (from efficientnet-pytorch==0.7.1) (2.0.0+cu118)\n",
            "Requirement already satisfied: typing-extensions in /usr/local/lib/python3.9/dist-packages (from torch->efficientnet-pytorch==0.7.1) (4.5.0)\n",
            "Requirement already satisfied: networkx in /usr/local/lib/python3.9/dist-packages (from torch->efficientnet-pytorch==0.7.1) (3.1)\n",
            "Requirement already satisfied: sympy in /usr/local/lib/python3.9/dist-packages (from torch->efficientnet-pytorch==0.7.1) (1.11.1)\n",
            "Requirement already satisfied: triton==2.0.0 in /usr/local/lib/python3.9/dist-packages (from torch->efficientnet-pytorch==0.7.1) (2.0.0)\n",
            "Requirement already satisfied: jinja2 in /usr/local/lib/python3.9/dist-packages (from torch->efficientnet-pytorch==0.7.1) (3.1.2)\n",
            "Requirement already satisfied: filelock in /usr/local/lib/python3.9/dist-packages (from torch->efficientnet-pytorch==0.7.1) (3.12.0)\n",
            "Requirement already satisfied: lit in /usr/local/lib/python3.9/dist-packages (from triton==2.0.0->torch->efficientnet-pytorch==0.7.1) (16.0.2)\n",
            "Requirement already satisfied: cmake in /usr/local/lib/python3.9/dist-packages (from triton==2.0.0->torch->efficientnet-pytorch==0.7.1) (3.25.2)\n",
            "Requirement already satisfied: MarkupSafe>=2.0 in /usr/local/lib/python3.9/dist-packages (from jinja2->torch->efficientnet-pytorch==0.7.1) (2.1.2)\n",
            "Requirement already satisfied: mpmath>=0.19 in /usr/local/lib/python3.9/dist-packages (from sympy->torch->efficientnet-pytorch==0.7.1) (1.3.0)\n",
            "Building wheels for collected packages: efficientnet-pytorch\n",
            "  Building wheel for efficientnet-pytorch (setup.py) ... \u001b[?25l\u001b[?25hdone\n",
            "  Created wheel for efficientnet-pytorch: filename=efficientnet_pytorch-0.7.1-py3-none-any.whl size=16444 sha256=28beaf0cf61c540ae48382fa58e3d36c77d290f3a72c44b55620bf9f85dbd878\n",
            "  Stored in directory: /root/.cache/pip/wheels/29/16/24/752e89d88d333af39a288421e64d613b5f652918e39ef1f8e3\n",
            "Successfully built efficientnet-pytorch\n",
            "Installing collected packages: efficientnet-pytorch\n",
            "Successfully installed efficientnet-pytorch-0.7.1\n"
          ]
        }
      ]
    },
    {
      "cell_type": "code",
      "source": [
        "# b0모델을 불러오기\n",
        "from efficientnet_pytorch import EfficientNet\n",
        "model = EfficientNet.from_pretrained('efficientnet-b0', num_classes=2)\n",
        "model = model.to(device)"
      ],
      "metadata": {
        "colab": {
          "base_uri": "https://localhost:8080/"
        },
        "id": "_r5GMrGtlMxA",
        "outputId": "761b2d0d-4230-4c76-fe2b-d541f77e1a44"
      },
      "execution_count": 10,
      "outputs": [
        {
          "output_type": "stream",
          "name": "stderr",
          "text": [
            "Downloading: \"https://github.com/lukemelas/EfficientNet-PyTorch/releases/download/1.0/efficientnet-b0-355c32eb.pth\" to /root/.cache/torch/hub/checkpoints/efficientnet-b0-355c32eb.pth\n",
            "100%|██████████| 20.4M/20.4M [00:00<00:00, 48.6MB/s]\n"
          ]
        },
        {
          "output_type": "stream",
          "name": "stdout",
          "text": [
            "Loaded pretrained weights for efficientnet-b0\n"
          ]
        }
      ]
    },
    {
      "cell_type": "code",
      "source": [
        "# numel()  텐서 객체가 갖는 구성요서의 총 개수\n",
        "sum([param.numel() for param in model.parameters()])\n",
        "# y = ax + b  : 파라메터 a, b 2개"
      ],
      "metadata": {
        "colab": {
          "base_uri": "https://localhost:8080/"
        },
        "id": "9h_v50lmlrwy",
        "outputId": "cf020c57-3223-478f-a5f3-8cf7f52a3c35"
      },
      "execution_count": null,
      "outputs": [
        {
          "output_type": "execute_result",
          "data": {
            "text/plain": [
              "4010110"
            ]
          },
          "metadata": {},
          "execution_count": 16
        }
      ]
    },
    {
      "cell_type": "code",
      "source": [
        "import torch.nn as nn\n",
        "criterion = nn.CrossEntropyLoss()\n",
        "opti = torch.optim.Adam(model.parameters(), lr=0.01)"
      ],
      "metadata": {
        "id": "hdFdzIJ9MQGS"
      },
      "execution_count": 11,
      "outputs": []
    },
    {
      "cell_type": "code",
      "source": [
        "from sklearn.metrics import accuracy_score\n",
        "from sklearn.metrics import recall_score # 재현율\n",
        "from sklearn.metrics import f1_score\n",
        "from tqdm import tqdm"
      ],
      "metadata": {
        "id": "2jSHvanpMkXJ"
      },
      "execution_count": 12,
      "outputs": []
    },
    {
      "cell_type": "code",
      "source": [
        "def train(model, loader_train, loader_valid,criterion,opti,scheduler=None, epochs=5, save_file='model.pth'):\n",
        "  valid_loss_min = np.inf\n",
        "  for epoch in range(epochs):\n",
        "    print(f'epoch [{epoch+1} / {epochs}]\\n')\n",
        "    model.train()\n",
        "    epoch_train_loss = 0\n",
        "    for images, labels in tqdm(loader_train):\n",
        "      images = images.to(device)\n",
        "      labels = labels.to(device)\n",
        "      opti.zero_grad()\n",
        "      outputs =  model(images)\n",
        "      loss = criterion(outputs,labels)\n",
        "      epoch_train_loss += loss.item()\n",
        "      loss.backward()\n",
        "      opti.step()\n",
        "      if scheduler !=None:\n",
        "        scheduler.step()\n",
        "    print(f'loss : {epoch_train_loss/len(loader_train)}')\n",
        "    # 검증\n",
        "    model.eval()\n",
        "    epoch_eval_loss = 0\n",
        "    #  예측값 저장용 실제값 저장용\n",
        "    pred_lists, true_lists = [],[]\n",
        "    with torch.no_grad():\n",
        "      for images, labels in loader_valid:\n",
        "        images = images.to(device)\n",
        "        labels = labels.to(device)\n",
        "        # opti.zero_grad()\n",
        "        outputs =  model(images)\n",
        "        loss = criterion(outputs,labels)\n",
        "        epoch_eval_loss += loss.item()\n",
        "        preds = torch.max(outputs.cpu(), dim=1)[1].numpy()\n",
        "        true = labels.cpu().numpy()\n",
        "        pred_lists.extend(preds)\n",
        "        true_lists.extend(true)\n",
        "        # loss.backward()\n",
        "        # opti.step()\n",
        "        # if scheduler !=None:\n",
        "        #   scheduler.step()\n",
        "    val_acc = accuracy_score(true_lists,pred_lists)\n",
        "    val_recall = recall_score(true_lists, pred_lists)\n",
        "    val_f1_score = f1_score(true_lists, pred_lists)\n",
        "\n",
        "    print(f'loss : {epoch_eval_loss/len(loader_valid)}')\n",
        "    print(f'acc:{val_acc}  recall:{val_recall} val_f1:{val_f1_score}')\n",
        "    \n",
        "    if epoch_eval_loss <= valid_loss_min:\n",
        "      valid_loss_min = epoch_eval_loss\n",
        "      torch.save(model.state_dict(),save_file)\n",
        "  return torch.load(save_file)"
      ],
      "metadata": {
        "id": "IAj74JtINBLa"
      },
      "execution_count": 13,
      "outputs": []
    },
    {
      "cell_type": "code",
      "source": [
        "# train\n",
        "model2 = train(model,epochs=1, loader_train=loader_train, loader_valid=loader_valid, criterion=criterion,opti=opti)\n",
        "model.load_state_dict(model2)  # 가중치 불러오기"
      ],
      "metadata": {
        "id": "TYDNcLjnRS0H"
      },
      "execution_count": null,
      "outputs": []
    },
    {
      "cell_type": "code",
      "source": [
        "# 예측\n",
        "transform_test = transforms.Compose([\n",
        "    transforms.Resize((250,250)),    \n",
        "    transforms.ToTensor(),\n",
        "    transforms.Normalize( (0.485,0.456,0.406),(0.229,0.224,0.225))\n",
        "])\n",
        "dataset_test = ImageFolder('/content/chest_xray/test', transform=transform_test)"
      ],
      "metadata": {
        "id": "CIYBf39JRzdx"
      },
      "execution_count": 28,
      "outputs": []
    },
    {
      "cell_type": "code",
      "source": [
        "loader_test = DataLoader(dataset_test,batch_size = batch_size,shuffle = False)"
      ],
      "metadata": {
        "id": "jlj7NxYnaUu4"
      },
      "execution_count": 29,
      "outputs": []
    },
    {
      "cell_type": "code",
      "source": [
        "def predict(model,loader_test):\n",
        "  model.eval()\n",
        "  epoch_eval_loss = 0\n",
        "  #  예측값 저장용 실제값 저장용\n",
        "  pred_lists, true_lists = [],[]\n",
        "  with torch.no_grad():\n",
        "    for images, labels in loader_valid:\n",
        "      images = images.to(device)\n",
        "      labels = labels.to(device)      \n",
        "      outputs =  model(images)            \n",
        "      preds = torch.max(outputs.cpu(), dim=1)[1].numpy()\n",
        "      true = labels.cpu().numpy()\n",
        "      pred_lists.extend(preds)\n",
        "      true_lists.extend(true)    \n",
        "  return pred_lists  ,true_lists"
      ],
      "metadata": {
        "id": "Jjw0jefAagV3"
      },
      "execution_count": 25,
      "outputs": []
    },
    {
      "cell_type": "code",
      "source": [
        "pred_lists  ,true_lists = predict(model, loader_test)\n",
        "val_acc = accuracy_score(true_lists,pred_lists)\n",
        "val_recall = recall_score(true_lists, pred_lists)\n",
        "val_f1_score = f1_score(true_lists, pred_lists)\n",
        "print(f'acc:{val_acc}  recall:{val_recall} val_f1:{val_f1_score}')"
      ],
      "metadata": {
        "colab": {
          "base_uri": "https://localhost:8080/"
        },
        "id": "mgkrjisKa_jS",
        "outputId": "6b6ad091-4ce6-4b84-de0e-42ced949fbde"
      },
      "execution_count": null,
      "outputs": [
        {
          "output_type": "stream",
          "name": "stdout",
          "text": [
            "acc:0.875  recall:0.75 val_f1:0.8571428571428571\n"
          ]
        }
      ]
    },
    {
      "cell_type": "code",
      "source": [
        "# 개선 - 앙상블기법\n",
        "model_b1 = EfficientNet.from_pretrained('efficientnet-b1', num_classes=2)\n",
        "model_b2 = EfficientNet.from_pretrained('efficientnet-b2', num_classes=2)\n",
        "model_b3 = EfficientNet.from_pretrained('efficientnet-b3', num_classes=2)\n",
        "\n",
        "model_b1 = model_b1.to(device)\n",
        "model_b2 = model_b2.to(device)\n",
        "model_b3 = model_b3.to(device)\n",
        "\n",
        "model_lists = []\n",
        "model_lists.append(model_b1)\n",
        "model_lists.append(model_b2)\n",
        "model_lists.append(model_b3)"
      ],
      "metadata": {
        "colab": {
          "base_uri": "https://localhost:8080/"
        },
        "id": "bu3T8m_kbLy-",
        "outputId": "d3992ce1-02e2-4980-a04f-d11a93b86124"
      },
      "execution_count": 17,
      "outputs": [
        {
          "output_type": "stream",
          "name": "stderr",
          "text": [
            "Downloading: \"https://github.com/lukemelas/EfficientNet-PyTorch/releases/download/1.0/efficientnet-b1-f1951068.pth\" to /root/.cache/torch/hub/checkpoints/efficientnet-b1-f1951068.pth\n",
            "100%|██████████| 30.1M/30.1M [00:00<00:00, 61.4MB/s]\n"
          ]
        },
        {
          "output_type": "stream",
          "name": "stdout",
          "text": [
            "Loaded pretrained weights for efficientnet-b1\n"
          ]
        },
        {
          "output_type": "stream",
          "name": "stderr",
          "text": [
            "Downloading: \"https://github.com/lukemelas/EfficientNet-PyTorch/releases/download/1.0/efficientnet-b2-8bb594d6.pth\" to /root/.cache/torch/hub/checkpoints/efficientnet-b2-8bb594d6.pth\n",
            "100%|██████████| 35.1M/35.1M [00:00<00:00, 87.6MB/s]\n"
          ]
        },
        {
          "output_type": "stream",
          "name": "stdout",
          "text": [
            "Loaded pretrained weights for efficientnet-b2\n"
          ]
        },
        {
          "output_type": "stream",
          "name": "stderr",
          "text": [
            "Downloading: \"https://github.com/lukemelas/EfficientNet-PyTorch/releases/download/1.0/efficientnet-b3-5fb5a3c3.pth\" to /root/.cache/torch/hub/checkpoints/efficientnet-b3-5fb5a3c3.pth\n",
            "100%|██████████| 47.1M/47.1M [00:00<00:00, 55.5MB/s]\n"
          ]
        },
        {
          "output_type": "stream",
          "name": "stdout",
          "text": [
            "Loaded pretrained weights for efficientnet-b3\n"
          ]
        }
      ]
    },
    {
      "cell_type": "code",
      "source": [
        "#  손실함수는 위에 모델 재사용\n",
        "# 옵티마이져는 각각\n",
        "opti_b1 = torch.optim.AdamW(model_b1.parameters(), lr=0.0001, weight_decay=0.001)\n",
        "opti_b2 = torch.optim.AdamW(model_b2.parameters(), lr=0.0001, weight_decay=0.001)\n",
        "opti_b3 = torch.optim.AdamW(model_b3.parameters(), lr=0.0001, weight_decay=0.001)"
      ],
      "metadata": {
        "id": "aEi675OSdRD-"
      },
      "execution_count": 18,
      "outputs": []
    },
    {
      "cell_type": "code",
      "source": [
        "# 스케줄러 생성\n",
        "!pip install transformers"
      ],
      "metadata": {
        "id": "cYaRg_uWdr-1"
      },
      "execution_count": null,
      "outputs": []
    },
    {
      "cell_type": "code",
      "source": [
        "from transformers import get_cosine_schedule_with_warmup\n",
        "epochs = 1  # 30\n",
        "sch_b1 = get_cosine_schedule_with_warmup(opti_b1, num_warmup_steps=len(loader_train)*3,\n",
        "                                         num_training_steps=len(loader_train)*epochs )\n",
        "sch_b2 = get_cosine_schedule_with_warmup(opti_b2, num_warmup_steps=len(loader_train)*3,\n",
        "                                         num_training_steps=len(loader_train)*epochs )\n",
        "sch_b3 = get_cosine_schedule_with_warmup(opti_b3, num_warmup_steps=len(loader_train)*3,\n",
        "                                         num_training_steps=len(loader_train)*epochs )\n"
      ],
      "metadata": {
        "id": "pNiRWIm7d9A9"
      },
      "execution_count": 19,
      "outputs": []
    },
    {
      "cell_type": "code",
      "source": [
        "# 첫번째 train\n",
        "param = train(model_b1,epochs=1, loader_train=loader_train, loader_valid=loader_valid, \n",
        "              scheduler=sch_b1 ,criterion=criterion,opti=opti_b1)\n",
        "model_b1.load_state_dict(param)  # 가중치 불러오기"
      ],
      "metadata": {
        "colab": {
          "base_uri": "https://localhost:8080/"
        },
        "id": "NJZrQwdagFSL",
        "outputId": "313b84eb-1d0f-4e1c-b98b-dd7567ad0442"
      },
      "execution_count": 21,
      "outputs": [
        {
          "output_type": "stream",
          "name": "stdout",
          "text": [
            "epoch [1 / 1]\n",
            "\n"
          ]
        },
        {
          "output_type": "stream",
          "name": "stderr",
          "text": [
            "100%|██████████| 652/652 [02:54<00:00,  3.73it/s]\n"
          ]
        },
        {
          "output_type": "stream",
          "name": "stdout",
          "text": [
            "loss : 0.4962855108836494\n",
            "loss : 0.7436743099242449\n",
            "acc:0.6875  recall:1.0 val_f1:0.761904761904762\n"
          ]
        },
        {
          "output_type": "execute_result",
          "data": {
            "text/plain": [
              "<All keys matched successfully>"
            ]
          },
          "metadata": {},
          "execution_count": 21
        }
      ]
    },
    {
      "cell_type": "code",
      "source": [
        "# 두번째 train\n",
        "param = train(model_b2,epochs=1, loader_train=loader_train, loader_valid=loader_valid, \n",
        "              scheduler=sch_b2 ,criterion=criterion,opti=opti_b2)\n",
        "model_b2.load_state_dict(param)  # 가중치 불러오기"
      ],
      "metadata": {
        "colab": {
          "base_uri": "https://localhost:8080/"
        },
        "id": "Wd6CfaPdgHQU",
        "outputId": "3959d80b-e1e9-496e-af62-052fde17d8a3"
      },
      "execution_count": 22,
      "outputs": [
        {
          "output_type": "stream",
          "name": "stdout",
          "text": [
            "epoch [1 / 1]\n",
            "\n"
          ]
        },
        {
          "output_type": "stream",
          "name": "stderr",
          "text": [
            "100%|██████████| 652/652 [02:49<00:00,  3.85it/s]\n"
          ]
        },
        {
          "output_type": "stream",
          "name": "stdout",
          "text": [
            "loss : 0.47431092296778427\n",
            "loss : 0.7612986322492361\n",
            "acc:0.625  recall:1.0 val_f1:0.7272727272727273\n"
          ]
        },
        {
          "output_type": "execute_result",
          "data": {
            "text/plain": [
              "<All keys matched successfully>"
            ]
          },
          "metadata": {},
          "execution_count": 22
        }
      ]
    },
    {
      "cell_type": "code",
      "source": [
        "# 세번째 train\n",
        "param = train(model_b3,epochs=1, loader_train=loader_train, loader_valid=loader_valid, \n",
        "              scheduler=sch_b3 ,criterion=criterion,opti=opti_b3)\n",
        "model_b3.load_state_dict(param)  # 가중치 불러오기"
      ],
      "metadata": {
        "colab": {
          "base_uri": "https://localhost:8080/"
        },
        "id": "DDVo4MEdgIXF",
        "outputId": "d906d86e-d15d-451c-db3b-786c29c2b4d4"
      },
      "execution_count": 23,
      "outputs": [
        {
          "output_type": "stream",
          "name": "stdout",
          "text": [
            "epoch [1 / 1]\n",
            "\n"
          ]
        },
        {
          "output_type": "stream",
          "name": "stderr",
          "text": [
            "100%|██████████| 652/652 [03:01<00:00,  3.59it/s]\n"
          ]
        },
        {
          "output_type": "stream",
          "name": "stdout",
          "text": [
            "loss : 0.428489580819029\n",
            "loss : 0.7084123007953167\n",
            "acc:0.5625  recall:1.0 val_f1:0.6956521739130436\n"
          ]
        },
        {
          "output_type": "execute_result",
          "data": {
            "text/plain": [
              "<All keys matched successfully>"
            ]
          },
          "metadata": {},
          "execution_count": 23
        }
      ]
    },
    {
      "cell_type": "code",
      "source": [
        "# 평가 3\n",
        "val_lists,val_recalls,val_f1s = [],[],[]\n",
        "for m in model_lists:\n",
        "  pred_lists  ,true_lists = predict(m, loader_test)\n",
        "  val_acc = accuracy_score(true_lists,pred_lists)\n",
        "  val_recall = recall_score(true_lists, pred_lists)\n",
        "  val_f1_score = f1_score(true_lists, pred_lists)\n",
        "  print(f'acc:{val_acc}  recall:{val_recall} val_f1:{val_f1_score}')\n",
        "  val_lists.append(val_acc)\n",
        "  val_recalls.append(val_recall)\n",
        "  val_f1s.append(val_f1_score)"
      ],
      "metadata": {
        "colab": {
          "base_uri": "https://localhost:8080/"
        },
        "id": "3E6tycsThBUs",
        "outputId": "19103ae4-1f23-42fc-e400-dcd1ecd1f39e"
      },
      "execution_count": 30,
      "outputs": [
        {
          "output_type": "stream",
          "name": "stdout",
          "text": [
            "acc:0.6875  recall:1.0 val_f1:0.761904761904762\n",
            "acc:0.625  recall:1.0 val_f1:0.7272727272727273\n",
            "acc:0.6875  recall:1.0 val_f1:0.761904761904762\n"
          ]
        }
      ]
    },
    {
      "cell_type": "code",
      "source": [],
      "metadata": {
        "id": "ucgyDscmiK8y"
      },
      "execution_count": null,
      "outputs": []
    }
  ]
}