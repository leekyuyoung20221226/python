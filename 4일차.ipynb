{
 "cells": [
  {
   "cell_type": "markdown",
   "id": "02b38b8b-dd9e-480f-a117-0e91b6ae251f",
   "metadata": {},
   "source": [
    "# 문자열"
   ]
  },
  {
   "cell_type": "markdown",
   "id": "2b81b79a-8e06-414c-9dbc-75f773fab7d2",
   "metadata": {},
   "source": [
    "    시퀀스 자료형"
   ]
  },
  {
   "cell_type": "code",
   "execution_count": 1,
   "id": "cf9ffd89-3d54-46f2-bc8a-d886f4a4aee7",
   "metadata": {},
   "outputs": [],
   "source": [
    "a = \"abcdef\"  # 각 단어들로 이루어진 집합"
   ]
  },
  {
   "cell_type": "code",
   "execution_count": 2,
   "id": "5c003d3a-fc9c-4c15-aed0-17a881edd66d",
   "metadata": {},
   "outputs": [
    {
     "data": {
      "text/plain": [
       "(50, 51, 52)"
      ]
     },
     "execution_count": 2,
     "metadata": {},
     "output_type": "execute_result"
    }
   ],
   "source": [
    "import sys\n",
    "sys.getsizeof(\"a\"), sys.getsizeof(\"ab\"), sys.getsizeof(\"abc\")"
   ]
  },
  {
   "cell_type": "code",
   "execution_count": 3,
   "id": "9dacb0eb-4dba-4b77-86b7-568f71debc3f",
   "metadata": {},
   "outputs": [],
   "source": [
    "# 문자열을 처리하기 위한 이진수로 변환되는 표준 규칙... 인코딩  ASCII, CP949, MS949 UTF-8..."
   ]
  },
  {
   "cell_type": "code",
   "execution_count": 4,
   "id": "35d8a207-1d29-4b6b-a5e2-806ec0823684",
   "metadata": {},
   "outputs": [
    {
     "name": "stdout",
     "output_type": "stream",
     "text": [
      "abcdef\n"
     ]
    }
   ],
   "source": [
    "print(a)"
   ]
  },
  {
   "cell_type": "code",
   "execution_count": 5,
   "id": "ef5dd6b7-3263-4dd6-8186-f05e8d0809fb",
   "metadata": {},
   "outputs": [
    {
     "name": "stdout",
     "output_type": "stream",
     "text": [
      "a\n"
     ]
    }
   ],
   "source": [
    "print(a[0])"
   ]
  },
  {
   "cell_type": "code",
   "execution_count": 6,
   "id": "b970738e-1c66-44fb-8674-bea6d949b435",
   "metadata": {},
   "outputs": [
    {
     "name": "stdout",
     "output_type": "stream",
     "text": [
      "f\n"
     ]
    }
   ],
   "source": [
    "print(a[-1])"
   ]
  },
  {
   "cell_type": "code",
   "execution_count": 7,
   "id": "17d8951d-24da-4cb5-815f-31e62d88b068",
   "metadata": {},
   "outputs": [
    {
     "name": "stdout",
     "output_type": "stream",
     "text": [
      "abcde\n"
     ]
    }
   ],
   "source": [
    "print(a[:5])"
   ]
  },
  {
   "cell_type": "code",
   "execution_count": 8,
   "id": "65dc0bbd-20e8-4190-8876-e9d1d4f4e5c8",
   "metadata": {},
   "outputs": [
    {
     "name": "stdout",
     "output_type": "stream",
     "text": [
      "def\n"
     ]
    }
   ],
   "source": [
    "print(a[-3:])"
   ]
  },
  {
   "cell_type": "code",
   "execution_count": 11,
   "id": "6c8161dd-1fda-4415-b65e-5890e8c28169",
   "metadata": {},
   "outputs": [
    {
     "name": "stdout",
     "output_type": "stream",
     "text": [
      "fed\n"
     ]
    }
   ],
   "source": [
    "print(a[-1:-4:-1])"
   ]
  },
  {
   "cell_type": "code",
   "execution_count": 14,
   "id": "f6533fb2-469e-4936-897a-154fabfa9a6a",
   "metadata": {},
   "outputs": [
    {
     "data": {
      "text/plain": [
       "'abclmn'"
      ]
     },
     "execution_count": 14,
     "metadata": {},
     "output_type": "execute_result"
    }
   ],
   "source": [
    "a = 'abcdefghijklmn'\n",
    "# abclmn\n",
    "a[:3]+a[-3:]"
   ]
  },
  {
   "cell_type": "code",
   "execution_count": 19,
   "id": "ab199896-85b5-4dd3-9e61-4a399fd421cb",
   "metadata": {},
   "outputs": [
    {
     "name": "stdout",
     "output_type": "stream",
     "text": [
      "find\n"
     ]
    }
   ],
   "source": [
    "# 해당 문자열에 i가 포함되어 있는지 확인\n",
    "if 'a' in a:\n",
    "    print(\"find\")\n",
    "else:\n",
    "    print(\"not find\")    "
   ]
  },
  {
   "cell_type": "code",
   "execution_count": 20,
   "id": "9916f20e-0578-416d-8bff-eaafc4f47dc2",
   "metadata": {},
   "outputs": [],
   "source": [
    "#1.  변수 a가 가지고있는 문자열중에 e, f 둘중에 하나라도 들어 있으면 success 를 출력\n",
    "#2. 변수 a가 가지고있는 문자열중에 e, f 둘다 들어 있으면 success 를 출력"
   ]
  },
  {
   "cell_type": "code",
   "execution_count": 24,
   "id": "0bf5282c-55e5-4dce-867a-0811c9cd7e90",
   "metadata": {},
   "outputs": [
    {
     "name": "stdout",
     "output_type": "stream",
     "text": [
      "success\n"
     ]
    },
    {
     "data": {
      "text/plain": [
       "5"
      ]
     },
     "execution_count": 24,
     "metadata": {},
     "output_type": "execute_result"
    }
   ],
   "source": [
    "#1\n",
    "count = 0\n",
    "for i in a:\n",
    "    count += 1\n",
    "    if i in ['e','f']:\n",
    "        print('success')\n",
    "        break\n",
    "count        "
   ]
  },
  {
   "cell_type": "code",
   "execution_count": 25,
   "id": "9b6a1de6-52e1-4f74-ae47-499f37636062",
   "metadata": {},
   "outputs": [
    {
     "name": "stdout",
     "output_type": "stream",
     "text": [
      "success\n"
     ]
    }
   ],
   "source": [
    "#2 \n",
    "findcount = 0\n",
    "for i in a:\n",
    "    if i == 'e':\n",
    "        findcount += 1\n",
    "    elif i == 'f':\n",
    "        findcount += 1\n",
    "if findcount == 2:\n",
    "    print('success')\n",
    "    "
   ]
  },
  {
   "cell_type": "code",
   "execution_count": 26,
   "id": "78ea7ba1-1c49-4823-bad4-7ba24ef1cf0e",
   "metadata": {},
   "outputs": [
    {
     "data": {
      "text/plain": [
       "'ABC ABC DEFK'"
      ]
     },
     "execution_count": 26,
     "metadata": {},
     "output_type": "execute_result"
    }
   ],
   "source": [
    "# upper() / lower()\n",
    "title = \"ABC abc DefK\"\n",
    "title.upper()"
   ]
  },
  {
   "cell_type": "code",
   "execution_count": 27,
   "id": "0de190c1-097b-43d0-93d9-a1723ff89bd6",
   "metadata": {},
   "outputs": [
    {
     "data": {
      "text/plain": [
       "'abc abc defk'"
      ]
     },
     "execution_count": 27,
     "metadata": {},
     "output_type": "execute_result"
    }
   ],
   "source": [
    "title.lower()"
   ]
  },
  {
   "cell_type": "code",
   "execution_count": 32,
   "id": "3d7f4d07-2262-490f-a304-7091cf871c74",
   "metadata": {},
   "outputs": [
    {
     "data": {
      "text/plain": [
       "('Abc Def Ahij', 'Abc def ahij')"
      ]
     },
     "execution_count": 32,
     "metadata": {},
     "output_type": "execute_result"
    }
   ],
   "source": [
    "#각 단어의 첫글자만 대문자로 변환\n",
    "title2 = 'abc def ahij'\n",
    "title2.title(), title2.capitalize()"
   ]
  },
  {
   "cell_type": "code",
   "execution_count": 33,
   "id": "e5f808d4-80dd-4fb8-b17a-d03b10cd342b",
   "metadata": {},
   "outputs": [
    {
     "data": {
      "text/plain": [
       "2"
      ]
     },
     "execution_count": 33,
     "metadata": {},
     "output_type": "execute_result"
    }
   ],
   "source": [
    "title2.count('a')"
   ]
  },
  {
   "cell_type": "code",
   "execution_count": 41,
   "id": "04958e8d-e9c1-4c7e-8442-5d0260e96dd9",
   "metadata": {},
   "outputs": [
    {
     "data": {
      "text/plain": [
       "True"
      ]
     },
     "execution_count": 41,
     "metadata": {},
     "output_type": "execute_result"
    }
   ],
   "source": [
    "title2 = '123'\n",
    "title2.isdigit()"
   ]
  },
  {
   "cell_type": "code",
   "execution_count": 46,
   "id": "8b8c77cb-a80c-46e3-9ef5-3ba9b70cccf3",
   "metadata": {},
   "outputs": [
    {
     "data": {
      "text/plain": [
       "(True, True)"
      ]
     },
     "execution_count": 46,
     "metadata": {},
     "output_type": "execute_result"
    }
   ],
   "source": [
    "title2 = 'a123'\n",
    "title2.startswith('a'), title2.endswith('3')"
   ]
  },
  {
   "cell_type": "code",
   "execution_count": 64,
   "id": "37e3d99a-98f7-438b-9cd1-5f624b4219f8",
   "metadata": {},
   "outputs": [
    {
     "name": "stdout",
     "output_type": "stream",
     "text": [
      "찾고자 하는 단어를 입력하세요\n"
     ]
    },
    {
     "name": "stdin",
     "output_type": "stream",
     "text": [
      " 수사\n"
     ]
    },
    {
     "name": "stdout",
     "output_type": "stream",
     "text": [
      "찾은 단어의 갯수 : 2\n"
     ]
    }
   ],
   "source": [
    "# 단어 카운팅..\n",
    "# 메모장에 뉴스를 하나 저장해서\n",
    "print('찾고자 하는 단어를 입력하세요')\n",
    "find_word = input()\n",
    "with open('news.txt', 'r',encoding='utf-8') as f:\n",
    "    news_doc =  f.readlines()    \n",
    "    for word in news_doc:\n",
    "        word_coundts += word.count(find_word)  \n",
    "    \n",
    "    print(f\"찾은 단어의 갯수 : {word_coundts}\")"
   ]
  },
  {
   "cell_type": "code",
   "execution_count": 48,
   "id": "b14be36b-de70-41e7-8693-3899da3c5d6d",
   "metadata": {},
   "outputs": [
    {
     "data": {
      "text/plain": [
       "'E:\\\\20221226_강남야간인공지능'"
      ]
     },
     "execution_count": 48,
     "metadata": {},
     "output_type": "execute_result"
    }
   ],
   "source": [
    "pwd"
   ]
  },
  {
   "cell_type": "code",
   "execution_count": 65,
   "id": "2bb6ff37-33e0-4c6a-aa73-bd53d64ba867",
   "metadata": {},
   "outputs": [
    {
     "name": "stdout",
     "output_type": "stream",
     "text": [
      "1 2 3\n"
     ]
    }
   ],
   "source": [
    "print(1,2,3)"
   ]
  },
  {
   "cell_type": "code",
   "execution_count": 66,
   "id": "b29fb351-db19-4ea4-a4fb-70dea68243a7",
   "metadata": {},
   "outputs": [
    {
     "name": "stdout",
     "output_type": "stream",
     "text": [
      "a b\n"
     ]
    }
   ],
   "source": [
    "print('a'+' '+'b')"
   ]
  },
  {
   "cell_type": "code",
   "execution_count": 67,
   "id": "84356920-b1f9-4686-a1ea-2474f51f0cb8",
   "metadata": {},
   "outputs": [
    {
     "name": "stdout",
     "output_type": "stream",
     "text": [
      "1 2 3\n"
     ]
    }
   ],
   "source": [
    "print('%d %d %d'%(1,2,3) )"
   ]
  },
  {
   "cell_type": "code",
   "execution_count": 68,
   "id": "f3010f01-fd88-44e8-ac56-9d6274ca0975",
   "metadata": {},
   "outputs": [
    {
     "name": "stdout",
     "output_type": "stream",
     "text": [
      "a 2 3\n"
     ]
    }
   ],
   "source": [
    "print(\"{} {} {}\".format('a',2,3))"
   ]
  },
  {
   "cell_type": "code",
   "execution_count": 69,
   "id": "d6f111ec-d897-44c8-bba4-174df57eda97",
   "metadata": {},
   "outputs": [
    {
     "name": "stdout",
     "output_type": "stream",
     "text": [
      "10 20 30\n"
     ]
    }
   ],
   "source": [
    "print(f\"{10} {20} {30}\")"
   ]
  },
  {
   "cell_type": "code",
   "execution_count": 72,
   "id": "0b9a78a8-1147-40e4-85d9-0231ab5ff1e2",
   "metadata": {},
   "outputs": [
    {
     "name": "stdout",
     "output_type": "stream",
     "text": [
      "12.54689 을 소수 1자리에서 반올림하면 12.5\n",
      "12.54689 을 소수 2자리에서 반올림하면 12.55\n"
     ]
    }
   ],
   "source": [
    "print(f\"12.54689 을 소수 1자리에서 반올림하면 {12.54689:.1f}\")\n",
    "print(f\"12.54689 을 소수 2자리에서 반올림하면 {12.54689:.2f}\")"
   ]
  },
  {
   "cell_type": "markdown",
   "id": "e0450723-03b9-4a0a-910e-3da723d1098d",
   "metadata": {},
   "source": [
    "# 자료구조"
   ]
  },
  {
   "cell_type": "markdown",
   "id": "8d04dfd1-f992-4871-9fcb-0256116ae6e4",
   "metadata": {},
   "source": [
    "    스택\n",
    "    큐\n",
    "    튜플\n",
    "    세트\n",
    "    딕셔너리\n",
    "    collection 모듈"
   ]
  },
  {
   "cell_type": "code",
   "execution_count": 73,
   "id": "a0d2dcbe-91c7-4ae6-bc09-c85a646170f9",
   "metadata": {},
   "outputs": [],
   "source": [
    "# 스택 : Firts In Last Out  FILO구조\n",
    "# 파이썬에서는 리스트를 사용해서 스택을 구현할 수 있다"
   ]
  },
  {
   "cell_type": "code",
   "execution_count": 74,
   "id": "44b643e1-ff1e-4cf3-998b-988fde04ad56",
   "metadata": {},
   "outputs": [
    {
     "data": {
      "text/plain": [
       "[1, 2, 3, 4, 5, 10]"
      ]
     },
     "execution_count": 74,
     "metadata": {},
     "output_type": "execute_result"
    }
   ],
   "source": [
    "temp = [1, 2, 3, 4, 5]\n",
    "temp.append(10)\n",
    "temp"
   ]
  },
  {
   "cell_type": "code",
   "execution_count": 75,
   "id": "618eba20-d902-47fd-94cb-8cb40177808e",
   "metadata": {},
   "outputs": [
    {
     "data": {
      "text/plain": [
       "[1, 2, 3, 4, 5, 10, 20]"
      ]
     },
     "execution_count": 75,
     "metadata": {},
     "output_type": "execute_result"
    }
   ],
   "source": [
    "temp.append(20)\n",
    "temp"
   ]
  },
  {
   "cell_type": "code",
   "execution_count": 76,
   "id": "92317bc4-90a0-465a-bad1-586cdcdda7a7",
   "metadata": {},
   "outputs": [
    {
     "data": {
      "text/plain": [
       "20"
      ]
     },
     "execution_count": 76,
     "metadata": {},
     "output_type": "execute_result"
    }
   ],
   "source": [
    "temp.pop()"
   ]
  },
  {
   "cell_type": "code",
   "execution_count": 77,
   "id": "d142147d-3043-459b-9c2a-c3a652f06e13",
   "metadata": {},
   "outputs": [
    {
     "data": {
      "text/plain": [
       "[1, 2, 3, 4, 5, 10]"
      ]
     },
     "execution_count": 77,
     "metadata": {},
     "output_type": "execute_result"
    }
   ],
   "source": [
    "temp"
   ]
  },
  {
   "cell_type": "code",
   "execution_count": 84,
   "id": "15d08f32-77a4-4d92-a506-27fea3a8eb06",
   "metadata": {},
   "outputs": [
    {
     "name": "stdin",
     "output_type": "stream",
     "text": [
      "영문단어를 입력하세요 abcdefghijk\n"
     ]
    },
    {
     "name": "stdout",
     "output_type": "stream",
     "text": [
      "k\n",
      "j\n",
      "i\n",
      "h\n",
      "g\n"
     ]
    }
   ],
   "source": [
    "# 영문 단어를 입력받아서 꺼꾸로 출력 -스택을 이용해서 구현  리스트\n",
    "#ex hello ---> olleh\n",
    "user_str = input(\"영문단어를 입력하세요\")\n",
    "user_str = list(user_str)\n",
    "print(user_str.pop())\n",
    "print(user_str.pop())\n",
    "print(user_str.pop())\n",
    "print(user_str.pop())\n",
    "print(user_str.pop())\n",
    "# hello가 아닐때는 : 실제 입력된 문자열 개수만큼 pop을 실행\n",
    "# olleh형태로 출력이 아님 : 각각읠 출력을 문자열로 합친다"
   ]
  },
  {
   "cell_type": "code",
   "execution_count": 90,
   "id": "c2759936-5bed-496e-979e-e74598e76523",
   "metadata": {},
   "outputs": [
    {
     "name": "stdin",
     "output_type": "stream",
     "text": [
      "영문단어를 입력하세요 abcdefgjijklmn\n"
     ]
    },
    {
     "name": "stdout",
     "output_type": "stream",
     "text": [
      "nmlkjijgfedcba\n"
     ]
    }
   ],
   "source": [
    "# 영문 단어를 입력받아서 꺼꾸로 출력 -스택을 이용해서 구현  리스트\n",
    "#ex hello ---> olleh\n",
    "user_str = input(\"영문단어를 입력하세요\")\n",
    "user_str = list(user_str)\n",
    "result = \"\"\n",
    "for i in range(len(user_str)):\n",
    "    # print(user_str.pop())\n",
    "    result += user_str.pop()\n",
    "print(result)    \n",
    "# hello가 아닐때는 : 실제 입력된 문자열 개수만큼 pop을 실행\n",
    "# olleh형태로 출력이 아님 : 각각읠 출력을 문자열로 합친다"
   ]
  },
  {
   "cell_type": "code",
   "execution_count": 91,
   "id": "ca528df8-1167-4c99-955e-771ea1c18177",
   "metadata": {},
   "outputs": [
    {
     "data": {
      "text/plain": [
       "[1, 2, 3, 4, 5, 10, 20]"
      ]
     },
     "execution_count": 91,
     "metadata": {},
     "output_type": "execute_result"
    }
   ],
   "source": [
    "# queue 큐는 Stack에 반대.... First In First Out  FIFO구조\n",
    "temp = [1,2,3,4,5]\n",
    "temp.append(10)\n",
    "temp.append(20)\n",
    "temp"
   ]
  },
  {
   "cell_type": "code",
   "execution_count": 92,
   "id": "fe2ed75c-c033-40fc-ba2d-bf896700f674",
   "metadata": {},
   "outputs": [
    {
     "data": {
      "text/plain": [
       "1"
      ]
     },
     "execution_count": 92,
     "metadata": {},
     "output_type": "execute_result"
    }
   ],
   "source": [
    "temp.pop(0)"
   ]
  },
  {
   "cell_type": "code",
   "execution_count": 93,
   "id": "e7851294-0944-4d48-9a00-44785afedef1",
   "metadata": {},
   "outputs": [
    {
     "data": {
      "text/plain": [
       "2"
      ]
     },
     "execution_count": 93,
     "metadata": {},
     "output_type": "execute_result"
    }
   ],
   "source": [
    "temp.pop(0)"
   ]
  },
  {
   "cell_type": "code",
   "execution_count": 94,
   "id": "18580352-f612-4d55-a276-07e9933d71d7",
   "metadata": {},
   "outputs": [
    {
     "data": {
      "text/plain": [
       "[3, 4, 5, 10, 20]"
      ]
     },
     "execution_count": 94,
     "metadata": {},
     "output_type": "execute_result"
    }
   ],
   "source": [
    "temp"
   ]
  },
  {
   "cell_type": "markdown",
   "id": "5f6d7017-7ff5-4904-a541-e3552454ad9a",
   "metadata": {},
   "source": [
    "# 튜플 tuple"
   ]
  },
  {
   "cell_type": "code",
   "execution_count": 95,
   "id": "38aa8e64-ddbd-4a1d-bd2a-9100618bbff0",
   "metadata": {},
   "outputs": [],
   "source": [
    "list_1 = [1,2,3]\n",
    "tuple_1 = (1,2,3)"
   ]
  },
  {
   "cell_type": "code",
   "execution_count": 97,
   "id": "2b1e1f65-60fe-475f-963e-f03b95677472",
   "metadata": {},
   "outputs": [
    {
     "data": {
      "text/plain": [
       "[1, 2, 3]"
      ]
     },
     "execution_count": 97,
     "metadata": {},
     "output_type": "execute_result"
    }
   ],
   "source": [
    "list_1"
   ]
  },
  {
   "cell_type": "code",
   "execution_count": 98,
   "id": "e2559ed7-05bd-42ce-85a5-81750f0b49ea",
   "metadata": {},
   "outputs": [
    {
     "data": {
      "text/plain": [
       "(1, 2, 3)"
      ]
     },
     "execution_count": 98,
     "metadata": {},
     "output_type": "execute_result"
    }
   ],
   "source": [
    "tuple_1"
   ]
  },
  {
   "cell_type": "code",
   "execution_count": 100,
   "id": "b6d5590b-ad84-4075-878e-9fdd1a2c79b8",
   "metadata": {},
   "outputs": [
    {
     "data": {
      "text/plain": [
       "[100, 2, 3]"
      ]
     },
     "execution_count": 100,
     "metadata": {},
     "output_type": "execute_result"
    }
   ],
   "source": [
    "list_1[0] = 100\n",
    "list_1"
   ]
  },
  {
   "cell_type": "code",
   "execution_count": 102,
   "id": "3ddb6c89-4c46-4577-a19b-0d3d00ee03e9",
   "metadata": {},
   "outputs": [
    {
     "ename": "TypeError",
     "evalue": "'tuple' object does not support item assignment",
     "output_type": "error",
     "traceback": [
      "\u001b[1;31m---------------------------------------------------------------------------\u001b[0m",
      "\u001b[1;31mTypeError\u001b[0m                                 Traceback (most recent call last)",
      "Cell \u001b[1;32mIn[102], line 1\u001b[0m\n\u001b[1;32m----> 1\u001b[0m tuple_1[\u001b[38;5;241m0\u001b[39m] \u001b[38;5;241m=\u001b[39m \u001b[38;5;241m100\u001b[39m\n",
      "\u001b[1;31mTypeError\u001b[0m: 'tuple' object does not support item assignment"
     ]
    }
   ],
   "source": [
    "tuple_1[0] = 100"
   ]
  },
  {
   "cell_type": "code",
   "execution_count": 103,
   "id": "50d60683-7374-4a5e-aa56-2c6a3d92488f",
   "metadata": {},
   "outputs": [
    {
     "data": {
      "text/plain": [
       "[100, 2, 3, 100, 2, 3]"
      ]
     },
     "execution_count": 103,
     "metadata": {},
     "output_type": "execute_result"
    }
   ],
   "source": [
    "list_1 + list_1"
   ]
  },
  {
   "cell_type": "code",
   "execution_count": 104,
   "id": "e308c184-a9a7-4952-aeef-9f9657a2bebb",
   "metadata": {},
   "outputs": [
    {
     "data": {
      "text/plain": [
       "(1, 2, 3, 1, 2, 3)"
      ]
     },
     "execution_count": 104,
     "metadata": {},
     "output_type": "execute_result"
    }
   ],
   "source": [
    "tuple_1 + tuple_1"
   ]
  },
  {
   "cell_type": "code",
   "execution_count": 105,
   "id": "ebcea296-c55d-408d-a36b-126495671fb5",
   "metadata": {},
   "outputs": [],
   "source": [
    "def constDataSet():\n",
    "    a = [1,2,3]\n",
    "    b = [10,20,30]\n",
    "    return (a,b)"
   ]
  },
  {
   "cell_type": "code",
   "execution_count": 106,
   "id": "526b2394-dbcd-4e62-80a4-4e5750b3ce9e",
   "metadata": {},
   "outputs": [
    {
     "data": {
      "text/plain": [
       "([1, 2, 3], [10, 20, 30])"
      ]
     },
     "execution_count": 106,
     "metadata": {},
     "output_type": "execute_result"
    }
   ],
   "source": [
    "result =  constDataSet()\n",
    "result"
   ]
  },
  {
   "cell_type": "code",
   "execution_count": 107,
   "id": "53825553-a855-45c5-acc7-3e1845c1e617",
   "metadata": {},
   "outputs": [
    {
     "ename": "TypeError",
     "evalue": "'tuple' object does not support item assignment",
     "output_type": "error",
     "traceback": [
      "\u001b[1;31m---------------------------------------------------------------------------\u001b[0m",
      "\u001b[1;31mTypeError\u001b[0m                                 Traceback (most recent call last)",
      "Cell \u001b[1;32mIn[107], line 1\u001b[0m\n\u001b[1;32m----> 1\u001b[0m result[\u001b[38;5;241m0\u001b[39m] \u001b[38;5;241m=\u001b[39m [\u001b[38;5;241m5\u001b[39m,\u001b[38;5;241m6\u001b[39m,\u001b[38;5;241m7\u001b[39m]\n",
      "\u001b[1;31mTypeError\u001b[0m: 'tuple' object does not support item assignment"
     ]
    }
   ],
   "source": [
    "result[0] = [5,6,7]"
   ]
  },
  {
   "cell_type": "code",
   "execution_count": 110,
   "id": "264c241a-113a-40a3-938e-244773586bb7",
   "metadata": {},
   "outputs": [],
   "source": [
    "result[0][0]  = 200"
   ]
  },
  {
   "cell_type": "code",
   "execution_count": 111,
   "id": "27a6ae40-1189-4a1c-b722-6b40dd767ea4",
   "metadata": {},
   "outputs": [
    {
     "data": {
      "text/plain": [
       "([200, 2, 3], [10, 20, 30])"
      ]
     },
     "execution_count": 111,
     "metadata": {},
     "output_type": "execute_result"
    }
   ],
   "source": [
    "result"
   ]
  },
  {
   "cell_type": "markdown",
   "id": "b3737cfe-47d4-4225-b578-3c53534d5da4",
   "metadata": {},
   "source": [
    "# SET"
   ]
  },
  {
   "cell_type": "code",
   "execution_count": 113,
   "id": "27974ab8-3e73-4b87-88a8-82f415cb152e",
   "metadata": {},
   "outputs": [
    {
     "data": {
      "text/plain": [
       "{1, 4, 5, 7}"
      ]
     },
     "execution_count": 113,
     "metadata": {},
     "output_type": "execute_result"
    }
   ],
   "source": [
    "# 중복을 허용하지 않는다.. 내부에 중복데이터를 찾아서 제거하는 로직\n",
    "# set에 입력한 데이터는 순서가 보장되지 않는다\n",
    "s = set([1,5,1,4,5,7,4,1,4,7,7,4,1,4,7])\n",
    "s"
   ]
  },
  {
   "cell_type": "code",
   "execution_count": 115,
   "id": "0e7e045a-901d-43a1-a974-4df9d556380e",
   "metadata": {},
   "outputs": [
    {
     "data": {
      "text/plain": [
       "{1, 4, 5, 6, 7}"
      ]
     },
     "execution_count": 115,
     "metadata": {},
     "output_type": "execute_result"
    }
   ],
   "source": [
    "s.add(1)  # 중복이므로 실제 추가는 안됨\n",
    "s.remove(1) #  삭제\n",
    "s.update([1,4,5,6,7]) # 중복되는건 제외\n",
    "s"
   ]
  },
  {
   "cell_type": "code",
   "execution_count": 116,
   "id": "367d60c3-4af8-475b-bd9c-b6fb40ac1ca3",
   "metadata": {},
   "outputs": [
    {
     "data": {
      "text/plain": [
       "set()"
      ]
     },
     "execution_count": 116,
     "metadata": {},
     "output_type": "execute_result"
    }
   ],
   "source": [
    "s.clear()\n",
    "s"
   ]
  },
  {
   "cell_type": "code",
   "execution_count": null,
   "id": "a10dc88f-beb8-428b-a53e-44183262a494",
   "metadata": {},
   "outputs": [],
   "source": []
  },
  {
   "cell_type": "code",
   "execution_count": null,
   "id": "181f0b3b-7124-47d1-8493-8e65336f9e85",
   "metadata": {},
   "outputs": [],
   "source": []
  },
  {
   "cell_type": "markdown",
   "id": "8686dc0f-197a-4b57-b258-f87e4f3bff93",
   "metadata": {},
   "source": [
    "# 교집합 / 합집합 / 차집합 구현 --- SET"
   ]
  },
  {
   "cell_type": "code",
   "execution_count": null,
   "id": "4facded1-ee00-41c3-b310-5c3dd7e468cd",
   "metadata": {},
   "outputs": [],
   "source": []
  }
 ],
 "metadata": {
  "kernelspec": {
   "display_name": "Python 3 (ipykernel)",
   "language": "python",
   "name": "python3"
  },
  "language_info": {
   "codemirror_mode": {
    "name": "ipython",
    "version": 3
   },
   "file_extension": ".py",
   "mimetype": "text/x-python",
   "name": "python",
   "nbconvert_exporter": "python",
   "pygments_lexer": "ipython3",
   "version": "3.10.8"
  }
 },
 "nbformat": 4,
 "nbformat_minor": 5
}
