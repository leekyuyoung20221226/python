{
 "cells": [
  {
   "cell_type": "code",
   "execution_count": 1,
   "id": "c30b2cb3-04ca-46fa-93c9-2d94f44edee3",
   "metadata": {},
   "outputs": [],
   "source": [
    "# 데이터 확보\n",
    "import pandas as pd\n",
    "import numpy as np"
   ]
  },
  {
   "cell_type": "code",
   "execution_count": 16,
   "id": "3184eb1d-6a15-4a7d-bde9-f96cdff974aa",
   "metadata": {
    "tags": []
   },
   "outputs": [],
   "source": [
    "lotto = pd.read_excel('./lotto.xlsx',header=2)"
   ]
  },
  {
   "cell_type": "code",
   "execution_count": 20,
   "id": "d87b0ce0-5ac5-4b48-a96f-7264b0160bba",
   "metadata": {},
   "outputs": [
    {
     "data": {
      "text/html": [
       "<div>\n",
       "<style scoped>\n",
       "    .dataframe tbody tr th:only-of-type {\n",
       "        vertical-align: middle;\n",
       "    }\n",
       "\n",
       "    .dataframe tbody tr th {\n",
       "        vertical-align: top;\n",
       "    }\n",
       "\n",
       "    .dataframe thead th {\n",
       "        text-align: right;\n",
       "    }\n",
       "</style>\n",
       "<table border=\"1\" class=\"dataframe\">\n",
       "  <thead>\n",
       "    <tr style=\"text-align: right;\">\n",
       "      <th></th>\n",
       "      <th>1</th>\n",
       "      <th>2</th>\n",
       "      <th>3</th>\n",
       "      <th>4</th>\n",
       "      <th>5</th>\n",
       "      <th>6</th>\n",
       "    </tr>\n",
       "  </thead>\n",
       "  <tbody>\n",
       "    <tr>\n",
       "      <th>0</th>\n",
       "      <td>14</td>\n",
       "      <td>19</td>\n",
       "      <td>27</td>\n",
       "      <td>28</td>\n",
       "      <td>30</td>\n",
       "      <td>45</td>\n",
       "    </tr>\n",
       "    <tr>\n",
       "      <th>1</th>\n",
       "      <td>22</td>\n",
       "      <td>26</td>\n",
       "      <td>29</td>\n",
       "      <td>30</td>\n",
       "      <td>34</td>\n",
       "      <td>45</td>\n",
       "    </tr>\n",
       "    <tr>\n",
       "      <th>2</th>\n",
       "      <td>5</td>\n",
       "      <td>17</td>\n",
       "      <td>26</td>\n",
       "      <td>27</td>\n",
       "      <td>35</td>\n",
       "      <td>38</td>\n",
       "    </tr>\n",
       "    <tr>\n",
       "      <th>3</th>\n",
       "      <td>21</td>\n",
       "      <td>26</td>\n",
       "      <td>30</td>\n",
       "      <td>32</td>\n",
       "      <td>33</td>\n",
       "      <td>35</td>\n",
       "    </tr>\n",
       "    <tr>\n",
       "      <th>4</th>\n",
       "      <td>6</td>\n",
       "      <td>12</td>\n",
       "      <td>31</td>\n",
       "      <td>35</td>\n",
       "      <td>38</td>\n",
       "      <td>43</td>\n",
       "    </tr>\n",
       "  </tbody>\n",
       "</table>\n",
       "</div>"
      ],
      "text/plain": [
       "    1   2   3   4   5   6\n",
       "0  14  19  27  28  30  45\n",
       "1  22  26  29  30  34  45\n",
       "2   5  17  26  27  35  38\n",
       "3  21  26  30  32  33  35\n",
       "4   6  12  31  35  38  43"
      ]
     },
     "execution_count": 20,
     "metadata": {},
     "output_type": "execute_result"
    }
   ],
   "source": [
    "df = lotto.iloc[:,-7:-1]\n",
    "df.head()"
   ]
  },
  {
   "cell_type": "code",
   "execution_count": 24,
   "id": "bf680271-059d-47ae-95d0-6649d892ab38",
   "metadata": {},
   "outputs": [],
   "source": [
    "y_1 = df[1].to_numpy()\n",
    "y_2 = df[2].to_numpy()\n",
    "y_3 = df[3].to_numpy()\n",
    "y_4 = df[4].to_numpy()\n",
    "y_5 = df[5].to_numpy()\n",
    "y_6 = df[6].to_numpy()"
   ]
  },
  {
   "cell_type": "code",
   "execution_count": 25,
   "id": "541b633d-4345-4571-9701-64f88657aa5b",
   "metadata": {},
   "outputs": [
    {
     "data": {
      "text/plain": [
       "(1054,)"
      ]
     },
     "execution_count": 25,
     "metadata": {},
     "output_type": "execute_result"
    }
   ],
   "source": [
    "y_1.shape"
   ]
  },
  {
   "cell_type": "code",
   "execution_count": 26,
   "id": "ff52ee7c-48dd-4237-985b-37f4c317b75d",
   "metadata": {},
   "outputs": [],
   "source": [
    "from scipy.stats import uniform, randint\n",
    "int_gen = randint(1,47)\n",
    "int_gen.rvs()"
   ]
  },
  {
   "cell_type": "code",
   "execution_count": 35,
   "id": "3011aa5c-b883-4eab-9ae6-025439241cdd",
   "metadata": {},
   "outputs": [
    {
     "data": {
      "text/plain": [
       "(1053, 1)"
      ]
     },
     "execution_count": 35,
     "metadata": {},
     "output_type": "execute_result"
    }
   ],
   "source": [
    "# 독립변수는 회차로 한다..\n",
    "x =  np.arange(1,1054)\n",
    "x = x.reshape(-1,1)\n",
    "x.shape"
   ]
  },
  {
   "cell_type": "code",
   "execution_count": 40,
   "id": "4464e98b-8aa8-4712-9dca-e4899f65bb5a",
   "metadata": {},
   "outputs": [],
   "source": [
    "yy_1 =  y_1[:-1]\n",
    "yy_2 =  y_2[:-1]\n",
    "yy_3 =  y_3[:-1]\n",
    "yy_4 =  y_4[:-1]\n",
    "yy_5 =  y_5[:-1]\n",
    "yy_6 =  y_6[:-1]"
   ]
  },
  {
   "cell_type": "code",
   "execution_count": 41,
   "id": "dc47bc5d-c1cc-4bdc-a0ee-7d939e745d75",
   "metadata": {},
   "outputs": [],
   "source": [
    "import matplotlib.pyplot as plt"
   ]
  },
  {
   "cell_type": "code",
   "execution_count": 46,
   "id": "9526fe33-d48a-4d67-a0c6-15b9a3dc15ba",
   "metadata": {},
   "outputs": [
    {
     "data": {
      "image/png": "[encoded data removed]",
      "text/plain": [
       "<Figure size 640x480 with 1 Axes>"
      ]
     },
     "metadata": {},
     "output_type": "display_data"
    }
   ],
   "source": [
    "plt.scatter(x,yy_1)\n",
    "plt.show()"
   ]
  },
  {
   "cell_type": "code",
   "execution_count": 50,
   "id": "e5e5df82-ec8c-418a-b4f6-2db4cc84bc12",
   "metadata": {},
   "outputs": [
    {
     "data": {
      "text/plain": [
       "array([6.])"
      ]
     },
     "execution_count": 50,
     "metadata": {},
     "output_type": "execute_result"
    }
   ],
   "source": [
    "from sklearn.linear_model import LinearRegression\n",
    "lr = LinearRegression()\n",
    "lr.fit(x,yy_1)\n",
    "np.round(lr.predict([[1054]]))"
   ]
  },
  {
   "cell_type": "code",
   "execution_count": 53,
   "id": "817508c9-adbb-42d3-b3bc-2f7447d7557b",
   "metadata": {},
   "outputs": [
    {
     "data": {
      "text/plain": [
       "array([13.])"
      ]
     },
     "execution_count": 53,
     "metadata": {},
     "output_type": "execute_result"
    }
   ],
   "source": [
    "lr = LinearRegression()\n",
    "lr.fit(x,yy_2)\n",
    "np.round(lr.predict([[1054]]))"
   ]
  },
  {
   "cell_type": "code",
   "execution_count": 56,
   "id": "102a1f1b-b699-437a-a78e-9be01fc6938d",
   "metadata": {},
   "outputs": [],
   "source": [
    "def lotto_linearRegression(y):\n",
    "    lr = LinearRegression()\n",
    "    lr.fit(x,y)\n",
    "    return np.round(lr.predict([[1054]]))"
   ]
  },
  {
   "cell_type": "code",
   "execution_count": 57,
   "id": "06e20768-7212-46a8-9802-23264fe15486",
   "metadata": {},
   "outputs": [
    {
     "data": {
      "text/plain": [
       "[array([6.]),\n",
       " array([13.]),\n",
       " array([20.]),\n",
       " array([26.]),\n",
       " array([33.]),\n",
       " array([39.])]"
      ]
     },
     "execution_count": 57,
     "metadata": {},
     "output_type": "execute_result"
    }
   ],
   "source": [
    "predict_lott = []\n",
    "predict_lott.append(lotto_linearRegression(yy_1))\n",
    "predict_lott.append(lotto_linearRegression(yy_2))\n",
    "predict_lott.append(lotto_linearRegression(yy_3))\n",
    "predict_lott.append(lotto_linearRegression(yy_4))\n",
    "predict_lott.append(lotto_linearRegression(yy_5))\n",
    "predict_lott.append(lotto_linearRegression(yy_6))\n",
    "predict_lott"
   ]
  },
  {
   "cell_type": "code",
   "execution_count": 59,
   "id": "54e6da9c-5b1a-4a0a-9dd6-1852287d74ff",
   "metadata": {},
   "outputs": [
    {
     "data": {
      "text/plain": [
       "[array([6.]),\n",
       " array([13.]),\n",
       " array([20.]),\n",
       " array([26.]),\n",
       " array([33.]),\n",
       " array([39.])]"
      ]
     },
     "execution_count": 59,
     "metadata": {},
     "output_type": "execute_result"
    }
   ],
   "source": []
  },
  {
   "cell_type": "code",
   "execution_count": 131,
   "id": "fd81fd2f-e6cd-4b84-a900-ebeffc097731",
   "metadata": {},
   "outputs": [],
   "source": [
    "# 각회차별 첫번째 데이터는 랜덥하게 학습용데이터를 만들어서 학습하고..\n",
    "# 예측도 랜덤하게 넣어주면  예측\n",
    "from scipy.stats import uniform, randint\n",
    "int_gen = randint(1,47)\n",
    "x_1,x_2,x_3,x_4,x_5,x_6 = [],[],[],[],[],[]\n",
    "for i in range(1053):\n",
    "    x_1.append( int_gen.rvs() )\n",
    "    x_2.append( int_gen.rvs() )\n",
    "    x_3.append( int_gen.rvs() )\n",
    "    x_4.append( int_gen.rvs() )\n",
    "    x_5.append( int_gen.rvs() )\n",
    "    x_6.append( int_gen.rvs() )"
   ]
  },
  {
   "cell_type": "code",
   "execution_count": 132,
   "id": "304b6b03-e526-4be1-8274-a475f6712ccc",
   "metadata": {},
   "outputs": [],
   "source": [
    "x_1 = np.array(x_1).reshape(-1,1)\n",
    "x_2 = np.array(x_2).reshape(-1,1)\n",
    "x_3 = np.array(x_3).reshape(-1,1)\n",
    "x_4 = np.array(x_4).reshape(-1,1)\n",
    "x_5 = np.array(x_5).reshape(-1,1)\n",
    "x_6 = np.array(x_6).reshape(-1,1)"
   ]
  },
  {
   "cell_type": "code",
   "execution_count": 133,
   "id": "c5b825a7-556f-4e75-8c9d-9303ae8e85ab",
   "metadata": {},
   "outputs": [],
   "source": [
    "def model1(x,y):\n",
    "    lr = LinearRegression()\n",
    "    lr.fit(x,y)\n",
    "    # print(int_gen.rvs())\n",
    "    return lr.predict([[1]])"
   ]
  },
  {
   "cell_type": "code",
   "execution_count": 134,
   "id": "0dea07d7-c28e-4b78-9680-8aa4665c857d",
   "metadata": {},
   "outputs": [
    {
     "name": "stdout",
     "output_type": "stream",
     "text": [
      "[7.]\n",
      "[13.]\n",
      "[20.]\n",
      "[27.]\n",
      "[33.]\n",
      "[39.]\n"
     ]
    }
   ],
   "source": [
    "print ( np.round(model1(x_1,yy_1)) )\n",
    "print ( np.round(model1(x_2,yy_2)) )\n",
    "print ( np.round(model1(x_3,yy_3)) )\n",
    "print ( np.round(model1(x_4,yy_4)) )\n",
    "print ( np.round(model1(x_5,yy_5)) )\n",
    "print ( np.round(model1(x_6,yy_6)) )"
   ]
  },
  {
   "cell_type": "code",
   "execution_count": 135,
   "id": "01e609ca-d7b0-45c5-81c1-d14e591cc209",
   "metadata": {},
   "outputs": [
    {
     "data": {
      "text/plain": [
       "<matplotlib.collections.PathCollection at 0x20bb28fb3a0>"
      ]
     },
     "execution_count": 135,
     "metadata": {},
     "output_type": "execute_result"
    },
    {
     "data": {
      "image/png": "[encoded data removed]",
      "text/plain": [
       "<Figure size 640x480 with 1 Axes>"
      ]
     },
     "metadata": {},
     "output_type": "display_data"
    }
   ],
   "source": [
    "plt.scatter(x_1,yy_1)"
   ]
  },
  {
   "cell_type": "code",
   "execution_count": 136,
   "id": "9f7f8577-4bdb-464e-9330-db005dd4ce9e",
   "metadata": {},
   "outputs": [],
   "source": [
    "# 모델 체인지 : \n",
    "from sklearn.neighbors import KNeighborsRegressor"
   ]
  },
  {
   "cell_type": "code",
   "execution_count": 138,
   "id": "d1a59006-10d0-40a5-aaed-4ef71d3bb4ce",
   "metadata": {},
   "outputs": [],
   "source": [
    "knr = KNeighborsRegressor()"
   ]
  },
  {
   "cell_type": "code",
   "execution_count": 191,
   "id": "df21e8fd-12d5-4033-aaf6-96a92fd12922",
   "metadata": {},
   "outputs": [],
   "source": [
    "from scipy.stats import uniform, randint\n",
    "def model2():\n",
    "    int_gen = randint(1,47)\n",
    "    x_1,x_2,x_3,x_4,x_5,x_6 = [],[],[],[],[],[]\n",
    "    for i in range(1053):\n",
    "        x_1.append( int_gen.rvs() )\n",
    "        x_2.append( int_gen.rvs() )\n",
    "        x_3.append( int_gen.rvs() )\n",
    "        x_4.append( int_gen.rvs() )\n",
    "        x_5.append( int_gen.rvs() )\n",
    "        x_6.append( int_gen.rvs() )    \n",
    "    \n",
    "    x_1 = np.array(x_1).reshape(-1,1)\n",
    "    x_2 = np.array(x_2).reshape(-1,1)\n",
    "    x_3 = np.array(x_3).reshape(-1,1)\n",
    "    x_4 = np.array(x_4).reshape(-1,1)\n",
    "    x_5 = np.array(x_5).reshape(-1,1)\n",
    "    x_6 = np.array(x_6).reshape(-1,1)\n",
    "    \n",
    "    x = [x_1,x_2,x_3,x_4,x_5,x_6]\n",
    "    y = [yy_1,yy_2,yy_3,yy_4,yy_5,yy_6]\n",
    "    result = []\n",
    "    for a,b in zip(x,y):\n",
    "        knr = KNeighborsRegressor(n_neighbors=3)\n",
    "        knr.fit(a,b)\n",
    "        # 중복체크\n",
    "        choice = np.round(knr.predict([[int_gen.rvs()]]))[0]\n",
    "        while(True):\n",
    "            if choice not in result:\n",
    "                result.append(choice)\n",
    "                break                  \n",
    "        \n",
    "    return result"
   ]
  },
  {
   "cell_type": "code",
   "execution_count": 192,
   "id": "3d915733-cab4-469b-b734-5ee707ffc5c0",
   "metadata": {},
   "outputs": [
    {
     "name": "stdout",
     "output_type": "stream",
     "text": [
      "[array([2.]), array([10.]), array([19.]), array([23.]), array([38.]), array([41.])]\n"
     ]
    }
   ],
   "source": [
    "print(model2())"
   ]
  },
  {
   "cell_type": "code",
   "execution_count": 164,
   "id": "61abf6ee-ac7c-4be7-aa80-0c3649cf1b9b",
   "metadata": {},
   "outputs": [
    {
     "data": {
      "text/plain": [
       "1    10\n",
       "2    23\n",
       "3    29\n",
       "4    33\n",
       "5    37\n",
       "6    40\n",
       "Name: 1053, dtype: int64"
      ]
     },
     "execution_count": 164,
     "metadata": {},
     "output_type": "execute_result"
    }
   ],
   "source": [
    "df.iloc[-1,:]"
   ]
  },
  {
   "cell_type": "code",
   "execution_count": 193,
   "id": "f1851c41-5a15-493f-98fd-3cc433a82a13",
   "metadata": {},
   "outputs": [],
   "source": [
    "from sklearn.linear_model import SGDRegressor"
   ]
  },
  {
   "cell_type": "code",
   "execution_count": 194,
   "id": "26398dc1-ab7e-4c44-8b6c-8f53358d813d",
   "metadata": {},
   "outputs": [
    {
     "data": {
      "text/html": [
       "<style>#sk-container-id-2 {color: black;background-color: white;}#sk-container-id-2 pre{padding: 0;}#sk-container-id-2 div.sk-toggleable {background-color: white;}#sk-container-id-2 label.sk-toggleable__label {cursor: pointer;display: block;width: 100%;margin-bottom: 0;padding: 0.3em;box-sizing: border-box;text-align: center;}#sk-container-id-2 label.sk-toggleable__label-arrow:before {content: \"▸\";float: left;margin-right: 0.25em;color: #696969;}#sk-container-id-2 label.sk-toggleable__label-arrow:hover:before {color: black;}#sk-container-id-2 div.sk-estimator:hover label.sk-toggleable__label-arrow:before {color: black;}#sk-container-id-2 div.sk-toggleable__content {max-height: 0;max-width: 0;overflow: hidden;text-align: left;background-color: #f0f8ff;}#sk-container-id-2 div.sk-toggleable__content pre {margin: 0.2em;color: black;border-radius: 0.25em;background-color: #f0f8ff;}#sk-container-id-2 input.sk-toggleable__control:checked~div.sk-toggleable__content {max-height: 200px;max-width: 100%;overflow: auto;}#sk-container-id-2 input.sk-toggleable__control:checked~label.sk-toggleable__label-arrow:before {content: \"▾\";}#sk-container-id-2 div.sk-estimator input.sk-toggleable__control:checked~label.sk-toggleable__label {background-color: #d4ebff;}#sk-container-id-2 div.sk-label input.sk-toggleable__control:checked~label.sk-toggleable__label {background-color: #d4ebff;}#sk-container-id-2 input.sk-hidden--visually {border: 0;clip: rect(1px 1px 1px 1px);clip: rect(1px, 1px, 1px, 1px);height: 1px;margin: -1px;overflow: hidden;padding: 0;position: absolute;width: 1px;}#sk-container-id-2 div.sk-estimator {font-family: monospace;background-color: #f0f8ff;border: 1px dotted black;border-radius: 0.25em;box-sizing: border-box;margin-bottom: 0.5em;}#sk-container-id-2 div.sk-estimator:hover {background-color: #d4ebff;}#sk-container-id-2 div.sk-parallel-item::after {content: \"\";width: 100%;border-bottom: 1px solid gray;flex-grow: 1;}#sk-container-id-2 div.sk-label:hover label.sk-toggleable__label {background-color: #d4ebff;}#sk-container-id-2 div.sk-serial::before {content: \"\";position: absolute;border-left: 1px solid gray;box-sizing: border-box;top: 0;bottom: 0;left: 50%;z-index: 0;}#sk-container-id-2 div.sk-serial {display: flex;flex-direction: column;align-items: center;background-color: white;padding-right: 0.2em;padding-left: 0.2em;position: relative;}#sk-container-id-2 div.sk-item {position: relative;z-index: 1;}#sk-container-id-2 div.sk-parallel {display: flex;align-items: stretch;justify-content: center;background-color: white;position: relative;}#sk-container-id-2 div.sk-item::before, #sk-container-id-2 div.sk-parallel-item::before {content: \"\";position: absolute;border-left: 1px solid gray;box-sizing: border-box;top: 0;bottom: 0;left: 50%;z-index: -1;}#sk-container-id-2 div.sk-parallel-item {display: flex;flex-direction: column;z-index: 1;position: relative;background-color: white;}#sk-container-id-2 div.sk-parallel-item:first-child::after {align-self: flex-end;width: 50%;}#sk-container-id-2 div.sk-parallel-item:last-child::after {align-self: flex-start;width: 50%;}#sk-container-id-2 div.sk-parallel-item:only-child::after {width: 0;}#sk-container-id-2 div.sk-dashed-wrapped {border: 1px dashed gray;margin: 0 0.4em 0.5em 0.4em;box-sizing: border-box;padding-bottom: 0.4em;background-color: white;}#sk-container-id-2 div.sk-label label {font-family: monospace;font-weight: bold;display: inline-block;line-height: 1.2em;}#sk-container-id-2 div.sk-label-container {text-align: center;}#sk-container-id-2 div.sk-container {/* jupyter's `normalize.less` sets `[hidden] { display: none; }` but bootstrap.min.css set `[hidden] { display: none !important; }` so we also need the `!important` here to be able to override the default hidden behavior on the sphinx rendered scikit-learn.org. See: https://github.com/scikit-learn/scikit-learn/issues/21755 */display: inline-block !important;position: relative;}#sk-container-id-2 div.sk-text-repr-fallback {display: none;}</style><div id=\"sk-container-id-2\" class=\"sk-top-container\"><div class=\"sk-text-repr-fallback\"><pre>SGDRegressor()</pre><b>In a Jupyter environment, please rerun this cell to show the HTML representation or trust the notebook. <br />On GitHub, the HTML representation is unable to render, please try loading this page with nbviewer.org.</b></div><div class=\"sk-container\" hidden><div class=\"sk-item\"><div class=\"sk-estimator sk-toggleable\"><input class=\"sk-toggleable__control sk-hidden--visually\" id=\"sk-estimator-id-2\" type=\"checkbox\" checked><label for=\"sk-estimator-id-2\" class=\"sk-toggleable__label sk-toggleable__label-arrow\">SGDRegressor</label><div class=\"sk-toggleable__content\"><pre>SGDRegressor()</pre></div></div></div></div></div>"
      ],
      "text/plain": [
       "SGDRegressor()"
      ]
     },
     "execution_count": 194,
     "metadata": {},
     "output_type": "execute_result"
    }
   ],
   "source": [
    "sgdr = SGDRegressor()\n",
    "sgdr.fit(x_1,yy_1)"
   ]
  },
  {
   "cell_type": "code",
   "execution_count": 195,
   "id": "b4756c37-c4c2-492b-9857-6832213f9540",
   "metadata": {},
   "outputs": [
    {
     "data": {
      "text/plain": [
       "array([7.50723701])"
      ]
     },
     "execution_count": 195,
     "metadata": {},
     "output_type": "execute_result"
    }
   ],
   "source": [
    "sgdr.predict([[int_gen.rvs()]])"
   ]
  },
  {
   "cell_type": "code",
   "execution_count": 208,
   "id": "e6c03879-f30e-456a-84ac-210e34ce5e9a",
   "metadata": {},
   "outputs": [],
   "source": [
    "from scipy.stats import uniform, randint\n",
    "def model3():\n",
    "    int_gen = randint(1,47)\n",
    "    x_1,x_2,x_3,x_4,x_5,x_6 = [],[],[],[],[],[]\n",
    "    for i in range(1053):\n",
    "        x_1.append( int_gen.rvs() )\n",
    "        x_2.append( int_gen.rvs() )\n",
    "        x_3.append( int_gen.rvs() )\n",
    "        x_4.append( int_gen.rvs() )\n",
    "        x_5.append( int_gen.rvs() )\n",
    "        x_6.append( int_gen.rvs() )    \n",
    "    \n",
    "    x_1 = np.array(x_1).reshape(-1,1)\n",
    "    x_2 = np.array(x_2).reshape(-1,1)\n",
    "    x_3 = np.array(x_3).reshape(-1,1)\n",
    "    x_4 = np.array(x_4).reshape(-1,1)\n",
    "    x_5 = np.array(x_5).reshape(-1,1)\n",
    "    x_6 = np.array(x_6).reshape(-1,1)\n",
    "    \n",
    "    x = [x_1,x_2,x_3,x_4,x_5,x_6]\n",
    "    y = [yy_1,yy_2,yy_3,yy_4,yy_5,yy_6]\n",
    "    result = []\n",
    "    for a,b in zip(x,y):\n",
    "        sgdr = SGDRegressor()\n",
    "        sgdr.fit(a,b)\n",
    "        # 중복체크\n",
    "        choice = np.round(sgdr.predict([[int_gen.rvs()]]))[0]\n",
    "        while(True):\n",
    "            if choice not in result:\n",
    "                result.append(choice)\n",
    "                break        \n",
    "    return result"
   ]
  },
  {
   "cell_type": "code",
   "execution_count": 209,
   "id": "7074b120-a0a8-4f81-a600-90ee63866cc9",
   "metadata": {},
   "outputs": [
    {
     "name": "stdout",
     "output_type": "stream",
     "text": [
      "[array([7.]), array([19.]), array([23.]), array([27.]), array([34.]), array([44.])]\n",
      "[5.0, 11.0, 20.0, 26.0, 36.0, 40.0]\n"
     ]
    }
   ],
   "source": [
    "print(model2())\n",
    "print(model3())"
   ]
  },
  {
   "cell_type": "code",
   "execution_count": 202,
   "id": "16122d6c-c681-4eed-af7f-68ecac5fe5ec",
   "metadata": {},
   "outputs": [],
   "source": [
    "temp = [10,11,12,13]\n",
    "choice = 11\n",
    "# 1. temp에 choice 변수의 값을 append할때 이미 있으면 choice 변수의 값을 변경해서 넣어준다\n",
    "# 2. set 함수를 이용해서 총 길이가 5개가 되도록 순환문을 돌린다. "
   ]
  },
  {
   "cell_type": "code",
   "execution_count": 211,
   "id": "e8e0444c-7ccf-44de-b851-df321b8a69c6",
   "metadata": {},
   "outputs": [
    {
     "data": {
      "text/plain": [
       "4"
      ]
     },
     "execution_count": 211,
     "metadata": {},
     "output_type": "execute_result"
    }
   ],
   "source": [
    "len(set(temp))"
   ]
  },
  {
   "cell_type": "code",
   "execution_count": null,
   "id": "86b7d4ff-4ece-4499-998e-d8e12bd2f848",
   "metadata": {},
   "outputs": [],
   "source": []
  }
 ],
 "metadata": {
  "kernelspec": {
   "display_name": "Python 3 (ipykernel)",
   "language": "python",
   "name": "python3"
  },
  "language_info": {
   "codemirror_mode": {
    "name": "ipython",
    "version": 3
   },
   "file_extension": ".py",
   "mimetype": "text/x-python",
   "name": "python",
   "nbconvert_exporter": "python",
   "pygments_lexer": "ipython3",
   "version": "3.10.8"
  }
 },
 "nbformat": 4,
 "nbformat_minor": 5
}
