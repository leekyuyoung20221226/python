{
 "cells": [
  {
   "cell_type": "code",
   "execution_count": 1,
   "id": "c30b2cb3-04ca-46fa-93c9-2d94f44edee3",
   "metadata": {},
   "outputs": [],
   "source": [
    "# 데이터 확보\n",
    "import pandas as pd\n",
    "import numpy as np"
   ]
  },
  {
   "cell_type": "code",
   "execution_count": 16,
   "id": "3184eb1d-6a15-4a7d-bde9-f96cdff974aa",
   "metadata": {
    "tags": []
   },
   "outputs": [],
   "source": [
    "lotto = pd.read_excel('./lotto.xlsx',header=2)"
   ]
  },
  {
   "cell_type": "code",
   "execution_count": 20,
   "id": "d87b0ce0-5ac5-4b48-a96f-7264b0160bba",
   "metadata": {},
   "outputs": [
    {
     "data": {
      "text/html": [
       "<div>\n",
       "<style scoped>\n",
       "    .dataframe tbody tr th:only-of-type {\n",
       "        vertical-align: middle;\n",
       "    }\n",
       "\n",
       "    .dataframe tbody tr th {\n",
       "        vertical-align: top;\n",
       "    }\n",
       "\n",
       "    .dataframe thead th {\n",
       "        text-align: right;\n",
       "    }\n",
       "</style>\n",
       "<table border=\"1\" class=\"dataframe\">\n",
       "  <thead>\n",
       "    <tr style=\"text-align: right;\">\n",
       "      <th></th>\n",
       "      <th>1</th>\n",
       "      <th>2</th>\n",
       "      <th>3</th>\n",
       "      <th>4</th>\n",
       "      <th>5</th>\n",
       "      <th>6</th>\n",
       "    </tr>\n",
       "  </thead>\n",
       "  <tbody>\n",
       "    <tr>\n",
       "      <th>0</th>\n",
       "      <td>14</td>\n",
       "      <td>19</td>\n",
       "      <td>27</td>\n",
       "      <td>28</td>\n",
       "      <td>30</td>\n",
       "      <td>45</td>\n",
       "    </tr>\n",
       "    <tr>\n",
       "      <th>1</th>\n",
       "      <td>22</td>\n",
       "      <td>26</td>\n",
       "      <td>29</td>\n",
       "      <td>30</td>\n",
       "      <td>34</td>\n",
       "      <td>45</td>\n",
       "    </tr>\n",
       "    <tr>\n",
       "      <th>2</th>\n",
       "      <td>5</td>\n",
       "      <td>17</td>\n",
       "      <td>26</td>\n",
       "      <td>27</td>\n",
       "      <td>35</td>\n",
       "      <td>38</td>\n",
       "    </tr>\n",
       "    <tr>\n",
       "      <th>3</th>\n",
       "      <td>21</td>\n",
       "      <td>26</td>\n",
       "      <td>30</td>\n",
       "      <td>32</td>\n",
       "      <td>33</td>\n",
       "      <td>35</td>\n",
       "    </tr>\n",
       "    <tr>\n",
       "      <th>4</th>\n",
       "      <td>6</td>\n",
       "      <td>12</td>\n",
       "      <td>31</td>\n",
       "      <td>35</td>\n",
       "      <td>38</td>\n",
       "      <td>43</td>\n",
       "    </tr>\n",
       "  </tbody>\n",
       "</table>\n",
       "</div>"
      ],
      "text/plain": [
       "    1   2   3   4   5   6\n",
       "0  14  19  27  28  30  45\n",
       "1  22  26  29  30  34  45\n",
       "2   5  17  26  27  35  38\n",
       "3  21  26  30  32  33  35\n",
       "4   6  12  31  35  38  43"
      ]
     },
     "execution_count": 20,
     "metadata": {},
     "output_type": "execute_result"
    }
   ],
   "source": [
    "df = lotto.iloc[:,-7:-1]\n",
    "df.head()"
   ]
  },
  {
   "cell_type": "code",
   "execution_count": 24,
   "id": "bf680271-059d-47ae-95d0-6649d892ab38",
   "metadata": {},
   "outputs": [],
   "source": [
    "y_1 = df[1].to_numpy()\n",
    "y_2 = df[2].to_numpy()\n",
    "y_3 = df[3].to_numpy()\n",
    "y_4 = df[4].to_numpy()\n",
    "y_5 = df[5].to_numpy()\n",
    "y_6 = df[6].to_numpy()"
   ]
  },
  {
   "cell_type": "code",
   "execution_count": 25,
   "id": "541b633d-4345-4571-9701-64f88657aa5b",
   "metadata": {},
   "outputs": [
    {
     "data": {
      "text/plain": [
       "(1054,)"
      ]
     },
     "execution_count": 25,
     "metadata": {},
     "output_type": "execute_result"
    }
   ],
   "source": [
    "y_1.shape"
   ]
  },
  {
   "cell_type": "code",
   "execution_count": 26,
   "id": "ff52ee7c-48dd-4237-985b-37f4c317b75d",
   "metadata": {},
   "outputs": [],
   "source": [
    "from scipy.stats import uniform, randint\n",
    "int_gen = randint(1,47)\n",
    "int_gen.rvs()"
   ]
  },
  {
   "cell_type": "code",
   "execution_count": 35,
   "id": "3011aa5c-b883-4eab-9ae6-025439241cdd",
   "metadata": {},
   "outputs": [
    {
     "data": {
      "text/plain": [
       "(1053, 1)"
      ]
     },
     "execution_count": 35,
     "metadata": {},
     "output_type": "execute_result"
    }
   ],
   "source": [
    "# 독립변수는 회차로 한다..\n",
    "x =  np.arange(1,1054)\n",
    "x = x.reshape(-1,1)\n",
    "x.shape"
   ]
  },
  {
   "cell_type": "code",
   "execution_count": 40,
   "id": "4464e98b-8aa8-4712-9dca-e4899f65bb5a",
   "metadata": {},
   "outputs": [],
   "source": [
    "yy_1 =  y_1[:-1]\n",
    "yy_2 =  y_2[:-1]\n",
    "yy_3 =  y_3[:-1]\n",
    "yy_4 =  y_4[:-1]\n",
    "yy_5 =  y_5[:-1]\n",
    "yy_6 =  y_6[:-1]"
   ]
  },
  {
   "cell_type": "code",
   "execution_count": 41,
   "id": "dc47bc5d-c1cc-4bdc-a0ee-7d939e745d75",
   "metadata": {},
   "outputs": [],
   "source": [
    "import matplotlib.pyplot as plt"
   ]
  },
  {
   "cell_type": "code",
   "execution_count": 46,
   "id": "9526fe33-d48a-4d67-a0c6-15b9a3dc15ba",
   "metadata": {},
   "outputs": [
    {
     "data": {
      "image/png": "[encoded data removed]",
      "text/plain": [
       "<Figure size 640x480 with 1 Axes>"
      ]
     },
     "metadata": {},
     "output_type": "display_data"
    }
   ],
   "source": [
    "plt.scatter(x,yy_1)\n",
    "plt.show()"
   ]
  },
  {
   "cell_type": "code",
   "execution_count": 50,
   "id": "e5e5df82-ec8c-418a-b4f6-2db4cc84bc12",
   "metadata": {},
   "outputs": [
    {
     "data": {
      "text/plain": [
       "array([6.])"
      ]
     },
     "execution_count": 50,
     "metadata": {},
     "output_type": "execute_result"
    }
   ],
   "source": [
    "from sklearn.linear_model import LinearRegression\n",
    "lr = LinearRegression()\n",
    "lr.fit(x,yy_1)\n",
    "np.round(lr.predict([[1054]]))"
   ]
  },
  {
   "cell_type": "code",
   "execution_count": 53,
   "id": "817508c9-adbb-42d3-b3bc-2f7447d7557b",
   "metadata": {},
   "outputs": [
    {
     "data": {
      "text/plain": [
       "array([13.])"
      ]
     },
     "execution_count": 53,
     "metadata": {},
     "output_type": "execute_result"
    }
   ],
   "source": [
    "lr = LinearRegression()\n",
    "lr.fit(x,yy_2)\n",
    "np.round(lr.predict([[1054]]))"
   ]
  },
  {
   "cell_type": "code",
   "execution_count": 56,
   "id": "102a1f1b-b699-437a-a78e-9be01fc6938d",
   "metadata": {},
   "outputs": [],
   "source": [
    "def lotto_linearRegression(y):\n",
    "    lr = LinearRegression()\n",
    "    lr.fit(x,y)\n",
    "    return np.round(lr.predict([[1054]]))"
   ]
  },
  {
   "cell_type": "code",
   "execution_count": 57,
   "id": "06e20768-7212-46a8-9802-23264fe15486",
   "metadata": {},
   "outputs": [
    {
     "data": {
      "text/plain": [
       "[array([6.]),\n",
       " array([13.]),\n",
       " array([20.]),\n",
       " array([26.]),\n",
       " array([33.]),\n",
       " array([39.])]"
      ]
     },
     "execution_count": 57,
     "metadata": {},
     "output_type": "execute_result"
    }
   ],
   "source": [
    "predict_lott = []\n",
    "predict_lott.append(lotto_linearRegression(yy_1))\n",
    "predict_lott.append(lotto_linearRegression(yy_2))\n",
    "predict_lott.append(lotto_linearRegression(yy_3))\n",
    "predict_lott.append(lotto_linearRegression(yy_4))\n",
    "predict_lott.append(lotto_linearRegression(yy_5))\n",
    "predict_lott.append(lotto_linearRegression(yy_6))\n",
    "predict_lott"
   ]
  },
  {
   "cell_type": "code",
   "execution_count": 59,
   "id": "54e6da9c-5b1a-4a0a-9dd6-1852287d74ff",
   "metadata": {},
   "outputs": [
    {
     "data": {
      "text/plain": [
       "[array([6.]),\n",
       " array([13.]),\n",
       " array([20.]),\n",
       " array([26.]),\n",
       " array([33.]),\n",
       " array([39.])]"
      ]
     },
     "execution_count": 59,
     "metadata": {},
     "output_type": "execute_result"
    }
   ],
   "source": []
  },
  {
   "cell_type": "code",
   "execution_count": 64,
   "id": "fd81fd2f-e6cd-4b84-a900-ebeffc097731",
   "metadata": {},
   "outputs": [],
   "source": [
    "# 각회차별 첫번째 데이터는 랜덥하게 학습용데이터를 만들어서 학습하고..\n",
    "# 예측도 랜덤하게 넣어주면  예측\n",
    "from scipy.stats import uniform, randint\n",
    "int_gen = randint(1,47)\n",
    "x_1,x_2,x_3,x_4,x_5,x_6 = [],[],[],[],[],[]\n",
    "for i in range(1053):\n",
    "    x_1.append( int_gen.rvs() )\n",
    "    x_2.append( int_gen.rvs() )\n",
    "    x_3.append( int_gen.rvs() )\n",
    "    x_4.append( int_gen.rvs() )\n",
    "    x_5.append( int_gen.rvs() )\n",
    "    x_6.append( int_gen.rvs() )"
   ]
  },
  {
   "cell_type": "code",
   "execution_count": 65,
   "id": "304b6b03-e526-4be1-8274-a475f6712ccc",
   "metadata": {},
   "outputs": [],
   "source": [
    "x_1 = np.array(x_1).reshape(-1,1)\n",
    "x_2 = np.array(x_2).reshape(-1,1)\n",
    "x_3 = np.array(x_3).reshape(-1,1)\n",
    "x_4 = np.array(x_4).reshape(-1,1)\n",
    "x_5 = np.array(x_5).reshape(-1,1)\n",
    "x_6 = np.array(x_6).reshape(-1,1)"
   ]
  },
  {
   "cell_type": "code",
   "execution_count": 72,
   "id": "c5b825a7-556f-4e75-8c9d-9303ae8e85ab",
   "metadata": {},
   "outputs": [],
   "source": [
    "def model1(x,y):\n",
    "    lr = LinearRegression()\n",
    "    lr.fit(x,y)\n",
    "    return lr.predict([[int_gen.rvs()]])"
   ]
  },
  {
   "cell_type": "code",
   "execution_count": 73,
   "id": "0dea07d7-c28e-4b78-9680-8aa4665c857d",
   "metadata": {},
   "outputs": [
    {
     "data": {
      "text/plain": [
       "((1053, 1), (1053,))"
      ]
     },
     "execution_count": 73,
     "metadata": {},
     "output_type": "execute_result"
    }
   ],
   "source": [
    "model1"
   ]
  },
  {
   "cell_type": "code",
   "execution_count": 71,
   "id": "01e609ca-d7b0-45c5-81c1-d14e591cc209",
   "metadata": {},
   "outputs": [
    {
     "data": {
      "text/plain": [
       "36"
      ]
     },
     "execution_count": 71,
     "metadata": {},
     "output_type": "execute_result"
    }
   ],
   "source": [
    "int_gen.rvs()"
   ]
  },
  {
   "cell_type": "code",
   "execution_count": null,
   "id": "9f7f8577-4bdb-464e-9330-db005dd4ce9e",
   "metadata": {},
   "outputs": [],
   "source": []
  }
 ],
 "metadata": {
  "kernelspec": {
   "display_name": "Python 3 (ipykernel)",
   "language": "python",
   "name": "python3"
  },
  "language_info": {
   "codemirror_mode": {
    "name": "ipython",
    "version": 3
   },
   "file_extension": ".py",
   "mimetype": "text/x-python",
   "name": "python",
   "nbconvert_exporter": "python",
   "pygments_lexer": "ipython3",
   "version": "3.10.8"
  }
 },
 "nbformat": 4,
 "nbformat_minor": 5
}
