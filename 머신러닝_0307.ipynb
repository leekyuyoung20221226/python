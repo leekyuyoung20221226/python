{
  "nbformat": 4,
  "nbformat_minor": 0,
  "metadata": {
    "colab": {
      "provenance": []
    },
    "kernelspec": {
      "name": "python3",
      "display_name": "Python 3"
    },
    "language_info": {
      "name": "python"
    }
  },
  "cells": [
    {
      "cell_type": "markdown",
      "source": [
        "아달린 : 퍼셉트론과 비슷하지만... 비용함수가 존재  학습을 배치단위로 하면서 가중치를 업데이트 한다.\n",
        "\n",
        "이전시간에 만든 퍼셉트론에서 fit메서드만 바꿔서 경사하강법으로 비용함수가 최소가 되로고 가중치를 업데이트"
      ],
      "metadata": {
        "id": "m7oZdGaMjSPL"
      }
    },
    {
      "cell_type": "code",
      "source": [
        "import numpy as np\n",
        "import pandas as pd\n",
        "import matplotlib.pyplot as plt\n",
        "import seaborn as sns\n",
        "import tensorflow as tf"
      ],
      "metadata": {
        "id": "Ehcr2mzzrZak"
      },
      "execution_count": 3,
      "outputs": []
    },
    {
      "cell_type": "code",
      "source": [
        "class AdalineGD(object):\n",
        "  ''' 아달린\n",
        "  parameter : \n",
        "    eta : float (0.0~1.0)  학습률\n",
        "    n_iter : int  반복훈련 횟수\n",
        "    random_sate : int 랜덤시드값\n",
        "    w_ : 가중치(학습)\n",
        "    cost_ : list  에포크마다 누적된 비용함수의 제곱합\n",
        "  '''\n",
        "  def __init__(self,eta=0.01, n_iter=50, random_state = 1) -> None:\n",
        "    self.eta = eta\n",
        "    self.n_iter = n_iter\n",
        "    self.random_state = random_state\n",
        "  def fit(self, x,y):\n",
        "    ''' 훈련함수\n",
        "      x : array, shape = (samples, features )\n",
        "      y : array, shape = (samples )      \n",
        "    '''\n",
        "    rgen = np.random.RandomState(self.random_state)\n",
        "    self.w_ =  rgen.normal(loc=0.0, scale=0.01,size=1+x.shape[1])\n",
        "    self.cost_ = []\n",
        "    for i in range(self.n_iter):\n",
        "      pass\n",
        "  \n"
      ],
      "metadata": {
        "id": "6b7v9oAwnmeU"
      },
      "execution_count": 2,
      "outputs": []
    },
    {
      "cell_type": "code",
      "source": [],
      "metadata": {
        "id": "wi26jTtln_xS"
      },
      "execution_count": null,
      "outputs": []
    }
  ]
}