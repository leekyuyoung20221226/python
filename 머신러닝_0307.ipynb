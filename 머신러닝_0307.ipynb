{
  "nbformat": 4,
  "nbformat_minor": 0,
  "metadata": {
    "colab": {
      "provenance": []
    },
    "kernelspec": {
      "name": "python3",
      "display_name": "Python 3"
    },
    "language_info": {
      "name": "python"
    }
  },
  "cells": [
    {
      "cell_type": "markdown",
      "source": [
        "아달린 : 퍼셉트론과 비슷하지만... 비용함수가 존재  학습을 배치단위로 하면서 가중치를 업데이트 한다.\n",
        "\n",
        "이전시간에 만든 퍼셉트론에서 fit메서드만 바꿔서 경사하강법으로 비용함수가 최소가 되로고 가중치를 업데이트"
      ],
      "metadata": {
        "id": "m7oZdGaMjSPL"
      }
    },
    {
      "cell_type": "code",
      "source": [
        "import numpy as np\n",
        "import pandas as pd\n",
        "import matplotlib.pyplot as plt\n",
        "import seaborn as sns\n",
        "import tensorflow as tf"
      ],
      "metadata": {
        "id": "Ehcr2mzzrZak"
      },
      "execution_count": 3,
      "outputs": []
    },
    {
      "cell_type": "code",
      "source": [
        "class AdalineGD(object):\n",
        "  ''' 아달린\n",
        "  parameter : \n",
        "    eta : float (0.0~1.0)  학습률\n",
        "    n_iter : int  반복훈련 횟수\n",
        "    random_sate : int 랜덤시드값\n",
        "    w_ : 가중치(학습)\n",
        "    cost_ : list  에포크마다 누적된 비용함수의 제곱합\n",
        "  '''\n",
        "  def __init__(self,eta=0.01, n_iter=50, random_state = 1) -> None:\n",
        "    self.eta = eta\n",
        "    self.n_iter = n_iter\n",
        "    self.random_state = random_state\n",
        "  def fit(self, x,y):\n",
        "    ''' 훈련함수\n",
        "      x : array, shape = (samples, features )\n",
        "      y : array, shape = (samples )      \n",
        "    '''\n",
        "    rgen = np.random.RandomState(self.random_state)\n",
        "    self.w_ =  rgen.normal(loc=0.0, scale=0.01,size=1+x.shape[1])\n",
        "    self.cost_ = []\n",
        "    for i in range(self.n_iter):\n",
        "      net_input = self.net_input(x);\n",
        "      output = self.activation(net_input);\n",
        "      errors = (y - output)\n",
        "      # x 행렬, erros 벡터\n",
        "      # 행렬-벡터 곱셈  x.T.dot(erros)\n",
        "      self.w_[1:] += self.eta*x.T.dot(errors)\n",
        "      self.w_[0] += self.eta*errors.sum()\n",
        "      cost = (errors**2).sum() / 2.0\n",
        "      self.cost_.append(cost)\n",
        "    return self\n",
        "\n",
        "  def net_input(self, x):\n",
        "    '''최종입력 함수'''\n",
        "    return np.dot(x, self.w_[1:]) + self.w_[0]\n",
        "  def activation(self, x):\n",
        "    '''선형 활성화 계산\n",
        "    단순 항등 함수이기때문에 아무런 영향을 미치지 않음\n",
        "    '''\n",
        "    return x\n",
        "  def predict(self, x):\n",
        "    ''' 단위 계단함수를 사용해서 클래스 레이블을 반환'''\n",
        "    return np.where(self.activation(self.net_input(x)) >=0.0, 1, -1  )\n",
        "  \n"
      ],
      "metadata": {
        "id": "6b7v9oAwnmeU"
      },
      "execution_count": 9,
      "outputs": []
    },
    {
      "cell_type": "code",
      "source": [
        "# eta 0.1  / 0.0001"
      ],
      "metadata": {
        "id": "wi26jTtln_xS"
      },
      "execution_count": 4,
      "outputs": []
    },
    {
      "cell_type": "code",
      "source": [
        "s = 'https://archive.ics.uci.edu/ml/machine-learning-databases/iris/iris.data'\n",
        "df =  pd.read_csv(s,header=None)\n",
        "df = df.iloc[:100]\n",
        "x = df.iloc[:,[0,2]]\n",
        "y = df.iloc[:,-1]\n",
        "y[:50] = -1\n",
        "y[50:] = 1\n",
        "y = y.astype(int)\n",
        "x = x.to_numpy()\n",
        "y = y.to_numpy()"
      ],
      "metadata": {
        "id": "gJG3GtMU02ip"
      },
      "execution_count": null,
      "outputs": []
    },
    {
      "cell_type": "code",
      "source": [
        "ada1 = AdalineGD(eta = 0.01, n_iter = 10).fit(x , y)\n",
        "ada2 = AdalineGD(eta = 0.0001, n_iter = 10).fit(x, y)"
      ],
      "metadata": {
        "id": "86mlAXws0DCK"
      },
      "execution_count": 31,
      "outputs": []
    },
    {
      "cell_type": "code",
      "source": [
        "fig, ax = plt.subplots(1,2,figsize = (10,4))\n",
        "ax[0].plot(range(1, len(ada1.cost_)+1), np.log10(ada1.cost_), marker='o')\n",
        "ax[0].set_xlabel(\"Epochs\")\n",
        "ax[0].set_ylabel(\"sum squared error\")\n",
        "ax[0].set_title('Adaline- lr 0.01')\n",
        "\n",
        "ax[1].plot(range(1, len(ada2.cost_)+1), ada2.cost_, marker='o')\n",
        "ax[1].set_xlabel(\"Epochs\")\n",
        "ax[1].set_ylabel(\"sum squared error\")\n",
        "ax[1].set_title('Adaline- lr 0.0001')\n",
        "plt.show()"
      ],
      "metadata": {
        "colab": {
          "base_uri": "https://localhost:8080/",
          "height": 295
        },
        "id": "_mcyZd201ycn",
        "outputId": "af18c7f2-8b4c-433a-a748-83716339a01c"
      },
      "execution_count": 32,
      "outputs": [
        {
          "output_type": "display_data",
          "data": {
            "text/plain": [
              "<Figure size 720x288 with 2 Axes>"
            ],
            "image/png": "[encoded data removed]"
          },
          "metadata": {
            "needs_background": "light"
          }
        }
      ]
    },
    {
      "cell_type": "markdown",
      "source": [
        "표준화  (각원소 - 평균) / 표준편차"
      ],
      "metadata": {
        "id": "rEHZaQOa8con"
      }
    },
    {
      "cell_type": "code",
      "source": [
        "x_std = np.copy(x)\n",
        "x_std[:, 0] = (x[:,0] - x[:,0].mean() ) / x[:,0].std()\n",
        "x_std[:, 1] = (x[:,1] - x[:,1].mean() ) / x[:,1].std()"
      ],
      "metadata": {
        "id": "LsWNLLoQ5zK3"
      },
      "execution_count": 30,
      "outputs": []
    },
    {
      "cell_type": "code",
      "source": [
        "ada = AdalineGD(eta=0.01,n_iter=20).fit(x_std, y)"
      ],
      "metadata": {
        "id": "ZV3mcPrx8osn"
      },
      "execution_count": 39,
      "outputs": []
    },
    {
      "cell_type": "code",
      "source": [
        "plt.plot(range(1, len(ada.cost_)+1), np.log10(ada.cost_), marker='o')\n",
        "plt.xlabel(\"Epochs\")\n",
        "plt.ylabel(\"sum squared error\")\n",
        "plt.title('Adaline- lr 0.01  sacaled')\n",
        "plt.show()"
      ],
      "metadata": {
        "colab": {
          "base_uri": "https://localhost:8080/",
          "height": 295
        },
        "id": "9JtN745o-VCe",
        "outputId": "58019344-6941-4ebd-c67a-36c456a75eb8"
      },
      "execution_count": 40,
      "outputs": [
        {
          "output_type": "display_data",
          "data": {
            "text/plain": [
              "<Figure size 432x288 with 1 Axes>"
            ],
            "image/png": "[encoded data removed]"
          },
          "metadata": {
            "needs_background": "light"
          }
        }
      ]
    },
    {
      "cell_type": "code",
      "source": [],
      "metadata": {
        "id": "I3GFVpck-tKm"
      },
      "execution_count": null,
      "outputs": []
    }
  ]
}