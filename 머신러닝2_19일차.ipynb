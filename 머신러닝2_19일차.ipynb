{
 "cells": [
  {
   "cell_type": "markdown",
   "id": "4a55a380-2064-4223-865b-c59b1ccd2419",
   "metadata": {},
   "source": [
    "### 정형데이터 - 우리가 지금까지 다룬 데이터  숫자로 되어 있는 계산할수 있는 데이터\n",
    "### 비정형데이터 - 이미지, 사운드, 텍스트\n",
    "### 정형데이터를 가지고 가장뛰어난 성능을내는 머신러닝 알고리즘 : 앙상블..\n",
    "### 랜덤 포레스트 : 앙상블의 대표주자\n",
    "### tree : random data - \n",
    "    부트스트랩 샘플 : 데이터세트에서 한개씩 랜덤하게 선택해서 훈련데이터셋을 만드는데. 중복이 될수 있고\n",
    "    훈련세트는 데이터세트와 같게 만든다.. "
   ]
  },
  {
   "cell_type": "code",
   "execution_count": 1,
   "id": "7447f3d5-2ac7-4483-baea-9ceda7bd9a41",
   "metadata": {},
   "outputs": [],
   "source": [
    "import numpy as np\n",
    "import pandas as pd\n",
    "from sklearn.model_selection import train_test_split"
   ]
  },
  {
   "cell_type": "code",
   "execution_count": 4,
   "id": "9af92263-7d8a-40c7-9467-79be7acab7e7",
   "metadata": {},
   "outputs": [
    {
     "data": {
      "text/html": [
       "<div>\n",
       "<style scoped>\n",
       "    .dataframe tbody tr th:only-of-type {\n",
       "        vertical-align: middle;\n",
       "    }\n",
       "\n",
       "    .dataframe tbody tr th {\n",
       "        vertical-align: top;\n",
       "    }\n",
       "\n",
       "    .dataframe thead th {\n",
       "        text-align: right;\n",
       "    }\n",
       "</style>\n",
       "<table border=\"1\" class=\"dataframe\">\n",
       "  <thead>\n",
       "    <tr style=\"text-align: right;\">\n",
       "      <th></th>\n",
       "      <th>alcohol</th>\n",
       "      <th>sugar</th>\n",
       "      <th>pH</th>\n",
       "      <th>class</th>\n",
       "    </tr>\n",
       "  </thead>\n",
       "  <tbody>\n",
       "    <tr>\n",
       "      <th>0</th>\n",
       "      <td>9.4</td>\n",
       "      <td>1.9</td>\n",
       "      <td>3.51</td>\n",
       "      <td>0.0</td>\n",
       "    </tr>\n",
       "  </tbody>\n",
       "</table>\n",
       "</div>"
      ],
      "text/plain": [
       "   alcohol  sugar    pH  class\n",
       "0      9.4    1.9  3.51    0.0"
      ]
     },
     "execution_count": 4,
     "metadata": {},
     "output_type": "execute_result"
    }
   ],
   "source": [
    "url = 'https://raw.githubusercontent.com/leekyuyoung20221226/python/main/data/wine_data'\n",
    "wine = pd.read_csv(url)\n",
    "wine.head(1)"
   ]
  },
  {
   "cell_type": "code",
   "execution_count": 5,
   "id": "dbbda57c-c7b0-4e27-a210-142bef9f93d0",
   "metadata": {},
   "outputs": [],
   "source": [
    "X = wine.iloc[:,:-1].to_numpy()\n",
    "Y = wine.iloc[:,-1].to_numpy()"
   ]
  },
  {
   "cell_type": "code",
   "execution_count": 8,
   "id": "6652d4e3-1052-4755-9444-59f687d1cd98",
   "metadata": {},
   "outputs": [
    {
     "data": {
      "text/plain": [
       "((6497, 3), (6497,))"
      ]
     },
     "execution_count": 8,
     "metadata": {},
     "output_type": "execute_result"
    }
   ],
   "source": [
    "X.shape, Y.shape"
   ]
  },
  {
   "cell_type": "code",
   "execution_count": 9,
   "id": "3495bf69-f821-40a6-b490-79046e7a4ddd",
   "metadata": {},
   "outputs": [],
   "source": [
    "x_train,x_test,y_train,y_test = train_test_split(X,Y,test_size=0.2,random_state=0)"
   ]
  },
  {
   "cell_type": "code",
   "execution_count": 10,
   "id": "540f2750-a9f2-4247-a287-32d4986897dd",
   "metadata": {},
   "outputs": [],
   "source": [
    "from sklearn.model_selection import cross_validate\n",
    "from sklearn.ensemble import RandomForestClassifier\n",
    "rf = RandomForestClassifier(n_jobs=-1,random_state=0)"
   ]
  },
  {
   "cell_type": "code",
   "execution_count": 13,
   "id": "3c055a3b-d487-4ba5-bfac-0a72332bf332",
   "metadata": {},
   "outputs": [],
   "source": [
    "scores =  cross_validate(rf,x_train,y_train,return_train_score=True)"
   ]
  },
  {
   "cell_type": "code",
   "execution_count": 14,
   "id": "000ecb81-21ee-4e9d-98f4-39733631245a",
   "metadata": {},
   "outputs": [
    {
     "data": {
      "text/plain": [
       "{'fit_time': array([0.15558386, 0.14162064, 0.12965322, 0.12666178, 0.14461327]),\n",
       " 'score_time': array([0.02592897, 0.02293825, 0.02194166, 0.0209434 , 0.0269289 ]),\n",
       " 'test_score': array([0.88269231, 0.86826923, 0.88739172, 0.89027911, 0.88931665]),\n",
       " 'train_score': array([0.99807554, 0.99831609, 0.9973545 , 0.9973545 , 0.9978355 ])}"
      ]
     },
     "execution_count": 14,
     "metadata": {},
     "output_type": "execute_result"
    }
   ],
   "source": [
    "scores"
   ]
  },
  {
   "cell_type": "code",
   "execution_count": 15,
   "id": "ca910156-7904-4a28-a3fb-f3dd96174aca",
   "metadata": {},
   "outputs": [
    {
     "data": {
      "text/plain": [
       "(0.9977872242245589, 0.883589805286148)"
      ]
     },
     "execution_count": 15,
     "metadata": {},
     "output_type": "execute_result"
    }
   ],
   "source": [
    "np.mean(scores['train_score']), np.mean(scores['test_score'])"
   ]
  },
  {
   "cell_type": "code",
   "execution_count": 18,
   "id": "16641df0-8797-4c31-8994-65a08d007ace",
   "metadata": {},
   "outputs": [
    {
     "data": {
      "text/plain": [
       "(array([0.23029487, 0.5028204 , 0.26688473]),\n",
       " Index(['alcohol', 'sugar', 'pH'], dtype='object'))"
      ]
     },
     "execution_count": 18,
     "metadata": {},
     "output_type": "execute_result"
    }
   ],
   "source": [
    "# 특성 중요도\n",
    "rf.fit(x_train,y_train)\n",
    "rf.feature_importances_, wine.columns[:-1]"
   ]
  },
  {
   "cell_type": "code",
   "execution_count": 19,
   "id": "042d6956-af23-4ace-98cf-f02b57d78ef7",
   "metadata": {},
   "outputs": [
    {
     "data": {
      "text/plain": [
       "0.8926303636713488"
      ]
     },
     "execution_count": 19,
     "metadata": {},
     "output_type": "execute_result"
    }
   ],
   "source": [
    "# 랜덤포레스트 VS 디시전 트리\n",
    "# 랜덤하게 피처(특성,컬럼)를 선택하기때문에.. 한쪽에 쏠리는 현상을 방지한다... 좀더 많은 특성에 기회를 부여\n",
    "# 자체적으로 모델을 평가하는 기능 -- 중복을 허용해서 부트스트랩 샘플을 만들면 남는 샘플이 있음  OOB(out of bag)\n",
    "rf = RandomForestClassifier(n_jobs=-1,random_state=0, oob_score=True)\n",
    "rf.fit(x_train,y_train)\n",
    "rf.oob_score_"
   ]
  },
  {
   "cell_type": "code",
   "execution_count": 20,
   "id": "68329b03-1dfc-4cb2-ab5d-7c09858c66cc",
   "metadata": {},
   "outputs": [],
   "source": [
    "# --> 교차검증을 대신 할수 있음"
   ]
  },
  {
   "cell_type": "markdown",
   "id": "59d23314-cd36-4f34-8fdf-3e0730d86abf",
   "metadata": {},
   "source": [
    "# 엑스트라 트리 \n",
    "    100개의 트리를 훈련\n",
    "    전체특징중에 일부를 랜덤하게 선택해서 노드를 분할하는데 사용\n",
    "    부트스트랩 샘플을 사용하지 않는다 - 전체 데이터를 사용, 노드분할을 할때 무작위(최적의 노드를 찾는게 아니라)\n",
    "    특성을 무작위로 분할... 성능은 낮아지지만.. 과적합을 예방할수 있음"
   ]
  },
  {
   "cell_type": "code",
   "execution_count": 21,
   "id": "548518bf-7c84-435d-88ca-ea507174dc6e",
   "metadata": {},
   "outputs": [
    {
     "data": {
      "text/plain": [
       "(0.9978834474624707, 0.880317428000296)"
      ]
     },
     "execution_count": 21,
     "metadata": {},
     "output_type": "execute_result"
    }
   ],
   "source": [
    "from sklearn.ensemble import ExtraTreesClassifier\n",
    "et = ExtraTreesClassifier(n_jobs=-1, random_state=0)\n",
    "scores = cross_validate(et,x_train,y_train,return_train_score=True)\n",
    "np.mean(scores['train_score']),np.mean(scores['test_score'])"
   ]
  },
  {
   "cell_type": "code",
   "execution_count": 22,
   "id": "50b8398a-0299-4969-a1a9-7f00bf39e64c",
   "metadata": {},
   "outputs": [
    {
     "data": {
      "text/plain": [
       "array([0.20298962, 0.51938012, 0.27763026])"
      ]
     },
     "execution_count": 22,
     "metadata": {},
     "output_type": "execute_result"
    }
   ],
   "source": [
    "# 랜덤포레스트와 결과가 비슷 why?  특성이 별로 없어서... 3\n",
    "# 수행속도가 빠르다.\n",
    "et.fit(x_train,y_train)\n",
    "et.feature_importances_"
   ]
  },
  {
   "cell_type": "markdown",
   "id": "2030e2cb-2652-4dce-834e-6379342630be",
   "metadata": {},
   "source": [
    "# 그레이던트 부스팅\n",
    "    숲을 이루는 결정트리를 만들때.. 깊이가 얖은 트리를 사용\n",
    "    기본이 깊이가 3인 트리 100개를 사용\n",
    "    과적합에 강하다.\n",
    "    경사하강법이 사용되었고..\n",
    "    분류 : 로지스틱 손실 함수(시그모이드) -- 확률로 변경하기위해서.. \n",
    "    회귀 : 평균 제곱 오차"
   ]
  },
  {
   "cell_type": "code",
   "execution_count": 24,
   "id": "a723ec87-5523-46fe-916e-7b773c40e744",
   "metadata": {},
   "outputs": [
    {
     "data": {
      "text/plain": [
       "(0.880123155562174, 0.8656909380321315)"
      ]
     },
     "execution_count": 24,
     "metadata": {},
     "output_type": "execute_result"
    }
   ],
   "source": [
    "from sklearn.ensemble import GradientBoostingClassifier\n",
    "gbc =  GradientBoostingClassifier()\n",
    "scores = cross_validate(gbc,x_train,y_train,return_train_score=True, n_jobs=-1)\n",
    "np.mean(scores['train_score']), np.mean(scores['test_score'])"
   ]
  },
  {
   "cell_type": "code",
   "execution_count": 26,
   "id": "2f6e747d-7aec-4d94-b8fd-21ff90f983b1",
   "metadata": {},
   "outputs": [
    {
     "data": {
      "text/plain": [
       "(0.9385222836750382, 0.8708875027763382)"
      ]
     },
     "execution_count": 26,
     "metadata": {},
     "output_type": "execute_result"
    }
   ],
   "source": [
    "gbc = GradientBoostingClassifier(n_estimators=500,learning_rate=0.2,random_state=0)\n",
    "scores = cross_validate(gbc,x_train,y_train,return_train_score=True, n_jobs=-1)\n",
    "np.mean(scores['train_score']), np.mean(scores['test_score'])"
   ]
  },
  {
   "cell_type": "code",
   "execution_count": 27,
   "id": "f1d3d527-9189-4cdf-ba6f-285babc3c61f",
   "metadata": {},
   "outputs": [
    {
     "data": {
      "text/plain": [
       "array([0.1550395 , 0.68721774, 0.15774276])"
      ]
     },
     "execution_count": 27,
     "metadata": {},
     "output_type": "execute_result"
    }
   ],
   "source": [
    "gbc.fit(x_train,y_train)\n",
    "gbc.feature_importances_"
   ]
  },
  {
   "cell_type": "markdown",
   "id": "ded8c65a-a258-4d48-bc45-e3aecf51b8e2",
   "metadata": {},
   "source": [
    "### 지금까지 숲을 구성할때. 사용한 트리는(트리의 훈련데이터는) 원래 훈련 데이터 전부 다 사용\n",
    "### subsample= 1.0  전체데이터를 다 사용\n",
    "### 이 값을 1.0보다 작게 만들면  일부 데이터만 사용 - 일부 셈플만 랜덤하게 선택\n",
    "### 확률적 경사하강법 or 미니배치 경사 하강법 과 비슷하게 된다.\n",
    "### 랜덤포레스트보다 속도가 느리다.. n_job = -1 없음"
   ]
  },
  {
   "cell_type": "markdown",
   "id": "7ad26a4a-bdf8-461c-a494-49ed07f40db9",
   "metadata": {},
   "source": [
    "# 히스토그램 기반 그레이디언트 부스팅\n",
    "    그레이디언트 부스팅의 속도와 성능을 개선한 알고리즘\n",
    "    입력특성을 256개의 구간으로 먼저 나눈다 - 노드를 분할할때 최적의 분할을 빠르게 찾을수 있음\n",
    "    트리의 개수를 지정하는거 대신에 반복학습 max_iter 를 제공"
   ]
  },
  {
   "cell_type": "code",
   "execution_count": 49,
   "id": "9e4e7b56-3f8e-4249-963b-2c9dc3460f79",
   "metadata": {},
   "outputs": [
    {
     "data": {
      "text/plain": [
       "(0.9284684595245096, 0.8737748944991486)"
      ]
     },
     "execution_count": 49,
     "metadata": {},
     "output_type": "execute_result"
    }
   ],
   "source": [
    "from sklearn.ensemble import HistGradientBoostingClassifier\n",
    "hbc =  HistGradientBoostingClassifier(random_state=0,max_iter=100)\n",
    "scores = cross_validate(hbc, x_train,y_train,return_train_score=True)\n",
    "np.mean(scores['train_score']), np.mean(scores['test_score'])"
   ]
  },
  {
   "cell_type": "code",
   "execution_count": 37,
   "id": "3b98e054-20c2-425e-ac8b-f2a4f9474b4b",
   "metadata": {},
   "outputs": [
    {
     "data": {
      "text/plain": [
       "array([0.09184145, 0.24083125, 0.08324033])"
      ]
     },
     "execution_count": 37,
     "metadata": {},
     "output_type": "execute_result"
    }
   ],
   "source": [
    "# 중요도\n",
    "from sklearn.inspection import permutation_importance\n",
    "hbc.fit(x_train,y_train)\n",
    "result = permutation_importance(hbc, x_train,y_train,n_repeats=10,random_state=0,n_jobs=-1)\n",
    "result['importances_mean']"
   ]
  },
  {
   "cell_type": "code",
   "execution_count": 41,
   "id": "78489df1-54fc-45ca-bf87-94d81b3aa367",
   "metadata": {},
   "outputs": [
    {
     "data": {
      "text/plain": [
       "'1.2.0'"
      ]
     },
     "execution_count": 41,
     "metadata": {},
     "output_type": "execute_result"
    }
   ],
   "source": [
    "import sklearn\n",
    "sklearn.__version__"
   ]
  },
  {
   "cell_type": "code",
   "execution_count": 44,
   "id": "d0298032-f953-4555-b56a-5cad0902ec7d",
   "metadata": {},
   "outputs": [
    {
     "name": "stdout",
     "output_type": "stream",
     "text": [
      "Requirement already satisfied: scikit-learn in c:\\users\\user\\miniconda3\\envs\\py\\lib\\site-packages (1.2.1)\n",
      "Requirement already satisfied: threadpoolctl>=2.0.0 in c:\\users\\user\\miniconda3\\envs\\py\\lib\\site-packages (from scikit-learn) (3.1.0)\n",
      "Requirement already satisfied: joblib>=1.1.1 in c:\\users\\user\\miniconda3\\envs\\py\\lib\\site-packages (from scikit-learn) (1.2.0)\n",
      "Requirement already satisfied: scipy>=1.3.2 in c:\\users\\user\\miniconda3\\envs\\py\\lib\\site-packages (from scikit-learn) (1.10.0)\n",
      "Requirement already satisfied: numpy>=1.17.3 in c:\\users\\user\\miniconda3\\envs\\py\\lib\\site-packages (from scikit-learn) (1.24.1)\n"
     ]
    }
   ],
   "source": [
    "# 사이킷런 업그레이드 - 필요시\n",
    "!pip install --user -U scikit-learn"
   ]
  },
  {
   "cell_type": "markdown",
   "id": "3a9c27f2-30dd-4428-bcbb-861e4ae9a48a",
   "metadata": {},
   "source": [
    "# XGBoost 그레이디언트 부스팅 알고리즘을 사용한 모델(사이킷런이 아님)\n",
    "# lightgbm : 그레이디언트 부스팅 알고리즘을 사용한 모델 마이크로 소프트에서 만든 알고리즘(최신기술 반영)"
   ]
  },
  {
   "cell_type": "code",
   "execution_count": 51,
   "id": "93fc16a8-1631-4577-9288-d175f8d89dd9",
   "metadata": {},
   "outputs": [
    {
     "name": "stdout",
     "output_type": "stream",
     "text": [
      "Requirement already satisfied: xgboost in c:\\users\\user\\miniconda3\\envs\\py\\lib\\site-packages (1.7.4)\n",
      "Requirement already satisfied: scipy in c:\\users\\user\\miniconda3\\envs\\py\\lib\\site-packages (from xgboost) (1.10.0)\n",
      "Requirement already satisfied: numpy in c:\\users\\user\\miniconda3\\envs\\py\\lib\\site-packages (from xgboost) (1.24.1)\n"
     ]
    }
   ],
   "source": [
    "# 가상머신... 그런데.. 코렙은 기본 탑재\n",
    "!pip install xgboost"
   ]
  },
  {
   "cell_type": "code",
   "execution_count": 57,
   "id": "9b0a7d21-6523-44b3-a2f8-2725bbb4bf44",
   "metadata": {},
   "outputs": [
    {
     "data": {
      "text/plain": [
       "(0.9517029349360356, 0.875314466572888)"
      ]
     },
     "execution_count": 57,
     "metadata": {},
     "output_type": "execute_result"
    }
   ],
   "source": [
    "from xgboost import XGBClassifier\n",
    "xgb =  XGBClassifier(random_state = 0)\n",
    "scores = cross_validate(xgb,x_train,y_train,return_train_score=True)\n",
    "np.mean(scores['train_score']), np.mean(scores['test_score'])"
   ]
  },
  {
   "cell_type": "code",
   "execution_count": 58,
   "id": "0950de30-5164-40b2-a3df-f8be5ec6adfc",
   "metadata": {
    "tags": []
   },
   "outputs": [
    {
     "name": "stdout",
     "output_type": "stream",
     "text": [
      "Collecting lightgbm\n",
      "  Downloading lightgbm-3.3.5-py3-none-win_amd64.whl (1.0 MB)\n",
      "     ---------------------------------------- 1.0/1.0 MB 21.6 MB/s eta 0:00:00\n",
      "Requirement already satisfied: numpy in c:\\users\\user\\miniconda3\\envs\\py\\lib\\site-packages (from lightgbm) (1.24.1)\n",
      "Requirement already satisfied: scipy in c:\\users\\user\\miniconda3\\envs\\py\\lib\\site-packages (from lightgbm) (1.10.0)\n",
      "Requirement already satisfied: scikit-learn!=0.22.0 in c:\\users\\user\\miniconda3\\envs\\py\\lib\\site-packages (from lightgbm) (1.2.1)\n",
      "Requirement already satisfied: wheel in c:\\users\\user\\miniconda3\\envs\\py\\lib\\site-packages (from lightgbm) (0.37.1)\n",
      "Requirement already satisfied: threadpoolctl>=2.0.0 in c:\\users\\user\\miniconda3\\envs\\py\\lib\\site-packages (from scikit-learn!=0.22.0->lightgbm) (3.1.0)\n",
      "Requirement already satisfied: joblib>=1.1.1 in c:\\users\\user\\miniconda3\\envs\\py\\lib\\site-packages (from scikit-learn!=0.22.0->lightgbm) (1.2.0)\n",
      "Installing collected packages: lightgbm\n",
      "Successfully installed lightgbm-3.3.5\n"
     ]
    }
   ],
   "source": [
    "!pip install lightgbm"
   ]
  },
  {
   "cell_type": "code",
   "execution_count": 59,
   "id": "3db2bee6-851e-4965-9590-652d50593e25",
   "metadata": {},
   "outputs": [
    {
     "data": {
      "text/plain": [
       "(0.9320281523553113, 0.876660250240616)"
      ]
     },
     "execution_count": 59,
     "metadata": {},
     "output_type": "execute_result"
    }
   ],
   "source": [
    "from lightgbm import LGBMClassifier\n",
    "lgbmc =  LGBMClassifier(random_state=0)\n",
    "scores = cross_validate(lgbmc,x_train,y_train,return_train_score=True)\n",
    "np.mean(scores['train_score']), np.mean(scores['test_score'])"
   ]
  },
  {
   "cell_type": "code",
   "execution_count": 60,
   "id": "f16b6d55-c502-4f09-b5db-7f3e2f989e2b",
   "metadata": {},
   "outputs": [],
   "source": [
    "# https://xgboost.ai/\n",
    "# https://github.com/microsoft/LightGBM"
   ]
  },
  {
   "cell_type": "code",
   "execution_count": null,
   "id": "ea4ee021-58f6-4a34-9ea2-85c30ee33beb",
   "metadata": {},
   "outputs": [],
   "source": []
  }
 ],
 "metadata": {
  "kernelspec": {
   "display_name": "Python 3 (ipykernel)",
   "language": "python",
   "name": "python3"
  },
  "language_info": {
   "codemirror_mode": {
    "name": "ipython",
    "version": 3
   },
   "file_extension": ".py",
   "mimetype": "text/x-python",
   "name": "python",
   "nbconvert_exporter": "python",
   "pygments_lexer": "ipython3",
   "version": "3.10.8"
  }
 },
 "nbformat": 4,
 "nbformat_minor": 5
}
