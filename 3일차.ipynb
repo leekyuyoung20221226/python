{
 "cells": [
  {
   "cell_type": "markdown",
   "id": "fe7a9901-6caf-4749-be85-1092e09f080f",
   "metadata": {},
   "source": [
    "# 함수 function"
   ]
  },
  {
   "cell_type": "markdown",
   "id": "92000b85-8ab7-49b2-9b96-29cc5cafda85",
   "metadata": {},
   "source": [
    "### 코드의 재 사용"
   ]
  },
  {
   "cell_type": "code",
   "execution_count": 1,
   "id": "cabf8ac0-d9ba-40f7-b13c-52bd41f201cd",
   "metadata": {},
   "outputs": [],
   "source": [
    "# def 함수이름(매개변수):\n",
    "#     명령문\n",
    "#     명령문\n",
    "#     ....\n",
    "#     ...\n",
    "\n",
    "# 사용 : 함수이름을 호출"
   ]
  },
  {
   "cell_type": "code",
   "execution_count": 2,
   "id": "e12ed0fb-dce5-43d8-88bf-e5068c458073",
   "metadata": {},
   "outputs": [],
   "source": [
    "# 전달받은 값을 양수로 변환해서 반환하는 함수\n",
    "def abs(x):\n",
    "    if x < 0: x = -x\n",
    "    return x"
   ]
  },
  {
   "cell_type": "code",
   "execution_count": 3,
   "id": "ebbde2e9-6bb0-4983-acfb-a95f721d5b9f",
   "metadata": {},
   "outputs": [
    {
     "name": "stdout",
     "output_type": "stream",
     "text": [
      "10\n"
     ]
    }
   ],
   "source": [
    "data = -10\n",
    "print( abs(data) )"
   ]
  },
  {
   "cell_type": "code",
   "execution_count": 4,
   "id": "2e8f3519-4b6d-4483-b2b7-19261c400be7",
   "metadata": {},
   "outputs": [],
   "source": [
    "# case 1 : 매개변수가 없고 리턴값이 없음\n",
    "def temp1():\n",
    "    print(\"temp\")\n",
    "# case 2 \" 매개변수가 있고 리턴값이 없음    \n",
    "def temp2(x):\n",
    "    print(f\"receive parameter is {x}\")\n",
    "# case 3  매개변수가 없고 리턴값이 있음\n",
    "def temp3():\n",
    "    return \"temp\"\n",
    "# case 3  매개변수가 있고 리턴값이 있음\n",
    "def temp4(x, y):\n",
    "    return x + y"
   ]
  },
  {
   "cell_type": "code",
   "execution_count": 5,
   "id": "174db6c8-f406-4db3-a6de-877677bc9d72",
   "metadata": {},
   "outputs": [
    {
     "name": "stdout",
     "output_type": "stream",
     "text": [
      "temp\n",
      "receive parameter is 10\n",
      "temp\n"
     ]
    },
    {
     "data": {
      "text/plain": [
       "30"
      ]
     },
     "execution_count": 5,
     "metadata": {},
     "output_type": "execute_result"
    }
   ],
   "source": [
    "# 함수  사용 : 설계한 대로 사용..\n",
    "temp1()\n",
    "temp2(10)\n",
    "print(temp3())\n",
    "temp4(10,20)"
   ]
  },
  {
   "cell_type": "code",
   "execution_count": 6,
   "id": "e50e3bbf-6aa3-4845-a6ea-60bc5bd9c178",
   "metadata": {},
   "outputs": [
    {
     "name": "stdout",
     "output_type": "stream",
     "text": [
      "사각형의 x 길이 : 10\n",
      "사각형의 y 길이 : 20\n",
      "사각형의 넓이 : 200\n",
      "사각형의 넓이 : 200\n"
     ]
    }
   ],
   "source": [
    "# 가로 세로의 길이를 받아서 사각형의 면적을 계산하는 함수\n",
    "def calculate_rectangle_area(x,y):\n",
    "    return x*y\n",
    "x = 10\n",
    "y = 20\n",
    "print(f\"사각형의 x 길이 : {x}\")\n",
    "print(f\"사각형의 y 길이 : {y}\")\n",
    "result = calculate_rectangle_area(x,y)\n",
    "print(f\"사각형의 넓이 : {calculate_rectangle_area(x,y)}\")\n",
    "print(f\"사각형의 넓이 : {result}\")"
   ]
  },
  {
   "cell_type": "code",
   "execution_count": 7,
   "id": "600a443e-0c8d-4429-b0ae-014628894ba0",
   "metadata": {},
   "outputs": [],
   "source": [
    "# f(x) = 2x + 7,  g(x) = x의제곱    이때 x가 2이면\n",
    "# f(x) + g(x) + f( g(x) ) + g( f(x) )의 값은"
   ]
  },
  {
   "cell_type": "code",
   "execution_count": 8,
   "id": "aecf90e7-bcf5-4704-b30d-0f7be02a0df2",
   "metadata": {},
   "outputs": [
    {
     "data": {
      "text/plain": [
       "151"
      ]
     },
     "execution_count": 8,
     "metadata": {},
     "output_type": "execute_result"
    }
   ],
   "source": [
    "def f(x):\n",
    "    return 2*x+7\n",
    "def g(x):\n",
    "    return x**2\n",
    "\n",
    "x = 2\n",
    "f(x) + g(x) + f( g(x) ) + g( f(x) )"
   ]
  },
  {
   "cell_type": "code",
   "execution_count": 9,
   "id": "5f26ac63-2acc-4db2-baa2-0b25074e0ead",
   "metadata": {},
   "outputs": [],
   "source": [
    "# 함수의 호출방식\n",
    "# 함수의 매개변수를 넘길때 함수가 수행되고 난후 원본이 변경되는지 여부에 따라서 아래와 같이 불린다\n",
    "# call by value - 함수의 매개변수로 넘어가는 데이터가 데이터인 경우\n",
    "# call by reference - 함수의 매개변수로 넘어가는 데이터가 주소값일 경우"
   ]
  },
  {
   "cell_type": "code",
   "execution_count": 10,
   "id": "581823d9-514d-43e4-b48d-dfe03256ff5f",
   "metadata": {},
   "outputs": [],
   "source": [
    "# 객체의 주소가 함수로 전달되는 뜻으로 객체호출(call by reference object)"
   ]
  },
  {
   "cell_type": "code",
   "execution_count": 11,
   "id": "d6da9274-a490-418d-9fe6-e4192c17b11c",
   "metadata": {},
   "outputs": [],
   "source": [
    "def spam(eggs):\n",
    "    eggs.append(1)  # 기존객체에 1을 추가\n",
    "    \n",
    "    eggs = [2,3]  # 새로운 객체를 할당\n",
    "    "
   ]
  },
  {
   "cell_type": "code",
   "execution_count": 12,
   "id": "bfef5001-9d9d-460b-b758-e1fd51a6c834",
   "metadata": {},
   "outputs": [
    {
     "name": "stdout",
     "output_type": "stream",
     "text": [
      "[0, 1]\n"
     ]
    }
   ],
   "source": [
    "ham = [0]\n",
    "spam(ham)\n",
    "\n",
    "print(ham)"
   ]
  },
  {
   "cell_type": "code",
   "execution_count": 13,
   "id": "d8ba568f-426d-46fe-b951-932974aed25f",
   "metadata": {},
   "outputs": [],
   "source": [
    "def spam(eggs):\n",
    "    eggs = [2,3]  # 새로운 객체를 할당\n",
    "    eggs.append(1)  # 기존객체에 1을 추가   \n",
    "    "
   ]
  },
  {
   "cell_type": "code",
   "execution_count": 14,
   "id": "37ed0ace-7bc7-4c6d-985e-b9bd66a65e96",
   "metadata": {},
   "outputs": [
    {
     "name": "stdout",
     "output_type": "stream",
     "text": [
      "[0]\n"
     ]
    }
   ],
   "source": [
    "ham = [0]\n",
    "spam(ham)\n",
    "\n",
    "print(ham)"
   ]
  },
  {
   "cell_type": "markdown",
   "id": "18fa5daa-33a8-4c1b-8108-91b1ed371a2b",
   "metadata": {},
   "source": [
    "# 변수의 범위"
   ]
  },
  {
   "cell_type": "code",
   "execution_count": 15,
   "id": "cf060f93-d5d3-4cc2-b4bf-8f746885bf52",
   "metadata": {},
   "outputs": [
    {
     "name": "stdout",
     "output_type": "stream",
     "text": [
      "10\n",
      "in function: t = 20\n",
      "in main x:10\n"
     ]
    }
   ],
   "source": [
    "def test(t):\n",
    "    print(x)\n",
    "    t = 20\n",
    "    print(f\"in function: t = {t}\")\n",
    "x = 10\n",
    "test(x)\n",
    "print(f\"in main x:{x}\")\n",
    "# print(f\"in main x:{t}\")    "
   ]
  },
  {
   "cell_type": "code",
   "execution_count": 16,
   "id": "cfae9d34-221b-4db6-a6ba-16bd2d150c8a",
   "metadata": {},
   "outputs": [
    {
     "name": "stdout",
     "output_type": "stream",
     "text": [
      "I love seoul\n",
      "I love YoungIn\n"
     ]
    }
   ],
   "source": [
    "def f():\n",
    "    s = 'I love seoul'\n",
    "    print(s) \n",
    "\n",
    "s = 'I love YoungIn'    \n",
    "f()    \n",
    "print(s)\n"
   ]
  },
  {
   "cell_type": "code",
   "execution_count": 17,
   "id": "f3b2fbc7-6e0d-4b6f-933b-a76e61b8c7a9",
   "metadata": {},
   "outputs": [
    {
     "name": "stdout",
     "output_type": "stream",
     "text": [
      "I love seoul\n",
      "I love seoul\n"
     ]
    }
   ],
   "source": [
    "def f():\n",
    "    global s\n",
    "    s = 'I love seoul'\n",
    "    print(s) \n",
    "\n",
    "s = 'I love YoungIn'    \n",
    "f()    \n",
    "print(s)"
   ]
  },
  {
   "cell_type": "markdown",
   "id": "b2170875-bfd6-4fda-bf29-aeabbd3a70fd",
   "metadata": {},
   "source": [
    "def calculate(x, y):\n",
    "    total = x + y  # total 지역변수  12\n",
    "    print(\"in function\")\n",
    "    print(f\"a:{str(a)}, b:{str(b)}, a+b:{str(a+b)}, total:{str(total)}\")\n",
    "    return total\n",
    "\n",
    "a = 5   # 전역변수\n",
    "b = 7   # 전역변수\n",
    "total = 0  # 전역변수\n",
    "print(\"in program-1\")\n",
    "print(f\"a:{str(a)}, b:{str(b)}, a+b:{str(a+b)}\")\n",
    "\n",
    "result = calculate(a,b)   # 함수가 리턴하는 12의 값을 변수 sum에 할당\n",
    "print(\"after calculation\")\n",
    "print(f\"total:{str(total)}, sum:{str(result)}\")  # total읜 전역변수"
   ]
  },
  {
   "cell_type": "code",
   "execution_count": 18,
   "id": "d6ee82e0-f095-46f1-b760-f8709aa8c3f0",
   "metadata": {},
   "outputs": [],
   "source": [
    "# 펙토리얼  5!    5*4*3*2*1\n",
    "# 1!  = 1\n",
    "# 2! = 2(1) = 2\n",
    "# 3! = 3(2(1)) = 6"
   ]
  },
  {
   "cell_type": "code",
   "execution_count": 19,
   "id": "f701e02b-5a15-4b73-9406-f871f01dc7e1",
   "metadata": {},
   "outputs": [],
   "source": [
    "def B():\n",
    "    print('b')\n",
    "    return \"finish\"\n",
    "    \n",
    "def A():\n",
    "    print('call A')\n",
    "    return B()\n",
    "    "
   ]
  },
  {
   "cell_type": "code",
   "execution_count": 20,
   "id": "73eeb1fb-751a-464f-8733-5bac72a6c3ef",
   "metadata": {},
   "outputs": [
    {
     "name": "stdout",
     "output_type": "stream",
     "text": [
      "call A\n",
      "b\n"
     ]
    },
    {
     "data": {
      "text/plain": [
       "'finish'"
      ]
     },
     "execution_count": 20,
     "metadata": {},
     "output_type": "execute_result"
    }
   ],
   "source": [
    "A()"
   ]
  },
  {
   "cell_type": "code",
   "execution_count": 21,
   "id": "16d76066-4612-4cf5-b145-1ec3eed329b7",
   "metadata": {},
   "outputs": [],
   "source": [
    "# 재귀 함수.... 무한루프... 즉.. 자신을 호출하는 로직을 두되.. 반드시 더 이상 재귀가 되지 않도록 예외처리를한다\n",
    "def temp(n):\n",
    "    print(n)\n",
    "    if n== 1:\n",
    "        return 1    \n",
    "    return n * temp(n-1)"
   ]
  },
  {
   "cell_type": "code",
   "execution_count": 22,
   "id": "539b74d0-ec5d-429b-8516-987a5eb87592",
   "metadata": {},
   "outputs": [],
   "source": [
    "# temp(5)\n",
    "# 5 * temp(4)\n",
    "# 5 * 4 * temp(3)\n",
    "# 5 * 4 * 3 * temp(2)\n",
    "# 5 * 4 * 3 * 2 * temp(1)\n",
    "# 5 * 4 * 3 * 2 * 1 * temp(0)\n",
    "# 5 * 4 * 3 * 2 * 1 * 0 * temp(-1)"
   ]
  },
  {
   "cell_type": "code",
   "execution_count": 23,
   "id": "48f39ea5-553f-4a15-84f2-c723f2c74875",
   "metadata": {},
   "outputs": [
    {
     "name": "stdout",
     "output_type": "stream",
     "text": [
      "5\n",
      "4\n",
      "3\n",
      "2\n",
      "1\n"
     ]
    },
    {
     "data": {
      "text/plain": [
       "120"
      ]
     },
     "execution_count": 23,
     "metadata": {},
     "output_type": "execute_result"
    }
   ],
   "source": [
    "temp(5)"
   ]
  },
  {
   "cell_type": "code",
   "execution_count": 24,
   "id": "de059030-74cf-4ba5-89ef-ac474b2316a1",
   "metadata": {},
   "outputs": [],
   "source": [
    "# 재귀함수의 단점....  리소스를 많이 차지한다... 일반 for문보다 속도가 느려"
   ]
  },
  {
   "cell_type": "markdown",
   "id": "a557e9d8-5995-4088-abe9-5092192d279b",
   "metadata": {},
   "source": [
    "# 파이썬 함수의 매개변수"
   ]
  },
  {
   "cell_type": "code",
   "execution_count": 25,
   "id": "0444ce7a-78ea-49d6-b6e4-a1cc9c9b5906",
   "metadata": {},
   "outputs": [],
   "source": [
    "# 키워드 변수 : 지정된 변수명을 사용해서 함수를 호출 하는 방법\n",
    "# 디폴트 변수 : 해당 인수에 값이 넘어지 않을때 기본값을 설정해서 사용\n",
    "# 가변 변수 : 인수의 개수를 따로 지정하지 않고 주는대로 받는 - 내부적으로 리스트로 처리\n",
    "# 키워드 가변 인수 : 매개변수의 이름을 따로 지정하지 않고 사용"
   ]
  },
  {
   "cell_type": "code",
   "execution_count": 26,
   "id": "0af0a3af-f13d-4626-a70e-c0b43a0559dc",
   "metadata": {},
   "outputs": [],
   "source": [
    "def print_something(my_name, your_name):\n",
    "    print(f\"Hello {your_name}, My namne is {my_name}\")"
   ]
  },
  {
   "cell_type": "code",
   "execution_count": 27,
   "id": "db3abf01-0fac-40b7-91f3-0ee1777e7beb",
   "metadata": {},
   "outputs": [
    {
     "name": "stdout",
     "output_type": "stream",
     "text": [
      "Hello hong-gil-dong, My namne is leeky\n"
     ]
    }
   ],
   "source": [
    "print_something('leeky', 'hong-gil-dong')"
   ]
  },
  {
   "cell_type": "code",
   "execution_count": 28,
   "id": "ab2f3146-196f-4237-bf08-228bd0d39f1a",
   "metadata": {},
   "outputs": [
    {
     "name": "stdout",
     "output_type": "stream",
     "text": [
      "Hello hong-gil-dong, My namne is leeky\n"
     ]
    }
   ],
   "source": [
    "print_something(your_name = 'hong-gil-dong', my_name = 'leeky')"
   ]
  },
  {
   "cell_type": "code",
   "execution_count": 29,
   "id": "927bc145-f127-4823-8e2d-6e7c078e577b",
   "metadata": {},
   "outputs": [],
   "source": [
    "def print_something2(a,b,c,d,e,f):\n",
    "    print(f\"a:{a},b:{b},c:{c},d:{d},e:{e},f:{f}\")"
   ]
  },
  {
   "cell_type": "code",
   "execution_count": 30,
   "id": "f75c2b1c-95e5-4fb5-8c09-3cfad5924ecf",
   "metadata": {},
   "outputs": [
    {
     "name": "stdout",
     "output_type": "stream",
     "text": [
      "a:10,b:20,c:30,d:20,e:100,f:20\n"
     ]
    }
   ],
   "source": [
    "print_something2(10,20,f=20,c=30,d=20,e=100)"
   ]
  },
  {
   "cell_type": "code",
   "execution_count": 31,
   "id": "51c601b3-2115-4022-a01c-cee7292a7cdb",
   "metadata": {},
   "outputs": [],
   "source": [
    "# 디폴트 인수 : 함수의 매개변수를 설계할때 기본값을 셋팅 그래서 사용자가 전달하지 않으면 기본값을 사용"
   ]
  },
  {
   "cell_type": "code",
   "execution_count": 32,
   "id": "df23bb71-f8ef-4b43-8f84-734e88483372",
   "metadata": {},
   "outputs": [
    {
     "name": "stdout",
     "output_type": "stream",
     "text": [
      "abc 10       abc 10\n"
     ]
    }
   ],
   "source": [
    "print(f\"abc {10} \\\n",
    "      abc {10}\")"
   ]
  },
  {
   "cell_type": "code",
   "execution_count": 33,
   "id": "aa77dec2-8699-4a8a-933a-1d3e80f60357",
   "metadata": {},
   "outputs": [
    {
     "name": "stdout",
     "output_type": "stream",
     "text": [
      "a c\n"
     ]
    }
   ],
   "source": [
    "print(\"a\",\n",
    "      # \"b\",\n",
    "      \"c\")"
   ]
  },
  {
   "cell_type": "code",
   "execution_count": 34,
   "id": "3c5f5cf6-0ae1-4a0f-b50f-0a3969a6513d",
   "metadata": {},
   "outputs": [],
   "source": [
    "# 디폴트 인수\n",
    "def print_something(my_name, your_name='KOREA'):\n",
    "    print(f\"Hello {your_name}, My namne is {my_name}\")"
   ]
  },
  {
   "cell_type": "code",
   "execution_count": 35,
   "id": "16ac51ff-ad4b-4259-b5d7-15fa3c47d0f8",
   "metadata": {},
   "outputs": [
    {
     "name": "stdout",
     "output_type": "stream",
     "text": [
      "Hello hong-gil-dong, My namne is leeky\n"
     ]
    }
   ],
   "source": [
    "print_something('leeky','hong-gil-dong')"
   ]
  },
  {
   "cell_type": "code",
   "execution_count": 36,
   "id": "a17fa00b-0e37-4d98-a791-fdca9fa4d26d",
   "metadata": {},
   "outputs": [
    {
     "name": "stdout",
     "output_type": "stream",
     "text": [
      "Hello KOREA, My namne is leeky\n"
     ]
    }
   ],
   "source": [
    "print_something('leeky')"
   ]
  },
  {
   "cell_type": "code",
   "execution_count": 60,
   "id": "bf941ff3-d3b6-44bc-991a-851d6c013b9a",
   "metadata": {},
   "outputs": [
    {
     "ename": "SyntaxError",
     "evalue": "non-default argument follows default argument (2098973811.py, line 6)",
     "output_type": "error",
     "traceback": [
      "\u001b[1;36m  Cell \u001b[1;32mIn[60], line 6\u001b[1;36m\u001b[0m\n\u001b[1;33m    def default_function2(a=0 ,b ,c=0):\u001b[0m\n\u001b[1;37m                               ^\u001b[0m\n\u001b[1;31mSyntaxError\u001b[0m\u001b[1;31m:\u001b[0m non-default argument follows default argument\n"
     ]
    }
   ],
   "source": [
    "# 디폴트 매개변수는 뒤에서 부터 셋팅한다.\n",
    "# 디폴트 매개변수는 한번 셋팅하면 그 뒤에 나오는 매개변수는 전부 디폴트로 셋팅\n",
    "def default_function(a ,b=0 ,c=0):   # 정상\n",
    "    print(f\"a:{a} b:{b} c:{c}\")\n",
    "\n",
    "def default_function2(a=0 ,b ,c=0):   \n",
    "    print(f\"a:{a} b:{b} c:{c}\")"
   ]
  },
  {
   "cell_type": "code",
   "execution_count": 38,
   "id": "4a919633-854e-4b2e-bcfa-16138fc6bc86",
   "metadata": {},
   "outputs": [
    {
     "name": "stdout",
     "output_type": "stream",
     "text": [
      "a:1 b:0 c:0\n"
     ]
    }
   ],
   "source": [
    "default_function(1)"
   ]
  },
  {
   "cell_type": "markdown",
   "id": "a8df8431-5e3e-46cd-841e-d7fe910a5184",
   "metadata": {},
   "source": [
    "# 가변인수"
   ]
  },
  {
   "cell_type": "code",
   "execution_count": 51,
   "id": "67bc114a-d953-4cfc-aa22-19e83750b5c5",
   "metadata": {},
   "outputs": [],
   "source": [
    "def asterisk_test(*arg):\n",
    "    print(type(arg))\n",
    "    print(sum(arg))"
   ]
  },
  {
   "cell_type": "code",
   "execution_count": 52,
   "id": "621d3cb1-4b4a-4673-afa0-e47bc0fd9546",
   "metadata": {},
   "outputs": [
    {
     "name": "stdout",
     "output_type": "stream",
     "text": [
      "<class 'tuple'>\n",
      "1100\n"
     ]
    }
   ],
   "source": [
    "asterisk_test(10,20,30,40,50,60,710,80,90,10)"
   ]
  },
  {
   "cell_type": "code",
   "execution_count": 55,
   "id": "789eacd6-2c4a-4d91-bf41-8d86d479ab33",
   "metadata": {},
   "outputs": [],
   "source": [
    "def asterisk_test(a,b,*arg):\n",
    "    print(f\"a:{a} b:{b} arg:{arg}\")"
   ]
  },
  {
   "cell_type": "code",
   "execution_count": 57,
   "id": "789d52df-64da-48ec-9e66-8e37cd74b978",
   "metadata": {},
   "outputs": [
    {
     "name": "stdout",
     "output_type": "stream",
     "text": [
      "a:10 b:20 arg:(30, 40, 50, 1, 2, 3, 4, 5)\n"
     ]
    }
   ],
   "source": [
    "asterisk_test(10,20,30,40,50,1,2,3,4,5)"
   ]
  },
  {
   "cell_type": "code",
   "execution_count": 58,
   "id": "62d3eb17-44bf-45a1-9ae5-4e5dea8d2b8f",
   "metadata": {},
   "outputs": [],
   "source": [
    "def asterisk_test(a,*arg, b):\n",
    "    print(f\"a:{a} b:{b} arg:{arg}\")"
   ]
  },
  {
   "cell_type": "code",
   "execution_count": 59,
   "id": "8b55ffa8-8253-4c6b-9164-4a17f6374343",
   "metadata": {},
   "outputs": [
    {
     "ename": "TypeError",
     "evalue": "asterisk_test() missing 1 required keyword-only argument: 'b'",
     "output_type": "error",
     "traceback": [
      "\u001b[1;31m---------------------------------------------------------------------------\u001b[0m",
      "\u001b[1;31mTypeError\u001b[0m                                 Traceback (most recent call last)",
      "Cell \u001b[1;32mIn[59], line 1\u001b[0m\n\u001b[1;32m----> 1\u001b[0m \u001b[43masterisk_test\u001b[49m\u001b[43m(\u001b[49m\u001b[38;5;241;43m10\u001b[39;49m\u001b[43m,\u001b[49m\u001b[38;5;241;43m20\u001b[39;49m\u001b[43m,\u001b[49m\u001b[38;5;241;43m30\u001b[39;49m\u001b[43m,\u001b[49m\u001b[38;5;241;43m40\u001b[39;49m\u001b[43m,\u001b[49m\u001b[38;5;241;43m50\u001b[39;49m\u001b[43m,\u001b[49m\u001b[38;5;241;43m1\u001b[39;49m\u001b[43m,\u001b[49m\u001b[38;5;241;43m2\u001b[39;49m\u001b[43m,\u001b[49m\u001b[38;5;241;43m3\u001b[39;49m\u001b[43m,\u001b[49m\u001b[38;5;241;43m4\u001b[39;49m\u001b[43m,\u001b[49m\u001b[38;5;241;43m5\u001b[39;49m\u001b[43m)\u001b[49m\n",
      "\u001b[1;31mTypeError\u001b[0m: asterisk_test() missing 1 required keyword-only argument: 'b'"
     ]
    }
   ],
   "source": [
    "asterisk_test(10,20,30,40,50,1,2,3,4,5)"
   ]
  },
  {
   "cell_type": "code",
   "execution_count": 61,
   "id": "1adf9d73-eaf3-4461-8bf3-f406ae53c775",
   "metadata": {},
   "outputs": [
    {
     "name": "stdout",
     "output_type": "stream",
     "text": [
      "a:10 b:5 arg:(20, 30, 40, 50, 1, 2, 3, 4)\n"
     ]
    }
   ],
   "source": [
    "asterisk_test(10,20,30,40,50,1,2,3,4,b=5)"
   ]
  },
  {
   "cell_type": "code",
   "execution_count": 62,
   "id": "46603d5e-4d19-4faf-9aca-4fcf377daef5",
   "metadata": {},
   "outputs": [
    {
     "ename": "SyntaxError",
     "evalue": "positional argument follows keyword argument (4054068659.py, line 1)",
     "output_type": "error",
     "traceback": [
      "\u001b[1;36m  Cell \u001b[1;32mIn[62], line 1\u001b[1;36m\u001b[0m\n\u001b[1;33m    asterisk_test(10,b=20,30,40,50,1,2,3,4,5)\u001b[0m\n\u001b[1;37m                                            ^\u001b[0m\n\u001b[1;31mSyntaxError\u001b[0m\u001b[1;31m:\u001b[0m positional argument follows keyword argument\n"
     ]
    }
   ],
   "source": [
    "asterisk_test(10,b=20,30,40,50,1,2,3,4,5)"
   ]
  },
  {
   "cell_type": "code",
   "execution_count": 63,
   "id": "4d27ae79-6b56-4569-aa25-32a30c122c45",
   "metadata": {},
   "outputs": [],
   "source": [
    "def test():\n",
    "    return 10,20,30"
   ]
  },
  {
   "cell_type": "code",
   "execution_count": 66,
   "id": "f8c67d3c-12fb-4d0d-a5d2-6d6f87a9ea40",
   "metadata": {},
   "outputs": [],
   "source": [
    "a,b,c =  test()\n",
    "v1,v2,v3 = 100,200,300"
   ]
  },
  {
   "cell_type": "code",
   "execution_count": 79,
   "id": "1395c887-e4f0-441d-a8db-4606d98458ea",
   "metadata": {},
   "outputs": [],
   "source": [
    "def asterisk_test2(*args):\n",
    "    if len(args)<2:\n",
    "        print(\"매개변수는 2개 이상이여야 합니다.\")\n",
    "        return\n",
    "    x,y,*z = args\n",
    "    print(f\"x:{x}, y:{y}\")    \n",
    "    print(f\"z:{z}\")\n",
    "    "
   ]
  },
  {
   "cell_type": "code",
   "execution_count": 80,
   "id": "247e79aa-438f-48f1-9a73-babdb8a6e3eb",
   "metadata": {},
   "outputs": [
    {
     "name": "stdout",
     "output_type": "stream",
     "text": [
      "x:1, y:2\n",
      "z:[3, 4, 5, 6, 7, 8, 9, 10]\n"
     ]
    }
   ],
   "source": [
    "asterisk_test2(1,2,3,4,5,6,7,8,9,10)"
   ]
  },
  {
   "cell_type": "code",
   "execution_count": 81,
   "id": "a4138609-da86-4ce5-bf65-356fea9e8fc1",
   "metadata": {},
   "outputs": [
    {
     "name": "stdout",
     "output_type": "stream",
     "text": [
      "매개변수는 2개 이상이여야 합니다.\n"
     ]
    }
   ],
   "source": [
    "asterisk_test2(1)"
   ]
  },
  {
   "cell_type": "code",
   "execution_count": 86,
   "id": "d37a58f0-8cd6-440b-ae2d-66c3a9b4ba4f",
   "metadata": {},
   "outputs": [],
   "source": [
    "def asterisk_test3(*args):\n",
    "    assert len(args) > 1, '2개이상'  # 해당조건이 true 가 아니면 AssertionError를 발생시킨다\n",
    "    x,y,*z = args\n",
    "    print(f\"x:{x}, y:{y}\")    \n",
    "    print(f\"z:{z}\")"
   ]
  },
  {
   "cell_type": "code",
   "execution_count": 87,
   "id": "de8c399d-69e8-4eb6-983b-2c40790d699a",
   "metadata": {},
   "outputs": [
    {
     "ename": "AssertionError",
     "evalue": "2개이상",
     "output_type": "error",
     "traceback": [
      "\u001b[1;31m---------------------------------------------------------------------------\u001b[0m",
      "\u001b[1;31mAssertionError\u001b[0m                            Traceback (most recent call last)",
      "Cell \u001b[1;32mIn[87], line 1\u001b[0m\n\u001b[1;32m----> 1\u001b[0m \u001b[43masterisk_test3\u001b[49m\u001b[43m(\u001b[49m\u001b[38;5;241;43m1\u001b[39;49m\u001b[43m)\u001b[49m\n",
      "Cell \u001b[1;32mIn[86], line 2\u001b[0m, in \u001b[0;36masterisk_test3\u001b[1;34m(*args)\u001b[0m\n\u001b[0;32m      1\u001b[0m \u001b[38;5;28;01mdef\u001b[39;00m \u001b[38;5;21masterisk_test3\u001b[39m(\u001b[38;5;241m*\u001b[39margs):\n\u001b[1;32m----> 2\u001b[0m     \u001b[38;5;28;01massert\u001b[39;00m \u001b[38;5;28mlen\u001b[39m(args) \u001b[38;5;241m>\u001b[39m \u001b[38;5;241m1\u001b[39m, \u001b[38;5;124m'\u001b[39m\u001b[38;5;124m2개이상\u001b[39m\u001b[38;5;124m'\u001b[39m  \u001b[38;5;66;03m# 해당조건이 true 가 아니면 AssertionError를 발생시킨다\u001b[39;00m\n\u001b[0;32m      3\u001b[0m     x,y,\u001b[38;5;241m*\u001b[39mz \u001b[38;5;241m=\u001b[39m args\n\u001b[0;32m      4\u001b[0m     \u001b[38;5;28mprint\u001b[39m(\u001b[38;5;124mf\u001b[39m\u001b[38;5;124m\"\u001b[39m\u001b[38;5;124mx:\u001b[39m\u001b[38;5;132;01m{\u001b[39;00mx\u001b[38;5;132;01m}\u001b[39;00m\u001b[38;5;124m, y:\u001b[39m\u001b[38;5;132;01m{\u001b[39;00my\u001b[38;5;132;01m}\u001b[39;00m\u001b[38;5;124m\"\u001b[39m)    \n",
      "\u001b[1;31mAssertionError\u001b[0m: 2개이상"
     ]
    }
   ],
   "source": [
    "asterisk_test3(1)"
   ]
  },
  {
   "cell_type": "markdown",
   "id": "1c9a145e-6f23-40ad-9eff-ea43c0ac2f29",
   "metadata": {},
   "source": [
    "# 키워드 가변 변수"
   ]
  },
  {
   "cell_type": "markdown",
   "id": "f127f4a2-524b-41a7-81a9-9db2901a0ef8",
   "metadata": {},
   "source": [
    "### 입력된 값은 딕셔너리 자료형으로 사용\n",
    "### 반드시 모든 매개변수의 맨 마지막에 선언된다."
   ]
  },
  {
   "cell_type": "code",
   "execution_count": 11,
   "id": "e3aecb3d-effd-4c1a-bbba-532255dbbac1",
   "metadata": {},
   "outputs": [
    {
     "name": "stdout",
     "output_type": "stream",
     "text": [
      "first value is 1\n",
      "first value is 2\n",
      "first value is 3\n"
     ]
    }
   ],
   "source": [
    "def kwargs_test1(first,second,third):\n",
    "    print(f\"first value is {first}\")\n",
    "    print(f\"first value is {second}\")\n",
    "    print(f\"first value is {third}\")\n",
    "kwargs_test1(first=1,second=2,third=3)    "
   ]
  },
  {
   "cell_type": "code",
   "execution_count": 10,
   "id": "805a77a6-b9fd-463f-a255-ac6fd764343f",
   "metadata": {},
   "outputs": [
    {
     "name": "stdout",
     "output_type": "stream",
     "text": [
      "{'first': 1, 'second': 2, 'third': 3}\n",
      "first value is  1\n",
      "first value is  2\n",
      "first value is  3\n"
     ]
    }
   ],
   "source": [
    "def kwargs_test2(**args):\n",
    "    print(args)\n",
    "    print(\"first value is \", args['first'])\n",
    "    print(\"second value is \", args['second'])\n",
    "    print(\"third value is \", args['third'])\n",
    "kwargs_test2(first = 1, second=2, third = 3)"
   ]
  },
  {
   "cell_type": "code",
   "execution_count": 17,
   "id": "63aedf8d-7ef4-4304-8f8c-f1cf38bd4983",
   "metadata": {},
   "outputs": [],
   "source": [
    "def kwargs_test3(one,two, *args, **kwargs):\n",
    "    print(one + two + sum(args))\n",
    "    for key, value in kwargs.items():\n",
    "        print(value)"
   ]
  },
  {
   "cell_type": "code",
   "execution_count": 19,
   "id": "2b5ffa76-d28c-43bf-ba9a-04ee9de31443",
   "metadata": {},
   "outputs": [
    {
     "name": "stdout",
     "output_type": "stream",
     "text": [
      "42\n",
      "1\n",
      "2\n",
      "3\n",
      "10\n",
      "20\n"
     ]
    }
   ],
   "source": [
    "kwargs_test3(3,4,5,6,7,8,9,a=1,b=2,c=3,abc=10,test=20)"
   ]
  },
  {
   "cell_type": "markdown",
   "id": "dff7bec5-9849-4fc1-8552-3f50c5ffcb12",
   "metadata": {},
   "source": [
    "# 좋은 코드를 작성하는 방법"
   ]
  },
  {
   "cell_type": "markdown",
   "id": "bc20b665-fed2-40d7-a5ee-797b73420571",
   "metadata": {},
   "source": [
    "    들여쓰기\n",
    "    라인을 적당히 분할 한라인에 최대 79자 정도만(즉 스크롤이 생기면 안됨)\n",
    "    함수의 역활을 명확히 구분할수 있도록 네이밍(변수도 마찬가지)\n",
    "    함수의 내용은 유사한 기능들 즉 단위기능위주로작성"
   ]
  },
  {
   "cell_type": "code",
   "execution_count": null,
   "id": "1529a1be-35b2-4327-8141-4c498a7f67cf",
   "metadata": {},
   "outputs": [],
   "source": [
    "# good\n",
    "def add_variable(x,y):    \n",
    "    return x+y;\n",
    "\n",
    "# bed\n",
    "def add_variable(x,y):    \n",
    "    print(x,y)\n",
    "    return x+y;"
   ]
  },
  {
   "cell_type": "code",
   "execution_count": 21,
   "id": "aba82f3b-135c-4ad7-8169-91abc0320b46",
   "metadata": {},
   "outputs": [
    {
     "name": "stdout",
     "output_type": "stream",
     "text": [
      "hello word\n",
      "good morning\n"
     ]
    }
   ],
   "source": [
    "a = 5\n",
    "if a > 3:\n",
    "    print('hello word')\n",
    "    print('good morning')\n",
    "if a < 0:\n",
    "    print('hello word')\n",
    "    print('good morning')\n",
    "if a > 0 and a < 3:\n",
    "    print('hello word')\n",
    "    print('good morning')"
   ]
  },
  {
   "cell_type": "code",
   "execution_count": 22,
   "id": "e25c845c-cfbd-4e19-985a-120730be32b2",
   "metadata": {},
   "outputs": [
    {
     "name": "stdout",
     "output_type": "stream",
     "text": [
      "hello word\n",
      "good morning\n"
     ]
    }
   ],
   "source": [
    "# 반복되는 코드는 함수로 만들어서 재 사용 한다.\n",
    "def hello():\n",
    "    print('hello word')\n",
    "    print('good morning')\n",
    "\n",
    "a = 5\n",
    "if a > 3:   hello()\n",
    "if a < 0:   hello()\n",
    "if a > 0 and a < 3:  hello()"
   ]
  },
  {
   "cell_type": "code",
   "execution_count": 23,
   "id": "e769a28a-c68f-4020-8036-c9c179ef0f06",
   "metadata": {},
   "outputs": [],
   "source": [
    "# 사용자로부터 구구단의 단수를 입력받는다\n",
    "# 받은 단수로 해당 구구단의 단을 출력한다.\n",
    "\n",
    "# 이와 별개로 전체 구구단을 출력한다"
   ]
  },
  {
   "cell_type": "code",
   "execution_count": 25,
   "id": "dbc094b1-c094-4bfb-b889-962e4fc4c5af",
   "metadata": {
    "collapsed": true,
    "jupyter": {
     "outputs_hidden": true
    },
    "tags": []
   },
   "outputs": [
    {
     "name": "stdout",
     "output_type": "stream",
     "text": [
      "구구단 단수 입력하세요\n"
     ]
    },
    {
     "name": "stdin",
     "output_type": "stream",
     "text": [
      " 2\n"
     ]
    },
    {
     "name": "stdout",
     "output_type": "stream",
     "text": [
      "2 x 1 = 2\n",
      "2 x 2 = 4\n",
      "2 x 3 = 6\n",
      "2 x 4 = 8\n",
      "2 x 5 = 10\n",
      "2 x 6 = 12\n",
      "2 x 7 = 14\n",
      "2 x 8 = 16\n",
      "2 x 9 = 18\n"
     ]
    }
   ],
   "source": [
    "def gugudan_sub(dan):\n",
    "    for i in range(1,10):\n",
    "        print(f\"{dan} x {i} = {dan*i}\")\n",
    "        \n",
    "\n",
    "print('구구단 단수 입력하세요')\n",
    "dan =  int(input())\n",
    "gugudan_sub(dan)"
   ]
  },
  {
   "cell_type": "code",
   "execution_count": 26,
   "id": "0c36ad4f-6d4a-476e-a7b6-bb1b569609d6",
   "metadata": {
    "collapsed": true,
    "jupyter": {
     "outputs_hidden": true
    },
    "tags": []
   },
   "outputs": [
    {
     "name": "stdout",
     "output_type": "stream",
     "text": [
      "2 x 1 = 2\n",
      "2 x 2 = 4\n",
      "2 x 3 = 6\n",
      "2 x 4 = 8\n",
      "2 x 5 = 10\n",
      "2 x 6 = 12\n",
      "2 x 7 = 14\n",
      "2 x 8 = 16\n",
      "2 x 9 = 18\n",
      "\n",
      "3 x 1 = 3\n",
      "3 x 2 = 6\n",
      "3 x 3 = 9\n",
      "3 x 4 = 12\n",
      "3 x 5 = 15\n",
      "3 x 6 = 18\n",
      "3 x 7 = 21\n",
      "3 x 8 = 24\n",
      "3 x 9 = 27\n",
      "\n",
      "4 x 1 = 4\n",
      "4 x 2 = 8\n",
      "4 x 3 = 12\n",
      "4 x 4 = 16\n",
      "4 x 5 = 20\n",
      "4 x 6 = 24\n",
      "4 x 7 = 28\n",
      "4 x 8 = 32\n",
      "4 x 9 = 36\n",
      "\n",
      "5 x 1 = 5\n",
      "5 x 2 = 10\n",
      "5 x 3 = 15\n",
      "5 x 4 = 20\n",
      "5 x 5 = 25\n",
      "5 x 6 = 30\n",
      "5 x 7 = 35\n",
      "5 x 8 = 40\n",
      "5 x 9 = 45\n",
      "\n",
      "6 x 1 = 6\n",
      "6 x 2 = 12\n",
      "6 x 3 = 18\n",
      "6 x 4 = 24\n",
      "6 x 5 = 30\n",
      "6 x 6 = 36\n",
      "6 x 7 = 42\n",
      "6 x 8 = 48\n",
      "6 x 9 = 54\n",
      "\n",
      "7 x 1 = 7\n",
      "7 x 2 = 14\n",
      "7 x 3 = 21\n",
      "7 x 4 = 28\n",
      "7 x 5 = 35\n",
      "7 x 6 = 42\n",
      "7 x 7 = 49\n",
      "7 x 8 = 56\n",
      "7 x 9 = 63\n",
      "\n",
      "8 x 1 = 8\n",
      "8 x 2 = 16\n",
      "8 x 3 = 24\n",
      "8 x 4 = 32\n",
      "8 x 5 = 40\n",
      "8 x 6 = 48\n",
      "8 x 7 = 56\n",
      "8 x 8 = 64\n",
      "8 x 9 = 72\n",
      "\n",
      "9 x 1 = 9\n",
      "9 x 2 = 18\n",
      "9 x 3 = 27\n",
      "9 x 4 = 36\n",
      "9 x 5 = 45\n",
      "9 x 6 = 54\n",
      "9 x 7 = 63\n",
      "9 x 8 = 72\n",
      "9 x 9 = 81\n",
      "\n"
     ]
    }
   ],
   "source": [
    "# 전체 구구단 출력\n",
    "for i in range(2,10):\n",
    "    gugudan_sub(i)\n",
    "    print()"
   ]
  },
  {
   "cell_type": "code",
   "execution_count": 27,
   "id": "b158af66-c1fd-4774-ae79-628e3944b55e",
   "metadata": {},
   "outputs": [],
   "source": [
    "# 복잡한 로직을 단순화 할때\n",
    "import math\n",
    "a, b, c = 1, -2, 1"
   ]
  },
  {
   "cell_type": "code",
   "execution_count": 28,
   "id": "fc269754-287b-4218-8771-d53edeae1bbe",
   "metadata": {},
   "outputs": [],
   "source": [
    "result = (-b + math.sqrt(b**2-(4*a*c))) / (2*a)"
   ]
  },
  {
   "cell_type": "code",
   "execution_count": 30,
   "id": "0c8e89ce-0d51-457a-8bb1-23cda5a67208",
   "metadata": {},
   "outputs": [],
   "source": [
    "def get_result_quadratic_equation(a,b,c):\n",
    "    return (-b + math.sqrt(b**2-(4*a*c))) / (2*a)"
   ]
  },
  {
   "cell_type": "code",
   "execution_count": 32,
   "id": "7c91f51d-4881-4996-a0f1-6ba6abece86e",
   "metadata": {},
   "outputs": [
    {
     "data": {
      "text/plain": [
       "1.0"
      ]
     },
     "execution_count": 32,
     "metadata": {},
     "output_type": "execute_result"
    }
   ],
   "source": [
    "result = get_result_quadratic_equation(a,b,c)\n",
    "result"
   ]
  },
  {
   "cell_type": "code",
   "execution_count": null,
   "id": "b2195659-602c-41f4-87ca-b53a24b4d4fb",
   "metadata": {},
   "outputs": [],
   "source": [
    "# 책의 목차를 생각해 보세요...\n",
    "\n",
    "# 각 목차의 상세 내용은 해당 목차를 따라 갑니다.\n",
    "\n",
    "# -- main program\n",
    "# data = get_data()\n",
    "# result = process_data( data )\n",
    "# report_data(result)"
   ]
  }
 ],
 "metadata": {
  "kernelspec": {
   "display_name": "Python 3 (ipykernel)",
   "language": "python",
   "name": "python3"
  },
  "language_info": {
   "codemirror_mode": {
    "name": "ipython",
    "version": 3
   },
   "file_extension": ".py",
   "mimetype": "text/x-python",
   "name": "python",
   "nbconvert_exporter": "python",
   "pygments_lexer": "ipython3",
   "version": "3.10.8"
  }
 },
 "nbformat": 4,
 "nbformat_minor": 5
}
