{
  "nbformat": 4,
  "nbformat_minor": 0,
  "metadata": {
    "colab": {
      "provenance": []
    },
    "kernelspec": {
      "name": "python3",
      "display_name": "Python 3"
    },
    "language_info": {
      "name": "python"
    },
    "accelerator": "GPU",
    "gpuClass": "standard"
  },
  "cells": [
    {
      "cell_type": "code",
      "execution_count": 5,
      "metadata": {
        "id": "96LZbKO5w3pG"
      },
      "outputs": [],
      "source": [
        "import tensorflow as tf\n",
        "from sklearn.model_selection import train_test_split\n",
        "from tensorflow.keras.layers import Dense,Conv2D,Flatten,MaxPool2D,Dropout"
      ]
    },
    {
      "cell_type": "code",
      "source": [
        "# 데이터 로드\n",
        "(train_input,train_target),(test_input,test_target) =  tf.keras.datasets.fashion_mnist.load_data()"
      ],
      "metadata": {
        "colab": {
          "base_uri": "https://localhost:8080/"
        },
        "id": "p3jDJsp1xbcr",
        "outputId": "86e9690d-7be6-4b3f-f0d3-e37f5e5ba471"
      },
      "execution_count": 4,
      "outputs": [
        {
          "output_type": "stream",
          "name": "stdout",
          "text": [
            "Downloading data from https://storage.googleapis.com/tensorflow/tf-keras-datasets/train-labels-idx1-ubyte.gz\n",
            "29515/29515 [==============================] - 0s 0us/step\n",
            "Downloading data from https://storage.googleapis.com/tensorflow/tf-keras-datasets/train-images-idx3-ubyte.gz\n",
            "26421880/26421880 [==============================] - 0s 0us/step\n",
            "Downloading data from https://storage.googleapis.com/tensorflow/tf-keras-datasets/t10k-labels-idx1-ubyte.gz\n",
            "5148/5148 [==============================] - 0s 0us/step\n",
            "Downloading data from https://storage.googleapis.com/tensorflow/tf-keras-datasets/t10k-images-idx3-ubyte.gz\n",
            "4422102/4422102 [==============================] - 0s 0us/step\n"
          ]
        }
      ]
    },
    {
      "cell_type": "code",
      "source": [
        "# 표준화\n",
        "train_input_scaled = train_input / 255.0\n",
        "# reshape\n",
        "train_input_scaled_reshaped = train_input_scaled.reshape(-1,28,28,1)\n",
        "# train_test_split\n",
        "\n",
        "x_train,x_test,y_train,y_test =  train_test_split(train_input_scaled_reshaped,train_target,test_size=0.2,random_state=0)\n",
        "# CNN 모델 구성\n",
        "# C-M-C-M-F-D-DR-D\n",
        "model = tf.keras.Sequential([\n",
        "    Conv2D(32,3,activation='relu',input_shape=(28,28,1)),\n",
        "    MaxPool2D(2),\n",
        "    Conv2D(64,3,activation='relu'),\n",
        "    MaxPool2D(2),\n",
        "    Flatten(),\n",
        "    Dense(100,activation = 'relu'),\n",
        "    Dropout(0.2),\n",
        "    Dense(10,activation = 'softmax')\n",
        "]\n",
        ")"
      ],
      "metadata": {
        "id": "EdMTHJQbxw5q"
      },
      "execution_count": 7,
      "outputs": []
    },
    {
      "cell_type": "code",
      "source": [
        "model.summary()"
      ],
      "metadata": {
        "colab": {
          "base_uri": "https://localhost:8080/"
        },
        "id": "VVa_cWkd0rLO",
        "outputId": "a5ba4bde-8f7e-40a1-96a2-81ad480c6fdf"
      },
      "execution_count": 8,
      "outputs": [
        {
          "output_type": "stream",
          "name": "stdout",
          "text": [
            "Model: \"sequential\"\n",
            "_________________________________________________________________\n",
            " Layer (type)                Output Shape              Param #   \n",
            "=================================================================\n",
            " conv2d_2 (Conv2D)           (None, 26, 26, 32)        320       \n",
            "                                                                 \n",
            " max_pooling2d_2 (MaxPooling  (None, 13, 13, 32)       0         \n",
            " 2D)                                                             \n",
            "                                                                 \n",
            " conv2d_3 (Conv2D)           (None, 11, 11, 64)        18496     \n",
            "                                                                 \n",
            " max_pooling2d_3 (MaxPooling  (None, 5, 5, 64)         0         \n",
            " 2D)                                                             \n",
            "                                                                 \n",
            " flatten_1 (Flatten)         (None, 1600)              0         \n",
            "                                                                 \n",
            " dense_2 (Dense)             (None, 100)               160100    \n",
            "                                                                 \n",
            " dropout_1 (Dropout)         (None, 100)               0         \n",
            "                                                                 \n",
            " dense_3 (Dense)             (None, 10)                1010      \n",
            "                                                                 \n",
            "=================================================================\n",
            "Total params: 179,926\n",
            "Trainable params: 179,926\n",
            "Non-trainable params: 0\n",
            "_________________________________________________________________\n"
          ]
        }
      ]
    },
    {
      "cell_type": "code",
      "source": [
        "model.compile(optimizer='adam', loss=tf.keras.losses.sparse_categorical_crossentropy,metrics='acc')"
      ],
      "metadata": {
        "id": "kphT40tu00qS"
      },
      "execution_count": 9,
      "outputs": []
    },
    {
      "cell_type": "code",
      "source": [
        "from keras import callbacks\n",
        "checkPoint_cb = tf.keras.callbacks.ModelCheckpoint('/content/drive/MyDrive/Colab Notebooks/best-cnn-fashion-mnist.h5',\n",
        "                                                   save_best_only=True)\n",
        "earlyStopping_cb = tf.keras.callbacks.EarlyStopping(patience=3,restore_best_weights=True)\n",
        "model.fit(x_train,y_train,epochs=100,batch_size=50,callbacks=[checkPoint_cb,earlyStopping_cb],validation_data=(x_test,y_test))"
      ],
      "metadata": {
        "colab": {
          "base_uri": "https://localhost:8080/"
        },
        "id": "1HmAKn9N1Gcy",
        "outputId": "ef36e27b-f608-44b7-f1f3-a0e023885fd7"
      },
      "execution_count": 10,
      "outputs": [
        {
          "output_type": "stream",
          "name": "stdout",
          "text": [
            "Epoch 1/100\n",
            "960/960 [==============================] - 15s 4ms/step - loss: 0.5576 - acc: 0.7951 - val_loss: 0.3922 - val_acc: 0.8561\n",
            "Epoch 2/100\n",
            "960/960 [==============================] - 4s 4ms/step - loss: 0.3764 - acc: 0.8619 - val_loss: 0.3444 - val_acc: 0.8724\n",
            "Epoch 3/100\n",
            "960/960 [==============================] - 4s 5ms/step - loss: 0.3257 - acc: 0.8796 - val_loss: 0.3023 - val_acc: 0.8891\n",
            "Epoch 4/100\n",
            "960/960 [==============================] - 4s 4ms/step - loss: 0.2922 - acc: 0.8920 - val_loss: 0.2907 - val_acc: 0.8966\n",
            "Epoch 5/100\n",
            "960/960 [==============================] - 4s 4ms/step - loss: 0.2662 - acc: 0.9010 - val_loss: 0.2720 - val_acc: 0.9024\n",
            "Epoch 6/100\n",
            "960/960 [==============================] - 5s 5ms/step - loss: 0.2447 - acc: 0.9094 - val_loss: 0.2788 - val_acc: 0.8980\n",
            "Epoch 7/100\n",
            "960/960 [==============================] - 4s 4ms/step - loss: 0.2299 - acc: 0.9152 - val_loss: 0.2540 - val_acc: 0.9085\n",
            "Epoch 8/100\n",
            "960/960 [==============================] - 4s 4ms/step - loss: 0.2103 - acc: 0.9215 - val_loss: 0.2586 - val_acc: 0.9082\n",
            "Epoch 9/100\n",
            "960/960 [==============================] - 5s 5ms/step - loss: 0.1990 - acc: 0.9254 - val_loss: 0.2543 - val_acc: 0.9094\n",
            "Epoch 10/100\n",
            "960/960 [==============================] - 4s 4ms/step - loss: 0.1828 - acc: 0.9316 - val_loss: 0.2630 - val_acc: 0.9103\n"
          ]
        },
        {
          "output_type": "execute_result",
          "data": {
            "text/plain": [
              "<keras.callbacks.History at 0x7f31745baa30>"
            ]
          },
          "metadata": {},
          "execution_count": 10
        }
      ]
    },
    {
      "cell_type": "code",
      "source": [
        "model = tf.keras.models.load_model('/content/drive/MyDrive/Colab Notebooks/best-cnn-fashion-mnist.h5')"
      ],
      "metadata": {
        "id": "VIX9mdIS2dpi"
      },
      "execution_count": 11,
      "outputs": []
    },
    {
      "cell_type": "code",
      "source": [
        "model.layers[0].weights[0].shape, model.layers[0].weights[1].shape"
      ],
      "metadata": {
        "colab": {
          "base_uri": "https://localhost:8080/"
        },
        "id": "npJT-7lP28pT",
        "outputId": "6953e92b-7b65-44e0-f970-818dfbbb92d5"
      },
      "execution_count": 17,
      "outputs": [
        {
          "output_type": "execute_result",
          "data": {
            "text/plain": [
              "(TensorShape([3, 3, 1, 32]), TensorShape([32]))"
            ]
          },
          "metadata": {},
          "execution_count": 17
        }
      ]
    },
    {
      "cell_type": "code",
      "source": [
        "conv_weight = model.layers[0].weights[0]"
      ],
      "metadata": {
        "id": "iJeuhQQ33Iza"
      },
      "execution_count": 18,
      "outputs": []
    },
    {
      "cell_type": "code",
      "source": [
        "conv_weight = conv_weight.numpy()"
      ],
      "metadata": {
        "id": "bTP3UYDO37Ty"
      },
      "execution_count": 21,
      "outputs": []
    },
    {
      "cell_type": "code",
      "source": [
        "conv_weight.shape"
      ],
      "metadata": {
        "colab": {
          "base_uri": "https://localhost:8080/"
        },
        "id": "Ip0ZX68m4Bah",
        "outputId": "35311652-a49e-4b89-fc50-9983fb7fbfd2"
      },
      "execution_count": 23,
      "outputs": [
        {
          "output_type": "execute_result",
          "data": {
            "text/plain": [
              "(3, 3, 1, 32)"
            ]
          },
          "metadata": {},
          "execution_count": 23
        }
      ]
    },
    {
      "cell_type": "code",
      "source": [
        "import matplotlib.pyplot as plt"
      ],
      "metadata": {
        "id": "Ja28KsPz4JyZ"
      },
      "execution_count": 24,
      "outputs": []
    },
    {
      "cell_type": "code",
      "source": [
        "plt.figure(figsize=(15,2))\n",
        "for i in range(32):\n",
        "  plt.subplot(2,16,i+1)\n",
        "  plt.imshow(conv_weight[:,:,0,i])\n",
        "  plt.axis('off')\n",
        "plt.show()  "
      ],
      "metadata": {
        "colab": {
          "base_uri": "https://localhost:8080/",
          "height": 134
        },
        "id": "btoteXyD4Vc5",
        "outputId": "50dbe576-6689-4fce-eb6c-a9126350ba5e"
      },
      "execution_count": 33,
      "outputs": [
        {
          "output_type": "display_data",
          "data": {
            "text/plain": [
              "<Figure size 1080x144 with 32 Axes>"
            ],
            "image/png": "[encoded data removed]"
          },
          "metadata": {
            "needs_background": "light"
          }
        }
      ]
    },
    {
      "cell_type": "code",
      "source": [],
      "metadata": {
        "id": "WqSvjZ-u46qK"
      },
      "execution_count": null,
      "outputs": []
    }
  ]
}