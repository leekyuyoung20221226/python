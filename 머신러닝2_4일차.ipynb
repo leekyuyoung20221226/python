{
 "cells": [
  {
   "cell_type": "markdown",
   "id": "ec91c841-5b0c-430c-8cdb-82859554b51f",
   "metadata": {},
   "source": [
    "# 크롤링\n",
    "    라이브러리\n",
    "    API"
   ]
  },
  {
   "cell_type": "markdown",
   "id": "20e4faf3-51fd-4a67-90dd-d7ada9726e00",
   "metadata": {},
   "source": [
    "### 라이브러리\n",
    "    정적인 페이지 - BeautifulSoup\n",
    "    동적인 페이지 - Selenium"
   ]
  },
  {
   "cell_type": "code",
   "execution_count": 1,
   "id": "bb312ff9-ecee-4c70-98e1-1ae9a049fa90",
   "metadata": {},
   "outputs": [
    {
     "name": "stdout",
     "output_type": "stream",
     "text": [
      "Requirement already satisfied: beautifulsoup4 in c:\\users\\user\\miniconda3\\envs\\py\\lib\\site-packages (4.11.1)\n",
      "Requirement already satisfied: soupsieve>1.2 in c:\\users\\user\\miniconda3\\envs\\py\\lib\\site-packages (from beautifulsoup4) (2.3.2.post1)\n"
     ]
    }
   ],
   "source": [
    "!pip install beautifulsoup4"
   ]
  },
  {
   "cell_type": "code",
   "execution_count": 2,
   "id": "5af3c307-a863-4c32-8988-12eec4be7e25",
   "metadata": {},
   "outputs": [],
   "source": [
    "from bs4 import BeautifulSoup"
   ]
  },
  {
   "cell_type": "code",
   "execution_count": 3,
   "id": "36c1cc9a-8cd2-4715-85e1-59c4f1fc29bd",
   "metadata": {},
   "outputs": [],
   "source": [
    "html = '<h1 id=\"title\">머신러닝</h1><div class=\"top\">'\n",
    "html += '<ul class=\"menu\"><li><a href=https://accounts.kakao.com/login/?'\n",
    "html += 'continue=https%3A%2F%2Flogins.daum.net%2Faccounts%2Fksso.do%3Frescue%3Dtrue%26url%3Dhttps%253A%252F%252F'\n",
    "html += 'www.daum.net class=\"login\">로그인 </a></li></ul><ul class=\"brand\"><li>'\n",
    "html += '<a href=\"https://news.daum.net//>다음뉴스<li><a href=\"http://www.daum.co.kr/academy/\">다음</a></li></ul></div>'"
   ]
  },
  {
   "cell_type": "code",
   "execution_count": 4,
   "id": "cc470d1a-33dc-47ce-8bc0-c11c81fb2d8e",
   "metadata": {},
   "outputs": [
    {
     "data": {
      "text/plain": [
       "'<h1 id=\"title\">머신러닝</h1><div class=\"top\"><ul class=\"menu\"><li><a href=https://accounts.kakao.com/login/?continue=https%3A%2F%2Flogins.daum.net%2Faccounts%2Fksso.do%3Frescue%3Dtrue%26url%3Dhttps%253A%252F%252Fwww.daum.net class=\"login\">로그인 </a></li></ul><ul class=\"brand\"><li><a href=\"https://news.daum.net//>다음뉴스<li><a href=\"http://www.daum.co.kr/academy/\">다음</a></li></ul></div>'"
      ]
     },
     "execution_count": 4,
     "metadata": {},
     "output_type": "execute_result"
    }
   ],
   "source": [
    "html"
   ]
  },
  {
   "cell_type": "code",
   "execution_count": 5,
   "id": "71eae3e7-4ba3-4701-886f-c8e2f6fbf441",
   "metadata": {},
   "outputs": [],
   "source": [
    "soup = BeautifulSoup(html,'html.parser')"
   ]
  },
  {
   "cell_type": "code",
   "execution_count": 6,
   "id": "6164ee48-7063-4510-a877-26f9c2fefcc5",
   "metadata": {},
   "outputs": [
    {
     "name": "stdout",
     "output_type": "stream",
     "text": [
      "<h1 id=\"title\">\n",
      " 머신러닝\n",
      "</h1>\n",
      "<div class=\"top\">\n",
      " <ul class=\"menu\">\n",
      "  <li>\n",
      "   <a class=\"login\" href=\"https://accounts.kakao.com/login/?continue=https%3A%2F%2Flogins.daum.net%2Faccounts%2Fksso.do%3Frescue%3Dtrue%26url%3Dhttps%253A%252F%252Fwww.daum.net\">\n",
      "    로그인\n",
      "   </a>\n",
      "  </li>\n",
      " </ul>\n",
      " <ul class=\"brand\">\n",
      "  <li>\n",
      "   <a \"=\"\" academy=\"\" href=\"https://news.daum.net//&gt;다음뉴스&lt;li&gt;&lt;a href=\" http:=\"\" www.daum.co.kr=\"\">\n",
      "    다음\n",
      "   </a>\n",
      "  </li>\n",
      " </ul>\n",
      "</div>\n"
     ]
    }
   ],
   "source": [
    "print(soup.prettify())"
   ]
  },
  {
   "cell_type": "code",
   "execution_count": 7,
   "id": "f6a0867c-8721-4709-bffb-2261d715f364",
   "metadata": {},
   "outputs": [
    {
     "data": {
      "text/plain": [
       "<h1 id=\"title\">머신러닝</h1>"
      ]
     },
     "execution_count": 7,
     "metadata": {},
     "output_type": "execute_result"
    }
   ],
   "source": [
    "soup.h1"
   ]
  },
  {
   "cell_type": "code",
   "execution_count": 8,
   "id": "b0630bcc-0368-425e-a939-5f4ff1ff4b04",
   "metadata": {},
   "outputs": [
    {
     "data": {
      "text/plain": [
       "<h1 id=\"title\">머신러닝</h1>"
      ]
     },
     "execution_count": 8,
     "metadata": {},
     "output_type": "execute_result"
    }
   ],
   "source": [
    "tag_h1 = soup.h1\n",
    "tag_h1"
   ]
  },
  {
   "cell_type": "code",
   "execution_count": 9,
   "id": "e09332bb-3b85-4cc2-8021-b24ab74286cb",
   "metadata": {},
   "outputs": [
    {
     "data": {
      "text/plain": [
       "<div class=\"top\"><ul class=\"menu\"><li><a class=\"login\" href=\"https://accounts.kakao.com/login/?continue=https%3A%2F%2Flogins.daum.net%2Faccounts%2Fksso.do%3Frescue%3Dtrue%26url%3Dhttps%253A%252F%252Fwww.daum.net\">로그인 </a></li></ul><ul class=\"brand\"><li><a \"=\"\" academy=\"\" href=\"https://news.daum.net//&gt;다음뉴스&lt;li&gt;&lt;a href=\" http:=\"\" www.daum.co.kr=\"\">다음</a></li></ul></div>"
      ]
     },
     "execution_count": 9,
     "metadata": {},
     "output_type": "execute_result"
    }
   ],
   "source": [
    "tag_div = soup.div\n",
    "tag_div"
   ]
  },
  {
   "cell_type": "code",
   "execution_count": 10,
   "id": "b24de892-42fd-40cf-9530-4e1b87debd94",
   "metadata": {},
   "outputs": [
    {
     "data": {
      "text/plain": [
       "<li><a class=\"login\" href=\"https://accounts.kakao.com/login/?continue=https%3A%2F%2Flogins.daum.net%2Faccounts%2Fksso.do%3Frescue%3Dtrue%26url%3Dhttps%253A%252F%252Fwww.daum.net\">로그인 </a></li>"
      ]
     },
     "execution_count": 10,
     "metadata": {},
     "output_type": "execute_result"
    }
   ],
   "source": [
    "tag_ul =  soup.li\n",
    "tag_ul"
   ]
  },
  {
   "cell_type": "code",
   "execution_count": 11,
   "id": "0b75ae60-da9d-4fe5-ada9-5c6bdf70349a",
   "metadata": {},
   "outputs": [
    {
     "data": {
      "text/plain": [
       "<a class=\"login\" href=\"https://accounts.kakao.com/login/?continue=https%3A%2F%2Flogins.daum.net%2Faccounts%2Fksso.do%3Frescue%3Dtrue%26url%3Dhttps%253A%252F%252Fwww.daum.net\">로그인 </a>"
      ]
     },
     "execution_count": 11,
     "metadata": {},
     "output_type": "execute_result"
    }
   ],
   "source": [
    "tag_a = soup.a\n",
    "tag_a"
   ]
  },
  {
   "cell_type": "markdown",
   "id": "e9cbc1b6-1880-4723-9f4d-7cbb7f0be1e9",
   "metadata": {},
   "source": [
    "### 지정된 태그 모두 파싱"
   ]
  },
  {
   "cell_type": "code",
   "execution_count": 12,
   "id": "7e69c4d2-7e91-44da-8dcc-467b30c49d06",
   "metadata": {},
   "outputs": [
    {
     "data": {
      "text/plain": [
       "[<ul class=\"menu\"><li><a class=\"login\" href=\"https://accounts.kakao.com/login/?continue=https%3A%2F%2Flogins.daum.net%2Faccounts%2Fksso.do%3Frescue%3Dtrue%26url%3Dhttps%253A%252F%252Fwww.daum.net\">로그인 </a></li></ul>,\n",
       " <ul class=\"brand\"><li><a \"=\"\" academy=\"\" href=\"https://news.daum.net//&gt;다음뉴스&lt;li&gt;&lt;a href=\" http:=\"\" www.daum.co.kr=\"\">다음</a></li></ul>]"
      ]
     },
     "execution_count": 12,
     "metadata": {},
     "output_type": "execute_result"
    }
   ],
   "source": [
    "tag_ul_all = soup.find_all('ul')\n",
    "tag_ul_all"
   ]
  },
  {
   "cell_type": "code",
   "execution_count": 13,
   "id": "2ef25061-4989-4024-a9bd-72cc80aea5b2",
   "metadata": {},
   "outputs": [
    {
     "data": {
      "text/plain": [
       "[<li><a class=\"login\" href=\"https://accounts.kakao.com/login/?continue=https%3A%2F%2Flogins.daum.net%2Faccounts%2Fksso.do%3Frescue%3Dtrue%26url%3Dhttps%253A%252F%252Fwww.daum.net\">로그인 </a></li>,\n",
       " <li><a \"=\"\" academy=\"\" href=\"https://news.daum.net//&gt;다음뉴스&lt;li&gt;&lt;a href=\" http:=\"\" www.daum.co.kr=\"\">다음</a></li>]"
      ]
     },
     "execution_count": 13,
     "metadata": {},
     "output_type": "execute_result"
    }
   ],
   "source": [
    "tag_li_all = soup.find_all('li')\n",
    "tag_li_all"
   ]
  },
  {
   "cell_type": "code",
   "execution_count": 14,
   "id": "be5853d5-3c05-43ad-834c-f9d27eb33bd3",
   "metadata": {},
   "outputs": [
    {
     "data": {
      "text/plain": [
       "[<a class=\"login\" href=\"https://accounts.kakao.com/login/?continue=https%3A%2F%2Flogins.daum.net%2Faccounts%2Fksso.do%3Frescue%3Dtrue%26url%3Dhttps%253A%252F%252Fwww.daum.net\">로그인 </a>,\n",
       " <a \"=\"\" academy=\"\" href=\"https://news.daum.net//&gt;다음뉴스&lt;li&gt;&lt;a href=\" http:=\"\" www.daum.co.kr=\"\">다음</a>]"
      ]
     },
     "execution_count": 14,
     "metadata": {},
     "output_type": "execute_result"
    }
   ],
   "source": [
    "tag_a_all = soup.find_all('a')\n",
    "tag_a_all"
   ]
  },
  {
   "cell_type": "markdown",
   "id": "069817c3-6c6e-4afd-94ad-e7bd5cb718a6",
   "metadata": {},
   "source": [
    "### 속성을 이용한 파싱"
   ]
  },
  {
   "cell_type": "code",
   "execution_count": 15,
   "id": "6d781ad9-4bdb-47ea-899b-d3c092278e22",
   "metadata": {},
   "outputs": [
    {
     "data": {
      "text/plain": [
       "<a class=\"login\" href=\"https://accounts.kakao.com/login/?continue=https%3A%2F%2Flogins.daum.net%2Faccounts%2Fksso.do%3Frescue%3Dtrue%26url%3Dhttps%253A%252F%252Fwww.daum.net\">로그인 </a>"
      ]
     },
     "execution_count": 15,
     "metadata": {},
     "output_type": "execute_result"
    }
   ],
   "source": [
    "tag_a"
   ]
  },
  {
   "cell_type": "code",
   "execution_count": 16,
   "id": "5f5e4f01-cf00-4895-a213-c9db0800244c",
   "metadata": {},
   "outputs": [
    {
     "data": {
      "text/plain": [
       "{'href': 'https://accounts.kakao.com/login/?continue=https%3A%2F%2Flogins.daum.net%2Faccounts%2Fksso.do%3Frescue%3Dtrue%26url%3Dhttps%253A%252F%252Fwww.daum.net',\n",
       " 'class': ['login']}"
      ]
     },
     "execution_count": 16,
     "metadata": {},
     "output_type": "execute_result"
    }
   ],
   "source": [
    "tag_a.attrs"
   ]
  },
  {
   "cell_type": "code",
   "execution_count": 17,
   "id": "f01a7559-4d82-493c-95e7-d010e89542dc",
   "metadata": {},
   "outputs": [
    {
     "data": {
      "text/plain": [
       "'https://accounts.kakao.com/login/?continue=https%3A%2F%2Flogins.daum.net%2Faccounts%2Fksso.do%3Frescue%3Dtrue%26url%3Dhttps%253A%252F%252Fwww.daum.net'"
      ]
     },
     "execution_count": 17,
     "metadata": {},
     "output_type": "execute_result"
    }
   ],
   "source": [
    "tag_a['href']"
   ]
  },
  {
   "cell_type": "code",
   "execution_count": 18,
   "id": "07b83f04-d04c-4dca-8390-a5cbd3af23ae",
   "metadata": {},
   "outputs": [
    {
     "data": {
      "text/plain": [
       "'https://accounts.kakao.com/login/?continue=https%3A%2F%2Flogins.daum.net%2Faccounts%2Fksso.do%3Frescue%3Dtrue%26url%3Dhttps%253A%252F%252Fwww.daum.net'"
      ]
     },
     "execution_count": 18,
     "metadata": {},
     "output_type": "execute_result"
    }
   ],
   "source": [
    "tag_a.attrs['href']"
   ]
  },
  {
   "cell_type": "code",
   "execution_count": 19,
   "id": "c742f190-0808-4aaf-97c9-2d1779132e65",
   "metadata": {},
   "outputs": [
    {
     "data": {
      "text/plain": [
       "(['login'], ['login'])"
      ]
     },
     "execution_count": 19,
     "metadata": {},
     "output_type": "execute_result"
    }
   ],
   "source": [
    "tag_a['class'], tag_a.attrs['class']"
   ]
  },
  {
   "cell_type": "code",
   "execution_count": 20,
   "id": "87e51fa5-5e1e-4f6b-b1ef-128fdf237189",
   "metadata": {},
   "outputs": [
    {
     "data": {
      "text/plain": [
       "<h1 id=\"title\">머신러닝</h1>"
      ]
     },
     "execution_count": 20,
     "metadata": {},
     "output_type": "execute_result"
    }
   ],
   "source": [
    "title = soup.find(id='title')\n",
    "title"
   ]
  },
  {
   "cell_type": "code",
   "execution_count": 21,
   "id": "780b87cc-1638-4965-a235-0386648ee7b2",
   "metadata": {},
   "outputs": [
    {
     "data": {
      "text/plain": [
       "'머신러닝'"
      ]
     },
     "execution_count": 21,
     "metadata": {},
     "output_type": "execute_result"
    }
   ],
   "source": [
    "title.string"
   ]
  },
  {
   "cell_type": "code",
   "execution_count": 22,
   "id": "f6ae49da-eb6b-4df3-aa9a-2427cb801cdf",
   "metadata": {},
   "outputs": [
    {
     "data": {
      "text/plain": [
       "[<li><a class=\"login\" href=\"https://accounts.kakao.com/login/?continue=https%3A%2F%2Flogins.daum.net%2Faccounts%2Fksso.do%3Frescue%3Dtrue%26url%3Dhttps%253A%252F%252Fwww.daum.net\">로그인 </a></li>]"
      ]
     },
     "execution_count": 22,
     "metadata": {},
     "output_type": "execute_result"
    }
   ],
   "source": [
    "li_list = soup.select('div>ul.menu>li')\n",
    "li_list"
   ]
  },
  {
   "cell_type": "markdown",
   "id": "997dcfad-da80-4953-9f07-39035cabf17b",
   "metadata": {},
   "source": [
    "#### 정리............. \n",
    "    attrs : 속성과 값을 dic 형태로 반환\n",
    "    find() : 속성을 이용해서 특정 태그 파싱\n",
    "    select() : 지정한 태그를 모두 파싱해서 리스트 구성  태그#id 속성값    태그.class 속성값"
   ]
  },
  {
   "cell_type": "markdown",
   "id": "ae0eaeb3-8981-48cc-a6ed-91684188441e",
   "metadata": {},
   "source": [
    "### 웹사이트가 크롤링을 허용하는지 확인\n",
    "    크롤링할 주소/robots.txt"
   ]
  },
  {
   "cell_type": "code",
   "execution_count": 23,
   "id": "0d2f93ff-8a45-49b0-af58-7b4157e83b61",
   "metadata": {},
   "outputs": [],
   "source": [
    "import urllib.request"
   ]
  },
  {
   "cell_type": "code",
   "execution_count": 24,
   "id": "8be64fa9-1ad7-4db0-bb88-0136a901524f",
   "metadata": {},
   "outputs": [
    {
     "name": "stdout",
     "output_type": "stream",
     "text": [
      "Requirement already satisfied: tqdm in c:\\users\\user\\miniconda3\\envs\\py\\lib\\site-packages (4.64.1)\n",
      "Requirement already satisfied: colorama in c:\\users\\user\\miniconda3\\envs\\py\\lib\\site-packages (from tqdm) (0.4.5)\n"
     ]
    }
   ],
   "source": [
    "!pip install tqdm"
   ]
  },
  {
   "cell_type": "code",
   "execution_count": 25,
   "id": "a51f8f01-6ddb-4c59-80df-6f17c09130e8",
   "metadata": {},
   "outputs": [],
   "source": [
    "from tqdm import tqdm"
   ]
  },
  {
   "cell_type": "code",
   "execution_count": 26,
   "id": "fb18e642-3946-4b52-9459-82b6f951cada",
   "metadata": {},
   "outputs": [],
   "source": [
    "def getStoreFromPage(page):\n",
    "    url = f'https://www.hollys.co.kr/store/korea/korStore2.do?pageNo={page}&sido=&gugun=&store='\n",
    "    html = urllib.request.urlopen(url)\n",
    "    soup = BeautifulSoup(html,'html.parser')\n",
    "    tag_tbody = soup.find('tbody')\n",
    "    tag_tbody_trs = tag_tbody.find_all('tr')\n",
    "    for s in tag_tbody_trs:    \n",
    "        tag_tds = s.find_all('td')\n",
    "        result.append([tag_tds[0].string]+[tag_tds[1].string]+[tag_tds[2].string]+[tag_tds[3].string]+[tag_tds[5].string])"
   ]
  },
  {
   "cell_type": "code",
   "execution_count": 27,
   "id": "ed114956-7398-400b-aa4a-92bc59421a4f",
   "metadata": {},
   "outputs": [
    {
     "name": "stderr",
     "output_type": "stream",
     "text": [
      "100%|███████████████████████████████████████████████████████████████████| 53/53 [00:14<00:00,  3.65it/s]\n"
     ]
    }
   ],
   "source": [
    "result = []\n",
    "for page in tqdm(range(1,53+1)):\n",
    "    getStoreFromPage(page)"
   ]
  },
  {
   "cell_type": "code",
   "execution_count": 28,
   "id": "41ead91b-953d-4c7f-b6be-b38de4507db8",
   "metadata": {
    "tags": []
   },
   "outputs": [],
   "source": [
    "import pandas as pd"
   ]
  },
  {
   "cell_type": "code",
   "execution_count": 29,
   "id": "c8040dc0-b23c-4ded-acd0-cc1af22a90b5",
   "metadata": {},
   "outputs": [
    {
     "data": {
      "text/html": [
       "<div>\n",
       "<style scoped>\n",
       "    .dataframe tbody tr th:only-of-type {\n",
       "        vertical-align: middle;\n",
       "    }\n",
       "\n",
       "    .dataframe tbody tr th {\n",
       "        vertical-align: top;\n",
       "    }\n",
       "\n",
       "    .dataframe thead th {\n",
       "        text-align: right;\n",
       "    }\n",
       "</style>\n",
       "<table border=\"1\" class=\"dataframe\">\n",
       "  <thead>\n",
       "    <tr style=\"text-align: right;\">\n",
       "      <th></th>\n",
       "      <th>지역</th>\n",
       "      <th>매장명</th>\n",
       "      <th>현황</th>\n",
       "      <th>주소</th>\n",
       "      <th>전화번호</th>\n",
       "    </tr>\n",
       "  </thead>\n",
       "  <tbody>\n",
       "    <tr>\n",
       "      <th>0</th>\n",
       "      <td>충남 천안시 동남구</td>\n",
       "      <td>순천향대학교 천안병원 외래센터점</td>\n",
       "      <td>영업중</td>\n",
       "      <td>충청남도 천안시 동남구 순천향6길 31 (봉명동, 순천향대학교천안병원) 외래센터 2층</td>\n",
       "      <td>.</td>\n",
       "    </tr>\n",
       "    <tr>\n",
       "      <th>1</th>\n",
       "      <td>충남 천안시 동남구</td>\n",
       "      <td>순천향대학교 천안병원 본관점</td>\n",
       "      <td>영업중</td>\n",
       "      <td>충청남도 천안시 동남구 순천향6길 31 (봉명동, 순천향대학교천안병원) 본관 1층</td>\n",
       "      <td>.</td>\n",
       "    </tr>\n",
       "    <tr>\n",
       "      <th>2</th>\n",
       "      <td>충남 공주시</td>\n",
       "      <td>(천)이인휴게소점</td>\n",
       "      <td>영업중</td>\n",
       "      <td>충청남도 공주시 이인면 논산천안고속도로 32 (이인상행휴게소) .</td>\n",
       "      <td>.</td>\n",
       "    </tr>\n",
       "    <tr>\n",
       "      <th>3</th>\n",
       "      <td>충남 공주시</td>\n",
       "      <td>(논)탄천휴게소2호점</td>\n",
       "      <td>영업중</td>\n",
       "      <td>충청남도 공주시 탄천면 논산천안고속도로 27 (탄천하행휴게소) .</td>\n",
       "      <td>.</td>\n",
       "    </tr>\n",
       "    <tr>\n",
       "      <th>4</th>\n",
       "      <td>서울 강남구</td>\n",
       "      <td>강남우리라운지점</td>\n",
       "      <td>영업중</td>\n",
       "      <td>서울특별시 강남구 테헤란로 301 역삼동 701-02 삼정빌딩 1층</td>\n",
       "      <td>02-566-1002</td>\n",
       "    </tr>\n",
       "  </tbody>\n",
       "</table>\n",
       "</div>"
      ],
      "text/plain": [
       "           지역                매장명   현황  \\\n",
       "0  충남 천안시 동남구  순천향대학교 천안병원 외래센터점  영업중   \n",
       "1  충남 천안시 동남구    순천향대학교 천안병원 본관점  영업중   \n",
       "2      충남 공주시          (천)이인휴게소점  영업중   \n",
       "3      충남 공주시        (논)탄천휴게소2호점  영업중   \n",
       "4      서울 강남구           강남우리라운지점  영업중   \n",
       "\n",
       "                                                주소         전화번호  \n",
       "0  충청남도 천안시 동남구 순천향6길 31 (봉명동, 순천향대학교천안병원) 외래센터 2층            .  \n",
       "1    충청남도 천안시 동남구 순천향6길 31 (봉명동, 순천향대학교천안병원) 본관 1층            .  \n",
       "2             충청남도 공주시 이인면 논산천안고속도로 32 (이인상행휴게소) .            .  \n",
       "3             충청남도 공주시 탄천면 논산천안고속도로 27 (탄천하행휴게소) .            .  \n",
       "4            서울특별시 강남구 테헤란로 301 역삼동 701-02 삼정빌딩 1층  02-566-1002  "
      ]
     },
     "execution_count": 29,
     "metadata": {},
     "output_type": "execute_result"
    }
   ],
   "source": [
    "df = pd.DataFrame(result,columns=['지역','매장명','현황','주소','전화번호'])\n",
    "df.head()"
   ]
  },
  {
   "cell_type": "code",
   "execution_count": 30,
   "id": "b8883bfe-5f4b-4c4f-b14b-4bdaa954c5d7",
   "metadata": {},
   "outputs": [],
   "source": [
    "df.to_csv('./hollyCoffeStore.csv')"
   ]
  },
  {
   "cell_type": "code",
   "execution_count": 31,
   "id": "266541a2-6485-45d6-a4a3-4c52218a8fef",
   "metadata": {},
   "outputs": [],
   "source": [
    "df['지역2'] = df['지역'].apply(lambda x : x.split()[0])"
   ]
  },
  {
   "cell_type": "code",
   "execution_count": 32,
   "id": "17518d4c-1b36-46f3-9f91-54abc4479a68",
   "metadata": {},
   "outputs": [
    {
     "data": {
      "text/plain": [
       "array(['충남', '서울', '경기', '대구', '전남', '전북', '제주', '부산', '광주', '강원', '경남',\n",
       "       '대전', '울산', '충북', '인천', '세종', '경북'], dtype=object)"
      ]
     },
     "execution_count": 32,
     "metadata": {},
     "output_type": "execute_result"
    }
   ],
   "source": [
    "df['지역2'].unique()"
   ]
  },
  {
   "cell_type": "code",
   "execution_count": 33,
   "id": "97d2413e-6833-45bd-bddc-90c1f764e499",
   "metadata": {},
   "outputs": [],
   "source": [
    "# 지역2를 기준으로 매장이 총 몇개 있는지 count"
   ]
  },
  {
   "cell_type": "code",
   "execution_count": 34,
   "id": "965013dc-d779-433f-89e0-3bebcd6f75bc",
   "metadata": {},
   "outputs": [],
   "source": [
    "grouped = df.groupby(['지역2'])"
   ]
  },
  {
   "cell_type": "code",
   "execution_count": 35,
   "id": "04137c35-2af0-4a4c-9483-7d6129ece23e",
   "metadata": {
    "tags": []
   },
   "outputs": [
    {
     "name": "stdout",
     "output_type": "stream",
     "text": [
      "강원\n",
      "         지역         매장명   현황                                   주소  \\\n",
      "19   강원 홍천군  (상)홍천휴게소R점  영업중            강원도 홍천군 화촌면 서울양양고속도로 83 .   \n",
      "99   강원 속초시     속초센텀마크점  영업중         강원도 속초시 중앙로121번길 28 (금호동) 1층   \n",
      "112  강원 속초시     속초영랑해변점  영업중  강원도 속초시 영랑해안길 205 (영랑동 148-172) 할리스   \n",
      "137  강원 속초시      속초엑스포점  영업중          강원도 속초시 청초호반로 75 (조양동) 1~3층   \n",
      "147  강원 양양군     낙산해수욕장점  영업중                강원도 양양군 강현면 해맞이길 18 .   \n",
      "155  강원 인제군         인제점  영업중                강원도 인제군 인제읍 인제로 198 .   \n",
      "299  강원 홍천군   (하)홍천휴게소점  영업중            강원도 홍천군 화촌면 서울양양고속도로 84 .   \n",
      "337  강원 홍천군         홍천점  영업중                 강원도 홍천군 홍천읍 꽃뫼로 98 .   \n",
      "371  강원 동해시     동해촛대바위점  영업중         강원도 동해시 촛대바위길 16 (추암동 1-6) .   \n",
      "378  강원 원주시     원주단계택지점  영업중                 강원도 원주시 장미공원길 27-9 .   \n",
      "404  강원 동해시       동해묵호점  영업중         강원도 동해시 해안로 368 (평릉동, 시드니) .   \n",
      "426  강원 원주시   (춘)치악휴게소점  영업중            강원도 원주시 신림면 다리실2길 32 0000   \n",
      "434  강원 원주시       원주중앙점  영업중                강원도 원주시 중평길 4, 2~4층 .   \n",
      "438  강원 강릉시     강릉항마리나점  영업중              강원도 강릉시 창해로14번길 51-20 .   \n",
      "442  강원 원주시   (부)치악휴게소점  영업중                강원도 원주시 신림면 치악로 416 0   \n",
      "\n",
      "              전화번호 지역2  \n",
      "19   010-4668-2505  강원  \n",
      "99    033-638-8700  강원  \n",
      "112   033-637-0164  강원  \n",
      "137   033-638-2123  강원  \n",
      "147   033-673-0053  강원  \n",
      "155   033-461-7767  강원  \n",
      "299              .  강원  \n",
      "337   033-432-3368  강원  \n",
      "371   033-522-0117  강원  \n",
      "378   033-745-5007  강원  \n",
      "404   033-534-8902  강원  \n",
      "426   033-762-8129  강원  \n",
      "434   033-748-1188  강원  \n",
      "438  070-8816-6543  강원  \n",
      "442   033-762-8128  강원  \n",
      "--------------------------------\n",
      "경기\n",
      "              지역         매장명   현황  \\\n",
      "5         경기 수원시       수원영통점  영업중   \n",
      "6     경기 고양시 덕양구        원흥역점  영업중   \n",
      "16    경기 고양시 덕양구       고양향동점  영업중   \n",
      "22   경기 고양시 일산동구      성남모란역점  영업중   \n",
      "27   경기 고양시 일산동구  롯데시네마라페스타점  영업중   \n",
      "..           ...         ...  ...   \n",
      "501   경기 성남시 분당구    분당수내엔타워점  영업중   \n",
      "506   경기 수원시 권선구       수원권선점  영업중   \n",
      "511   경기 수원시 팔달구        수원역점  영업중   \n",
      "513   경기 성남시 분당구      성남터미널점  영업중   \n",
      "516   경기 성남시 수정구        신흥역점  영업중   \n",
      "\n",
      "                                                   주소           전화번호 지역2  \n",
      "5                      경기도 수원시 영통구 청명남로 10 영통동 1000-1   031-202-3356  경기  \n",
      "6                  경기 고양시 덕양구 권율대로 690 201동 108호~111호   031.967.0302  경기  \n",
      "16             경기도 고양시 덕양구 향기3로 9, 101호 (향동동) 향동동 536   02-3158-0031  경기  \n",
      "22              경기도 성남시 중원구 성남대로1148번길 8 1층, 성남동 3453   031-758-5953  경기  \n",
      "27            경기도 고양시 일산동구 무궁화로 32-34 (장항동, 라페스타C) 3층  070-7733-0384  경기  \n",
      "..                                                ...            ...  ..  \n",
      "501    경기도 성남시 분당구 황새울로200번길 26, 엔타워빌딩 1층 (수내동, 교보생명)   031-712-0341  경기  \n",
      "506                 경기도 수원시 권선구  권선로 667 (권선동) 1층 할리스   031-302-2601  경기  \n",
      "511                         경기도 수원시 팔달구 향교로 6 (매산로1가)   031-257-3313  경기  \n",
      "513  경기도 성남시 분당구  성남대로925번길 16 (야탑동, 분당종합터미널) 1층 할리스    031-725-1004  경기  \n",
      "516                 경기도 성남시 수정구 산성대로 265 (신흥동) 2층 할리스   031-626-6140  경기  \n",
      "\n",
      "[121 rows x 6 columns]\n",
      "--------------------------------\n",
      "경남\n",
      "               지역          매장명   현황  \\\n",
      "25         경남 김해시      김해복음병원점  영업중   \n",
      "42         경남 김해시       김해인제대점  영업중   \n",
      "62   경남 창원시 마산회원구        마산호계점  영업중   \n",
      "63     경남 창원시 진해구        진해경화점  영업중   \n",
      "77         경남 거제시       거제휴게소점  영업중   \n",
      "81   경남 창원시 마산합포구        마산저도점  영업중   \n",
      "135    경남 창원시 성산구        창원귀산점  영업중   \n",
      "165    경남 창원시 진해구        진해속천점  영업중   \n",
      "173        경남 밀양시        밀양킹콩점  영업중   \n",
      "193        경남 진주시      진주혁신도시점  영업중   \n",
      "239        경남 양산시  양산부산대병원치과동점  영업중   \n",
      "240        경남 양산시    양산부산대병원본점  영업중   \n",
      "254        경남 진주시        진주평거점  영업중   \n",
      "294    경남 창원시 의창구        창원팔용점  영업중   \n",
      "303    경남 창원시 성산구        상남중앙점  영업중   \n",
      "353        경남 양산시        양산원동점  영업중   \n",
      "366        경남 사천시    (상)사천휴게소점  영업중   \n",
      "367        경남 사천시    (하)사천휴게소점  영업중   \n",
      "382        경남 양산시       양산신도시점  영업중   \n",
      "412        경남 거창군    (상)거창휴게소점  영업중   \n",
      "413        경남 양산시    (서)양산휴게소점  영업중   \n",
      "414        경남 거창군    (하)거창휴게소점  영업중   \n",
      "459        경남 진주시        진주교대점  영업중   \n",
      "492    경남 창원시 성산구        창원상남점  영업중   \n",
      "508  경남 창원시 마산회원구       마산터미널점  영업중   \n",
      "\n",
      "                                                    주소           전화번호 지역2  \n",
      "25                   경상남도 김해시 활천로 44 (삼정동) 할리스 김해복음병원점   055-723-2053  경남  \n",
      "42                     경상남도 김해시 인제로 168 (어방동) 정석빌딩101호   055-314-8589  경남  \n",
      "62    경상남도 창원시 마산회원구 내서읍 광려천동로 28 (내서신화하니엘더시티) 상가 1~2층              .  경남  \n",
      "63                        경상남도 창원시 진해구 조천북로 76 (경화동) .   055-547-9906  경남  \n",
      "77                            경상남도 거제시 장목면 거가대로 1068 .   055-736-2200  경남  \n",
      "81               경상남도 창원시 마산합포구 구산면 해양관광로 1872-50 2~3층   055-243-1052  경남  \n",
      "135                    경상남도 창원시 성산구 삼귀로 189 귀곡동 723-21   055-266-1353  경남  \n",
      "165              경상남도 창원시 진해구 태평로 132 (속천동) 2~3층 할리스커피   055-547-9777  경남  \n",
      "173                      경상남도 밀양시 삼문강변로 272 (삼문동) 2,3층   055-351-0056  경남  \n",
      "193                      경상남도 진주시 에나로128번길 24 (충무공동) .  070-7543-2274  경남  \n",
      "239  경상남도 양산시 물금읍 금오로 20, 양산부산대학교병원 치과병동 1층(범어리 276...  070-4442-0608  경남  \n",
      "240  경상남도 양산시 물금읍 금오로 20, 양산부산대학교병원 중앙진료동 1층(범어리 27...   055-362-4582  경남  \n",
      "254               경상남도 진주시 진양호로 46 (평거동) 1층,2층 (에스원빌딩)   055-745-9633  경남  \n",
      "294                  경상남도 창원시 의창구 창원대로18번길 6-8 (팔용동) .   055-298-3434  경남  \n",
      "303              경상남도 창원시 성산구 마디미로38번길 11 (상남동 25) 할리스   055-261-5925  경남  \n",
      "353                            경상남도 양산시 원동면 원동로 1429 .   055-372-0268  경남  \n",
      "366                    경상남도 사천시 곤양면 묵실길 31-11 (순천방향) .   055-854-3574  경남  \n",
      "367                      경상남도 사천시 곤양면 서삼로 619 (부산방향) .   055-854-3134  경남  \n",
      "382                             경상남도 양산시 물금읍 야리로 127 .   055-366-0268  경남  \n",
      "412           경상남도 거창군 가조면 가조가야로 1523 (도리, 거창휴게소(상)) .   055-943-0992  경남  \n",
      "413               경상남도 양산시 동면 목장길 15-50 (내송리, 양산휴게소) .   055-384-0144  경남  \n",
      "414                       경상남도 거창군 가조면 가조가야로 1543-81 .   055-943-0992  경남  \n",
      "459                                경상남도 진주시 진양호로 348 .   055-745-3303  경남  \n",
      "492         경상남도 창원시 성산구 마디미로31번길 3 (상남동 상남동 18-9) 할리스   055-261-5955  경남  \n",
      "508  경상남도 창원시 마산회원구 합성옛길 159, 마산시외버스터미널 1층(합성동 267)...   055-251-5698  경남  \n",
      "--------------------------------\n",
      "경북\n",
      "         지역         매장명   현황  \\\n",
      "111  경북 성주군      성주성밖숲점  영업중   \n",
      "168  경북 칠곡군       칠곡왜관점  영업중   \n",
      "248  경북 구미시   (하)선산휴게소점  영업중   \n",
      "268  경북 경주시      경주보불로점  영업중   \n",
      "287  경북 구미시      구미CGV점  영업중   \n",
      "291  경북 구미시      구미금오산점  영업중   \n",
      "320  경북 김천시  (상)추풍령휴게소점  영업중   \n",
      "339  경북 김천시     김천혁신도시점  영업중   \n",
      "372  경북 경산시       경산중방점  영업중   \n",
      "381  경북 군위군   (상)군위휴게소점  영업중   \n",
      "388  경북 성주군  (상)남성주휴게소점  영업중   \n",
      "393  경북 경주시   (상)외동휴게소점  영업중   \n",
      "394  경북 성주군  (하)남성주휴게소점  영업중   \n",
      "405  경북 경주시       경주황성점  영업중   \n",
      "449  경북 군위군   (하)군위휴게소점  영업중   \n",
      "452  경북 문경시   (하)문경휴게소점  영업중   \n",
      "\n",
      "                                                    주소           전화번호 지역2  \n",
      "111                              경상북도 성주군 성주읍 성밖숲길 7 .   054-933-2222  경북  \n",
      "168                        경상북도 칠곡군 석적읍 석적로 178-3 1~2층   054-977-8255  경북  \n",
      "248                        경상북도 구미시 옥성면 중부내륙고속도로 129 .              .  경북  \n",
      "268                                   경북 경주시 보불로 305 .   054-744-7700  경북  \n",
      "287       경상북도 구미시 구미중앙로 44 (원평동, 멀티복합상가) 원평동 68-1, 1층   054-604-0375  경북  \n",
      "291              경상북도 구미시 금오산로 209 (남통동) 할리스커피 구미금오산점    054-441-4452  경북  \n",
      "320           경북 김천시 봉산면 경부고속도로 214-1 광천리 737-1 (서울방향)   054-439-3187  경북  \n",
      "339                                 경상북도 김천시 혁신로 246 .   054-433-4333  경북  \n",
      "372                             경상북도 경산시 경안로 205, 2층 .   053-814-9980  경북  \n",
      "381                        경상북도 군위군 군위읍 경북대로 4084 부산방향   054-383-6114  경북  \n",
      "388  경상북도 성주군 용암면 중부내륙고속도로 76 (본리리, 남성주(양평방향)휴게소) 양평방향   054-931-5742  경북  \n",
      "393                   경상북도 경주시 외동읍 석계리 970번지 상석길 58-70   054-745-0631  경북  \n",
      "394  경상북도 성주군 선남면 중부내륙고속도로 77 (명포리, 남성주(창원방향)휴게소) 창원방향   054-933-7105  경북  \n",
      "405                              경상북도 경주시 황성로28번길 15 .   054-701-1234  경북  \n",
      "449                        경상북도 군위군 군위읍 경북대로 4082 춘천방향  070-4162-5309  경북  \n",
      "452                            경상북도 문경시 중부내륙고속도로 173 .   054-554-1655  경북  \n",
      "--------------------------------\n",
      "광주\n",
      "         지역       매장명   현황                                        주소  \\\n",
      "17    광주 북구    광주북구청점  영업중                    광주광역시 북구 서방로 2 (중흥동) .   \n",
      "208  광주 광산구   광주수완2호점  영업중        광주광역시 광산구 수완로 73번길 7, 1층 (수완동)  1층   \n",
      "333   광주 북구     광주일곡점  영업중           광주광역시 북구 송해로 81 일곡동 821-5  1~3층   \n",
      "344  광주 광산구     광주우산점  영업중               광주광역시 광산구 풍영철길로 12 (우산동) 1층   \n",
      "354   광주 서구     광주금호점  영업중             광주광역시 서구 운천로 3 (금호동 762-6) 1층   \n",
      "359   광주 서구  유스퀘어CGV점  영업중  광주광역시 서구 무진대로 904, 유스퀘어 2층 (광천동, 49-1) .   \n",
      "360   광주 북구     광주오치점  영업중          광주광역시 북구 서하로 185 (오치동 862-21) 1층   \n",
      "361  광주 광산구     광주운남점  영업중     광주광역시 광산구 하남대로 248-13 (운남동 771-3 ) 1층   \n",
      "410   광주 동구    광주조선대점  영업중        광주광역시 동구 필문대로273번길 12, 1,2층(지산동) .   \n",
      "439  광주 광산구     광주첨단점  영업중                    광주광역시 광산구 첨단중앙로 136 1층   \n",
      "446   광주 서구     광주풍암점  영업중                     광주광역시 서구 풍금로38번길 11 .   \n",
      "460   광주 남구     광주봉선점  영업중                  광주광역시 남구 봉선중앙로 21, 1층 1층   \n",
      "469   광주 동구    광주충장로점  영업중                       광주광역시 동구 충장로안길 43 .   \n",
      "479   광주 북구    광주전남대점  영업중                  광주광역시 북구 우치로 90(용봉동) 할리스   \n",
      "483   광주 서구    광주아울렛점  영업중                        광주광역시 서구  상무대로 633   \n",
      "\n",
      "              전화번호 지역2  \n",
      "17    062-511-8002  광주  \n",
      "208   062-959-3327  광주  \n",
      "333  070-7716-0123  광주  \n",
      "344   062-956-6582  광주  \n",
      "354   062-385-0725  광주  \n",
      "359   062-351-4687  광주  \n",
      "360   062-251-5684  광주  \n",
      "361   062-951-5979  광주  \n",
      "410   062-416-3647  광주  \n",
      "439   062-434-0200  광주  \n",
      "446   062-652-5505  광주  \n",
      "460   062-651-7888  광주  \n",
      "469   062-223-0688  광주  \n",
      "479   062-251-1966  광주  \n",
      "483   062-385-5122  광주  \n",
      "--------------------------------\n",
      "대구\n",
      "         지역            매장명   현황  \\\n",
      "9     대구 서구  롯데시네마프리미엄만경관점  영업중   \n",
      "47   대구 달성군          대구세천점  영업중   \n",
      "60    대구 북구          대구연경점  영업중   \n",
      "103   대구 동구        대구봉무공원점  영업중   \n",
      "118  대구 수성구       대구수성네거리점  영업중   \n",
      "167  대구 달서구          대구상인점  영업중   \n",
      "174   대구 북구         경북대북문점  영업중   \n",
      "195  대구 달서구         대구이월드점  영업중   \n",
      "197  대구 수성구        대구범어천로점  영업중   \n",
      "218  대구 달서구          대구성서점  영업중   \n",
      "232   대구 북구          대구관음점  영업중   \n",
      "256  대구 수성구         대구수성못점  영업중   \n",
      "258   대구 동구         동대구역사점  영업중   \n",
      "271   대구 북구       대구침산네거리점  영업중   \n",
      "272   대구 동구         대구반야월점  영업중   \n",
      "281  대구 달성군       대구현풍테크노점  영업중   \n",
      "297   대구 북구          대구침산점  영업중   \n",
      "298   대구 동구          대구안심점  영업중   \n",
      "301   대구 중구         대구동성로점  영업중   \n",
      "308   대구 동구       동대구환승센터점  영업중   \n",
      "340   대구 서구       대구팔달교DT점  영업중   \n",
      "356  대구 달서구          대구본리점  영업중   \n",
      "357  대구 달서구       대구월성CGV점  영업중   \n",
      "387  대구 달서구          대구장기점  영업중   \n",
      "392   대구 북구          대구동천점  영업중   \n",
      "400  대구 수성구          대구범어점  영업중   \n",
      "\n",
      "                                                    주소           전화번호 지역2  \n",
      "9                         대구 중구 국채보상로 547 MMC 만경관 4층 .  070-7717-2192  대구  \n",
      "47                    대구광역시 달성군 다사읍 세천로 141 세천리 1581-6   053-581-5768  대구  \n",
      "60                       대구광역시 북구 동화천로 229 (연경동) 1층~2층   053-982-6877  대구  \n",
      "103                          대구광역시 동구 단산길 4 (봉무동) 1~2층   053-984-3001  대구  \n",
      "118                 대구광역시 수성구 들안로 326 1,2층 수성동3가 254-2   053-743-8700  대구  \n",
      "167                        대구광역시 달서구 상화북로 194 (상인동) 2층   053-641-9522  대구  \n",
      "174         대구광역시 북구 대학로 17길 3 (산격동 1393-11) 할리스 B1~3층   053-951-9990  대구  \n",
      "195                       대구광역시 달서구 두류공원로 200 (두류동) .    053-620-0001  대구  \n",
      "197  대구광역시 수성구 범어천로 200 (범어동, 범어월드메르디앙웨스턴카운티) 102호,...   053-759-5779  대구  \n",
      "218    대구광역시 달서구 성서로 419, 국민연금대구사옥 1층 (이곡동 1198-5) 할리스   053-584-5702  대구  \n",
      "232                       대구광역시 북구 구암로 59 비전스퀘어 1,2층 .   053-324-6122  대구  \n",
      "256                          대구광역시 수성구 용학로 115 두산동 690   053-761-5655  대구  \n",
      "258                      대구광역시 동구 동대구로 550 (동대구역 내 1층)   053-942-1033  대구  \n",
      "271                          대구광역시 북구 침산남로 157 (침산동) .   053-353-5544  대구  \n",
      "272                                 대구광역시 동구 안심로 255 .   053-961-7007  대구  \n",
      "281                            대구시 달성군 유가읍 테크노공원로 65 .   053-267-3338  대구  \n",
      "297  대구 북구 성북로 36,2층 601,602,603,604 473-3, 침산초등학교 맞은편   053-353-5412  대구  \n",
      "298                                 대구시 동구 안심로 90길29 .   053-963-2223  대구  \n",
      "301            대구광역시 중구 동성로6길 32, B1~2층 (공평동 52-2) 할리스   053-252-6307  대구  \n",
      "308            대구광역시 동구 동부로 149 (신천동, 신세계동대구복합환승센터) 3층   053-742-0614  대구  \n",
      "340                                  대구광역시 서구 팔달로 34 .   053-341-9595  대구  \n",
      "356                    대구광역시 달서구 장기로 203 (본리동 62-16) .   053-553-3002  대구  \n",
      "357                  대구광역시 달서구 조암로 29 이래타워 4F 월성동, 616             없음  대구  \n",
      "387                                대구광역시 달서구 장기로 268 .   053-522-0666  대구  \n",
      "392                           대구광역시 북구 동천로 125 (동천동) .   053-321-0099  대구  \n",
      "400                          대구광역시 수성구 범어천로 44 (범어동) .   053-761-2187  대구  \n",
      "--------------------------------\n",
      "대전\n",
      "         지역       매장명   현황                                                 주소  \\\n",
      "30   대전 유성구      충남대점  영업중                      대전광역시 유성구 대학로 84 (궁동 482-6) .   \n",
      "74    대전 서구  대전건양대병원점  영업중           대전광역시 서구 관저동로 158 (관저동, 건양대학교병원) 신관 지하1층   \n",
      "75   대전 유성구   대전유성온천점  영업중                                대전 유성구 온천로 45  1,2층   \n",
      "130  대전 유성구  대전호텔ICC점  영업중                    대전광역시 유성구 엑스포로123번길 55 (도룡동) 1층   \n",
      "156   대전 동구    가오CGV점  영업중                 대전광역시 동구 은어송로 72 4층(가오동, 패션아일랜드) .   \n",
      "196  대전 유성구     대전문지점  영업중                  대전광역시 유성구 문지로299번길 94-19 (문지동) 1층   \n",
      "212  대전 대덕구    대전한남대점  영업중                                    대전 대덕구 한남로 65 .   \n",
      "233   대전 서구     대전가장점  영업중               대전광역시 서구 도솔로 314  1층, 2층(괴정동, SL 빌딩)   \n",
      "234  대전 유성구     대전신성점  영업중                    대전광역시 유성구 유성대로1184번길 18 (신성동) .   \n",
      "247   대전 서구     대전만년점  영업중         대전광역시 서구 둔산대로117번길 95 (만년동, 리더스타운) 만년동 309   \n",
      "250   대전 서구     대전탄방점  영업중  대전광역시 서구 계룡로571번길 23-19 (탄방동) 1층 102호,103호,104...   \n",
      "278   대전 중구     대전오류점  영업중     대전광역시 중구 계룡로 876 메종드메디컬빌딩 104호, 202호 오류동 151-3   \n",
      "324   대전 서구   대전타임월드점  영업중                         대전광역시 서구 둔산로 32-13 (둔산동) .   \n",
      "336  대전 유성구     대전전민점  영업중                     대전광역시 유성구 전민로22번길 62 전민동 306-1   \n",
      "396  대전 유성구   대전도안마을점  영업중                대전광역시 유성구 도안대로 560 (봉명동, 도안마을1단지) .   \n",
      "409  대전 유성구    대전반석역점  영업중                      대전광역시 유성구 반석동로40번길 40 (반석동) .   \n",
      "418   대전 서구     대전롯데점  영업중             대전광역시 서구 용문로 41-80, 리베라 아이누리주상복합 101 .   \n",
      "422   대전 서구     대전관저점  영업중                        대전광역시 서구 관저중로64번길 26 1,2층 .   \n",
      "480  대전 유성구   대전도안DT점  영업중                        대전광역시 유성구 도안동로 488,1-3층 할리스   \n",
      "505   대전 서구   대전둔산청솔점  영업중                        대전광역시 서구 둔산로 223 제상가 2동 할리스   \n",
      "\n",
      "              전화번호 지역2  \n",
      "30   070-7543-1009  대전  \n",
      "74    042-543-3138  대전  \n",
      "75    042-825-2023  대전  \n",
      "130   042-866-5104  대전  \n",
      "156   042-273-7400  대전  \n",
      "196   042-861-6947  대전  \n",
      "212  070-4109-5800  대전  \n",
      "233   042-365-0365  대전  \n",
      "234   042-862-3335  대전  \n",
      "247   042-485-9777  대전  \n",
      "250   042-482-8425  대전  \n",
      "278   042-522-3141  대전  \n",
      "324   042-489-1315  대전  \n",
      "336   042-389-2831  대전  \n",
      "396   042-826-6080  대전  \n",
      "409   042-714-5808  대전  \n",
      "418   042-528-2155  대전  \n",
      "422   042-542-8080  대전  \n",
      "480   042-824-4931  대전  \n",
      "505   042-489-7990  대전  \n",
      "--------------------------------\n",
      "부산\n",
      "          지역          매장명   현황  \\\n",
      "14     부산 북구        부산화명점  영업중   \n",
      "20   부산 부산진구      부산시민공원점  영업중   \n",
      "28    부산 기장군     부산일광신도시점  영업중   \n",
      "33    부산 사하구  부산아트몰링영풍문고점  영업중   \n",
      "44   부산 부산진구       부산동의대점  영업중   \n",
      "48    부산 동래구      부산명륜자이점  영업중   \n",
      "59     부산 서구       부산서구청점  영업중   \n",
      "78    부산 강서구       가덕휴게소점  영업중   \n",
      "120   부산 수영구       부산광안리점  영업중   \n",
      "121   부산 사상구      부산사상광장점  영업중   \n",
      "133  부산 해운대구      부산센텀시티점  영업중   \n",
      "227   부산 금정구     부산금강식물원점  영업중   \n",
      "238    부산 중구       부산중앙역점  영업중   \n",
      "242   부산 사상구      부산백양대로점  영업중   \n",
      "253   부산 동래구       부산명륜역점  영업중   \n",
      "260    부산 북구        부산덕천점  영업중   \n",
      "296   부산 연제구        부산연산점  영업중   \n",
      "310   부산 수영구      부산광안해변점  영업중   \n",
      "326   부산 기장군    (상)장안휴게소점  영업중   \n",
      "327   부산 기장군    (하)장안휴게소점  영업중   \n",
      "331    부산 중구    부산BIFF광장점  영업중   \n",
      "332    부산 동구        부산역사점  영업중   \n",
      "350    부산 동구      동부산우체국점  영업중   \n",
      "358   부산 강서구     명지국제신도시점  영업중   \n",
      "376    부산 서구        부산송도점  영업중   \n",
      "440   부산 수영구     부산수영로터리점  영업중   \n",
      "472    부산 남구     부산경성대2호점  영업중   \n",
      "476  부산 해운대구        부산송정점  영업중   \n",
      "478   부산 수영구      부산광안대교점  영업중   \n",
      "489   부산 동래구       부산동래역점  영업중   \n",
      "497  부산 해운대구       부산해운대점  영업중   \n",
      "500    부산 남구       부산경성대점  영업중   \n",
      "515  부산 해운대구       부산달맞이점  영업중   \n",
      "519  부산 부산진구       부산서면본점  영업중   \n",
      "\n",
      "                                                    주소           전화번호 지역2  \n",
      "14   부산광역시 북구 금곡대로285번길 13 (화명동, 스포렉스) 스포렉스 106호,10...  070-8884-1101  부산  \n",
      "20                   부산 부산진구 시민공원로 73, 푸드코트피크닉 범전동 200              .  부산  \n",
      "28                 부산광역시 기장군 일광읍 해빛6로 43-20 삼성리 840-12              .  부산  \n",
      "33                 부산광역시 사하구 낙동남로 1413 (하단동, 아트몰링) 13층   051-201-0621  부산  \n",
      "44                       부산광역시 부산진구 엄광로 176 가야동, 동의대학교   051-893-6679  부산  \n",
      "48                         부산광역시 동래구 동래로 77 (명륜동) 1,2층   051-554-1001  부산  \n",
      "59            부산광역시 서구 보수대로 9 (충무동1가 3-1) 바른빌딩 1층 104호  070-4647-1455  부산  \n",
      "78                         부산광역시 강서구 거가대로 2571 (천성동) .   051-715-2200  부산  \n",
      "120           부산광역시 수영구 광안해변로 175 (광안동, 광안에이파크오션) 1~2층   051-757-9433  부산  \n",
      "121            부산광역시 사상구 광장로 22 (괘법동) 2층 사상구 괘법동 565-2   051-322-4117  부산  \n",
      "133                부산광역시 해운대구 센텀2로 24 (우동, 센텀다이아몬드) 1층   051-755-9100  부산  \n",
      "227  부산광역시 금정구 금샘로 22 (장전동) 1,2층 금정구 장전동 521-68외1필지...   051-517-1110  부산  \n",
      "238                         부산광역시 중구 대청로 148 (중앙동2가) .   051-253-8883  부산  \n",
      "242              부산광역시 사상구 백양대로 621, 2~4층(괘법동 141) 할리스   051-311-5399  부산  \n",
      "253                          부산광역시 동래구 온천장로 5 (온천동) 1층   051-557-7811  부산  \n",
      "260            부산광역시 북구 덕천1길 21, 1~2층 (덕천동 400-14) 할리스   051-342-8835  부산  \n",
      "296                          부산광역시 연제구 반송로 89 (연산동) 1층   051-989-3296  부산  \n",
      "310                    부산광역시 수영구 광안해변로 251 (민락동) 178-5   051-752-4551  부산  \n",
      "326                          부산광역시 기장군 장안읍 동해고속도로 26 .   051-727-3714  부산  \n",
      "327                부산광역시 기장군 장안읍 동해고속도로 25 (장안휴게소하행) .   051-727-3647  부산  \n",
      "331                             부산 중구 비프광장로 31-1, 1층 .   051-242-6552  부산  \n",
      "332  부산광역시 동구 중앙대로 206 (초량동, 한국철도공사부산지역본부) 2충 초량동 1...   051-441-0918  부산  \n",
      "350                             부산광역시 동구 조방로 15, 1층  .   051-631-3193  부산  \n",
      "358                   부산광역시 강서구 명지국제11로 57  명지동 3334-4   051-271-5600  부산  \n",
      "376                              부산광역시 서구 송도해변로 61-1 .   051-255-6100  부산  \n",
      "440             부산광역시 수영구 수영로 710-1, 프라임메디컬빌딩 2층 201 .  070-4239-7541  부산  \n",
      "472                부산광역시 남구 수영로 306, 3층 (대연동 72-1) 할리스   051-611-3021  부산  \n",
      "476               부산광역시 해운대구 송정광어골로 77 (송정동 443-5) 할리스   051-701-5591  부산  \n",
      "478    부산광역시 수영구 광안해변로 217, 호메르스관광호텔 1층 (광안동 93-1) 할리스   051-754-9985  부산  \n",
      "489         부산광역시 동래구 삼성대길 34-25, 1~3층 (명륜동 502-4) 할리스   051-552-2990  부산  \n",
      "497  부산광역시 해운대구 해운대해변로 277, 다옴빌딩 1~2층 (중1동 1412-7) 할리스   051-746-1463  부산  \n",
      "500           부산광역시 남구 용소로 7, 청라빌딩 2~3층 (대연동 56-8) 할리스   051-611-6893  부산  \n",
      "515         부산광역시 해운대구 달맞이길 199, 2~3층 (중동 1488-14) 할리스   051-731-3410  부산  \n",
      "519   부산광역시 부산진구 동천로 73, DS타워 1~2층 (부전동 부전동 169-1) 할리스   051-819-9117  부산  \n",
      "--------------------------------\n",
      "서울\n",
      "          지역        매장명   현황                                          주소  \\\n",
      "4     서울 강남구   강남우리라운지점  영업중       서울특별시 강남구 테헤란로 301 역삼동 701-02 삼정빌딩 1층   \n",
      "7     서울 용산구      이태원역점  영업중                    서울특별시 용산구 이태원로 180 2층~3층   \n",
      "8     서울 양천구      오목교역점  영업중             서울특별시 양천구 오목로 344 (목동, 청학빌딩) 1층   \n",
      "11    서울 금천구     시흥사거리점  영업중                서울특별시 금천구 시흥대로 225 시흥동 994-9   \n",
      "15    서울 서초구       방배역점  영업중          서울특별시 서초구 방배로 107 (방배동, 디엠타워3관) 1층   \n",
      "..       ...        ...  ...                                         ...   \n",
      "512   서울 종로구  종로코리안리빌딩점  영업중             서울특별시 종로구 종로5길 68 코리안리빌딩 1층 할리스   \n",
      "514   서울 마포구       합정역점  영업중            서울특별시 마포구 양화로 36 (합정동 374-1) 할리스   \n",
      "517   서울 관악구        신림점  영업중                         서울특별시 관악구 신림로 353-1   \n",
      "518    서울 중구       태평로점  영업중  서울특별시 중구 세종대로 64, 해남빌딩 1층 (태평로2가 70-5) 할리스   \n",
      "520  서울 서대문구        신촌점  영업중          서울특별시 서대문구 연세로 34 (창천동 31-12)  할리스   \n",
      "\n",
      "              전화번호 지역2  \n",
      "4      02-566-1002  서울  \n",
      "7      02-749-8752  서울  \n",
      "8     02-2062-8405  서울  \n",
      "11     02-804-9226  서울  \n",
      "15     02-523-4180  서울  \n",
      "..             ...  ..  \n",
      "512  070-4733-4828  서울  \n",
      "514   02-6204-1234  서울  \n",
      "517    02-877-0019  서울  \n",
      "518    02-755-7795  서울  \n",
      "520    02-393-2004  서울  \n",
      "\n",
      "[128 rows x 6 columns]\n",
      "--------------------------------\n",
      "세종\n",
      "         지역        매장명   현황                                       주소  \\\n",
      "100  세종 세종시    세종가람DT점  영업중                  세종특별자치시 금송로 589 (가람동) .   \n",
      "210  세종 세종시  세종어반아트리움점  영업중      세종특별자치시 나성로 96 (나성동, 더센트럴) 101,102호   \n",
      "330  세종 세종시    세종소담DI점  영업중                   세종특별자치시 소담로 40 소담동 570   \n",
      "391  세종 세종시      세종어진점  영업중  세종특별자치시 절재로 194 (어진동, 중앙타운) 133호,214호 .   \n",
      "\n",
      "              전화번호 지역2  \n",
      "100   044-865-8882  세종  \n",
      "210  070-8800-3998  세종  \n",
      "330   044-862-9027  세종  \n",
      "391  070-7766-1589  세종  \n",
      "--------------------------------\n",
      "울산\n",
      "         지역        매장명   현황                                             주소  \\\n",
      "46    울산 남구     울산삼산로점  영업중  울산광역시 남구 삼산로 283 (삼산동, 소망빌딩) 삼산동1525-8,1525-9   \n",
      "61   울산 울주군      울산율리점  영업중                     울산광역시 울주군 청량읍 율리영해1길 46 1층   \n",
      "97    울산 남구  울산교보핫트랙스점  영업중           울산광역시 남구 화합로 185 (삼산동) 업스퀘어 B1 교보문고내   \n",
      "107  울산 울주군  (함)울주휴게소점  영업중                   울산광역시 울주군 삼동면 보은리 산193-1 외 .   \n",
      "113   울산 남구    울산달동DT점  영업중                울산광역시 남구 번영로 82 (달동 1297-1) 할리스   \n",
      "128   울산 남구      울산삼산점  영업중                      울산광역시 남구 삼산중로 50 (삼산동) 2층   \n",
      "163   울산 남구      울산신정점  영업중               울산광역시 남구 동산로 93  신정동 1265-16, 1층   \n",
      "176   울산 중구      울산성남점  영업중               울산광역시 중구 만남의거리 33, 1F 성남동 256-16   \n",
      "220   울산 남구      울산야음점  영업중       울산 남구 수암로 138, 타임스퀘어 상가 야음동 789-14, 101호   \n",
      "257   울산 남구      울산시청점  영업중                       울산광역시 남구 삼산로 60 (신정동) 1층   \n",
      "269   울산 북구      울산명촌점  영업중                              울산광역시 북구 명촌로 59 .   \n",
      "305   울산 남구    울산삼산대로점  영업중                      울산광역시 남구 정동로 71 (삼산동) 삼산동   \n",
      "321   울산 북구    울산풍차DT점  영업중                      울산광역시 북구 산업로 1440 신천동 456   \n",
      "373   울산 북구    울산공항1호점  영업중    울산광역시 북구 산업로 1103 울산공항 2층 일반대합실 화봉동 1140-16   \n",
      "374   울산 북구    울산공항2호점  영업중    울산광역시 북구 산업로 1103 울산공항 2층 격리대합실 화봉동 1140-16   \n",
      "484   울산 남구   울산디자인거리점  영업중         울산광역시 남구 돋질로302번길 38 (삼산동 1575-22) 할리스   \n",
      "\n",
      "              전화번호 지역2  \n",
      "46    052-275-9004  울산  \n",
      "61    052-221-1030  울산  \n",
      "97    052-990-5550  울산  \n",
      "107   052-933-5243  울산  \n",
      "113   052-275-3022  울산  \n",
      "128   052-260-1121  울산  \n",
      "163   052-260-0900  울산  \n",
      "176   052-211-4741  울산  \n",
      "220   052-276-3535  울산  \n",
      "257  070-7733-7108  울산  \n",
      "269   052-289-9905  울산  \n",
      "305   052-293-2234  울산  \n",
      "321   052-292-8181  울산  \n",
      "373   052-289-5525  울산  \n",
      "374             없음  울산  \n",
      "484   052-256-0566  울산  \n",
      "--------------------------------\n",
      "인천\n",
      "         지역         매장명   현황  \\\n",
      "92   인천 연수구     인천대입구역점  영업중   \n",
      "114  인천 연수구      송도학원가점  영업중   \n",
      "115   인천 서구       인천당하점  영업중   \n",
      "119   인천 서구      인천서구청점  영업중   \n",
      "127  인천 부평구  2001아울렛부평점  영업중   \n",
      "172  인천 남동구       인천시청점  영업중   \n",
      "201   인천 중구     인천공항T1점  영업중   \n",
      "243  인천 남동구      간석오거리점  영업중   \n",
      "261  인천 부평구      부평로데오점  영업중   \n",
      "304   인천 남구      인천주안역점  영업중   \n",
      "319  인천 연수구    인천연수CGV점  영업중   \n",
      "348   인천 중구     영종하늘도시점  영업중   \n",
      "355   인천 서구    인천엠파크허브점  영업중   \n",
      "423   인천 서구    인천검단사거리점  영업중   \n",
      "430   인천 서구     청라센터시아점  영업중   \n",
      "443  인천 남동구      간석역남부점  영업중   \n",
      "451  인천 연수구       송도IT점  영업중   \n",
      "502  인천 연수구     인천한옥마을점  영업중   \n",
      "503  인천 남동구    인천구월로데오점  영업중   \n",
      "\n",
      "                                                    주소           전화번호 지역2  \n",
      "92            인천광역시 연수구 인천타워대로132번길 34 (송도동) 104호,105호   032-833-2808  인천  \n",
      "114                        인천광역시 연수구 신송로 168 송도동 20-13              .  인천  \n",
      "115                    인천광역시 서구 서곶로 788 (당하동, 홀리랜드) 1층   032-561-1578  인천  \n",
      "119                인천광역시 서구 서곶로301번길 7-1 (심곡동, 세광빌딩) .   032-569-1235  인천  \n",
      "127        인천광역시 부평구 경원대로 1277 (산곡동, 2001아울렛부평점) A동 1층   032-525-1002  인천  \n",
      "172                     인천광역시 남동구 남동대로799번길 36 (구월동) .   032-433-0704  인천  \n",
      "201  인천광역시 중구 공항로 272 (운서동, 인천공항) 인천국제공항 제1여객터미널 L/...   032-743-3716  인천  \n",
      "243                  인천광역시 남동구 남동대로 931 (간석동) 씨앤케이 웨딩홀   032-425-0915  인천  \n",
      "261             인천광역시 부평구 시장로 17-1 (부평동, 인일 빌딩) 1,2,3층   032-505-7130  인천  \n",
      "304    인천광역시 미추홀구 주안로 105 1,2층 주안동 130-10 /남구->미추홀구 변경   032-425-1793  인천  \n",
      "319                 인천 연수구 청능대로 210 (스쿼어원 4층) 동춘동 926    032-456-4499  인천  \n",
      "348                  인천 중구 하늘달빛로 90-21 1,2층 중산동 1876-9   032-752-1761  인천  \n",
      "355       인천광역시 서구 염곡로 52, 엠파크 허브동 103호 (가좌동 150-19) .   032-265-0103  인천  \n",
      "423                                    인천 서구 검단로 465 .  070-7766-4494  인천  \n",
      "430                         인천 서구 중봉대로 612번길 16 1층 연희동   032-567-1192  인천  \n",
      "443                                    인천 남동구 석산로 11 .   032-427-7935  인천  \n",
      "451            인천 연수구 송도과학로 32, 송도테크노파크IT센터 1층-A104호 .   032-209-7979  인천  \n",
      "502                인천광역시 연수구 테크노파크로 180, 다동 지상1층(송도동)    032-831-0337  인천  \n",
      "503                인천광역시 남동구 인하로 497-24 (구월동, 조한빌딩) 1층   032-421-0399  인천  \n",
      "--------------------------------\n",
      "전남\n",
      "         지역          매장명   현황                                         주소  \\\n",
      "10   전남 순천시        순천신대점  영업중               전라남도 순천시 해룡면 향매로 67 신대리 1978   \n",
      "43   전남 순천시    순천성가롤로병원점  영업중    전남 순천시 순광로 221, 순천성가롤로병원 별관 2층 조례동 1742   \n",
      "88   전남 나주시   나주빛가람혁신도시점  영업중                 전라남도 나주시 배멧3길 5-4 (빛가람동) .   \n",
      "194  전남 광양시        광양중동점  영업중                   전라남도 광양시 공영로 92-1 (중동) .   \n",
      "282  전남 장흥군        전남장흥점  영업중                      전라남도 장흥군 장흥읍 북부로 18 .   \n",
      "315  전남 보성군  (상)보성녹차휴게소점  영업중  전라남도 보성군 미력면 남해고속도로 63 (보성녹차(목포)주유소) 목포방향   \n",
      "316  전남 보성군  (하)보성녹차휴게소점  영업중                     전남 보성군 겸백면 남해고속도로 70 .   \n",
      "325  전남 무안군       남악신도시점  영업중    전라남도 무안군 삼향읍 남악로 234 트리폴리앙 B동 1, 108호 .   \n",
      "338  전남 목포시        목포하당점  영업중                 전라남도 목포시 비파로51번길 37 (상동) .   \n",
      "386  전남 여수시        여수웅천점  영업중      전라남도 여수시 예울마루로 35-24 (웅천동) 웅천동 1699-3   \n",
      "407  전남 목포시        목포평화점  영업중                         전라남도 목포시 미항로 129 .   \n",
      "\n",
      "              전화번호 지역2  \n",
      "10    061-723-5185  전남  \n",
      "43    061-905-0013  전남  \n",
      "88    061-334-5466  전남  \n",
      "194   061-795-6600  전남  \n",
      "282   061-862-0119  전남  \n",
      "315  070-4325-8801  전남  \n",
      "316  070-4325-8808  전남  \n",
      "325   061-282-8280  전남  \n",
      "338   061-283-9800  전남  \n",
      "386   061-681-2522  전남  \n",
      "407   061-285-0365  전남  \n",
      "--------------------------------\n",
      "전북\n",
      "             지역         매장명   현황  \\\n",
      "12   전북 전주시 완산구       전주효천점  영업중   \n",
      "18   전북 전주시 완산구     전주한옥마을점  영업중   \n",
      "53   전북 전주시 완산구      전주시네마점  영업중   \n",
      "68       전북 군산시      군산선유도점  영업중   \n",
      "71       전북 익산시       익산모현점  영업중   \n",
      "149      전북 익산시       익산부송점  영업중   \n",
      "159      전북 익산시       익산영등점  영업중   \n",
      "181      전북 군산시    군산새만금산단점  영업중   \n",
      "186  전북 전주시 덕진구  전주에코시티세병호점  영업중   \n",
      "199  전북 전주시 덕진구       전주아중점  영업중   \n",
      "226  전북 전주시 덕진구     국민연금공단점  영업중   \n",
      "231      전북 부안군    부안격포채석강점  영업중   \n",
      "251  전북 전주시 완산구      서전주DT점  영업중   \n",
      "270      전북 김제시       전북김제점  영업중   \n",
      "276      전북 군산시       군산미장점  영업중   \n",
      "295  전북 전주시 완산구      전주남천교점  영업중   \n",
      "345      전북 군산시       군산수송점  영업중   \n",
      "362      전북 익산시       익산어양점  영업중   \n",
      "363  전북 전주시 덕진구     전주백제대로점  영업중   \n",
      "368  전북 전주시 완산구       전북도청점  영업중   \n",
      "369      전북 부안군       전북부안점  영업중   \n",
      "383  전북 전주시 덕진구    전북대덕진광장점  영업중   \n",
      "384      전북 남원시  (상)지리산휴게소점  영업중   \n",
      "385      전북 남원시  (하)지리산휴게소점  영업중   \n",
      "397  전북 전주시 덕진구       전주하가점  영업중   \n",
      "411      전북 고창군       전북고창점  영업중   \n",
      "424  전북 전주시 완산구     전주혁신도시점  영업중   \n",
      "435  전북 전주시 덕진구       전주송천점  영업중   \n",
      "436  전북 전주시 덕진구       송천솔내점  영업중   \n",
      "\n",
      "                                                    주소          전화번호 지역2  \n",
      "12    전라북도 전주시 완산구 쑥고개로 351, 1층 101호~102호 효자동2가 1326-4  063-224-5777  전북  \n",
      "18                 전라북도 전주시 완산구 은행로 16 (풍남동 1가 53-3) .  063-288-0801  전북  \n",
      "53          전라북도 전주시 완산구 전주객사3길 67 (고사동, 전주시네마타운) 1~2층  063-232-9448  전북  \n",
      "68                           전라북도 군산시 옥도면 선유도리 213-3 .  063-464-9314  전북  \n",
      "71                             전라북도 익산시 선화로3길 16-10 1층  063-842-8420  전북  \n",
      "149               전라북도 익산시 하나로10길 70-1 (부송동, 레스트빌딩) 1층  063-832-1717  전북  \n",
      "159                    전라북도 익산시 고봉로32길 46-1 (영등동) 1~2층  063-918-2211  전북  \n",
      "181                  전라북도 군산시 새만금북로 424 (오식도동) 1층 104호  063-468-4100  전북  \n",
      "186                 전라북도 전주시 덕진구 세병로 176 (송천동2가) 1층~2층  063-255-3000  전북  \n",
      "199                 전라북도 전주시 덕진구 아중로 193 (우아동2가) 1,2층   063-246-2203  전북  \n",
      "226                전북 전주시 덕진구  기지로 170 국민연금공단 국민누리관 1층  063-221-5072  전북  \n",
      "231                          전라북도 부안군 변산면 채석강길 22-10 .  063-584-0011  전북  \n",
      "251                전라북도 전주시 완산구 유연로 5 (효자동3가 1045-50)   063-901-0802  전북  \n",
      "270                            전북 김제시 검산택지 5길 21-10 1층  063-547-9600  전북  \n",
      "276                      전라북도 군산시 미장안길 54  통큰타운3동 105호  063-442-8777  전북  \n",
      "295                     전라북도 전주시 완산구 전주천서로 81  동서학동 66  063-232-6000  전북  \n",
      "345                      전라북도 군산시 수송북로 22 수송동 831-1,1층  063-467-9500  전북  \n",
      "362            전라북도 익산시 동서로63길 4, 101호 (어양동, 하모니시티) 1층  063-832-4700  전북  \n",
      "363                     전라북도 전주시 덕진구 백제대로 592 (금암동) 1층  063-271-5056  전북  \n",
      "368        전라북도 전주시 완산구 홍산남로 51, 102~103호 일부(효자동3가) 1층  063-228-4005  전북  \n",
      "369                         전라북도 부안군 부안읍 석정로 269, 1층 .  063-581-0620  전북  \n",
      "383               전라북도 전주시 덕진구 덕진광장로12, 1~2층(덕진동1가) 1층  063-272-2400  전북  \n",
      "384                    전라북도 남원시 아영면 광주대구고속도로 76 (대구방면)  063-636-7191  전북  \n",
      "385  전라북도 남원시 아영면 광주대구고속도로 75 (지리산휴게소(하)광주방면) (광주, ...  063-636-7195  전북  \n",
      "397                    전라북도 전주시 덕진구 가련산로 25 (덕진동2가) 1층  063-275-1230  전북  \n",
      "411                       전라북도 고창군 고창읍 중앙로 195 (읍내리) .  063-564-3357  전북  \n",
      "424                           전라북도 전주시 완산구 오공로 33 1~2층  063-221-3361  전북  \n",
      "435        전라북도 전주시 덕진구 송천로 1, 1-2블럭 2-112,113,136호 1층  063-275-3308  전북  \n",
      "436             전라북도 전주시 덕진구 붓내3길 17 송천동 2가 244-10, 1층  063-291-8000  전북  \n",
      "--------------------------------\n",
      "제주\n",
      "        지역        매장명   현황                                   주소  \\\n",
      "13  제주 제주시  제주도두해안DT점  영업중              제주특별자치도 제주시 도두일동 1686 .   \n",
      "67  제주 제주시     제주연북로점  영업중  제주특별자치도 제주시  오남로 166 (오라이동 1550-11)   \n",
      "\n",
      "             전화번호 지역2  \n",
      "13   064-745-7301  제주  \n",
      "67  070-4123-5111  제주  \n",
      "--------------------------------\n",
      "충남\n",
      "             지역                매장명   현황  \\\n",
      "0    충남 천안시 동남구  순천향대학교 천안병원 외래센터점  영업중   \n",
      "1    충남 천안시 동남구    순천향대학교 천안병원 본관점  영업중   \n",
      "2        충남 공주시          (천)이인휴게소점  영업중   \n",
      "3        충남 공주시        (논)탄천휴게소2호점  영업중   \n",
      "21       충남 홍성군              충남도청점  영업중   \n",
      "50       충남 공주시               동학사점  영업중   \n",
      "54   충남 천안시 동남구              천안신부점  영업중   \n",
      "57       충남 아산시            천안아산역사점  영업중   \n",
      "90       충남 공주시          (논)탄천휴게소점  영업중   \n",
      "91       충남 공주시        (상)정안알밤휴게소점  영업중   \n",
      "142      충남 공주시        (하)정안알밤휴게소점  영업중   \n",
      "158      충남 당진시              당진시청점  영업중   \n",
      "185      충남 서천군          (하)서천휴게소점  영업중   \n",
      "205  충남 천안시 서북구            천안펜타포트점  영업중   \n",
      "216      충남 예산군          (상)예산휴게소점  영업중   \n",
      "236  충남 천안시 서북구              천안쌍용점  영업중   \n",
      "335      충남 당진시            당진푸르지오점  영업중   \n",
      "365  충남 천안시 동남구            동천안우체국점  영업중   \n",
      "402      충남 아산시             아산우체국점  영업중   \n",
      "403  충남 천안시 서북구             천안두정역점  영업중   \n",
      "425  충남 천안시 서북구              천안두정점  영업중   \n",
      "\n",
      "                                                  주소           전화번호 지역2  \n",
      "0    충청남도 천안시 동남구 순천향6길 31 (봉명동, 순천향대학교천안병원) 외래센터 2층              .  충남  \n",
      "1      충청남도 천안시 동남구 순천향6길 31 (봉명동, 순천향대학교천안병원) 본관 1층              .  충남  \n",
      "2               충청남도 공주시 이인면 논산천안고속도로 32 (이인상행휴게소) .              .  충남  \n",
      "3               충청남도 공주시 탄천면 논산천안고속도로 27 (탄천하행휴게소) .              .  충남  \n",
      "21                            충청남도 홍성군 홍북읍 신경리 553 .   041-631-4725  충남  \n",
      "50                       충남 공주시 반포면 동학사2로 133 1,2층 .  070-8836-8038  충남  \n",
      "54              충청남도 천안시 동남구 만남로 26 (신부동, 대영빌딩) 4~5층   041-566-5085  충남  \n",
      "57               충청남도 아산시 배방읍 희망로 100 (천안아산역) 3층 맞이방              .  충남  \n",
      "90              충청남도 공주시 탄천면 논산천안고속도로 27 (탄천하행휴게소) .              .  충남  \n",
      "91             충청남도 공주시 정안면 논산천안고속도로 58 (정안상행휴게소) 1층  010-4551-8103  충남  \n",
      "142         충청남도 공주시 정안면 논산천안고속도로 57 (정안하행휴게소) 할리스커피              .  충남  \n",
      "158             충청남도 당진시 시청2로 49-25 (수청동) 로고스타워 1~2층  070-8808-1040  충남  \n",
      "185                       충청남도 서천군 비인면 서해안고속도로 169 .   041-952-5757  충남  \n",
      "205              충청남도 천안시 서북구 공원로 196 (불당동, 펜타포트) 5층  070-8820-3117  충남  \n",
      "216        충청남도 예산군 신양면 당진영덕고속도로 33 (예산휴게소 상행) 당진 방향             없음  충남  \n",
      "236   충청남도 천안시 서북구 미라13길 16 (쌍용동) 쌍용동 955, 성건오피스텔 1층   041-563-4700  충남  \n",
      "335                      충청남도 당진시 읍내동 1590 1층 희은빌라 .   041-354-2004  충남  \n",
      "365                       충청남도 천안시 동남구 청수5로 10, 1층 .   041-522-5024  충남  \n",
      "402                  충청남도 아산시 시민로 455 (온천동, 아산우체국) .   041-548-5024  충남  \n",
      "403                     충청남도 천안시 서북구 두정로 238 (두정동) .   041-566-5148  충남  \n",
      "425                 충청남도 천안시 서북구 오성6길 52, 1층 두정동 779   041-574-0013  충남  \n",
      "--------------------------------\n",
      "충북\n",
      "             지역          매장명   현황  \\\n",
      "82       충북 옥천군        충북옥천점  영업중   \n",
      "84   충북 청주시 서원구        청주성화점  영업중   \n",
      "105  충북 청주시 서원구      청주산남DT점  영업중   \n",
      "106  충북 청주시 흥덕구        청주강서점  영업중   \n",
      "123  충북 청주시 상당구        청주동남점  영업중   \n",
      "143  충북 청주시 흥덕구  청주NC백화점CGV점  영업중   \n",
      "157  충북 청주시 서원구        청주분평점  영업중   \n",
      "166  충북 청주시 청원구      청주율량현대점  영업중   \n",
      "189  충북 청주시 청원구    (하)오창휴게소점  영업중   \n",
      "190  충북 청주시 흥덕구    (하)옥산휴게소점  영업중   \n",
      "200  충북 청주시 상당구     청주명암레이크점  영업중   \n",
      "262  충북 청주시 흥덕구        충북오송점  영업중   \n",
      "314      충북 괴산군    (하)괴산휴게소점  영업중   \n",
      "390      충북 옥천군    (상)옥천휴게소점  영업중   \n",
      "408      충북 단양군    (하)단양휴게소점  영업중   \n",
      "416  충북 청주시 청원구      청주성모병원점  영업중   \n",
      "421  충북 청주시 청원구        청주율량점  영업중   \n",
      "429      충북 진천군        충북진천점  영업중   \n",
      "448  충북 청주시 흥덕구         충북대점  영업중   \n",
      "\n",
      "                                                    주소            전화번호 지역2  \n",
      "82                              충청북도 옥천군 옥천읍 송신길 172 .    043-731-5560  충북  \n",
      "84                     충청북도 청주시 서원구 신성화로 39 (성화동) 1~2층    043-233-6296  충북  \n",
      "105                    충청북도 청주시 서원구 1순환로 892,1,2층(산남동)    043-287-5731  충북  \n",
      "106                  충청북도 청주시 흥덕구 서현동로 8 (가경동, 하나빌딩) .    043-263-8585  충북  \n",
      "123  충청북도 청주시 상당구 중고개로141번길 13-16 (용암동) 101,102,103호 .    043-293-3030  충북  \n",
      "143                   충북 청주시 흥덕구 2순환로 1233  청주NC백화점 8층   070-4153-5598  충북  \n",
      "157           충청북도 청주시 서원구 월평로 4 분평동 1226, 대상탑존빌딩 111호    043-292-5105  충북  \n",
      "166                             충청북도 청주시 청원구 율봉로 150 .    043-241-0005  충북  \n",
      "189           충청북도 청주시 청원구 오창읍 중부고속도로 21 (오창휴게소통영기점) .    043-217-1477  충북  \n",
      "190  충청북도 청주시 흥덕구 옥산면 경부고속도로 309 (옥산휴게소부산방향) 옥산휴게소(...    043-260-1053  충북  \n",
      "200                              충북 청주시 상당구 용담동 449  .  0507-1384-9696  충북  \n",
      "262                          충청북도 청주시 흥덕구 오송읍 만수1길 3 .    043-239-0075  충북  \n",
      "314         충북 괴산군 장연면 중부내륙고속도로 205 괴산(마산방향)휴게소  할리스커피    043-832-7966  충북  \n",
      "390          충청북도 옥천군 옥천읍 옥천동이로 242-34 (매화리, 옥천상휴게소) .    043-731-8096  충북  \n",
      "408    충청북도 단양군 적성면 기동리 산 74-1 (중앙고속도로 부산방향) 기동리 423-1    043-423-5401  충북  \n",
      "416       충청북도 청주시 청원구 주성로 173-19, 청주성모병원 본관 주중동 589-5   070-7761-0015  충북  \n",
      "421                            충청북도 청주시 청원구 1순환로 122 .    043-216-1990  충북  \n",
      "429                          충청북도 진천군 진천읍 중앙북로 28 2층 .    043-534-8584  충북  \n",
      "448                          충청북도 청주시 흥덕구 내수동로 53 1~2층    043-266-2248  충북  \n",
      "--------------------------------\n"
     ]
    },
    {
     "name": "stderr",
     "output_type": "stream",
     "text": [
      "C:\\Users\\user\\AppData\\Local\\Temp\\ipykernel_2460\\1224349384.py:1: FutureWarning: In a future version of pandas, a length 1 tuple will be returned when iterating over a groupby with a grouper equal to a list of length 1. Don't supply a list with a single grouper to avoid this warning.\n",
      "  for key,data in grouped:\n"
     ]
    }
   ],
   "source": [
    "for key,data in grouped:\n",
    "    print(key)\n",
    "    print(data)\n",
    "    print('--------------------------------')"
   ]
  },
  {
   "cell_type": "code",
   "execution_count": 44,
   "id": "d0cd7d1f-073d-4f45-94ad-ea2426fc34e5",
   "metadata": {},
   "outputs": [],
   "source": [
    "df2 = grouped.count()\n",
    "df2 = df2.loc[:,['지역']]"
   ]
  },
  {
   "cell_type": "code",
   "execution_count": 60,
   "id": "e3be8a38-55bc-40e7-aae1-42c0f55d235b",
   "metadata": {},
   "outputs": [],
   "source": [
    "# help(df2.sort_values)\n",
    "df2.sort_values(by='지역', ascending=False,inplace=True)"
   ]
  },
  {
   "cell_type": "code",
   "execution_count": 63,
   "id": "fd75a646-363a-4725-9672-09be5011082b",
   "metadata": {},
   "outputs": [
    {
     "data": {
      "text/html": [
       "<div>\n",
       "<style scoped>\n",
       "    .dataframe tbody tr th:only-of-type {\n",
       "        vertical-align: middle;\n",
       "    }\n",
       "\n",
       "    .dataframe tbody tr th {\n",
       "        vertical-align: top;\n",
       "    }\n",
       "\n",
       "    .dataframe thead th {\n",
       "        text-align: right;\n",
       "    }\n",
       "</style>\n",
       "<table border=\"1\" class=\"dataframe\">\n",
       "  <thead>\n",
       "    <tr style=\"text-align: right;\">\n",
       "      <th></th>\n",
       "      <th>지역</th>\n",
       "    </tr>\n",
       "    <tr>\n",
       "      <th>지역2</th>\n",
       "      <th></th>\n",
       "    </tr>\n",
       "  </thead>\n",
       "  <tbody>\n",
       "    <tr>\n",
       "      <th>서울</th>\n",
       "      <td>128</td>\n",
       "    </tr>\n",
       "    <tr>\n",
       "      <th>경기</th>\n",
       "      <td>121</td>\n",
       "    </tr>\n",
       "    <tr>\n",
       "      <th>부산</th>\n",
       "      <td>34</td>\n",
       "    </tr>\n",
       "    <tr>\n",
       "      <th>전북</th>\n",
       "      <td>29</td>\n",
       "    </tr>\n",
       "    <tr>\n",
       "      <th>대구</th>\n",
       "      <td>26</td>\n",
       "    </tr>\n",
       "  </tbody>\n",
       "</table>\n",
       "</div>"
      ],
      "text/plain": [
       "      지역\n",
       "지역2     \n",
       "서울   128\n",
       "경기   121\n",
       "부산    34\n",
       "전북    29\n",
       "대구    26"
      ]
     },
     "execution_count": 63,
     "metadata": {},
     "output_type": "execute_result"
    }
   ],
   "source": [
    "df2.head()"
   ]
  },
  {
   "cell_type": "markdown",
   "id": "625b2418-299d-4508-99db-b25408ffa9b1",
   "metadata": {},
   "source": [
    "# 동적크롤링"
   ]
  },
  {
   "cell_type": "code",
   "execution_count": 65,
   "id": "e185ef86-9693-45de-8ac9-1fb4b871798d",
   "metadata": {},
   "outputs": [
    {
     "name": "stdout",
     "output_type": "stream",
     "text": [
      "Collecting selenium\n",
      "  Downloading selenium-4.8.0-py3-none-any.whl (6.3 MB)\n",
      "     ---------------------------------------- 6.3/6.3 MB 50.4 MB/s eta 0:00:00\n",
      "Requirement already satisfied: certifi>=2021.10.8 in c:\\users\\user\\miniconda3\\envs\\py\\lib\\site-packages (from selenium) (2022.12.7)\n",
      "Collecting trio-websocket~=0.9\n",
      "  Using cached trio_websocket-0.9.2-py3-none-any.whl (16 kB)\n",
      "Collecting trio~=0.17\n",
      "  Downloading trio-0.22.0-py3-none-any.whl (384 kB)\n",
      "     ------------------------------------- 384.9/384.9 kB 25.0 MB/s eta 0:00:00\n",
      "Requirement already satisfied: urllib3[socks]~=1.26 in c:\\users\\user\\miniconda3\\envs\\py\\lib\\site-packages (from selenium) (1.26.13)\n",
      "Requirement already satisfied: cffi>=1.14 in c:\\users\\user\\miniconda3\\envs\\py\\lib\\site-packages (from trio~=0.17->selenium) (1.15.1)\n",
      "Requirement already satisfied: sniffio in c:\\users\\user\\miniconda3\\envs\\py\\lib\\site-packages (from trio~=0.17->selenium) (1.2.0)\n",
      "Requirement already satisfied: attrs>=19.2.0 in c:\\users\\user\\miniconda3\\envs\\py\\lib\\site-packages (from trio~=0.17->selenium) (22.1.0)\n",
      "Requirement already satisfied: idna in c:\\users\\user\\miniconda3\\envs\\py\\lib\\site-packages (from trio~=0.17->selenium) (3.4)\n",
      "Collecting outcome\n",
      "  Using cached outcome-1.2.0-py2.py3-none-any.whl (9.7 kB)\n",
      "Collecting sortedcontainers\n",
      "  Using cached sortedcontainers-2.4.0-py2.py3-none-any.whl (29 kB)\n",
      "Collecting exceptiongroup>=1.0.0rc9\n",
      "  Downloading exceptiongroup-1.1.0-py3-none-any.whl (14 kB)\n",
      "Collecting async-generator>=1.9\n",
      "  Using cached async_generator-1.10-py3-none-any.whl (18 kB)\n",
      "Collecting wsproto>=0.14\n",
      "  Downloading wsproto-1.2.0-py3-none-any.whl (24 kB)\n",
      "Requirement already satisfied: PySocks!=1.5.7,<2.0,>=1.5.6 in c:\\users\\user\\miniconda3\\envs\\py\\lib\\site-packages (from urllib3[socks]~=1.26->selenium) (1.7.1)\n",
      "Requirement already satisfied: pycparser in c:\\users\\user\\miniconda3\\envs\\py\\lib\\site-packages (from cffi>=1.14->trio~=0.17->selenium) (2.21)\n",
      "Collecting h11<1,>=0.9.0\n",
      "  Downloading h11-0.14.0-py3-none-any.whl (58 kB)\n",
      "     ---------------------------------------- 58.3/58.3 kB ? eta 0:00:00\n",
      "Installing collected packages: sortedcontainers, outcome, h11, exceptiongroup, async-generator, wsproto, trio, trio-websocket, selenium\n",
      "Successfully installed async-generator-1.10 exceptiongroup-1.1.0 h11-0.14.0 outcome-1.2.0 selenium-4.8.0 sortedcontainers-2.4.0 trio-0.22.0 trio-websocket-0.9.2 wsproto-1.2.0\n"
     ]
    }
   ],
   "source": [
    "!pip install selenium"
   ]
  },
  {
   "cell_type": "markdown",
   "id": "d9c8aebc-2f7f-404a-9068-ccf6a9248542",
   "metadata": {},
   "source": [
    "# webDriver download"
   ]
  },
  {
   "cell_type": "code",
   "execution_count": 66,
   "id": "5af6d8d3-5095-4f5f-a27f-af283519f687",
   "metadata": {},
   "outputs": [],
   "source": [
    "webdriver_path = 'C:/Program Files/chromedriver_win32/chromedriver.exe'"
   ]
  },
  {
   "cell_type": "code",
   "execution_count": 67,
   "id": "f58cf813-bfa2-43b9-81cb-9e7bb69aba0f",
   "metadata": {},
   "outputs": [],
   "source": [
    "from selenium import webdriver"
   ]
  },
  {
   "cell_type": "code",
   "execution_count": 112,
   "id": "157e6580-1805-4075-8b96-738a1a597793",
   "metadata": {},
   "outputs": [
    {
     "name": "stderr",
     "output_type": "stream",
     "text": [
      "C:\\Users\\user\\AppData\\Local\\Temp\\ipykernel_2460\\1790131613.py:1: DeprecationWarning: executable_path has been deprecated, please pass in a Service object\n",
      "  wd = webdriver.Chrome(webdriver_path)\n"
     ]
    }
   ],
   "source": [
    "wd = webdriver.Chrome(webdriver_path)\n",
    "wd.get('https://www.coffeebeankorea.com/store/store.asp')\n",
    "wd.execute_script(\"storePop2('52')\")"
   ]
  },
  {
   "cell_type": "code",
   "execution_count": 113,
   "id": "12ae8e87-221d-4c81-bd0d-49f3d7cd4825",
   "metadata": {},
   "outputs": [],
   "source": [
    "html = wd.page_source"
   ]
  },
  {
   "cell_type": "code",
   "execution_count": 114,
   "id": "b2e4041c-e7f9-4b6e-884a-ea0618bceb68",
   "metadata": {
    "tags": []
   },
   "outputs": [],
   "source": [
    "soup = BeautifulSoup(html, 'html.parser')\n",
    "# print(soup.prettify())"
   ]
  },
  {
   "cell_type": "code",
   "execution_count": 115,
   "id": "0e6180b8-a2d1-44d3-b027-150a51871b8a",
   "metadata": {
    "tags": []
   },
   "outputs": [],
   "source": [
    "# soup.find_all('tbody')"
   ]
  },
  {
   "cell_type": "code",
   "execution_count": 124,
   "id": "a3e0bb0d-3b8c-49d3-a8d2-025ef5ff82d7",
   "metadata": {},
   "outputs": [],
   "source": [
    "tables = soup.select( 'table.store_table > tbody > tr > th')"
   ]
  },
  {
   "cell_type": "code",
   "execution_count": 130,
   "id": "b694fcf8-2c6e-4393-95bb-736493b4f64b",
   "metadata": {},
   "outputs": [
    {
     "data": {
      "text/plain": [
       "['영업시간', '주차', '주소', '전화번호']"
      ]
     },
     "execution_count": 130,
     "metadata": {},
     "output_type": "execute_result"
    }
   ],
   "source": [
    "columns = [i.string for i in tables]\n",
    "columns"
   ]
  },
  {
   "cell_type": "code",
   "execution_count": 135,
   "id": "055edaa1-e18d-4f67-a11c-77de7e000944",
   "metadata": {},
   "outputs": [],
   "source": [
    "#matizCoverLayer0Content > div > div > div.store_txt > table > tbody:nth-child(1) > tr:nth-child(1) > td\n",
    "store = soup.select('div.store_txt > table > tbody > tr > td')"
   ]
  },
  {
   "cell_type": "code",
   "execution_count": 136,
   "id": "5b842535-fbf0-4dda-87fd-d965d9ff49ca",
   "metadata": {},
   "outputs": [
    {
     "data": {
      "text/plain": [
       "('평일 07:00~21:00 | 토/일/공휴일 07:00~21:00',\n",
       " '1시간 무료주차 가능 / 1시간 이후 시간당 3,000원 금액발생 (건물1층 기계식 주차장) 외제차,RV차량 주차 불가 (평일 ~오후 10시까지 / 주말 ~오후 9시까지 이용가능)',\n",
       " None,\n",
       " '02-523-3671')"
      ]
     },
     "execution_count": 136,
     "metadata": {},
     "output_type": "execute_result"
    }
   ],
   "source": [
    "store[0].string, store[1].string,store[2].string,store[3].string"
   ]
  },
  {
   "cell_type": "markdown",
   "id": "52d8378d-b857-4e70-af63-907eea1e2850",
   "metadata": {},
   "source": [
    "# -----------------------------------------------------------------"
   ]
  },
  {
   "cell_type": "code",
   "execution_count": 137,
   "id": "4e46da24-a315-465d-915f-fa65bba7db70",
   "metadata": {},
   "outputs": [
    {
     "name": "stderr",
     "output_type": "stream",
     "text": [
      "C:\\Users\\user\\AppData\\Local\\Temp\\ipykernel_2460\\90670846.py:1: DeprecationWarning: executable_path has been deprecated, please pass in a Service object\n",
      "  wd = webdriver.Chrome(webdriver_path)\n"
     ]
    },
    {
     "data": {
      "text/plain": [
       "('평일 07:00~21:00 | 토/일/공휴일 07:00~21:00',\n",
       " '1시간 무료주차 가능 / 1시간 이후 시간당 3,000원 금액발생 (건물1층 기계식 주차장) 외제차,RV차량 주차 불가 (평일 ~오후 10시까지 / 주말 ~오후 9시까지 이용가능)',\n",
       " None,\n",
       " '02-523-3671')"
      ]
     },
     "execution_count": 137,
     "metadata": {},
     "output_type": "execute_result"
    }
   ],
   "source": [
    "import time\n",
    "result = []\n",
    "def dynamicC():\n",
    "    wd = webdriver.Chrome(webdriver_path)\n",
    "    wd.get('https://www.coffeebeankorea.com/store/store.asp')\n",
    "    # 페이지 로드가 된후 스크립트 실행\n",
    "    time.sleep(1)\n",
    "    wd.execute_script(\"storePop2('52')\")\n",
    "    time.sleep(1)\n",
    "    # 스크립트로 인해 페이지가 로드가 된후\n",
    "    store = soup.select('div.store_txt > table > tbody > tr > td')\n",
    "    result.append([store[0].string]+[store[1].string]+[store[2].string]+[store[3].string])"
   ]
  },
  {
   "cell_type": "code",
   "execution_count": null,
   "id": "2c379029-4bfb-49d9-84b3-092379d93a25",
   "metadata": {},
   "outputs": [],
   "source": []
  },
  {
   "cell_type": "code",
   "execution_count": null,
   "id": "d50c4cb1-d3aa-4c1f-93ab-07b3f8f8f9b8",
   "metadata": {},
   "outputs": [],
   "source": []
  }
 ],
 "metadata": {
  "kernelspec": {
   "display_name": "Python 3 (ipykernel)",
   "language": "python",
   "name": "python3"
  },
  "language_info": {
   "codemirror_mode": {
    "name": "ipython",
    "version": 3
   },
   "file_extension": ".py",
   "mimetype": "text/x-python",
   "name": "python",
   "nbconvert_exporter": "python",
   "pygments_lexer": "ipython3",
   "version": "3.10.8"
  }
 },
 "nbformat": 4,
 "nbformat_minor": 5
}
