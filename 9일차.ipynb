{
 "cells": [
  {
   "cell_type": "markdown",
   "id": "d52f47fe-7841-41d4-9b66-502ce055aea4",
   "metadata": {},
   "source": [
    "# 예외.. Exception  \n",
    "    -특정 상황(0으로 나누거나, 인덱스를 넘어가는)에서만 에러처럼 프로그램을 멈추게\n",
    "    -파일을 오픈하는데. 해당경로가 잘못되거나 파일명이 잘못된 경우\n",
    "# 에러.. Error \n",
    "    -논리적으로 잘못되서 항상 발생하는 사건 - 100%\n",
    "# 버그.. Buge\n",
    "    -동작에 이상이 없지만 논리적으로 잘못된것. 예를들어 나누려고하는데 곱했을경우...\n",
    "    - 예 x > 0 and x < 10 : true/false  -->   x > 0 or x < 10 -- true"
   ]
  },
  {
   "cell_type": "markdown",
   "id": "73290ca5-735a-4c56-bf69-4a1d94f7b14c",
   "metadata": {},
   "source": [
    "# 문법\n",
    "    try:\n",
    "        예외발생 가능성 있는 코드\n",
    "    except 예외타입: \n",
    "        예외발생시 실행되는 코드"
   ]
  },
  {
   "cell_type": "code",
   "execution_count": 2,
   "id": "dbc4db25-0813-4275-86fc-a34661066565",
   "metadata": {},
   "outputs": [
    {
     "ename": "ZeroDivisionError",
     "evalue": "division by zero",
     "output_type": "error",
     "traceback": [
      "\u001b[1;31m---------------------------------------------------------------------------\u001b[0m",
      "\u001b[1;31mZeroDivisionError\u001b[0m                         Traceback (most recent call last)",
      "Cell \u001b[1;32mIn[2], line 1\u001b[0m\n\u001b[1;32m----> 1\u001b[0m \u001b[38;5;28mprint\u001b[39m(\u001b[38;5;241;43m10\u001b[39;49m\u001b[43m \u001b[49m\u001b[38;5;241;43m/\u001b[39;49m\u001b[43m \u001b[49m\u001b[38;5;241;43m0\u001b[39;49m)\n",
      "\u001b[1;31mZeroDivisionError\u001b[0m: division by zero"
     ]
    }
   ],
   "source": [
    "print(10 / 0)"
   ]
  },
  {
   "cell_type": "code",
   "execution_count": 3,
   "id": "e42be947-d5f8-49dc-ac80-f734fe01eb80",
   "metadata": {},
   "outputs": [
    {
     "ename": "IndexError",
     "evalue": "list index out of range",
     "output_type": "error",
     "traceback": [
      "\u001b[1;31m---------------------------------------------------------------------------\u001b[0m",
      "\u001b[1;31mIndexError\u001b[0m                                Traceback (most recent call last)",
      "Cell \u001b[1;32mIn[3], line 2\u001b[0m\n\u001b[0;32m      1\u001b[0m list_a \u001b[38;5;241m=\u001b[39m [\u001b[38;5;241m1\u001b[39m,\u001b[38;5;241m2\u001b[39m,\u001b[38;5;241m3\u001b[39m]\n\u001b[1;32m----> 2\u001b[0m \u001b[43mlist_a\u001b[49m\u001b[43m[\u001b[49m\u001b[38;5;241;43m3\u001b[39;49m\u001b[43m]\u001b[49m\n",
      "\u001b[1;31mIndexError\u001b[0m: list index out of range"
     ]
    }
   ],
   "source": [
    "list_a = [1,2,3]\n",
    "list_a[3]"
   ]
  },
  {
   "cell_type": "code",
   "execution_count": 6,
   "id": "6fe60b21-9971-46ea-9a03-2b5324ff4cf7",
   "metadata": {},
   "outputs": [
    {
     "name": "stdout",
     "output_type": "stream",
     "text": [
      "0으로 나눌수없습니다.\n",
      "10.0\n",
      "5.0\n",
      "3.3333333333333335\n",
      "2.5\n",
      "2.0\n",
      "1.6666666666666667\n",
      "1.4285714285714286\n",
      "1.25\n",
      "1.1111111111111112\n"
     ]
    }
   ],
   "source": [
    "for i in range(10):\n",
    "    if i != 0:\n",
    "        print(10 / i)  # 비지니스로직\n",
    "    else:\n",
    "        print('0으로 나눌수없습니다.')"
   ]
  },
  {
   "cell_type": "code",
   "execution_count": 14,
   "id": "f15669dd-46a7-47e4-b0b6-080744c3c157",
   "metadata": {},
   "outputs": [
    {
     "name": "stdout",
     "output_type": "stream",
     "text": [
      "예외 발생전\n",
      "예외 발생\n",
      "try 구문 끝\n"
     ]
    }
   ],
   "source": [
    "try:\n",
    "    print(\"예외 발생전\")\n",
    "    print(10 / 0)\n",
    "    print(\"예외 발생후\")\n",
    "except:\n",
    "    print(\"예외 발생\")\n",
    "\n",
    "print(\"try 구문 끝\")"
   ]
  },
  {
   "cell_type": "code",
   "execution_count": 12,
   "id": "03d31f4f-0b49-4cc1-83e5-50bbad24e807",
   "metadata": {},
   "outputs": [
    {
     "name": "stdout",
     "output_type": "stream",
     "text": [
      "예외 발생 : division by zero \n",
      "10.0\n",
      "5.0\n",
      "3.3333333333333335\n",
      "2.5\n",
      "2.0\n",
      "1.6666666666666667\n",
      "1.4285714285714286\n",
      "1.25\n",
      "1.1111111111111112\n"
     ]
    }
   ],
   "source": [
    "for i in range(10):\n",
    "    try:\n",
    "        print(10 / i)\n",
    "    except ZeroDivisionError as e:\n",
    "        print(f\"예외 발생 : {e} \")\n"
   ]
  },
  {
   "cell_type": "markdown",
   "id": "afe9f1c7-5733-4225-8f7b-ee6c4243898b",
   "metadata": {},
   "source": [
    "    try:\n",
    "        예외발생 가능성 있는 코드들...\n",
    "    except [예외타입] :\n",
    "        처리할 코드들\n",
    "    else:\n",
    "        예외가 발생하지 않을때 실생하는 코드"
   ]
  },
  {
   "cell_type": "code",
   "execution_count": 15,
   "id": "fa2c1990-30d3-4a13-95e2-b2965f83a987",
   "metadata": {},
   "outputs": [
    {
     "name": "stdout",
     "output_type": "stream",
     "text": [
      "예외 발생 : division by zero \n",
      "10.0\n",
      "5.0\n",
      "3.3333333333333335\n",
      "2.5\n",
      "2.0\n",
      "1.6666666666666667\n",
      "1.4285714285714286\n",
      "1.25\n",
      "1.1111111111111112\n"
     ]
    }
   ],
   "source": [
    "for i in range(10):\n",
    "    try:\n",
    "        10 / i  # 예외발생 여부 check\n",
    "    except ZeroDivisionError as e:\n",
    "        print(f\"예외 발생 : {e} \")\n",
    "    else:\n",
    "        print(10 / i)"
   ]
  },
  {
   "cell_type": "markdown",
   "id": "ead9f4ca-24c3-4e9f-8e66-91f412b45f72",
   "metadata": {},
   "source": [
    "    try:\n",
    "        예외발생 가능성 있는 코드들...\n",
    "    except [예외타입] :\n",
    "        처리할 코드들\n",
    "    finally:\n",
    "        예외발생 여부에 상관없이 반드시 실행되는 코드\n",
    "        try구문에서 정상실행되고 마지막에 실행 되거나\n",
    "        try구분에서 예외가 발생해서 except 쪽으로 빠져서 실행하고 마지막에 실행된다."
   ]
  },
  {
   "cell_type": "code",
   "execution_count": 17,
   "id": "1087b908-3988-4ed5-9e98-3f19a0c4288e",
   "metadata": {},
   "outputs": [
    {
     "name": "stdout",
     "output_type": "stream",
     "text": [
      "10\n",
      "5\n",
      "3\n",
      "2\n",
      "2\n",
      "1\n",
      "1\n",
      "1\n",
      "1\n",
      "try 구문의 마지막.....\n"
     ]
    }
   ],
   "source": [
    "try:\n",
    "    for i in range(1,10):\n",
    "        print(10 // i)\n",
    "except:\n",
    "    print('예외발생')\n",
    "finally:\n",
    "    print('try 구문의 마지막.....')"
   ]
  },
  {
   "cell_type": "code",
   "execution_count": 21,
   "id": "0cd41f91-9ba0-42fe-8c84-68c35b60223b",
   "metadata": {},
   "outputs": [
    {
     "name": "stdin",
     "output_type": "stream",
     "text": [
      "정수를 입력하세요 10\n",
      "정수를 입력하세요 20\n"
     ]
    },
    {
     "name": "stdout",
     "output_type": "stream",
     "text": [
      "10 + 20 = 1020\n"
     ]
    }
   ],
   "source": [
    "# 사용자로부터 두개의 숫자를 입력받아서 덧셈 프로그램을 만들어보세요.\n",
    "num1= input('정수를 입력하세요')\n",
    "num2= input('정수를 입력하세요')\n",
    "print(f\"{num1} + {num2} = {num1+num2}\")"
   ]
  },
  {
   "cell_type": "code",
   "execution_count": 24,
   "id": "5b67dfa7-66a5-4d1c-9b26-9d03ad8df965",
   "metadata": {},
   "outputs": [
    {
     "name": "stdin",
     "output_type": "stream",
     "text": [
      "정수를 입력하세요 10\n",
      "정수를 입력하세요 20\n"
     ]
    },
    {
     "name": "stdout",
     "output_type": "stream",
     "text": [
      "10 + 20 = 30\n"
     ]
    }
   ],
   "source": [
    "# 10+20=30 되도록 수정\n",
    "num1= input('정수를 입력하세요')\n",
    "num2= input('정수를 입력하세요')\n",
    "print(f\"{num1} + {num2} = {int(num1)+int(num2)}\")"
   ]
  },
  {
   "cell_type": "code",
   "execution_count": 26,
   "id": "09223cea-c351-47b4-af90-f891909a9fa2",
   "metadata": {},
   "outputs": [
    {
     "name": "stdin",
     "output_type": "stream",
     "text": [
      "정수를 입력하세요 10\n",
      "정수를 입력하세요 이십\n"
     ]
    },
    {
     "name": "stdout",
     "output_type": "stream",
     "text": [
      "입력값중에 숫자가 아닌 값이 있습니다. 다시 처음부터 입력해 주세요\n"
     ]
    },
    {
     "name": "stdin",
     "output_type": "stream",
     "text": [
      "정수를 입력하세요 10\n",
      "정수를 입력하세요 20\n"
     ]
    },
    {
     "name": "stdout",
     "output_type": "stream",
     "text": [
      "10 + 20 = 30\n"
     ]
    }
   ],
   "source": [
    "# 사용자가 문자를 입력하면 적절한 메세지를 출력하고 재 입력 1번만 받으세요\n",
    "try:    \n",
    "    num1= input('정수를 입력하세요')\n",
    "    num2= input('정수를 입력하세요')\n",
    "    print(f\"{num1} + {num2} = {int(num1)+int(num2)}\")\n",
    "except:\n",
    "    print(\"입력값중에 숫자가 아닌 값이 있습니다. 다시 처음부터 입력해 주세요\")\n",
    "    num1= input('정수를 입력하세요')\n",
    "    num2= input('정수를 입력하세요')\n",
    "    print(f\"{num1} + {num2} = {int(num1)+int(num2)}\")\n"
   ]
  },
  {
   "cell_type": "code",
   "execution_count": 27,
   "id": "ea826c91-47d0-4de2-b14b-2246331d40ed",
   "metadata": {},
   "outputs": [],
   "source": [
    "def input_add():\n",
    "    num1= input('정수를 입력하세요')\n",
    "    num2= input('정수를 입력하세요')\n",
    "    print(f\"{num1} + {num2} = {int(num1)+int(num2)}\")"
   ]
  },
  {
   "cell_type": "code",
   "execution_count": null,
   "id": "c3f5adc7-7a94-4050-9159-4d5976747c3f",
   "metadata": {},
   "outputs": [],
   "source": [
    "try:    \n",
    "    input_add()\n",
    "except:\n",
    "    print(\"입력값중에 숫자가 아닌 값이 있습니다. 다시 처음부터 입력해 주세요\")\n",
    "    input_add()"
   ]
  },
  {
   "cell_type": "code",
   "execution_count": 34,
   "id": "b8f12f5a-a669-49f2-b918-18cf8ffd4e33",
   "metadata": {},
   "outputs": [
    {
     "name": "stdin",
     "output_type": "stream",
     "text": [
      "정수를 입력하세요 10\n",
      "정수를 입력하세요 0\n"
     ]
    },
    {
     "name": "stdout",
     "output_type": "stream",
     "text": [
      "예외발생\n"
     ]
    }
   ],
   "source": [
    "# 예외가 발생할 가능성이 여러개 있을때 각 예외 상황에 따른 처리가 다른경우\n",
    "# ValueError , ZeroDivisionError\n",
    "\n",
    "numbers = []\n",
    "try:\n",
    "    \n",
    "    for _ in range(2):\n",
    "        numbers.append( int(input('정수를 입력하세요')) )\n",
    "    result = numbers[0] / numbers[1]\n",
    "    \n",
    "except:\n",
    "    print(\"예외발생\")\n",
    "    \n",
    "else:    \n",
    "    print(f\"{numbers[0]} / {numbers[1]} = {result}\")"
   ]
  },
  {
   "cell_type": "code",
   "execution_count": 37,
   "id": "f2ec77b6-be75-484e-8c3f-59d16536a7f5",
   "metadata": {},
   "outputs": [
    {
     "name": "stdin",
     "output_type": "stream",
     "text": [
      "정수를 입력하세요 10\n",
      "정수를 입력하세요 0\n"
     ]
    },
    {
     "name": "stdout",
     "output_type": "stream",
     "text": [
      "예외발생 - 0이 아닌 숫자로 나눠야 합니다.\n"
     ]
    }
   ],
   "source": [
    "numbers = []\n",
    "try:\n",
    "    \n",
    "    for _ in range(2):\n",
    "        numbers.append( int(input('정수를 입력하세요')) )\n",
    "    result = numbers[0] / numbers[1]\n",
    "    \n",
    "except ValueError:\n",
    "    print(\"예외발생 - 올바른 숫자로 입력하세요\")\n",
    "except ZeroDivisionError:\n",
    "    print(\"예외발생 - 0이 아닌 숫자로 나눠야 합니다.\")\n",
    "else:    \n",
    "    print(f\"{numbers[0]} / {numbers[1]} = {result}\")"
   ]
  },
  {
   "cell_type": "code",
   "execution_count": 39,
   "id": "86b3cdd9-35e7-4920-87d6-5a5ecb228978",
   "metadata": {},
   "outputs": [
    {
     "name": "stdin",
     "output_type": "stream",
     "text": [
      "정수를 입력하세요 10\n",
      "정수를 입력하세요 10\n"
     ]
    },
    {
     "name": "stdout",
     "output_type": "stream",
     "text": [
      "알수없는 에러\n"
     ]
    }
   ],
   "source": [
    "numbers = []\n",
    "try:\n",
    "    \n",
    "    for _ in range(2):\n",
    "        numbers.append( int(input('정수를 입력하세요')) )  # 가능성\n",
    "    result = numbers[0] / numbers[1]                     # 가능성     \n",
    "    numbers[2]\n",
    "except ValueError:\n",
    "    print(\"예외발생 - 올바른 숫자로 입력하세요\")\n",
    "except ZeroDivisionError:\n",
    "    print(\"예외발생 - 0이 아닌 숫자로 나눠야 합니다.\")\n",
    "except:\n",
    "    print(\"알수없는 에러\")\n",
    "else:    \n",
    "    print(f\"{numbers[0]} / {numbers[1]} = {result}\")"
   ]
  },
  {
   "cell_type": "code",
   "execution_count": 40,
   "id": "673ac24d-1327-40d2-aa83-22b720b7b032",
   "metadata": {},
   "outputs": [
    {
     "ename": "SyntaxError",
     "evalue": "default 'except:' must be last (2730845868.py, line 9)",
     "output_type": "error",
     "traceback": [
      "\u001b[1;36m  Cell \u001b[1;32mIn[40], line 9\u001b[1;36m\u001b[0m\n\u001b[1;33m    except:\u001b[0m\n\u001b[1;37m    ^\u001b[0m\n\u001b[1;31mSyntaxError\u001b[0m\u001b[1;31m:\u001b[0m default 'except:' must be last\n"
     ]
    }
   ],
   "source": [
    "numbers = []\n",
    "try:\n",
    "    \n",
    "    for _ in range(2):\n",
    "        numbers.append( int(input('정수를 입력하세요')) )  # 가능성\n",
    "    result = numbers[0] / numbers[1]                     # 가능성     \n",
    "    numbers[2]\n",
    "    \n",
    "except:\n",
    "    print(\"알수없는 에러\")    \n",
    "except ValueError:\n",
    "    print(\"예외발생 - 올바른 숫자로 입력하세요\")\n",
    "except ZeroDivisionError:\n",
    "    print(\"예외발생 - 0이 아닌 숫자로 나눠야 합니다.\")\n",
    "\n",
    "else:    \n",
    "    print(f\"{numbers[0]} / {numbers[1]} = {result}\")"
   ]
  },
  {
   "cell_type": "code",
   "execution_count": 42,
   "id": "8356f1c7-9ace-4ffc-8a06-382781dc7f4d",
   "metadata": {},
   "outputs": [
    {
     "name": "stdin",
     "output_type": "stream",
     "text": [
      "정수를 입력하세요 10\n",
      "정수를 입력하세요 0\n"
     ]
    },
    {
     "name": "stdout",
     "output_type": "stream",
     "text": [
      "예외발생\n"
     ]
    }
   ],
   "source": [
    "numbers = []\n",
    "try:\n",
    "    \n",
    "    for _ in range(2):\n",
    "        numbers.append( int(input('정수를 입력하세요')) )  # 가능성\n",
    "    result = numbers[0] / numbers[1]                     # 가능성     \n",
    "    numbers[2]    \n",
    "except (ValueError, ZeroDivisionError):\n",
    "    print(\"예외발생\")\n",
    "except:\n",
    "    print(\"알수없는 에러\") \n",
    "    \n",
    "else:    \n",
    "    print(f\"{numbers[0]} / {numbers[1]} = {result}\")"
   ]
  },
  {
   "cell_type": "code",
   "execution_count": 49,
   "id": "9ac9b0ba-2ca8-4a61-8764-499b37874e9c",
   "metadata": {},
   "outputs": [
    {
     "data": {
      "text/plain": [
       "[123, '백이십삼', 11, 25, 14, '한글', 55, 25.3, 45, 12.5, 23.5]"
      ]
     },
     "execution_count": 49,
     "metadata": {},
     "output_type": "execute_result"
    }
   ],
   "source": [
    "temp_list = [123,'백이십삼',11,25,14,'한글',55,25.3,45,12.5,23.5]\n",
    "temp_list"
   ]
  },
  {
   "cell_type": "code",
   "execution_count": 52,
   "id": "728976e8-1c19-4213-83ca-f3bb4e457956",
   "metadata": {},
   "outputs": [
    {
     "name": "stdout",
     "output_type": "stream",
     "text": [
      "[123, 11, 25, 14, 55, 25, 45, 12, 23]\n"
     ]
    }
   ],
   "source": [
    "#1. 숫자만 추려서 새로운 리스트로 담아주세요.\n",
    "new_list = []\n",
    "for data in temp_list:\n",
    "    try:        \n",
    "        new_list.append(int(data))\n",
    "    except:\n",
    "        pass\n",
    "print(new_list)    "
   ]
  },
  {
   "cell_type": "code",
   "execution_count": 57,
   "id": "06f5589f-f52d-4fc0-a446-52adc6b1cac3",
   "metadata": {},
   "outputs": [
    {
     "name": "stdout",
     "output_type": "stream",
     "text": [
      "[25.3, 12.5, 23.5]\n"
     ]
    }
   ],
   "source": [
    "# 실수만 추려낸다.\n",
    "new_list = []\n",
    "for data in temp_list:\n",
    "    try:\n",
    "        temp = int(data)        \n",
    "        if data-temp !=0:            \n",
    "            new_list.append(data)\n",
    "    except:\n",
    "        pass\n",
    "print(new_list)    "
   ]
  },
  {
   "cell_type": "markdown",
   "id": "167fa701-c088-4761-a5e4-7c24b5e84354",
   "metadata": {},
   "source": [
    "# 예외발생 raise\n",
    "    정해진 예외가아니라.. 중요한 상황을 예외처럼 만들어서 관리\n",
    "    EX 온도가 40도를 넘어가면.. 예외를 발생시킴\n",
    "    raise 예외타입(예외정보)"
   ]
  },
  {
   "cell_type": "code",
   "execution_count": 60,
   "id": "ded9eb28-4283-48cc-b436-97d9c90f9620",
   "metadata": {},
   "outputs": [
    {
     "ename": "ValueError",
     "evalue": "그냥 만들어 봤어요. ㅋㅋㅋ",
     "output_type": "error",
     "traceback": [
      "\u001b[1;31m---------------------------------------------------------------------------\u001b[0m",
      "\u001b[1;31mValueError\u001b[0m                                Traceback (most recent call last)",
      "Cell \u001b[1;32mIn[60], line 1\u001b[0m\n\u001b[1;32m----> 1\u001b[0m \u001b[38;5;28;01mraise\u001b[39;00m \u001b[38;5;167;01mValueError\u001b[39;00m(\u001b[38;5;124m\"\u001b[39m\u001b[38;5;124m그냥 만들어 봤어요. ㅋㅋㅋ\u001b[39m\u001b[38;5;124m\"\u001b[39m)\n",
      "\u001b[1;31mValueError\u001b[0m: 그냥 만들어 봤어요. ㅋㅋㅋ"
     ]
    }
   ],
   "source": [
    "raise ValueError(\"그냥 만들어 봤어요. ㅋㅋㅋ\")"
   ]
  },
  {
   "cell_type": "code",
   "execution_count": 61,
   "id": "4ac30a9a-d9aa-47e2-af01-6d9db434fde5",
   "metadata": {},
   "outputs": [
    {
     "ename": "Exception",
     "evalue": "예외가 발생...",
     "output_type": "error",
     "traceback": [
      "\u001b[1;31m---------------------------------------------------------------------------\u001b[0m",
      "\u001b[1;31mException\u001b[0m                                 Traceback (most recent call last)",
      "Cell \u001b[1;32mIn[61], line 1\u001b[0m\n\u001b[1;32m----> 1\u001b[0m \u001b[38;5;28;01mraise\u001b[39;00m \u001b[38;5;167;01mException\u001b[39;00m(\u001b[38;5;124m\"\u001b[39m\u001b[38;5;124m예외가 발생...\u001b[39m\u001b[38;5;124m\"\u001b[39m)\n",
      "\u001b[1;31mException\u001b[0m: 예외가 발생..."
     ]
    }
   ],
   "source": [
    "raise Exception(\"예외가 발생...\")"
   ]
  },
  {
   "cell_type": "code",
   "execution_count": 62,
   "id": "41cce0fe-032c-4750-a133-768be8ea38bc",
   "metadata": {},
   "outputs": [],
   "source": [
    "# 사용자 정의 예외타입\n",
    "class DangerValue(Exception):\n",
    "    def __init__(self,except_name):\n",
    "        super().__init__(except_name)"
   ]
  },
  {
   "cell_type": "code",
   "execution_count": 63,
   "id": "0fc7d340-f604-426e-9119-2db4e93cb3b0",
   "metadata": {},
   "outputs": [
    {
     "ename": "DangerValue",
     "evalue": "예외가 발생...",
     "output_type": "error",
     "traceback": [
      "\u001b[1;31m---------------------------------------------------------------------------\u001b[0m",
      "\u001b[1;31mDangerValue\u001b[0m                               Traceback (most recent call last)",
      "Cell \u001b[1;32mIn[63], line 1\u001b[0m\n\u001b[1;32m----> 1\u001b[0m \u001b[38;5;28;01mraise\u001b[39;00m DangerValue(\u001b[38;5;124m\"\u001b[39m\u001b[38;5;124m예외가 발생...\u001b[39m\u001b[38;5;124m\"\u001b[39m)\n",
      "\u001b[1;31mDangerValue\u001b[0m: 예외가 발생..."
     ]
    }
   ],
   "source": [
    "raise DangerValue(\"예외가 발생...\")"
   ]
  },
  {
   "cell_type": "code",
   "execution_count": 66,
   "id": "ae151e34-2a4b-44e2-a3d6-d431f8df2046",
   "metadata": {},
   "outputs": [
    {
     "name": "stdin",
     "output_type": "stream",
     "text": [
      "정수입력 50\n"
     ]
    },
    {
     "name": "stdout",
     "output_type": "stream",
     "text": [
      "올바른정수를 입력하세요\n"
     ]
    }
   ],
   "source": [
    "try:\n",
    "    number = int(input('정수입력'))\n",
    "    if number > 40:\n",
    "        raise DangerValue(\"40도 넘어갔습니다. 대피하세요\")\n",
    "except ValueError:\n",
    "    print('올바른정수를 입력하세요')\n",
    "except DangerValue as e:\n",
    "    print(e)"
   ]
  },
  {
   "cell_type": "code",
   "execution_count": 70,
   "id": "aeb86aa8-4af0-4f20-82be-93148a7a8ee3",
   "metadata": {},
   "outputs": [
    {
     "name": "stdin",
     "output_type": "stream",
     "text": [
      "정수입력 ㄴㅁㅇㄻㄴㅇㄹ\n"
     ]
    },
    {
     "ename": "ValueError",
     "evalue": "숫자를입력하세요",
     "output_type": "error",
     "traceback": [
      "\u001b[1;31m---------------------------------------------------------------------------\u001b[0m",
      "\u001b[1;31mValueError\u001b[0m                                Traceback (most recent call last)",
      "Cell \u001b[1;32mIn[70], line 4\u001b[0m\n\u001b[0;32m      2\u001b[0m \u001b[38;5;28;01mfor\u001b[39;00m digit \u001b[38;5;129;01min\u001b[39;00m number:\n\u001b[0;32m      3\u001b[0m     \u001b[38;5;28;01mif\u001b[39;00m digit \u001b[38;5;129;01mnot\u001b[39;00m \u001b[38;5;129;01min\u001b[39;00m \u001b[38;5;124m\"\u001b[39m\u001b[38;5;124m0123456789\u001b[39m\u001b[38;5;124m\"\u001b[39m:\n\u001b[1;32m----> 4\u001b[0m         \u001b[38;5;28;01mraise\u001b[39;00m \u001b[38;5;167;01mValueError\u001b[39;00m(\u001b[38;5;124m\"\u001b[39m\u001b[38;5;124m숫자를입력하세요\u001b[39m\u001b[38;5;124m\"\u001b[39m)\n",
      "\u001b[1;31mValueError\u001b[0m: 숫자를입력하세요"
     ]
    }
   ],
   "source": [
    "number = input('정수입력')\n",
    "for digit in number:\n",
    "    if digit not in \"0123456789\":\n",
    "        raise ValueError(\"숫자를입력하세요\")    "
   ]
  },
  {
   "cell_type": "markdown",
   "id": "4ec2eb31-7375-4399-9b69-d75c0d3a2db3",
   "metadata": {},
   "source": [
    "# assert 문\n",
    "    조건이 맞으면 아무것도 경고를 안하지만\n",
    "    즉 조건이 안맞으면 AssertionError를 발생한다."
   ]
  },
  {
   "cell_type": "code",
   "execution_count": 72,
   "id": "13069331-31cd-4efa-af6e-def51d11ba75",
   "metadata": {},
   "outputs": [
    {
     "ename": "AssertionError",
     "evalue": "",
     "output_type": "error",
     "traceback": [
      "\u001b[1;31m---------------------------------------------------------------------------\u001b[0m",
      "\u001b[1;31mAssertionError\u001b[0m                            Traceback (most recent call last)",
      "Cell \u001b[1;32mIn[72], line 2\u001b[0m\n\u001b[0;32m      1\u001b[0m number \u001b[38;5;241m=\u001b[39m \u001b[38;5;241m11\u001b[39m\n\u001b[1;32m----> 2\u001b[0m \u001b[38;5;28;01massert\u001b[39;00m number \u001b[38;5;241m==\u001b[39m \u001b[38;5;241m10\u001b[39m\n",
      "\u001b[1;31mAssertionError\u001b[0m: "
     ]
    }
   ],
   "source": [
    "number = 11\n",
    "assert number == 10"
   ]
  },
  {
   "cell_type": "code",
   "execution_count": 74,
   "id": "260a96b3-45d4-4912-8970-e2b9d8e3e7fc",
   "metadata": {},
   "outputs": [
    {
     "name": "stdin",
     "output_type": "stream",
     "text": [
      "정수를 입력하세요 1\n"
     ]
    },
    {
     "ename": "AssertionError",
     "evalue": "",
     "output_type": "error",
     "traceback": [
      "\u001b[1;31m---------------------------------------------------------------------------\u001b[0m",
      "\u001b[1;31mAssertionError\u001b[0m                            Traceback (most recent call last)",
      "Cell \u001b[1;32mIn[74], line 3\u001b[0m\n\u001b[0;32m      1\u001b[0m \u001b[38;5;66;03m# 입력한 값이 짝수여야만 한다.\u001b[39;00m\n\u001b[0;32m      2\u001b[0m number \u001b[38;5;241m=\u001b[39m \u001b[38;5;28mint\u001b[39m(\u001b[38;5;28minput\u001b[39m(\u001b[38;5;124m'\u001b[39m\u001b[38;5;124m정수를 입력하세요\u001b[39m\u001b[38;5;124m'\u001b[39m))\n\u001b[1;32m----> 3\u001b[0m \u001b[38;5;28;01massert\u001b[39;00m number \u001b[38;5;241m%\u001b[39m \u001b[38;5;241m2\u001b[39m \u001b[38;5;241m==\u001b[39m \u001b[38;5;241m0\u001b[39m\n",
      "\u001b[1;31mAssertionError\u001b[0m: "
     ]
    }
   ],
   "source": [
    "# 입력한 값이 짝수여야만 한다.\n",
    "number = int(input('정수를 입력하세요'))\n",
    "assert number % 2 == 0"
   ]
  },
  {
   "cell_type": "code",
   "execution_count": 78,
   "id": "1724306f-5869-454a-90a3-14de6c58a03a",
   "metadata": {},
   "outputs": [
    {
     "name": "stdin",
     "output_type": "stream",
     "text": [
      "정수를 입력하세요 5\n"
     ]
    }
   ],
   "source": [
    "# isinstance : 값이 어느 인스턴스인지 구분\n",
    "# isinstance(검사할 값, 비교할 인스턴스타입)\n",
    "number = int(input('정수를 입력하세요'))\n",
    "assert isinstance(number, int)"
   ]
  },
  {
   "cell_type": "code",
   "execution_count": 80,
   "id": "8070da64-008f-47d3-a707-3b61a071fe87",
   "metadata": {},
   "outputs": [],
   "source": [
    "# 예외처리, assert"
   ]
  },
  {
   "cell_type": "code",
   "execution_count": 81,
   "id": "4a69b810-b21a-4e6a-8182-443184e3c845",
   "metadata": {},
   "outputs": [],
   "source": [
    "# 임의의 숫자를 컴퓨터가 선택 (1 ~ 100)\n",
    "# 그걸 사용자가 맞추는 게임\n",
    "# 규칙 사용자가 제시한 숫자를 비교해서 사용자기준으로 크다 작다 출력\n",
    "# 맞추면 끝난다... \n",
    "# 1. 맞출때 까지 계속 한다."
   ]
  },
  {
   "cell_type": "code",
   "execution_count": 91,
   "id": "b0f2f16f-11ff-4c7d-9c5b-8a20eff80390",
   "metadata": {},
   "outputs": [
    {
     "ename": "NameError",
     "evalue": "name 'inut' is not defined",
     "output_type": "error",
     "traceback": [
      "\u001b[1;31m---------------------------------------------------------------------------\u001b[0m",
      "\u001b[1;31mNameError\u001b[0m                                 Traceback (most recent call last)",
      "Cell \u001b[1;32mIn[91], line 3\u001b[0m\n\u001b[0;32m      1\u001b[0m \u001b[38;5;28;01mimport\u001b[39;00m \u001b[38;5;21;01mrandom\u001b[39;00m \u001b[38;5;28;01mas\u001b[39;00m \u001b[38;5;21;01mrd\u001b[39;00m\n\u001b[0;32m      2\u001b[0m comn_umber \u001b[38;5;241m=\u001b[39m rd\u001b[38;5;241m.\u001b[39mrandint(\u001b[38;5;241m1\u001b[39m,\u001b[38;5;241m101\u001b[39m)\n\u001b[1;32m----> 3\u001b[0m human_number \u001b[38;5;241m=\u001b[39m \u001b[38;5;28mint\u001b[39m(\u001b[43minut\u001b[49m(\u001b[38;5;124m'\u001b[39m\u001b[38;5;124m1~100사이의 정수\u001b[39m\u001b[38;5;124m'\u001b[39m))\n",
      "\u001b[1;31mNameError\u001b[0m: name 'inut' is not defined"
     ]
    }
   ],
   "source": [
    "import random as rd\n",
    "comn_umber = rd.randint(1,101)   \n",
    "\n",
    "\n",
    "# 정수를 입력 안할수도....   예외 처리\n",
    "# 잘못입력(범위넘길때)       예외 발생\n",
    "\n",
    "human_number = int(input('1~100사이의 정수'))  \n",
    "# 두개 값을 비교해서 크다 작다. 맞추면 정답 이라고 출력\n",
    "# 위의 과정을 맞출때까지 한다."
   ]
  },
  {
   "cell_type": "code",
   "execution_count": 84,
   "id": "4b3e982e-7004-46da-95bb-3bad367f1659",
   "metadata": {},
   "outputs": [
    {
     "ename": "AttributeError",
     "evalue": "module 'random' has no attribute 'randn'",
     "output_type": "error",
     "traceback": [
      "\u001b[1;31m---------------------------------------------------------------------------\u001b[0m",
      "\u001b[1;31mAttributeError\u001b[0m                            Traceback (most recent call last)",
      "Cell \u001b[1;32mIn[84], line 1\u001b[0m\n\u001b[1;32m----> 1\u001b[0m \u001b[43mrd\u001b[49m\u001b[38;5;241;43m.\u001b[39;49m\u001b[43mrandn\u001b[49m(\u001b[38;5;241m1\u001b[39m,\u001b[38;5;241m100\u001b[39m)\n",
      "\u001b[1;31mAttributeError\u001b[0m: module 'random' has no attribute 'randn'"
     ]
    }
   ],
   "source": [
    "rd.Random"
   ]
  },
  {
   "cell_type": "code",
   "execution_count": null,
   "id": "97e3e3b2-a9f0-47c3-af7d-14607f92ad73",
   "metadata": {},
   "outputs": [],
   "source": []
  }
 ],
 "metadata": {
  "kernelspec": {
   "display_name": "Python 3 (ipykernel)",
   "language": "python",
   "name": "python3"
  },
  "language_info": {
   "codemirror_mode": {
    "name": "ipython",
    "version": 3
   },
   "file_extension": ".py",
   "mimetype": "text/x-python",
   "name": "python",
   "nbconvert_exporter": "python",
   "pygments_lexer": "ipython3",
   "version": "3.10.8"
  }
 },
 "nbformat": 4,
 "nbformat_minor": 5
}
