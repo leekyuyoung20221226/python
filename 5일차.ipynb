{
 "cells": [
  {
   "cell_type": "markdown",
   "id": "3f7df73e-3314-4348-9646-bf357cd91163",
   "metadata": {},
   "source": [
    "# 4일차 이이서 ...\n",
    "    교집합, 합집합, 차집합"
   ]
  },
  {
   "cell_type": "code",
   "execution_count": 1,
   "id": "faae3919-0442-4411-9c5d-edf947632e2f",
   "metadata": {},
   "outputs": [],
   "source": [
    "# set\n",
    "# add() : 원소를 추가(하나)\n",
    "# remove() / discard() : 원소 하나를 제거\n",
    "# update() : 새로운 리스트를 그대로 추가\n",
    "# clear() : 모든 변수를 지우기"
   ]
  },
  {
   "cell_type": "code",
   "execution_count": 2,
   "id": "5a0b4311-8f45-4d30-8675-41f11444be5e",
   "metadata": {},
   "outputs": [],
   "source": [
    "s1 = set([1,2,3,4,5])\n",
    "s2 = set([3,4,5,6,7])"
   ]
  },
  {
   "cell_type": "code",
   "execution_count": 4,
   "id": "b0f8352c-6ca5-4fea-b2e9-2941d863b083",
   "metadata": {},
   "outputs": [
    {
     "data": {
      "text/plain": [
       "{1, 2, 3, 4, 5, 6, 7}"
      ]
     },
     "execution_count": 4,
     "metadata": {},
     "output_type": "execute_result"
    }
   ],
   "source": [
    "s1.union(s2)"
   ]
  },
  {
   "cell_type": "code",
   "execution_count": 5,
   "id": "fb86e9cf-fd66-47c8-b173-924ce6c5c06b",
   "metadata": {},
   "outputs": [
    {
     "data": {
      "text/plain": [
       "{1, 2, 3, 4, 5, 6, 7}"
      ]
     },
     "execution_count": 5,
     "metadata": {},
     "output_type": "execute_result"
    }
   ],
   "source": [
    "s1 | s2"
   ]
  },
  {
   "cell_type": "code",
   "execution_count": 6,
   "id": "6f71cbef-4b00-41a8-87b6-cee3aad96172",
   "metadata": {},
   "outputs": [
    {
     "data": {
      "text/plain": [
       "{3, 4, 5}"
      ]
     },
     "execution_count": 6,
     "metadata": {},
     "output_type": "execute_result"
    }
   ],
   "source": [
    "s1.intersection(s2)"
   ]
  },
  {
   "cell_type": "code",
   "execution_count": 7,
   "id": "149d40a1-ddd8-41b9-b70d-e97209e64786",
   "metadata": {},
   "outputs": [
    {
     "data": {
      "text/plain": [
       "{3, 4, 5}"
      ]
     },
     "execution_count": 7,
     "metadata": {},
     "output_type": "execute_result"
    }
   ],
   "source": [
    "s1 & s2"
   ]
  },
  {
   "cell_type": "code",
   "execution_count": 8,
   "id": "b601d0c9-d233-4f30-b1e3-5a0a27110b05",
   "metadata": {},
   "outputs": [
    {
     "data": {
      "text/plain": [
       "{1, 2}"
      ]
     },
     "execution_count": 8,
     "metadata": {},
     "output_type": "execute_result"
    }
   ],
   "source": [
    "s1.difference(s2)"
   ]
  },
  {
   "cell_type": "code",
   "execution_count": 9,
   "id": "512b9290-e256-4241-8957-b95c4431afbb",
   "metadata": {},
   "outputs": [
    {
     "data": {
      "text/plain": [
       "{1, 2}"
      ]
     },
     "execution_count": 9,
     "metadata": {},
     "output_type": "execute_result"
    }
   ],
   "source": [
    "s1 - s2"
   ]
  },
  {
   "cell_type": "code",
   "execution_count": 10,
   "id": "92a7d196-5ff6-4d95-9148-f80a0604b9ec",
   "metadata": {},
   "outputs": [],
   "source": [
    "# union()  |\n",
    "# intersaction  &\n",
    "# difference  - "
   ]
  },
  {
   "cell_type": "code",
   "execution_count": 11,
   "id": "9e5b1b28-f7ac-4bef-bf90-89da088be4a8",
   "metadata": {},
   "outputs": [],
   "source": [
    "from random import sample"
   ]
  },
  {
   "cell_type": "code",
   "execution_count": 14,
   "id": "428f08ac-9ebe-468e-998c-01a596d47269",
   "metadata": {},
   "outputs": [],
   "source": [
    "random_list1 = sample(range(100), 10)\n",
    "random_list2 = sample(range(100), 10)"
   ]
  },
  {
   "cell_type": "code",
   "execution_count": 15,
   "id": "11e7ea7c-4d69-4bd0-913e-be6e8c0a257e",
   "metadata": {},
   "outputs": [
    {
     "data": {
      "text/plain": [
       "([38, 74, 6, 95, 84, 31, 75, 59, 80, 44],\n",
       " [72, 95, 98, 52, 6, 22, 62, 34, 24, 92])"
      ]
     },
     "execution_count": 15,
     "metadata": {},
     "output_type": "execute_result"
    }
   ],
   "source": [
    "random_list1, random_list2"
   ]
  },
  {
   "cell_type": "code",
   "execution_count": 17,
   "id": "3df53796-3281-4b63-b002-62d9b8e6a568",
   "metadata": {},
   "outputs": [
    {
     "data": {
      "text/plain": [
       "[38, 74, 6, 95, 84, 31, 75, 59, 80, 44, 72, 95, 98, 52, 6, 22, 62, 34, 24, 92]"
      ]
     },
     "execution_count": 17,
     "metadata": {},
     "output_type": "execute_result"
    }
   ],
   "source": [
    "random_list1 + random_list2"
   ]
  },
  {
   "cell_type": "code",
   "execution_count": 16,
   "id": "ba877be7-0c97-4c53-aab5-c3dc2f7f8df0",
   "metadata": {},
   "outputs": [],
   "source": [
    "# list <--> set\n",
    "set1 = set(random_list1)\n",
    "set2 = set(random_list2)"
   ]
  },
  {
   "cell_type": "code",
   "execution_count": 19,
   "id": "c14d9f21-ea06-475f-88c5-c1855799becf",
   "metadata": {},
   "outputs": [
    {
     "data": {
      "text/plain": [
       "[6, 72, 74, 75, 80, 84, 22, 24, 92, 31, 95, 98, 34, 38, 44, 52, 59, 62]"
      ]
     },
     "execution_count": 19,
     "metadata": {},
     "output_type": "execute_result"
    }
   ],
   "source": [
    "list(set1 | set2)"
   ]
  },
  {
   "cell_type": "code",
   "execution_count": 21,
   "id": "94d09fcd-0bce-4188-b5da-132a64aaef5a",
   "metadata": {},
   "outputs": [
    {
     "data": {
      "text/plain": [
       "[38, 74, 75, 44, 80, 84, 59, 31]"
      ]
     },
     "execution_count": 21,
     "metadata": {},
     "output_type": "execute_result"
    }
   ],
   "source": [
    "list(set1-set2)"
   ]
  },
  {
   "cell_type": "code",
   "execution_count": 22,
   "id": "2a373fcb-f42f-4144-80c5-96ef327608d3",
   "metadata": {},
   "outputs": [
    {
     "data": {
      "text/plain": [
       "[6, 95]"
      ]
     },
     "execution_count": 22,
     "metadata": {},
     "output_type": "execute_result"
    }
   ],
   "source": [
    "list(set1 & set2)"
   ]
  },
  {
   "cell_type": "markdown",
   "id": "4422fa97-5199-4b96-9cde-9ad7fa62ce31",
   "metadata": {},
   "source": [
    "# dictionary"
   ]
  },
  {
   "cell_type": "code",
   "execution_count": 24,
   "id": "15391d0d-ccfe-4e93-9f94-bad3409d6592",
   "metadata": {},
   "outputs": [],
   "source": [
    "# 딕셔너리변수 = {키1 : 값1, 키2 : 값1, 키3: 값2 }"
   ]
  },
  {
   "cell_type": "code",
   "execution_count": 26,
   "id": "f85d6ca9-2427-4b32-b172-0220bb7c6501",
   "metadata": {},
   "outputs": [],
   "source": [
    "# 학번             이름\n",
    "# 20220101        홍길동\n",
    "# 20220102        이순신\n",
    "# 202220103       유관순"
   ]
  },
  {
   "cell_type": "code",
   "execution_count": 27,
   "id": "1592b213-b5b9-4ad6-900b-e411793f9ce2",
   "metadata": {},
   "outputs": [],
   "source": [
    "student_info ={\n",
    "    20220101:'홍길동',\n",
    "    20220102:'이순신',\n",
    "    20220103:'유관순'\n",
    "}"
   ]
  },
  {
   "cell_type": "code",
   "execution_count": 28,
   "id": "b5e54a1d-bf73-44a0-b058-8f70b0f482d5",
   "metadata": {},
   "outputs": [
    {
     "data": {
      "text/plain": [
       "{20220101: '홍길동', 20220102: '이순신', 20220103: '유관순'}"
      ]
     },
     "execution_count": 28,
     "metadata": {},
     "output_type": "execute_result"
    }
   ],
   "source": [
    "student_info"
   ]
  },
  {
   "cell_type": "code",
   "execution_count": 31,
   "id": "9fd4fc37-fec2-449a-9db3-1567c8d9e475",
   "metadata": {},
   "outputs": [],
   "source": [
    "student_info[20220102] = '무명장군'"
   ]
  },
  {
   "cell_type": "code",
   "execution_count": 32,
   "id": "c1d5d005-4fdd-4b7d-b08e-87e934f8387e",
   "metadata": {},
   "outputs": [
    {
     "data": {
      "text/plain": [
       "'무명장군'"
      ]
     },
     "execution_count": 32,
     "metadata": {},
     "output_type": "execute_result"
    }
   ],
   "source": [
    "student_info[20220102]"
   ]
  },
  {
   "cell_type": "code",
   "execution_count": 33,
   "id": "79b7c22c-5264-4303-88f0-21b93b25bd96",
   "metadata": {},
   "outputs": [
    {
     "data": {
      "text/plain": [
       "{20220101: '홍길동', 20220102: '무명장군', 20220103: '유관순'}"
      ]
     },
     "execution_count": 33,
     "metadata": {},
     "output_type": "execute_result"
    }
   ],
   "source": [
    "student_info"
   ]
  },
  {
   "cell_type": "code",
   "execution_count": 34,
   "id": "e4bc9fa0-83d5-4198-9d7b-7299cf5e60cb",
   "metadata": {},
   "outputs": [],
   "source": [
    "current_code = {}\n",
    "current_code['korea'] = 82"
   ]
  },
  {
   "cell_type": "code",
   "execution_count": 35,
   "id": "5878f8d8-24ce-4283-8439-9a162405cc17",
   "metadata": {},
   "outputs": [
    {
     "data": {
      "text/plain": [
       "{'korea': 82}"
      ]
     },
     "execution_count": 35,
     "metadata": {},
     "output_type": "execute_result"
    }
   ],
   "source": [
    "current_code"
   ]
  },
  {
   "cell_type": "code",
   "execution_count": 36,
   "id": "aed95c02-5b24-4b87-9723-b963f1848cf8",
   "metadata": {},
   "outputs": [],
   "source": [
    "# dictionary  키값을 입력하면 해당 value가 나온지만 없는 키를 입력하고 값을 대입하면\n",
    "# 해당 키:값 으로 추가된다."
   ]
  },
  {
   "cell_type": "code",
   "execution_count": 38,
   "id": "4115dfbf-b0f8-4579-957b-84775a0c971b",
   "metadata": {},
   "outputs": [],
   "source": [
    "current_code['America'] = 1"
   ]
  },
  {
   "cell_type": "code",
   "execution_count": 39,
   "id": "33fd26a4-1780-470a-8019-c79ac03da2d3",
   "metadata": {},
   "outputs": [
    {
     "data": {
      "text/plain": [
       "{'korea': 82, 'America': 1}"
      ]
     },
     "execution_count": 39,
     "metadata": {},
     "output_type": "execute_result"
    }
   ],
   "source": [
    "current_code"
   ]
  },
  {
   "cell_type": "code",
   "execution_count": 40,
   "id": "70d516ed-6be1-48ba-a315-8f2d0718edb3",
   "metadata": {},
   "outputs": [],
   "source": [
    "# china 86   japan 81"
   ]
  },
  {
   "cell_type": "code",
   "execution_count": 41,
   "id": "7f96c054-5c21-426a-af34-9cf2093579de",
   "metadata": {},
   "outputs": [],
   "source": [
    "current_code['China'] = 86\n",
    "current_code['Japen'] = 81"
   ]
  },
  {
   "cell_type": "code",
   "execution_count": 42,
   "id": "6976f786-6b2b-4003-bc80-e184f5c0f3d3",
   "metadata": {},
   "outputs": [
    {
     "data": {
      "text/plain": [
       "{'korea': 82, 'America': 1, 'China': 86, 'Japen': 81}"
      ]
     },
     "execution_count": 42,
     "metadata": {},
     "output_type": "execute_result"
    }
   ],
   "source": [
    "current_code"
   ]
  },
  {
   "cell_type": "code",
   "execution_count": 43,
   "id": "c4b78f98-7048-427f-a8a4-11cff4fd1b6a",
   "metadata": {},
   "outputs": [
    {
     "name": "stdout",
     "output_type": "stream",
     "text": [
      "korea\n",
      "America\n",
      "China\n",
      "Japen\n"
     ]
    }
   ],
   "source": [
    "for i in current_code:\n",
    "    print(i)"
   ]
  },
  {
   "cell_type": "code",
   "execution_count": 45,
   "id": "85f9039e-3c8c-4b3d-9079-132f6fc31716",
   "metadata": {},
   "outputs": [
    {
     "data": {
      "text/plain": [
       "dict_values([82, 1, 86, 81])"
      ]
     },
     "execution_count": 45,
     "metadata": {},
     "output_type": "execute_result"
    }
   ],
   "source": [
    "current_code.values()   # value를 리스트형태로 출력"
   ]
  },
  {
   "cell_type": "code",
   "execution_count": 46,
   "id": "38dd484e-5f50-4595-9286-0d744bc22c92",
   "metadata": {},
   "outputs": [
    {
     "data": {
      "text/plain": [
       "dict_keys(['korea', 'America', 'China', 'Japen'])"
      ]
     },
     "execution_count": 46,
     "metadata": {},
     "output_type": "execute_result"
    }
   ],
   "source": [
    "current_code.keys()  # key를 리스트형태로 출력"
   ]
  },
  {
   "cell_type": "code",
   "execution_count": 47,
   "id": "f594cd00-25c3-448e-81f1-21fb92a283b7",
   "metadata": {},
   "outputs": [
    {
     "data": {
      "text/plain": [
       "dict_items([('korea', 82), ('America', 1), ('China', 86), ('Japen', 81)])"
      ]
     },
     "execution_count": 47,
     "metadata": {},
     "output_type": "execute_result"
    }
   ],
   "source": [
    "current_code.items()  # key, value를 튜플형태로 출력"
   ]
  },
  {
   "cell_type": "code",
   "execution_count": 49,
   "id": "fcf75992-c3e3-430e-8994-a0519af959a2",
   "metadata": {},
   "outputs": [
    {
     "name": "stdout",
     "output_type": "stream",
     "text": [
      "korea   82\n",
      "America   1\n",
      "China   86\n",
      "Japen   81\n",
      "korea   82\n",
      "America   1\n",
      "China   86\n",
      "Japen   81\n"
     ]
    }
   ],
   "source": [
    "# dictionary 를 for문을 이용하면 순환하면서 value만 추출\n",
    "for i in current_code.items():\n",
    "    key,value = i    # unpack tuple\n",
    "    print(key, ' ', value)\n",
    "    \n",
    "for key, value in current_code.items():\n",
    "    print(key, ' ', value)"
   ]
  },
  {
   "cell_type": "code",
   "execution_count": 50,
   "id": "09941c64-3c3a-4953-9cf4-96266718025d",
   "metadata": {},
   "outputs": [
    {
     "data": {
      "text/plain": [
       "True"
      ]
     },
     "execution_count": 50,
     "metadata": {},
     "output_type": "execute_result"
    }
   ],
   "source": [
    "# korea가 포함되어 있는지 여부\n",
    "'korea' in current_code.keys()"
   ]
  },
  {
   "cell_type": "code",
   "execution_count": 51,
   "id": "d447ed8e-a197-4814-85da-acbb21e5385c",
   "metadata": {},
   "outputs": [
    {
     "data": {
      "text/plain": [
       "True"
      ]
     },
     "execution_count": 51,
     "metadata": {},
     "output_type": "execute_result"
    }
   ],
   "source": [
    "82 in current_code.values()"
   ]
  },
  {
   "cell_type": "markdown",
   "id": "e839455d-878f-4b62-8647-4edb3daaed2f",
   "metadata": {},
   "source": [
    "# collection"
   ]
  },
  {
   "cell_type": "code",
   "execution_count": 53,
   "id": "20a076b0-bd5b-4a66-87e6-4ce59792fbab",
   "metadata": {},
   "outputs": [],
   "source": [
    "from collections import deque"
   ]
  },
  {
   "cell_type": "code",
   "execution_count": 55,
   "id": "6224ba4a-97b3-41f6-bdea-f30c4f992475",
   "metadata": {},
   "outputs": [
    {
     "data": {
      "text/plain": [
       "deque([0, 1, 2, 3, 4])"
      ]
     },
     "execution_count": 55,
     "metadata": {},
     "output_type": "execute_result"
    }
   ],
   "source": [
    "# deque 스택과 큐를 지원하는 모듈\n",
    "# 1. 리스트처럼 데이터를 저장\n",
    "deque_list =  deque()\n",
    "for i in range(5):\n",
    "    deque_list.append(i)\n",
    "deque_list    "
   ]
  },
  {
   "cell_type": "code",
   "execution_count": 56,
   "id": "19c4a574-1d7f-4ae5-8b77-5cf8eba25b54",
   "metadata": {},
   "outputs": [
    {
     "data": {
      "text/plain": [
       "4"
      ]
     },
     "execution_count": 56,
     "metadata": {},
     "output_type": "execute_result"
    }
   ],
   "source": [
    "deque_list.pop()"
   ]
  },
  {
   "cell_type": "code",
   "execution_count": 57,
   "id": "3d6c51f0-7888-4204-9a03-d95333f9168a",
   "metadata": {},
   "outputs": [
    {
     "data": {
      "text/plain": [
       "(3, 2)"
      ]
     },
     "execution_count": 57,
     "metadata": {},
     "output_type": "execute_result"
    }
   ],
   "source": [
    "deque_list.pop(), deque_list.pop()"
   ]
  },
  {
   "cell_type": "code",
   "execution_count": 58,
   "id": "2aac62bc-b626-4679-87cb-7bf3f22cf591",
   "metadata": {},
   "outputs": [
    {
     "data": {
      "text/plain": [
       "deque([0, 1])"
      ]
     },
     "execution_count": 58,
     "metadata": {},
     "output_type": "execute_result"
    }
   ],
   "source": [
    "deque_list"
   ]
  },
  {
   "cell_type": "code",
   "execution_count": 60,
   "id": "3e57a82c-ddb8-454a-af53-c56ba4819c4b",
   "metadata": {},
   "outputs": [
    {
     "data": {
      "text/plain": [
       "deque([4, 3, 2, 1, 0])"
      ]
     },
     "execution_count": 60,
     "metadata": {},
     "output_type": "execute_result"
    }
   ],
   "source": [
    "deque_list =  deque()\n",
    "for i in range(5):\n",
    "    deque_list.appendleft(i)\n",
    "deque_list    "
   ]
  },
  {
   "cell_type": "code",
   "execution_count": 62,
   "id": "88c5ffc3-2733-4c0b-a509-38ba0e0ef957",
   "metadata": {},
   "outputs": [
    {
     "data": {
      "text/plain": [
       "0"
      ]
     },
     "execution_count": 62,
     "metadata": {},
     "output_type": "execute_result"
    }
   ],
   "source": [
    "deque_list.pop()"
   ]
  },
  {
   "cell_type": "code",
   "execution_count": 63,
   "id": "2e634873-60f0-46d9-8ace-727a1d20fb76",
   "metadata": {},
   "outputs": [],
   "source": [
    "# linked list의 장점을 가지고있다"
   ]
  },
  {
   "cell_type": "code",
   "execution_count": 67,
   "id": "47d30071-0b98-4a14-8685-8678410879b1",
   "metadata": {},
   "outputs": [
    {
     "data": {
      "text/plain": [
       "deque([4, 3, 2, 1, 0])"
      ]
     },
     "execution_count": 67,
     "metadata": {},
     "output_type": "execute_result"
    }
   ],
   "source": [
    "deque_list = deque()\n",
    "for i in range(5):\n",
    "    deque_list.appendleft(i)\n",
    "deque_list    "
   ]
  },
  {
   "cell_type": "code",
   "execution_count": 68,
   "id": "d4234d3b-0316-461b-ae36-82798766c9b0",
   "metadata": {},
   "outputs": [],
   "source": [
    "deque_list.rotate(2)"
   ]
  },
  {
   "cell_type": "code",
   "execution_count": 69,
   "id": "4e94799c-bc28-4388-a701-83dae8448368",
   "metadata": {},
   "outputs": [
    {
     "data": {
      "text/plain": [
       "deque([1, 0, 4, 3, 2])"
      ]
     },
     "execution_count": 69,
     "metadata": {},
     "output_type": "execute_result"
    }
   ],
   "source": [
    "deque_list"
   ]
  },
  {
   "cell_type": "code",
   "execution_count": 70,
   "id": "2b649991-2237-42ad-a402-c4a3958465da",
   "metadata": {},
   "outputs": [],
   "source": [
    "deque_list.rotate(1)"
   ]
  },
  {
   "cell_type": "code",
   "execution_count": 71,
   "id": "eb036b01-47f5-401f-917d-78eb931eab97",
   "metadata": {},
   "outputs": [
    {
     "data": {
      "text/plain": [
       "deque([2, 1, 0, 4, 3])"
      ]
     },
     "execution_count": 71,
     "metadata": {},
     "output_type": "execute_result"
    }
   ],
   "source": [
    "deque_list"
   ]
  },
  {
   "cell_type": "code",
   "execution_count": 72,
   "id": "c95af6b3-8b8a-4174-9027-45f98e49efe6",
   "metadata": {},
   "outputs": [
    {
     "data": {
      "text/plain": [
       "['g', 'a', 'l', 'l', 'a', 'h', 'a', 'd']"
      ]
     },
     "execution_count": 72,
     "metadata": {},
     "output_type": "execute_result"
    }
   ],
   "source": [
    "from collections import Counter\n",
    "text = list('gallahad')\n",
    "text"
   ]
  },
  {
   "cell_type": "code",
   "execution_count": 73,
   "id": "453aa160-2187-4245-8fe6-76ba23f65be0",
   "metadata": {},
   "outputs": [
    {
     "data": {
      "text/plain": [
       "Counter({'g': 1, 'a': 3, 'l': 2, 'h': 1, 'd': 1})"
      ]
     },
     "execution_count": 73,
     "metadata": {},
     "output_type": "execute_result"
    }
   ],
   "source": [
    "Counter(text)"
   ]
  },
  {
   "cell_type": "code",
   "execution_count": 74,
   "id": "9b76f879-2c4f-4ae0-a86b-00b9724fc72e",
   "metadata": {},
   "outputs": [],
   "source": [
    "text = 'FALL RIVER — The citywide election isn’t until next November, \\\n",
    "but a familiar face who once held the position of mayor has thrown his \\\n",
    "hat in the political ring again to challenge incumbent Mayor Paul Coogan for the office. '"
   ]
  },
  {
   "cell_type": "code",
   "execution_count": 76,
   "id": "83b60393-d9c0-4180-91eb-54b61a761034",
   "metadata": {},
   "outputs": [
    {
     "data": {
      "text/plain": [
       "Counter({'F': 1,\n",
       "         'A': 1,\n",
       "         'L': 2,\n",
       "         ' ': 39,\n",
       "         'R': 2,\n",
       "         'I': 1,\n",
       "         'V': 1,\n",
       "         'E': 1,\n",
       "         '—': 1,\n",
       "         'T': 1,\n",
       "         'h': 11,\n",
       "         'e': 17,\n",
       "         'c': 8,\n",
       "         'i': 17,\n",
       "         't': 15,\n",
       "         'y': 3,\n",
       "         'w': 3,\n",
       "         'd': 2,\n",
       "         'l': 9,\n",
       "         'o': 16,\n",
       "         'n': 14,\n",
       "         's': 4,\n",
       "         '’': 1,\n",
       "         'u': 4,\n",
       "         'x': 1,\n",
       "         'N': 1,\n",
       "         'v': 1,\n",
       "         'm': 4,\n",
       "         'b': 3,\n",
       "         'r': 7,\n",
       "         ',': 1,\n",
       "         'a': 14,\n",
       "         'f': 6,\n",
       "         'p': 2,\n",
       "         'g': 4,\n",
       "         'M': 1,\n",
       "         'P': 1,\n",
       "         'C': 1,\n",
       "         '.': 1})"
      ]
     },
     "execution_count": 76,
     "metadata": {},
     "output_type": "execute_result"
    }
   ],
   "source": [
    "Counter(text)"
   ]
  },
  {
   "cell_type": "code",
   "execution_count": 79,
   "id": "9d2d8d7d-3415-4580-b9b5-203ecd878c60",
   "metadata": {},
   "outputs": [
    {
     "data": {
      "text/plain": [
       "['FALL',\n",
       " 'RIVER',\n",
       " '—',\n",
       " 'The',\n",
       " 'citywide',\n",
       " 'election',\n",
       " 'isn’t',\n",
       " 'until',\n",
       " 'next',\n",
       " 'November,',\n",
       " 'but',\n",
       " 'a',\n",
       " 'familiar',\n",
       " 'face',\n",
       " 'who',\n",
       " 'once',\n",
       " 'held',\n",
       " 'the',\n",
       " 'position',\n",
       " 'of',\n",
       " 'mayor',\n",
       " 'has',\n",
       " 'thrown',\n",
       " 'his',\n",
       " 'hat',\n",
       " 'in',\n",
       " 'the',\n",
       " 'political',\n",
       " 'ring',\n",
       " 'again',\n",
       " 'to',\n",
       " 'challenge',\n",
       " 'incumbent',\n",
       " 'Mayor',\n",
       " 'Paul',\n",
       " 'Coogan',\n",
       " 'for',\n",
       " 'the',\n",
       " 'office.']"
      ]
     },
     "execution_count": 79,
     "metadata": {},
     "output_type": "execute_result"
    }
   ],
   "source": [
    "text.split()"
   ]
  },
  {
   "cell_type": "code",
   "execution_count": 78,
   "id": "799cc11e-617c-4057-859f-380ae5cbf3d9",
   "metadata": {},
   "outputs": [
    {
     "data": {
      "text/plain": [
       "Counter({'FALL': 1,\n",
       "         'RIVER': 1,\n",
       "         '—': 1,\n",
       "         'The': 1,\n",
       "         'citywide': 1,\n",
       "         'election': 1,\n",
       "         'isn’t': 1,\n",
       "         'until': 1,\n",
       "         'next': 1,\n",
       "         'November,': 1,\n",
       "         'but': 1,\n",
       "         'a': 1,\n",
       "         'familiar': 1,\n",
       "         'face': 1,\n",
       "         'who': 1,\n",
       "         'once': 1,\n",
       "         'held': 1,\n",
       "         'the': 3,\n",
       "         'position': 1,\n",
       "         'of': 1,\n",
       "         'mayor': 1,\n",
       "         'has': 1,\n",
       "         'thrown': 1,\n",
       "         'his': 1,\n",
       "         'hat': 1,\n",
       "         'in': 1,\n",
       "         'political': 1,\n",
       "         'ring': 1,\n",
       "         'again': 1,\n",
       "         'to': 1,\n",
       "         'challenge': 1,\n",
       "         'incumbent': 1,\n",
       "         'Mayor': 1,\n",
       "         'Paul': 1,\n",
       "         'Coogan': 1,\n",
       "         'for': 1,\n",
       "         'office.': 1})"
      ]
     },
     "execution_count": 78,
     "metadata": {},
     "output_type": "execute_result"
    }
   ],
   "source": [
    "Counter(text.split())"
   ]
  },
  {
   "cell_type": "code",
   "execution_count": 80,
   "id": "af03f913-c809-4345-9729-b6d3b01692f7",
   "metadata": {},
   "outputs": [],
   "source": [
    "c = Counter({\n",
    "    'red':4,\n",
    "    'blue':2\n",
    "})"
   ]
  },
  {
   "cell_type": "code",
   "execution_count": 81,
   "id": "4da7e694-636a-486f-830b-e174b02dbd7f",
   "metadata": {},
   "outputs": [
    {
     "data": {
      "text/plain": [
       "Counter({'red': 4, 'blue': 2})"
      ]
     },
     "execution_count": 81,
     "metadata": {},
     "output_type": "execute_result"
    }
   ],
   "source": [
    "c"
   ]
  },
  {
   "cell_type": "code",
   "execution_count": 83,
   "id": "8e63020d-5cfa-43ca-9d48-e25d2d941dd8",
   "metadata": {},
   "outputs": [
    {
     "data": {
      "text/plain": [
       "['red', 'red', 'red', 'red', 'blue', 'blue']"
      ]
     },
     "execution_count": 83,
     "metadata": {},
     "output_type": "execute_result"
    }
   ],
   "source": [
    "list(c.elements())"
   ]
  },
  {
   "cell_type": "code",
   "execution_count": 84,
   "id": "69744afe-0977-401e-a356-74bc43d9dbdd",
   "metadata": {},
   "outputs": [],
   "source": [
    "temp = list(c.elements())"
   ]
  },
  {
   "cell_type": "code",
   "execution_count": 85,
   "id": "a8bc7e71-c6e2-4da3-9c61-586efa444099",
   "metadata": {},
   "outputs": [
    {
     "data": {
      "text/plain": [
       "Counter({'red': 4, 'blue': 2})"
      ]
     },
     "execution_count": 85,
     "metadata": {},
     "output_type": "execute_result"
    }
   ],
   "source": [
    "Counter(temp)"
   ]
  },
  {
   "cell_type": "code",
   "execution_count": 86,
   "id": "95addd54-97a1-4175-a97c-2fb456cc693d",
   "metadata": {},
   "outputs": [
    {
     "data": {
      "text/plain": [
       "['cat', 'cat', 'cat', 'cat', 'cat', 'dog', 'dog', 'dog']"
      ]
     },
     "execution_count": 86,
     "metadata": {},
     "output_type": "execute_result"
    }
   ],
   "source": [
    "['cat','cat','cat','cat','cat','dog','dog','dog']"
   ]
  },
  {
   "cell_type": "code",
   "execution_count": 87,
   "id": "e1d95277-bdcb-4023-ad39-9e1f2a5b03a7",
   "metadata": {},
   "outputs": [
    {
     "data": {
      "text/plain": [
       "Counter({'cat': 5, 'dog': 3})"
      ]
     },
     "execution_count": 87,
     "metadata": {},
     "output_type": "execute_result"
    }
   ],
   "source": [
    "Counter({'cat':5, 'dog':3})"
   ]
  },
  {
   "cell_type": "code",
   "execution_count": 89,
   "id": "c32bde58-b8cc-4e89-843d-114c47657c58",
   "metadata": {},
   "outputs": [
    {
     "data": {
      "text/plain": [
       "['cat', 'cat', 'cat', 'cat', 'cat', 'dog', 'dog', 'dog']"
      ]
     },
     "execution_count": 89,
     "metadata": {},
     "output_type": "execute_result"
    }
   ],
   "source": [
    "list(Counter({'cat':5, 'dog':3}).elements())"
   ]
  },
  {
   "cell_type": "code",
   "execution_count": 93,
   "id": "ecb5cfe4-b744-4f5c-86fc-1f469dade4a8",
   "metadata": {},
   "outputs": [
    {
     "data": {
      "text/plain": [
       "Counter({'a': 3, 'b': 1, 'c': -3, 'd': -6})"
      ]
     },
     "execution_count": 93,
     "metadata": {},
     "output_type": "execute_result"
    }
   ],
   "source": [
    "c = Counter(a=4,b=2,c=0,d=-2)\n",
    "d = Counter(a=1,b=1,c=3,d=4)\n",
    "c.subtract(d)\n",
    "c"
   ]
  },
  {
   "cell_type": "code",
   "execution_count": 94,
   "id": "1301d747-a4d6-45fa-a89a-8b640ef0a546",
   "metadata": {},
   "outputs": [
    {
     "data": {
      "text/plain": [
       "['a', 'a', 'a', 'b']"
      ]
     },
     "execution_count": 94,
     "metadata": {},
     "output_type": "execute_result"
    }
   ],
   "source": [
    "list(c.elements())"
   ]
  },
  {
   "cell_type": "code",
   "execution_count": 123,
   "id": "e2e7844a-0756-492b-a7e5-79f3f1c25980",
   "metadata": {},
   "outputs": [
    {
     "data": {
      "text/plain": [
       "Counter({'a': 110, 'b': 6, 'c': 1})"
      ]
     },
     "execution_count": 123,
     "metadata": {},
     "output_type": "execute_result"
    }
   ],
   "source": [
    "c = Counter(a=10,b=4,c=1)\n",
    "d = Counter(a=100,b=2)\n",
    "c+d"
   ]
  },
  {
   "cell_type": "code",
   "execution_count": 124,
   "id": "549fb4a5-df4c-41ab-9bf2-e8876a9a43ce",
   "metadata": {},
   "outputs": [
    {
     "data": {
      "text/plain": [
       "Counter({'a': 10, 'b': 2})"
      ]
     },
     "execution_count": 124,
     "metadata": {},
     "output_type": "execute_result"
    }
   ],
   "source": [
    "c & d  # 교집합   # 두개의 동일한 요소가 있을때 작은 값을 출력\n"
   ]
  },
  {
   "cell_type": "code",
   "execution_count": 125,
   "id": "b6f04e5e-93a3-4a20-b858-6234e3c70901",
   "metadata": {},
   "outputs": [
    {
     "data": {
      "text/plain": [
       "Counter({'a': 100, 'b': 4, 'c': 1})"
      ]
     },
     "execution_count": 125,
     "metadata": {},
     "output_type": "execute_result"
    }
   ],
   "source": [
    "c | d  # # 두개의 동일한 요소가 있을때 큰 값을 출력"
   ]
  },
  {
   "cell_type": "code",
   "execution_count": 129,
   "id": "59c60448-958f-4dfa-9aba-25748ea0e5dc",
   "metadata": {},
   "outputs": [],
   "source": [
    "# 임의의 문장들을 text 변수에 넣어서 각 단어형태가 각각 몇번 나오는지 횟수를 출력\n",
    "text = '이날 오후 6시10분쯤 전국 각지 하늘에서 정체를 알 수 없는 비행물체가 흔적을 남겼다는 \\\n",
    "목격담이 이어졌다.서울 동작구 사당동에 사는 임다정(25)씨는 본지에 “집 옥상에 올라가있었는데 \\\n",
    "정체 모를 비행물체가 날아다니는 것처럼 보였다”며 “처음엔 미사일인줄 알았다”고 했다. 소셜미디어에는\\\n",
    "“하늘에서 빛이 꼬리를 이으며 지나갔다” “무지갯빛 연기가 보였다”는 글이 잇따라 올라왔다.온·오프라인을 달군\\\n",
    "‘미확인 비행체’의 정체는 우주발사체 시험 비행이었다. 이날 6시45분쯤 국방부는 “현재 전국 각지에서 관측되고 \\\n",
    "있는 미상 비행체는고체추진 우주발사체의 시험 비행”이라고 밝혔다.'"
   ]
  },
  {
   "cell_type": "code",
   "execution_count": 133,
   "id": "0d01ed37-2edd-42f6-a18c-9b9410ac71ac",
   "metadata": {},
   "outputs": [
    {
     "data": {
      "text/plain": [
       "Counter({'이날': 2,\n",
       "         '오후': 1,\n",
       "         '6시10분쯤': 1,\n",
       "         '전국': 2,\n",
       "         '각지': 1,\n",
       "         '하늘에서': 1,\n",
       "         '정체를': 1,\n",
       "         '알': 1,\n",
       "         '수': 1,\n",
       "         '없는': 1,\n",
       "         '비행물체가': 2,\n",
       "         '흔적을': 1,\n",
       "         '남겼다는': 1,\n",
       "         '목격담이': 1,\n",
       "         '이어졌다.서울': 1,\n",
       "         '동작구': 1,\n",
       "         '사당동에': 1,\n",
       "         '사는': 1,\n",
       "         '임다정(25)씨는': 1,\n",
       "         '본지에': 1,\n",
       "         '“집': 1,\n",
       "         '옥상에': 1,\n",
       "         '올라가있었는데': 1,\n",
       "         '정체': 1,\n",
       "         '모를': 1,\n",
       "         '날아다니는': 1,\n",
       "         '것처럼': 1,\n",
       "         '보였다”며': 1,\n",
       "         '“처음엔': 1,\n",
       "         '미사일인줄': 1,\n",
       "         '알았다”고': 1,\n",
       "         '했다.': 1,\n",
       "         '소셜미디어에는“하늘에서': 1,\n",
       "         '빛이': 1,\n",
       "         '꼬리를': 1,\n",
       "         '이으며': 1,\n",
       "         '지나갔다”': 1,\n",
       "         '“무지갯빛': 1,\n",
       "         '연기가': 1,\n",
       "         '보였다”는': 1,\n",
       "         '글이': 1,\n",
       "         '잇따라': 1,\n",
       "         '올라왔다.온·오프라인을': 1,\n",
       "         '달군‘미확인': 1,\n",
       "         '비행체’의': 1,\n",
       "         '정체는': 1,\n",
       "         '우주발사체': 1,\n",
       "         '시험': 2,\n",
       "         '비행이었다.': 1,\n",
       "         '6시45분쯤': 1,\n",
       "         '국방부는': 1,\n",
       "         '“현재': 1,\n",
       "         '각지에서': 1,\n",
       "         '관측되고': 1,\n",
       "         '있는': 1,\n",
       "         '미상': 1,\n",
       "         '비행체는고체추진': 1,\n",
       "         '우주발사체의': 1,\n",
       "         '비행”이라고': 1,\n",
       "         '밝혔다.': 1})"
      ]
     },
     "execution_count": 133,
     "metadata": {},
     "output_type": "execute_result"
    }
   ],
   "source": [
    "Counter(text.split())"
   ]
  },
  {
   "cell_type": "markdown",
   "id": "bacc2bd9-f9b7-4d79-a8dc-d80a830319bb",
   "metadata": {},
   "source": [
    "# 파이썬 코딩 스타일"
   ]
  },
  {
   "cell_type": "code",
   "execution_count": 135,
   "id": "08c8d525-c7f6-4995-bb84-57fcc3fb9458",
   "metadata": {},
   "outputs": [
    {
     "data": {
      "text/plain": [
       "['red', 'blue', 'green', 'yello']"
      ]
     },
     "execution_count": 135,
     "metadata": {},
     "output_type": "execute_result"
    }
   ],
   "source": [
    "colors = ['red','blue','green','yello']\n",
    "colors"
   ]
  },
  {
   "cell_type": "code",
   "execution_count": 136,
   "id": "a2eedec5-b25a-48c1-b947-ed4e9a866893",
   "metadata": {},
   "outputs": [
    {
     "data": {
      "text/plain": [
       "'redbluegreenyello'"
      ]
     },
     "execution_count": 136,
     "metadata": {},
     "output_type": "execute_result"
    }
   ],
   "source": [
    "'redbluegreenyello'"
   ]
  },
  {
   "cell_type": "code",
   "execution_count": 137,
   "id": "7987cf44-d8a2-465d-b31f-f8350bcb20f7",
   "metadata": {},
   "outputs": [
    {
     "data": {
      "text/plain": [
       "'redbluegreenyello'"
      ]
     },
     "execution_count": 137,
     "metadata": {},
     "output_type": "execute_result"
    }
   ],
   "source": [
    "result = ''\n",
    "for s in colors:\n",
    "    result +=  s\n",
    "result    "
   ]
  },
  {
   "cell_type": "code",
   "execution_count": 142,
   "id": "625f70b0-8c1c-45f3-95ca-c0107a28ae59",
   "metadata": {},
   "outputs": [
    {
     "data": {
      "text/plain": [
       "'redbluegreenyello'"
      ]
     },
     "execution_count": 142,
     "metadata": {},
     "output_type": "execute_result"
    }
   ],
   "source": [
    "''.join(colors)"
   ]
  },
  {
   "cell_type": "markdown",
   "id": "c359a362-8087-4068-8d82-f1c896527d2a",
   "metadata": {},
   "source": [
    "# 문자열 분리 split()"
   ]
  },
  {
   "cell_type": "code",
   "execution_count": 144,
   "id": "67eba207-76ae-4b91-b9e3-41c289d03e8c",
   "metadata": {},
   "outputs": [
    {
     "data": {
      "text/plain": [
       "['zero', 'one', 'two', 'three']"
      ]
     },
     "execution_count": 144,
     "metadata": {},
     "output_type": "execute_result"
    }
   ],
   "source": [
    "items = 'zero one two three'.split()\n",
    "items"
   ]
  },
  {
   "cell_type": "code",
   "execution_count": 145,
   "id": "c6a4c0d0-162c-4649-8995-29086bbb74a3",
   "metadata": {},
   "outputs": [
    {
     "data": {
      "text/plain": [
       "['zero,one,two,three']"
      ]
     },
     "execution_count": 145,
     "metadata": {},
     "output_type": "execute_result"
    }
   ],
   "source": [
    "items = 'zero,one,two,three'.split()\n",
    "items"
   ]
  },
  {
   "cell_type": "code",
   "execution_count": 147,
   "id": "b6a4eb9c-a017-4b5d-b182-4c9f3292ab5c",
   "metadata": {},
   "outputs": [
    {
     "data": {
      "text/plain": [
       "['zero', 'one', 'two', 'three']"
      ]
     },
     "execution_count": 147,
     "metadata": {},
     "output_type": "execute_result"
    }
   ],
   "source": [
    "items = 'zero:one:two:three'.split(':')\n",
    "items"
   ]
  },
  {
   "cell_type": "markdown",
   "id": "ee60fbb9-b15e-4889-be7a-f1d40d7eb563",
   "metadata": {},
   "source": [
    "# 리스트 컴프리핸션  list comprehension"
   ]
  },
  {
   "cell_type": "code",
   "execution_count": 148,
   "id": "28931eed-35ca-4f6c-a845-127018d3992f",
   "metadata": {},
   "outputs": [],
   "source": [
    "result = []\n",
    "for i in range(10):\n",
    "    result.append(i)"
   ]
  },
  {
   "cell_type": "code",
   "execution_count": 149,
   "id": "aa3a216b-7deb-433c-9945-805701c3bb96",
   "metadata": {},
   "outputs": [
    {
     "data": {
      "text/plain": [
       "[0, 1, 2, 3, 4, 5, 6, 7, 8, 9]"
      ]
     },
     "execution_count": 149,
     "metadata": {},
     "output_type": "execute_result"
    }
   ],
   "source": [
    "result"
   ]
  },
  {
   "cell_type": "code",
   "execution_count": 151,
   "id": "f9572c7e-b35b-4995-b80f-8221a4b9dec0",
   "metadata": {},
   "outputs": [],
   "source": [
    "result = [i for i in range(10)]"
   ]
  },
  {
   "cell_type": "code",
   "execution_count": 152,
   "id": "55b1714e-f65f-46a7-8569-b509dde88124",
   "metadata": {},
   "outputs": [
    {
     "data": {
      "text/plain": [
       "[0, 1, 2, 3, 4, 5, 6, 7, 8, 9]"
      ]
     },
     "execution_count": 152,
     "metadata": {},
     "output_type": "execute_result"
    }
   ],
   "source": [
    "result"
   ]
  },
  {
   "cell_type": "code",
   "execution_count": 155,
   "id": "42500078-45df-4516-bdae-a125e32567a2",
   "metadata": {},
   "outputs": [],
   "source": [
    "result = []\n",
    "for i in range(10):\n",
    "    if i % 2 == 0:\n",
    "        result.append(i)"
   ]
  },
  {
   "cell_type": "code",
   "execution_count": 156,
   "id": "b9aa3875-6514-4a1b-9c8b-32827be940e0",
   "metadata": {},
   "outputs": [
    {
     "data": {
      "text/plain": [
       "[0, 2, 4, 6, 8]"
      ]
     },
     "execution_count": 156,
     "metadata": {},
     "output_type": "execute_result"
    }
   ],
   "source": [
    "result"
   ]
  },
  {
   "cell_type": "code",
   "execution_count": 158,
   "id": "9e61536f-c852-4acf-be16-f307d38f8b8d",
   "metadata": {},
   "outputs": [
    {
     "data": {
      "text/plain": [
       "[0, 2, 4, 6, 8]"
      ]
     },
     "execution_count": 158,
     "metadata": {},
     "output_type": "execute_result"
    }
   ],
   "source": [
    "[i for i in range(10) if i % 2 == 0]"
   ]
  },
  {
   "cell_type": "code",
   "execution_count": 159,
   "id": "b997824d-5b67-4ed6-93d4-5e994e242a22",
   "metadata": {},
   "outputs": [
    {
     "data": {
      "text/plain": [
       "[1, 3, 5, 7, 9]"
      ]
     },
     "execution_count": 159,
     "metadata": {},
     "output_type": "execute_result"
    }
   ],
   "source": [
    "[i for i in range(10) if i % 2 != 0]"
   ]
  },
  {
   "cell_type": "code",
   "execution_count": 161,
   "id": "2008d30d-ff14-497b-9169-e4d58c92cf21",
   "metadata": {},
   "outputs": [
    {
     "data": {
      "text/plain": [
       "[0, -1, 2, -1, 4, -1, 6, -1, 8, -1]"
      ]
     },
     "execution_count": 161,
     "metadata": {},
     "output_type": "execute_result"
    }
   ],
   "source": [
    "# 리스트컴프리핸션으로 짝수는 그대로 출력하고 홀수면 0\n",
    "result = []\n",
    "for i in range(10):\n",
    "    if i % 2 == 0:\n",
    "        result.append(i)\n",
    "    else:\n",
    "        result.append(-1)\n",
    "result        "
   ]
  },
  {
   "cell_type": "code",
   "execution_count": 162,
   "id": "f8f75af1-036c-43c0-af6b-62d5eae2427b",
   "metadata": {},
   "outputs": [
    {
     "data": {
      "text/plain": [
       "[0, -1, 2, -1, 4, -1, 6, -1, 8, -1]"
      ]
     },
     "execution_count": 162,
     "metadata": {},
     "output_type": "execute_result"
    }
   ],
   "source": [
    "#                     [i for i in range(10) if i % 2 == 0]\n",
    "[i if i % 2 == 0 else -1 for i in range(10) ]"
   ]
  },
  {
   "cell_type": "markdown",
   "id": "0dddebc3-2840-463b-ae29-6f0c6dba8b52",
   "metadata": {},
   "source": [
    "# 리스트 컴프리핸션 중첩 반복문"
   ]
  },
  {
   "cell_type": "code",
   "execution_count": 167,
   "id": "d88de170-801a-4d6f-9a1c-d6584f70b03f",
   "metadata": {
    "collapsed": true,
    "jupyter": {
     "outputs_hidden": true
    },
    "tags": []
   },
   "outputs": [
    {
     "data": {
      "text/plain": [
       "['HW',\n",
       " 'Ho',\n",
       " 'Hr',\n",
       " 'Hl',\n",
       " 'Hd',\n",
       " 'eW',\n",
       " 'eo',\n",
       " 'er',\n",
       " 'el',\n",
       " 'ed',\n",
       " 'lW',\n",
       " 'lo',\n",
       " 'lr',\n",
       " 'll',\n",
       " 'ld',\n",
       " 'lW',\n",
       " 'lo',\n",
       " 'lr',\n",
       " 'll',\n",
       " 'ld',\n",
       " 'oW',\n",
       " 'oo',\n",
       " 'or',\n",
       " 'ol',\n",
       " 'od']"
      ]
     },
     "execution_count": 167,
     "metadata": {},
     "output_type": "execute_result"
    }
   ],
   "source": [
    "world1 = 'Hello'\n",
    "world2 = 'World'\n",
    "result = []\n",
    "for i in world1:\n",
    "    for j in world2:\n",
    "        result.append(i+j)\n",
    "result  "
   ]
  },
  {
   "cell_type": "code",
   "execution_count": 168,
   "id": "d19bd318-0160-4b94-a203-a64c7f6e43bc",
   "metadata": {
    "collapsed": true,
    "jupyter": {
     "outputs_hidden": true
    },
    "tags": []
   },
   "outputs": [
    {
     "data": {
      "text/plain": [
       "['HW',\n",
       " 'eW',\n",
       " 'lW',\n",
       " 'lW',\n",
       " 'oW',\n",
       " 'Ho',\n",
       " 'eo',\n",
       " 'lo',\n",
       " 'lo',\n",
       " 'oo',\n",
       " 'Hr',\n",
       " 'er',\n",
       " 'lr',\n",
       " 'lr',\n",
       " 'or',\n",
       " 'Hl',\n",
       " 'el',\n",
       " 'll',\n",
       " 'll',\n",
       " 'ol',\n",
       " 'Hd',\n",
       " 'ed',\n",
       " 'ld',\n",
       " 'ld',\n",
       " 'od']"
      ]
     },
     "execution_count": 168,
     "metadata": {},
     "output_type": "execute_result"
    }
   ],
   "source": [
    "[i+j for j in world2 for i in world1]"
   ]
  },
  {
   "cell_type": "markdown",
   "id": "fc366681-fe95-4642-b36c-c49b73d2ca99",
   "metadata": {},
   "source": [
    "# 리스트 컴프리 핸션, 2차원 리스트"
   ]
  },
  {
   "cell_type": "code",
   "execution_count": 170,
   "id": "4b2a19c7-dc39-4bca-9d30-23ae1ceb805f",
   "metadata": {},
   "outputs": [
    {
     "data": {
      "text/plain": [
       "[[0, 2, 4, 6, 8], [1, 3, 5, 7, 9]]"
      ]
     },
     "execution_count": 170,
     "metadata": {},
     "output_type": "execute_result"
    }
   ],
   "source": [
    "# 0 ~ 9사이의 데이터중에서 짝수와 홀수로 이루어진 이차원 리스트를\n",
    "[\n",
    "    [0,2,4,6,8],\n",
    "    [1,3,5,7,9]\n",
    "]"
   ]
  },
  {
   "cell_type": "code",
   "execution_count": 172,
   "id": "d5caf5fd-0fbf-4aae-bbe8-95bd39cf50a8",
   "metadata": {},
   "outputs": [],
   "source": [
    "result = [[],[]]\n",
    "for i in range(10):\n",
    "    if i%2 ==0:\n",
    "        result[0].append(i)\n",
    "    else:\n",
    "        result[1].append(i)"
   ]
  },
  {
   "cell_type": "code",
   "execution_count": 173,
   "id": "784dddd9-f1a8-432e-b0f9-5ca608c6cc93",
   "metadata": {},
   "outputs": [
    {
     "data": {
      "text/plain": [
       "[[0, 2, 4, 6, 8], [1, 3, 5, 7, 9]]"
      ]
     },
     "execution_count": 173,
     "metadata": {},
     "output_type": "execute_result"
    }
   ],
   "source": [
    "result"
   ]
  },
  {
   "cell_type": "code",
   "execution_count": 180,
   "id": "54ece905-bf0f-4ad4-b7b2-70ac20cd4f05",
   "metadata": {},
   "outputs": [
    {
     "data": {
      "text/plain": [
       "[[0, 2, 4, 6, 8], [1, 3, 5, 7, 9]]"
      ]
     },
     "execution_count": 180,
     "metadata": {},
     "output_type": "execute_result"
    }
   ],
   "source": [
    "[[i for i in range(10) if i%2==0], [i for i in range(10) if i%2!=0]]"
   ]
  },
  {
   "cell_type": "code",
   "execution_count": 181,
   "id": "cb65a749-14e3-4d7e-b5f0-5d49cc7136a7",
   "metadata": {},
   "outputs": [
    {
     "data": {
      "text/plain": [
       "['i', 'love', 'you']"
      ]
     },
     "execution_count": 181,
     "metadata": {},
     "output_type": "execute_result"
    }
   ],
   "source": [
    "text = 'i love you'.split()\n",
    "text"
   ]
  },
  {
   "cell_type": "code",
   "execution_count": 184,
   "id": "6d2310c3-daaa-4557-80a9-3229983c37ac",
   "metadata": {},
   "outputs": [
    {
     "data": {
      "text/plain": [
       "[['I', 'i', 1], ['LOVE', 'love', 4], ['YOU', 'you', 3]]"
      ]
     },
     "execution_count": 184,
     "metadata": {},
     "output_type": "execute_result"
    }
   ],
   "source": [
    "[[i.upper(),i.lower(), len(i)] for i in text ]"
   ]
  },
  {
   "cell_type": "code",
   "execution_count": 185,
   "id": "eb647d5a-f89f-474f-bfb4-679521014878",
   "metadata": {},
   "outputs": [],
   "source": [
    "case1 = ['A','B','C']\n",
    "case2 = ['D','E','F']"
   ]
  },
  {
   "cell_type": "code",
   "execution_count": 188,
   "id": "bf60d679-6e0a-4b73-a65c-7938814f9ec3",
   "metadata": {},
   "outputs": [
    {
     "data": {
      "text/plain": [
       "['AD', 'BD', 'CD', 'AE', 'BE', 'CE', 'AF', 'BF', 'CF']"
      ]
     },
     "execution_count": 188,
     "metadata": {},
     "output_type": "execute_result"
    }
   ],
   "source": [
    "result = [i+j for j in case2 for i in case1]\n",
    "result"
   ]
  },
  {
   "cell_type": "code",
   "execution_count": 189,
   "id": "e3456e9e-d274-4f91-a84a-17391f820ae6",
   "metadata": {},
   "outputs": [],
   "source": [
    "# [['AD', 'BD', 'CD'], ['AE', 'BE', 'CE'], ['AF', 'BF', 'CF']]"
   ]
  },
  {
   "cell_type": "code",
   "execution_count": 190,
   "id": "53d50af3-a08f-4a1e-828e-0d98a87c7daa",
   "metadata": {},
   "outputs": [
    {
     "data": {
      "text/plain": [
       "[['AD', 'AE', 'AF'], ['BD', 'BE', 'BF'], ['CD', 'CE', 'CF']]"
      ]
     },
     "execution_count": 190,
     "metadata": {},
     "output_type": "execute_result"
    }
   ],
   "source": [
    "result = [ [i+j for j in case2] for i in case1]\n",
    "result"
   ]
  },
  {
   "cell_type": "code",
   "execution_count": 203,
   "id": "9badb6b1-8c61-414e-99a5-5533aafcaf49",
   "metadata": {},
   "outputs": [],
   "source": [
    "import time\n",
    "scalar = 2\n",
    "iteration_max = 5000\n",
    "vector = list(range(iteration_max))\n",
    "result = []"
   ]
  },
  {
   "cell_type": "code",
   "execution_count": 204,
   "id": "47b67bf2-e5eb-4899-a830-69f753effdea",
   "metadata": {},
   "outputs": [
    {
     "data": {
      "text/plain": [
       "3.9994494915008545"
      ]
     },
     "execution_count": 204,
     "metadata": {},
     "output_type": "execute_result"
    }
   ],
   "source": [
    "s = time.time()\n",
    "\n",
    "for _ in range(iteration_max):\n",
    "    for i in range(iteration_max):\n",
    "        result.append(scalar*i)\n",
    "\n",
    "e = time.time()\n",
    "e - s"
   ]
  },
  {
   "cell_type": "code",
   "execution_count": 205,
   "id": "0d5aeb2d-5e76-4c89-9ec4-78c7192da160",
   "metadata": {},
   "outputs": [
    {
     "data": {
      "text/plain": [
       "1.8712658882141113"
      ]
     },
     "execution_count": 205,
     "metadata": {},
     "output_type": "execute_result"
    }
   ],
   "source": [
    "s = time.time()\n",
    "\n",
    "for _ in range(iteration_max):    \n",
    "    result = [scalar*i for i in range(iteration_max)]\n",
    "    \n",
    "e = time.time()\n",
    "e - s"
   ]
  },
  {
   "cell_type": "code",
   "execution_count": 206,
   "id": "8fc79904-3d38-4bb2-a3a8-d7c28ef94620",
   "metadata": {},
   "outputs": [],
   "source": [
    "from random import sample"
   ]
  },
  {
   "cell_type": "code",
   "execution_count": 213,
   "id": "3bb5ad0b-0824-4a41-8076-1d78c2be276e",
   "metadata": {},
   "outputs": [],
   "source": [
    "temp = sample(range(100), 10)"
   ]
  },
  {
   "cell_type": "code",
   "execution_count": 215,
   "id": "d9cf55b4-546e-4a00-b879-79a1ebfe1b2a",
   "metadata": {},
   "outputs": [
    {
     "name": "stdout",
     "output_type": "stream",
     "text": [
      "[76, 82, 15, 3, 53, 37, 95, 78, 77, 94]\n",
      "76\n",
      "15\n",
      "53\n",
      "95\n",
      "77\n"
     ]
    }
   ],
   "source": [
    "# 랜덤한 리스트중에서 2칸 이동하면서 출력\n",
    "#0 2 4 6 8\n",
    "print(temp)\n",
    "count = 0\n",
    "for i in temp:    \n",
    "    if count %2 ==0:    \n",
    "        print(i)\n",
    "    count += 1    "
   ]
  },
  {
   "cell_type": "code",
   "execution_count": 217,
   "id": "48e5aa6c-cb4d-4363-85bb-73234f61f450",
   "metadata": {},
   "outputs": [
    {
     "data": {
      "text/plain": [
       "[(0, 76),\n",
       " (1, 82),\n",
       " (2, 15),\n",
       " (3, 3),\n",
       " (4, 53),\n",
       " (5, 37),\n",
       " (6, 95),\n",
       " (7, 78),\n",
       " (8, 77),\n",
       " (9, 94)]"
      ]
     },
     "execution_count": 217,
     "metadata": {},
     "output_type": "execute_result"
    }
   ],
   "source": [
    "list(enumerate(temp))"
   ]
  },
  {
   "cell_type": "code",
   "execution_count": 219,
   "id": "42fbbaf5-bb0e-4327-9366-0ab421900227",
   "metadata": {},
   "outputs": [
    {
     "name": "stdout",
     "output_type": "stream",
     "text": [
      "76\n",
      "15\n",
      "53\n",
      "95\n",
      "77\n"
     ]
    }
   ],
   "source": [
    "for idx, value in enumerate(temp):\n",
    "    if idx % 2 == 0:\n",
    "        print(value)"
   ]
  },
  {
   "cell_type": "code",
   "execution_count": 221,
   "id": "9d8d5e07-0771-4dd8-bda1-6a73445fbad3",
   "metadata": {},
   "outputs": [
    {
     "name": "stdout",
     "output_type": "stream",
     "text": [
      "짝수\n"
     ]
    }
   ],
   "source": [
    "temp = 2\n",
    "if temp%2 ==0:print(\"짝수\")"
   ]
  },
  {
   "cell_type": "code",
   "execution_count": 224,
   "id": "feef0a70-8fe6-4b01-8a91-bf84866ae994",
   "metadata": {},
   "outputs": [],
   "source": [
    "# result = []\n",
    "# for i in range(10):\n",
    "#     if i%2 == 0:\n",
    "#         result.append(i)\n",
    "result = [i for i in range(10) if i%2 == 0]"
   ]
  },
  {
   "cell_type": "code",
   "execution_count": 225,
   "id": "a3d9479a-f595-4165-843b-c0d25e847cfa",
   "metadata": {},
   "outputs": [
    {
     "data": {
      "text/plain": [
       "[0, 2, 4, 6, 8]"
      ]
     },
     "execution_count": 225,
     "metadata": {},
     "output_type": "execute_result"
    }
   ],
   "source": [
    "result"
   ]
  },
  {
   "cell_type": "code",
   "execution_count": null,
   "id": "d15f7b39-70a4-4ff6-b6de-00506bfb891d",
   "metadata": {},
   "outputs": [],
   "source": []
  }
 ],
 "metadata": {
  "kernelspec": {
   "display_name": "Python 3 (ipykernel)",
   "language": "python",
   "name": "python3"
  },
  "language_info": {
   "codemirror_mode": {
    "name": "ipython",
    "version": 3
   },
   "file_extension": ".py",
   "mimetype": "text/x-python",
   "name": "python",
   "nbconvert_exporter": "python",
   "pygments_lexer": "ipython3",
   "version": "3.10.8"
  }
 },
 "nbformat": 4,
 "nbformat_minor": 5
}
